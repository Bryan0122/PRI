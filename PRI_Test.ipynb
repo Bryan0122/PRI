{
  "nbformat": 4,
  "nbformat_minor": 0,
  "metadata": {
    "colab": {
      "name": "PRI_Test",
      "provenance": [],
      "include_colab_link": true
    },
    "kernelspec": {
      "name": "python3",
      "display_name": "Python 3"
    }
  },
  "cells": [
    {
      "cell_type": "markdown",
      "metadata": {
        "id": "view-in-github",
        "colab_type": "text"
      },
      "source": [
        "<a href=\"https://colab.research.google.com/github/Bryan0122/PRI/blob/master/PRI_Test.ipynb\" target=\"_parent\"><img src=\"https://colab.research.google.com/assets/colab-badge.svg\" alt=\"Open In Colab\"/></a>"
      ]
    },
    {
      "cell_type": "markdown",
      "metadata": {
        "id": "RtxiU1Nno96E",
        "colab_type": "text"
      },
      "source": [
        "### **PRI  (Principio de relevancia de informacion)**\n",
        "\n",
        "En esta seccion se derrolla el metodo del PRI con las siguientes metodologias, teniendo en cuenta la formula del PRI que está determinada por:\n",
        "\\\n",
        "$$ L[p(X/X_{o})]= H_{2}(X)+\\lambda D_{cs}(X,X_{o}) $$\n",
        "\\\n",
        "minimizando $L$ respecto $X$ se tiene:\\\n",
        "\\\n",
        "$$ J(X)=min_{x}[H_{2}(X)+ \\lambda (2H_{2}(X,X_{o})-H_{2}(X)-H(X_{o}))]$$\n",
        "\\\n",
        "dado que $H_{2}(X_{o})$ es constante se tiene  \n",
        "\\\n",
        "$$ J(X)=min_{x}[(1-\\lambda)H_{2}(X)+2\\lambda H_{2}(X,X_{o})]$$ \n",
        "\\\n",
        "Antes de realizar la minimizacion se analizan los posibles valores de $\\lambda$ siendo de interes el rango comprendido para $1<\\lambda<\\infty$ , por tanto, se procede con la minimizacion dependiendo de los siguientes casos\n",
        "\\\n",
        "$$J(X)=-(1-\\lambda)log(V(X))-2\\lambda log(V(X,X_{o}))$$\n",
        "\\\n",
        "Donde $V(X)$ y $V(X,X_{o})$ estan definidos como:\n",
        "\\\n",
        "$$V(X)=\\frac{1}{N^{2}}\\sum_{i=1}^{N}\\sum_{j=1}^{N}G_{\\sigma}(x_{i}-x_{j} )$$\n",
        "\\\n",
        "$$V(X,X_{o})=\\frac{1}{NN_{o}}\\sum_{i=1}^{N}\\sum_{j=1}^{N_{o}}G_{\\sigma}(x_{i}-x_{oj})$$\n",
        "\\\n",
        "Por tanto, al minimizar $J(X)$ respecto a $x$ se tiene:\n",
        "\n",
        "$$ J(X)= min_{x}[-(1-\\lambda)\\log(V(X))-2\\lambda\\log(V(X,X_{o}))]$$\n",
        "\\\n",
        "$$\\frac{d J(X)}{dx_{k}}=\\frac{2(1-\\lambda)}{V(X)}F(x_{k})+\\frac{2}{V(X,X_{o})}F(x,X_{o})=0$$\n",
        "\\\n",
        "$$\\frac{d J(X)}{dx_{k}}=\\frac{2N(1-\\lambda)}{ \\sigma^{2}}\\frac{\\sum_{j=1}^{N}G_{\\sigma}(x_{k}-x_{j})(x_{k}-x_{j})}{\\sum_{i=1}^{N}\\sum_{j=1}^{N}G_{\\sigma}(x_{i}-x_{j} )}+\\frac{2N}{\\sigma^{2}}\\frac{\\sum_{j=1}^{N_{o}}G_{\\sigma}(x_{k}-x_{oj})(x_{k}-x_{oj})}{\\sum_{i=1}^{N}\\sum_{j=1}^{N}G_{\\sigma}(x_{i}-x_{oj} )}$$\n",
        "\\\n",
        "\\\n",
        "$$X\\in R^{N'\\times D}, donde [x_{i},x_{j}\\in R^{D}(i,j):1,..,N'] $$\n",
        "\\\n",
        "$$X_{o}\\in R^{N\\times D}, donde [x_{i},x_{j}\\in R^{D}(i,j):1,..,N] $$\n",
        "\\\n",
        "$$K=k(x_{i},x_{j})\\in R^{N'\\times N'} $$\n",
        "\\\n",
        "$$K_{o}=k(x_{i},x_{oj})\\in R^{N\\times N'} $$\n",
        "\\\n",
        "$$c=\\frac{2N}{ \\sigma^{2}}$$\n",
        "\\\n",
        "$$I'\\in R^{N};I_{i}=1\\forall i=1,..,N'$$\n",
        "\\\n",
        "$$I\\in R^{N};I_{i}=1\\forall i=1,..,N$$\n",
        "\\\n",
        "$$I_{m}'\\in R^{N'\\times D};I_{i,..,D}=1\\forall i,j=1,..,N'$$\n",
        "\\\n",
        "$$I_{m}\\in R^{N\\times D};I_{i,..,D}=1\\forall i=1,..,N$$\n",
        "\\\n",
        "$$\\frac{d J(X)}{dx_{k}}=c(1-\\lambda)\\frac{KX-KI_{m}'*X}{I'K(I')^{T}}+c\\frac{K_{o}X_{o}-K_{o}I_{m}X}{IK_{o}(I')^{T}}$$\n",
        "\\\n",
        "Donde $F(x_{k})$ y $F(x,X_{o})$ estan definidos como:\n",
        "\\\n",
        "$$F(x_{k})=\\frac{-1}{N \\sigma^{2}}\\sum_{j=1}^{N}G_{\\sigma}(x_{k}-x_{j})(x_{k}-x_{j})$$ \n",
        "$$F(x;X_{o})=\\frac{-1}{N_{o} \\sigma^{2}}\\sum_{j=1}^{N_{o}}G_{\\sigma}(x_{k}-x_{oj})(x_{k}-x_{oj})$$ \n",
        "\n",
        "1.   FP (punto Fijo)\n",
        "\\\n",
        "Para esta metodologia se despeja la derivada en terminos de $x_{k}$, dando como resultado:\n",
        "$$\\frac{(1-\\lambda)}{NV(X)}\\sum_{j=1}^{N}G_{\\sigma}(x_{k}-x_{j})(x_{j}-x_{k})=\\frac{\\lambda}{N_{o}V(X,X_{o})}\\sum_{j=1}^{N_{o}}G_{\\sigma}(x_{k}-x_{oj})(x_{k}-x_{oj})$$\n",
        "\\\n",
        "$$x_{k}(n+1)=c\\frac{(1-\\lambda)}{\\lambda}\\frac{\\sum_{j=1}^{N}G_{\\sigma}(x_{k}-x_{j})x_{j}}{\\sum_{j=1}^{N_{o}}G_{\\sigma}(x_{k}-x_{oj})}+\\frac{\\sum_{j=1}^{N_{o}}G_{\\sigma}(x_{k}-x_{oj})x_{oj}}{\\sum_{j=1}^{N_{o}}G_{\\sigma}(x_{k}-x_{oj})}-c\\frac{(1-\\lambda)}{\\lambda}\\frac{\\sum_{j=1}^{N}G_{\\sigma}(x_{k}-x_{j})x_{k}}{\\sum_{j=1}^{N_{o}}G_{\\sigma}(x_{k}-x_{oj})}$$\n",
        "\\\n",
        "Donde el parametro $c$ corresponde a:\n",
        "\\\n",
        "\\\n",
        "$c=\\frac{N_{o}V(X,X_{o})}{NV(X)}$ \n",
        "\n",
        "2.   SGD (Gradiente descendiente estocastico)\n",
        "\\\n",
        "Para esta metogologia el calculo de $x_{k+1}$ esta dado por:\n",
        "\\\n",
        "$$x_{k+1}=x_{k}-\\gamma \\frac{d J(X)}{dx_{k}}$$\n",
        "\\\n",
        "$$X_{k+1}=X_{k}-\\gamma(c(1-\\lambda)\\frac{KX_{k}-KI_{m}'*X_{k}}{I'K(I')^{T}}+c\\frac{K_{o}X_{o}-K_{o}I_{m}X_{k}}{IK_{o}(I')^{T}})$$\n",
        "3.   SGD por mini lotes\n",
        "\\\n",
        "Para esta metogologia el calculo de $x_{k+1}$ esta dado por:\n",
        "\\\n",
        "$$x_{k+1}=x_{k}-\\gamma \\frac{d J(X)}{dx_{k}}$$\n",
        "\\\n",
        "Donde bs hace referencia al tamaño del lote, la presente metodologia está expresada como:\n",
        "\\\n",
        "$$J(X)=\\frac{1}{bs} \\sum_{z=0}^{bs} c(1-\\lambda)\\frac{KX-KI_{m}'*X}{I'K(I')^{T}}+c\\frac{K_{o}X_{o}^{z}-K_{o}I_{m}X}{IK_{o}(I')^{T}})$$\n",
        "\\\n",
        "$$x_{k+1}=x_{k}-\\gamma(J(X))$$"
      ]
    },
    {
      "cell_type": "markdown",
      "metadata": {
        "id": "qtHAKCIJ2aeF",
        "colab_type": "text"
      },
      "source": [
        "**Recomendación antes de iniciar**"
      ]
    },
    {
      "cell_type": "markdown",
      "metadata": {
        "id": "DKQVQyj62ghA",
        "colab_type": "text"
      },
      "source": [
        "**Prevenir ser desconectado de Google colab**\\\n",
        "Es un problema comun pero facil de corregir, para eso es necesario seguir los siguientes pasos\n",
        "1. Presionar la secuencia Crtl+Shift+i, a continuacion se desplegara una ventana adyacente, en dicha ventana buscar y posteriormente hacer click en la seccion Consola o Console.\n",
        "2. Una vez alli, en la parte final de la ventana podrá observar un cuadro de texto por favor introducir el siguiente codigo:\n",
        "\\\n",
        "\n",
        "```\n",
        "function ClickConnect(){\n",
        "console.log(\"Working\"); \n",
        "document.querySelector(\"colab-toolbar-button#connect\").click() \n",
        "}\n",
        "setInterval(ClickConnect,60000) \n",
        "```\n",
        "3. Presione posteriormente Enter, luego deberá observar un mensaje que dice \"working\", en caso de un error introducir el siguiente codigo:\n",
        "\\\n",
        "\n",
        "```\n",
        "function ClickConnect(){\n",
        "console.log(\"Working\"); \n",
        "document.querySelector(\"colab-toolbar-button\").click() \n",
        "}setInterval(ClickConnect,60000)\n",
        "```\n"
      ]
    },
    {
      "cell_type": "markdown",
      "metadata": {
        "id": "LEatf1gm6IJl",
        "colab_type": "text"
      },
      "source": [
        "**Cargar funciones desde un .ZIP**"
      ]
    },
    {
      "cell_type": "code",
      "metadata": {
        "id": "DlElKF7j0Tbc",
        "colab_type": "code",
        "outputId": "eddb8285-c5fe-4510-c058-882dd6b3fe50",
        "colab": {
          "base_uri": "https://localhost:8080/",
          "height": 642
        }
      },
      "source": [
        "#https://drive.google.com/file/d/1_7TT83TiGF1Dnr--2iAfJqNj_Q3se_AL/view?usp=sharing\n",
        "#https://drive.google.com/open?id=1Swni4KqUe9gu3enPqBQUH4aYl0PRxzDH\n",
        "#id del archivo: 1Swni4KqUe9gu3enPqBQUH4aYl0PRxzDH\n",
        "FILEID = \"1Swni4KqUe9gu3enPqBQUH4aYl0PRxzDH\"\n",
        "!wget --load-cookies /tmp/cookies.txt \"https://docs.google.com/uc?export=download&confirm=$(wget --quiet --save-cookies /tmp/cookies.txt --keep-session-cookies --no-check-certificate 'https://docs.google.com/uc?export=download&id='$FILEID -O- | sed -rn 's/.*confirm=([0-9A-Za-z_]+).*/\\1\\n/p')&id=\"$FILEID -O codigos.zip && rm -rf /tmp/cookies.txt\n",
        "!unzip codigos.zip\n",
        "!dir\n",
        "!pip install mne==0.19"
      ],
      "execution_count": 0,
      "outputs": [
        {
          "output_type": "stream",
          "text": [
            "--2020-05-01 00:16:44--  https://docs.google.com/uc?export=download&confirm=&id=1Swni4KqUe9gu3enPqBQUH4aYl0PRxzDH\n",
            "Resolving docs.google.com (docs.google.com)... 74.125.31.100, 74.125.31.113, 74.125.31.102, ...\n",
            "Connecting to docs.google.com (docs.google.com)|74.125.31.100|:443... connected.\n",
            "HTTP request sent, awaiting response... 302 Moved Temporarily\n",
            "Location: https://doc-0s-1c-docs.googleusercontent.com/docs/securesc/adtpk2i624m61orsfok40tdlt9c6kl2u/qg1dqjujfa0eq92d02t2kcvr1cm962hb/1588292175000/11146100322577758036/17142432094864034648Z/1Swni4KqUe9gu3enPqBQUH4aYl0PRxzDH?e=download [following]\n",
            "--2020-05-01 00:16:44--  https://doc-0s-1c-docs.googleusercontent.com/docs/securesc/adtpk2i624m61orsfok40tdlt9c6kl2u/qg1dqjujfa0eq92d02t2kcvr1cm962hb/1588292175000/11146100322577758036/17142432094864034648Z/1Swni4KqUe9gu3enPqBQUH4aYl0PRxzDH?e=download\n",
            "Resolving doc-0s-1c-docs.googleusercontent.com (doc-0s-1c-docs.googleusercontent.com)... 172.217.204.132, 2607:f8b0:400c:c15::84\n",
            "Connecting to doc-0s-1c-docs.googleusercontent.com (doc-0s-1c-docs.googleusercontent.com)|172.217.204.132|:443... connected.\n",
            "HTTP request sent, awaiting response... 302 Found\n",
            "Location: https://docs.google.com/nonceSigner?nonce=p8hd1v8fqbo1g&continue=https://doc-0s-1c-docs.googleusercontent.com/docs/securesc/adtpk2i624m61orsfok40tdlt9c6kl2u/qg1dqjujfa0eq92d02t2kcvr1cm962hb/1588292175000/11146100322577758036/17142432094864034648Z/1Swni4KqUe9gu3enPqBQUH4aYl0PRxzDH?e%3Ddownload&hash=6hhearuf8bedbg4hb59vp7p08mesje1o [following]\n",
            "--2020-05-01 00:16:44--  https://docs.google.com/nonceSigner?nonce=p8hd1v8fqbo1g&continue=https://doc-0s-1c-docs.googleusercontent.com/docs/securesc/adtpk2i624m61orsfok40tdlt9c6kl2u/qg1dqjujfa0eq92d02t2kcvr1cm962hb/1588292175000/11146100322577758036/17142432094864034648Z/1Swni4KqUe9gu3enPqBQUH4aYl0PRxzDH?e%3Ddownload&hash=6hhearuf8bedbg4hb59vp7p08mesje1o\n",
            "Connecting to docs.google.com (docs.google.com)|74.125.31.100|:443... connected.\n",
            "HTTP request sent, awaiting response... 302 Found\n",
            "Location: https://doc-0s-1c-docs.googleusercontent.com/docs/securesc/adtpk2i624m61orsfok40tdlt9c6kl2u/qg1dqjujfa0eq92d02t2kcvr1cm962hb/1588292175000/11146100322577758036/17142432094864034648Z/1Swni4KqUe9gu3enPqBQUH4aYl0PRxzDH?e=download&nonce=p8hd1v8fqbo1g&user=17142432094864034648Z&hash=36uht4va1lreasu9urkb46v1haa7hh41 [following]\n",
            "--2020-05-01 00:16:44--  https://doc-0s-1c-docs.googleusercontent.com/docs/securesc/adtpk2i624m61orsfok40tdlt9c6kl2u/qg1dqjujfa0eq92d02t2kcvr1cm962hb/1588292175000/11146100322577758036/17142432094864034648Z/1Swni4KqUe9gu3enPqBQUH4aYl0PRxzDH?e=download&nonce=p8hd1v8fqbo1g&user=17142432094864034648Z&hash=36uht4va1lreasu9urkb46v1haa7hh41\n",
            "Connecting to doc-0s-1c-docs.googleusercontent.com (doc-0s-1c-docs.googleusercontent.com)|172.217.204.132|:443... connected.\n",
            "HTTP request sent, awaiting response... 200 OK\n",
            "Length: 134387 (131K) [application/x-zip-compressed]\n",
            "Saving to: ‘codigos.zip’\n",
            "\n",
            "codigos.zip         100%[===================>] 131.24K  --.-KB/s    in 0.001s  \n",
            "\n",
            "2020-05-01 00:16:44 (103 MB/s) - ‘codigos.zip’ saved [134387/134387]\n",
            "\n",
            "Archive:  codigos.zip\n",
            "  inflating: PRI/DB.mat              \n",
            " extracting: PRI/image.PNG           \n",
            "  inflating: PRI/main_functions.py   \n",
            "codigos.zip  PRI  sample_data\n",
            "Collecting mne==0.19\n",
            "\u001b[?25l  Downloading https://files.pythonhosted.org/packages/f5/44/b5b96426623c9dca0dfcdcfdf1f57058bb668f7c1a01bed0b0b867eb8b92/mne-0.19.0-py3-none-any.whl (6.4MB)\n",
            "\u001b[K     |████████████████████████████████| 6.4MB 2.7MB/s \n",
            "\u001b[?25hRequirement already satisfied: numpy>=1.11.3 in /usr/local/lib/python3.6/dist-packages (from mne==0.19) (1.18.3)\n",
            "Requirement already satisfied: scipy>=0.17.1 in /usr/local/lib/python3.6/dist-packages (from mne==0.19) (1.4.1)\n",
            "Installing collected packages: mne\n",
            "Successfully installed mne-0.19.0\n"
          ],
          "name": "stdout"
        }
      ]
    },
    {
      "cell_type": "markdown",
      "metadata": {
        "id": "A6GICMd_9Uj1",
        "colab_type": "text"
      },
      "source": [
        "**Añadir carpeta**"
      ]
    },
    {
      "cell_type": "code",
      "metadata": {
        "id": "h0lN5E6R6QSS",
        "colab_type": "code",
        "colab": {}
      },
      "source": [
        "import os\n",
        "import sys\n",
        "Path='/content/PRI'\n",
        "sys.path.append(Path)\n",
        "DB = os.path.join(Path, 'DB')"
      ],
      "execution_count": 0,
      "outputs": []
    },
    {
      "cell_type": "markdown",
      "metadata": {
        "id": "uX30N7FP9NhF",
        "colab_type": "text"
      },
      "source": [
        "**Cargar librerias**"
      ]
    },
    {
      "cell_type": "code",
      "metadata": {
        "id": "Z_66DGVe05bT",
        "colab_type": "code",
        "colab": {}
      },
      "source": [
        "import cv2\n",
        "import time\n",
        "import shutil\n",
        "import numpy as np\n",
        "import math as math\n",
        "import scipy.io as sio\n",
        "from sklearn import datasets\n",
        "from joblib import dump,load\n",
        "from main_functions import *\n",
        "from google.colab import files\n",
        "import matplotlib.pyplot as plt\n",
        "from scipy.spatial import distance\n",
        "from datetime import date, datetime\n",
        "from sklearn.pipeline import Pipeline\n",
        "from scipy.spatial.distance import cdist\n",
        "from sklearn.metrics import accuracy_score,confusion_matrix\n",
        "from sklearn.model_selection import GridSearchCV\n",
        "from sklearn.model_selection import train_test_split\n",
        "from sklearn.cluster import KMeans, SpectralClustering\n",
        "from sklearn.metrics.cluster import adjusted_rand_score\n",
        "from sklearn.base import BaseEstimator, TransformerMixin, ClusterMixin"
      ],
      "execution_count": 0,
      "outputs": []
    },
    {
      "cell_type": "markdown",
      "metadata": {
        "id": "Cqh-xa4n-DcC",
        "colab_type": "text"
      },
      "source": [
        "**Cargar Bases de datos**"
      ]
    },
    {
      "cell_type": "code",
      "metadata": {
        "id": "TmzV6Oro-Cy_",
        "colab_type": "code",
        "outputId": "a4b183a3-0bd0-4a61-a8fe-6b9561c1752a",
        "colab": {
          "base_uri": "https://localhost:8080/",
          "height": 282
        }
      },
      "source": [
        "data = sio.loadmat(DB)['DB'][0, 0]\n",
        "happy = data['happy']\n",
        "sc = SpectralClustering(n_clusters=3, n_neighbors=5, gamma = 1000)\n",
        "sc.fit(happy)\n",
        "labels_happy = sc.labels_\n",
        "plt.scatter(happy[:,0],happy[:,1],c=labels_happy)"
      ],
      "execution_count": 0,
      "outputs": [
        {
          "output_type": "execute_result",
          "data": {
            "text/plain": [
              "<matplotlib.collections.PathCollection at 0x7f46b48ca978>"
            ]
          },
          "metadata": {
            "tags": []
          },
          "execution_count": 4
        },
        {
          "output_type": "display_data",
          "data": {
            "image/png": "[encoded data removed]",
            "text/plain": [
              "<Figure size 432x288 with 1 Axes>"
            ]
          },
          "metadata": {
            "tags": [],
            "needs_background": "light"
          }
        }
      ]
    },
    {
      "cell_type": "markdown",
      "metadata": {
        "id": "2sWMxZlr9KzB",
        "colab_type": "text"
      },
      "source": [
        "**Parte 1**"
      ]
    },
    {
      "cell_type": "markdown",
      "metadata": {
        "id": "YWR9QGWz7xvX",
        "colab_type": "text"
      },
      "source": [
        "**Punto Fijo**"
      ]
    },
    {
      "cell_type": "code",
      "metadata": {
        "id": "It6eiXqczLY_",
        "colab_type": "code",
        "colab": {}
      },
      "source": [
        "X_train, X_test, y_train, y_test = train_test_split(\n",
        "    happy, labels_happy, test_size=0.2, stratify=labels_happy)\n"
      ],
      "execution_count": 0,
      "outputs": []
    },
    {
      "cell_type": "code",
      "metadata": {
        "id": "7vxCPqhP4rL4",
        "colab_type": "code",
        "outputId": "90fc210c-0515-4559-b45e-a68fe2436360",
        "colab": {
          "base_uri": "https://localhost:8080/",
          "height": 298
        }
      },
      "source": [
        "t = time.time()\n",
        "p = PRI(lambda_=15, n_clusters=3, nn=3, sigma_initial=40,reduction_=True)\n",
        "p.fit(X_train, y_train)\n",
        "labels_pre_FP = p.predict(X_test)\n",
        "print('el tiempo requerido fue:'+ str(time.time() - t)+'sg')\n",
        "plt.scatter(X_train[:, 0], X_train[:, 1], c=y_train, marker='.')\n",
        "plt.scatter(X_test[:, 0], X_test[:, 1], c=labels_pre_FP, marker='D',s=68)\n",
        "Rari_FP=adjusted_rand_score(y_test,labels_pre_FP)\n",
        "Racc_FP=accuracy_score(y_test,labels_pre_FP)\n",
        "print('Ari: '+str(Rari_FP)+' y'+' accuracy: '+str(Racc_FP))\n"
      ],
      "execution_count": 0,
      "outputs": [
        {
          "output_type": "stream",
          "text": [
            "el tiempo requerido fue:2.0721189975738525sg\n",
            "Ari: 0.44099068660575264 y accuracy: 0.7777777777777778\n"
          ],
          "name": "stdout"
        },
        {
          "output_type": "display_data",
          "data": {
            "image/png": "[encoded data removed]",
            "text/plain": [
              "<Figure size 432x288 with 1 Axes>"
            ]
          },
          "metadata": {
            "tags": [],
            "needs_background": "light"
          }
        }
      ]
    },
    {
      "cell_type": "markdown",
      "metadata": {
        "id": "HT40LPXv8Axw",
        "colab_type": "text"
      },
      "source": [
        "**SGD**"
      ]
    },
    {
      "cell_type": "code",
      "metadata": {
        "id": "6KiP2Dfr6-yX",
        "colab_type": "code",
        "outputId": "e4a67789-1aea-49d0-8e19-418eef95ec33",
        "colab": {
          "base_uri": "https://localhost:8080/",
          "height": 298
        }
      },
      "source": [
        "t = time.time()\n",
        "p = MiniBatchPRI(lambda_=3, n_clusters=3, nn=3, sigma_initial=40,reduction_=True)\n",
        "p.fit(X_train, y_train)\n",
        "labels_pre_SGD = p.predict(X_test)\n",
        "print('el tiempo requerido fue:'+ str(time.time() - t)+'sg')\n",
        "plt.scatter(X_train[:, 0], X_train[:, 1], c=y_train, marker='.')\n",
        "plt.scatter(X_test[:, 0], X_test[:, 1], c=labels_pre_SGD, marker='D',s=68)\n",
        "Rari_SGD=adjusted_rand_score(y_test,labels_pre_SGD)\n",
        "Racc_SGD=accuracy_score(y_test,labels_pre_SGD)\n",
        "print('Ari: '+str(Rari_SGD)+' y'+' accuracy: '+str(Racc_SGD))"
      ],
      "execution_count": 0,
      "outputs": [
        {
          "output_type": "stream",
          "text": [
            "el tiempo requerido fue:2.96270489692688sg\n",
            "Ari: 0.47131389446346356 y accuracy: 0.7962962962962963\n"
          ],
          "name": "stdout"
        },
        {
          "output_type": "display_data",
          "data": {
            "image/png": "[encoded data removed]",
            "text/plain": [
              "<Figure size 432x288 with 1 Axes>"
            ]
          },
          "metadata": {
            "tags": [],
            "needs_background": "light"
          }
        }
      ]
    },
    {
      "cell_type": "markdown",
      "metadata": {
        "id": "as08a-Lg8JJt",
        "colab_type": "text"
      },
      "source": [
        "**Adam**"
      ]
    },
    {
      "cell_type": "code",
      "metadata": {
        "id": "wx9Z4deG8De1",
        "colab_type": "code",
        "outputId": "cb3cf844-2f3f-40c2-ba22-ba6cd430f366",
        "colab": {
          "base_uri": "https://localhost:8080/",
          "height": 298
        }
      },
      "source": [
        "t = time.time()\n",
        "p = MiniBatchPRI(lambda_=3, n_clusters=3, nn=3, sigma_initial=40,optimization='Adam',reduction_=True)\n",
        "p.fit(X_train, y_train)\n",
        "labels_pre_SGDA = p.predict(X_test)\n",
        "print('el tiempo requerido fue:'+ str(time.time() - t)+'sg')\n",
        "plt.scatter(X_train[:, 0], X_train[:, 1], c=y_train, marker='.')\n",
        "plt.scatter(X_test[:, 0], X_test[:, 1], c=labels_pre_SGDA, marker='D',s=68)\n",
        "Rari_SGDA=adjusted_rand_score(y_test,labels_pre_SGDA)\n",
        "Racc_SGDA=accuracy_score(y_test,labels_pre_SGDA)\n",
        "print('Ari: '+str(Rari_SGDA)+' y'+' accuracy: '+str(Racc_SGDA))"
      ],
      "execution_count": 0,
      "outputs": [
        {
          "output_type": "stream",
          "text": [
            "el tiempo requerido fue:3.052595615386963sg\n",
            "Ari: 0.3866953538407862 y accuracy: 0.7407407407407407\n"
          ],
          "name": "stdout"
        },
        {
          "output_type": "display_data",
          "data": {
            "image/png": "[encoded data removed]",
            "text/plain": [
              "<Figure size 432x288 with 1 Axes>"
            ]
          },
          "metadata": {
            "tags": [],
            "needs_background": "light"
          }
        }
      ]
    },
    {
      "cell_type": "markdown",
      "metadata": {
        "id": "SeylA1z78UWW",
        "colab_type": "text"
      },
      "source": [
        "**Nadam**"
      ]
    },
    {
      "cell_type": "code",
      "metadata": {
        "id": "D199aDR68Oo-",
        "colab_type": "code",
        "outputId": "f6b726ec-5f4f-45e0-8c95-101f12d9e1de",
        "colab": {
          "base_uri": "https://localhost:8080/",
          "height": 298
        }
      },
      "source": [
        "t = time.time()\n",
        "p = MiniBatchPRI(lambda_=3, n_clusters=3, nn=3, sigma_initial=40,optimization='Nadam',reduction_=True)\n",
        "p.fit(X_train, y_train)\n",
        "labels_pre_SGDN = p.predict(X_test)\n",
        "print('el tiempo requerido fue:'+ str(time.time() - t)+'sg')\n",
        "plt.scatter(X_train[:, 0], X_train[:, 1], c=y_train, marker='.')\n",
        "plt.scatter(X_test[:, 0], X_test[:, 1], c=labels_pre_SGDN, marker='D',s=68)\n",
        "Rari_SGDN=adjusted_rand_score(y_test,labels_pre_SGDN)\n",
        "Racc_SGDN=accuracy_score(y_test,labels_pre_SGDN)\n",
        "print('Ari: '+str(Rari_SGDN)+' y'+' accuracy: '+str(Racc_SGDN))"
      ],
      "execution_count": 0,
      "outputs": [
        {
          "output_type": "stream",
          "text": [
            "el tiempo requerido fue:3.112349510192871sg\n",
            "Ari: 0.3866953538407862 y accuracy: 0.7407407407407407\n"
          ],
          "name": "stdout"
        },
        {
          "output_type": "display_data",
          "data": {
            "image/png": "[encoded data removed]",
            "text/plain": [
              "<Figure size 432x288 with 1 Axes>"
            ]
          },
          "metadata": {
            "tags": [],
            "needs_background": "light"
          }
        }
      ]
    },
    {
      "cell_type": "markdown",
      "metadata": {
        "id": "IedU198GAfIy",
        "colab_type": "text"
      },
      "source": [
        "**KNN**"
      ]
    },
    {
      "cell_type": "code",
      "metadata": {
        "id": "b9ZfdXii8YgM",
        "colab_type": "code",
        "outputId": "94af832d-e065-4a03-9e70-3b0e0ebf87a0",
        "colab": {
          "base_uri": "https://localhost:8080/",
          "height": 298
        }
      },
      "source": [
        "t = time.time()\n",
        "p = Kmeans( n_clusters_=3)\n",
        "p.fit(X_train, y_train)\n",
        "labels_pre_Km= p.predict(X_test)\n",
        "print('el tiempo requerido fue:'+ str(time.time() - t)+'sg')\n",
        "plt.scatter(X_train[:, 0], X_train[:, 1], c=y_train, marker='.')\n",
        "plt.scatter(X_test[:, 0], X_test[:, 1], c=labels_pre_Km, marker='D',s=68)\n",
        "Rari_Km=adjusted_rand_score(y_test,labels_pre_Km)\n",
        "Racc_Km=accuracy_score(y_test,labels_pre_Km)\n",
        "print('Ari: '+str(Rari_Km)+' y'+' accuracy: '+str(Racc_Km))\n"
      ],
      "execution_count": 0,
      "outputs": [
        {
          "output_type": "stream",
          "text": [
            "el tiempo requerido fue:0.049199819564819336sg\n",
            "Ari: 0.3627377305046534 y accuracy: 0.7222222222222222\n"
          ],
          "name": "stdout"
        },
        {
          "output_type": "display_data",
          "data": {
            "image/png": "[encoded data removed]",
            "text/plain": [
              "<Figure size 432x288 with 1 Axes>"
            ]
          },
          "metadata": {
            "tags": [],
            "needs_background": "light"
          }
        }
      ]
    },
    {
      "cell_type": "markdown",
      "metadata": {
        "id": "1IwlR52QBMYM",
        "colab_type": "text"
      },
      "source": [
        "**Spectral CLustering**"
      ]
    },
    {
      "cell_type": "code",
      "metadata": {
        "id": "Zf_UoVzNBK7y",
        "colab_type": "code",
        "outputId": "32675785-7d27-4c81-8866-9ecb5ebc70e2",
        "colab": {
          "base_uri": "https://localhost:8080/",
          "height": 298
        }
      },
      "source": [
        "t = time.time()\n",
        "p = SC(n_clusters_=3, gamma_=500, n_neighbors_=5, nn=3)\n",
        "p.fit(X_train, y_train)\n",
        "labels_pre_SC = p.predict(X_test)\n",
        "print('el tiempo requerido fue:'+ str(time.time() - t)+'sg')\n",
        "plt.scatter(X_train[:, 0], X_train[:, 1], c=y_train, marker='.')\n",
        "plt.scatter(X_test[:, 0], X_test[:, 1], c=labels_pre_SC, marker='D',s=68)\n",
        "Rari_SC=adjusted_rand_score(y_test,labels_pre_SC)\n",
        "Racc_SC=accuracy_score(y_test,labels_pre_SC)\n",
        "print('Ari: '+str(Rari_SC)+' y'+' accuracy: '+str(Racc_SC))\n"
      ],
      "execution_count": 0,
      "outputs": [
        {
          "output_type": "stream",
          "text": [
            "el tiempo requerido fue:0.06380915641784668sg\n",
            "Ari: 1.0 y accuracy: 1.0\n"
          ],
          "name": "stdout"
        },
        {
          "output_type": "display_data",
          "data": {
            "image/png": "[encoded data removed]",
            "text/plain": [
              "<Figure size 432x288 with 1 Axes>"
            ]
          },
          "metadata": {
            "tags": [],
            "needs_background": "light"
          }
        }
      ]
    },
    {
      "cell_type": "markdown",
      "metadata": {
        "id": "wcjdC__1ZY8N",
        "colab_type": "text"
      },
      "source": [
        "**Con ruido**"
      ]
    },
    {
      "cell_type": "markdown",
      "metadata": {
        "id": "liE5DVVcgpAs",
        "colab_type": "text"
      },
      "source": [
        "**Happy**"
      ]
    },
    {
      "cell_type": "code",
      "metadata": {
        "id": "mZN-_kOXgrIC",
        "colab_type": "code",
        "outputId": "d790c5e3-2f31-437b-af1b-0cc77f458d35",
        "colab": {
          "base_uri": "https://localhost:8080/",
          "height": 282
        }
      },
      "source": [
        "noise = np.random.normal(0,1,happy.shape)\n",
        "noisy_happy=happy+noise*0.02\n",
        "plt.scatter(noisy_happy[:,0],noisy_happy[:,1],c=labels_happy)"
      ],
      "execution_count": 0,
      "outputs": [
        {
          "output_type": "execute_result",
          "data": {
            "text/plain": [
              "<matplotlib.collections.PathCollection at 0x7f5d3bf4ef98>"
            ]
          },
          "metadata": {
            "tags": []
          },
          "execution_count": 13
        },
        {
          "output_type": "display_data",
          "data": {
            "image/png": "[encoded data removed]",
            "text/plain": [
              "<Figure size 432x288 with 1 Axes>"
            ]
          },
          "metadata": {
            "tags": [],
            "needs_background": "light"
          }
        }
      ]
    },
    {
      "cell_type": "markdown",
      "metadata": {
        "id": "fFsQFUmFgmxH",
        "colab_type": "text"
      },
      "source": [
        "**Moons**"
      ]
    },
    {
      "cell_type": "code",
      "metadata": {
        "id": "LDNw4QFYZYZZ",
        "colab_type": "code",
        "outputId": "93be692d-08b4-4222-aaa0-893d357a6f13",
        "colab": {
          "base_uri": "https://localhost:8080/",
          "height": 282
        }
      },
      "source": [
        "from sklearn import  datasets\n",
        "noisy_moons,labels_moons = datasets.make_moons(n_samples=200, noise=.085)\n",
        "plt.scatter(noisy_moons[:,0],noisy_moons[:,1],c=labels_moons)"
      ],
      "execution_count": 0,
      "outputs": [
        {
          "output_type": "execute_result",
          "data": {
            "text/plain": [
              "<matplotlib.collections.PathCollection at 0x7f70a81956a0>"
            ]
          },
          "metadata": {
            "tags": []
          },
          "execution_count": 15
        },
        {
          "output_type": "display_data",
          "data": {
            "image/png": "[encoded data removed]",
            "text/plain": [
              "<Figure size 432x288 with 1 Axes>"
            ]
          },
          "metadata": {
            "tags": [],
            "needs_background": "light"
          }
        }
      ]
    },
    {
      "cell_type": "markdown",
      "metadata": {
        "id": "8Sn0G21Z5t6P",
        "colab_type": "text"
      },
      "source": [
        "**Resultados**"
      ]
    },
    {
      "cell_type": "markdown",
      "metadata": {
        "id": "4Ul5tySRD8jd",
        "colab_type": "text"
      },
      "source": [
        "**Happy**"
      ]
    },
    {
      "cell_type": "code",
      "metadata": {
        "id": "Vu8g3QD0uO9y",
        "colab_type": "code",
        "colab": {}
      },
      "source": [
        "n_clusters=3\n",
        "steps =[[('rep',SC())],\n",
        "        [('rep',Kmeans())], \n",
        "        [('rep', PRI())], \n",
        "         [('rep', MiniBatchPRI())], \n",
        "         [('rep', MiniBatchPRI())], \n",
        "          [('rep',  MiniBatchPRI())]] \n",
        "   \n",
        "parameters =[{'rep__gamma_':[10,100,200,500,1000],'rep__n_neighbors_':[5,10,15],'rep__nn_':[3,5,9],'rep__n_clusters_':[n_clusters]},\n",
        "             {'rep__nn':[3,5,9],'rep__n_clusters_':[n_clusters]},\n",
        "             {'rep__lambda_':[5, 10, 15, 30, 50],\n",
        "             'rep__sigma_initial':[4,10,15,25,40],\n",
        "             'rep__nn':[3,5,9],'rep__n_clusters':[n_clusters],'rep__reduction_':[True],'rep__prediction':['Gaussian','Div']},\n",
        "             {'rep__lambda_':[5, 10, 15, 30, 50],\n",
        "             'rep__sigma_initial':[10,15,25,40,50],\n",
        "             'rep__nn':[3,5,9],'rep__n_clusters':[n_clusters],'rep__reduction_':[True],'rep__prediction':['Gaussian','Div']},\n",
        "             {'rep__lambda_':[5, 10, 15, 30, 50],\n",
        "             'rep__sigma_initial':[10,15,25,40,50],\n",
        "             'rep__nn':[3,5,9],'rep__n_clusters':[n_clusters],'rep__reduction_':[True],'rep__optimization':['Adam'],'rep__prediction':['Gaussian','Div']},\n",
        "             {'rep__lambda_':[5, 10, 15, 30, 50],\n",
        "             'rep__sigma_initial':[10,15,25,40,50],\n",
        "             'rep__nn':[3,5,9],'rep__n_clusters':[n_clusters],'rep__reduction_':[True],'rep__optimization':['Nadam'],'rep__prediction':['Gaussian','Div']}]"
      ],
      "execution_count": 0,
      "outputs": []
    },
    {
      "cell_type": "code",
      "metadata": {
        "id": "OqXgcXQ-zRCP",
        "colab_type": "code",
        "outputId": "96650307-feac-4d06-b68c-1ac345b7b6bc",
        "colab": {
          "base_uri": "https://localhost:8080/",
          "height": 1000
        }
      },
      "source": [
        "#valildacion cruzada anidada\n",
        "for i in range(len(steps)):\n",
        "  meth_name = ['sc', 'Knn', 'FP','SGD','SGDA','SGDN']\n",
        "  name='/content/PRI/happy' + str(meth_name[i]) + '.joblib'\n",
        "  Niter = 10 #numero particiones\n",
        "  acc =np.zeros(Niter)#arreglo para guardar acierto\n",
        "  ari=np.zeros(Niter)\n",
        "  Nc = len(np.unique(labels_happy))\n",
        "  cmc = np.zeros((Niter,Nc,Nc))#arreglo para guarda matrices de confusion\n",
        "  best_estimators= []#mejor metodo por iteracion\n",
        "  best_parameters= []#mejor metodo por iteracion\n",
        "\n",
        "  for j in range(Niter):\n",
        "          print('it %d/%d'%(j+1,Niter))\n",
        "          ## Accuracy\n",
        "          X_train, X_test, y_train, y_test = train_test_split(happy,labels_happy,test_size=0.2, stratify=labels_happy)\n",
        "          grid_search = GridSearchCV(Pipeline(steps[i]) , parameters[i],cv=5,verbose=1,scoring='accuracy',n_jobs=-1)\n",
        "          #generar mejor modelo\n",
        "          grid_search.fit(X_train,y_train)\n",
        "          #estimar salida conjunto de test\n",
        "          y_pred = grid_search.best_estimator_.predict(X_test)\n",
        "          #guardar mejor modelo\n",
        "          best_estimators.append(grid_search.best_estimator_)\n",
        "          best_parameters.append(grid_search.best_params_)\n",
        "          \n",
        "          #guardar acierto\n",
        "          acc[j] = 100*accuracy_score(y_test,y_pred)\n",
        "          ari[j]=100*adjusted_rand_score(y_test,y_pred)\n",
        "          #estimar matriz de confusion\n",
        "          cm = confusion_matrix(y_test, y_pred)\n",
        "          cm = 100*cm.astype('float') / cm.sum(axis=1)[:, np.newaxis]\n",
        "          cmc[j] = cm\n",
        "          print('it %d/%d'%(j+1,Niter))\n",
        "          print(grid_search.best_params_)\n",
        "          print('acc:',acc[j])\n",
        "          print('ari:',ari[j])\n",
        "          print('confusionmatrix \\n',cmc[j])\n",
        "          savedata = {\n",
        "              'ari':ari,\n",
        "              'acc':acc,\n",
        "              'confusionmatrix':cmc,\n",
        "              'best_models':best_estimators,\n",
        "              'best_parameters':best_parameters,\n",
        "                } \n",
        "          dump(savedata,name)"
      ],
      "execution_count": 0,
      "outputs": [
        {
          "output_type": "stream",
          "text": [
            "it 1/10\n",
            "Fitting 5 folds for each of 45 candidates, totalling 225 fits\n"
          ],
          "name": "stdout"
        },
        {
          "output_type": "stream",
          "text": [
            "[Parallel(n_jobs=-1)]: Using backend LokyBackend with 2 concurrent workers.\n",
            "[Parallel(n_jobs=-1)]: Done 110 tasks      | elapsed:    5.2s\n",
            "[Parallel(n_jobs=-1)]: Done 225 out of 225 | elapsed:    8.8s finished\n",
            "[Parallel(n_jobs=-1)]: Using backend LokyBackend with 2 concurrent workers.\n"
          ],
          "name": "stderr"
        },
        {
          "output_type": "stream",
          "text": [
            "it 1/10\n",
            "{'rep__gamma_': 500, 'rep__n_clusters_': 3, 'rep__n_neighbors_': 5, 'rep__nn_': 3}\n",
            "acc: 100.0\n",
            "ari: 100.0\n",
            "confusionmatrix \n",
            " [[100.   0.   0.]\n",
            " [  0. 100.   0.]\n",
            " [  0.   0. 100.]]\n",
            "it 2/10\n",
            "Fitting 5 folds for each of 45 candidates, totalling 225 fits\n"
          ],
          "name": "stdout"
        },
        {
          "output_type": "stream",
          "text": [
            "[Parallel(n_jobs=-1)]: Done 164 tasks      | elapsed:    4.8s\n",
            "[Parallel(n_jobs=-1)]: Done 225 out of 225 | elapsed:    6.8s finished\n",
            "[Parallel(n_jobs=-1)]: Using backend LokyBackend with 2 concurrent workers.\n"
          ],
          "name": "stderr"
        },
        {
          "output_type": "stream",
          "text": [
            "it 2/10\n",
            "{'rep__gamma_': 500, 'rep__n_clusters_': 3, 'rep__n_neighbors_': 5, 'rep__nn_': 3}\n",
            "acc: 100.0\n",
            "ari: 100.0\n",
            "confusionmatrix \n",
            " [[100.   0.   0.]\n",
            " [  0. 100.   0.]\n",
            " [  0.   0. 100.]]\n",
            "it 3/10\n",
            "Fitting 5 folds for each of 45 candidates, totalling 225 fits\n"
          ],
          "name": "stdout"
        },
        {
          "output_type": "stream",
          "text": [
            "[Parallel(n_jobs=-1)]: Done 164 tasks      | elapsed:    4.8s\n",
            "[Parallel(n_jobs=-1)]: Done 225 out of 225 | elapsed:    6.8s finished\n",
            "[Parallel(n_jobs=-1)]: Using backend LokyBackend with 2 concurrent workers.\n"
          ],
          "name": "stderr"
        },
        {
          "output_type": "stream",
          "text": [
            "it 3/10\n",
            "{'rep__gamma_': 500, 'rep__n_clusters_': 3, 'rep__n_neighbors_': 5, 'rep__nn_': 3}\n",
            "acc: 100.0\n",
            "ari: 100.0\n",
            "confusionmatrix \n",
            " [[100.   0.   0.]\n",
            " [  0. 100.   0.]\n",
            " [  0.   0. 100.]]\n",
            "it 4/10\n",
            "Fitting 5 folds for each of 45 candidates, totalling 225 fits\n"
          ],
          "name": "stdout"
        },
        {
          "output_type": "stream",
          "text": [
            "[Parallel(n_jobs=-1)]: Done  88 tasks      | elapsed:    2.7s\n",
            "[Parallel(n_jobs=-1)]: Done 222 out of 225 | elapsed:    6.9s remaining:    0.1s\n",
            "[Parallel(n_jobs=-1)]: Done 225 out of 225 | elapsed:    6.9s finished\n",
            "[Parallel(n_jobs=-1)]: Using backend LokyBackend with 2 concurrent workers.\n"
          ],
          "name": "stderr"
        },
        {
          "output_type": "stream",
          "text": [
            "it 4/10\n",
            "{'rep__gamma_': 500, 'rep__n_clusters_': 3, 'rep__n_neighbors_': 5, 'rep__nn_': 3}\n",
            "acc: 100.0\n",
            "ari: 100.0\n",
            "confusionmatrix \n",
            " [[100.   0.   0.]\n",
            " [  0. 100.   0.]\n",
            " [  0.   0. 100.]]\n",
            "it 5/10\n",
            "Fitting 5 folds for each of 45 candidates, totalling 225 fits\n"
          ],
          "name": "stdout"
        },
        {
          "output_type": "stream",
          "text": [
            "[Parallel(n_jobs=-1)]: Done 164 tasks      | elapsed:    4.8s\n",
            "[Parallel(n_jobs=-1)]: Done 225 out of 225 | elapsed:    6.8s finished\n",
            "[Parallel(n_jobs=-1)]: Using backend LokyBackend with 2 concurrent workers.\n"
          ],
          "name": "stderr"
        },
        {
          "output_type": "stream",
          "text": [
            "it 5/10\n",
            "{'rep__gamma_': 500, 'rep__n_clusters_': 3, 'rep__n_neighbors_': 5, 'rep__nn_': 3}\n",
            "acc: 100.0\n",
            "ari: 100.0\n",
            "confusionmatrix \n",
            " [[100.   0.   0.]\n",
            " [  0. 100.   0.]\n",
            " [  0.   0. 100.]]\n",
            "it 6/10\n",
            "Fitting 5 folds for each of 45 candidates, totalling 225 fits\n"
          ],
          "name": "stdout"
        },
        {
          "output_type": "stream",
          "text": [
            "[Parallel(n_jobs=-1)]: Done 164 tasks      | elapsed:    4.8s\n",
            "[Parallel(n_jobs=-1)]: Done 225 out of 225 | elapsed:    6.8s finished\n",
            "[Parallel(n_jobs=-1)]: Using backend LokyBackend with 2 concurrent workers.\n"
          ],
          "name": "stderr"
        },
        {
          "output_type": "stream",
          "text": [
            "it 6/10\n",
            "{'rep__gamma_': 500, 'rep__n_clusters_': 3, 'rep__n_neighbors_': 5, 'rep__nn_': 3}\n",
            "acc: 100.0\n",
            "ari: 100.0\n",
            "confusionmatrix \n",
            " [[100.   0.   0.]\n",
            " [  0. 100.   0.]\n",
            " [  0.   0. 100.]]\n",
            "it 7/10\n",
            "Fitting 5 folds for each of 45 candidates, totalling 225 fits\n"
          ],
          "name": "stdout"
        },
        {
          "output_type": "stream",
          "text": [
            "[Parallel(n_jobs=-1)]: Done 164 tasks      | elapsed:    4.8s\n",
            "[Parallel(n_jobs=-1)]: Done 225 out of 225 | elapsed:    6.8s finished\n",
            "[Parallel(n_jobs=-1)]: Using backend LokyBackend with 2 concurrent workers.\n"
          ],
          "name": "stderr"
        },
        {
          "output_type": "stream",
          "text": [
            "it 7/10\n",
            "{'rep__gamma_': 500, 'rep__n_clusters_': 3, 'rep__n_neighbors_': 5, 'rep__nn_': 3}\n",
            "acc: 100.0\n",
            "ari: 100.0\n",
            "confusionmatrix \n",
            " [[100.   0.   0.]\n",
            " [  0. 100.   0.]\n",
            " [  0.   0. 100.]]\n",
            "it 8/10\n",
            "Fitting 5 folds for each of 45 candidates, totalling 225 fits\n"
          ],
          "name": "stdout"
        },
        {
          "output_type": "stream",
          "text": [
            "[Parallel(n_jobs=-1)]: Done  88 tasks      | elapsed:    2.7s\n",
            "[Parallel(n_jobs=-1)]: Done 222 out of 225 | elapsed:    6.8s remaining:    0.1s\n",
            "[Parallel(n_jobs=-1)]: Done 225 out of 225 | elapsed:    6.9s finished\n",
            "[Parallel(n_jobs=-1)]: Using backend LokyBackend with 2 concurrent workers.\n"
          ],
          "name": "stderr"
        },
        {
          "output_type": "stream",
          "text": [
            "it 8/10\n",
            "{'rep__gamma_': 500, 'rep__n_clusters_': 3, 'rep__n_neighbors_': 5, 'rep__nn_': 3}\n",
            "acc: 100.0\n",
            "ari: 100.0\n",
            "confusionmatrix \n",
            " [[100.   0.   0.]\n",
            " [  0. 100.   0.]\n",
            " [  0.   0. 100.]]\n",
            "it 9/10\n",
            "Fitting 5 folds for each of 45 candidates, totalling 225 fits\n"
          ],
          "name": "stdout"
        },
        {
          "output_type": "stream",
          "text": [
            "[Parallel(n_jobs=-1)]: Done 164 tasks      | elapsed:    4.8s\n",
            "[Parallel(n_jobs=-1)]: Done 225 out of 225 | elapsed:    6.8s finished\n",
            "[Parallel(n_jobs=-1)]: Using backend LokyBackend with 2 concurrent workers.\n"
          ],
          "name": "stderr"
        },
        {
          "output_type": "stream",
          "text": [
            "it 9/10\n",
            "{'rep__gamma_': 500, 'rep__n_clusters_': 3, 'rep__n_neighbors_': 5, 'rep__nn_': 3}\n",
            "acc: 100.0\n",
            "ari: 100.0\n",
            "confusionmatrix \n",
            " [[100.   0.   0.]\n",
            " [  0. 100.   0.]\n",
            " [  0.   0. 100.]]\n",
            "it 10/10\n",
            "Fitting 5 folds for each of 45 candidates, totalling 225 fits\n"
          ],
          "name": "stdout"
        },
        {
          "output_type": "stream",
          "text": [
            "[Parallel(n_jobs=-1)]: Done 164 tasks      | elapsed:    4.7s\n",
            "[Parallel(n_jobs=-1)]: Done 225 out of 225 | elapsed:    6.7s finished\n",
            "[Parallel(n_jobs=-1)]: Using backend LokyBackend with 2 concurrent workers.\n"
          ],
          "name": "stderr"
        },
        {
          "output_type": "stream",
          "text": [
            "it 10/10\n",
            "{'rep__gamma_': 500, 'rep__n_clusters_': 3, 'rep__n_neighbors_': 5, 'rep__nn_': 3}\n",
            "acc: 100.0\n",
            "ari: 100.0\n",
            "confusionmatrix \n",
            " [[100.   0.   0.]\n",
            " [  0. 100.   0.]\n",
            " [  0.   0. 100.]]\n",
            "it 1/10\n",
            "Fitting 5 folds for each of 3 candidates, totalling 15 fits\n"
          ],
          "name": "stdout"
        },
        {
          "output_type": "stream",
          "text": [
            "[Parallel(n_jobs=-1)]: Done  15 out of  15 | elapsed:    0.5s finished\n",
            "[Parallel(n_jobs=-1)]: Using backend LokyBackend with 2 concurrent workers.\n"
          ],
          "name": "stderr"
        },
        {
          "output_type": "stream",
          "text": [
            "it 1/10\n",
            "{'rep__n_clusters_': 3, 'rep__nn': 5}\n",
            "acc: 79.62962962962963\n",
            "ari: 47.131389446346354\n",
            "confusionmatrix \n",
            " [[100.           0.           0.        ]\n",
            " [ 20.83333333  54.16666667  25.        ]\n",
            " [  0.           0.         100.        ]]\n",
            "it 2/10\n",
            "Fitting 5 folds for each of 3 candidates, totalling 15 fits\n"
          ],
          "name": "stdout"
        },
        {
          "output_type": "stream",
          "text": [
            "[Parallel(n_jobs=-1)]: Done  15 out of  15 | elapsed:    0.5s finished\n",
            "[Parallel(n_jobs=-1)]: Using backend LokyBackend with 2 concurrent workers.\n"
          ],
          "name": "stderr"
        },
        {
          "output_type": "stream",
          "text": [
            "it 2/10\n",
            "{'rep__n_clusters_': 3, 'rep__nn': 3}\n",
            "acc: 72.22222222222221\n",
            "ari: 37.377521613832855\n",
            "confusionmatrix \n",
            " [[100.           0.           0.        ]\n",
            " [ 41.66666667  37.5         20.83333333]\n",
            " [  0.           0.         100.        ]]\n",
            "it 3/10\n",
            "Fitting 5 folds for each of 3 candidates, totalling 15 fits\n"
          ],
          "name": "stdout"
        },
        {
          "output_type": "stream",
          "text": [
            "[Parallel(n_jobs=-1)]: Done  15 out of  15 | elapsed:    0.5s finished\n",
            "[Parallel(n_jobs=-1)]: Using backend LokyBackend with 2 concurrent workers.\n"
          ],
          "name": "stderr"
        },
        {
          "output_type": "stream",
          "text": [
            "it 3/10\n",
            "{'rep__n_clusters_': 3, 'rep__nn': 9}\n",
            "acc: 75.92592592592592\n",
            "ari: 41.462131837307155\n",
            "confusionmatrix \n",
            " [[100.           0.           0.        ]\n",
            " [ 33.33333333  45.83333333  20.83333333]\n",
            " [  0.           0.         100.        ]]\n",
            "it 4/10\n",
            "Fitting 5 folds for each of 3 candidates, totalling 15 fits\n"
          ],
          "name": "stdout"
        },
        {
          "output_type": "stream",
          "text": [
            "[Parallel(n_jobs=-1)]: Done  15 out of  15 | elapsed:    0.5s finished\n",
            "[Parallel(n_jobs=-1)]: Using backend LokyBackend with 2 concurrent workers.\n"
          ],
          "name": "stderr"
        },
        {
          "output_type": "stream",
          "text": [
            "it 4/10\n",
            "{'rep__n_clusters_': 3, 'rep__nn': 5}\n",
            "acc: 70.37037037037037\n",
            "ari: 34.27488804684808\n",
            "confusionmatrix \n",
            " [[100.           0.           0.        ]\n",
            " [ 33.33333333  33.33333333  33.33333333]\n",
            " [  0.           0.         100.        ]]\n",
            "it 5/10\n",
            "Fitting 5 folds for each of 3 candidates, totalling 15 fits\n"
          ],
          "name": "stdout"
        },
        {
          "output_type": "stream",
          "text": [
            "[Parallel(n_jobs=-1)]: Done  15 out of  15 | elapsed:    0.4s finished\n",
            "[Parallel(n_jobs=-1)]: Using backend LokyBackend with 2 concurrent workers.\n"
          ],
          "name": "stderr"
        },
        {
          "output_type": "stream",
          "text": [
            "it 5/10\n",
            "{'rep__n_clusters_': 3, 'rep__nn': 9}\n",
            "acc: 75.92592592592592\n",
            "ari: 41.09388710149167\n",
            "confusionmatrix \n",
            " [[100.           0.           0.        ]\n",
            " [ 25.          45.83333333  29.16666667]\n",
            " [  0.           0.         100.        ]]\n",
            "it 6/10\n",
            "Fitting 5 folds for each of 3 candidates, totalling 15 fits\n"
          ],
          "name": "stdout"
        },
        {
          "output_type": "stream",
          "text": [
            "[Parallel(n_jobs=-1)]: Done  15 out of  15 | elapsed:    0.5s finished\n",
            "[Parallel(n_jobs=-1)]: Using backend LokyBackend with 2 concurrent workers.\n"
          ],
          "name": "stderr"
        },
        {
          "output_type": "stream",
          "text": [
            "it 6/10\n",
            "{'rep__n_clusters_': 3, 'rep__nn': 3}\n",
            "acc: 77.77777777777779\n",
            "ari: 43.91534391534392\n",
            "confusionmatrix \n",
            " [[100.   0.   0.]\n",
            " [ 25.  50.  25.]\n",
            " [  0.   0. 100.]]\n",
            "it 7/10\n",
            "Fitting 5 folds for each of 3 candidates, totalling 15 fits\n"
          ],
          "name": "stdout"
        },
        {
          "output_type": "stream",
          "text": [
            "[Parallel(n_jobs=-1)]: Done  15 out of  15 | elapsed:    0.5s finished\n",
            "[Parallel(n_jobs=-1)]: Using backend LokyBackend with 2 concurrent workers.\n"
          ],
          "name": "stderr"
        },
        {
          "output_type": "stream",
          "text": [
            "it 7/10\n",
            "{'rep__n_clusters_': 3, 'rep__nn': 3}\n",
            "acc: 72.22222222222221\n",
            "ari: 36.273773050465344\n",
            "confusionmatrix \n",
            " [[100.           0.           0.        ]\n",
            " [ 33.33333333  37.5         29.16666667]\n",
            " [  0.           0.         100.        ]]\n",
            "it 8/10\n",
            "Fitting 5 folds for each of 3 candidates, totalling 15 fits\n"
          ],
          "name": "stdout"
        },
        {
          "output_type": "stream",
          "text": [
            "[Parallel(n_jobs=-1)]: Done  15 out of  15 | elapsed:    0.5s finished\n",
            "[Parallel(n_jobs=-1)]: Using backend LokyBackend with 2 concurrent workers.\n"
          ],
          "name": "stderr"
        },
        {
          "output_type": "stream",
          "text": [
            "it 8/10\n",
            "{'rep__n_clusters_': 3, 'rep__nn': 3}\n",
            "acc: 75.92592592592592\n",
            "ari: 43.29243472698726\n",
            "confusionmatrix \n",
            " [[100.           0.           0.        ]\n",
            " [ 41.66666667  45.83333333  12.5       ]\n",
            " [  0.           0.         100.        ]]\n",
            "it 9/10\n",
            "Fitting 5 folds for each of 3 candidates, totalling 15 fits\n"
          ],
          "name": "stdout"
        },
        {
          "output_type": "stream",
          "text": [
            "[Parallel(n_jobs=-1)]: Done  15 out of  15 | elapsed:    0.5s finished\n",
            "[Parallel(n_jobs=-1)]: Using backend LokyBackend with 2 concurrent workers.\n"
          ],
          "name": "stderr"
        },
        {
          "output_type": "stream",
          "text": [
            "it 9/10\n",
            "{'rep__n_clusters_': 3, 'rep__nn': 5}\n",
            "acc: 74.07407407407408\n",
            "ari: 39.22194803309624\n",
            "confusionmatrix \n",
            " [[100.           0.           0.        ]\n",
            " [ 37.5         41.66666667  20.83333333]\n",
            " [  0.           0.         100.        ]]\n",
            "it 10/10\n",
            "Fitting 5 folds for each of 3 candidates, totalling 15 fits\n"
          ],
          "name": "stdout"
        },
        {
          "output_type": "stream",
          "text": [
            "[Parallel(n_jobs=-1)]: Done  15 out of  15 | elapsed:    0.5s finished\n",
            "[Parallel(n_jobs=-1)]: Using backend LokyBackend with 2 concurrent workers.\n"
          ],
          "name": "stderr"
        },
        {
          "output_type": "stream",
          "text": [
            "it 10/10\n",
            "{'rep__n_clusters_': 3, 'rep__nn': 3}\n",
            "acc: 75.92592592592592\n",
            "ari: 42.19643065438003\n",
            "confusionmatrix \n",
            " [[100.           0.           0.        ]\n",
            " [ 37.5         45.83333333  16.66666667]\n",
            " [  0.           0.         100.        ]]\n",
            "it 1/10\n",
            "Fitting 5 folds for each of 150 candidates, totalling 750 fits\n"
          ],
          "name": "stdout"
        },
        {
          "output_type": "stream",
          "text": [
            "[Parallel(n_jobs=-1)]: Done  46 tasks      | elapsed:   27.4s\n",
            "[Parallel(n_jobs=-1)]: Done 196 tasks      | elapsed:  1.9min\n",
            "[Parallel(n_jobs=-1)]: Done 446 tasks      | elapsed:  4.9min\n",
            "[Parallel(n_jobs=-1)]: Done 750 out of 750 | elapsed:  8.9min finished\n",
            "/content/PRI/main_functions.py:195: RuntimeWarning: divide by zero encountered in log\n",
            "  A = -np.log((1 / N * No) * K1)\n",
            "[Parallel(n_jobs=-1)]: Using backend LokyBackend with 2 concurrent workers.\n"
          ],
          "name": "stderr"
        },
        {
          "output_type": "stream",
          "text": [
            "it 1/10\n",
            "{'rep__lambda_': 15, 'rep__n_clusters': 3, 'rep__nn': 9, 'rep__prediction': 'Gaussian', 'rep__reduction_': True, 'rep__sigma_initial': 4}\n",
            "acc: 74.07407407407408\n",
            "ari: 38.66953538407862\n",
            "confusionmatrix \n",
            " [[100.           0.           0.        ]\n",
            " [ 33.33333333  41.66666667  25.        ]\n",
            " [  0.           0.         100.        ]]\n",
            "it 2/10\n",
            "Fitting 5 folds for each of 150 candidates, totalling 750 fits\n"
          ],
          "name": "stdout"
        },
        {
          "output_type": "stream",
          "text": [
            "[Parallel(n_jobs=-1)]: Done  46 tasks      | elapsed:   24.0s\n",
            "[Parallel(n_jobs=-1)]: Done 196 tasks      | elapsed:  1.9min\n",
            "[Parallel(n_jobs=-1)]: Done 446 tasks      | elapsed:  4.6min\n",
            "[Parallel(n_jobs=-1)]: Done 750 out of 750 | elapsed:  8.4min finished\n",
            "/content/PRI/main_functions.py:195: RuntimeWarning: divide by zero encountered in log\n",
            "  A = -np.log((1 / N * No) * K1)\n",
            "/content/PRI/main_functions.py:195: RuntimeWarning: divide by zero encountered in log\n",
            "  A = -np.log((1 / N * No) * K1)\n",
            "[Parallel(n_jobs=-1)]: Using backend LokyBackend with 2 concurrent workers.\n"
          ],
          "name": "stderr"
        },
        {
          "output_type": "stream",
          "text": [
            "it 2/10\n",
            "{'rep__lambda_': 50, 'rep__n_clusters': 3, 'rep__nn': 5, 'rep__prediction': 'Div', 'rep__reduction_': True, 'rep__sigma_initial': 4}\n",
            "acc: 75.92592592592592\n",
            "ari: 41.09388710149167\n",
            "confusionmatrix \n",
            " [[100.           0.           0.        ]\n",
            " [ 25.          45.83333333  29.16666667]\n",
            " [  0.           0.         100.        ]]\n",
            "it 3/10\n",
            "Fitting 5 folds for each of 150 candidates, totalling 750 fits\n"
          ],
          "name": "stdout"
        },
        {
          "output_type": "stream",
          "text": [
            "[Parallel(n_jobs=-1)]: Done  46 tasks      | elapsed:   25.9s\n",
            "[Parallel(n_jobs=-1)]: Done 196 tasks      | elapsed:  2.0min\n",
            "[Parallel(n_jobs=-1)]: Done 446 tasks      | elapsed:  4.7min\n",
            "[Parallel(n_jobs=-1)]: Done 750 out of 750 | elapsed:  8.5min finished\n",
            "/content/PRI/main_functions.py:195: RuntimeWarning: divide by zero encountered in log\n",
            "  A = -np.log((1 / N * No) * K1)\n",
            "[Parallel(n_jobs=-1)]: Using backend LokyBackend with 2 concurrent workers.\n"
          ],
          "name": "stderr"
        },
        {
          "output_type": "stream",
          "text": [
            "it 3/10\n",
            "{'rep__lambda_': 50, 'rep__n_clusters': 3, 'rep__nn': 9, 'rep__prediction': 'Gaussian', 'rep__reduction_': True, 'rep__sigma_initial': 4}\n",
            "acc: 68.51851851851852\n",
            "ari: 33.76881567736439\n",
            "confusionmatrix \n",
            " [[100.           0.           0.        ]\n",
            " [ 45.83333333  29.16666667  25.        ]\n",
            " [  0.           0.         100.        ]]\n",
            "it 4/10\n",
            "Fitting 5 folds for each of 150 candidates, totalling 750 fits\n"
          ],
          "name": "stdout"
        },
        {
          "output_type": "stream",
          "text": [
            "[Parallel(n_jobs=-1)]: Done  46 tasks      | elapsed:   24.3s\n",
            "[Parallel(n_jobs=-1)]: Done 196 tasks      | elapsed:  1.9min\n",
            "[Parallel(n_jobs=-1)]: Done 446 tasks      | elapsed:  4.8min\n",
            "[Parallel(n_jobs=-1)]: Done 750 out of 750 | elapsed:  8.7min finished\n",
            "/content/PRI/main_functions.py:195: RuntimeWarning: divide by zero encountered in log\n",
            "  A = -np.log((1 / N * No) * K1)\n",
            "[Parallel(n_jobs=-1)]: Using backend LokyBackend with 2 concurrent workers.\n"
          ],
          "name": "stderr"
        },
        {
          "output_type": "stream",
          "text": [
            "it 4/10\n",
            "{'rep__lambda_': 15, 'rep__n_clusters': 3, 'rep__nn': 5, 'rep__prediction': 'Gaussian', 'rep__reduction_': True, 'rep__sigma_initial': 4}\n",
            "acc: 77.77777777777779\n",
            "ari: 45.56228601527522\n",
            "confusionmatrix \n",
            " [[100.    0.    0. ]\n",
            " [ 37.5  50.   12.5]\n",
            " [  0.    0.  100. ]]\n",
            "it 5/10\n",
            "Fitting 5 folds for each of 150 candidates, totalling 750 fits\n"
          ],
          "name": "stdout"
        },
        {
          "output_type": "stream",
          "text": [
            "[Parallel(n_jobs=-1)]: Done  46 tasks      | elapsed:   27.5s\n",
            "[Parallel(n_jobs=-1)]: Done 196 tasks      | elapsed:  1.9min\n",
            "[Parallel(n_jobs=-1)]: Done 446 tasks      | elapsed:  4.7min\n",
            "[Parallel(n_jobs=-1)]: Done 750 out of 750 | elapsed:  8.7min finished\n",
            "/content/PRI/main_functions.py:195: RuntimeWarning: divide by zero encountered in log\n",
            "  A = -np.log((1 / N * No) * K1)\n",
            "[Parallel(n_jobs=-1)]: Using backend LokyBackend with 2 concurrent workers.\n"
          ],
          "name": "stderr"
        },
        {
          "output_type": "stream",
          "text": [
            "it 5/10\n",
            "{'rep__lambda_': 15, 'rep__n_clusters': 3, 'rep__nn': 5, 'rep__prediction': 'Gaussian', 'rep__reduction_': True, 'rep__sigma_initial': 4}\n",
            "acc: 68.51851851851852\n",
            "ari: 33.03739115588185\n",
            "confusionmatrix \n",
            " [[100.           0.           0.        ]\n",
            " [ 29.16666667  29.16666667  41.66666667]\n",
            " [  0.           0.         100.        ]]\n",
            "it 6/10\n",
            "Fitting 5 folds for each of 150 candidates, totalling 750 fits\n"
          ],
          "name": "stdout"
        },
        {
          "output_type": "stream",
          "text": [
            "[Parallel(n_jobs=-1)]: Done  46 tasks      | elapsed:   25.3s\n",
            "[Parallel(n_jobs=-1)]: Done 196 tasks      | elapsed:  1.9min\n",
            "[Parallel(n_jobs=-1)]: Done 446 tasks      | elapsed:  5.2min\n",
            "[Parallel(n_jobs=-1)]: Done 750 out of 750 | elapsed:  9.3min finished\n",
            "/content/PRI/main_functions.py:195: RuntimeWarning: divide by zero encountered in log\n",
            "  A = -np.log((1 / N * No) * K1)\n",
            "/content/PRI/main_functions.py:195: RuntimeWarning: divide by zero encountered in log\n",
            "  A = -np.log((1 / N * No) * K1)\n",
            "[Parallel(n_jobs=-1)]: Using backend LokyBackend with 2 concurrent workers.\n"
          ],
          "name": "stderr"
        },
        {
          "output_type": "stream",
          "text": [
            "it 6/10\n",
            "{'rep__lambda_': 10, 'rep__n_clusters': 3, 'rep__nn': 9, 'rep__prediction': 'Div', 'rep__reduction_': True, 'rep__sigma_initial': 4}\n",
            "acc: 74.07407407407408\n",
            "ari: 38.66953538407862\n",
            "confusionmatrix \n",
            " [[100.           0.           0.        ]\n",
            " [ 33.33333333  41.66666667  25.        ]\n",
            " [  0.           0.         100.        ]]\n",
            "it 7/10\n",
            "Fitting 5 folds for each of 150 candidates, totalling 750 fits\n"
          ],
          "name": "stdout"
        },
        {
          "output_type": "stream",
          "text": [
            "[Parallel(n_jobs=-1)]: Done  46 tasks      | elapsed:   26.9s\n",
            "[Parallel(n_jobs=-1)]: Done 196 tasks      | elapsed:  1.9min\n",
            "[Parallel(n_jobs=-1)]: Done 446 tasks      | elapsed:  4.8min\n",
            "[Parallel(n_jobs=-1)]: Done 750 out of 750 | elapsed:  8.7min finished\n",
            "/content/PRI/main_functions.py:195: RuntimeWarning: divide by zero encountered in log\n",
            "  A = -np.log((1 / N * No) * K1)\n",
            "[Parallel(n_jobs=-1)]: Using backend LokyBackend with 2 concurrent workers.\n"
          ],
          "name": "stderr"
        },
        {
          "output_type": "stream",
          "text": [
            "it 7/10\n",
            "{'rep__lambda_': 30, 'rep__n_clusters': 3, 'rep__nn': 3, 'rep__prediction': 'Gaussian', 'rep__reduction_': True, 'rep__sigma_initial': 4}\n",
            "acc: 75.92592592592592\n",
            "ari: 43.29243472698726\n",
            "confusionmatrix \n",
            " [[100.           0.           0.        ]\n",
            " [ 41.66666667  45.83333333  12.5       ]\n",
            " [  0.           0.         100.        ]]\n",
            "it 8/10\n",
            "Fitting 5 folds for each of 150 candidates, totalling 750 fits\n"
          ],
          "name": "stdout"
        },
        {
          "output_type": "stream",
          "text": [
            "[Parallel(n_jobs=-1)]: Done  46 tasks      | elapsed:   24.3s\n",
            "[Parallel(n_jobs=-1)]: Done 196 tasks      | elapsed:  1.7min\n",
            "[Parallel(n_jobs=-1)]: Done 446 tasks      | elapsed:  4.5min\n",
            "[Parallel(n_jobs=-1)]: Done 750 out of 750 | elapsed:  8.3min finished\n",
            "/content/PRI/main_functions.py:195: RuntimeWarning: divide by zero encountered in log\n",
            "  A = -np.log((1 / N * No) * K1)\n",
            "[Parallel(n_jobs=-1)]: Using backend LokyBackend with 2 concurrent workers.\n"
          ],
          "name": "stderr"
        },
        {
          "output_type": "stream",
          "text": [
            "it 8/10\n",
            "{'rep__lambda_': 50, 'rep__n_clusters': 3, 'rep__nn': 3, 'rep__prediction': 'Gaussian', 'rep__reduction_': True, 'rep__sigma_initial': 4}\n",
            "acc: 75.92592592592592\n",
            "ari: 41.462131837307155\n",
            "confusionmatrix \n",
            " [[100.           0.           0.        ]\n",
            " [ 20.83333333  45.83333333  33.33333333]\n",
            " [  0.           0.         100.        ]]\n",
            "it 9/10\n",
            "Fitting 5 folds for each of 150 candidates, totalling 750 fits\n"
          ],
          "name": "stdout"
        },
        {
          "output_type": "stream",
          "text": [
            "[Parallel(n_jobs=-1)]: Done  46 tasks      | elapsed:   27.2s\n",
            "[Parallel(n_jobs=-1)]: Done 196 tasks      | elapsed:  2.0min\n",
            "[Parallel(n_jobs=-1)]: Done 446 tasks      | elapsed:  4.9min\n",
            "[Parallel(n_jobs=-1)]: Done 750 out of 750 | elapsed:  8.8min finished\n",
            "/content/PRI/main_functions.py:195: RuntimeWarning: divide by zero encountered in log\n",
            "  A = -np.log((1 / N * No) * K1)\n",
            "[Parallel(n_jobs=-1)]: Using backend LokyBackend with 2 concurrent workers.\n"
          ],
          "name": "stderr"
        },
        {
          "output_type": "stream",
          "text": [
            "it 9/10\n",
            "{'rep__lambda_': 30, 'rep__n_clusters': 3, 'rep__nn': 5, 'rep__prediction': 'Gaussian', 'rep__reduction_': True, 'rep__sigma_initial': 4}\n",
            "acc: 70.37037037037037\n",
            "ari: 34.27488804684808\n",
            "confusionmatrix \n",
            " [[100.           0.           0.        ]\n",
            " [ 33.33333333  33.33333333  33.33333333]\n",
            " [  0.           0.         100.        ]]\n",
            "it 10/10\n",
            "Fitting 5 folds for each of 150 candidates, totalling 750 fits\n"
          ],
          "name": "stdout"
        },
        {
          "output_type": "stream",
          "text": [
            "[Parallel(n_jobs=-1)]: Done  46 tasks      | elapsed:   27.1s\n",
            "[Parallel(n_jobs=-1)]: Done 196 tasks      | elapsed:  1.9min\n",
            "[Parallel(n_jobs=-1)]: Done 446 tasks      | elapsed:  4.9min\n",
            "[Parallel(n_jobs=-1)]: Done 750 out of 750 | elapsed:  9.0min finished\n",
            "/content/PRI/main_functions.py:195: RuntimeWarning: divide by zero encountered in log\n",
            "  A = -np.log((1 / N * No) * K1)\n",
            "/content/PRI/main_functions.py:195: RuntimeWarning: divide by zero encountered in log\n",
            "  A = -np.log((1 / N * No) * K1)\n",
            "[Parallel(n_jobs=-1)]: Using backend LokyBackend with 2 concurrent workers.\n"
          ],
          "name": "stderr"
        },
        {
          "output_type": "stream",
          "text": [
            "it 10/10\n",
            "{'rep__lambda_': 30, 'rep__n_clusters': 3, 'rep__nn': 9, 'rep__prediction': 'Div', 'rep__reduction_': True, 'rep__sigma_initial': 4}\n",
            "acc: 79.62962962962963\n",
            "ari: 47.131389446346354\n",
            "confusionmatrix \n",
            " [[100.           0.           0.        ]\n",
            " [ 25.          54.16666667  20.83333333]\n",
            " [  0.           0.         100.        ]]\n",
            "it 1/10\n",
            "Fitting 5 folds for each of 150 candidates, totalling 750 fits\n"
          ],
          "name": "stdout"
        },
        {
          "output_type": "stream",
          "text": [
            "[Parallel(n_jobs=-1)]: Done  46 tasks      | elapsed:   40.5s\n",
            "[Parallel(n_jobs=-1)]: Done 196 tasks      | elapsed:  2.9min\n",
            "[Parallel(n_jobs=-1)]: Done 446 tasks      | elapsed:  6.6min\n",
            "[Parallel(n_jobs=-1)]: Done 750 out of 750 | elapsed: 11.0min finished\n"
          ],
          "name": "stderr"
        },
        {
          "output_type": "stream",
          "text": [
            "it 1/10\n",
            "{'rep__lambda_': 15, 'rep__n_clusters': 3, 'rep__nn': 9, 'rep__prediction': 'Div', 'rep__reduction_': True, 'rep__sigma_initial': 40}\n",
            "acc: 68.51851851851852\n",
            "ari: 40.24865662206301\n",
            "confusionmatrix \n",
            " [[  0.          60.          40.        ]\n",
            " [  0.          91.66666667   8.33333333]\n",
            " [  0.           0.         100.        ]]\n",
            "it 2/10\n",
            "Fitting 5 folds for each of 150 candidates, totalling 750 fits\n"
          ],
          "name": "stdout"
        },
        {
          "output_type": "stream",
          "text": [
            "[Parallel(n_jobs=-1)]: Using backend LokyBackend with 2 concurrent workers.\n",
            "[Parallel(n_jobs=-1)]: Done  46 tasks      | elapsed:   41.0s\n",
            "[Parallel(n_jobs=-1)]: Done 196 tasks      | elapsed:  2.9min\n",
            "[Parallel(n_jobs=-1)]: Done 446 tasks      | elapsed:  6.5min\n",
            "[Parallel(n_jobs=-1)]: Done 750 out of 750 | elapsed: 11.0min finished\n",
            "/content/PRI/main_functions.py:492: RuntimeWarning: divide by zero encountered in log\n",
            "  A = -np.log((1 / N * No) * K1)\n",
            "[Parallel(n_jobs=-1)]: Using backend LokyBackend with 2 concurrent workers.\n"
          ],
          "name": "stderr"
        },
        {
          "output_type": "stream",
          "text": [
            "it 2/10\n",
            "{'rep__lambda_': 30, 'rep__n_clusters': 3, 'rep__nn': 3, 'rep__prediction': 'Gaussian', 'rep__reduction_': True, 'rep__sigma_initial': 40}\n",
            "acc: 44.44444444444444\n",
            "ari: 0.0\n",
            "confusionmatrix \n",
            " [[  0. 100.   0.]\n",
            " [  0. 100.   0.]\n",
            " [  0. 100.   0.]]\n",
            "it 3/10\n",
            "Fitting 5 folds for each of 150 candidates, totalling 750 fits\n"
          ],
          "name": "stdout"
        },
        {
          "output_type": "stream",
          "text": [
            "[Parallel(n_jobs=-1)]: Done  46 tasks      | elapsed:   40.4s\n",
            "[Parallel(n_jobs=-1)]: Done 196 tasks      | elapsed:  2.8min\n",
            "[Parallel(n_jobs=-1)]: Done 446 tasks      | elapsed:  6.5min\n",
            "[Parallel(n_jobs=-1)]: Done 750 out of 750 | elapsed: 10.8min finished\n",
            "/content/PRI/main_functions.py:492: RuntimeWarning: divide by zero encountered in log\n",
            "  A = -np.log((1 / N * No) * K1)\n",
            "[Parallel(n_jobs=-1)]: Using backend LokyBackend with 2 concurrent workers.\n"
          ],
          "name": "stderr"
        },
        {
          "output_type": "stream",
          "text": [
            "it 3/10\n",
            "{'rep__lambda_': 5, 'rep__n_clusters': 3, 'rep__nn': 5, 'rep__prediction': 'Gaussian', 'rep__reduction_': True, 'rep__sigma_initial': 25}\n",
            "acc: 62.96296296296296\n",
            "ari: 37.40428293316029\n",
            "confusionmatrix \n",
            " [[100.           0.           0.        ]\n",
            " [ 20.83333333  79.16666667   0.        ]\n",
            " [  0.         100.           0.        ]]\n",
            "it 4/10\n",
            "Fitting 5 folds for each of 150 candidates, totalling 750 fits\n"
          ],
          "name": "stdout"
        },
        {
          "output_type": "stream",
          "text": [
            "[Parallel(n_jobs=-1)]: Done  46 tasks      | elapsed:   40.5s\n",
            "[Parallel(n_jobs=-1)]: Done 196 tasks      | elapsed:  2.8min\n",
            "[Parallel(n_jobs=-1)]: Done 446 tasks      | elapsed:  6.4min\n",
            "[Parallel(n_jobs=-1)]: Done 750 out of 750 | elapsed: 10.9min finished\n"
          ],
          "name": "stderr"
        },
        {
          "output_type": "stream",
          "text": [
            "it 4/10\n",
            "{'rep__lambda_': 15, 'rep__n_clusters': 3, 'rep__nn': 5, 'rep__prediction': 'Gaussian', 'rep__reduction_': True, 'rep__sigma_initial': 40}\n",
            "acc: 59.25925925925925\n",
            "ari: 27.280538847465145\n",
            "confusionmatrix \n",
            " [[ 26.66666667  73.33333333   0.        ]\n",
            " [  0.          54.16666667  45.83333333]\n",
            " [  0.           0.         100.        ]]\n",
            "it 5/10\n",
            "Fitting 5 folds for each of 150 candidates, totalling 750 fits\n"
          ],
          "name": "stdout"
        },
        {
          "output_type": "stream",
          "text": [
            "[Parallel(n_jobs=-1)]: Using backend LokyBackend with 2 concurrent workers.\n",
            "[Parallel(n_jobs=-1)]: Done  46 tasks      | elapsed:   40.4s\n",
            "[Parallel(n_jobs=-1)]: Done 196 tasks      | elapsed:  2.8min\n",
            "[Parallel(n_jobs=-1)]: Done 446 tasks      | elapsed:  6.5min\n",
            "[Parallel(n_jobs=-1)]: Done 750 out of 750 | elapsed: 10.9min finished\n"
          ],
          "name": "stderr"
        },
        {
          "output_type": "stream",
          "text": [
            "it 5/10\n",
            "{'rep__lambda_': 5, 'rep__n_clusters': 3, 'rep__nn': 3, 'rep__prediction': 'Div', 'rep__reduction_': True, 'rep__sigma_initial': 25}\n",
            "acc: 59.25925925925925\n",
            "ari: 20.895522388059707\n",
            "confusionmatrix \n",
            " [[100.           0.           0.        ]\n",
            " [ 29.16666667  70.83333333   0.        ]\n",
            " [ 80.          20.           0.        ]]\n",
            "it 6/10\n",
            "Fitting 5 folds for each of 150 candidates, totalling 750 fits\n"
          ],
          "name": "stdout"
        },
        {
          "output_type": "stream",
          "text": [
            "[Parallel(n_jobs=-1)]: Using backend LokyBackend with 2 concurrent workers.\n",
            "[Parallel(n_jobs=-1)]: Done  46 tasks      | elapsed:   40.4s\n",
            "[Parallel(n_jobs=-1)]: Done 196 tasks      | elapsed:  2.9min\n",
            "[Parallel(n_jobs=-1)]: Done 446 tasks      | elapsed:  6.6min\n",
            "[Parallel(n_jobs=-1)]: Done 750 out of 750 | elapsed: 11.0min finished\n"
          ],
          "name": "stderr"
        },
        {
          "output_type": "stream",
          "text": [
            "it 6/10\n",
            "{'rep__lambda_': 15, 'rep__n_clusters': 3, 'rep__nn': 9, 'rep__prediction': 'Gaussian', 'rep__reduction_': True, 'rep__sigma_initial': 40}\n",
            "acc: 72.22222222222221\n",
            "ari: 37.377521613832855\n",
            "confusionmatrix \n",
            " [[100.           0.           0.        ]\n",
            " [ 41.66666667  37.5         20.83333333]\n",
            " [  0.           0.         100.        ]]\n",
            "it 7/10\n",
            "Fitting 5 folds for each of 150 candidates, totalling 750 fits\n"
          ],
          "name": "stdout"
        },
        {
          "output_type": "stream",
          "text": [
            "[Parallel(n_jobs=-1)]: Using backend LokyBackend with 2 concurrent workers.\n",
            "[Parallel(n_jobs=-1)]: Done  46 tasks      | elapsed:   40.4s\n",
            "[Parallel(n_jobs=-1)]: Done 196 tasks      | elapsed:  2.9min\n",
            "[Parallel(n_jobs=-1)]: Done 446 tasks      | elapsed:  6.6min\n",
            "[Parallel(n_jobs=-1)]: Done 750 out of 750 | elapsed: 10.9min finished\n"
          ],
          "name": "stderr"
        },
        {
          "output_type": "stream",
          "text": [
            "it 7/10\n",
            "{'rep__lambda_': 15, 'rep__n_clusters': 3, 'rep__nn': 9, 'rep__prediction': 'Gaussian', 'rep__reduction_': True, 'rep__sigma_initial': 40}\n",
            "acc: 64.81481481481481\n",
            "ari: 34.150336025300724\n",
            "confusionmatrix \n",
            " [[100.           0.           0.        ]\n",
            " [ 62.5         37.5          0.        ]\n",
            " [  0.          26.66666667  73.33333333]]\n",
            "it 8/10\n",
            "Fitting 5 folds for each of 150 candidates, totalling 750 fits\n"
          ],
          "name": "stdout"
        },
        {
          "output_type": "stream",
          "text": [
            "[Parallel(n_jobs=-1)]: Using backend LokyBackend with 2 concurrent workers.\n",
            "[Parallel(n_jobs=-1)]: Done  46 tasks      | elapsed:   40.7s\n",
            "[Parallel(n_jobs=-1)]: Done 196 tasks      | elapsed:  2.9min\n",
            "[Parallel(n_jobs=-1)]: Done 446 tasks      | elapsed:  6.5min\n",
            "[Parallel(n_jobs=-1)]: Done 750 out of 750 | elapsed: 10.9min finished\n"
          ],
          "name": "stderr"
        },
        {
          "output_type": "stream",
          "text": [
            "it 8/10\n",
            "{'rep__lambda_': 15, 'rep__n_clusters': 3, 'rep__nn': 5, 'rep__prediction': 'Gaussian', 'rep__reduction_': True, 'rep__sigma_initial': 40}\n",
            "acc: 70.37037037037037\n",
            "ari: 34.459013571285105\n",
            "confusionmatrix \n",
            " [[100.           0.           0.        ]\n",
            " [ 29.16666667  33.33333333  37.5       ]\n",
            " [  0.           0.         100.        ]]\n",
            "it 9/10\n",
            "Fitting 5 folds for each of 150 candidates, totalling 750 fits\n"
          ],
          "name": "stdout"
        },
        {
          "output_type": "stream",
          "text": [
            "[Parallel(n_jobs=-1)]: Using backend LokyBackend with 2 concurrent workers.\n",
            "[Parallel(n_jobs=-1)]: Done  46 tasks      | elapsed:   40.9s\n",
            "[Parallel(n_jobs=-1)]: Done 196 tasks      | elapsed:  2.9min\n",
            "[Parallel(n_jobs=-1)]: Done 446 tasks      | elapsed:  6.4min\n",
            "[Parallel(n_jobs=-1)]: Done 750 out of 750 | elapsed: 10.8min finished\n"
          ],
          "name": "stderr"
        },
        {
          "output_type": "stream",
          "text": [
            "it 9/10\n",
            "{'rep__lambda_': 15, 'rep__n_clusters': 3, 'rep__nn': 5, 'rep__prediction': 'Gaussian', 'rep__reduction_': True, 'rep__sigma_initial': 40}\n",
            "acc: 68.51851851851852\n",
            "ari: 51.41713201980824\n",
            "confusionmatrix \n",
            " [[  0.           6.66666667  93.33333333]\n",
            " [  0.          91.66666667   8.33333333]\n",
            " [  0.           0.         100.        ]]\n",
            "it 10/10\n",
            "Fitting 5 folds for each of 150 candidates, totalling 750 fits\n"
          ],
          "name": "stdout"
        },
        {
          "output_type": "stream",
          "text": [
            "[Parallel(n_jobs=-1)]: Using backend LokyBackend with 2 concurrent workers.\n",
            "[Parallel(n_jobs=-1)]: Done  46 tasks      | elapsed:   40.5s\n",
            "[Parallel(n_jobs=-1)]: Done 196 tasks      | elapsed:  2.9min\n",
            "[Parallel(n_jobs=-1)]: Done 446 tasks      | elapsed:  6.6min\n",
            "[Parallel(n_jobs=-1)]: Done 750 out of 750 | elapsed: 11.1min finished\n"
          ],
          "name": "stderr"
        },
        {
          "output_type": "stream",
          "text": [
            "it 10/10\n",
            "{'rep__lambda_': 5, 'rep__n_clusters': 3, 'rep__nn': 9, 'rep__prediction': 'Div', 'rep__reduction_': True, 'rep__sigma_initial': 25}\n",
            "acc: 57.407407407407405\n",
            "ari: 31.872300073754083\n",
            "confusionmatrix \n",
            " [[100.           0.           0.        ]\n",
            " [ 33.33333333  66.66666667   0.        ]\n",
            " [  0.         100.           0.        ]]\n",
            "it 1/10\n",
            "Fitting 5 folds for each of 150 candidates, totalling 750 fits\n"
          ],
          "name": "stdout"
        },
        {
          "output_type": "stream",
          "text": [
            "[Parallel(n_jobs=-1)]: Using backend LokyBackend with 2 concurrent workers.\n",
            "[Parallel(n_jobs=-1)]: Done  46 tasks      | elapsed:   41.8s\n",
            "[Parallel(n_jobs=-1)]: Done 196 tasks      | elapsed:  3.0min\n",
            "[Parallel(n_jobs=-1)]: Done 446 tasks      | elapsed:  6.9min\n",
            "[Parallel(n_jobs=-1)]: Done 750 out of 750 | elapsed: 11.4min finished\n"
          ],
          "name": "stderr"
        },
        {
          "output_type": "stream",
          "text": [
            "it 1/10\n",
            "{'rep__lambda_': 5, 'rep__n_clusters': 3, 'rep__nn': 3, 'rep__optimization': 'Adam', 'rep__prediction': 'Gaussian', 'rep__reduction_': True, 'rep__sigma_initial': 40}\n",
            "acc: 72.22222222222221\n",
            "ari: 37.377521613832855\n",
            "confusionmatrix \n",
            " [[100.           0.           0.        ]\n",
            " [ 41.66666667  37.5         20.83333333]\n",
            " [  0.           0.         100.        ]]\n",
            "it 2/10\n",
            "Fitting 5 folds for each of 150 candidates, totalling 750 fits\n"
          ],
          "name": "stdout"
        },
        {
          "output_type": "stream",
          "text": [
            "[Parallel(n_jobs=-1)]: Using backend LokyBackend with 2 concurrent workers.\n",
            "[Parallel(n_jobs=-1)]: Done  46 tasks      | elapsed:   41.2s\n",
            "[Parallel(n_jobs=-1)]: Done 196 tasks      | elapsed:  2.9min\n",
            "[Parallel(n_jobs=-1)]: Done 446 tasks      | elapsed:  6.8min\n",
            "[Parallel(n_jobs=-1)]: Done 750 out of 750 | elapsed: 11.5min finished\n",
            "/content/PRI/main_functions.py:492: RuntimeWarning: divide by zero encountered in log\n",
            "  A = -np.log((1 / N * No) * K1)\n",
            "/content/PRI/main_functions.py:492: RuntimeWarning: divide by zero encountered in log\n",
            "  A = -np.log((1 / N * No) * K1)\n",
            "[Parallel(n_jobs=-1)]: Using backend LokyBackend with 2 concurrent workers.\n"
          ],
          "name": "stderr"
        },
        {
          "output_type": "stream",
          "text": [
            "it 2/10\n",
            "{'rep__lambda_': 30, 'rep__n_clusters': 3, 'rep__nn': 9, 'rep__optimization': 'Adam', 'rep__prediction': 'Div', 'rep__reduction_': True, 'rep__sigma_initial': 10}\n",
            "acc: 64.81481481481481\n",
            "ari: 33.86023294509152\n",
            "confusionmatrix \n",
            " [[100.           0.           0.        ]\n",
            " [ 58.33333333  20.83333333  20.83333333]\n",
            " [  0.           0.         100.        ]]\n",
            "it 3/10\n",
            "Fitting 5 folds for each of 150 candidates, totalling 750 fits\n"
          ],
          "name": "stdout"
        },
        {
          "output_type": "stream",
          "text": [
            "[Parallel(n_jobs=-1)]: Done  46 tasks      | elapsed:   44.1s\n",
            "[Parallel(n_jobs=-1)]: Done 196 tasks      | elapsed:  3.1min\n",
            "[Parallel(n_jobs=-1)]: Done 446 tasks      | elapsed:  6.9min\n",
            "[Parallel(n_jobs=-1)]: Done 750 out of 750 | elapsed: 11.5min finished\n",
            "/content/PRI/main_functions.py:492: RuntimeWarning: divide by zero encountered in log\n",
            "  A = -np.log((1 / N * No) * K1)\n",
            "/content/PRI/main_functions.py:492: RuntimeWarning: divide by zero encountered in log\n",
            "  A = -np.log((1 / N * No) * K1)\n",
            "[Parallel(n_jobs=-1)]: Using backend LokyBackend with 2 concurrent workers.\n"
          ],
          "name": "stderr"
        },
        {
          "output_type": "stream",
          "text": [
            "it 3/10\n",
            "{'rep__lambda_': 15, 'rep__n_clusters': 3, 'rep__nn': 3, 'rep__optimization': 'Adam', 'rep__prediction': 'Div', 'rep__reduction_': True, 'rep__sigma_initial': 15}\n",
            "acc: 77.77777777777779\n",
            "ari: 43.91534391534392\n",
            "confusionmatrix \n",
            " [[100.   0.   0.]\n",
            " [ 25.  50.  25.]\n",
            " [  0.   0. 100.]]\n",
            "it 4/10\n",
            "Fitting 5 folds for each of 150 candidates, totalling 750 fits\n"
          ],
          "name": "stdout"
        },
        {
          "output_type": "stream",
          "text": [
            "[Parallel(n_jobs=-1)]: Done  46 tasks      | elapsed:   41.6s\n",
            "[Parallel(n_jobs=-1)]: Done 196 tasks      | elapsed:  3.0min\n",
            "[Parallel(n_jobs=-1)]: Done 446 tasks      | elapsed:  6.7min\n",
            "[Parallel(n_jobs=-1)]: Done 750 out of 750 | elapsed: 11.3min finished\n",
            "/content/PRI/main_functions.py:492: RuntimeWarning: divide by zero encountered in log\n",
            "  A = -np.log((1 / N * No) * K1)\n",
            "/content/PRI/main_functions.py:492: RuntimeWarning: divide by zero encountered in log\n",
            "  A = -np.log((1 / N * No) * K1)\n",
            "[Parallel(n_jobs=-1)]: Using backend LokyBackend with 2 concurrent workers.\n"
          ],
          "name": "stderr"
        },
        {
          "output_type": "stream",
          "text": [
            "it 4/10\n",
            "{'rep__lambda_': 30, 'rep__n_clusters': 3, 'rep__nn': 9, 'rep__optimization': 'Adam', 'rep__prediction': 'Div', 'rep__reduction_': True, 'rep__sigma_initial': 10}\n",
            "acc: 64.81481481481481\n",
            "ari: 30.625943950327233\n",
            "confusionmatrix \n",
            " [[100.           0.           0.        ]\n",
            " [ 33.33333333  20.83333333  45.83333333]\n",
            " [  0.           0.         100.        ]]\n",
            "it 5/10\n",
            "Fitting 5 folds for each of 150 candidates, totalling 750 fits\n"
          ],
          "name": "stdout"
        },
        {
          "output_type": "stream",
          "text": [
            "[Parallel(n_jobs=-1)]: Done  46 tasks      | elapsed:   42.1s\n",
            "[Parallel(n_jobs=-1)]: Done 196 tasks      | elapsed:  3.0min\n",
            "[Parallel(n_jobs=-1)]: Done 446 tasks      | elapsed:  6.8min\n",
            "[Parallel(n_jobs=-1)]: Done 750 out of 750 | elapsed: 11.3min finished\n",
            "/content/PRI/main_functions.py:492: RuntimeWarning: divide by zero encountered in log\n",
            "  A = -np.log((1 / N * No) * K1)\n",
            "[Parallel(n_jobs=-1)]: Using backend LokyBackend with 2 concurrent workers.\n"
          ],
          "name": "stderr"
        },
        {
          "output_type": "stream",
          "text": [
            "it 5/10\n",
            "{'rep__lambda_': 5, 'rep__n_clusters': 3, 'rep__nn': 9, 'rep__optimization': 'Adam', 'rep__prediction': 'Div', 'rep__reduction_': True, 'rep__sigma_initial': 40}\n",
            "acc: 77.77777777777779\n",
            "ari: 43.91534391534392\n",
            "confusionmatrix \n",
            " [[100.   0.   0.]\n",
            " [ 25.  50.  25.]\n",
            " [  0.   0. 100.]]\n",
            "it 6/10\n",
            "Fitting 5 folds for each of 150 candidates, totalling 750 fits\n"
          ],
          "name": "stdout"
        },
        {
          "output_type": "stream",
          "text": [
            "[Parallel(n_jobs=-1)]: Done  46 tasks      | elapsed:   41.8s\n",
            "[Parallel(n_jobs=-1)]: Done 196 tasks      | elapsed:  3.0min\n",
            "[Parallel(n_jobs=-1)]: Done 446 tasks      | elapsed:  6.7min\n",
            "[Parallel(n_jobs=-1)]: Done 750 out of 750 | elapsed: 11.4min finished\n",
            "/content/PRI/main_functions.py:492: RuntimeWarning: divide by zero encountered in log\n",
            "  A = -np.log((1 / N * No) * K1)\n",
            "/content/PRI/main_functions.py:492: RuntimeWarning: divide by zero encountered in log\n",
            "  A = -np.log((1 / N * No) * K1)\n",
            "[Parallel(n_jobs=-1)]: Using backend LokyBackend with 2 concurrent workers.\n"
          ],
          "name": "stderr"
        },
        {
          "output_type": "stream",
          "text": [
            "it 6/10\n",
            "{'rep__lambda_': 10, 'rep__n_clusters': 3, 'rep__nn': 3, 'rep__optimization': 'Adam', 'rep__prediction': 'Div', 'rep__reduction_': True, 'rep__sigma_initial': 25}\n",
            "acc: 79.62962962962963\n",
            "ari: 47.49690429860251\n",
            "confusionmatrix \n",
            " [[100.           0.           0.        ]\n",
            " [ 29.16666667  54.16666667  16.66666667]\n",
            " [  0.           0.         100.        ]]\n",
            "it 7/10\n",
            "Fitting 5 folds for each of 150 candidates, totalling 750 fits\n"
          ],
          "name": "stdout"
        },
        {
          "output_type": "stream",
          "text": [
            "[Parallel(n_jobs=-1)]: Done  46 tasks      | elapsed:   41.3s\n",
            "[Parallel(n_jobs=-1)]: Done 196 tasks      | elapsed:  3.0min\n",
            "[Parallel(n_jobs=-1)]: Done 446 tasks      | elapsed:  6.8min\n",
            "[Parallel(n_jobs=-1)]: Done 750 out of 750 | elapsed: 11.7min finished\n",
            "/content/PRI/main_functions.py:492: RuntimeWarning: divide by zero encountered in log\n",
            "  A = -np.log((1 / N * No) * K1)\n",
            "[Parallel(n_jobs=-1)]: Using backend LokyBackend with 2 concurrent workers.\n"
          ],
          "name": "stderr"
        },
        {
          "output_type": "stream",
          "text": [
            "it 7/10\n",
            "{'rep__lambda_': 30, 'rep__n_clusters': 3, 'rep__nn': 5, 'rep__optimization': 'Adam', 'rep__prediction': 'Gaussian', 'rep__reduction_': True, 'rep__sigma_initial': 25}\n",
            "acc: 74.07407407407408\n",
            "ari: 39.22194803309624\n",
            "confusionmatrix \n",
            " [[100.           0.           0.        ]\n",
            " [ 37.5         41.66666667  20.83333333]\n",
            " [  0.           0.         100.        ]]\n",
            "it 8/10\n",
            "Fitting 5 folds for each of 150 candidates, totalling 750 fits\n"
          ],
          "name": "stdout"
        },
        {
          "output_type": "stream",
          "text": [
            "[Parallel(n_jobs=-1)]: Done  46 tasks      | elapsed:   41.9s\n",
            "[Parallel(n_jobs=-1)]: Done 196 tasks      | elapsed:  3.0min\n",
            "[Parallel(n_jobs=-1)]: Done 446 tasks      | elapsed:  6.8min\n",
            "[Parallel(n_jobs=-1)]: Done 750 out of 750 | elapsed: 11.6min finished\n",
            "/content/PRI/main_functions.py:492: RuntimeWarning: divide by zero encountered in log\n",
            "  A = -np.log((1 / N * No) * K1)\n",
            "[Parallel(n_jobs=-1)]: Using backend LokyBackend with 2 concurrent workers.\n"
          ],
          "name": "stderr"
        },
        {
          "output_type": "stream",
          "text": [
            "it 8/10\n",
            "{'rep__lambda_': 30, 'rep__n_clusters': 3, 'rep__nn': 5, 'rep__optimization': 'Adam', 'rep__prediction': 'Gaussian', 'rep__reduction_': True, 'rep__sigma_initial': 10}\n",
            "acc: 68.51851851851852\n",
            "ari: 32.670616383730206\n",
            "confusionmatrix \n",
            " [[100.           0.           0.        ]\n",
            " [ 33.33333333  29.16666667  37.5       ]\n",
            " [  0.           0.         100.        ]]\n",
            "it 9/10\n",
            "Fitting 5 folds for each of 150 candidates, totalling 750 fits\n"
          ],
          "name": "stdout"
        },
        {
          "output_type": "stream",
          "text": [
            "[Parallel(n_jobs=-1)]: Done  46 tasks      | elapsed:   42.3s\n",
            "[Parallel(n_jobs=-1)]: Done 196 tasks      | elapsed:  3.0min\n",
            "[Parallel(n_jobs=-1)]: Done 446 tasks      | elapsed:  6.8min\n",
            "[Parallel(n_jobs=-1)]: Done 750 out of 750 | elapsed: 11.3min finished\n",
            "/content/PRI/main_functions.py:492: RuntimeWarning: divide by zero encountered in log\n",
            "  A = -np.log((1 / N * No) * K1)\n",
            "/content/PRI/main_functions.py:492: RuntimeWarning: divide by zero encountered in log\n",
            "  A = -np.log((1 / N * No) * K1)\n"
          ],
          "name": "stderr"
        },
        {
          "output_type": "stream",
          "text": [
            "it 9/10\n",
            "{'rep__lambda_': 5, 'rep__n_clusters': 3, 'rep__nn': 3, 'rep__optimization': 'Adam', 'rep__prediction': 'Div', 'rep__reduction_': True, 'rep__sigma_initial': 15}\n",
            "acc: 75.92592592592592\n",
            "ari: 43.29243472698726\n",
            "confusionmatrix \n",
            " [[100.           0.           0.        ]\n",
            " [ 41.66666667  45.83333333  12.5       ]\n",
            " [  0.           0.         100.        ]]\n",
            "it 10/10\n",
            "Fitting 5 folds for each of 150 candidates, totalling 750 fits\n"
          ],
          "name": "stdout"
        },
        {
          "output_type": "stream",
          "text": [
            "[Parallel(n_jobs=-1)]: Using backend LokyBackend with 2 concurrent workers.\n",
            "[Parallel(n_jobs=-1)]: Done  46 tasks      | elapsed:   41.2s\n",
            "[Parallel(n_jobs=-1)]: Done 196 tasks      | elapsed:  2.9min\n",
            "[Parallel(n_jobs=-1)]: Done 446 tasks      | elapsed:  6.6min\n",
            "[Parallel(n_jobs=-1)]: Done 750 out of 750 | elapsed: 11.1min finished\n",
            "/content/PRI/main_functions.py:492: RuntimeWarning: divide by zero encountered in log\n",
            "  A = -np.log((1 / N * No) * K1)\n",
            "[Parallel(n_jobs=-1)]: Using backend LokyBackend with 2 concurrent workers.\n"
          ],
          "name": "stderr"
        },
        {
          "output_type": "stream",
          "text": [
            "it 10/10\n",
            "{'rep__lambda_': 50, 'rep__n_clusters': 3, 'rep__nn': 3, 'rep__optimization': 'Adam', 'rep__prediction': 'Gaussian', 'rep__reduction_': True, 'rep__sigma_initial': 25}\n",
            "acc: 79.62962962962963\n",
            "ari: 47.49690429860251\n",
            "confusionmatrix \n",
            " [[100.           0.           0.        ]\n",
            " [ 29.16666667  54.16666667  16.66666667]\n",
            " [  0.           0.         100.        ]]\n",
            "it 1/10\n",
            "Fitting 5 folds for each of 150 candidates, totalling 750 fits\n"
          ],
          "name": "stdout"
        },
        {
          "output_type": "stream",
          "text": [
            "[Parallel(n_jobs=-1)]: Done  46 tasks      | elapsed:   41.3s\n",
            "[Parallel(n_jobs=-1)]: Done 196 tasks      | elapsed:  2.9min\n",
            "[Parallel(n_jobs=-1)]: Done 446 tasks      | elapsed:  6.7min\n",
            "[Parallel(n_jobs=-1)]: Done 750 out of 750 | elapsed: 11.2min finished\n"
          ],
          "name": "stderr"
        },
        {
          "output_type": "stream",
          "text": [
            "it 1/10\n",
            "{'rep__lambda_': 5, 'rep__n_clusters': 3, 'rep__nn': 9, 'rep__optimization': 'Nadam', 'rep__prediction': 'Gaussian', 'rep__reduction_': True, 'rep__sigma_initial': 50}\n",
            "acc: 70.37037037037037\n",
            "ari: 35.01031400412561\n",
            "confusionmatrix \n",
            " [[100.           0.           0.        ]\n",
            " [ 41.66666667  33.33333333  25.        ]\n",
            " [  0.           0.         100.        ]]\n",
            "it 2/10\n",
            "Fitting 5 folds for each of 150 candidates, totalling 750 fits\n"
          ],
          "name": "stdout"
        },
        {
          "output_type": "stream",
          "text": [
            "[Parallel(n_jobs=-1)]: Using backend LokyBackend with 2 concurrent workers.\n",
            "[Parallel(n_jobs=-1)]: Done  46 tasks      | elapsed:   41.3s\n",
            "[Parallel(n_jobs=-1)]: Done 196 tasks      | elapsed:  2.9min\n",
            "[Parallel(n_jobs=-1)]: Done 446 tasks      | elapsed:  6.6min\n",
            "[Parallel(n_jobs=-1)]: Done 750 out of 750 | elapsed: 11.2min finished\n",
            "/content/PRI/main_functions.py:492: RuntimeWarning: divide by zero encountered in log\n",
            "  A = -np.log((1 / N * No) * K1)\n",
            "[Parallel(n_jobs=-1)]: Using backend LokyBackend with 2 concurrent workers.\n"
          ],
          "name": "stderr"
        },
        {
          "output_type": "stream",
          "text": [
            "it 2/10\n",
            "{'rep__lambda_': 30, 'rep__n_clusters': 3, 'rep__nn': 9, 'rep__optimization': 'Nadam', 'rep__prediction': 'Gaussian', 'rep__reduction_': True, 'rep__sigma_initial': 15}\n",
            "acc: 74.07407407407408\n",
            "ari: 40.139009556907034\n",
            "confusionmatrix \n",
            " [[100.           0.           0.        ]\n",
            " [ 41.66666667  41.66666667  16.66666667]\n",
            " [  0.           0.         100.        ]]\n",
            "it 3/10\n",
            "Fitting 5 folds for each of 150 candidates, totalling 750 fits\n"
          ],
          "name": "stdout"
        },
        {
          "output_type": "stream",
          "text": [
            "[Parallel(n_jobs=-1)]: Done  46 tasks      | elapsed:   41.8s\n",
            "[Parallel(n_jobs=-1)]: Done 196 tasks      | elapsed:  2.9min\n",
            "[Parallel(n_jobs=-1)]: Done 446 tasks      | elapsed:  6.7min\n",
            "[Parallel(n_jobs=-1)]: Done 750 out of 750 | elapsed: 11.2min finished\n"
          ],
          "name": "stderr"
        },
        {
          "output_type": "stream",
          "text": [
            "it 3/10\n",
            "{'rep__lambda_': 5, 'rep__n_clusters': 3, 'rep__nn': 9, 'rep__optimization': 'Nadam', 'rep__prediction': 'Gaussian', 'rep__reduction_': True, 'rep__sigma_initial': 40}\n",
            "acc: 70.37037037037037\n",
            "ari: 34.459013571285105\n",
            "confusionmatrix \n",
            " [[100.           0.           0.        ]\n",
            " [ 37.5         33.33333333  29.16666667]\n",
            " [  0.           0.         100.        ]]\n",
            "it 4/10\n",
            "Fitting 5 folds for each of 150 candidates, totalling 750 fits\n"
          ],
          "name": "stdout"
        },
        {
          "output_type": "stream",
          "text": [
            "[Parallel(n_jobs=-1)]: Using backend LokyBackend with 2 concurrent workers.\n",
            "[Parallel(n_jobs=-1)]: Done  46 tasks      | elapsed:   42.5s\n",
            "[Parallel(n_jobs=-1)]: Done 196 tasks      | elapsed:  3.3min\n",
            "[Parallel(n_jobs=-1)]: Done 446 tasks      | elapsed:  7.2min\n",
            "[Parallel(n_jobs=-1)]: Done 750 out of 750 | elapsed: 11.9min finished\n"
          ],
          "name": "stderr"
        },
        {
          "output_type": "stream",
          "text": [
            "it 4/10\n",
            "{'rep__lambda_': 10, 'rep__n_clusters': 3, 'rep__nn': 5, 'rep__optimization': 'Nadam', 'rep__prediction': 'Gaussian', 'rep__reduction_': True, 'rep__sigma_initial': 40}\n",
            "acc: 72.22222222222221\n",
            "ari: 36.64241164241164\n",
            "confusionmatrix \n",
            " [[100.    0.    0. ]\n",
            " [ 37.5  37.5  25. ]\n",
            " [  0.    0.  100. ]]\n",
            "it 5/10\n",
            "Fitting 5 folds for each of 150 candidates, totalling 750 fits\n"
          ],
          "name": "stdout"
        },
        {
          "output_type": "stream",
          "text": [
            "[Parallel(n_jobs=-1)]: Using backend LokyBackend with 2 concurrent workers.\n",
            "[Parallel(n_jobs=-1)]: Done  46 tasks      | elapsed:   41.8s\n",
            "[Parallel(n_jobs=-1)]: Done 196 tasks      | elapsed:  3.0min\n",
            "[Parallel(n_jobs=-1)]: Done 446 tasks      | elapsed:  6.8min\n"
          ],
          "name": "stderr"
        }
      ]
    },
    {
      "cell_type": "markdown",
      "metadata": {
        "id": "Zg0jgls_EDJz",
        "colab_type": "text"
      },
      "source": [
        "**Moons**"
      ]
    },
    {
      "cell_type": "code",
      "metadata": {
        "id": "9jCifxb1EFgE",
        "colab_type": "code",
        "colab": {}
      },
      "source": [
        "n_clusters=3\n",
        "steps =[[('rep',SC())],\n",
        "        [('rep',Kmeans())], \n",
        "        [('rep', PRI())], \n",
        "         [('rep', MiniBatchPRI())], \n",
        "         [('rep', MiniBatchPRI())], \n",
        "          [('rep',  MiniBatchPRI())]] \n",
        "   \n",
        "parameters =[{'rep__gamma_':[10,100,200,500,1000],'rep__n_neighbors_':[5,10,15],'rep__nn_':[3,5,9],'rep__n_clusters_':[n_clusters]},\n",
        "             {'rep__nn':[3,5,9],'rep__n_clusters_':[n_clusters]},\n",
        "             {'rep__lambda_':[5, 10, 15, 30, 50],\n",
        "             'rep__sigma_initial':[4,10,15,25,40],\n",
        "             'rep__nn':[3,5,9],'rep__n_clusters':[n_clusters],'rep__reduction_':[True],'rep__prediction':['Gaussian','Div']},\n",
        "             {'rep__lambda_':[5, 10, 15, 30, 50],\n",
        "             'rep__sigma_initial':[10,15,25,40,50],\n",
        "             'rep__nn':[3,5,9],'rep__n_clusters':[n_clusters],'rep__reduction_':[True],'rep__prediction':['Gaussian','Div']},\n",
        "             {'rep__lambda_':[5, 10, 15, 30, 50],\n",
        "             'rep__sigma_initial':[10,15,25,40,50],\n",
        "             'rep__nn':[3,5,9],'rep__n_clusters':[n_clusters],'rep__reduction_':[True],'rep__optimization':['Adam'],'rep__prediction':['Gaussian','Div']},\n",
        "             {'rep__lambda_':[5, 10, 15, 30, 50],\n",
        "             'rep__sigma_initial':[10,15,25,40,50],\n",
        "             'rep__nn':[3,5,9],'rep__n_clusters':[n_clusters],'rep__reduction_':[True],'rep__optimization':['Nadam'],'rep__prediction':['Gaussian','Div']}]"
      ],
      "execution_count": 0,
      "outputs": []
    },
    {
      "cell_type": "code",
      "metadata": {
        "id": "Etzrql3GEPNj",
        "colab_type": "code",
        "outputId": "e1f06605-a1be-44d1-8224-d287fde22027",
        "colab": {
          "base_uri": "https://localhost:8080/",
          "height": 1000
        }
      },
      "source": [
        "#valildacion cruzada anidada\n",
        "for i in range(len(steps)):\n",
        "  meth_name = ['sc', 'Knn', 'FP','SGD','SGDA','SGDN']\n",
        "  name='/content/PRI/moons' + str(meth_name[i]) + '.joblib'\n",
        "  Niter = 10 #numero particiones\n",
        "  acc =np.zeros(Niter)#arreglo para guardar acierto\n",
        "  ari=np.zeros(Niter)\n",
        "  Nc = len(np.unique(labels_moons))\n",
        "  cmc = np.zeros((Niter,Nc,Nc))#arreglo para guarda matrices de confusion\n",
        "  best_estimators= []#mejor metodo por iteracion\n",
        "  best_parameters= []#mejor metodo por iteracion\n",
        "\n",
        "  for j in range(Niter):\n",
        "          print('it %d/%d'%(j+1,Niter))\n",
        "          ## Accuracy\n",
        "          X_train, X_test, y_train, y_test = train_test_split(noisy_moons,labels_moons,test_size=0.2, stratify=labels_moons)\n",
        "          grid_search = GridSearchCV(Pipeline(steps[i]) , parameters[i],cv=5,verbose=1,scoring='accuracy',n_jobs=-1)\n",
        "          #generar mejor modelo\n",
        "          grid_search.fit(X_train,y_train)\n",
        "          #estimar salida conjunto de test\n",
        "          y_pred = grid_search.best_estimator_.predict(X_test)\n",
        "          #guardar mejor modelo\n",
        "          best_estimators.append(grid_search.best_estimator_)\n",
        "          best_parameters.append(grid_search.best_params_)\n",
        "          \n",
        "          #guardar acierto\n",
        "          acc[j] = 100*accuracy_score(y_test,y_pred)\n",
        "          ari[j]=100*adjusted_rand_score(y_test,y_pred)\n",
        "          #estimar matriz de confusion\n",
        "          cm = confusion_matrix(y_test, y_pred)\n",
        "          cm = 100*cm.astype('float') / cm.sum(axis=1)[:, np.newaxis]\n",
        "          cmc[j] = cm\n",
        "          print('it %d/%d'%(j+1,Niter))\n",
        "          print(grid_search.best_params_)\n",
        "          print('acc:',acc[j])\n",
        "          print('ari:',ari[j])\n",
        "          print('confusionmatrix \\n',cmc[j])\n",
        "          savedata = {\n",
        "              'ari':ari,\n",
        "              'acc':acc,\n",
        "              'confusionmatrix':cmc,\n",
        "              'best_models':best_estimators,\n",
        "              'best_parameters':best_parameters,\n",
        "                } \n",
        "          dump(savedata,name)"
      ],
      "execution_count": 9,
      "outputs": [
        {
          "output_type": "stream",
          "text": [
            "it 1/10\n",
            "Fitting 5 folds for each of 45 candidates, totalling 225 fits\n"
          ],
          "name": "stdout"
        },
        {
          "output_type": "stream",
          "text": [
            "[Parallel(n_jobs=-1)]: Using backend LokyBackend with 2 concurrent workers.\n",
            "[Parallel(n_jobs=-1)]: Done 110 tasks      | elapsed:   29.6s\n",
            "[Parallel(n_jobs=-1)]: Done 225 out of 225 | elapsed:  4.8min finished\n",
            "[Parallel(n_jobs=-1)]: Using backend LokyBackend with 2 concurrent workers.\n"
          ],
          "name": "stderr"
        },
        {
          "output_type": "stream",
          "text": [
            "it 1/10\n",
            "{'rep__gamma_': 100, 'rep__n_clusters_': 3, 'rep__n_neighbors_': 5, 'rep__nn_': 3}\n",
            "acc: 100.0\n",
            "ari: 100.0\n",
            "confusionmatrix \n",
            " [[100.   0.]\n",
            " [  0. 100.]]\n",
            "it 2/10\n",
            "Fitting 5 folds for each of 45 candidates, totalling 225 fits\n"
          ],
          "name": "stdout"
        },
        {
          "output_type": "stream",
          "text": [
            "[Parallel(n_jobs=-1)]: Done 122 tasks      | elapsed:   42.8s\n",
            "[Parallel(n_jobs=-1)]: Done 225 out of 225 | elapsed:  4.8min finished\n",
            "[Parallel(n_jobs=-1)]: Using backend LokyBackend with 2 concurrent workers.\n"
          ],
          "name": "stderr"
        },
        {
          "output_type": "stream",
          "text": [
            "it 2/10\n",
            "{'rep__gamma_': 100, 'rep__n_clusters_': 3, 'rep__n_neighbors_': 5, 'rep__nn_': 3}\n",
            "acc: 100.0\n",
            "ari: 100.0\n",
            "confusionmatrix \n",
            " [[100.   0.]\n",
            " [  0. 100.]]\n",
            "it 3/10\n",
            "Fitting 5 folds for each of 45 candidates, totalling 225 fits\n"
          ],
          "name": "stdout"
        },
        {
          "output_type": "stream",
          "text": [
            "[Parallel(n_jobs=-1)]: Done 122 tasks      | elapsed:   56.8s\n",
            "[Parallel(n_jobs=-1)]: Done 225 out of 225 | elapsed:  5.1min finished\n",
            "[Parallel(n_jobs=-1)]: Using backend LokyBackend with 2 concurrent workers.\n"
          ],
          "name": "stderr"
        },
        {
          "output_type": "stream",
          "text": [
            "it 3/10\n",
            "{'rep__gamma_': 100, 'rep__n_clusters_': 3, 'rep__n_neighbors_': 5, 'rep__nn_': 3}\n",
            "acc: 100.0\n",
            "ari: 100.0\n",
            "confusionmatrix \n",
            " [[100.   0.]\n",
            " [  0. 100.]]\n",
            "it 4/10\n",
            "Fitting 5 folds for each of 45 candidates, totalling 225 fits\n"
          ],
          "name": "stdout"
        },
        {
          "output_type": "stream",
          "text": [
            "[Parallel(n_jobs=-1)]: Done 122 tasks      | elapsed:   42.1s\n",
            "[Parallel(n_jobs=-1)]: Done 225 out of 225 | elapsed:  4.9min finished\n",
            "[Parallel(n_jobs=-1)]: Using backend LokyBackend with 2 concurrent workers.\n"
          ],
          "name": "stderr"
        },
        {
          "output_type": "stream",
          "text": [
            "it 4/10\n",
            "{'rep__gamma_': 100, 'rep__n_clusters_': 3, 'rep__n_neighbors_': 5, 'rep__nn_': 3}\n",
            "acc: 100.0\n",
            "ari: 100.0\n",
            "confusionmatrix \n",
            " [[100.   0.]\n",
            " [  0. 100.]]\n",
            "it 5/10\n",
            "Fitting 5 folds for each of 45 candidates, totalling 225 fits\n"
          ],
          "name": "stdout"
        },
        {
          "output_type": "stream",
          "text": [
            "[Parallel(n_jobs=-1)]: Done 122 tasks      | elapsed:   51.0s\n",
            "[Parallel(n_jobs=-1)]: Done 225 out of 225 | elapsed:  5.0min finished\n",
            "[Parallel(n_jobs=-1)]: Using backend LokyBackend with 2 concurrent workers.\n"
          ],
          "name": "stderr"
        },
        {
          "output_type": "stream",
          "text": [
            "it 5/10\n",
            "{'rep__gamma_': 100, 'rep__n_clusters_': 3, 'rep__n_neighbors_': 5, 'rep__nn_': 3}\n",
            "acc: 100.0\n",
            "ari: 100.0\n",
            "confusionmatrix \n",
            " [[100.   0.]\n",
            " [  0. 100.]]\n",
            "it 6/10\n",
            "Fitting 5 folds for each of 45 candidates, totalling 225 fits\n"
          ],
          "name": "stdout"
        },
        {
          "output_type": "stream",
          "text": [
            "[Parallel(n_jobs=-1)]: Done 122 tasks      | elapsed:   48.1s\n",
            "[Parallel(n_jobs=-1)]: Done 225 out of 225 | elapsed:  5.0min finished\n",
            "[Parallel(n_jobs=-1)]: Using backend LokyBackend with 2 concurrent workers.\n"
          ],
          "name": "stderr"
        },
        {
          "output_type": "stream",
          "text": [
            "it 6/10\n",
            "{'rep__gamma_': 100, 'rep__n_clusters_': 3, 'rep__n_neighbors_': 5, 'rep__nn_': 3}\n",
            "acc: 100.0\n",
            "ari: 100.0\n",
            "confusionmatrix \n",
            " [[100.   0.]\n",
            " [  0. 100.]]\n",
            "it 7/10\n",
            "Fitting 5 folds for each of 45 candidates, totalling 225 fits\n"
          ],
          "name": "stdout"
        },
        {
          "output_type": "stream",
          "text": [
            "[Parallel(n_jobs=-1)]: Done 104 tasks      | elapsed:   32.8s\n",
            "[Parallel(n_jobs=-1)]: Done 225 out of 225 | elapsed:  5.3min finished\n",
            "[Parallel(n_jobs=-1)]: Using backend LokyBackend with 2 concurrent workers.\n"
          ],
          "name": "stderr"
        },
        {
          "output_type": "stream",
          "text": [
            "it 7/10\n",
            "{'rep__gamma_': 100, 'rep__n_clusters_': 3, 'rep__n_neighbors_': 5, 'rep__nn_': 3}\n",
            "acc: 100.0\n",
            "ari: 100.0\n",
            "confusionmatrix \n",
            " [[100.   0.]\n",
            " [  0. 100.]]\n",
            "it 8/10\n",
            "Fitting 5 folds for each of 45 candidates, totalling 225 fits\n"
          ],
          "name": "stdout"
        },
        {
          "output_type": "stream",
          "text": [
            "[Parallel(n_jobs=-1)]: Done 122 tasks      | elapsed:   55.8s\n",
            "[Parallel(n_jobs=-1)]: Done 225 out of 225 | elapsed:  5.2min finished\n",
            "[Parallel(n_jobs=-1)]: Using backend LokyBackend with 2 concurrent workers.\n"
          ],
          "name": "stderr"
        },
        {
          "output_type": "stream",
          "text": [
            "it 8/10\n",
            "{'rep__gamma_': 100, 'rep__n_clusters_': 3, 'rep__n_neighbors_': 5, 'rep__nn_': 3}\n",
            "acc: 100.0\n",
            "ari: 100.0\n",
            "confusionmatrix \n",
            " [[100.   0.]\n",
            " [  0. 100.]]\n",
            "it 9/10\n",
            "Fitting 5 folds for each of 45 candidates, totalling 225 fits\n"
          ],
          "name": "stdout"
        },
        {
          "output_type": "stream",
          "text": [
            "[Parallel(n_jobs=-1)]: Done 122 tasks      | elapsed:   54.7s\n",
            "[Parallel(n_jobs=-1)]: Done 225 out of 225 | elapsed:  5.2min finished\n",
            "[Parallel(n_jobs=-1)]: Using backend LokyBackend with 2 concurrent workers.\n"
          ],
          "name": "stderr"
        },
        {
          "output_type": "stream",
          "text": [
            "it 9/10\n",
            "{'rep__gamma_': 100, 'rep__n_clusters_': 3, 'rep__n_neighbors_': 5, 'rep__nn_': 3}\n",
            "acc: 100.0\n",
            "ari: 100.0\n",
            "confusionmatrix \n",
            " [[100.   0.]\n",
            " [  0. 100.]]\n",
            "it 10/10\n",
            "Fitting 5 folds for each of 45 candidates, totalling 225 fits\n"
          ],
          "name": "stdout"
        },
        {
          "output_type": "stream",
          "text": [
            "[Parallel(n_jobs=-1)]: Done 122 tasks      | elapsed:   38.0s\n",
            "[Parallel(n_jobs=-1)]: Done 225 out of 225 | elapsed:  4.7min finished\n",
            "[Parallel(n_jobs=-1)]: Using backend LokyBackend with 2 concurrent workers.\n"
          ],
          "name": "stderr"
        },
        {
          "output_type": "stream",
          "text": [
            "it 10/10\n",
            "{'rep__gamma_': 100, 'rep__n_clusters_': 3, 'rep__n_neighbors_': 5, 'rep__nn_': 3}\n",
            "acc: 100.0\n",
            "ari: 100.0\n",
            "confusionmatrix \n",
            " [[100.   0.]\n",
            " [  0. 100.]]\n",
            "it 1/10\n",
            "Fitting 5 folds for each of 3 candidates, totalling 15 fits\n"
          ],
          "name": "stdout"
        },
        {
          "output_type": "stream",
          "text": [
            "[Parallel(n_jobs=-1)]: Done  15 out of  15 | elapsed:    0.4s finished\n",
            "[Parallel(n_jobs=-1)]: Using backend LokyBackend with 2 concurrent workers.\n"
          ],
          "name": "stderr"
        },
        {
          "output_type": "stream",
          "text": [
            "it 1/10\n",
            "{'rep__n_clusters_': 3, 'rep__nn': 5}\n",
            "acc: 77.5\n",
            "ari: 28.53201970443349\n",
            "confusionmatrix \n",
            " [[90. 10.]\n",
            " [35. 65.]]\n",
            "it 2/10\n",
            "Fitting 5 folds for each of 3 candidates, totalling 15 fits\n"
          ],
          "name": "stdout"
        },
        {
          "output_type": "stream",
          "text": [
            "[Parallel(n_jobs=-1)]: Done  15 out of  15 | elapsed:    0.5s finished\n",
            "[Parallel(n_jobs=-1)]: Using backend LokyBackend with 2 concurrent workers.\n"
          ],
          "name": "stderr"
        },
        {
          "output_type": "stream",
          "text": [
            "it 2/10\n",
            "{'rep__n_clusters_': 3, 'rep__nn': 9}\n",
            "acc: 77.5\n",
            "ari: 28.793927099011846\n",
            "confusionmatrix \n",
            " [[100.   0.]\n",
            " [ 45.  55.]]\n",
            "it 3/10\n",
            "Fitting 5 folds for each of 3 candidates, totalling 15 fits\n"
          ],
          "name": "stdout"
        },
        {
          "output_type": "stream",
          "text": [
            "[Parallel(n_jobs=-1)]: Done  15 out of  15 | elapsed:    0.4s finished\n",
            "[Parallel(n_jobs=-1)]: Using backend LokyBackend with 2 concurrent workers.\n"
          ],
          "name": "stderr"
        },
        {
          "output_type": "stream",
          "text": [
            "it 3/10\n",
            "{'rep__n_clusters_': 3, 'rep__nn': 3}\n",
            "acc: 70.0\n",
            "ari: 13.99317406143345\n",
            "confusionmatrix \n",
            " [[55. 45.]\n",
            " [15. 85.]]\n",
            "it 4/10\n",
            "Fitting 5 folds for each of 3 candidates, totalling 15 fits\n"
          ],
          "name": "stdout"
        },
        {
          "output_type": "stream",
          "text": [
            "[Parallel(n_jobs=-1)]: Done  15 out of  15 | elapsed:    0.5s finished\n",
            "[Parallel(n_jobs=-1)]: Using backend LokyBackend with 2 concurrent workers.\n"
          ],
          "name": "stderr"
        },
        {
          "output_type": "stream",
          "text": [
            "it 4/10\n",
            "{'rep__n_clusters_': 3, 'rep__nn': 9}\n",
            "acc: 70.0\n",
            "ari: 13.99317406143345\n",
            "confusionmatrix \n",
            " [[55. 45.]\n",
            " [15. 85.]]\n",
            "it 5/10\n",
            "Fitting 5 folds for each of 3 candidates, totalling 15 fits\n"
          ],
          "name": "stdout"
        },
        {
          "output_type": "stream",
          "text": [
            "[Parallel(n_jobs=-1)]: Done  15 out of  15 | elapsed:    0.5s finished\n",
            "[Parallel(n_jobs=-1)]: Using backend LokyBackend with 2 concurrent workers.\n"
          ],
          "name": "stderr"
        },
        {
          "output_type": "stream",
          "text": [
            "it 5/10\n",
            "{'rep__n_clusters_': 3, 'rep__nn': 9}\n",
            "acc: 70.0\n",
            "ari: 14.15094339622641\n",
            "confusionmatrix \n",
            " [[50. 50.]\n",
            " [10. 90.]]\n",
            "it 6/10\n",
            "Fitting 5 folds for each of 3 candidates, totalling 15 fits\n"
          ],
          "name": "stdout"
        },
        {
          "output_type": "stream",
          "text": [
            "[Parallel(n_jobs=-1)]: Done  15 out of  15 | elapsed:    0.4s finished\n",
            "[Parallel(n_jobs=-1)]: Using backend LokyBackend with 2 concurrent workers.\n"
          ],
          "name": "stderr"
        },
        {
          "output_type": "stream",
          "text": [
            "it 6/10\n",
            "{'rep__n_clusters_': 3, 'rep__nn': 3}\n",
            "acc: 77.5\n",
            "ari: 28.644501278772378\n",
            "confusionmatrix \n",
            " [[95.  5.]\n",
            " [40. 60.]]\n",
            "it 7/10\n",
            "Fitting 5 folds for each of 3 candidates, totalling 15 fits\n"
          ],
          "name": "stdout"
        },
        {
          "output_type": "stream",
          "text": [
            "[Parallel(n_jobs=-1)]: Done  15 out of  15 | elapsed:    0.4s finished\n",
            "[Parallel(n_jobs=-1)]: Using backend LokyBackend with 2 concurrent workers.\n"
          ],
          "name": "stderr"
        },
        {
          "output_type": "stream",
          "text": [
            "it 7/10\n",
            "{'rep__n_clusters_': 3, 'rep__nn': 9}\n",
            "acc: 65.0\n",
            "ari: 7.794232268121577\n",
            "confusionmatrix \n",
            " [[ 30.  70.]\n",
            " [  0. 100.]]\n",
            "it 8/10\n",
            "Fitting 5 folds for each of 3 candidates, totalling 15 fits\n"
          ],
          "name": "stdout"
        },
        {
          "output_type": "stream",
          "text": [
            "[Parallel(n_jobs=-1)]: Done  15 out of  15 | elapsed:    0.5s finished\n",
            "[Parallel(n_jobs=-1)]: Using backend LokyBackend with 2 concurrent workers.\n"
          ],
          "name": "stderr"
        },
        {
          "output_type": "stream",
          "text": [
            "it 8/10\n",
            "{'rep__n_clusters_': 3, 'rep__nn': 9}\n",
            "acc: 72.5\n",
            "ari: 18.414322250639387\n",
            "confusionmatrix \n",
            " [[55. 45.]\n",
            " [10. 90.]]\n",
            "it 9/10\n",
            "Fitting 5 folds for each of 3 candidates, totalling 15 fits\n"
          ],
          "name": "stdout"
        },
        {
          "output_type": "stream",
          "text": [
            "[Parallel(n_jobs=-1)]: Done  15 out of  15 | elapsed:    0.5s finished\n",
            "[Parallel(n_jobs=-1)]: Using backend LokyBackend with 2 concurrent workers.\n"
          ],
          "name": "stderr"
        },
        {
          "output_type": "stream",
          "text": [
            "it 9/10\n",
            "{'rep__n_clusters_': 3, 'rep__nn': 5}\n",
            "acc: 72.5\n",
            "ari: 18.585171127544008\n",
            "confusionmatrix \n",
            " [[95.  5.]\n",
            " [50. 50.]]\n",
            "it 10/10\n",
            "Fitting 5 folds for each of 3 candidates, totalling 15 fits\n"
          ],
          "name": "stdout"
        },
        {
          "output_type": "stream",
          "text": [
            "[Parallel(n_jobs=-1)]: Done  15 out of  15 | elapsed:    0.5s finished\n",
            "[Parallel(n_jobs=-1)]: Using backend LokyBackend with 2 concurrent workers.\n"
          ],
          "name": "stderr"
        },
        {
          "output_type": "stream",
          "text": [
            "it 10/10\n",
            "{'rep__n_clusters_': 3, 'rep__nn': 9}\n",
            "acc: 77.5\n",
            "ari: 28.793927099011846\n",
            "confusionmatrix \n",
            " [[100.   0.]\n",
            " [ 45.  55.]]\n",
            "it 1/10\n",
            "Fitting 5 folds for each of 150 candidates, totalling 750 fits\n"
          ],
          "name": "stdout"
        },
        {
          "output_type": "stream",
          "text": [
            "[Parallel(n_jobs=-1)]: Done  46 tasks      | elapsed:   21.0s\n",
            "[Parallel(n_jobs=-1)]: Done 196 tasks      | elapsed:  1.4min\n",
            "[Parallel(n_jobs=-1)]: Done 446 tasks      | elapsed:  3.1min\n",
            "[Parallel(n_jobs=-1)]: Done 750 out of 750 | elapsed:  5.3min finished\n"
          ],
          "name": "stderr"
        },
        {
          "output_type": "stream",
          "text": [
            "it 1/10\n",
            "{'rep__lambda_': 15, 'rep__n_clusters': 3, 'rep__nn': 5, 'rep__prediction': 'Div', 'rep__reduction_': True, 'rep__sigma_initial': 25}\n",
            "acc: 82.5\n",
            "ari: 40.76533631402459\n",
            "confusionmatrix \n",
            " [[90. 10.]\n",
            " [25. 75.]]\n",
            "it 2/10\n",
            "Fitting 5 folds for each of 150 candidates, totalling 750 fits\n"
          ],
          "name": "stdout"
        },
        {
          "output_type": "stream",
          "text": [
            "[Parallel(n_jobs=-1)]: Using backend LokyBackend with 2 concurrent workers.\n",
            "[Parallel(n_jobs=-1)]: Done  46 tasks      | elapsed:   21.3s\n",
            "[Parallel(n_jobs=-1)]: Done 196 tasks      | elapsed:  1.5min\n",
            "[Parallel(n_jobs=-1)]: Done 446 tasks      | elapsed:  3.2min\n",
            "[Parallel(n_jobs=-1)]: Done 750 out of 750 | elapsed:  5.4min finished\n"
          ],
          "name": "stderr"
        },
        {
          "output_type": "stream",
          "text": [
            "it 2/10\n",
            "{'rep__lambda_': 5, 'rep__n_clusters': 3, 'rep__nn': 9, 'rep__prediction': 'Div', 'rep__reduction_': True, 'rep__sigma_initial': 25}\n",
            "acc: 72.5\n",
            "ari: 18.585171127544008\n",
            "confusionmatrix \n",
            " [[95.  5.]\n",
            " [50. 50.]]\n",
            "it 3/10\n",
            "Fitting 5 folds for each of 150 candidates, totalling 750 fits\n"
          ],
          "name": "stdout"
        },
        {
          "output_type": "stream",
          "text": [
            "[Parallel(n_jobs=-1)]: Using backend LokyBackend with 2 concurrent workers.\n",
            "[Parallel(n_jobs=-1)]: Done  46 tasks      | elapsed:   20.7s\n",
            "[Parallel(n_jobs=-1)]: Done 196 tasks      | elapsed:  1.4min\n",
            "[Parallel(n_jobs=-1)]: Done 446 tasks      | elapsed:  3.1min\n",
            "[Parallel(n_jobs=-1)]: Done 750 out of 750 | elapsed:  5.3min finished\n"
          ],
          "name": "stderr"
        },
        {
          "output_type": "stream",
          "text": [
            "it 3/10\n",
            "{'rep__lambda_': 50, 'rep__n_clusters': 3, 'rep__nn': 9, 'rep__prediction': 'Gaussian', 'rep__reduction_': True, 'rep__sigma_initial': 25}\n",
            "acc: 72.5\n",
            "ari: 18.28571428571428\n",
            "confusionmatrix \n",
            " [[60. 40.]\n",
            " [15. 85.]]\n",
            "it 4/10\n",
            "Fitting 5 folds for each of 150 candidates, totalling 750 fits\n"
          ],
          "name": "stdout"
        },
        {
          "output_type": "stream",
          "text": [
            "[Parallel(n_jobs=-1)]: Using backend LokyBackend with 2 concurrent workers.\n",
            "[Parallel(n_jobs=-1)]: Done  46 tasks      | elapsed:   17.9s\n",
            "[Parallel(n_jobs=-1)]: Done 196 tasks      | elapsed:  1.3min\n",
            "[Parallel(n_jobs=-1)]: Done 446 tasks      | elapsed:  3.1min\n",
            "[Parallel(n_jobs=-1)]: Done 750 out of 750 | elapsed:  5.2min finished\n"
          ],
          "name": "stderr"
        },
        {
          "output_type": "stream",
          "text": [
            "it 4/10\n",
            "{'rep__lambda_': 10, 'rep__n_clusters': 3, 'rep__nn': 3, 'rep__prediction': 'Gaussian', 'rep__reduction_': True, 'rep__sigma_initial': 15}\n",
            "acc: 65.0\n",
            "ari: 7.215686274509807\n",
            "confusionmatrix \n",
            " [[90. 10.]\n",
            " [60. 40.]]\n",
            "it 5/10\n",
            "Fitting 5 folds for each of 150 candidates, totalling 750 fits\n"
          ],
          "name": "stdout"
        },
        {
          "output_type": "stream",
          "text": [
            "[Parallel(n_jobs=-1)]: Using backend LokyBackend with 2 concurrent workers.\n",
            "[Parallel(n_jobs=-1)]: Done  46 tasks      | elapsed:   20.0s\n",
            "[Parallel(n_jobs=-1)]: Done 196 tasks      | elapsed:  1.4min\n",
            "[Parallel(n_jobs=-1)]: Done 446 tasks      | elapsed:  3.2min\n",
            "[Parallel(n_jobs=-1)]: Done 750 out of 750 | elapsed:  5.4min finished\n"
          ],
          "name": "stderr"
        },
        {
          "output_type": "stream",
          "text": [
            "it 5/10\n",
            "{'rep__lambda_': 10, 'rep__n_clusters': 3, 'rep__nn': 9, 'rep__prediction': 'Gaussian', 'rep__reduction_': True, 'rep__sigma_initial': 25}\n",
            "acc: 85.0\n",
            "ari: 47.781569965870304\n",
            "confusionmatrix \n",
            " [[100.   0.]\n",
            " [ 30.  70.]]\n",
            "it 6/10\n",
            "Fitting 5 folds for each of 150 candidates, totalling 750 fits\n"
          ],
          "name": "stdout"
        },
        {
          "output_type": "stream",
          "text": [
            "[Parallel(n_jobs=-1)]: Using backend LokyBackend with 2 concurrent workers.\n",
            "[Parallel(n_jobs=-1)]: Done  46 tasks      | elapsed:   18.7s\n",
            "[Parallel(n_jobs=-1)]: Done 196 tasks      | elapsed:  1.3min\n",
            "[Parallel(n_jobs=-1)]: Done 446 tasks      | elapsed:  3.1min\n",
            "[Parallel(n_jobs=-1)]: Done 750 out of 750 | elapsed:  5.2min finished\n"
          ],
          "name": "stderr"
        },
        {
          "output_type": "stream",
          "text": [
            "it 6/10\n",
            "{'rep__lambda_': 5, 'rep__n_clusters': 3, 'rep__nn': 9, 'rep__prediction': 'Div', 'rep__reduction_': True, 'rep__sigma_initial': 40}\n",
            "acc: 70.0\n",
            "ari: 13.99317406143345\n",
            "confusionmatrix \n",
            " [[85. 15.]\n",
            " [45. 55.]]\n",
            "it 7/10\n",
            "Fitting 5 folds for each of 150 candidates, totalling 750 fits\n"
          ],
          "name": "stdout"
        },
        {
          "output_type": "stream",
          "text": [
            "[Parallel(n_jobs=-1)]: Using backend LokyBackend with 2 concurrent workers.\n",
            "[Parallel(n_jobs=-1)]: Done  46 tasks      | elapsed:   19.1s\n",
            "[Parallel(n_jobs=-1)]: Done 196 tasks      | elapsed:  1.4min\n",
            "[Parallel(n_jobs=-1)]: Done 446 tasks      | elapsed:  3.2min\n",
            "[Parallel(n_jobs=-1)]: Done 750 out of 750 | elapsed:  5.3min finished\n"
          ],
          "name": "stderr"
        },
        {
          "output_type": "stream",
          "text": [
            "it 7/10\n",
            "{'rep__lambda_': 50, 'rep__n_clusters': 3, 'rep__nn': 9, 'rep__prediction': 'Gaussian', 'rep__reduction_': True, 'rep__sigma_initial': 40}\n",
            "acc: 77.5\n",
            "ari: 28.793927099011846\n",
            "confusionmatrix \n",
            " [[100.   0.]\n",
            " [ 45.  55.]]\n",
            "it 8/10\n",
            "Fitting 5 folds for each of 150 candidates, totalling 750 fits\n"
          ],
          "name": "stdout"
        },
        {
          "output_type": "stream",
          "text": [
            "[Parallel(n_jobs=-1)]: Using backend LokyBackend with 2 concurrent workers.\n",
            "[Parallel(n_jobs=-1)]: Done  46 tasks      | elapsed:   22.2s\n",
            "[Parallel(n_jobs=-1)]: Done 196 tasks      | elapsed:  1.4min\n",
            "[Parallel(n_jobs=-1)]: Done 446 tasks      | elapsed:  3.2min\n",
            "[Parallel(n_jobs=-1)]: Done 750 out of 750 | elapsed:  5.4min finished\n"
          ],
          "name": "stderr"
        },
        {
          "output_type": "stream",
          "text": [
            "it 8/10\n",
            "{'rep__lambda_': 10, 'rep__n_clusters': 3, 'rep__nn': 9, 'rep__prediction': 'Gaussian', 'rep__reduction_': True, 'rep__sigma_initial': 10}\n",
            "acc: 82.5\n",
            "ari: 40.92071611253197\n",
            "confusionmatrix \n",
            " [[100.   0.]\n",
            " [ 35.  65.]]\n",
            "it 9/10\n",
            "Fitting 5 folds for each of 150 candidates, totalling 750 fits\n"
          ],
          "name": "stdout"
        },
        {
          "output_type": "stream",
          "text": [
            "[Parallel(n_jobs=-1)]: Using backend LokyBackend with 2 concurrent workers.\n",
            "[Parallel(n_jobs=-1)]: Done  46 tasks      | elapsed:   18.4s\n",
            "[Parallel(n_jobs=-1)]: Done 196 tasks      | elapsed:  1.4min\n",
            "[Parallel(n_jobs=-1)]: Done 446 tasks      | elapsed:  3.3min\n",
            "[Parallel(n_jobs=-1)]: Done 750 out of 750 | elapsed:  5.4min finished\n"
          ],
          "name": "stderr"
        },
        {
          "output_type": "stream",
          "text": [
            "it 9/10\n",
            "{'rep__lambda_': 30, 'rep__n_clusters': 3, 'rep__nn': 5, 'rep__prediction': 'Gaussian', 'rep__reduction_': True, 'rep__sigma_initial': 40}\n",
            "acc: 77.5\n",
            "ari: 28.793927099011846\n",
            "confusionmatrix \n",
            " [[100.   0.]\n",
            " [ 45.  55.]]\n",
            "it 10/10\n",
            "Fitting 5 folds for each of 150 candidates, totalling 750 fits\n"
          ],
          "name": "stdout"
        },
        {
          "output_type": "stream",
          "text": [
            "[Parallel(n_jobs=-1)]: Using backend LokyBackend with 2 concurrent workers.\n",
            "[Parallel(n_jobs=-1)]: Done  46 tasks      | elapsed:   22.5s\n",
            "[Parallel(n_jobs=-1)]: Done 196 tasks      | elapsed:  1.5min\n",
            "[Parallel(n_jobs=-1)]: Done 446 tasks      | elapsed:  3.2min\n",
            "[Parallel(n_jobs=-1)]: Done 750 out of 750 | elapsed:  5.4min finished\n"
          ],
          "name": "stderr"
        },
        {
          "output_type": "stream",
          "text": [
            "it 10/10\n",
            "{'rep__lambda_': 10, 'rep__n_clusters': 3, 'rep__nn': 9, 'rep__prediction': 'Div', 'rep__reduction_': True, 'rep__sigma_initial': 10}\n",
            "acc: 77.5\n",
            "ari: 28.793927099011846\n",
            "confusionmatrix \n",
            " [[100.   0.]\n",
            " [ 45.  55.]]\n",
            "it 1/10\n",
            "Fitting 5 folds for each of 150 candidates, totalling 750 fits\n"
          ],
          "name": "stdout"
        },
        {
          "output_type": "stream",
          "text": [
            "[Parallel(n_jobs=-1)]: Using backend LokyBackend with 2 concurrent workers.\n",
            "[Parallel(n_jobs=-1)]: Done  46 tasks      | elapsed:   26.8s\n",
            "[Parallel(n_jobs=-1)]: Done 196 tasks      | elapsed:  1.9min\n",
            "[Parallel(n_jobs=-1)]: Done 446 tasks      | elapsed:  4.4min\n",
            "[Parallel(n_jobs=-1)]: Done 750 out of 750 | elapsed:  7.4min finished\n",
            "/content/PRI/main_functions.py:492: RuntimeWarning: divide by zero encountered in log\n",
            "  A = -np.log((1 / N * No) * K1)\n",
            "[Parallel(n_jobs=-1)]: Using backend LokyBackend with 2 concurrent workers.\n"
          ],
          "name": "stderr"
        },
        {
          "output_type": "stream",
          "text": [
            "it 1/10\n",
            "{'rep__lambda_': 5, 'rep__n_clusters': 3, 'rep__nn': 3, 'rep__prediction': 'Gaussian', 'rep__reduction_': True, 'rep__sigma_initial': 10}\n",
            "acc: 50.0\n",
            "ari: 0.0\n",
            "confusionmatrix \n",
            " [[100.   0.]\n",
            " [100.   0.]]\n",
            "it 2/10\n",
            "Fitting 5 folds for each of 150 candidates, totalling 750 fits\n"
          ],
          "name": "stdout"
        },
        {
          "output_type": "stream",
          "text": [
            "[Parallel(n_jobs=-1)]: Done  46 tasks      | elapsed:   26.7s\n",
            "[Parallel(n_jobs=-1)]: Done 196 tasks      | elapsed:  1.9min\n",
            "[Parallel(n_jobs=-1)]: Done 446 tasks      | elapsed:  4.3min\n",
            "[Parallel(n_jobs=-1)]: Done 750 out of 750 | elapsed:  7.2min finished\n",
            "/content/PRI/main_functions.py:492: RuntimeWarning: divide by zero encountered in log\n",
            "  A = -np.log((1 / N * No) * K1)\n",
            "[Parallel(n_jobs=-1)]: Using backend LokyBackend with 2 concurrent workers.\n"
          ],
          "name": "stderr"
        },
        {
          "output_type": "stream",
          "text": [
            "it 2/10\n",
            "{'rep__lambda_': 5, 'rep__n_clusters': 3, 'rep__nn': 3, 'rep__prediction': 'Gaussian', 'rep__reduction_': True, 'rep__sigma_initial': 10}\n",
            "acc: 50.0\n",
            "ari: 0.0\n",
            "confusionmatrix \n",
            " [[100.   0.]\n",
            " [100.   0.]]\n",
            "it 3/10\n",
            "Fitting 5 folds for each of 150 candidates, totalling 750 fits\n"
          ],
          "name": "stdout"
        },
        {
          "output_type": "stream",
          "text": [
            "[Parallel(n_jobs=-1)]: Done  46 tasks      | elapsed:   26.1s\n",
            "[Parallel(n_jobs=-1)]: Done 196 tasks      | elapsed:  1.9min\n",
            "[Parallel(n_jobs=-1)]: Done 446 tasks      | elapsed:  4.3min\n",
            "[Parallel(n_jobs=-1)]: Done 750 out of 750 | elapsed:  7.2min finished\n",
            "/content/PRI/main_functions.py:492: RuntimeWarning: divide by zero encountered in log\n",
            "  A = -np.log((1 / N * No) * K1)\n",
            "[Parallel(n_jobs=-1)]: Using backend LokyBackend with 2 concurrent workers.\n"
          ],
          "name": "stderr"
        },
        {
          "output_type": "stream",
          "text": [
            "it 3/10\n",
            "{'rep__lambda_': 5, 'rep__n_clusters': 3, 'rep__nn': 3, 'rep__prediction': 'Gaussian', 'rep__reduction_': True, 'rep__sigma_initial': 10}\n",
            "acc: 50.0\n",
            "ari: 0.0\n",
            "confusionmatrix \n",
            " [[100.   0.]\n",
            " [100.   0.]]\n",
            "it 4/10\n",
            "Fitting 5 folds for each of 150 candidates, totalling 750 fits\n"
          ],
          "name": "stdout"
        },
        {
          "output_type": "stream",
          "text": [
            "[Parallel(n_jobs=-1)]: Done  46 tasks      | elapsed:   26.8s\n",
            "[Parallel(n_jobs=-1)]: Done 196 tasks      | elapsed:  1.9min\n",
            "[Parallel(n_jobs=-1)]: Done 446 tasks      | elapsed:  4.3min\n",
            "[Parallel(n_jobs=-1)]: Done 750 out of 750 | elapsed:  7.2min finished\n",
            "/content/PRI/main_functions.py:492: RuntimeWarning: divide by zero encountered in log\n",
            "  A = -np.log((1 / N * No) * K1)\n",
            "[Parallel(n_jobs=-1)]: Using backend LokyBackend with 2 concurrent workers.\n"
          ],
          "name": "stderr"
        },
        {
          "output_type": "stream",
          "text": [
            "it 4/10\n",
            "{'rep__lambda_': 5, 'rep__n_clusters': 3, 'rep__nn': 3, 'rep__prediction': 'Gaussian', 'rep__reduction_': True, 'rep__sigma_initial': 10}\n",
            "acc: 50.0\n",
            "ari: 0.0\n",
            "confusionmatrix \n",
            " [[100.   0.]\n",
            " [100.   0.]]\n",
            "it 5/10\n",
            "Fitting 5 folds for each of 150 candidates, totalling 750 fits\n"
          ],
          "name": "stdout"
        },
        {
          "output_type": "stream",
          "text": [
            "[Parallel(n_jobs=-1)]: Done  46 tasks      | elapsed:   26.9s\n",
            "[Parallel(n_jobs=-1)]: Done 196 tasks      | elapsed:  1.9min\n",
            "[Parallel(n_jobs=-1)]: Done 446 tasks      | elapsed:  4.3min\n",
            "[Parallel(n_jobs=-1)]: Done 750 out of 750 | elapsed:  7.2min finished\n",
            "/content/PRI/main_functions.py:492: RuntimeWarning: divide by zero encountered in log\n",
            "  A = -np.log((1 / N * No) * K1)\n",
            "[Parallel(n_jobs=-1)]: Using backend LokyBackend with 2 concurrent workers.\n"
          ],
          "name": "stderr"
        },
        {
          "output_type": "stream",
          "text": [
            "it 5/10\n",
            "{'rep__lambda_': 5, 'rep__n_clusters': 3, 'rep__nn': 3, 'rep__prediction': 'Gaussian', 'rep__reduction_': True, 'rep__sigma_initial': 10}\n",
            "acc: 50.0\n",
            "ari: 0.0\n",
            "confusionmatrix \n",
            " [[100.   0.]\n",
            " [100.   0.]]\n",
            "it 6/10\n",
            "Fitting 5 folds for each of 150 candidates, totalling 750 fits\n"
          ],
          "name": "stdout"
        },
        {
          "output_type": "stream",
          "text": [
            "[Parallel(n_jobs=-1)]: Done  46 tasks      | elapsed:   26.7s\n",
            "[Parallel(n_jobs=-1)]: Done 196 tasks      | elapsed:  1.9min\n",
            "[Parallel(n_jobs=-1)]: Done 446 tasks      | elapsed:  4.3min\n",
            "[Parallel(n_jobs=-1)]: Done 750 out of 750 | elapsed:  7.2min finished\n",
            "/content/PRI/main_functions.py:492: RuntimeWarning: divide by zero encountered in log\n",
            "  A = -np.log((1 / N * No) * K1)\n",
            "[Parallel(n_jobs=-1)]: Using backend LokyBackend with 2 concurrent workers.\n"
          ],
          "name": "stderr"
        },
        {
          "output_type": "stream",
          "text": [
            "it 6/10\n",
            "{'rep__lambda_': 5, 'rep__n_clusters': 3, 'rep__nn': 3, 'rep__prediction': 'Gaussian', 'rep__reduction_': True, 'rep__sigma_initial': 10}\n",
            "acc: 50.0\n",
            "ari: 0.0\n",
            "confusionmatrix \n",
            " [[100.   0.]\n",
            " [100.   0.]]\n",
            "it 7/10\n",
            "Fitting 5 folds for each of 150 candidates, totalling 750 fits\n"
          ],
          "name": "stdout"
        },
        {
          "output_type": "stream",
          "text": [
            "[Parallel(n_jobs=-1)]: Done  46 tasks      | elapsed:   27.0s\n",
            "[Parallel(n_jobs=-1)]: Done 196 tasks      | elapsed:  1.9min\n",
            "[Parallel(n_jobs=-1)]: Done 446 tasks      | elapsed:  4.3min\n",
            "[Parallel(n_jobs=-1)]: Done 750 out of 750 | elapsed:  7.3min finished\n",
            "/content/PRI/main_functions.py:492: RuntimeWarning: divide by zero encountered in log\n",
            "  A = -np.log((1 / N * No) * K1)\n",
            "[Parallel(n_jobs=-1)]: Using backend LokyBackend with 2 concurrent workers.\n"
          ],
          "name": "stderr"
        },
        {
          "output_type": "stream",
          "text": [
            "it 7/10\n",
            "{'rep__lambda_': 5, 'rep__n_clusters': 3, 'rep__nn': 3, 'rep__prediction': 'Gaussian', 'rep__reduction_': True, 'rep__sigma_initial': 10}\n",
            "acc: 50.0\n",
            "ari: 0.0\n",
            "confusionmatrix \n",
            " [[100.   0.]\n",
            " [100.   0.]]\n",
            "it 8/10\n",
            "Fitting 5 folds for each of 150 candidates, totalling 750 fits\n"
          ],
          "name": "stdout"
        },
        {
          "output_type": "stream",
          "text": [
            "[Parallel(n_jobs=-1)]: Done  46 tasks      | elapsed:   26.6s\n",
            "[Parallel(n_jobs=-1)]: Done 196 tasks      | elapsed:  1.9min\n",
            "[Parallel(n_jobs=-1)]: Done 446 tasks      | elapsed:  4.3min\n",
            "[Parallel(n_jobs=-1)]: Done 750 out of 750 | elapsed:  7.2min finished\n",
            "/content/PRI/main_functions.py:492: RuntimeWarning: divide by zero encountered in log\n",
            "  A = -np.log((1 / N * No) * K1)\n",
            "[Parallel(n_jobs=-1)]: Using backend LokyBackend with 2 concurrent workers.\n"
          ],
          "name": "stderr"
        },
        {
          "output_type": "stream",
          "text": [
            "it 8/10\n",
            "{'rep__lambda_': 5, 'rep__n_clusters': 3, 'rep__nn': 3, 'rep__prediction': 'Gaussian', 'rep__reduction_': True, 'rep__sigma_initial': 10}\n",
            "acc: 50.0\n",
            "ari: 0.0\n",
            "confusionmatrix \n",
            " [[100.   0.]\n",
            " [100.   0.]]\n",
            "it 9/10\n",
            "Fitting 5 folds for each of 150 candidates, totalling 750 fits\n"
          ],
          "name": "stdout"
        },
        {
          "output_type": "stream",
          "text": [
            "[Parallel(n_jobs=-1)]: Done  46 tasks      | elapsed:   26.5s\n",
            "[Parallel(n_jobs=-1)]: Done 196 tasks      | elapsed:  2.0min\n",
            "[Parallel(n_jobs=-1)]: Done 446 tasks      | elapsed:  4.4min\n",
            "[Parallel(n_jobs=-1)]: Done 750 out of 750 | elapsed:  7.3min finished\n",
            "/content/PRI/main_functions.py:492: RuntimeWarning: divide by zero encountered in log\n",
            "  A = -np.log((1 / N * No) * K1)\n",
            "[Parallel(n_jobs=-1)]: Using backend LokyBackend with 2 concurrent workers.\n"
          ],
          "name": "stderr"
        },
        {
          "output_type": "stream",
          "text": [
            "it 9/10\n",
            "{'rep__lambda_': 5, 'rep__n_clusters': 3, 'rep__nn': 3, 'rep__prediction': 'Gaussian', 'rep__reduction_': True, 'rep__sigma_initial': 10}\n",
            "acc: 50.0\n",
            "ari: 0.0\n",
            "confusionmatrix \n",
            " [[100.   0.]\n",
            " [100.   0.]]\n",
            "it 10/10\n",
            "Fitting 5 folds for each of 150 candidates, totalling 750 fits\n"
          ],
          "name": "stdout"
        },
        {
          "output_type": "stream",
          "text": [
            "[Parallel(n_jobs=-1)]: Done  46 tasks      | elapsed:   26.2s\n",
            "[Parallel(n_jobs=-1)]: Done 196 tasks      | elapsed:  1.9min\n",
            "[Parallel(n_jobs=-1)]: Done 446 tasks      | elapsed:  4.2min\n",
            "[Parallel(n_jobs=-1)]: Done 750 out of 750 | elapsed:  7.2min finished\n",
            "/content/PRI/main_functions.py:492: RuntimeWarning: divide by zero encountered in log\n",
            "  A = -np.log((1 / N * No) * K1)\n",
            "[Parallel(n_jobs=-1)]: Using backend LokyBackend with 2 concurrent workers.\n"
          ],
          "name": "stderr"
        },
        {
          "output_type": "stream",
          "text": [
            "it 10/10\n",
            "{'rep__lambda_': 5, 'rep__n_clusters': 3, 'rep__nn': 3, 'rep__prediction': 'Gaussian', 'rep__reduction_': True, 'rep__sigma_initial': 10}\n",
            "acc: 50.0\n",
            "ari: 0.0\n",
            "confusionmatrix \n",
            " [[100.   0.]\n",
            " [100.   0.]]\n",
            "it 1/10\n",
            "Fitting 5 folds for each of 150 candidates, totalling 750 fits\n"
          ],
          "name": "stdout"
        },
        {
          "output_type": "stream",
          "text": [
            "[Parallel(n_jobs=-1)]: Done  46 tasks      | elapsed:   27.1s\n",
            "[Parallel(n_jobs=-1)]: Done 196 tasks      | elapsed:  1.9min\n",
            "[Parallel(n_jobs=-1)]: Done 446 tasks      | elapsed:  4.4min\n",
            "[Parallel(n_jobs=-1)]: Done 750 out of 750 | elapsed:  7.3min finished\n",
            "/content/PRI/main_functions.py:492: RuntimeWarning: divide by zero encountered in log\n",
            "  A = -np.log((1 / N * No) * K1)\n",
            "[Parallel(n_jobs=-1)]: Using backend LokyBackend with 2 concurrent workers.\n"
          ],
          "name": "stderr"
        },
        {
          "output_type": "stream",
          "text": [
            "it 1/10\n",
            "{'rep__lambda_': 5, 'rep__n_clusters': 3, 'rep__nn': 3, 'rep__optimization': 'Adam', 'rep__prediction': 'Gaussian', 'rep__reduction_': True, 'rep__sigma_initial': 10}\n",
            "acc: 50.0\n",
            "ari: 0.0\n",
            "confusionmatrix \n",
            " [[100.   0.]\n",
            " [100.   0.]]\n",
            "it 2/10\n",
            "Fitting 5 folds for each of 150 candidates, totalling 750 fits\n"
          ],
          "name": "stdout"
        },
        {
          "output_type": "stream",
          "text": [
            "[Parallel(n_jobs=-1)]: Done  46 tasks      | elapsed:   27.3s\n",
            "[Parallel(n_jobs=-1)]: Done 196 tasks      | elapsed:  1.9min\n",
            "[Parallel(n_jobs=-1)]: Done 446 tasks      | elapsed:  4.3min\n",
            "[Parallel(n_jobs=-1)]: Done 750 out of 750 | elapsed:  7.3min finished\n",
            "/content/PRI/main_functions.py:492: RuntimeWarning: divide by zero encountered in log\n",
            "  A = -np.log((1 / N * No) * K1)\n",
            "[Parallel(n_jobs=-1)]: Using backend LokyBackend with 2 concurrent workers.\n"
          ],
          "name": "stderr"
        },
        {
          "output_type": "stream",
          "text": [
            "it 2/10\n",
            "{'rep__lambda_': 5, 'rep__n_clusters': 3, 'rep__nn': 3, 'rep__optimization': 'Adam', 'rep__prediction': 'Gaussian', 'rep__reduction_': True, 'rep__sigma_initial': 10}\n",
            "acc: 50.0\n",
            "ari: 0.0\n",
            "confusionmatrix \n",
            " [[100.   0.]\n",
            " [100.   0.]]\n",
            "it 3/10\n",
            "Fitting 5 folds for each of 150 candidates, totalling 750 fits\n"
          ],
          "name": "stdout"
        },
        {
          "output_type": "stream",
          "text": [
            "[Parallel(n_jobs=-1)]: Done  46 tasks      | elapsed:   27.1s\n",
            "[Parallel(n_jobs=-1)]: Done 196 tasks      | elapsed:  1.9min\n",
            "[Parallel(n_jobs=-1)]: Done 446 tasks      | elapsed:  4.3min\n",
            "[Parallel(n_jobs=-1)]: Done 750 out of 750 | elapsed:  7.3min finished\n",
            "/content/PRI/main_functions.py:492: RuntimeWarning: divide by zero encountered in log\n",
            "  A = -np.log((1 / N * No) * K1)\n",
            "[Parallel(n_jobs=-1)]: Using backend LokyBackend with 2 concurrent workers.\n"
          ],
          "name": "stderr"
        },
        {
          "output_type": "stream",
          "text": [
            "it 3/10\n",
            "{'rep__lambda_': 5, 'rep__n_clusters': 3, 'rep__nn': 3, 'rep__optimization': 'Adam', 'rep__prediction': 'Gaussian', 'rep__reduction_': True, 'rep__sigma_initial': 10}\n",
            "acc: 50.0\n",
            "ari: 0.0\n",
            "confusionmatrix \n",
            " [[100.   0.]\n",
            " [100.   0.]]\n",
            "it 4/10\n",
            "Fitting 5 folds for each of 150 candidates, totalling 750 fits\n"
          ],
          "name": "stdout"
        },
        {
          "output_type": "stream",
          "text": [
            "[Parallel(n_jobs=-1)]: Done  46 tasks      | elapsed:   26.9s\n",
            "[Parallel(n_jobs=-1)]: Done 196 tasks      | elapsed:  1.9min\n",
            "[Parallel(n_jobs=-1)]: Done 446 tasks      | elapsed:  4.3min\n",
            "[Parallel(n_jobs=-1)]: Done 750 out of 750 | elapsed:  7.2min finished\n",
            "/content/PRI/main_functions.py:492: RuntimeWarning: divide by zero encountered in log\n",
            "  A = -np.log((1 / N * No) * K1)\n",
            "[Parallel(n_jobs=-1)]: Using backend LokyBackend with 2 concurrent workers.\n"
          ],
          "name": "stderr"
        },
        {
          "output_type": "stream",
          "text": [
            "it 4/10\n",
            "{'rep__lambda_': 5, 'rep__n_clusters': 3, 'rep__nn': 3, 'rep__optimization': 'Adam', 'rep__prediction': 'Gaussian', 'rep__reduction_': True, 'rep__sigma_initial': 10}\n",
            "acc: 50.0\n",
            "ari: 0.0\n",
            "confusionmatrix \n",
            " [[100.   0.]\n",
            " [100.   0.]]\n",
            "it 5/10\n",
            "Fitting 5 folds for each of 150 candidates, totalling 750 fits\n"
          ],
          "name": "stdout"
        },
        {
          "output_type": "stream",
          "text": [
            "[Parallel(n_jobs=-1)]: Done  46 tasks      | elapsed:   26.6s\n",
            "[Parallel(n_jobs=-1)]: Done 196 tasks      | elapsed:  1.9min\n",
            "[Parallel(n_jobs=-1)]: Done 446 tasks      | elapsed:  4.2min\n",
            "[Parallel(n_jobs=-1)]: Done 750 out of 750 | elapsed:  7.2min finished\n",
            "/content/PRI/main_functions.py:492: RuntimeWarning: divide by zero encountered in log\n",
            "  A = -np.log((1 / N * No) * K1)\n",
            "[Parallel(n_jobs=-1)]: Using backend LokyBackend with 2 concurrent workers.\n"
          ],
          "name": "stderr"
        },
        {
          "output_type": "stream",
          "text": [
            "it 5/10\n",
            "{'rep__lambda_': 5, 'rep__n_clusters': 3, 'rep__nn': 3, 'rep__optimization': 'Adam', 'rep__prediction': 'Gaussian', 'rep__reduction_': True, 'rep__sigma_initial': 10}\n",
            "acc: 50.0\n",
            "ari: 0.0\n",
            "confusionmatrix \n",
            " [[100.   0.]\n",
            " [100.   0.]]\n",
            "it 6/10\n",
            "Fitting 5 folds for each of 150 candidates, totalling 750 fits\n"
          ],
          "name": "stdout"
        },
        {
          "output_type": "stream",
          "text": [
            "[Parallel(n_jobs=-1)]: Done  46 tasks      | elapsed:   26.6s\n",
            "[Parallel(n_jobs=-1)]: Done 196 tasks      | elapsed:  1.9min\n",
            "[Parallel(n_jobs=-1)]: Done 446 tasks      | elapsed:  4.3min\n",
            "[Parallel(n_jobs=-1)]: Done 750 out of 750 | elapsed:  7.3min finished\n",
            "/content/PRI/main_functions.py:492: RuntimeWarning: divide by zero encountered in log\n",
            "  A = -np.log((1 / N * No) * K1)\n",
            "[Parallel(n_jobs=-1)]: Using backend LokyBackend with 2 concurrent workers.\n"
          ],
          "name": "stderr"
        },
        {
          "output_type": "stream",
          "text": [
            "it 6/10\n",
            "{'rep__lambda_': 5, 'rep__n_clusters': 3, 'rep__nn': 3, 'rep__optimization': 'Adam', 'rep__prediction': 'Gaussian', 'rep__reduction_': True, 'rep__sigma_initial': 10}\n",
            "acc: 50.0\n",
            "ari: 0.0\n",
            "confusionmatrix \n",
            " [[100.   0.]\n",
            " [100.   0.]]\n",
            "it 7/10\n",
            "Fitting 5 folds for each of 150 candidates, totalling 750 fits\n"
          ],
          "name": "stdout"
        },
        {
          "output_type": "stream",
          "text": [
            "[Parallel(n_jobs=-1)]: Done  46 tasks      | elapsed:   26.4s\n",
            "[Parallel(n_jobs=-1)]: Done 196 tasks      | elapsed:  1.9min\n",
            "[Parallel(n_jobs=-1)]: Done 446 tasks      | elapsed:  4.4min\n",
            "[Parallel(n_jobs=-1)]: Done 750 out of 750 | elapsed:  7.4min finished\n",
            "/content/PRI/main_functions.py:492: RuntimeWarning: divide by zero encountered in log\n",
            "  A = -np.log((1 / N * No) * K1)\n",
            "[Parallel(n_jobs=-1)]: Using backend LokyBackend with 2 concurrent workers.\n"
          ],
          "name": "stderr"
        },
        {
          "output_type": "stream",
          "text": [
            "it 7/10\n",
            "{'rep__lambda_': 5, 'rep__n_clusters': 3, 'rep__nn': 3, 'rep__optimization': 'Adam', 'rep__prediction': 'Gaussian', 'rep__reduction_': True, 'rep__sigma_initial': 10}\n",
            "acc: 50.0\n",
            "ari: 0.0\n",
            "confusionmatrix \n",
            " [[100.   0.]\n",
            " [100.   0.]]\n",
            "it 8/10\n",
            "Fitting 5 folds for each of 150 candidates, totalling 750 fits\n"
          ],
          "name": "stdout"
        },
        {
          "output_type": "stream",
          "text": [
            "[Parallel(n_jobs=-1)]: Done  46 tasks      | elapsed:   26.9s\n",
            "[Parallel(n_jobs=-1)]: Done 196 tasks      | elapsed:  1.9min\n",
            "[Parallel(n_jobs=-1)]: Done 446 tasks      | elapsed:  4.3min\n",
            "[Parallel(n_jobs=-1)]: Done 750 out of 750 | elapsed:  7.3min finished\n",
            "/content/PRI/main_functions.py:492: RuntimeWarning: divide by zero encountered in log\n",
            "  A = -np.log((1 / N * No) * K1)\n",
            "[Parallel(n_jobs=-1)]: Using backend LokyBackend with 2 concurrent workers.\n"
          ],
          "name": "stderr"
        },
        {
          "output_type": "stream",
          "text": [
            "it 8/10\n",
            "{'rep__lambda_': 5, 'rep__n_clusters': 3, 'rep__nn': 3, 'rep__optimization': 'Adam', 'rep__prediction': 'Gaussian', 'rep__reduction_': True, 'rep__sigma_initial': 10}\n",
            "acc: 50.0\n",
            "ari: 0.0\n",
            "confusionmatrix \n",
            " [[100.   0.]\n",
            " [100.   0.]]\n",
            "it 9/10\n",
            "Fitting 5 folds for each of 150 candidates, totalling 750 fits\n"
          ],
          "name": "stdout"
        },
        {
          "output_type": "stream",
          "text": [
            "[Parallel(n_jobs=-1)]: Done  46 tasks      | elapsed:   26.1s\n",
            "[Parallel(n_jobs=-1)]: Done 196 tasks      | elapsed:  1.9min\n",
            "[Parallel(n_jobs=-1)]: Done 446 tasks      | elapsed:  4.3min\n",
            "[Parallel(n_jobs=-1)]: Done 750 out of 750 | elapsed:  7.3min finished\n",
            "/content/PRI/main_functions.py:492: RuntimeWarning: divide by zero encountered in log\n",
            "  A = -np.log((1 / N * No) * K1)\n",
            "[Parallel(n_jobs=-1)]: Using backend LokyBackend with 2 concurrent workers.\n"
          ],
          "name": "stderr"
        },
        {
          "output_type": "stream",
          "text": [
            "it 9/10\n",
            "{'rep__lambda_': 5, 'rep__n_clusters': 3, 'rep__nn': 3, 'rep__optimization': 'Adam', 'rep__prediction': 'Gaussian', 'rep__reduction_': True, 'rep__sigma_initial': 10}\n",
            "acc: 50.0\n",
            "ari: 0.0\n",
            "confusionmatrix \n",
            " [[100.   0.]\n",
            " [100.   0.]]\n",
            "it 10/10\n",
            "Fitting 5 folds for each of 150 candidates, totalling 750 fits\n"
          ],
          "name": "stdout"
        },
        {
          "output_type": "stream",
          "text": [
            "[Parallel(n_jobs=-1)]: Done  46 tasks      | elapsed:   26.5s\n",
            "[Parallel(n_jobs=-1)]: Done 196 tasks      | elapsed:  1.9min\n",
            "[Parallel(n_jobs=-1)]: Done 446 tasks      | elapsed:  4.2min\n",
            "[Parallel(n_jobs=-1)]: Done 750 out of 750 | elapsed:  7.0min finished\n",
            "/content/PRI/main_functions.py:492: RuntimeWarning: divide by zero encountered in log\n",
            "  A = -np.log((1 / N * No) * K1)\n",
            "[Parallel(n_jobs=-1)]: Using backend LokyBackend with 2 concurrent workers.\n"
          ],
          "name": "stderr"
        },
        {
          "output_type": "stream",
          "text": [
            "it 10/10\n",
            "{'rep__lambda_': 5, 'rep__n_clusters': 3, 'rep__nn': 3, 'rep__optimization': 'Adam', 'rep__prediction': 'Gaussian', 'rep__reduction_': True, 'rep__sigma_initial': 10}\n",
            "acc: 50.0\n",
            "ari: 0.0\n",
            "confusionmatrix \n",
            " [[100.   0.]\n",
            " [100.   0.]]\n",
            "it 1/10\n",
            "Fitting 5 folds for each of 150 candidates, totalling 750 fits\n"
          ],
          "name": "stdout"
        },
        {
          "output_type": "stream",
          "text": [
            "[Parallel(n_jobs=-1)]: Done  46 tasks      | elapsed:   25.9s\n",
            "[Parallel(n_jobs=-1)]: Done 196 tasks      | elapsed:  1.9min\n",
            "[Parallel(n_jobs=-1)]: Done 446 tasks      | elapsed:  4.2min\n",
            "[Parallel(n_jobs=-1)]: Done 750 out of 750 | elapsed:  7.1min finished\n",
            "/content/PRI/main_functions.py:492: RuntimeWarning: divide by zero encountered in log\n",
            "  A = -np.log((1 / N * No) * K1)\n",
            "[Parallel(n_jobs=-1)]: Using backend LokyBackend with 2 concurrent workers.\n"
          ],
          "name": "stderr"
        },
        {
          "output_type": "stream",
          "text": [
            "it 1/10\n",
            "{'rep__lambda_': 5, 'rep__n_clusters': 3, 'rep__nn': 3, 'rep__optimization': 'Nadam', 'rep__prediction': 'Gaussian', 'rep__reduction_': True, 'rep__sigma_initial': 10}\n",
            "acc: 50.0\n",
            "ari: 0.0\n",
            "confusionmatrix \n",
            " [[100.   0.]\n",
            " [100.   0.]]\n",
            "it 2/10\n",
            "Fitting 5 folds for each of 150 candidates, totalling 750 fits\n"
          ],
          "name": "stdout"
        },
        {
          "output_type": "stream",
          "text": [
            "[Parallel(n_jobs=-1)]: Done  46 tasks      | elapsed:   27.2s\n",
            "[Parallel(n_jobs=-1)]: Done 196 tasks      | elapsed:  1.9min\n",
            "[Parallel(n_jobs=-1)]: Done 446 tasks      | elapsed:  4.4min\n",
            "[Parallel(n_jobs=-1)]: Done 750 out of 750 | elapsed:  7.4min finished\n",
            "/content/PRI/main_functions.py:492: RuntimeWarning: divide by zero encountered in log\n",
            "  A = -np.log((1 / N * No) * K1)\n",
            "[Parallel(n_jobs=-1)]: Using backend LokyBackend with 2 concurrent workers.\n"
          ],
          "name": "stderr"
        },
        {
          "output_type": "stream",
          "text": [
            "it 2/10\n",
            "{'rep__lambda_': 5, 'rep__n_clusters': 3, 'rep__nn': 3, 'rep__optimization': 'Nadam', 'rep__prediction': 'Gaussian', 'rep__reduction_': True, 'rep__sigma_initial': 10}\n",
            "acc: 50.0\n",
            "ari: 0.0\n",
            "confusionmatrix \n",
            " [[100.   0.]\n",
            " [100.   0.]]\n",
            "it 3/10\n",
            "Fitting 5 folds for each of 150 candidates, totalling 750 fits\n"
          ],
          "name": "stdout"
        },
        {
          "output_type": "stream",
          "text": [
            "[Parallel(n_jobs=-1)]: Done  46 tasks      | elapsed:   27.2s\n",
            "[Parallel(n_jobs=-1)]: Done 196 tasks      | elapsed:  1.9min\n",
            "[Parallel(n_jobs=-1)]: Done 446 tasks      | elapsed:  4.4min\n",
            "[Parallel(n_jobs=-1)]: Done 750 out of 750 | elapsed:  7.3min finished\n",
            "/content/PRI/main_functions.py:492: RuntimeWarning: divide by zero encountered in log\n",
            "  A = -np.log((1 / N * No) * K1)\n",
            "[Parallel(n_jobs=-1)]: Using backend LokyBackend with 2 concurrent workers.\n"
          ],
          "name": "stderr"
        },
        {
          "output_type": "stream",
          "text": [
            "it 3/10\n",
            "{'rep__lambda_': 5, 'rep__n_clusters': 3, 'rep__nn': 3, 'rep__optimization': 'Nadam', 'rep__prediction': 'Gaussian', 'rep__reduction_': True, 'rep__sigma_initial': 10}\n",
            "acc: 50.0\n",
            "ari: 0.0\n",
            "confusionmatrix \n",
            " [[100.   0.]\n",
            " [100.   0.]]\n",
            "it 4/10\n",
            "Fitting 5 folds for each of 150 candidates, totalling 750 fits\n"
          ],
          "name": "stdout"
        },
        {
          "output_type": "stream",
          "text": [
            "[Parallel(n_jobs=-1)]: Done  46 tasks      | elapsed:   32.8s\n",
            "[Parallel(n_jobs=-1)]: Done 196 tasks      | elapsed:  2.0min\n",
            "[Parallel(n_jobs=-1)]: Done 446 tasks      | elapsed:  4.5min\n",
            "[Parallel(n_jobs=-1)]: Done 750 out of 750 | elapsed:  7.5min finished\n",
            "/content/PRI/main_functions.py:492: RuntimeWarning: divide by zero encountered in log\n",
            "  A = -np.log((1 / N * No) * K1)\n",
            "[Parallel(n_jobs=-1)]: Using backend LokyBackend with 2 concurrent workers.\n"
          ],
          "name": "stderr"
        },
        {
          "output_type": "stream",
          "text": [
            "it 4/10\n",
            "{'rep__lambda_': 5, 'rep__n_clusters': 3, 'rep__nn': 3, 'rep__optimization': 'Nadam', 'rep__prediction': 'Gaussian', 'rep__reduction_': True, 'rep__sigma_initial': 10}\n",
            "acc: 50.0\n",
            "ari: 0.0\n",
            "confusionmatrix \n",
            " [[100.   0.]\n",
            " [100.   0.]]\n",
            "it 5/10\n",
            "Fitting 5 folds for each of 150 candidates, totalling 750 fits\n"
          ],
          "name": "stdout"
        },
        {
          "output_type": "stream",
          "text": [
            "[Parallel(n_jobs=-1)]: Done  46 tasks      | elapsed:   27.1s\n",
            "[Parallel(n_jobs=-1)]: Done 196 tasks      | elapsed:  1.9min\n",
            "[Parallel(n_jobs=-1)]: Done 446 tasks      | elapsed:  4.5min\n",
            "[Parallel(n_jobs=-1)]: Done 750 out of 750 | elapsed:  7.5min finished\n",
            "/content/PRI/main_functions.py:492: RuntimeWarning: divide by zero encountered in log\n",
            "  A = -np.log((1 / N * No) * K1)\n",
            "[Parallel(n_jobs=-1)]: Using backend LokyBackend with 2 concurrent workers.\n"
          ],
          "name": "stderr"
        },
        {
          "output_type": "stream",
          "text": [
            "it 5/10\n",
            "{'rep__lambda_': 5, 'rep__n_clusters': 3, 'rep__nn': 3, 'rep__optimization': 'Nadam', 'rep__prediction': 'Gaussian', 'rep__reduction_': True, 'rep__sigma_initial': 10}\n",
            "acc: 50.0\n",
            "ari: 0.0\n",
            "confusionmatrix \n",
            " [[100.   0.]\n",
            " [100.   0.]]\n",
            "it 6/10\n",
            "Fitting 5 folds for each of 150 candidates, totalling 750 fits\n"
          ],
          "name": "stdout"
        },
        {
          "output_type": "stream",
          "text": [
            "[Parallel(n_jobs=-1)]: Done  46 tasks      | elapsed:   27.4s\n",
            "[Parallel(n_jobs=-1)]: Done 196 tasks      | elapsed:  1.9min\n",
            "[Parallel(n_jobs=-1)]: Done 446 tasks      | elapsed:  4.4min\n",
            "[Parallel(n_jobs=-1)]: Done 750 out of 750 | elapsed:  7.4min finished\n",
            "/content/PRI/main_functions.py:492: RuntimeWarning: divide by zero encountered in log\n",
            "  A = -np.log((1 / N * No) * K1)\n",
            "[Parallel(n_jobs=-1)]: Using backend LokyBackend with 2 concurrent workers.\n"
          ],
          "name": "stderr"
        },
        {
          "output_type": "stream",
          "text": [
            "it 6/10\n",
            "{'rep__lambda_': 5, 'rep__n_clusters': 3, 'rep__nn': 3, 'rep__optimization': 'Nadam', 'rep__prediction': 'Gaussian', 'rep__reduction_': True, 'rep__sigma_initial': 10}\n",
            "acc: 50.0\n",
            "ari: 0.0\n",
            "confusionmatrix \n",
            " [[100.   0.]\n",
            " [100.   0.]]\n",
            "it 7/10\n",
            "Fitting 5 folds for each of 150 candidates, totalling 750 fits\n"
          ],
          "name": "stdout"
        },
        {
          "output_type": "stream",
          "text": [
            "[Parallel(n_jobs=-1)]: Done  46 tasks      | elapsed:   27.2s\n",
            "[Parallel(n_jobs=-1)]: Done 196 tasks      | elapsed:  1.9min\n",
            "[Parallel(n_jobs=-1)]: Done 446 tasks      | elapsed:  4.4min\n",
            "[Parallel(n_jobs=-1)]: Done 750 out of 750 | elapsed:  7.3min finished\n",
            "/content/PRI/main_functions.py:492: RuntimeWarning: divide by zero encountered in log\n",
            "  A = -np.log((1 / N * No) * K1)\n",
            "[Parallel(n_jobs=-1)]: Using backend LokyBackend with 2 concurrent workers.\n"
          ],
          "name": "stderr"
        },
        {
          "output_type": "stream",
          "text": [
            "it 7/10\n",
            "{'rep__lambda_': 5, 'rep__n_clusters': 3, 'rep__nn': 3, 'rep__optimization': 'Nadam', 'rep__prediction': 'Gaussian', 'rep__reduction_': True, 'rep__sigma_initial': 10}\n",
            "acc: 50.0\n",
            "ari: 0.0\n",
            "confusionmatrix \n",
            " [[100.   0.]\n",
            " [100.   0.]]\n",
            "it 8/10\n",
            "Fitting 5 folds for each of 150 candidates, totalling 750 fits\n"
          ],
          "name": "stdout"
        },
        {
          "output_type": "stream",
          "text": [
            "[Parallel(n_jobs=-1)]: Done  46 tasks      | elapsed:   27.2s\n",
            "[Parallel(n_jobs=-1)]: Done 196 tasks      | elapsed:  1.9min\n",
            "[Parallel(n_jobs=-1)]: Done 446 tasks      | elapsed:  4.4min\n",
            "[Parallel(n_jobs=-1)]: Done 750 out of 750 | elapsed:  7.4min finished\n",
            "/content/PRI/main_functions.py:492: RuntimeWarning: divide by zero encountered in log\n",
            "  A = -np.log((1 / N * No) * K1)\n"
          ],
          "name": "stderr"
        },
        {
          "output_type": "stream",
          "text": [
            "it 8/10\n",
            "{'rep__lambda_': 5, 'rep__n_clusters': 3, 'rep__nn': 3, 'rep__optimization': 'Nadam', 'rep__prediction': 'Gaussian', 'rep__reduction_': True, 'rep__sigma_initial': 10}\n",
            "acc: 50.0\n",
            "ari: 0.0\n",
            "confusionmatrix \n",
            " [[100.   0.]\n",
            " [100.   0.]]\n",
            "it 9/10\n",
            "Fitting 5 folds for each of 150 candidates, totalling 750 fits\n"
          ],
          "name": "stdout"
        },
        {
          "output_type": "stream",
          "text": [
            "[Parallel(n_jobs=-1)]: Using backend LokyBackend with 2 concurrent workers.\n",
            "[Parallel(n_jobs=-1)]: Done  46 tasks      | elapsed:   27.0s\n",
            "[Parallel(n_jobs=-1)]: Done 196 tasks      | elapsed:  1.9min\n",
            "[Parallel(n_jobs=-1)]: Done 446 tasks      | elapsed:  4.4min\n",
            "[Parallel(n_jobs=-1)]: Done 750 out of 750 | elapsed:  7.3min finished\n",
            "/content/PRI/main_functions.py:492: RuntimeWarning: divide by zero encountered in log\n",
            "  A = -np.log((1 / N * No) * K1)\n",
            "[Parallel(n_jobs=-1)]: Using backend LokyBackend with 2 concurrent workers.\n"
          ],
          "name": "stderr"
        },
        {
          "output_type": "stream",
          "text": [
            "it 9/10\n",
            "{'rep__lambda_': 5, 'rep__n_clusters': 3, 'rep__nn': 3, 'rep__optimization': 'Nadam', 'rep__prediction': 'Gaussian', 'rep__reduction_': True, 'rep__sigma_initial': 10}\n",
            "acc: 50.0\n",
            "ari: 0.0\n",
            "confusionmatrix \n",
            " [[100.   0.]\n",
            " [100.   0.]]\n",
            "it 10/10\n",
            "Fitting 5 folds for each of 150 candidates, totalling 750 fits\n"
          ],
          "name": "stdout"
        },
        {
          "output_type": "stream",
          "text": [
            "[Parallel(n_jobs=-1)]: Done  46 tasks      | elapsed:   27.4s\n",
            "[Parallel(n_jobs=-1)]: Done 196 tasks      | elapsed:  1.9min\n",
            "[Parallel(n_jobs=-1)]: Done 446 tasks      | elapsed:  4.4min\n",
            "[Parallel(n_jobs=-1)]: Done 750 out of 750 | elapsed:  7.4min finished\n"
          ],
          "name": "stderr"
        },
        {
          "output_type": "stream",
          "text": [
            "it 10/10\n",
            "{'rep__lambda_': 5, 'rep__n_clusters': 3, 'rep__nn': 3, 'rep__optimization': 'Nadam', 'rep__prediction': 'Gaussian', 'rep__reduction_': True, 'rep__sigma_initial': 10}\n",
            "acc: 50.0\n",
            "ari: 0.0\n",
            "confusionmatrix \n",
            " [[100.   0.]\n",
            " [100.   0.]]\n"
          ],
          "name": "stdout"
        },
        {
          "output_type": "stream",
          "text": [
            "/content/PRI/main_functions.py:492: RuntimeWarning: divide by zero encountered in log\n",
            "  A = -np.log((1 / N * No) * K1)\n"
          ],
          "name": "stderr"
        }
      ]
    },
    {
      "cell_type": "markdown",
      "metadata": {
        "id": "WQPjXm2hTwg-",
        "colab_type": "text"
      },
      "source": [
        "**Guardar resultados**"
      ]
    },
    {
      "cell_type": "code",
      "metadata": {
        "id": "t57IuQspDFZm",
        "colab_type": "code",
        "colab": {}
      },
      "source": [
        "namefile = str(datetime.now().strftime(\"%Y_%m_%d_%H_%M_%d\"))+'__results'\n",
        "shutil.make_archive(namefile, 'zip', '/content/PRI')\n",
        "files.download(namefile+'.zip')"
      ],
      "execution_count": 0,
      "outputs": []
    },
    {
      "cell_type": "markdown",
      "metadata": {
        "id": "Bi1TOnAUUGwv",
        "colab_type": "text"
      },
      "source": [
        "**Mostrar resultados**"
      ]
    },
    {
      "cell_type": "markdown",
      "metadata": {
        "id": "eFBgFjOouLZc",
        "colab_type": "text"
      },
      "source": [
        "**Happy**"
      ]
    },
    {
      "cell_type": "markdown",
      "metadata": {
        "id": "jyG8vY4DuOVZ",
        "colab_type": "text"
      },
      "source": [
        "**Accuracy**"
      ]
    },
    {
      "cell_type": "code",
      "metadata": {
        "id": "ElpO4OvqUOj0",
        "colab_type": "code",
        "colab": {}
      },
      "source": [
        "#cargar resultados y graficar promedios por iteraciones\n",
        "## SC\n",
        "SC = load('/content/PRI/happysc.joblib')\n",
        "acc_sc = SC['acc']\n",
        "ari_sc  =SC['ari']\n",
        "cmc_sc = SC['confusionmatrix']\n",
        "best_estimators_sc = SC['best_models']\n",
        "best_parameters_sc = SC['best_parameters']\n",
        "## Kmean\n",
        "Knn = load('/content/PRI/happyKnn.joblib')\n",
        "acc_knn = Knn['acc']\n",
        "ari_knn  =Knn['ari']\n",
        "cmc_knn = Knn['confusionmatrix']\n",
        "best_estimators_knn = Knn['best_models']\n",
        "best_parameters_knn = Knn['best_parameters']\n",
        "## FP\n",
        "FP = load('/content/PRI/happyFP.joblib')\n",
        "acc_fp = FP['acc']\n",
        "ari_fp  =FP['ari']\n",
        "cmc_fp = FP['confusionmatrix']\n",
        "best_estimators_fp = FP['best_models']\n",
        "best_parameters_fp = FP['best_parameters']\n",
        "## Mini lotes\n",
        "SGD = load('/content/PRI/happySGD.joblib')\n",
        "acc_sgd = SGD['acc']\n",
        "ari_sgd  =SGD['ari']\n",
        "cmc_sgd = SGD['confusionmatrix']\n",
        "best_estimators_sgd = SGD['best_models']\n",
        "best_parameters_sgd = SGD['best_parameters']\n",
        "## Adam\n",
        "SGDA = load('/content/PRI/happySGDA.joblib')\n",
        "acc_sgda = SGDA['acc']\n",
        "ari_sgda  =SGDA['ari']\n",
        "cmc_sgda = SGDA['confusionmatrix']\n",
        "best_estimators_sgda = SGDA['best_models']\n",
        "best_parameters_sgda = SGDA['best_parameters']\n",
        "## Nadam\n",
        "\n",
        "SGDN = load('/content/PRI/happySGDN.joblib')\n",
        "acc_sgdn = SGDN['acc']\n",
        "ari_sgdn  =SGDN['ari']\n",
        "cmc_sgdn = SGDN['confusionmatrix']\n",
        "best_estimators_sgdn = SGDN['best_models']\n",
        "best_parameters_sgdn = SGDN['best_parameters']\n"
      ],
      "execution_count": 0,
      "outputs": []
    },
    {
      "cell_type": "code",
      "metadata": {
        "id": "08u_rKo_HImI",
        "colab_type": "code",
        "outputId": "e9486234-da0a-4788-e4bf-b6970f1caf79",
        "colab": {
          "base_uri": "https://localhost:8080/",
          "height": 327
        }
      },
      "source": [
        "plot_confusion_matrix_MS(np.mean(cmc_sc,axis=0), np.std(cmc_sc,axis=0), np.unique(labels_happy))\n",
        "plt.title('${Acc}$='+ format(np.mean(acc_sc),'.1f') +'$\\pm$'+ format(np.std(acc_sc),'.1f')+'${ Ari}$='+ format(np.mean(ari_sc),'.1f') +'$\\pm$'+ format(np.std(ari_sc),'.1f'))\n",
        "print(best_parameters_sc[0])"
      ],
      "execution_count": 14,
      "outputs": [
        {
          "output_type": "stream",
          "text": [
            "{'rep__gamma_': 500, 'rep__n_clusters_': 3, 'rep__n_neighbors_': 5, 'rep__nn_': 3}\n"
          ],
          "name": "stdout"
        },
        {
          "output_type": "display_data",
          "data": {
            "image/png": "[encoded data removed]",
            "text/plain": [
              "<Figure size 432x288 with 2 Axes>"
            ]
          },
          "metadata": {
            "tags": [],
            "needs_background": "light"
          }
        }
      ]
    },
    {
      "cell_type": "code",
      "metadata": {
        "id": "BUXZT4p7GbeP",
        "colab_type": "code",
        "outputId": "7a846a03-19bf-4a84-a97d-955a2df69b40",
        "colab": {
          "base_uri": "https://localhost:8080/",
          "height": 327
        }
      },
      "source": [
        "plot_confusion_matrix_MS(np.mean(cmc_knn,axis=0), np.std(cmc_knn,axis=0), np.unique(labels_happy))\n",
        "plt.title('${Acc}$='+ format(np.mean(acc_knn),'.1f') +'$\\pm$'+ format(np.std(acc_knn),'.1f')+'${Ari}$='+ format(np.mean(ari_knn),'.1f') +'$\\pm$'+ format(np.std(ari_knn),'.1f'))\n",
        "print(best_parameters_knn[0])"
      ],
      "execution_count": 15,
      "outputs": [
        {
          "output_type": "stream",
          "text": [
            "{'rep__n_clusters_': 3, 'rep__nn': 5}\n"
          ],
          "name": "stdout"
        },
        {
          "output_type": "display_data",
          "data": {
            "image/png": "[encoded data removed]",
            "text/plain": [
              "<Figure size 432x288 with 2 Axes>"
            ]
          },
          "metadata": {
            "tags": [],
            "needs_background": "light"
          }
        }
      ]
    },
    {
      "cell_type": "code",
      "metadata": {
        "id": "LWnIQgREGiRV",
        "colab_type": "code",
        "outputId": "308410bf-cdb8-4a2c-b687-ca910504fe12",
        "colab": {
          "base_uri": "https://localhost:8080/",
          "height": 347
        }
      },
      "source": [
        "\n",
        "plot_confusion_matrix_MS(np.mean(cmc_fp,axis=0), np.std(cmc_fp,axis=0), np.unique(labels_happy))\n",
        "plt.title('${Acc}$='+ format(np.mean(acc_fp),'.1f') +'$\\pm$'+ format(np.std(acc_fp),'.1f')+'${Ari}$='+ format(np.mean(ari_fp),'.1f') +'$\\pm$'+ format(np.std(ari_fp),'.1f'))\n",
        "print(best_parameters_fp[0])"
      ],
      "execution_count": 16,
      "outputs": [
        {
          "output_type": "stream",
          "text": [
            "{'rep__lambda_': 15, 'rep__n_clusters': 3, 'rep__nn': 9, 'rep__prediction': 'Gaussian', 'rep__reduction_': True, 'rep__sigma_initial': 4}\n"
          ],
          "name": "stdout"
        },
        {
          "output_type": "display_data",
          "data": {
            "image/png": "[encoded data removed]",
            "text/plain": [
              "<Figure size 432x288 with 2 Axes>"
            ]
          },
          "metadata": {
            "tags": [],
            "needs_background": "light"
          }
        }
      ]
    },
    {
      "cell_type": "code",
      "metadata": {
        "id": "7MIpVd0YGkLO",
        "colab_type": "code",
        "outputId": "eb5dcc4f-10f3-4d9e-af57-07767b870422",
        "colab": {
          "base_uri": "https://localhost:8080/",
          "height": 351
        }
      },
      "source": [
        "plot_confusion_matrix_MS(np.mean(cmc_sgd,axis=0), np.std(cmc_sgd,axis=0), np.unique(labels_happy))\n",
        "plt.title('${Acc}$='+ format(np.mean(acc_sgd),'.1f') +'$\\pm$'+ format(np.std(acc_sgd),'.1f')+'${Ari}$='+ format(np.mean(ari_sgd),'.1f') +'$\\pm$'+ format(np.std(ari_sgd),'.1f'))\n",
        "print(best_parameters_sgd[0])"
      ],
      "execution_count": 17,
      "outputs": [
        {
          "output_type": "stream",
          "text": [
            "{'rep__lambda_': 15, 'rep__n_clusters': 3, 'rep__nn': 9, 'rep__prediction': 'Div', 'rep__reduction_': True, 'rep__sigma_initial': 40}\n"
          ],
          "name": "stdout"
        },
        {
          "output_type": "display_data",
          "data": {
            "image/png": "[encoded data removed]",
            "text/plain": [
              "<Figure size 432x288 with 2 Axes>"
            ]
          },
          "metadata": {
            "tags": [],
            "needs_background": "light"
          }
        }
      ]
    },
    {
      "cell_type": "code",
      "metadata": {
        "id": "DNO3AhWOGkw8",
        "colab_type": "code",
        "outputId": "0e0d4a7e-c0cb-4185-f332-e86f23231b52",
        "colab": {
          "base_uri": "https://localhost:8080/",
          "height": 347
        }
      },
      "source": [
        "plot_confusion_matrix_MS(np.mean(cmc_sgda,axis=0), np.std(cmc_sgda,axis=0), np.unique(labels_happy))\n",
        "plt.title('${Acc}$='+ format(np.mean(acc_sgda),'.1f') +'$\\pm$'+ format(np.std(acc_sgda),'.1f')+'${Ari}$='+ format(np.mean(ari_sgda),'.1f') +'$\\pm$'+ format(np.std(ari_sgda),'.1f'))\n",
        "print(best_parameters_sgda[0])"
      ],
      "execution_count": 18,
      "outputs": [
        {
          "output_type": "stream",
          "text": [
            "{'rep__lambda_': 5, 'rep__n_clusters': 3, 'rep__nn': 3, 'rep__optimization': 'Adam', 'rep__prediction': 'Gaussian', 'rep__reduction_': True, 'rep__sigma_initial': 40}\n"
          ],
          "name": "stdout"
        },
        {
          "output_type": "display_data",
          "data": {
            "image/png": "[encoded data removed]",
            "text/plain": [
              "<Figure size 432x288 with 2 Axes>"
            ]
          },
          "metadata": {
            "tags": [],
            "needs_background": "light"
          }
        }
      ]
    },
    {
      "cell_type": "code",
      "metadata": {
        "id": "s-8YBmjXGnQ2",
        "colab_type": "code",
        "outputId": "0b595b6a-ebfe-4dd1-f2f4-b4c9672dadad",
        "colab": {
          "base_uri": "https://localhost:8080/",
          "height": 347
        }
      },
      "source": [
        "plot_confusion_matrix_MS(np.mean(cmc_sgdn,axis=0), np.std(cmc_sgdn,axis=0), np.unique(labels_happy))\n",
        "plt.title('${Acc}$='+ format(np.mean(acc_sgdn),'.1f') +'$\\pm$'+ format(np.std(acc_sgdn),'.1f')+'${Ari}$='+ format(np.mean(ari_sgdn),'.1f') +'$\\pm$'+ format(np.std(ari_sgdn),'.1f'))\n",
        "print(best_parameters_sgdn[0])"
      ],
      "execution_count": 19,
      "outputs": [
        {
          "output_type": "stream",
          "text": [
            "{'rep__lambda_': 5, 'rep__n_clusters': 3, 'rep__nn': 9, 'rep__optimization': 'Nadam', 'rep__prediction': 'Div', 'rep__reduction_': True, 'rep__sigma_initial': 25}\n"
          ],
          "name": "stdout"
        },
        {
          "output_type": "display_data",
          "data": {
            "image/png": "[encoded data removed]",
            "text/plain": [
              "<Figure size 432x288 with 2 Axes>"
            ]
          },
          "metadata": {
            "tags": [],
            "needs_background": "light"
          }
        }
      ]
    },
    {
      "cell_type": "markdown",
      "metadata": {
        "id": "R1ZJWYg1IAyD",
        "colab_type": "text"
      },
      "source": [
        "**Moons**"
      ]
    },
    {
      "cell_type": "markdown",
      "metadata": {
        "id": "5CHMjDxcIHpm",
        "colab_type": "text"
      },
      "source": [
        "**Accuracy**"
      ]
    },
    {
      "cell_type": "code",
      "metadata": {
        "id": "ze8S-32UIKOP",
        "colab_type": "code",
        "colab": {}
      },
      "source": [
        "#cargar resultados y graficar promedios por iteraciones\n",
        "## SC\n",
        "SC = load('/content/PRI/moonssc.joblib')\n",
        "acc_sc = SC['acc']\n",
        "cmc_sc = SC['confusionmatrix']\n",
        "best_estimators_sc = SC['best_models']\n",
        "best_parameters_sc = SC['best_parameters']\n",
        "## Kmean\n",
        "Knn = load('/content/PRI/moonsKnn.joblib')\n",
        "acc_knn = Knn['acc']\n",
        "cmc_knn = Knn['confusionmatrix']\n",
        "best_estimators_knn = Knn['best_models']\n",
        "best_parameters_knn = Knn['best_parameters']\n",
        "## FP\n",
        "FP = load('/content/PRI/moonsFP.joblib')\n",
        "acc_fp = FP['acc']\n",
        "cmc_fp = FP['confusionmatrix']\n",
        "best_estimators_fp = FP['best_models']\n",
        "best_parameters_fp = FP['best_parameters']\n",
        "## Mini lotes\n",
        "SGD = load('/content/PRI/moonsSGD.joblib')\n",
        "acc_sgd = SGD['acc']\n",
        "cmc_sgd = SGD['confusionmatrix']\n",
        "best_estimators_sgd = SGD['best_models']\n",
        "best_parameters_sgd = SGD['best_parameters']\n",
        "## Adam\n",
        "SGDA = load('/content/PRI/moonsSGDA.joblib')\n",
        "acc_sgda = SGDA['acc']\n",
        "cmc_sgda = SGDA['confusionmatrix']\n",
        "best_estimators_sgda = SGDA['best_models']\n",
        "best_parameters_sgda = SGDA['best_parameters']\n",
        "## Nadam\n",
        "SGDN = load('/content/PRI/moonsSGDN.joblib')\n",
        "acc_sgdn = SGDN['acc']\n",
        "cmc_sgdn = SGDN['confusionmatrix']\n",
        "best_estimators_sgdn = SGDN['best_models']\n",
        "best_parameters_sgdn = SGDN['best_parameters']"
      ],
      "execution_count": 0,
      "outputs": []
    },
    {
      "cell_type": "code",
      "metadata": {
        "id": "RZK05p7JJ9fh",
        "colab_type": "code",
        "outputId": "62072ee3-77dd-4a3b-8820-d16a6e9eb7e2",
        "colab": {
          "base_uri": "https://localhost:8080/",
          "height": 327
        }
      },
      "source": [
        "plot_confusion_matrix_MS(np.mean(cmc_sc,axis=0), np.std(cmc_sc,axis=0), np.unique(labels_moons))\n",
        "plt.title('${Acc}$='+ format(np.mean(acc_sc),'.1f') +'$\\pm$'+ format(np.std(acc_sc),'.1f')+ format(np.std(acc_sc),'.1f')+'${Ari}$='+ format(np.mean(ari_sc),'.1f') +'$\\pm$'+ format(np.std(ari_sc),'.1f'))\n",
        "print(best_parameters_sc[0])"
      ],
      "execution_count": 31,
      "outputs": [
        {
          "output_type": "stream",
          "text": [
            "{'rep__gamma_': 100, 'rep__n_clusters_': 3, 'rep__n_neighbors_': 5, 'rep__nn_': 3}\n"
          ],
          "name": "stdout"
        },
        {
          "output_type": "display_data",
          "data": {
            "image/png": "[encoded data removed]",
            "text/plain": [
              "<Figure size 432x288 with 2 Axes>"
            ]
          },
          "metadata": {
            "tags": [],
            "needs_background": "light"
          }
        }
      ]
    },
    {
      "cell_type": "code",
      "metadata": {
        "id": "lVexe2uUIaZB",
        "colab_type": "code",
        "outputId": "bdbdeac0-4279-494c-c084-d272e79fdf00",
        "colab": {
          "base_uri": "https://localhost:8080/",
          "height": 330
        }
      },
      "source": [
        "plot_confusion_matrix_MS(np.mean(cmc_knn,axis=0), np.std(cmc_knn,axis=0), np.unique(labels_moons))\n",
        "plt.title('${Acc}$='+ format(np.mean(acc_knn),'.1f') +'$\\pm$'+ format(np.std(acc_knn),'.1f')+ format(np.std(acc_knn),'.1f')+'${Ari}$='+ format(np.mean(ari_knn),'.1f') +'$\\pm$'+ format(np.std(ari_knn),'.1f'))\n",
        "print(best_parameters_knn[0])"
      ],
      "execution_count": 22,
      "outputs": [
        {
          "output_type": "stream",
          "text": [
            "{'rep__n_clusters_': 3, 'rep__nn': 5}\n"
          ],
          "name": "stdout"
        },
        {
          "output_type": "display_data",
          "data": {
            "image/png": "[encoded data removed]",
            "text/plain": [
              "<Figure size 432x288 with 2 Axes>"
            ]
          },
          "metadata": {
            "tags": [],
            "needs_background": "light"
          }
        }
      ]
    },
    {
      "cell_type": "code",
      "metadata": {
        "id": "uDuyWs76In6P",
        "colab_type": "code",
        "outputId": "c6616954-9bfd-47cc-ca66-fc4b192f2976",
        "colab": {
          "base_uri": "https://localhost:8080/",
          "height": 351
        }
      },
      "source": [
        "plot_confusion_matrix_MS(np.mean(cmc_fp,axis=0), np.std(cmc_fp,axis=0), np.unique(labels_moons))\n",
        "plt.title('${Acc}$='+ format(np.mean(acc_fp),'.1f') +'$\\pm$'+ format(np.std(acc_fp),'.1f')+ format(np.std(acc_fp),'.1f')+'${Ari}$='+ format(np.mean(ari_fp),'.1f') +'$\\pm$'+ format(np.std(ari_fp),'.1f'))\n",
        "print(best_parameters_fp[0])"
      ],
      "execution_count": 30,
      "outputs": [
        {
          "output_type": "stream",
          "text": [
            "{'rep__lambda_': 15, 'rep__n_clusters': 3, 'rep__nn': 5, 'rep__prediction': 'Div', 'rep__reduction_': True, 'rep__sigma_initial': 25}\n"
          ],
          "name": "stdout"
        },
        {
          "output_type": "display_data",
          "data": {
            "image/png": "[encoded data removed]",
            "text/plain": [
              "<Figure size 432x288 with 2 Axes>"
            ]
          },
          "metadata": {
            "tags": [],
            "needs_background": "light"
          }
        }
      ]
    },
    {
      "cell_type": "code",
      "metadata": {
        "id": "qO5whm_LIqWj",
        "colab_type": "code",
        "outputId": "495398da-9a6d-4829-c981-72f8bf55ae5a",
        "colab": {
          "base_uri": "https://localhost:8080/",
          "height": 347
        }
      },
      "source": [
        "plot_confusion_matrix_MS(np.mean(cmc_sgd,axis=0), np.std(cmc_sgd,axis=0), np.unique(labels_moons))\n",
        "plt.title('${Acc}$='+ format(np.mean(acc_sgd),'.1f') +'$\\pm$'+ format(np.std(acc_sgd),'.1f')+ format(np.std(acc_sgd),'.1f')+'${Ari}$='+ format(np.mean(ari_sgd),'.1f') +'$\\pm$'+ format(np.std(ari_sgd),'.1f'))\n",
        "print(best_parameters_sgd[0])"
      ],
      "execution_count": 29,
      "outputs": [
        {
          "output_type": "stream",
          "text": [
            "{'rep__lambda_': 5, 'rep__n_clusters': 3, 'rep__nn': 3, 'rep__prediction': 'Gaussian', 'rep__reduction_': True, 'rep__sigma_initial': 10}\n"
          ],
          "name": "stdout"
        },
        {
          "output_type": "display_data",
          "data": {
            "image/png": "[encoded data removed]",
            "text/plain": [
              "<Figure size 432x288 with 2 Axes>"
            ]
          },
          "metadata": {
            "tags": [],
            "needs_background": "light"
          }
        }
      ]
    },
    {
      "cell_type": "code",
      "metadata": {
        "id": "L5IYkeU8Iu5L",
        "colab_type": "code",
        "outputId": "75b15a53-e6a9-49c7-ecdc-f818ac7999d9",
        "colab": {
          "base_uri": "https://localhost:8080/",
          "height": 347
        }
      },
      "source": [
        "plot_confusion_matrix_MS(np.mean(cmc_sgda,axis=0), np.std(cmc_sgda,axis=0), np.unique(labels_moons))\n",
        "plt.title('${Acc}$='+ format(np.mean(acc_sgda),'.1f') +'$\\pm$'+ format(np.std(acc_sgda),'.1f')+ format(np.std(acc_sgda),'.1f')+'${Ari}$='+ format(np.mean(ari_sgda),'.1f') +'$\\pm$'+ format(np.std(ari_sgda),'.1f'))\n",
        "print(best_parameters_sgda[0])"
      ],
      "execution_count": 28,
      "outputs": [
        {
          "output_type": "stream",
          "text": [
            "{'rep__lambda_': 5, 'rep__n_clusters': 3, 'rep__nn': 3, 'rep__optimization': 'Adam', 'rep__prediction': 'Gaussian', 'rep__reduction_': True, 'rep__sigma_initial': 10}\n"
          ],
          "name": "stdout"
        },
        {
          "output_type": "display_data",
          "data": {
            "image/png": "[encoded data removed]",
            "text/plain": [
              "<Figure size 432x288 with 2 Axes>"
            ]
          },
          "metadata": {
            "tags": [],
            "needs_background": "light"
          }
        }
      ]
    },
    {
      "cell_type": "code",
      "metadata": {
        "id": "1-5sakzMIx7v",
        "colab_type": "code",
        "outputId": "4b2d75b3-0a30-40c5-dee1-cd50c3c47925",
        "colab": {
          "base_uri": "https://localhost:8080/",
          "height": 347
        }
      },
      "source": [
        "plot_confusion_matrix_MS(np.mean(cmc_sgdn,axis=0), np.std(cmc_sgdn,axis=0), np.unique(labels_moons))\n",
        "plt.title('${Acc}$='+ format(np.mean(acc_sgdn),'.1f') +'$\\pm$'+ format(np.std(acc_sgdn),'.1f')+ format(np.std(acc_sgdn),'.1f')+'${Ari}$='+ format(np.mean(ari_sgdn),'.1f') +'$\\pm$'+ format(np.std(ari_sgdn),'.1f'))\n",
        "print(best_parameters_sgdn[0])"
      ],
      "execution_count": 27,
      "outputs": [
        {
          "output_type": "stream",
          "text": [
            "{'rep__lambda_': 5, 'rep__n_clusters': 3, 'rep__nn': 3, 'rep__optimization': 'Nadam', 'rep__prediction': 'Gaussian', 'rep__reduction_': True, 'rep__sigma_initial': 10}\n"
          ],
          "name": "stdout"
        },
        {
          "output_type": "display_data",
          "data": {
            "image/png": "[encoded data removed]",
            "text/plain": [
              "<Figure size 432x288 with 2 Axes>"
            ]
          },
          "metadata": {
            "tags": [],
            "needs_background": "light"
          }
        }
      ]
    },
    {
      "cell_type": "markdown",
      "metadata": {
        "id": "Yhz3s8X08uA5",
        "colab_type": "text"
      },
      "source": [
        "**Parte 2**"
      ]
    },
    {
      "cell_type": "code",
      "metadata": {
        "id": "j2Gvq1rhRhHE",
        "colab_type": "code",
        "outputId": "62736181-0e79-47a7-e184-1d1f0e16f816",
        "colab": {
          "base_uri": "https://localhost:8080/",
          "height": 288
        }
      },
      "source": [
        "img = cv2.imread('/content/PRI/image.PNG', 0)\n",
        "edges = cv2.Canny(img, 100, 255)\n",
        "indices = np.where(edges != [0])\n",
        "coordinates = zip(indices[0], indices[1])\n",
        "indices=np.asarray(indices).T\n",
        "indices=np.flip(indices)\n",
        "indices[:,1]=abs(indices[:,1]-np.amax(indices))\n",
        "plt.figure(figsize=(10,10))\n",
        "plt.subplot(121)\n",
        "plt.imshow(img, cmap = 'gray')\n",
        "plt.xticks([]), plt.yticks([])  # to hide tick values on X and Y axis\n",
        "plt.subplot(122)\n",
        "plt.imshow(edges, cmap = 'gray')\n",
        "plt.xticks([]), plt.yticks([])  # to hide tick values on X and Y axis\n",
        "plt.show()"
      ],
      "execution_count": 0,
      "outputs": [
        {
          "output_type": "display_data",
          "data": {
            "image/png": "[encoded data removed]",
            "text/plain": [
              "<Figure size 720x720 with 2 Axes>"
            ]
          },
          "metadata": {
            "tags": []
          }
        }
      ]
    },
    {
      "cell_type": "markdown",
      "metadata": {
        "id": "SrVqOs0u_8pf",
        "colab_type": "text"
      },
      "source": [
        "**Punto Fijo**"
      ]
    },
    {
      "cell_type": "code",
      "metadata": {
        "id": "G6wU-CvN_NUo",
        "colab_type": "code",
        "outputId": "d32a78d2-b9bf-4554-e7b6-e0d2a6e3be6f",
        "colab": {
          "base_uri": "https://localhost:8080/",
          "height": 333
        }
      },
      "source": [
        "# ss= reducir el tamaño de muestras originales N veces \n",
        "# PC= criterio de paciencia\n",
        "t = time.time()\n",
        "p = PRI(n_groups=3, lambda_=15, sigma_initial=2, method='FP',\n",
        "        reduction_ = False, max_iter=600,PC=400,ss=8)\n",
        "p.fit(indices)\n",
        "print('el tiempo requerido fue:' + str(time.time() - t) + 'sg')\n",
        "plt.plot(indices[:,0],indices[:,1],'b.')\n",
        "plt.plot(p.cluster_centers_[:,0],p.cluster_centers_[:,1],'r.')"
      ],
      "execution_count": 0,
      "outputs": [
        {
          "output_type": "stream",
          "text": [
            "el tiempo requerido fue:69.46774697303772sg\n"
          ],
          "name": "stdout"
        },
        {
          "output_type": "stream",
          "text": [
            "/content/PRI/main_functions.py:198: RuntimeWarning: divide by zero encountered in log\n",
            "  A = -np.log((1 / N * No) * K1)\n"
          ],
          "name": "stderr"
        },
        {
          "output_type": "execute_result",
          "data": {
            "text/plain": [
              "[<matplotlib.lines.Line2D at 0x7f6afaf29ac8>]"
            ]
          },
          "metadata": {
            "tags": []
          },
          "execution_count": 17
        },
        {
          "output_type": "display_data",
          "data": {
            "image/png": "[encoded data removed]",
            "text/plain": [
              "<Figure size 432x288 with 1 Axes>"
            ]
          },
          "metadata": {
            "tags": [],
            "needs_background": "light"
          }
        }
      ]
    },
    {
      "cell_type": "markdown",
      "metadata": {
        "id": "a4rVPK-wnq2k",
        "colab_type": "text"
      },
      "source": [
        "**SGD por mini lotes**"
      ]
    },
    {
      "cell_type": "code",
      "metadata": {
        "id": "w3IQou4NMxBn",
        "colab_type": "code",
        "outputId": "4dceb6f4-21bc-470d-c37f-9fc0169780be",
        "colab": {
          "base_uri": "https://localhost:8080/",
          "height": 333
        }
      },
      "source": [
        "\n",
        "# PC= criterio de paciencia\n",
        "t = time.time()\n",
        "p = MiniBatchPRI(n_groups=3, lambda_=18, sigma_initial=40, method='SGD',\n",
        "                 reduction_ = False,PC=500,lr=1.1,decay=0.00001,ss=8)\n",
        "p.fit(indices)\n",
        "print('el tiempo requerido fue:' + str(time.time() - t) + 'sg')\n",
        "plt.plot(indices[:,0],indices[:,1],'b.')\n",
        "plt.plot(p.cluster_centers_[:,0],p.cluster_centers_[:,1],'r.')"
      ],
      "execution_count": 0,
      "outputs": [
        {
          "output_type": "stream",
          "text": [
            "el tiempo requerido fue:1.475994348526001sg\n"
          ],
          "name": "stdout"
        },
        {
          "output_type": "stream",
          "text": [
            "/content/PRI/main_functions.py:479: RuntimeWarning: divide by zero encountered in log\n",
            "  A = -np.log((1 / N * No) * K1)\n"
          ],
          "name": "stderr"
        },
        {
          "output_type": "execute_result",
          "data": {
            "text/plain": [
              "[<matplotlib.lines.Line2D at 0x7f6af84a6dd8>]"
            ]
          },
          "metadata": {
            "tags": []
          },
          "execution_count": 57
        },
        {
          "output_type": "display_data",
          "data": {
            "image/png": "[encoded data removed]",
            "text/plain": [
              "<Figure size 432x288 with 1 Axes>"
            ]
          },
          "metadata": {
            "tags": [],
            "needs_background": "light"
          }
        }
      ]
    },
    {
      "cell_type": "markdown",
      "metadata": {
        "id": "RlcODiUYIEP6",
        "colab_type": "text"
      },
      "source": [
        "**Adam**"
      ]
    },
    {
      "cell_type": "code",
      "metadata": {
        "id": "AWTc1HbrIDnN",
        "colab_type": "code",
        "outputId": "ce193f4d-fcef-4ce2-9718-52bcca09b00c",
        "colab": {
          "base_uri": "https://localhost:8080/",
          "height": 333
        }
      },
      "source": [
        "t = time.time()\n",
        "p = MiniBatchPRI(n_groups=3, lambda_=18, sigma_initial=40, method='SGD', optimization='Adam',\n",
        "                 reduction_ = False, PC=500,lr=0.2, decay=0.00001,ss=8)\n",
        "p.fit(indices)\n",
        "\n",
        "print('el tiempo requerido fue:' + str(time.time() - t) + 'sg')\n",
        "plt.plot(indices[:,0],indices[:,1],'b.')\n",
        "plt.plot(p.cluster_centers_[:,0],p.cluster_centers_[:,1],'r.')\n"
      ],
      "execution_count": 0,
      "outputs": [
        {
          "output_type": "stream",
          "text": [
            "/content/PRI/main_functions.py:479: RuntimeWarning: divide by zero encountered in log\n",
            "  A = -np.log((1 / N * No) * K1)\n"
          ],
          "name": "stderr"
        },
        {
          "output_type": "stream",
          "text": [
            "el tiempo requerido fue:1.4350457191467285sg\n"
          ],
          "name": "stdout"
        },
        {
          "output_type": "execute_result",
          "data": {
            "text/plain": [
              "[<matplotlib.lines.Line2D at 0x7f6af73e3048>]"
            ]
          },
          "metadata": {
            "tags": []
          },
          "execution_count": 86
        },
        {
          "output_type": "display_data",
          "data": {
            "image/png": "[encoded data removed]",
            "text/plain": [
              "<Figure size 432x288 with 1 Axes>"
            ]
          },
          "metadata": {
            "tags": [],
            "needs_background": "light"
          }
        }
      ]
    },
    {
      "cell_type": "markdown",
      "metadata": {
        "id": "JBZLDeXvM2Fp",
        "colab_type": "text"
      },
      "source": [
        "**NAdam**"
      ]
    },
    {
      "cell_type": "code",
      "metadata": {
        "id": "TWFvGa-XM1js",
        "colab_type": "code",
        "outputId": "eb956ee4-f5e0-438c-fe22-92019a481628",
        "colab": {
          "base_uri": "https://localhost:8080/",
          "height": 299
        }
      },
      "source": [
        "t = time.time()\n",
        "p = MiniBatchPRI(n_groups=3, lambda_=18, sigma_initial=50, method='SGD', optimization='Nadam',\n",
        "                 reduction_ = False, PC=500,lr=0.1, decay=0.00001,ss=8)\n",
        "p.fit(indices)\n",
        "print('el tiempo requerido fue:' + str(time.time() - t) + 'sg')\n",
        "plt.plot(indices[:,0],indices[:,1],'b.')\n",
        "plt.plot(p.cluster_centers_[:,0],p.cluster_centers_[:,1],'r.')"
      ],
      "execution_count": 0,
      "outputs": [
        {
          "output_type": "stream",
          "text": [
            "el tiempo requerido fue:1.4678702354431152sg\n"
          ],
          "name": "stdout"
        },
        {
          "output_type": "execute_result",
          "data": {
            "text/plain": [
              "[<matplotlib.lines.Line2D at 0x7f6af7c8c208>]"
            ]
          },
          "metadata": {
            "tags": []
          },
          "execution_count": 104
        },
        {
          "output_type": "display_data",
          "data": {
            "image/png": "[encoded data removed]",
            "text/plain": [
              "<Figure size 432x288 with 1 Axes>"
            ]
          },
          "metadata": {
            "tags": [],
            "needs_background": "light"
          }
        }
      ]
    },
    {
      "cell_type": "markdown",
      "metadata": {
        "id": "2TgF1XDz8rFf",
        "colab_type": "text"
      },
      "source": [
        "**Guardar resultados**"
      ]
    },
    {
      "cell_type": "code",
      "metadata": {
        "id": "9_rKgu3kA9Jh",
        "colab_type": "code",
        "colab": {}
      },
      "source": [
        "\n",
        "import shutil\n",
        "from joblib import dump, load\n",
        "from datetime import date, datetime\n",
        "save={'i':indices}\n",
        "dump(save,'/content/PRI/DB2.joblib')\n",
        "namefile = str(datetime.now().strftime(\"%Y_%m_%d_%H_%M_%d\"))+'indices'\n",
        "shutil.make_archive(namefile, 'zip', '/content/PRI')\n",
        "files.download(namefile+'.zip')"
      ],
      "execution_count": 0,
      "outputs": []
    },
    {
      "cell_type": "code",
      "metadata": {
        "id": "N7wtkVJzDQXR",
        "colab_type": "code",
        "colab": {}
      },
      "source": [
        ""
      ],
      "execution_count": 0,
      "outputs": []
    }
  ]
}