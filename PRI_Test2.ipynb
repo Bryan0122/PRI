{
  "nbformat": 4,
  "nbformat_minor": 0,
  "metadata": {
    "colab": {
      "name": "PRI_Test2.ipynb",
      "provenance": [],
      "toc_visible": true,
      "authorship_tag": "ABX9TyMruCkE3bbd7YDzcdFtoFHq",
      "include_colab_link": true
    },
    "kernelspec": {
      "name": "python3",
      "display_name": "Python 3"
    }
  },
  "cells": [
    {
      "cell_type": "markdown",
      "metadata": {
        "id": "view-in-github",
        "colab_type": "text"
      },
      "source": [
        "<a href=\"https://colab.research.google.com/github/Bryan0122/PRI/blob/master/PRI_Test2.ipynb\" target=\"_parent\"><img src=\"https://colab.research.google.com/assets/colab-badge.svg\" alt=\"Open In Colab\"/></a>"
      ]
    },
    {
      "cell_type": "markdown",
      "metadata": {
        "id": "aduslBknuJKV",
        "colab_type": "text"
      },
      "source": [
        "**Cargar Funciones y bases de datos**"
      ]
    },
    {
      "cell_type": "code",
      "metadata": {
        "id": "WyHPqKIOtMLI",
        "colab_type": "code",
        "outputId": "86c0a900-5474-4789-f93e-0dd904ac534c",
        "colab": {
          "base_uri": "https://localhost:8080/",
          "height": 728
        }
      },
      "source": [
        "#https://drive.google.com/file/d/1_7TT83TiGF1Dnr--2iAfJqNj_Q3se_AL/view?usp=sharing\n",
        "#https://drive.google.com/open?id=1Swni4KqUe9gu3enPqBQUH4aYl0PRxzDH\n",
        "#id del archivo: 1Swni4KqUe9gu3enPqBQUH4aYl0PRxzDH\n",
        "FILEID = \"1Swni4KqUe9gu3enPqBQUH4aYl0PRxzDH\"\n",
        "!wget --load-cookies /tmp/cookies.txt \"https://docs.google.com/uc?export=download&confirm=$(wget --quiet --save-cookies /tmp/cookies.txt --keep-session-cookies --no-check-certificate 'https://docs.google.com/uc?export=download&id='$FILEID -O- | sed -rn 's/.*confirm=([0-9A-Za-z_]+).*/\\1\\n/p')&id=\"$FILEID -O codigos.zip && rm -rf /tmp/cookies.txt\n",
        "!unzip codigos.zip\n",
        "!dir\n",
        "!pip install mne==0.19"
      ],
      "execution_count": 1,
      "outputs": [
        {
          "output_type": "stream",
          "text": [
            "--2020-05-11 16:50:03--  https://docs.google.com/uc?export=download&confirm=&id=1Swni4KqUe9gu3enPqBQUH4aYl0PRxzDH\n",
            "Resolving docs.google.com (docs.google.com)... 64.233.189.102, 64.233.189.138, 64.233.189.139, ...\n",
            "Connecting to docs.google.com (docs.google.com)|64.233.189.102|:443... connected.\n",
            "HTTP request sent, awaiting response... 302 Moved Temporarily\n",
            "Location: https://doc-10-1o-docs.googleusercontent.com/docs/securesc/tj1kpthvhmi66i2br4h5ir2pp6416kj3/ovmmbj68jf9nese08np56l7g3gstn34f/1589215800000/11146100322577758036/02587580645686402681Z/1Swni4KqUe9gu3enPqBQUH4aYl0PRxzDH?e=download [following]\n",
            "--2020-05-11 16:50:04--  https://doc-10-1o-docs.googleusercontent.com/docs/securesc/tj1kpthvhmi66i2br4h5ir2pp6416kj3/ovmmbj68jf9nese08np56l7g3gstn34f/1589215800000/11146100322577758036/02587580645686402681Z/1Swni4KqUe9gu3enPqBQUH4aYl0PRxzDH?e=download\n",
            "Resolving doc-10-1o-docs.googleusercontent.com (doc-10-1o-docs.googleusercontent.com)... 108.177.125.132, 2404:6800:4008:c01::84\n",
            "Connecting to doc-10-1o-docs.googleusercontent.com (doc-10-1o-docs.googleusercontent.com)|108.177.125.132|:443... connected.\n",
            "HTTP request sent, awaiting response... 302 Found\n",
            "Location: https://docs.google.com/nonceSigner?nonce=blig5rjnr7bg8&continue=https://doc-10-1o-docs.googleusercontent.com/docs/securesc/tj1kpthvhmi66i2br4h5ir2pp6416kj3/ovmmbj68jf9nese08np56l7g3gstn34f/1589215800000/11146100322577758036/02587580645686402681Z/1Swni4KqUe9gu3enPqBQUH4aYl0PRxzDH?e%3Ddownload&hash=ksg9f7vj0rfn853amum861o5bfk6hk5c [following]\n",
            "--2020-05-11 16:50:04--  https://docs.google.com/nonceSigner?nonce=blig5rjnr7bg8&continue=https://doc-10-1o-docs.googleusercontent.com/docs/securesc/tj1kpthvhmi66i2br4h5ir2pp6416kj3/ovmmbj68jf9nese08np56l7g3gstn34f/1589215800000/11146100322577758036/02587580645686402681Z/1Swni4KqUe9gu3enPqBQUH4aYl0PRxzDH?e%3Ddownload&hash=ksg9f7vj0rfn853amum861o5bfk6hk5c\n",
            "Connecting to docs.google.com (docs.google.com)|64.233.189.102|:443... connected.\n",
            "HTTP request sent, awaiting response... 302 Found\n",
            "Location: https://doc-10-1o-docs.googleusercontent.com/docs/securesc/tj1kpthvhmi66i2br4h5ir2pp6416kj3/ovmmbj68jf9nese08np56l7g3gstn34f/1589215800000/11146100322577758036/02587580645686402681Z/1Swni4KqUe9gu3enPqBQUH4aYl0PRxzDH?e=download&nonce=blig5rjnr7bg8&user=02587580645686402681Z&hash=km0n52jhsgsnvha1kq4ckg5ggro3srid [following]\n",
            "--2020-05-11 16:50:04--  https://doc-10-1o-docs.googleusercontent.com/docs/securesc/tj1kpthvhmi66i2br4h5ir2pp6416kj3/ovmmbj68jf9nese08np56l7g3gstn34f/1589215800000/11146100322577758036/02587580645686402681Z/1Swni4KqUe9gu3enPqBQUH4aYl0PRxzDH?e=download&nonce=blig5rjnr7bg8&user=02587580645686402681Z&hash=km0n52jhsgsnvha1kq4ckg5ggro3srid\n",
            "Connecting to doc-10-1o-docs.googleusercontent.com (doc-10-1o-docs.googleusercontent.com)|108.177.125.132|:443... connected.\n",
            "HTTP request sent, awaiting response... 200 OK\n",
            "Length: 138328 (135K) [application/x-zip-compressed]\n",
            "Saving to: ‘codigos.zip’\n",
            "\n",
            "codigos.zip         100%[===================>] 135.09K  --.-KB/s    in 0.002s  \n",
            "\n",
            "2020-05-11 16:50:05 (83.1 MB/s) - ‘codigos.zip’ saved [138328/138328]\n",
            "\n",
            "Archive:  codigos.zip\n",
            "  inflating: PRI/algebra_validation.py  \n",
            "  inflating: PRI/DB.mat              \n",
            "  inflating: PRI/DB2.joblib          \n",
            " extracting: PRI/image.PNG           \n",
            "  inflating: PRI/main_functions.py   \n",
            "codigos.zip  PRI  sample_data\n",
            "Collecting mne==0.19\n",
            "\u001b[?25l  Downloading https://files.pythonhosted.org/packages/f5/44/b5b96426623c9dca0dfcdcfdf1f57058bb668f7c1a01bed0b0b867eb8b92/mne-0.19.0-py3-none-any.whl (6.4MB)\n",
            "\u001b[K     |████████████████████████████████| 6.4MB 2.6MB/s \n",
            "\u001b[?25hRequirement already satisfied: numpy>=1.11.3 in /usr/local/lib/python3.6/dist-packages (from mne==0.19) (1.18.4)\n",
            "Requirement already satisfied: scipy>=0.17.1 in /usr/local/lib/python3.6/dist-packages (from mne==0.19) (1.4.1)\n",
            "Installing collected packages: mne\n",
            "Successfully installed mne-0.19.0\n"
          ],
          "name": "stdout"
        }
      ]
    },
    {
      "cell_type": "markdown",
      "metadata": {
        "id": "lxmAGu1euMyB",
        "colab_type": "text"
      },
      "source": [
        "**Añadir Carpeta de funciones y bases de datos**"
      ]
    },
    {
      "cell_type": "code",
      "metadata": {
        "id": "VCGV0wDBtQF9",
        "colab_type": "code",
        "colab": {}
      },
      "source": [
        "import os\n",
        "import sys\n",
        "Path='/content/PRI'\n",
        "sys.path.append(Path)\n",
        "DB = os.path.join(Path, 'DB')"
      ],
      "execution_count": 0,
      "outputs": []
    },
    {
      "cell_type": "markdown",
      "metadata": {
        "id": "ZdmLk-ZCuYs8",
        "colab_type": "text"
      },
      "source": [
        "**Cargar librerias**"
      ]
    },
    {
      "cell_type": "code",
      "metadata": {
        "id": "bM8J7_D_tSMc",
        "colab_type": "code",
        "colab": {}
      },
      "source": [
        "import cv2\n",
        "import time\n",
        "import shutil\n",
        "import numpy as np\n",
        "import math as math\n",
        "import scipy.io as sio\n",
        "from sklearn import datasets\n",
        "from joblib import dump,load\n",
        "from main_functions import *\n",
        "from google.colab import files\n",
        "import matplotlib.pyplot as plt\n",
        "from scipy.spatial import distance\n",
        "from datetime import date, datetime\n",
        "from sklearn.pipeline import Pipeline\n",
        "from scipy.spatial.distance import cdist\n",
        "from sklearn.metrics import accuracy_score,confusion_matrix\n",
        "from sklearn.model_selection import GridSearchCV\n",
        "from sklearn.model_selection import train_test_split\n",
        "from sklearn.cluster import KMeans, SpectralClustering\n",
        "from sklearn.metrics.cluster import adjusted_rand_score\n",
        "from sklearn.base import BaseEstimator, TransformerMixin, ClusterMixin"
      ],
      "execution_count": 0,
      "outputs": []
    },
    {
      "cell_type": "markdown",
      "metadata": {
        "id": "LmnmmnK8wwp1",
        "colab_type": "text"
      },
      "source": [
        "## **Sin ruido**\n",
        "**Validacion de la metodologia**"
      ]
    },
    {
      "cell_type": "markdown",
      "metadata": {
        "id": "orv4JWAJucx7",
        "colab_type": "text"
      },
      "source": [
        "**Happy**"
      ]
    },
    {
      "cell_type": "code",
      "metadata": {
        "id": "6eqmgxIMtT50",
        "colab_type": "code",
        "outputId": "5593d40d-22aa-48f6-f2fa-eff0d667f5fc",
        "colab": {
          "base_uri": "https://localhost:8080/",
          "height": 283
        }
      },
      "source": [
        "data = sio.loadmat(DB)['DB'][0, 0]\n",
        "happy = data['happy']\n",
        "sc = SpectralClustering(n_clusters=3, n_neighbors=5, gamma = 1000)\n",
        "sc.fit(happy)\n",
        "labels_happy = sc.labels_\n",
        "plt.scatter(happy[:,0],happy[:,1],c=labels_happy)"
      ],
      "execution_count": 4,
      "outputs": [
        {
          "output_type": "execute_result",
          "data": {
            "text/plain": [
              "<matplotlib.collections.PathCollection at 0x7f0dcd507da0>"
            ]
          },
          "metadata": {
            "tags": []
          },
          "execution_count": 4
        },
        {
          "output_type": "display_data",
          "data": {
            "image/png": "[encoded data removed]",
            "text/plain": [
              "<Figure size 432x288 with 1 Axes>"
            ]
          },
          "metadata": {
            "tags": [],
            "needs_background": "light"
          }
        }
      ]
    },
    {
      "cell_type": "markdown",
      "metadata": {
        "id": "hKWu7Iw0uewc",
        "colab_type": "text"
      },
      "source": [
        "**Crear conjunto de train y test**"
      ]
    },
    {
      "cell_type": "code",
      "metadata": {
        "id": "94LyejtvtXDk",
        "colab_type": "code",
        "colab": {}
      },
      "source": [
        "X_train, X_test, y_train, y_test = train_test_split(\n",
        "    happy, labels_happy, test_size=0.2, stratify=labels_happy)"
      ],
      "execution_count": 0,
      "outputs": []
    },
    {
      "cell_type": "markdown",
      "metadata": {
        "id": "ZJcE5AMQuiSM",
        "colab_type": "text"
      },
      "source": [
        "# **Punto Fijo**"
      ]
    },
    {
      "cell_type": "markdown",
      "metadata": {
        "id": "ADKSsCjkvolF",
        "colab_type": "text"
      },
      "source": [
        "**Reduccion con Kmeans**"
      ]
    },
    {
      "cell_type": "code",
      "metadata": {
        "id": "a60nQF0Xvosc",
        "colab_type": "code",
        "outputId": "785a43a6-f9b1-4158-8b7d-b4b127c1df21",
        "colab": {
          "base_uri": "https://localhost:8080/",
          "height": 301
        }
      },
      "source": [
        "t = time.time()\n",
        "p = PRI(lambda_=5, n_clusters=3, nn=5, sigma_initial=25,reduction_='Kmeans')\n",
        "p.fit(X_train, y_train)\n",
        "labels_pre_FP = p.predict(X_test)\n",
        "print('el tiempo requerido fue:'+ str(time.time() - t)+'sg')\n",
        "plt.scatter(X_train[:, 0], X_train[:, 1], c=y_train, marker='.')\n",
        "plt.scatter(X_test[:, 0], X_test[:, 1], c=labels_pre_FP, marker='D',s=68)\n",
        "Rari_FP=adjusted_rand_score(y_test,labels_pre_FP)\n",
        "Racc_FP=accuracy_score(y_test,labels_pre_FP)\n",
        "print('Ari: '+str(Rari_FP)+' y'+' accuracy: '+str(Racc_FP))"
      ],
      "execution_count": 0,
      "outputs": [
        {
          "output_type": "stream",
          "text": [
            "el tiempo requerido fue:1.5095760822296143sg\n",
            "Ari: 0.3866953538407862 y accuracy: 0.7407407407407407\n"
          ],
          "name": "stdout"
        },
        {
          "output_type": "display_data",
          "data": {
            "image/png": "[encoded data removed]",
            "text/plain": [
              "<Figure size 432x288 with 1 Axes>"
            ]
          },
          "metadata": {
            "tags": [],
            "needs_background": "light"
          }
        }
      ]
    },
    {
      "cell_type": "markdown",
      "metadata": {
        "id": "nhy1hgpovo1V",
        "colab_type": "text"
      },
      "source": [
        "****Reduccion con Spectral Clustering****"
      ]
    },
    {
      "cell_type": "code",
      "metadata": {
        "id": "fIGQX4F3tX_c",
        "colab_type": "code",
        "outputId": "1b3ea3d6-db5f-4241-9b26-c1c88d90274d",
        "colab": {
          "base_uri": "https://localhost:8080/",
          "height": 301
        }
      },
      "source": [
        "t = time.time()\n",
        "p = PRI(lambda_=5, n_clusters=3, nn=5, sigma_initial=25,reduction_='SC',gamma_=500)\n",
        "p.fit(X_train, y_train)\n",
        "labels_pre_FP = p.predict(X_test)\n",
        "print('el tiempo requerido fue:'+ str(time.time() - t)+'sg')\n",
        "plt.scatter(X_train[:, 0], X_train[:, 1], c=y_train, marker='.')\n",
        "plt.scatter(X_test[:, 0], X_test[:, 1], c=labels_pre_FP, marker='D',s=68)\n",
        "Rari_FP=adjusted_rand_score(y_test,labels_pre_FP)\n",
        "Racc_FP=accuracy_score(y_test,labels_pre_FP)\n",
        "print('Ari: '+str(Rari_FP)+' y'+' accuracy: '+str(Racc_FP))"
      ],
      "execution_count": 0,
      "outputs": [
        {
          "output_type": "stream",
          "text": [
            "el tiempo requerido fue:1.8694777488708496sg\n",
            "Ari: 1.0 y accuracy: 1.0\n"
          ],
          "name": "stdout"
        },
        {
          "output_type": "display_data",
          "data": {
            "image/png": "[encoded data removed]",
            "text/plain": [
              "<Figure size 432x288 with 1 Axes>"
            ]
          },
          "metadata": {
            "tags": [],
            "needs_background": "light"
          }
        }
      ]
    },
    {
      "cell_type": "markdown",
      "metadata": {
        "id": "kt3Ab_chvKJm",
        "colab_type": "text"
      },
      "source": [
        "**SGD**"
      ]
    },
    {
      "cell_type": "code",
      "metadata": {
        "id": "IO1tXF_gvEp9",
        "colab_type": "code",
        "outputId": "18f4d416-b688-4a57-8af6-72526aa6cb34",
        "colab": {
          "base_uri": "https://localhost:8080/",
          "height": 301
        }
      },
      "source": [
        "t = time.time()\n",
        "p = MiniBatchPRI(lambda_=3, sigma_initial=40,learning_rate=0.001,reduction_='SC',gamma_=500,n_clusters=3)\n",
        "p.fit(X_train, y_train)\n",
        "labels_pre_SGD = p.predict(X_test)\n",
        "print('el tiempo requerido fue:'+ str(time.time() - t)+'sg')\n",
        "plt.scatter(X_train[:, 0], X_train[:, 1], c=y_train, marker='.')\n",
        "plt.scatter(X_test[:, 0], X_test[:, 1], c=labels_pre_SGD, marker='D',s=68)\n",
        "Rari_SGD=adjusted_rand_score(y_test,labels_pre_SGD)\n",
        "Racc_SGD=accuracy_score(y_test,labels_pre_SGD)\n",
        "print('Ari: '+str(Rari_SGD)+' y'+' accuracy: '+str(Racc_SGD))"
      ],
      "execution_count": 0,
      "outputs": [
        {
          "output_type": "stream",
          "text": [
            "el tiempo requerido fue:1.0721418857574463sg\n",
            "Ari: 1.0 y accuracy: 1.0\n"
          ],
          "name": "stdout"
        },
        {
          "output_type": "display_data",
          "data": {
            "image/png": "[encoded data removed]",
            "text/plain": [
              "<Figure size 432x288 with 1 Axes>"
            ]
          },
          "metadata": {
            "tags": [],
            "needs_background": "light"
          }
        }
      ]
    },
    {
      "cell_type": "markdown",
      "metadata": {
        "id": "5KxAavDwvZH-",
        "colab_type": "text"
      },
      "source": [
        "**Adam**"
      ]
    },
    {
      "cell_type": "code",
      "metadata": {
        "id": "EnZrcKW4vPz7",
        "colab_type": "code",
        "outputId": "73fefc42-a0f7-41c1-f133-bd5a74efeaa3",
        "colab": {
          "base_uri": "https://localhost:8080/",
          "height": 301
        }
      },
      "source": [
        "t = time.time()\n",
        "p = MiniBatchPRI(lambda_=3, sigma_initial=40,learning_rate=0.003,optimization='Adam',reduction_='SC',gamma_=500)\n",
        "p.fit(X_train, y_train)\n",
        "labels_pre_SGDA = p.predict(X_test)\n",
        "print('el tiempo requerido fue:'+ str(time.time() - t)+'sg')\n",
        "plt.scatter(X_train[:, 0], X_train[:, 1], c=y_train, marker='.')\n",
        "plt.scatter(X_test[:, 0], X_test[:, 1], c=labels_pre_SGDA, marker='D',s=68)\n",
        "Rari_SGDA=adjusted_rand_score(y_test,labels_pre_SGDA)\n",
        "Racc_SGDA=accuracy_score(y_test,labels_pre_SGDA)\n",
        "print('Ari: '+str(Rari_SGDA)+' y'+' accuracy: '+str(Racc_SGDA))"
      ],
      "execution_count": 0,
      "outputs": [
        {
          "output_type": "stream",
          "text": [
            "el tiempo requerido fue:1.0941736698150635sg\n",
            "Ari: 1.0 y accuracy: 1.0\n"
          ],
          "name": "stdout"
        },
        {
          "output_type": "display_data",
          "data": {
            "image/png": "[encoded data removed]",
            "text/plain": [
              "<Figure size 432x288 with 1 Axes>"
            ]
          },
          "metadata": {
            "tags": [],
            "needs_background": "light"
          }
        }
      ]
    },
    {
      "cell_type": "markdown",
      "metadata": {
        "id": "LUnbiU6ZvgAE",
        "colab_type": "text"
      },
      "source": [
        "**Nadam**"
      ]
    },
    {
      "cell_type": "code",
      "metadata": {
        "id": "m0wze-WdveRy",
        "colab_type": "code",
        "outputId": "cdcebaf1-d2d1-4dea-c795-97dc040e91a3",
        "colab": {
          "base_uri": "https://localhost:8080/",
          "height": 301
        }
      },
      "source": [
        "t = time.time()\n",
        "p = MiniBatchPRI(lambda_=3, sigma_initial=40,learning_rate=0.002,optimization='Nadam',reduction_='SC',gamma_=500)\n",
        "p.fit(X_train, y_train)\n",
        "labels_pre_SGDA = p.predict(X_test)\n",
        "print('el tiempo requerido fue:'+ str(time.time() - t)+'sg')\n",
        "plt.scatter(X_train[:, 0], X_train[:, 1], c=y_train, marker='.')\n",
        "plt.scatter(X_test[:, 0], X_test[:, 1], c=labels_pre_SGDA, marker='D',s=68)\n",
        "Rari_SGDA=adjusted_rand_score(y_test,labels_pre_SGDA)\n",
        "Racc_SGDA=accuracy_score(y_test,labels_pre_SGDA)\n",
        "print('Ari: '+str(Rari_SGDA)+' y'+' accuracy: '+str(Racc_SGDA))"
      ],
      "execution_count": 0,
      "outputs": [
        {
          "output_type": "stream",
          "text": [
            "el tiempo requerido fue:1.091156005859375sg\n",
            "Ari: 1.0 y accuracy: 1.0\n"
          ],
          "name": "stdout"
        },
        {
          "output_type": "display_data",
          "data": {
            "image/png": "[encoded data removed]",
            "text/plain": [
              "<Figure size 432x288 with 1 Axes>"
            ]
          },
          "metadata": {
            "tags": [],
            "needs_background": "light"
          }
        }
      ]
    },
    {
      "cell_type": "markdown",
      "metadata": {
        "id": "Qz_ecYfBwmDe",
        "colab_type": "text"
      },
      "source": [
        "**Kmeans**"
      ]
    },
    {
      "cell_type": "code",
      "metadata": {
        "id": "nUUaaKavvjsL",
        "colab_type": "code",
        "outputId": "2d8c9b38-b3fa-4146-af4e-cbb05ed19def",
        "colab": {
          "base_uri": "https://localhost:8080/",
          "height": 301
        }
      },
      "source": [
        "t = time.time()\n",
        "p = Kmeans( n_clusters_=3)\n",
        "p.fit(X_train, y_train)\n",
        "labels_pre_Km= p.predict(X_test)\n",
        "print('el tiempo requerido fue:'+ str(time.time() - t)+'sg')\n",
        "plt.scatter(X_train[:, 0], X_train[:, 1], c=y_train, marker='.')\n",
        "plt.scatter(X_test[:, 0], X_test[:, 1], c=labels_pre_Km, marker='D',s=68)\n",
        "Rari_Km=adjusted_rand_score(y_test,labels_pre_Km)\n",
        "Racc_Km=accuracy_score(y_test,labels_pre_Km)\n",
        "print('Ari: '+str(Rari_Km)+' y'+' accuracy: '+str(Racc_Km))"
      ],
      "execution_count": 0,
      "outputs": [
        {
          "output_type": "stream",
          "text": [
            "el tiempo requerido fue:0.04242753982543945sg\n",
            "Ari: 0.3866953538407862 y accuracy: 0.7407407407407407\n"
          ],
          "name": "stdout"
        },
        {
          "output_type": "display_data",
          "data": {
            "image/png": "[encoded data removed]",
            "text/plain": [
              "<Figure size 432x288 with 1 Axes>"
            ]
          },
          "metadata": {
            "tags": [],
            "needs_background": "light"
          }
        }
      ]
    },
    {
      "cell_type": "markdown",
      "metadata": {
        "id": "YitdK-HWwqHF",
        "colab_type": "text"
      },
      "source": [
        "**Spectral Clustering**"
      ]
    },
    {
      "cell_type": "code",
      "metadata": {
        "id": "ROmo1q3_wn48",
        "colab_type": "code",
        "outputId": "f9650e63-a961-4f96-9146-b821e2f64357",
        "colab": {
          "base_uri": "https://localhost:8080/",
          "height": 301
        }
      },
      "source": [
        "t = time.time()\n",
        "p = SC(n_clusters_=3, gamma_=500, n_neighbors_=5, nn=3)\n",
        "p.fit(X_train, y_train)\n",
        "labels_pre_SC = p.predict(X_test)\n",
        "print('el tiempo requerido fue:'+ str(time.time() - t)+'sg')\n",
        "plt.scatter(X_train[:, 0], X_train[:, 1], c=y_train, marker='.')\n",
        "plt.scatter(X_test[:, 0], X_test[:, 1], c=labels_pre_SC, marker='D',s=68)\n",
        "Rari_SC=adjusted_rand_score(y_test,labels_pre_SC)\n",
        "Racc_SC=accuracy_score(y_test,labels_pre_SC)\n",
        "print('Ari: '+str(Rari_SC)+' y'+' accuracy: '+str(Racc_SC))"
      ],
      "execution_count": 0,
      "outputs": [
        {
          "output_type": "stream",
          "text": [
            "el tiempo requerido fue:0.059571266174316406sg\n",
            "Ari: 1.0 y accuracy: 1.0\n"
          ],
          "name": "stdout"
        },
        {
          "output_type": "display_data",
          "data": {
            "image/png": "[encoded data removed]",
            "text/plain": [
              "<Figure size 432x288 with 1 Axes>"
            ]
          },
          "metadata": {
            "tags": [],
            "needs_background": "light"
          }
        }
      ]
    },
    {
      "cell_type": "markdown",
      "metadata": {
        "id": "sNjyiByLxCCl",
        "colab_type": "text"
      },
      "source": [
        "## **Con ruido**\n"
      ]
    },
    {
      "cell_type": "markdown",
      "metadata": {
        "id": "bevnbO4SxJOW",
        "colab_type": "text"
      },
      "source": [
        "**happy**"
      ]
    },
    {
      "cell_type": "code",
      "metadata": {
        "id": "jfMLDKUv7NWB",
        "colab_type": "code",
        "outputId": "e17f658c-57bd-4647-f14f-62e2219cef5a",
        "colab": {
          "base_uri": "https://localhost:8080/",
          "height": 283
        }
      },
      "source": [
        "# Set a target SNR\n",
        "target_snr_db =30\n",
        "# Calculate signal power and convert to dB \n",
        "avg_happy = np.mean(happy)\n",
        "avg_db = 10 * np.log10(avg_happy)\n",
        "# Calculate noise according to [2] then convert to watts\n",
        "avg_db = avg_db - target_snr_db\n",
        "noise_avg_watts = 10 ** (avg_db / 10)\n",
        "# Generate an sample of white noise\n",
        "mean_noise = 0\n",
        "noise_volts = np.random.normal(mean_noise, np.sqrt(noise_avg_watts),happy.shape)\n",
        "noisy_happy=happy+noise_volts\n",
        "plt.scatter(noisy_happy[:,0],noisy_happy[:,1],c=labels_happy)"
      ],
      "execution_count": 0,
      "outputs": [
        {
          "output_type": "execute_result",
          "data": {
            "text/plain": [
              "<matplotlib.collections.PathCollection at 0x7f95c2b1d048>"
            ]
          },
          "metadata": {
            "tags": []
          },
          "execution_count": 113
        },
        {
          "output_type": "display_data",
          "data": {
            "image/png": "[encoded data removed]",
            "text/plain": [
              "<Figure size 432x288 with 1 Axes>"
            ]
          },
          "metadata": {
            "tags": [],
            "needs_background": "light"
          }
        }
      ]
    },
    {
      "cell_type": "markdown",
      "metadata": {
        "id": "BboJVPNo9hqH",
        "colab_type": "text"
      },
      "source": [
        "**Prueba**"
      ]
    },
    {
      "cell_type": "code",
      "metadata": {
        "id": "Ovfjigb18mu6",
        "colab_type": "code",
        "colab": {}
      },
      "source": [
        "X_train, X_test, y_train, y_test = train_test_split(\n",
        "    noisy_happy, labels_happy, test_size=0.2, stratify=labels_happy)"
      ],
      "execution_count": 0,
      "outputs": []
    },
    {
      "cell_type": "markdown",
      "metadata": {
        "id": "YlW1dtgAC_jx",
        "colab_type": "text"
      },
      "source": [
        "**FP**"
      ]
    },
    {
      "cell_type": "code",
      "metadata": {
        "id": "ckWQS6He8_UQ",
        "colab_type": "code",
        "outputId": "84f8b641-154f-485f-c702-b469310b17f0",
        "colab": {
          "base_uri": "https://localhost:8080/",
          "height": 374
        }
      },
      "source": [
        "t = time.time()\n",
        "p = PRI(lambda_=3, n_clusters=3, nn=5, sigma_initial=2,reduction_='SC',gamma_=500)\n",
        "p.fit(X_train, y_train)\n",
        "labels_pre_FP = p.predict(X_test)\n",
        "print('el tiempo requerido fue:'+ str(time.time() - t)+'sg')\n",
        "plt.scatter(X_train[:, 0], X_train[:, 1], c=y_train, marker='.')\n",
        "plt.scatter(X_test[:, 0], X_test[:, 1], c=labels_pre_FP, marker='D',s=68)\n",
        "Rari_FP=adjusted_rand_score(y_test,labels_pre_FP)\n",
        "Racc_FP=accuracy_score(y_test,labels_pre_FP)\n",
        "print('Ari: '+str(Rari_FP)+' y'+' accuracy: '+str(Racc_FP))"
      ],
      "execution_count": 0,
      "outputs": [
        {
          "output_type": "stream",
          "text": [
            "/content/PRI/main_functions.py:299: RuntimeWarning: divide by zero encountered in log\n",
            "  A = -np.log((1 / N * No) * K1)\n",
            "/content/PRI/main_functions.py:299: RuntimeWarning: divide by zero encountered in log\n",
            "  A = -np.log((1 / N * No) * K1)\n"
          ],
          "name": "stderr"
        },
        {
          "output_type": "stream",
          "text": [
            "el tiempo requerido fue:3.5322482585906982sg\n",
            "Ari: 0.6310246340592645 y accuracy: 0.8703703703703703\n"
          ],
          "name": "stdout"
        },
        {
          "output_type": "display_data",
          "data": {
            "image/png": "[encoded data removed]",
            "text/plain": [
              "<Figure size 432x288 with 1 Axes>"
            ]
          },
          "metadata": {
            "tags": [],
            "needs_background": "light"
          }
        }
      ]
    },
    {
      "cell_type": "markdown",
      "metadata": {
        "id": "3bx6SLKCDCCu",
        "colab_type": "text"
      },
      "source": [
        "**SGD**"
      ]
    },
    {
      "cell_type": "code",
      "metadata": {
        "id": "H8is6m2hC5yL",
        "colab_type": "code",
        "outputId": "928d6b06-732f-4eed-9729-6bc6dd2d91bb",
        "colab": {
          "base_uri": "https://localhost:8080/",
          "height": 301
        }
      },
      "source": [
        "t = time.time()\n",
        "p = MiniBatchPRI(lambda_=3, sigma_initial=40,learning_rate=0.001,reduction_='SC',n_clusters=3,gamma_=500,nn=5)\n",
        "p.fit(X_train, y_train)\n",
        "labels_pre_SGD = p.predict(X_test)\n",
        "print('el tiempo requerido fue:'+ str(time.time() - t)+'sg')\n",
        "plt.scatter(X_train[:, 0], X_train[:, 1], c=y_train, marker='.')\n",
        "plt.scatter(X_test[:, 0], X_test[:, 1], c=labels_pre_SGD, marker='D',s=68)\n",
        "Rari_SGD=adjusted_rand_score(y_test,labels_pre_SGD)\n",
        "Racc_SGD=accuracy_score(y_test,labels_pre_SGD)\n",
        "print('Ari: '+str(Rari_SGD)+' y'+' accuracy: '+str(Racc_SGD))"
      ],
      "execution_count": 0,
      "outputs": [
        {
          "output_type": "stream",
          "text": [
            "el tiempo requerido fue:1.0158705711364746sg\n",
            "Ari: 0.4867636947054779 y accuracy: 0.7592592592592593\n"
          ],
          "name": "stdout"
        },
        {
          "output_type": "display_data",
          "data": {
            "image/png": "[encoded data removed]",
            "text/plain": [
              "<Figure size 432x288 with 1 Axes>"
            ]
          },
          "metadata": {
            "tags": [],
            "needs_background": "light"
          }
        }
      ]
    },
    {
      "cell_type": "markdown",
      "metadata": {
        "id": "uWLDukkzDDwp",
        "colab_type": "text"
      },
      "source": [
        "**Spectral clustering**"
      ]
    },
    {
      "cell_type": "code",
      "metadata": {
        "id": "RPKKUPRZ9NfS",
        "colab_type": "code",
        "outputId": "b0a80380-7bd5-4c69-eba3-dfa884e156a7",
        "colab": {
          "base_uri": "https://localhost:8080/",
          "height": 301
        }
      },
      "source": [
        "t = time.time()\n",
        "p = SC(n_clusters_=3, gamma_=500, n_neighbors_=5, nn=3)\n",
        "p.fit(X_train, y_train)\n",
        "labels_pre_SC = p.predict(X_test)\n",
        "print('el tiempo requerido fue:'+ str(time.time() - t)+'sg')\n",
        "plt.scatter(X_train[:, 0], X_train[:, 1], c=y_train, marker='.')\n",
        "plt.scatter(X_test[:, 0], X_test[:, 1], c=labels_pre_SC, marker='D',s=68)\n",
        "Rari_SC=adjusted_rand_score(y_test,labels_pre_SC)\n",
        "Racc_SC=accuracy_score(y_test,labels_pre_SC)\n",
        "print('Ari: '+str(Rari_SC)+' y'+' accuracy: '+str(Racc_SC))"
      ],
      "execution_count": 0,
      "outputs": [
        {
          "output_type": "stream",
          "text": [
            "el tiempo requerido fue:0.061058998107910156sg\n",
            "Ari: 0.5793650793650794 y accuracy: 0.8333333333333334\n"
          ],
          "name": "stdout"
        },
        {
          "output_type": "display_data",
          "data": {
            "image/png": "[encoded data removed]",
            "text/plain": [
              "<Figure size 432x288 with 1 Axes>"
            ]
          },
          "metadata": {
            "tags": [],
            "needs_background": "light"
          }
        }
      ]
    },
    {
      "cell_type": "markdown",
      "metadata": {
        "id": "u7_exhhrxLVf",
        "colab_type": "text"
      },
      "source": [
        "**moons**"
      ]
    },
    {
      "cell_type": "code",
      "metadata": {
        "id": "GkViw5SIxGgM",
        "colab_type": "code",
        "outputId": "25c122aa-ebaa-4939-db02-a922acf0c329",
        "colab": {
          "base_uri": "https://localhost:8080/",
          "height": 283
        }
      },
      "source": [
        "\n",
        "moons,labels_moons = datasets.make_moons(n_samples=200)\n",
        "# Set a target SNR\n",
        "target_snr_db =12\n",
        "# Calculate signal power and convert to dB \n",
        "avg_moons = np.mean(moons)\n",
        "avg_db = 10 * np.log10(avg_moons)\n",
        "# Calculate noise according to [2] then convert to watts\n",
        "avg_db = avg_db - target_snr_db\n",
        "noise_avg_watts = 10 ** (avg_db / 10)\n",
        "# Generate an sample of white noise\n",
        "mean_noise = 0\n",
        "noise_volts = np.random.normal(mean_noise, np.sqrt(noise_avg_watts),moons.shape)\n",
        "noisy_moons=moons+noise_volts\n",
        "plt.scatter(noisy_moons[:,0],noisy_moons[:,1],c=labels_moons)"
      ],
      "execution_count": 0,
      "outputs": [
        {
          "output_type": "execute_result",
          "data": {
            "text/plain": [
              "<matplotlib.collections.PathCollection at 0x7fb8a654b898>"
            ]
          },
          "metadata": {
            "tags": []
          },
          "execution_count": 16
        },
        {
          "output_type": "display_data",
          "data": {
            "image/png": "[encoded data removed]",
            "text/plain": [
              "<Figure size 432x288 with 1 Axes>"
            ]
          },
          "metadata": {
            "tags": [],
            "needs_background": "light"
          }
        }
      ]
    },
    {
      "cell_type": "markdown",
      "metadata": {
        "id": "izuhrJmo-oSM",
        "colab_type": "text"
      },
      "source": [
        "**Prueba**"
      ]
    },
    {
      "cell_type": "code",
      "metadata": {
        "id": "cDH4FkyexNc0",
        "colab_type": "code",
        "colab": {}
      },
      "source": [
        "X_train, X_test, y_train, y_test = train_test_split(\n",
        "    noisy_moons, labels_moons, test_size=0.2, stratify=labels_moons)"
      ],
      "execution_count": 0,
      "outputs": []
    },
    {
      "cell_type": "markdown",
      "metadata": {
        "id": "nKRMXtJ0DIT5",
        "colab_type": "text"
      },
      "source": [
        "**FP**"
      ]
    },
    {
      "cell_type": "code",
      "metadata": {
        "id": "yoBX8vX_-tLP",
        "colab_type": "code",
        "outputId": "273ec2da-b344-4dcb-c162-7cdfae460914",
        "colab": {
          "base_uri": "https://localhost:8080/",
          "height": 301
        }
      },
      "source": [
        "t = time.time()\n",
        "p = PRI(lambda_=2, n_clusters=2, nn=3, sigma_initial=15,reduction_='SC')\n",
        "p.fit(X_train, y_train)\n",
        "labels_pre_FP = p.predict(X_test)\n",
        "print('el tiempo requerido fue:'+ str(time.time() - t)+'sg')\n",
        "plt.scatter(X_train[:, 0], X_train[:, 1], c=y_train, marker='.')\n",
        "plt.scatter(X_test[:, 0], X_test[:, 1], c=labels_pre_FP, marker='D',s=68)\n",
        "Rari_FP=adjusted_rand_score(y_test,labels_pre_FP)\n",
        "Racc_FP=accuracy_score(y_test,labels_pre_FP)\n",
        "print('Ari: '+str(Rari_FP)+' y'+' accuracy: '+str(Racc_FP))"
      ],
      "execution_count": 0,
      "outputs": [
        {
          "output_type": "stream",
          "text": [
            "el tiempo requerido fue:0.8858356475830078sg\n",
            "Ari: 0.47712933753943215 y accuracy: 0.85\n"
          ],
          "name": "stdout"
        },
        {
          "output_type": "display_data",
          "data": {
            "image/png": "[encoded data removed]",
            "text/plain": [
              "<Figure size 432x288 with 1 Axes>"
            ]
          },
          "metadata": {
            "tags": [],
            "needs_background": "light"
          }
        }
      ]
    },
    {
      "cell_type": "markdown",
      "metadata": {
        "id": "g8R9EIVzDO3q",
        "colab_type": "text"
      },
      "source": [
        "**SGD**"
      ]
    },
    {
      "cell_type": "code",
      "metadata": {
        "id": "GUhUEMRuFJkp",
        "colab_type": "code",
        "outputId": "6cb69cd8-8cba-49a8-c389-614b2c428a41",
        "colab": {
          "base_uri": "https://localhost:8080/",
          "height": 301
        }
      },
      "source": [
        "t = time.time()\n",
        "p = MiniBatchPRI(lambda_=2, sigma_initial=40,learning_rate=0.03,reduction_='SC',n_clusters=2)\n",
        "p.fit(X_train, y_train)\n",
        "labels_pre_SGD = p.predict(X_test)\n",
        "print('el tiempo requerido fue:'+ str(time.time() - t)+'sg')\n",
        "plt.scatter(X_train[:, 0], X_train[:, 1], c=y_train, marker='.')\n",
        "plt.scatter(X_test[:, 0], X_test[:, 1], c=labels_pre_SGD, marker='D',s=68)\n",
        "Rari_SGD=adjusted_rand_score(y_test,labels_pre_SGD)\n",
        "Racc_SGD=accuracy_score(y_test,labels_pre_SGD)\n",
        "print('Ari: '+str(Rari_SGD)+' y'+' accuracy: '+str(Racc_SGD))"
      ],
      "execution_count": 0,
      "outputs": [
        {
          "output_type": "stream",
          "text": [
            "el tiempo requerido fue:0.6042680740356445sg\n",
            "Ari: 0.5517241379310345 y accuracy: 0.875\n"
          ],
          "name": "stdout"
        },
        {
          "output_type": "display_data",
          "data": {
            "image/png": "[encoded data removed]",
            "text/plain": [
              "<Figure size 432x288 with 1 Axes>"
            ]
          },
          "metadata": {
            "tags": [],
            "needs_background": "light"
          }
        }
      ]
    },
    {
      "cell_type": "markdown",
      "metadata": {
        "id": "eJDWQWXQDcti",
        "colab_type": "text"
      },
      "source": [
        "**Spectral clustering**"
      ]
    },
    {
      "cell_type": "code",
      "metadata": {
        "id": "czSwZAW6-yoG",
        "colab_type": "code",
        "outputId": "d8fdf3e2-00dc-48db-caec-d454176cbeb4",
        "colab": {
          "base_uri": "https://localhost:8080/",
          "height": 301
        }
      },
      "source": [
        "t = time.time()\n",
        "p = SC(n_clusters_=2, gamma_=100, n_neighbors_=1, nn=3)\n",
        "p.fit(X_train, y_train)\n",
        "labels_pre_SC = p.predict(X_test)\n",
        "print('el tiempo requerido fue:'+ str(time.time() - t)+'sg')\n",
        "plt.scatter(X_train[:, 0], X_train[:, 1], c=y_train, marker='.')\n",
        "plt.scatter(X_test[:, 0], X_test[:, 1], c=labels_pre_SC, marker='D',s=68)\n",
        "Rari_SC=adjusted_rand_score(y_test,labels_pre_SC)\n",
        "Racc_SC=accuracy_score(y_test,labels_pre_SC)\n",
        "print('Ari: '+str(Rari_SC)+' y'+' accuracy: '+str(Racc_SC))"
      ],
      "execution_count": 0,
      "outputs": [
        {
          "output_type": "stream",
          "text": [
            "el tiempo requerido fue:0.1457967758178711sg\n",
            "Ari: 0.10931095061487414 y accuracy: 0.675\n"
          ],
          "name": "stdout"
        },
        {
          "output_type": "display_data",
          "data": {
            "image/png": "[encoded data removed]",
            "text/plain": [
              "<Figure size 432x288 with 1 Axes>"
            ]
          },
          "metadata": {
            "tags": [],
            "needs_background": "light"
          }
        }
      ]
    },
    {
      "cell_type": "markdown",
      "metadata": {
        "id": "XHe_lOPr6Pp_",
        "colab_type": "text"
      },
      "source": [
        "**Happy**"
      ]
    },
    {
      "cell_type": "code",
      "metadata": {
        "id": "xlZhqjTG_JyC",
        "colab_type": "code",
        "colab": {}
      },
      "source": [
        "n_clusters=3\n",
        "steps =[[('rep',SC())],\n",
        "        [('rep',Kmeans())], \n",
        "        [('rep', PRI())], \n",
        "        [('rep', MiniBatchPRI())]] \n",
        "   \n",
        "parameters =[{'rep__gamma_':[100,200,500,1000],'rep__n_neighbors_':[5,10,15],'rep__nn_':[3,5,9],'rep__n_clusters_':[n_clusters]},\n",
        "             {'rep__nn':[3,5,9],'rep__n_clusters_':[n_clusters]},\n",
        "             {'rep__lambda_':[2,3],'rep__sigma_initial':[5,15,25,35],'rep__nn':[3,5],'rep__n_clusters':[n_clusters],'rep__reduction_':['SC'],'rep__gamma_':[100,500,1000]},\n",
        "             {'rep__lambda_':[2,3],'rep__sigma_initial':[30,35,40,45],'rep__learning_rate':[0.001,0.003],'rep__nn':[3,5],'rep__n_clusters':[n_clusters],'rep__reduction_':['SC'],'rep__gamma_':[100,500,1000],'rep__optimization':['Adam','Nadam',None]}]"
      ],
      "execution_count": 0,
      "outputs": []
    },
    {
      "cell_type": "code",
      "metadata": {
        "id": "n0Xn0HMolI-j",
        "colab_type": "code",
        "colab": {}
      },
      "source": [
        "#{'rep__lambda_':[2,3],'rep__sigma_initial':[5,15,25,35],'rep__nn':[3,5],'rep__n_clusters':[n_clusters],'rep__reduction_':['SC'],'rep__gamma_':[100,500,1000]},\n",
        "n_clusters=3\n",
        "steps =[[('rep',SC())],\n",
        "        [('rep',Kmeans())],  \n",
        "        [('rep', MiniBatchPRI())]] \n",
        "   \n",
        "parameters =[{'rep__gamma_':[1,100,500],'rep__n_neighbors_':[5],'rep__nn_':[5],'rep__n_clusters_':[n_clusters]},\n",
        "             {'rep__nn':[5],'rep__n_clusters_':[n_clusters]},\n",
        "             {'rep__lambda_':[2,3],'rep__sigma_initial':[35],'rep__learning_rate':[0.01,0.03],'rep__nn':[5],'rep__n_clusters':[n_clusters],'rep__reduction_':['SC'],'rep__gamma_':[1,100,500],'rep__optimization':['Nadam'],'rep__batch_size':[64]}]"
      ],
      "execution_count": 0,
      "outputs": []
    },
    {
      "cell_type": "code",
      "metadata": {
        "id": "ssglXzlUGlka",
        "colab_type": "code",
        "outputId": "eebdcc25-db4c-4972-d2e1-8498598cfa3b",
        "colab": {
          "base_uri": "https://localhost:8080/",
          "height": 1000
        }
      },
      "source": [
        "n=[5,15,30]\n",
        "moons,labels_moons = datasets.make_moons(n_samples=200)\n",
        "for k in n:\n",
        "  # Set a target SNR\n",
        "  target_snr_db =k\n",
        "  # Calculate signal power and convert to dB \n",
        "  avg_happy = np.mean(happy)\n",
        "  avg_db = 10 * np.log10(avg_happy)\n",
        "  # Calculate noise according to [2] then convert to watts\n",
        "  avg_db = avg_db - target_snr_db\n",
        "  noise_avg = 10 ** (avg_db / 10)\n",
        "  # Generate an sample of white noise\n",
        "  noise_ = np.random.normal(0, np.sqrt(noise_avg),happy.shape)\n",
        "  noisy_happy=happy+noise_\n",
        "\n",
        "  for i in range(len(steps)):\n",
        "    #meth_name = ['sc_'+str(k)+'db', 'Knn'+str(k)+'db', 'FP'+str(k)+'db','SGD'+str(k)+'db']\n",
        "    meth_name = ['sc_'+str(k)+'db', 'Knn'+str(k)+'db','SGD'+str(k)+'db']\n",
        "    name='/content/PRI/happy' + str(meth_name[i]) + '.joblib'\n",
        "    Niter = 10 #numero particiones\n",
        "    acc =np.zeros(Niter)#arreglo para guardar acierto\n",
        "    ari=np.zeros(Niter)\n",
        "    Nc = len(np.unique(labels_happy))\n",
        "    best_estimators= []#mejor metodo por iteracion\n",
        "    best_parameters= []#mejor metodo por iteracion\n",
        "\n",
        "    for j in range(Niter):\n",
        "      print('it %d/%d'%(j+1,Niter))\n",
        "      ## Accuracy\n",
        "      X_train, X_test, y_train, y_test = train_test_split(noisy_happy,labels_happy,test_size=0.2, stratify=labels_happy)\n",
        "      grid_search = GridSearchCV(Pipeline(steps[i]) , parameters[i],cv=5,verbose=1,scoring='accuracy',n_jobs=-1)\n",
        "      #generar mejor modelo\n",
        "      grid_search.fit(X_train,y_train)\n",
        "      #estimar salida conjunto de test\n",
        "      y_pred = grid_search.best_estimator_.predict(X_test)\n",
        "      #guardar mejor modelo\n",
        "      best_estimators.append(grid_search.best_estimator_)\n",
        "      best_parameters.append(grid_search.best_params_)\n",
        "      #guardar acierto\n",
        "      acc[j] = 100*accuracy_score(y_test,y_pred)\n",
        "      ari[j]=100*adjusted_rand_score(y_test,y_pred)\n",
        "      #estimar matriz de confusion\n",
        "      print('it %d/%d'%(j+1,Niter))\n",
        "      print(grid_search.best_params_)\n",
        "      print('acc:',acc[j])\n",
        "      print('ari:',ari[j])\n",
        "      #print('confusionmatrix \\n',cmc[j])\n",
        "      savedata = {\n",
        "        'ari':ari,\n",
        "        'acc':acc,\n",
        "        'best_models':best_estimators,\n",
        "        'best_parameters':best_parameters,\n",
        "          } \n",
        "      dump(savedata,name)"
      ],
      "execution_count": 6,
      "outputs": [
        {
          "output_type": "stream",
          "text": [
            "it 1/10\n",
            "Fitting 5 folds for each of 3 candidates, totalling 15 fits\n"
          ],
          "name": "stdout"
        },
        {
          "output_type": "stream",
          "text": [
            "[Parallel(n_jobs=-1)]: Using backend LokyBackend with 2 concurrent workers.\n",
            "[Parallel(n_jobs=-1)]: Done  15 out of  15 | elapsed:   16.1s finished\n",
            "[Parallel(n_jobs=-1)]: Using backend LokyBackend with 2 concurrent workers.\n"
          ],
          "name": "stderr"
        },
        {
          "output_type": "stream",
          "text": [
            "it 1/10\n",
            "{'rep__gamma_': 100, 'rep__n_clusters_': 3, 'rep__n_neighbors_': 5, 'rep__nn_': 5}\n",
            "acc: 44.44444444444444\n",
            "ari: 0.0\n",
            "it 2/10\n",
            "Fitting 5 folds for each of 3 candidates, totalling 15 fits\n"
          ],
          "name": "stdout"
        },
        {
          "output_type": "stream",
          "text": [
            "[Parallel(n_jobs=-1)]: Done  15 out of  15 | elapsed:   12.4s finished\n",
            "[Parallel(n_jobs=-1)]: Using backend LokyBackend with 2 concurrent workers.\n"
          ],
          "name": "stderr"
        },
        {
          "output_type": "stream",
          "text": [
            "it 2/10\n",
            "{'rep__gamma_': 100, 'rep__n_clusters_': 3, 'rep__n_neighbors_': 5, 'rep__nn_': 5}\n",
            "acc: 44.44444444444444\n",
            "ari: 0.0\n",
            "it 3/10\n",
            "Fitting 5 folds for each of 3 candidates, totalling 15 fits\n"
          ],
          "name": "stdout"
        },
        {
          "output_type": "stream",
          "text": [
            "[Parallel(n_jobs=-1)]: Done  15 out of  15 | elapsed:   14.1s finished\n",
            "[Parallel(n_jobs=-1)]: Using backend LokyBackend with 2 concurrent workers.\n"
          ],
          "name": "stderr"
        },
        {
          "output_type": "stream",
          "text": [
            "it 3/10\n",
            "{'rep__gamma_': 100, 'rep__n_clusters_': 3, 'rep__n_neighbors_': 5, 'rep__nn_': 5}\n",
            "acc: 44.44444444444444\n",
            "ari: 0.0\n",
            "it 4/10\n",
            "Fitting 5 folds for each of 3 candidates, totalling 15 fits\n"
          ],
          "name": "stdout"
        },
        {
          "output_type": "stream",
          "text": [
            "[Parallel(n_jobs=-1)]: Done  12 out of  15 | elapsed:   11.3s remaining:    2.8s\n",
            "[Parallel(n_jobs=-1)]: Done  15 out of  15 | elapsed:   14.3s finished\n",
            "/usr/local/lib/python3.6/dist-packages/sklearn/cluster/_kmeans.py:296: ConvergenceWarning: Number of distinct clusters (2) found smaller than n_clusters (3). Possibly due to duplicate points in X.\n",
            "  ).fit(X, sample_weight=sample_weight)\n",
            "[Parallel(n_jobs=-1)]: Using backend LokyBackend with 2 concurrent workers.\n"
          ],
          "name": "stderr"
        },
        {
          "output_type": "stream",
          "text": [
            "it 4/10\n",
            "{'rep__gamma_': 500, 'rep__n_clusters_': 3, 'rep__n_neighbors_': 5, 'rep__nn_': 5}\n",
            "acc: 44.44444444444444\n",
            "ari: 0.0\n",
            "it 5/10\n",
            "Fitting 5 folds for each of 3 candidates, totalling 15 fits\n"
          ],
          "name": "stdout"
        },
        {
          "output_type": "stream",
          "text": [
            "[Parallel(n_jobs=-1)]: Done  15 out of  15 | elapsed:   14.1s finished\n",
            "[Parallel(n_jobs=-1)]: Using backend LokyBackend with 2 concurrent workers.\n"
          ],
          "name": "stderr"
        },
        {
          "output_type": "stream",
          "text": [
            "it 5/10\n",
            "{'rep__gamma_': 100, 'rep__n_clusters_': 3, 'rep__n_neighbors_': 5, 'rep__nn_': 5}\n",
            "acc: 44.44444444444444\n",
            "ari: 0.0\n",
            "it 6/10\n",
            "Fitting 5 folds for each of 3 candidates, totalling 15 fits\n"
          ],
          "name": "stdout"
        },
        {
          "output_type": "stream",
          "text": [
            "[Parallel(n_jobs=-1)]: Done  15 out of  15 | elapsed:   14.2s finished\n",
            "[Parallel(n_jobs=-1)]: Using backend LokyBackend with 2 concurrent workers.\n"
          ],
          "name": "stderr"
        },
        {
          "output_type": "stream",
          "text": [
            "it 6/10\n",
            "{'rep__gamma_': 100, 'rep__n_clusters_': 3, 'rep__n_neighbors_': 5, 'rep__nn_': 5}\n",
            "acc: 44.44444444444444\n",
            "ari: 0.0\n",
            "it 7/10\n",
            "Fitting 5 folds for each of 3 candidates, totalling 15 fits\n"
          ],
          "name": "stdout"
        },
        {
          "output_type": "stream",
          "text": [
            "[Parallel(n_jobs=-1)]: Done  15 out of  15 | elapsed:   14.3s finished\n",
            "[Parallel(n_jobs=-1)]: Using backend LokyBackend with 2 concurrent workers.\n"
          ],
          "name": "stderr"
        },
        {
          "output_type": "stream",
          "text": [
            "it 7/10\n",
            "{'rep__gamma_': 1, 'rep__n_clusters_': 3, 'rep__n_neighbors_': 5, 'rep__nn_': 5}\n",
            "acc: 48.148148148148145\n",
            "ari: 3.3966287571080382\n",
            "it 8/10\n",
            "Fitting 5 folds for each of 3 candidates, totalling 15 fits\n"
          ],
          "name": "stdout"
        },
        {
          "output_type": "stream",
          "text": [
            "[Parallel(n_jobs=-1)]: Done  15 out of  15 | elapsed:   13.1s finished\n"
          ],
          "name": "stderr"
        },
        {
          "output_type": "stream",
          "text": [
            "it 8/10\n",
            "{'rep__gamma_': 500, 'rep__n_clusters_': 3, 'rep__n_neighbors_': 5, 'rep__nn_': 5}\n",
            "acc: 44.44444444444444\n",
            "ari: 0.0\n",
            "it 9/10\n",
            "Fitting 5 folds for each of 3 candidates, totalling 15 fits\n"
          ],
          "name": "stdout"
        },
        {
          "output_type": "stream",
          "text": [
            "[Parallel(n_jobs=-1)]: Using backend LokyBackend with 2 concurrent workers.\n",
            "[Parallel(n_jobs=-1)]: Done  15 out of  15 | elapsed:   14.2s finished\n",
            "[Parallel(n_jobs=-1)]: Using backend LokyBackend with 2 concurrent workers.\n"
          ],
          "name": "stderr"
        },
        {
          "output_type": "stream",
          "text": [
            "it 9/10\n",
            "{'rep__gamma_': 100, 'rep__n_clusters_': 3, 'rep__n_neighbors_': 5, 'rep__nn_': 5}\n",
            "acc: 44.44444444444444\n",
            "ari: 0.0\n",
            "it 10/10\n",
            "Fitting 5 folds for each of 3 candidates, totalling 15 fits\n"
          ],
          "name": "stdout"
        },
        {
          "output_type": "stream",
          "text": [
            "[Parallel(n_jobs=-1)]: Done  15 out of  15 | elapsed:   14.1s finished\n",
            "[Parallel(n_jobs=-1)]: Using backend LokyBackend with 2 concurrent workers.\n"
          ],
          "name": "stderr"
        },
        {
          "output_type": "stream",
          "text": [
            "it 10/10\n",
            "{'rep__gamma_': 100, 'rep__n_clusters_': 3, 'rep__n_neighbors_': 5, 'rep__nn_': 5}\n",
            "acc: 44.44444444444444\n",
            "ari: 0.0\n",
            "it 1/10\n",
            "Fitting 5 folds for each of 1 candidates, totalling 5 fits\n"
          ],
          "name": "stdout"
        },
        {
          "output_type": "stream",
          "text": [
            "[Parallel(n_jobs=-1)]: Done   5 out of   5 | elapsed:    0.2s finished\n",
            "[Parallel(n_jobs=-1)]: Using backend LokyBackend with 2 concurrent workers.\n"
          ],
          "name": "stderr"
        },
        {
          "output_type": "stream",
          "text": [
            "it 1/10\n",
            "{'rep__n_clusters_': 3, 'rep__nn': 5}\n",
            "acc: 38.88888888888889\n",
            "ari: -2.0025661022918824\n",
            "it 2/10\n",
            "Fitting 5 folds for each of 1 candidates, totalling 5 fits\n"
          ],
          "name": "stdout"
        },
        {
          "output_type": "stream",
          "text": [
            "[Parallel(n_jobs=-1)]: Done   5 out of   5 | elapsed:    0.2s finished\n",
            "[Parallel(n_jobs=-1)]: Using backend LokyBackend with 2 concurrent workers.\n"
          ],
          "name": "stderr"
        },
        {
          "output_type": "stream",
          "text": [
            "it 2/10\n",
            "{'rep__n_clusters_': 3, 'rep__nn': 5}\n",
            "acc: 44.44444444444444\n",
            "ari: 0.004875195007801974\n",
            "it 3/10\n",
            "Fitting 5 folds for each of 1 candidates, totalling 5 fits\n"
          ],
          "name": "stdout"
        },
        {
          "output_type": "stream",
          "text": [
            "[Parallel(n_jobs=-1)]: Done   5 out of   5 | elapsed:    0.2s finished\n",
            "[Parallel(n_jobs=-1)]: Using backend LokyBackend with 2 concurrent workers.\n"
          ],
          "name": "stderr"
        },
        {
          "output_type": "stream",
          "text": [
            "it 3/10\n",
            "{'rep__n_clusters_': 3, 'rep__nn': 5}\n",
            "acc: 44.44444444444444\n",
            "ari: 0.0\n",
            "it 4/10\n",
            "Fitting 5 folds for each of 1 candidates, totalling 5 fits\n"
          ],
          "name": "stdout"
        },
        {
          "output_type": "stream",
          "text": [
            "[Parallel(n_jobs=-1)]: Done   5 out of   5 | elapsed:    0.2s finished\n",
            "[Parallel(n_jobs=-1)]: Using backend LokyBackend with 2 concurrent workers.\n"
          ],
          "name": "stderr"
        },
        {
          "output_type": "stream",
          "text": [
            "it 4/10\n",
            "{'rep__n_clusters_': 3, 'rep__nn': 5}\n",
            "acc: 48.148148148148145\n",
            "ari: 3.064228030893858\n",
            "it 5/10\n",
            "Fitting 5 folds for each of 1 candidates, totalling 5 fits\n"
          ],
          "name": "stdout"
        },
        {
          "output_type": "stream",
          "text": [
            "[Parallel(n_jobs=-1)]: Done   5 out of   5 | elapsed:    0.2s finished\n",
            "[Parallel(n_jobs=-1)]: Using backend LokyBackend with 2 concurrent workers.\n"
          ],
          "name": "stderr"
        },
        {
          "output_type": "stream",
          "text": [
            "it 5/10\n",
            "{'rep__n_clusters_': 3, 'rep__nn': 5}\n",
            "acc: 44.44444444444444\n",
            "ari: 0.0\n",
            "it 6/10\n",
            "Fitting 5 folds for each of 1 candidates, totalling 5 fits\n"
          ],
          "name": "stdout"
        },
        {
          "output_type": "stream",
          "text": [
            "[Parallel(n_jobs=-1)]: Done   5 out of   5 | elapsed:    0.2s finished\n",
            "[Parallel(n_jobs=-1)]: Using backend LokyBackend with 2 concurrent workers.\n"
          ],
          "name": "stderr"
        },
        {
          "output_type": "stream",
          "text": [
            "it 6/10\n",
            "{'rep__n_clusters_': 3, 'rep__nn': 5}\n",
            "acc: 48.148148148148145\n",
            "ari: 4.139040561622466\n",
            "it 7/10\n",
            "Fitting 5 folds for each of 1 candidates, totalling 5 fits\n"
          ],
          "name": "stdout"
        },
        {
          "output_type": "stream",
          "text": [
            "[Parallel(n_jobs=-1)]: Done   5 out of   5 | elapsed:    0.2s finished\n",
            "[Parallel(n_jobs=-1)]: Using backend LokyBackend with 2 concurrent workers.\n"
          ],
          "name": "stderr"
        },
        {
          "output_type": "stream",
          "text": [
            "it 7/10\n",
            "{'rep__n_clusters_': 3, 'rep__nn': 5}\n",
            "acc: 44.44444444444444\n",
            "ari: 0.0\n",
            "it 8/10\n",
            "Fitting 5 folds for each of 1 candidates, totalling 5 fits\n"
          ],
          "name": "stdout"
        },
        {
          "output_type": "stream",
          "text": [
            "[Parallel(n_jobs=-1)]: Done   5 out of   5 | elapsed:    0.2s finished\n",
            "[Parallel(n_jobs=-1)]: Using backend LokyBackend with 2 concurrent workers.\n"
          ],
          "name": "stderr"
        },
        {
          "output_type": "stream",
          "text": [
            "it 8/10\n",
            "{'rep__n_clusters_': 3, 'rep__nn': 5}\n",
            "acc: 44.44444444444444\n",
            "ari: 0.0\n",
            "it 9/10\n",
            "Fitting 5 folds for each of 1 candidates, totalling 5 fits\n"
          ],
          "name": "stdout"
        },
        {
          "output_type": "stream",
          "text": [
            "[Parallel(n_jobs=-1)]: Done   5 out of   5 | elapsed:    0.2s finished\n",
            "[Parallel(n_jobs=-1)]: Using backend LokyBackend with 2 concurrent workers.\n"
          ],
          "name": "stderr"
        },
        {
          "output_type": "stream",
          "text": [
            "it 9/10\n",
            "{'rep__n_clusters_': 3, 'rep__nn': 5}\n",
            "acc: 46.2962962962963\n",
            "ari: 1.4997508719481825\n",
            "it 10/10\n",
            "Fitting 5 folds for each of 1 candidates, totalling 5 fits\n"
          ],
          "name": "stdout"
        },
        {
          "output_type": "stream",
          "text": [
            "[Parallel(n_jobs=-1)]: Done   5 out of   5 | elapsed:    0.2s finished\n",
            "[Parallel(n_jobs=-1)]: Using backend LokyBackend with 2 concurrent workers.\n"
          ],
          "name": "stderr"
        },
        {
          "output_type": "stream",
          "text": [
            "it 10/10\n",
            "{'rep__n_clusters_': 3, 'rep__nn': 5}\n",
            "acc: 37.03703703703704\n",
            "ari: -1.134605466735429\n",
            "it 1/10\n",
            "Fitting 5 folds for each of 12 candidates, totalling 60 fits\n"
          ],
          "name": "stdout"
        },
        {
          "output_type": "stream",
          "text": [
            "[Parallel(n_jobs=-1)]: Done  46 tasks      | elapsed:    8.7s\n",
            "[Parallel(n_jobs=-1)]: Done  60 out of  60 | elapsed:   16.5s finished\n"
          ],
          "name": "stderr"
        },
        {
          "output_type": "stream",
          "text": [
            "it 1/10\n",
            "{'rep__batch_size': 64, 'rep__gamma_': 100, 'rep__lambda_': 2, 'rep__learning_rate': 0.01, 'rep__n_clusters': 3, 'rep__nn': 5, 'rep__optimization': 'Nadam', 'rep__reduction_': 'SC', 'rep__sigma_initial': 35}\n",
            "acc: 44.44444444444444\n",
            "ari: 0.0\n",
            "it 2/10\n",
            "Fitting 5 folds for each of 12 candidates, totalling 60 fits\n"
          ],
          "name": "stdout"
        },
        {
          "output_type": "stream",
          "text": [
            "[Parallel(n_jobs=-1)]: Using backend LokyBackend with 2 concurrent workers.\n",
            "[Parallel(n_jobs=-1)]: Done  46 tasks      | elapsed:   10.8s\n",
            "[Parallel(n_jobs=-1)]: Done  60 out of  60 | elapsed:   15.7s finished\n"
          ],
          "name": "stderr"
        },
        {
          "output_type": "stream",
          "text": [
            "it 2/10\n",
            "{'rep__batch_size': 64, 'rep__gamma_': 1, 'rep__lambda_': 2, 'rep__learning_rate': 0.03, 'rep__n_clusters': 3, 'rep__nn': 5, 'rep__optimization': 'Nadam', 'rep__reduction_': 'SC', 'rep__sigma_initial': 35}\n",
            "acc: 46.2962962962963\n",
            "ari: 1.1157407407407445\n",
            "it 3/10\n",
            "Fitting 5 folds for each of 12 candidates, totalling 60 fits\n"
          ],
          "name": "stdout"
        },
        {
          "output_type": "stream",
          "text": [
            "[Parallel(n_jobs=-1)]: Using backend LokyBackend with 2 concurrent workers.\n",
            "[Parallel(n_jobs=-1)]: Done  46 tasks      | elapsed:    9.3s\n",
            "[Parallel(n_jobs=-1)]: Done  60 out of  60 | elapsed:   16.4s finished\n"
          ],
          "name": "stderr"
        },
        {
          "output_type": "stream",
          "text": [
            "it 3/10\n",
            "{'rep__batch_size': 64, 'rep__gamma_': 100, 'rep__lambda_': 3, 'rep__learning_rate': 0.01, 'rep__n_clusters': 3, 'rep__nn': 5, 'rep__optimization': 'Nadam', 'rep__reduction_': 'SC', 'rep__sigma_initial': 35}\n",
            "acc: 44.44444444444444\n",
            "ari: 0.0\n",
            "it 4/10\n",
            "Fitting 5 folds for each of 12 candidates, totalling 60 fits\n"
          ],
          "name": "stdout"
        },
        {
          "output_type": "stream",
          "text": [
            "[Parallel(n_jobs=-1)]: Using backend LokyBackend with 2 concurrent workers.\n",
            "[Parallel(n_jobs=-1)]: Done  46 tasks      | elapsed:    9.0s\n",
            "[Parallel(n_jobs=-1)]: Done  60 out of  60 | elapsed:   14.8s finished\n"
          ],
          "name": "stderr"
        },
        {
          "output_type": "stream",
          "text": [
            "it 4/10\n",
            "{'rep__batch_size': 64, 'rep__gamma_': 500, 'rep__lambda_': 2, 'rep__learning_rate': 0.01, 'rep__n_clusters': 3, 'rep__nn': 5, 'rep__optimization': 'Nadam', 'rep__reduction_': 'SC', 'rep__sigma_initial': 35}\n",
            "acc: 44.44444444444444\n",
            "ari: 0.0\n",
            "it 5/10\n",
            "Fitting 5 folds for each of 12 candidates, totalling 60 fits\n"
          ],
          "name": "stdout"
        },
        {
          "output_type": "stream",
          "text": [
            "[Parallel(n_jobs=-1)]: Using backend LokyBackend with 2 concurrent workers.\n",
            "[Parallel(n_jobs=-1)]: Done  46 tasks      | elapsed:    8.7s\n",
            "[Parallel(n_jobs=-1)]: Done  60 out of  60 | elapsed:   14.5s finished\n"
          ],
          "name": "stderr"
        },
        {
          "output_type": "stream",
          "text": [
            "it 5/10\n",
            "{'rep__batch_size': 64, 'rep__gamma_': 1, 'rep__lambda_': 2, 'rep__learning_rate': 0.03, 'rep__n_clusters': 3, 'rep__nn': 5, 'rep__optimization': 'Nadam', 'rep__reduction_': 'SC', 'rep__sigma_initial': 35}\n",
            "acc: 44.44444444444444\n",
            "ari: 0.0\n",
            "it 6/10\n",
            "Fitting 5 folds for each of 12 candidates, totalling 60 fits\n"
          ],
          "name": "stdout"
        },
        {
          "output_type": "stream",
          "text": [
            "[Parallel(n_jobs=-1)]: Using backend LokyBackend with 2 concurrent workers.\n",
            "[Parallel(n_jobs=-1)]: Done  46 tasks      | elapsed:    8.4s\n",
            "[Parallel(n_jobs=-1)]: Done  60 out of  60 | elapsed:   11.9s finished\n"
          ],
          "name": "stderr"
        },
        {
          "output_type": "stream",
          "text": [
            "it 6/10\n",
            "{'rep__batch_size': 64, 'rep__gamma_': 500, 'rep__lambda_': 3, 'rep__learning_rate': 0.01, 'rep__n_clusters': 3, 'rep__nn': 5, 'rep__optimization': 'Nadam', 'rep__reduction_': 'SC', 'rep__sigma_initial': 35}\n",
            "acc: 44.44444444444444\n",
            "ari: 0.0\n",
            "it 7/10\n",
            "Fitting 5 folds for each of 12 candidates, totalling 60 fits\n"
          ],
          "name": "stdout"
        },
        {
          "output_type": "stream",
          "text": [
            "[Parallel(n_jobs=-1)]: Using backend LokyBackend with 2 concurrent workers.\n",
            "[Parallel(n_jobs=-1)]: Done  46 tasks      | elapsed:    9.2s\n",
            "[Parallel(n_jobs=-1)]: Done  60 out of  60 | elapsed:   20.5s finished\n"
          ],
          "name": "stderr"
        },
        {
          "output_type": "stream",
          "text": [
            "it 7/10\n",
            "{'rep__batch_size': 64, 'rep__gamma_': 100, 'rep__lambda_': 3, 'rep__learning_rate': 0.03, 'rep__n_clusters': 3, 'rep__nn': 5, 'rep__optimization': 'Nadam', 'rep__reduction_': 'SC', 'rep__sigma_initial': 35}\n",
            "acc: 44.44444444444444\n",
            "ari: 0.0\n",
            "it 8/10\n",
            "Fitting 5 folds for each of 12 candidates, totalling 60 fits\n"
          ],
          "name": "stdout"
        },
        {
          "output_type": "stream",
          "text": [
            "[Parallel(n_jobs=-1)]: Using backend LokyBackend with 2 concurrent workers.\n",
            "[Parallel(n_jobs=-1)]: Done  46 tasks      | elapsed:   13.8s\n",
            "[Parallel(n_jobs=-1)]: Done  60 out of  60 | elapsed:   23.3s finished\n"
          ],
          "name": "stderr"
        },
        {
          "output_type": "stream",
          "text": [
            "it 8/10\n",
            "{'rep__batch_size': 64, 'rep__gamma_': 500, 'rep__lambda_': 3, 'rep__learning_rate': 0.03, 'rep__n_clusters': 3, 'rep__nn': 5, 'rep__optimization': 'Nadam', 'rep__reduction_': 'SC', 'rep__sigma_initial': 35}\n",
            "acc: 44.44444444444444\n",
            "ari: 0.0\n",
            "it 9/10\n",
            "Fitting 5 folds for each of 12 candidates, totalling 60 fits\n"
          ],
          "name": "stdout"
        },
        {
          "output_type": "stream",
          "text": [
            "[Parallel(n_jobs=-1)]: Using backend LokyBackend with 2 concurrent workers.\n",
            "[Parallel(n_jobs=-1)]: Done  46 tasks      | elapsed:    8.9s\n",
            "[Parallel(n_jobs=-1)]: Done  60 out of  60 | elapsed:   16.4s finished\n"
          ],
          "name": "stderr"
        },
        {
          "output_type": "stream",
          "text": [
            "it 9/10\n",
            "{'rep__batch_size': 64, 'rep__gamma_': 1, 'rep__lambda_': 2, 'rep__learning_rate': 0.03, 'rep__n_clusters': 3, 'rep__nn': 5, 'rep__optimization': 'Nadam', 'rep__reduction_': 'SC', 'rep__sigma_initial': 35}\n",
            "acc: 44.44444444444444\n",
            "ari: 0.5347177157689837\n",
            "it 10/10\n",
            "Fitting 5 folds for each of 12 candidates, totalling 60 fits\n"
          ],
          "name": "stdout"
        },
        {
          "output_type": "stream",
          "text": [
            "[Parallel(n_jobs=-1)]: Using backend LokyBackend with 2 concurrent workers.\n",
            "[Parallel(n_jobs=-1)]: Done  46 tasks      | elapsed:    8.3s\n",
            "[Parallel(n_jobs=-1)]: Done  60 out of  60 | elapsed:   14.4s finished\n"
          ],
          "name": "stderr"
        },
        {
          "output_type": "stream",
          "text": [
            "it 10/10\n",
            "{'rep__batch_size': 64, 'rep__gamma_': 100, 'rep__lambda_': 3, 'rep__learning_rate': 0.01, 'rep__n_clusters': 3, 'rep__nn': 5, 'rep__optimization': 'Nadam', 'rep__reduction_': 'SC', 'rep__sigma_initial': 35}\n",
            "acc: 48.148148148148145\n",
            "ari: 2.5959394437272567\n",
            "it 1/10\n",
            "Fitting 5 folds for each of 3 candidates, totalling 15 fits\n"
          ],
          "name": "stdout"
        },
        {
          "output_type": "stream",
          "text": [
            "[Parallel(n_jobs=-1)]: Using backend LokyBackend with 2 concurrent workers.\n",
            "[Parallel(n_jobs=-1)]: Done  15 out of  15 | elapsed:    0.5s finished\n",
            "[Parallel(n_jobs=-1)]: Using backend LokyBackend with 2 concurrent workers.\n"
          ],
          "name": "stderr"
        },
        {
          "output_type": "stream",
          "text": [
            "it 1/10\n",
            "{'rep__gamma_': 1, 'rep__n_clusters_': 3, 'rep__n_neighbors_': 5, 'rep__nn_': 5}\n",
            "acc: 50.0\n",
            "ari: 6.090119690213566\n",
            "it 2/10\n",
            "Fitting 5 folds for each of 3 candidates, totalling 15 fits\n"
          ],
          "name": "stdout"
        },
        {
          "output_type": "stream",
          "text": [
            "[Parallel(n_jobs=-1)]: Done  15 out of  15 | elapsed:    0.6s finished\n",
            "[Parallel(n_jobs=-1)]: Using backend LokyBackend with 2 concurrent workers.\n"
          ],
          "name": "stderr"
        },
        {
          "output_type": "stream",
          "text": [
            "it 2/10\n",
            "{'rep__gamma_': 1, 'rep__n_clusters_': 3, 'rep__n_neighbors_': 5, 'rep__nn_': 5}\n",
            "acc: 61.111111111111114\n",
            "ari: 22.973375424385015\n",
            "it 3/10\n",
            "Fitting 5 folds for each of 3 candidates, totalling 15 fits\n"
          ],
          "name": "stdout"
        },
        {
          "output_type": "stream",
          "text": [
            "[Parallel(n_jobs=-1)]: Done  15 out of  15 | elapsed:    0.6s finished\n",
            "[Parallel(n_jobs=-1)]: Using backend LokyBackend with 2 concurrent workers.\n"
          ],
          "name": "stderr"
        },
        {
          "output_type": "stream",
          "text": [
            "it 3/10\n",
            "{'rep__gamma_': 1, 'rep__n_clusters_': 3, 'rep__n_neighbors_': 5, 'rep__nn_': 5}\n",
            "acc: 59.25925925925925\n",
            "ari: 17.291083447495385\n",
            "it 4/10\n",
            "Fitting 5 folds for each of 3 candidates, totalling 15 fits\n"
          ],
          "name": "stdout"
        },
        {
          "output_type": "stream",
          "text": [
            "[Parallel(n_jobs=-1)]: Done  15 out of  15 | elapsed:    0.5s finished\n",
            "[Parallel(n_jobs=-1)]: Using backend LokyBackend with 2 concurrent workers.\n"
          ],
          "name": "stderr"
        },
        {
          "output_type": "stream",
          "text": [
            "it 4/10\n",
            "{'rep__gamma_': 1, 'rep__n_clusters_': 3, 'rep__n_neighbors_': 5, 'rep__nn_': 5}\n",
            "acc: 46.2962962962963\n",
            "ari: 0.6397156819191511\n",
            "it 5/10\n",
            "Fitting 5 folds for each of 3 candidates, totalling 15 fits\n"
          ],
          "name": "stdout"
        },
        {
          "output_type": "stream",
          "text": [
            "[Parallel(n_jobs=-1)]: Done  15 out of  15 | elapsed:    0.5s finished\n",
            "[Parallel(n_jobs=-1)]: Using backend LokyBackend with 2 concurrent workers.\n"
          ],
          "name": "stderr"
        },
        {
          "output_type": "stream",
          "text": [
            "it 5/10\n",
            "{'rep__gamma_': 1, 'rep__n_clusters_': 3, 'rep__n_neighbors_': 5, 'rep__nn_': 5}\n",
            "acc: 53.70370370370371\n",
            "ari: 6.15975246390099\n",
            "it 6/10\n",
            "Fitting 5 folds for each of 3 candidates, totalling 15 fits\n"
          ],
          "name": "stdout"
        },
        {
          "output_type": "stream",
          "text": [
            "[Parallel(n_jobs=-1)]: Done  15 out of  15 | elapsed:    0.5s finished\n",
            "[Parallel(n_jobs=-1)]: Using backend LokyBackend with 2 concurrent workers.\n"
          ],
          "name": "stderr"
        },
        {
          "output_type": "stream",
          "text": [
            "it 6/10\n",
            "{'rep__gamma_': 1, 'rep__n_clusters_': 3, 'rep__n_neighbors_': 5, 'rep__nn_': 5}\n",
            "acc: 59.25925925925925\n",
            "ari: 12.530851348538462\n",
            "it 7/10\n",
            "Fitting 5 folds for each of 3 candidates, totalling 15 fits\n"
          ],
          "name": "stdout"
        },
        {
          "output_type": "stream",
          "text": [
            "[Parallel(n_jobs=-1)]: Done  15 out of  15 | elapsed:    0.6s finished\n",
            "[Parallel(n_jobs=-1)]: Using backend LokyBackend with 2 concurrent workers.\n"
          ],
          "name": "stderr"
        },
        {
          "output_type": "stream",
          "text": [
            "it 7/10\n",
            "{'rep__gamma_': 1, 'rep__n_clusters_': 3, 'rep__n_neighbors_': 5, 'rep__nn_': 5}\n",
            "acc: 48.148148148148145\n",
            "ari: 3.001235802977701\n",
            "it 8/10\n",
            "Fitting 5 folds for each of 3 candidates, totalling 15 fits\n"
          ],
          "name": "stdout"
        },
        {
          "output_type": "stream",
          "text": [
            "[Parallel(n_jobs=-1)]: Done  15 out of  15 | elapsed:    0.6s finished\n",
            "[Parallel(n_jobs=-1)]: Using backend LokyBackend with 2 concurrent workers.\n"
          ],
          "name": "stderr"
        },
        {
          "output_type": "stream",
          "text": [
            "it 8/10\n",
            "{'rep__gamma_': 1, 'rep__n_clusters_': 3, 'rep__n_neighbors_': 5, 'rep__nn_': 5}\n",
            "acc: 53.70370370370371\n",
            "ari: 7.02299929593992\n",
            "it 9/10\n",
            "Fitting 5 folds for each of 3 candidates, totalling 15 fits\n"
          ],
          "name": "stdout"
        },
        {
          "output_type": "stream",
          "text": [
            "[Parallel(n_jobs=-1)]: Done  15 out of  15 | elapsed:    0.5s finished\n",
            "[Parallel(n_jobs=-1)]: Using backend LokyBackend with 2 concurrent workers.\n"
          ],
          "name": "stderr"
        },
        {
          "output_type": "stream",
          "text": [
            "it 9/10\n",
            "{'rep__gamma_': 1, 'rep__n_clusters_': 3, 'rep__n_neighbors_': 5, 'rep__nn_': 5}\n",
            "acc: 46.2962962962963\n",
            "ari: 0.5943536404160475\n",
            "it 10/10\n",
            "Fitting 5 folds for each of 3 candidates, totalling 15 fits\n"
          ],
          "name": "stdout"
        },
        {
          "output_type": "stream",
          "text": [
            "[Parallel(n_jobs=-1)]: Done  15 out of  15 | elapsed:    0.5s finished\n",
            "[Parallel(n_jobs=-1)]: Using backend LokyBackend with 2 concurrent workers.\n"
          ],
          "name": "stderr"
        },
        {
          "output_type": "stream",
          "text": [
            "it 10/10\n",
            "{'rep__gamma_': 1, 'rep__n_clusters_': 3, 'rep__n_neighbors_': 5, 'rep__nn_': 5}\n",
            "acc: 55.55555555555556\n",
            "ari: 8.965883602880414\n",
            "it 1/10\n",
            "Fitting 5 folds for each of 1 candidates, totalling 5 fits\n"
          ],
          "name": "stdout"
        },
        {
          "output_type": "stream",
          "text": [
            "[Parallel(n_jobs=-1)]: Done   5 out of   5 | elapsed:    0.2s finished\n",
            "[Parallel(n_jobs=-1)]: Using backend LokyBackend with 2 concurrent workers.\n"
          ],
          "name": "stderr"
        },
        {
          "output_type": "stream",
          "text": [
            "it 1/10\n",
            "{'rep__n_clusters_': 3, 'rep__nn': 5}\n",
            "acc: 59.25925925925925\n",
            "ari: 13.194643985977816\n",
            "it 2/10\n",
            "Fitting 5 folds for each of 1 candidates, totalling 5 fits\n"
          ],
          "name": "stdout"
        },
        {
          "output_type": "stream",
          "text": [
            "[Parallel(n_jobs=-1)]: Done   5 out of   5 | elapsed:    0.2s finished\n",
            "[Parallel(n_jobs=-1)]: Using backend LokyBackend with 2 concurrent workers.\n"
          ],
          "name": "stderr"
        },
        {
          "output_type": "stream",
          "text": [
            "it 2/10\n",
            "{'rep__n_clusters_': 3, 'rep__nn': 5}\n",
            "acc: 51.85185185185185\n",
            "ari: 8.699924851147463\n",
            "it 3/10\n",
            "Fitting 5 folds for each of 1 candidates, totalling 5 fits\n"
          ],
          "name": "stdout"
        },
        {
          "output_type": "stream",
          "text": [
            "[Parallel(n_jobs=-1)]: Done   5 out of   5 | elapsed:    0.2s finished\n",
            "[Parallel(n_jobs=-1)]: Using backend LokyBackend with 2 concurrent workers.\n"
          ],
          "name": "stderr"
        },
        {
          "output_type": "stream",
          "text": [
            "it 3/10\n",
            "{'rep__n_clusters_': 3, 'rep__nn': 5}\n",
            "acc: 57.407407407407405\n",
            "ari: 14.501562056234024\n",
            "it 4/10\n",
            "Fitting 5 folds for each of 1 candidates, totalling 5 fits\n"
          ],
          "name": "stdout"
        },
        {
          "output_type": "stream",
          "text": [
            "[Parallel(n_jobs=-1)]: Done   5 out of   5 | elapsed:    0.2s finished\n",
            "[Parallel(n_jobs=-1)]: Using backend LokyBackend with 2 concurrent workers.\n"
          ],
          "name": "stderr"
        },
        {
          "output_type": "stream",
          "text": [
            "it 4/10\n",
            "{'rep__n_clusters_': 3, 'rep__nn': 5}\n",
            "acc: 61.111111111111114\n",
            "ari: 15.1364691365279\n",
            "it 5/10\n",
            "Fitting 5 folds for each of 1 candidates, totalling 5 fits\n"
          ],
          "name": "stdout"
        },
        {
          "output_type": "stream",
          "text": [
            "[Parallel(n_jobs=-1)]: Done   5 out of   5 | elapsed:    0.2s finished\n",
            "[Parallel(n_jobs=-1)]: Using backend LokyBackend with 2 concurrent workers.\n"
          ],
          "name": "stderr"
        },
        {
          "output_type": "stream",
          "text": [
            "it 5/10\n",
            "{'rep__n_clusters_': 3, 'rep__nn': 5}\n",
            "acc: 55.55555555555556\n",
            "ari: 11.594541000816518\n",
            "it 6/10\n",
            "Fitting 5 folds for each of 1 candidates, totalling 5 fits\n"
          ],
          "name": "stdout"
        },
        {
          "output_type": "stream",
          "text": [
            "[Parallel(n_jobs=-1)]: Done   5 out of   5 | elapsed:    0.2s finished\n",
            "[Parallel(n_jobs=-1)]: Using backend LokyBackend with 2 concurrent workers.\n"
          ],
          "name": "stderr"
        },
        {
          "output_type": "stream",
          "text": [
            "it 6/10\n",
            "{'rep__n_clusters_': 3, 'rep__nn': 5}\n",
            "acc: 55.55555555555556\n",
            "ari: 8.57779863881718\n",
            "it 7/10\n",
            "Fitting 5 folds for each of 1 candidates, totalling 5 fits\n"
          ],
          "name": "stdout"
        },
        {
          "output_type": "stream",
          "text": [
            "[Parallel(n_jobs=-1)]: Done   5 out of   5 | elapsed:    0.2s finished\n",
            "[Parallel(n_jobs=-1)]: Using backend LokyBackend with 2 concurrent workers.\n"
          ],
          "name": "stderr"
        },
        {
          "output_type": "stream",
          "text": [
            "it 7/10\n",
            "{'rep__n_clusters_': 3, 'rep__nn': 5}\n",
            "acc: 57.407407407407405\n",
            "ari: 11.728611500701264\n",
            "it 8/10\n",
            "Fitting 5 folds for each of 1 candidates, totalling 5 fits\n"
          ],
          "name": "stdout"
        },
        {
          "output_type": "stream",
          "text": [
            "[Parallel(n_jobs=-1)]: Done   5 out of   5 | elapsed:    0.2s finished\n",
            "[Parallel(n_jobs=-1)]: Using backend LokyBackend with 2 concurrent workers.\n"
          ],
          "name": "stderr"
        },
        {
          "output_type": "stream",
          "text": [
            "it 8/10\n",
            "{'rep__n_clusters_': 3, 'rep__nn': 5}\n",
            "acc: 51.85185185185185\n",
            "ari: 4.965952005709358\n",
            "it 9/10\n",
            "Fitting 5 folds for each of 1 candidates, totalling 5 fits\n"
          ],
          "name": "stdout"
        },
        {
          "output_type": "stream",
          "text": [
            "[Parallel(n_jobs=-1)]: Done   5 out of   5 | elapsed:    0.2s finished\n",
            "[Parallel(n_jobs=-1)]: Using backend LokyBackend with 2 concurrent workers.\n"
          ],
          "name": "stderr"
        },
        {
          "output_type": "stream",
          "text": [
            "it 9/10\n",
            "{'rep__n_clusters_': 3, 'rep__nn': 5}\n",
            "acc: 66.66666666666666\n",
            "ari: 22.577197149643702\n",
            "it 10/10\n",
            "Fitting 5 folds for each of 1 candidates, totalling 5 fits\n"
          ],
          "name": "stdout"
        },
        {
          "output_type": "stream",
          "text": [
            "[Parallel(n_jobs=-1)]: Done   5 out of   5 | elapsed:    0.2s finished\n",
            "[Parallel(n_jobs=-1)]: Using backend LokyBackend with 2 concurrent workers.\n"
          ],
          "name": "stderr"
        },
        {
          "output_type": "stream",
          "text": [
            "it 10/10\n",
            "{'rep__n_clusters_': 3, 'rep__nn': 5}\n",
            "acc: 61.111111111111114\n",
            "ari: 15.729875616052572\n",
            "it 1/10\n",
            "Fitting 5 folds for each of 12 candidates, totalling 60 fits\n"
          ],
          "name": "stdout"
        },
        {
          "output_type": "stream",
          "text": [
            "[Parallel(n_jobs=-1)]: Done  46 tasks      | elapsed:    7.8s\n",
            "[Parallel(n_jobs=-1)]: Done  60 out of  60 | elapsed:   10.1s finished\n"
          ],
          "name": "stderr"
        },
        {
          "output_type": "stream",
          "text": [
            "it 1/10\n",
            "{'rep__batch_size': 64, 'rep__gamma_': 1, 'rep__lambda_': 3, 'rep__learning_rate': 0.03, 'rep__n_clusters': 3, 'rep__nn': 5, 'rep__optimization': 'Nadam', 'rep__reduction_': 'SC', 'rep__sigma_initial': 35}\n",
            "acc: 50.0\n",
            "ari: 10.754517718845342\n",
            "it 2/10\n",
            "Fitting 5 folds for each of 12 candidates, totalling 60 fits\n"
          ],
          "name": "stdout"
        },
        {
          "output_type": "stream",
          "text": [
            "[Parallel(n_jobs=-1)]: Using backend LokyBackend with 2 concurrent workers.\n",
            "[Parallel(n_jobs=-1)]: Done  46 tasks      | elapsed:    7.8s\n",
            "[Parallel(n_jobs=-1)]: Done  60 out of  60 | elapsed:   10.1s finished\n"
          ],
          "name": "stderr"
        },
        {
          "output_type": "stream",
          "text": [
            "it 2/10\n",
            "{'rep__batch_size': 64, 'rep__gamma_': 1, 'rep__lambda_': 3, 'rep__learning_rate': 0.01, 'rep__n_clusters': 3, 'rep__nn': 5, 'rep__optimization': 'Nadam', 'rep__reduction_': 'SC', 'rep__sigma_initial': 35}\n",
            "acc: 57.407407407407405\n",
            "ari: 16.091649208411784\n",
            "it 3/10\n",
            "Fitting 5 folds for each of 12 candidates, totalling 60 fits\n"
          ],
          "name": "stdout"
        },
        {
          "output_type": "stream",
          "text": [
            "[Parallel(n_jobs=-1)]: Using backend LokyBackend with 2 concurrent workers.\n",
            "[Parallel(n_jobs=-1)]: Done  46 tasks      | elapsed:    7.8s\n",
            "[Parallel(n_jobs=-1)]: Done  60 out of  60 | elapsed:   10.1s finished\n"
          ],
          "name": "stderr"
        },
        {
          "output_type": "stream",
          "text": [
            "it 3/10\n",
            "{'rep__batch_size': 64, 'rep__gamma_': 1, 'rep__lambda_': 3, 'rep__learning_rate': 0.03, 'rep__n_clusters': 3, 'rep__nn': 5, 'rep__optimization': 'Nadam', 'rep__reduction_': 'SC', 'rep__sigma_initial': 35}\n",
            "acc: 51.85185185185185\n",
            "ari: 5.867029779172343\n",
            "it 4/10\n",
            "Fitting 5 folds for each of 12 candidates, totalling 60 fits\n"
          ],
          "name": "stdout"
        },
        {
          "output_type": "stream",
          "text": [
            "[Parallel(n_jobs=-1)]: Using backend LokyBackend with 2 concurrent workers.\n",
            "[Parallel(n_jobs=-1)]: Done  46 tasks      | elapsed:    7.9s\n",
            "[Parallel(n_jobs=-1)]: Done  60 out of  60 | elapsed:   10.2s finished\n"
          ],
          "name": "stderr"
        },
        {
          "output_type": "stream",
          "text": [
            "it 4/10\n",
            "{'rep__batch_size': 64, 'rep__gamma_': 100, 'rep__lambda_': 3, 'rep__learning_rate': 0.03, 'rep__n_clusters': 3, 'rep__nn': 5, 'rep__optimization': 'Nadam', 'rep__reduction_': 'SC', 'rep__sigma_initial': 35}\n",
            "acc: 53.70370370370371\n",
            "ari: 6.67825079640892\n",
            "it 5/10\n",
            "Fitting 5 folds for each of 12 candidates, totalling 60 fits\n"
          ],
          "name": "stdout"
        },
        {
          "output_type": "stream",
          "text": [
            "[Parallel(n_jobs=-1)]: Using backend LokyBackend with 2 concurrent workers.\n",
            "[Parallel(n_jobs=-1)]: Done  46 tasks      | elapsed:    7.9s\n",
            "[Parallel(n_jobs=-1)]: Done  60 out of  60 | elapsed:   10.2s finished\n"
          ],
          "name": "stderr"
        },
        {
          "output_type": "stream",
          "text": [
            "it 5/10\n",
            "{'rep__batch_size': 64, 'rep__gamma_': 1, 'rep__lambda_': 2, 'rep__learning_rate': 0.01, 'rep__n_clusters': 3, 'rep__nn': 5, 'rep__optimization': 'Nadam', 'rep__reduction_': 'SC', 'rep__sigma_initial': 35}\n",
            "acc: 50.0\n",
            "ari: 6.370283708686747\n",
            "it 6/10\n",
            "Fitting 5 folds for each of 12 candidates, totalling 60 fits\n"
          ],
          "name": "stdout"
        },
        {
          "output_type": "stream",
          "text": [
            "[Parallel(n_jobs=-1)]: Using backend LokyBackend with 2 concurrent workers.\n",
            "[Parallel(n_jobs=-1)]: Done  46 tasks      | elapsed:    7.8s\n",
            "[Parallel(n_jobs=-1)]: Done  60 out of  60 | elapsed:   10.0s finished\n"
          ],
          "name": "stderr"
        },
        {
          "output_type": "stream",
          "text": [
            "it 6/10\n",
            "{'rep__batch_size': 64, 'rep__gamma_': 500, 'rep__lambda_': 3, 'rep__learning_rate': 0.03, 'rep__n_clusters': 3, 'rep__nn': 5, 'rep__optimization': 'Nadam', 'rep__reduction_': 'SC', 'rep__sigma_initial': 35}\n",
            "acc: 62.96296296296296\n",
            "ari: 16.86988379414964\n",
            "it 7/10\n",
            "Fitting 5 folds for each of 12 candidates, totalling 60 fits\n"
          ],
          "name": "stdout"
        },
        {
          "output_type": "stream",
          "text": [
            "[Parallel(n_jobs=-1)]: Using backend LokyBackend with 2 concurrent workers.\n",
            "[Parallel(n_jobs=-1)]: Done  46 tasks      | elapsed:    7.9s\n",
            "[Parallel(n_jobs=-1)]: Done  60 out of  60 | elapsed:   10.2s finished\n"
          ],
          "name": "stderr"
        },
        {
          "output_type": "stream",
          "text": [
            "it 7/10\n",
            "{'rep__batch_size': 64, 'rep__gamma_': 1, 'rep__lambda_': 3, 'rep__learning_rate': 0.01, 'rep__n_clusters': 3, 'rep__nn': 5, 'rep__optimization': 'Nadam', 'rep__reduction_': 'SC', 'rep__sigma_initial': 35}\n",
            "acc: 64.81481481481481\n",
            "ari: 25.23314838862\n",
            "it 8/10\n",
            "Fitting 5 folds for each of 12 candidates, totalling 60 fits\n"
          ],
          "name": "stdout"
        },
        {
          "output_type": "stream",
          "text": [
            "[Parallel(n_jobs=-1)]: Using backend LokyBackend with 2 concurrent workers.\n",
            "[Parallel(n_jobs=-1)]: Done  46 tasks      | elapsed:    7.8s\n",
            "[Parallel(n_jobs=-1)]: Done  60 out of  60 | elapsed:   10.2s finished\n"
          ],
          "name": "stderr"
        },
        {
          "output_type": "stream",
          "text": [
            "it 8/10\n",
            "{'rep__batch_size': 64, 'rep__gamma_': 100, 'rep__lambda_': 3, 'rep__learning_rate': 0.03, 'rep__n_clusters': 3, 'rep__nn': 5, 'rep__optimization': 'Nadam', 'rep__reduction_': 'SC', 'rep__sigma_initial': 35}\n",
            "acc: 57.407407407407405\n",
            "ari: 9.632418069087688\n",
            "it 9/10\n",
            "Fitting 5 folds for each of 12 candidates, totalling 60 fits\n"
          ],
          "name": "stdout"
        },
        {
          "output_type": "stream",
          "text": [
            "[Parallel(n_jobs=-1)]: Using backend LokyBackend with 2 concurrent workers.\n",
            "[Parallel(n_jobs=-1)]: Done  46 tasks      | elapsed:    7.9s\n",
            "[Parallel(n_jobs=-1)]: Done  60 out of  60 | elapsed:   10.2s finished\n"
          ],
          "name": "stderr"
        },
        {
          "output_type": "stream",
          "text": [
            "it 9/10\n",
            "{'rep__batch_size': 64, 'rep__gamma_': 1, 'rep__lambda_': 2, 'rep__learning_rate': 0.01, 'rep__n_clusters': 3, 'rep__nn': 5, 'rep__optimization': 'Nadam', 'rep__reduction_': 'SC', 'rep__sigma_initial': 35}\n",
            "acc: 50.0\n",
            "ari: 3.3349073308936363\n",
            "it 10/10\n",
            "Fitting 5 folds for each of 12 candidates, totalling 60 fits\n"
          ],
          "name": "stdout"
        },
        {
          "output_type": "stream",
          "text": [
            "[Parallel(n_jobs=-1)]: Using backend LokyBackend with 2 concurrent workers.\n",
            "[Parallel(n_jobs=-1)]: Done  46 tasks      | elapsed:    7.9s\n",
            "[Parallel(n_jobs=-1)]: Done  60 out of  60 | elapsed:   10.2s finished\n"
          ],
          "name": "stderr"
        },
        {
          "output_type": "stream",
          "text": [
            "it 10/10\n",
            "{'rep__batch_size': 64, 'rep__gamma_': 1, 'rep__lambda_': 3, 'rep__learning_rate': 0.03, 'rep__n_clusters': 3, 'rep__nn': 5, 'rep__optimization': 'Nadam', 'rep__reduction_': 'SC', 'rep__sigma_initial': 35}\n",
            "acc: 48.148148148148145\n",
            "ari: 7.580866083658202\n",
            "it 1/10\n",
            "Fitting 5 folds for each of 3 candidates, totalling 15 fits\n"
          ],
          "name": "stdout"
        },
        {
          "output_type": "stream",
          "text": [
            "[Parallel(n_jobs=-1)]: Using backend LokyBackend with 2 concurrent workers.\n",
            "[Parallel(n_jobs=-1)]: Done  15 out of  15 | elapsed:    0.4s finished\n",
            "[Parallel(n_jobs=-1)]: Using backend LokyBackend with 2 concurrent workers.\n"
          ],
          "name": "stderr"
        },
        {
          "output_type": "stream",
          "text": [
            "it 1/10\n",
            "{'rep__gamma_': 500, 'rep__n_clusters_': 3, 'rep__n_neighbors_': 5, 'rep__nn_': 5}\n",
            "acc: 96.29629629629629\n",
            "ari: 88.39026700609793\n",
            "it 2/10\n",
            "Fitting 5 folds for each of 3 candidates, totalling 15 fits\n"
          ],
          "name": "stdout"
        },
        {
          "output_type": "stream",
          "text": [
            "[Parallel(n_jobs=-1)]: Done  15 out of  15 | elapsed:    0.4s finished\n",
            "[Parallel(n_jobs=-1)]: Using backend LokyBackend with 2 concurrent workers.\n"
          ],
          "name": "stderr"
        },
        {
          "output_type": "stream",
          "text": [
            "it 2/10\n",
            "{'rep__gamma_': 500, 'rep__n_clusters_': 3, 'rep__n_neighbors_': 5, 'rep__nn_': 5}\n",
            "acc: 88.88888888888889\n",
            "ari: 67.31027085009386\n",
            "it 3/10\n",
            "Fitting 5 folds for each of 3 candidates, totalling 15 fits\n"
          ],
          "name": "stdout"
        },
        {
          "output_type": "stream",
          "text": [
            "[Parallel(n_jobs=-1)]: Done  15 out of  15 | elapsed:    0.5s finished\n",
            "[Parallel(n_jobs=-1)]: Using backend LokyBackend with 2 concurrent workers.\n"
          ],
          "name": "stderr"
        },
        {
          "output_type": "stream",
          "text": [
            "it 3/10\n",
            "{'rep__gamma_': 500, 'rep__n_clusters_': 3, 'rep__n_neighbors_': 5, 'rep__nn_': 5}\n",
            "acc: 88.88888888888889\n",
            "ari: 68.87346502936464\n",
            "it 4/10\n",
            "Fitting 5 folds for each of 3 candidates, totalling 15 fits\n"
          ],
          "name": "stdout"
        },
        {
          "output_type": "stream",
          "text": [
            "[Parallel(n_jobs=-1)]: Done  15 out of  15 | elapsed:    0.5s finished\n",
            "[Parallel(n_jobs=-1)]: Using backend LokyBackend with 2 concurrent workers.\n"
          ],
          "name": "stderr"
        },
        {
          "output_type": "stream",
          "text": [
            "it 4/10\n",
            "{'rep__gamma_': 500, 'rep__n_clusters_': 3, 'rep__n_neighbors_': 5, 'rep__nn_': 5}\n",
            "acc: 98.14814814814815\n",
            "ari: 94.05619171290284\n",
            "it 5/10\n",
            "Fitting 5 folds for each of 3 candidates, totalling 15 fits\n"
          ],
          "name": "stdout"
        },
        {
          "output_type": "stream",
          "text": [
            "[Parallel(n_jobs=-1)]: Done  15 out of  15 | elapsed:    0.4s finished\n",
            "[Parallel(n_jobs=-1)]: Using backend LokyBackend with 2 concurrent workers.\n"
          ],
          "name": "stderr"
        },
        {
          "output_type": "stream",
          "text": [
            "it 5/10\n",
            "{'rep__gamma_': 500, 'rep__n_clusters_': 3, 'rep__n_neighbors_': 5, 'rep__nn_': 5}\n",
            "acc: 85.18518518518519\n",
            "ari: 58.55065568408219\n",
            "it 6/10\n",
            "Fitting 5 folds for each of 3 candidates, totalling 15 fits\n"
          ],
          "name": "stdout"
        },
        {
          "output_type": "stream",
          "text": [
            "[Parallel(n_jobs=-1)]: Done  15 out of  15 | elapsed:    0.4s finished\n",
            "[Parallel(n_jobs=-1)]: Using backend LokyBackend with 2 concurrent workers.\n"
          ],
          "name": "stderr"
        },
        {
          "output_type": "stream",
          "text": [
            "it 6/10\n",
            "{'rep__gamma_': 500, 'rep__n_clusters_': 3, 'rep__n_neighbors_': 5, 'rep__nn_': 5}\n",
            "acc: 92.5925925925926\n",
            "ari: 77.9691211401425\n",
            "it 7/10\n",
            "Fitting 5 folds for each of 3 candidates, totalling 15 fits\n"
          ],
          "name": "stdout"
        },
        {
          "output_type": "stream",
          "text": [
            "[Parallel(n_jobs=-1)]: Done  15 out of  15 | elapsed:    0.5s finished\n",
            "[Parallel(n_jobs=-1)]: Using backend LokyBackend with 2 concurrent workers.\n"
          ],
          "name": "stderr"
        },
        {
          "output_type": "stream",
          "text": [
            "it 7/10\n",
            "{'rep__gamma_': 500, 'rep__n_clusters_': 3, 'rep__n_neighbors_': 5, 'rep__nn_': 5}\n",
            "acc: 96.29629629629629\n",
            "ari: 88.39026700609793\n",
            "it 8/10\n",
            "Fitting 5 folds for each of 3 candidates, totalling 15 fits\n"
          ],
          "name": "stdout"
        },
        {
          "output_type": "stream",
          "text": [
            "[Parallel(n_jobs=-1)]: Done  15 out of  15 | elapsed:    0.5s finished\n",
            "[Parallel(n_jobs=-1)]: Using backend LokyBackend with 2 concurrent workers.\n"
          ],
          "name": "stderr"
        },
        {
          "output_type": "stream",
          "text": [
            "it 8/10\n",
            "{'rep__gamma_': 500, 'rep__n_clusters_': 3, 'rep__n_neighbors_': 5, 'rep__nn_': 5}\n",
            "acc: 88.88888888888889\n",
            "ari: 67.31027085009386\n",
            "it 9/10\n",
            "Fitting 5 folds for each of 3 candidates, totalling 15 fits\n"
          ],
          "name": "stdout"
        },
        {
          "output_type": "stream",
          "text": [
            "[Parallel(n_jobs=-1)]: Done  15 out of  15 | elapsed:    0.4s finished\n",
            "[Parallel(n_jobs=-1)]: Using backend LokyBackend with 2 concurrent workers.\n"
          ],
          "name": "stderr"
        },
        {
          "output_type": "stream",
          "text": [
            "it 9/10\n",
            "{'rep__gamma_': 500, 'rep__n_clusters_': 3, 'rep__n_neighbors_': 5, 'rep__nn_': 5}\n",
            "acc: 87.03703703703704\n",
            "ari: 64.857024450891\n",
            "it 10/10\n",
            "Fitting 5 folds for each of 3 candidates, totalling 15 fits\n"
          ],
          "name": "stdout"
        },
        {
          "output_type": "stream",
          "text": [
            "[Parallel(n_jobs=-1)]: Done  15 out of  15 | elapsed:    0.5s finished\n",
            "[Parallel(n_jobs=-1)]: Using backend LokyBackend with 2 concurrent workers.\n"
          ],
          "name": "stderr"
        },
        {
          "output_type": "stream",
          "text": [
            "it 10/10\n",
            "{'rep__gamma_': 500, 'rep__n_clusters_': 3, 'rep__n_neighbors_': 5, 'rep__nn_': 5}\n",
            "acc: 90.74074074074075\n",
            "ari: 73.24821852731591\n",
            "it 1/10\n",
            "Fitting 5 folds for each of 1 candidates, totalling 5 fits\n"
          ],
          "name": "stdout"
        },
        {
          "output_type": "stream",
          "text": [
            "[Parallel(n_jobs=-1)]: Done   5 out of   5 | elapsed:    0.2s finished\n",
            "[Parallel(n_jobs=-1)]: Using backend LokyBackend with 2 concurrent workers.\n"
          ],
          "name": "stderr"
        },
        {
          "output_type": "stream",
          "text": [
            "it 1/10\n",
            "{'rep__n_clusters_': 3, 'rep__nn': 5}\n",
            "acc: 77.77777777777779\n",
            "ari: 44.09906866057526\n",
            "it 2/10\n",
            "Fitting 5 folds for each of 1 candidates, totalling 5 fits\n",
            "it 2/10\n",
            "{'rep__n_clusters_': 3, 'rep__nn': 5}\n",
            "acc: 74.07407407407408\n",
            "ari: 38.66953538407862\n",
            "it 3/10\n"
          ],
          "name": "stdout"
        },
        {
          "output_type": "stream",
          "text": [
            "[Parallel(n_jobs=-1)]: Done   5 out of   5 | elapsed:    0.2s finished\n",
            "[Parallel(n_jobs=-1)]: Using backend LokyBackend with 2 concurrent workers.\n",
            "[Parallel(n_jobs=-1)]: Done   5 out of   5 | elapsed:    0.2s finished\n"
          ],
          "name": "stderr"
        },
        {
          "output_type": "stream",
          "text": [
            "Fitting 5 folds for each of 1 candidates, totalling 5 fits\n",
            "it 3/10\n",
            "{'rep__n_clusters_': 3, 'rep__nn': 5}\n",
            "acc: 75.92592592592592\n",
            "ari: 41.462131837307155\n",
            "it 4/10\n",
            "Fitting 5 folds for each of 1 candidates, totalling 5 fits\n"
          ],
          "name": "stdout"
        },
        {
          "output_type": "stream",
          "text": [
            "[Parallel(n_jobs=-1)]: Using backend LokyBackend with 2 concurrent workers.\n",
            "[Parallel(n_jobs=-1)]: Done   5 out of   5 | elapsed:    0.2s finished\n"
          ],
          "name": "stderr"
        },
        {
          "output_type": "stream",
          "text": [
            "it 4/10\n",
            "{'rep__n_clusters_': 3, 'rep__nn': 5}\n",
            "acc: 74.07407407407408\n",
            "ari: 39.22194803309624\n",
            "it 5/10\n",
            "Fitting 5 folds for each of 1 candidates, totalling 5 fits\n"
          ],
          "name": "stdout"
        },
        {
          "output_type": "stream",
          "text": [
            "[Parallel(n_jobs=-1)]: Using backend LokyBackend with 2 concurrent workers.\n",
            "[Parallel(n_jobs=-1)]: Done   5 out of   5 | elapsed:    0.2s finished\n",
            "[Parallel(n_jobs=-1)]: Using backend LokyBackend with 2 concurrent workers.\n"
          ],
          "name": "stderr"
        },
        {
          "output_type": "stream",
          "text": [
            "it 5/10\n",
            "{'rep__n_clusters_': 3, 'rep__nn': 5}\n",
            "acc: 75.92592592592592\n",
            "ari: 41.09388710149167\n",
            "it 6/10\n",
            "Fitting 5 folds for each of 1 candidates, totalling 5 fits\n",
            "it 6/10\n",
            "{'rep__n_clusters_': 3, 'rep__nn': 5}\n",
            "acc: 77.77777777777779\n",
            "ari: 44.64914339356959\n",
            "it 7/10\n",
            "Fitting 5 folds for each of 1 candidates, totalling 5 fits\n"
          ],
          "name": "stdout"
        },
        {
          "output_type": "stream",
          "text": [
            "[Parallel(n_jobs=-1)]: Done   5 out of   5 | elapsed:    0.2s finished\n",
            "[Parallel(n_jobs=-1)]: Using backend LokyBackend with 2 concurrent workers.\n",
            "[Parallel(n_jobs=-1)]: Done   5 out of   5 | elapsed:    0.2s finished\n"
          ],
          "name": "stderr"
        },
        {
          "output_type": "stream",
          "text": [
            "it 7/10\n",
            "{'rep__n_clusters_': 3, 'rep__nn': 5}\n",
            "acc: 77.77777777777779\n",
            "ari: 44.64914339356959\n",
            "it 8/10\n",
            "Fitting 5 folds for each of 1 candidates, totalling 5 fits\n"
          ],
          "name": "stdout"
        },
        {
          "output_type": "stream",
          "text": [
            "[Parallel(n_jobs=-1)]: Using backend LokyBackend with 2 concurrent workers.\n",
            "[Parallel(n_jobs=-1)]: Done   5 out of   5 | elapsed:    0.2s finished\n",
            "[Parallel(n_jobs=-1)]: Using backend LokyBackend with 2 concurrent workers.\n"
          ],
          "name": "stderr"
        },
        {
          "output_type": "stream",
          "text": [
            "it 8/10\n",
            "{'rep__n_clusters_': 3, 'rep__nn': 5}\n",
            "acc: 79.62962962962963\n",
            "ari: 47.49690429860251\n",
            "it 9/10\n",
            "Fitting 5 folds for each of 1 candidates, totalling 5 fits\n",
            "it 9/10\n",
            "{'rep__n_clusters_': 3, 'rep__nn': 5}\n",
            "acc: 72.22222222222221\n",
            "ari: 36.64241164241164\n"
          ],
          "name": "stdout"
        },
        {
          "output_type": "stream",
          "text": [
            "[Parallel(n_jobs=-1)]: Done   5 out of   5 | elapsed:    0.2s finished\n",
            "[Parallel(n_jobs=-1)]: Using backend LokyBackend with 2 concurrent workers.\n"
          ],
          "name": "stderr"
        },
        {
          "output_type": "stream",
          "text": [
            "it 10/10\n",
            "Fitting 5 folds for each of 1 candidates, totalling 5 fits\n",
            "it 10/10\n",
            "{'rep__n_clusters_': 3, 'rep__nn': 5}\n",
            "acc: 72.22222222222221\n",
            "ari: 37.377521613832855\n",
            "it 1/10\n"
          ],
          "name": "stdout"
        },
        {
          "output_type": "stream",
          "text": [
            "[Parallel(n_jobs=-1)]: Done   5 out of   5 | elapsed:    0.2s finished\n",
            "[Parallel(n_jobs=-1)]: Using backend LokyBackend with 2 concurrent workers.\n"
          ],
          "name": "stderr"
        },
        {
          "output_type": "stream",
          "text": [
            "Fitting 5 folds for each of 12 candidates, totalling 60 fits\n"
          ],
          "name": "stdout"
        },
        {
          "output_type": "stream",
          "text": [
            "[Parallel(n_jobs=-1)]: Done  46 tasks      | elapsed:    7.7s\n",
            "[Parallel(n_jobs=-1)]: Done  60 out of  60 | elapsed:   10.0s finished\n"
          ],
          "name": "stderr"
        },
        {
          "output_type": "stream",
          "text": [
            "it 1/10\n",
            "{'rep__batch_size': 64, 'rep__gamma_': 1, 'rep__lambda_': 3, 'rep__learning_rate': 0.03, 'rep__n_clusters': 3, 'rep__nn': 5, 'rep__optimization': 'Nadam', 'rep__reduction_': 'SC', 'rep__sigma_initial': 35}\n",
            "acc: 85.18518518518519\n",
            "ari: 59.085510688836095\n",
            "it 2/10\n",
            "Fitting 5 folds for each of 12 candidates, totalling 60 fits\n"
          ],
          "name": "stdout"
        },
        {
          "output_type": "stream",
          "text": [
            "[Parallel(n_jobs=-1)]: Using backend LokyBackend with 2 concurrent workers.\n",
            "[Parallel(n_jobs=-1)]: Done  46 tasks      | elapsed:    7.8s\n",
            "[Parallel(n_jobs=-1)]: Done  60 out of  60 | elapsed:   10.0s finished\n"
          ],
          "name": "stderr"
        },
        {
          "output_type": "stream",
          "text": [
            "it 2/10\n",
            "{'rep__batch_size': 64, 'rep__gamma_': 1, 'rep__lambda_': 2, 'rep__learning_rate': 0.03, 'rep__n_clusters': 3, 'rep__nn': 5, 'rep__optimization': 'Nadam', 'rep__reduction_': 'SC', 'rep__sigma_initial': 35}\n",
            "acc: 55.55555555555556\n",
            "ari: 33.39717186557179\n",
            "it 3/10\n",
            "Fitting 5 folds for each of 12 candidates, totalling 60 fits\n"
          ],
          "name": "stdout"
        },
        {
          "output_type": "stream",
          "text": [
            "[Parallel(n_jobs=-1)]: Using backend LokyBackend with 2 concurrent workers.\n",
            "[Parallel(n_jobs=-1)]: Done  46 tasks      | elapsed:    7.8s\n",
            "[Parallel(n_jobs=-1)]: Done  60 out of  60 | elapsed:   10.0s finished\n"
          ],
          "name": "stderr"
        },
        {
          "output_type": "stream",
          "text": [
            "it 3/10\n",
            "{'rep__batch_size': 64, 'rep__gamma_': 1, 'rep__lambda_': 3, 'rep__learning_rate': 0.03, 'rep__n_clusters': 3, 'rep__nn': 5, 'rep__optimization': 'Nadam', 'rep__reduction_': 'SC', 'rep__sigma_initial': 35}\n",
            "acc: 92.5925925925926\n",
            "ari: 77.46290404115494\n",
            "it 4/10\n",
            "Fitting 5 folds for each of 12 candidates, totalling 60 fits\n"
          ],
          "name": "stdout"
        },
        {
          "output_type": "stream",
          "text": [
            "[Parallel(n_jobs=-1)]: Using backend LokyBackend with 2 concurrent workers.\n",
            "[Parallel(n_jobs=-1)]: Done  46 tasks      | elapsed:    7.7s\n",
            "[Parallel(n_jobs=-1)]: Done  60 out of  60 | elapsed:   10.0s finished\n"
          ],
          "name": "stderr"
        },
        {
          "output_type": "stream",
          "text": [
            "it 4/10\n",
            "{'rep__batch_size': 64, 'rep__gamma_': 1, 'rep__lambda_': 3, 'rep__learning_rate': 0.03, 'rep__n_clusters': 3, 'rep__nn': 5, 'rep__optimization': 'Nadam', 'rep__reduction_': 'SC', 'rep__sigma_initial': 35}\n",
            "acc: 83.33333333333334\n",
            "ari: 54.36460807600949\n",
            "it 5/10\n",
            "Fitting 5 folds for each of 12 candidates, totalling 60 fits\n"
          ],
          "name": "stdout"
        },
        {
          "output_type": "stream",
          "text": [
            "[Parallel(n_jobs=-1)]: Using backend LokyBackend with 2 concurrent workers.\n",
            "[Parallel(n_jobs=-1)]: Done  46 tasks      | elapsed:    7.8s\n",
            "[Parallel(n_jobs=-1)]: Done  60 out of  60 | elapsed:   10.1s finished\n"
          ],
          "name": "stderr"
        },
        {
          "output_type": "stream",
          "text": [
            "it 5/10\n",
            "{'rep__batch_size': 64, 'rep__gamma_': 1, 'rep__lambda_': 3, 'rep__learning_rate': 0.03, 'rep__n_clusters': 3, 'rep__nn': 5, 'rep__optimization': 'Nadam', 'rep__reduction_': 'SC', 'rep__sigma_initial': 35}\n",
            "acc: 83.33333333333334\n",
            "ari: 54.27228370819945\n",
            "it 6/10\n",
            "Fitting 5 folds for each of 12 candidates, totalling 60 fits\n"
          ],
          "name": "stdout"
        },
        {
          "output_type": "stream",
          "text": [
            "[Parallel(n_jobs=-1)]: Using backend LokyBackend with 2 concurrent workers.\n",
            "[Parallel(n_jobs=-1)]: Done  46 tasks      | elapsed:    7.8s\n",
            "[Parallel(n_jobs=-1)]: Done  60 out of  60 | elapsed:   10.0s finished\n"
          ],
          "name": "stderr"
        },
        {
          "output_type": "stream",
          "text": [
            "it 6/10\n",
            "{'rep__batch_size': 64, 'rep__gamma_': 1, 'rep__lambda_': 3, 'rep__learning_rate': 0.03, 'rep__n_clusters': 3, 'rep__nn': 5, 'rep__optimization': 'Nadam', 'rep__reduction_': 'SC', 'rep__sigma_initial': 35}\n",
            "acc: 77.77777777777779\n",
            "ari: 50.415800415800405\n",
            "it 7/10\n",
            "Fitting 5 folds for each of 12 candidates, totalling 60 fits\n"
          ],
          "name": "stdout"
        },
        {
          "output_type": "stream",
          "text": [
            "[Parallel(n_jobs=-1)]: Using backend LokyBackend with 2 concurrent workers.\n",
            "[Parallel(n_jobs=-1)]: Done  46 tasks      | elapsed:    7.7s\n",
            "[Parallel(n_jobs=-1)]: Done  60 out of  60 | elapsed:   10.0s finished\n"
          ],
          "name": "stderr"
        },
        {
          "output_type": "stream",
          "text": [
            "it 7/10\n",
            "{'rep__batch_size': 64, 'rep__gamma_': 1, 'rep__lambda_': 3, 'rep__learning_rate': 0.03, 'rep__n_clusters': 3, 'rep__nn': 5, 'rep__optimization': 'Nadam', 'rep__reduction_': 'SC', 'rep__sigma_initial': 35}\n",
            "acc: 90.74074074074075\n",
            "ari: 72.21990589076181\n",
            "it 8/10\n",
            "Fitting 5 folds for each of 12 candidates, totalling 60 fits\n"
          ],
          "name": "stdout"
        },
        {
          "output_type": "stream",
          "text": [
            "[Parallel(n_jobs=-1)]: Using backend LokyBackend with 2 concurrent workers.\n",
            "[Parallel(n_jobs=-1)]: Done  46 tasks      | elapsed:    7.7s\n",
            "[Parallel(n_jobs=-1)]: Done  60 out of  60 | elapsed:   10.0s finished\n"
          ],
          "name": "stderr"
        },
        {
          "output_type": "stream",
          "text": [
            "it 8/10\n",
            "{'rep__batch_size': 64, 'rep__gamma_': 100, 'rep__lambda_': 2, 'rep__learning_rate': 0.01, 'rep__n_clusters': 3, 'rep__nn': 5, 'rep__optimization': 'Nadam', 'rep__reduction_': 'SC', 'rep__sigma_initial': 35}\n",
            "acc: 55.55555555555556\n",
            "ari: 30.677764565992867\n",
            "it 9/10\n",
            "Fitting 5 folds for each of 12 candidates, totalling 60 fits\n"
          ],
          "name": "stdout"
        },
        {
          "output_type": "stream",
          "text": [
            "[Parallel(n_jobs=-1)]: Using backend LokyBackend with 2 concurrent workers.\n",
            "[Parallel(n_jobs=-1)]: Done  46 tasks      | elapsed:    7.7s\n",
            "[Parallel(n_jobs=-1)]: Done  60 out of  60 | elapsed:   10.0s finished\n"
          ],
          "name": "stderr"
        },
        {
          "output_type": "stream",
          "text": [
            "it 9/10\n",
            "{'rep__batch_size': 64, 'rep__gamma_': 1, 'rep__lambda_': 3, 'rep__learning_rate': 0.03, 'rep__n_clusters': 3, 'rep__nn': 5, 'rep__optimization': 'Nadam', 'rep__reduction_': 'SC', 'rep__sigma_initial': 35}\n",
            "acc: 79.62962962962963\n",
            "ari: 49.31354142220137\n",
            "it 10/10\n",
            "Fitting 5 folds for each of 12 candidates, totalling 60 fits\n"
          ],
          "name": "stdout"
        },
        {
          "output_type": "stream",
          "text": [
            "[Parallel(n_jobs=-1)]: Using backend LokyBackend with 2 concurrent workers.\n",
            "[Parallel(n_jobs=-1)]: Done  46 tasks      | elapsed:    7.8s\n",
            "[Parallel(n_jobs=-1)]: Done  60 out of  60 | elapsed:   10.1s finished\n"
          ],
          "name": "stderr"
        },
        {
          "output_type": "stream",
          "text": [
            "it 10/10\n",
            "{'rep__batch_size': 64, 'rep__gamma_': 500, 'rep__lambda_': 2, 'rep__learning_rate': 0.01, 'rep__n_clusters': 3, 'rep__nn': 5, 'rep__optimization': 'Nadam', 'rep__reduction_': 'SC', 'rep__sigma_initial': 35}\n",
            "acc: 44.44444444444444\n",
            "ari: 0.0\n"
          ],
          "name": "stdout"
        }
      ]
    },
    {
      "cell_type": "markdown",
      "metadata": {
        "id": "XELSKWbDDljj",
        "colab_type": "text"
      },
      "source": [
        "**Moons**\n"
      ]
    },
    {
      "cell_type": "code",
      "metadata": {
        "id": "yyOxawZSDjOb",
        "colab_type": "code",
        "colab": {}
      },
      "source": [
        "#{'rep__lambda_':[2,3],'rep__sigma_initial':[5,15,25,35],'rep__nn':[3,5],'rep__n_clusters':[n_clusters],'rep__reduction_':['SC'],'rep__gamma_':[100,500,1000]},\n",
        "n_clusters=2\n",
        "steps =[[('rep',SC())],\n",
        "        [('rep',Kmeans())],  \n",
        "        [('rep', MiniBatchPRI())]] \n",
        "   \n",
        "parameters =[{'rep__gamma_':[1,100,500],'rep__n_neighbors_':[5],'rep__nn_':[5],'rep__n_clusters_':[n_clusters]},\n",
        "             {'rep__nn':[5],'rep__n_clusters_':[n_clusters]},\n",
        "             {'rep__lambda_':[2,3],'rep__sigma_initial':[35],'rep__learning_rate':[0.01,0.03],'rep__nn':[5],'rep__n_clusters':[n_clusters],'rep__reduction_':['SC'],'rep__gamma_':[1,100,500],'rep__optimization':['Nadam'],'rep__batch_size':[64]}]"
      ],
      "execution_count": 0,
      "outputs": []
    },
    {
      "cell_type": "code",
      "metadata": {
        "id": "yZvSiw-fDoUw",
        "colab_type": "code",
        "outputId": "728c788e-c4c7-4561-f67d-899ee5567b36",
        "colab": {
          "base_uri": "https://localhost:8080/",
          "height": 1000
        }
      },
      "source": [
        "n=[5,15,30]\n",
        "moons,labels_moons = datasets.make_moons(n_samples=200)\n",
        "for k in n:\n",
        "  # Set a target SNR\n",
        "  target_snr_db =k\n",
        "  # Calculate signal power and convert to dB \n",
        "  avg_moons = np.mean(moons)\n",
        "  avg_db = 10 * np.log10(avg_moons)\n",
        "  # Calculate noise according to [2] then convert to watts\n",
        "  avg_db = avg_db - target_snr_db\n",
        "  noise_avg = 10 ** (avg_db / 10)\n",
        "  # Generate an sample of white noise\n",
        "  noise_ = np.random.normal(0, np.sqrt(noise_avg),moons.shape)\n",
        "  noisy_moons=moons+noise_\n",
        "\n",
        "  for i in range(len(steps)):\n",
        "    #meth_name = ['sc_'+str(k)+'db', 'Knn'+str(k)+'db', 'FP'+str(k)+'db','SGD'+str(k)+'db']\n",
        "    meth_name = ['sc_'+str(k)+'db', 'Knn'+str(k)+'db','SGD'+str(k)+'db']\n",
        "    name='/content/PRI/moons' + str(meth_name[i]) + '.joblib'\n",
        "    Niter = 10 #numero particiones\n",
        "    acc =np.zeros(Niter)#arreglo para guardar acierto\n",
        "    ari=np.zeros(Niter)\n",
        "    Nc = len(np.unique(labels_moons))\n",
        "    best_estimators= []#mejor metodo por iteracion\n",
        "    best_parameters= []#mejor metodo por iteracion\n",
        "\n",
        "    for j in range(Niter):\n",
        "      print('it %d/%d'%(j+1,Niter))\n",
        "      ## Accuracy\n",
        "      X_train, X_test, y_train, y_test = train_test_split(noisy_moons,labels_moons,test_size=0.2, stratify=labels_moons)\n",
        "      grid_search = GridSearchCV(Pipeline(steps[i]) , parameters[i],cv=5,verbose=1,scoring='accuracy',n_jobs=2)\n",
        "      #generar mejor modelo\n",
        "      grid_search.fit(X_train,y_train)\n",
        "      #estimar salida conjunto de test\n",
        "      y_pred = grid_search.best_estimator_.predict(X_test)\n",
        "      #guardar mejor modelo\n",
        "      best_estimators.append(grid_search.best_estimator_)\n",
        "      best_parameters.append(grid_search.best_params_)\n",
        "      #guardar acierto\n",
        "      acc[j] = 100*accuracy_score(y_test,y_pred)\n",
        "      ari[j]=100*adjusted_rand_score(y_test,y_pred)\n",
        "      #estimar matriz de confusion\n",
        "      print('it %d/%d'%(j+1,Niter))\n",
        "      print(grid_search.best_params_)\n",
        "      print('acc:',acc[j])\n",
        "      print('ari:',ari[j])\n",
        "      #print('confusionmatrix \\n',cmc[j])\n",
        "      savedata = {\n",
        "        'ari':ari,\n",
        "        'acc':acc,\n",
        "        'best_models':best_estimators,\n",
        "        'best_parameters':best_parameters,\n",
        "          } \n",
        "      dump(savedata,name)"
      ],
      "execution_count": 8,
      "outputs": [
        {
          "output_type": "stream",
          "text": [
            "it 1/10\n",
            "Fitting 5 folds for each of 3 candidates, totalling 15 fits\n"
          ],
          "name": "stdout"
        },
        {
          "output_type": "stream",
          "text": [
            "[Parallel(n_jobs=2)]: Using backend LokyBackend with 2 concurrent workers.\n",
            "[Parallel(n_jobs=2)]: Done  15 out of  15 | elapsed:   21.6s finished\n",
            "[Parallel(n_jobs=2)]: Using backend LokyBackend with 2 concurrent workers.\n"
          ],
          "name": "stderr"
        },
        {
          "output_type": "stream",
          "text": [
            "it 1/10\n",
            "{'rep__gamma_': 1, 'rep__n_clusters_': 2, 'rep__n_neighbors_': 5, 'rep__nn_': 5}\n",
            "acc: 80.0\n",
            "ari: 34.384858044164034\n",
            "it 2/10\n",
            "Fitting 5 folds for each of 3 candidates, totalling 15 fits\n"
          ],
          "name": "stdout"
        },
        {
          "output_type": "stream",
          "text": [
            "[Parallel(n_jobs=2)]: Done  15 out of  15 | elapsed:   18.9s finished\n",
            "[Parallel(n_jobs=2)]: Using backend LokyBackend with 2 concurrent workers.\n"
          ],
          "name": "stderr"
        },
        {
          "output_type": "stream",
          "text": [
            "it 2/10\n",
            "{'rep__gamma_': 1, 'rep__n_clusters_': 2, 'rep__n_neighbors_': 5, 'rep__nn_': 5}\n",
            "acc: 85.0\n",
            "ari: 47.67166535122336\n",
            "it 3/10\n",
            "Fitting 5 folds for each of 3 candidates, totalling 15 fits\n"
          ],
          "name": "stdout"
        },
        {
          "output_type": "stream",
          "text": [
            "[Parallel(n_jobs=2)]: Done  15 out of  15 | elapsed:   21.6s finished\n",
            "[Parallel(n_jobs=2)]: Using backend LokyBackend with 2 concurrent workers.\n"
          ],
          "name": "stderr"
        },
        {
          "output_type": "stream",
          "text": [
            "it 3/10\n",
            "{'rep__gamma_': 1, 'rep__n_clusters_': 2, 'rep__n_neighbors_': 5, 'rep__nn_': 5}\n",
            "acc: 77.5\n",
            "ari: 28.45683476888684\n",
            "it 4/10\n",
            "Fitting 5 folds for each of 3 candidates, totalling 15 fits\n"
          ],
          "name": "stdout"
        },
        {
          "output_type": "stream",
          "text": [
            "[Parallel(n_jobs=2)]: Done  15 out of  15 | elapsed:   17.9s finished\n",
            "[Parallel(n_jobs=2)]: Using backend LokyBackend with 2 concurrent workers.\n"
          ],
          "name": "stderr"
        },
        {
          "output_type": "stream",
          "text": [
            "it 4/10\n",
            "{'rep__gamma_': 1, 'rep__n_clusters_': 2, 'rep__n_neighbors_': 5, 'rep__nn_': 5}\n",
            "acc: 75.0\n",
            "ari: 23.04656669297554\n",
            "it 5/10\n",
            "Fitting 5 folds for each of 3 candidates, totalling 15 fits\n"
          ],
          "name": "stdout"
        },
        {
          "output_type": "stream",
          "text": [
            "[Parallel(n_jobs=2)]: Done  15 out of  15 | elapsed:   20.4s finished\n",
            "[Parallel(n_jobs=2)]: Using backend LokyBackend with 2 concurrent workers.\n"
          ],
          "name": "stderr"
        },
        {
          "output_type": "stream",
          "text": [
            "it 5/10\n",
            "{'rep__gamma_': 1, 'rep__n_clusters_': 2, 'rep__n_neighbors_': 5, 'rep__nn_': 5}\n",
            "acc: 82.5\n",
            "ari: 40.73416222616933\n",
            "it 6/10\n",
            "Fitting 5 folds for each of 3 candidates, totalling 15 fits\n"
          ],
          "name": "stdout"
        },
        {
          "output_type": "stream",
          "text": [
            "[Parallel(n_jobs=2)]: Done  15 out of  15 | elapsed:   17.2s finished\n",
            "[Parallel(n_jobs=2)]: Using backend LokyBackend with 2 concurrent workers.\n"
          ],
          "name": "stderr"
        },
        {
          "output_type": "stream",
          "text": [
            "it 6/10\n",
            "{'rep__gamma_': 1, 'rep__n_clusters_': 2, 'rep__n_neighbors_': 5, 'rep__nn_': 5}\n",
            "acc: 77.5\n",
            "ari: 28.419182948490228\n",
            "it 7/10\n",
            "Fitting 5 folds for each of 3 candidates, totalling 15 fits\n"
          ],
          "name": "stdout"
        },
        {
          "output_type": "stream",
          "text": [
            "[Parallel(n_jobs=2)]: Done  15 out of  15 | elapsed:   16.8s finished\n",
            "[Parallel(n_jobs=2)]: Using backend LokyBackend with 2 concurrent workers.\n"
          ],
          "name": "stderr"
        },
        {
          "output_type": "stream",
          "text": [
            "it 7/10\n",
            "{'rep__gamma_': 1, 'rep__n_clusters_': 2, 'rep__n_neighbors_': 5, 'rep__nn_': 5}\n",
            "acc: 85.0\n",
            "ari: 47.67166535122336\n",
            "it 8/10\n",
            "Fitting 5 folds for each of 3 candidates, totalling 15 fits\n"
          ],
          "name": "stdout"
        },
        {
          "output_type": "stream",
          "text": [
            "[Parallel(n_jobs=2)]: Done  15 out of  15 | elapsed:   17.3s finished\n",
            "[Parallel(n_jobs=2)]: Using backend LokyBackend with 2 concurrent workers.\n"
          ],
          "name": "stderr"
        },
        {
          "output_type": "stream",
          "text": [
            "it 8/10\n",
            "{'rep__gamma_': 1, 'rep__n_clusters_': 2, 'rep__n_neighbors_': 5, 'rep__nn_': 5}\n",
            "acc: 80.0\n",
            "ari: 34.333070244672456\n",
            "it 9/10\n",
            "Fitting 5 folds for each of 3 candidates, totalling 15 fits\n"
          ],
          "name": "stdout"
        },
        {
          "output_type": "stream",
          "text": [
            "[Parallel(n_jobs=2)]: Done  15 out of  15 | elapsed:   19.4s finished\n",
            "[Parallel(n_jobs=2)]: Using backend LokyBackend with 2 concurrent workers.\n"
          ],
          "name": "stderr"
        },
        {
          "output_type": "stream",
          "text": [
            "it 9/10\n",
            "{'rep__gamma_': 1, 'rep__n_clusters_': 2, 'rep__n_neighbors_': 5, 'rep__nn_': 5}\n",
            "acc: 85.0\n",
            "ari: 47.67166535122336\n",
            "it 10/10\n",
            "Fitting 5 folds for each of 3 candidates, totalling 15 fits\n"
          ],
          "name": "stdout"
        },
        {
          "output_type": "stream",
          "text": [
            "[Parallel(n_jobs=2)]: Done  15 out of  15 | elapsed:   18.3s finished\n",
            "[Parallel(n_jobs=2)]: Using backend LokyBackend with 2 concurrent workers.\n",
            "[Parallel(n_jobs=2)]: Done   5 out of   5 | elapsed:    0.1s finished\n"
          ],
          "name": "stderr"
        },
        {
          "output_type": "stream",
          "text": [
            "it 10/10\n",
            "{'rep__gamma_': 1, 'rep__n_clusters_': 2, 'rep__n_neighbors_': 5, 'rep__nn_': 5}\n",
            "acc: 90.0\n",
            "ari: 63.06235201262825\n",
            "it 1/10\n",
            "Fitting 5 folds for each of 1 candidates, totalling 5 fits\n",
            "it 1/10\n",
            "{'rep__n_clusters_': 2, 'rep__nn': 5}\n",
            "acc: 70.0\n",
            "ari: 13.8121546961326\n",
            "it 2/10\n",
            "Fitting 5 folds for each of 1 candidates, totalling 5 fits\n"
          ],
          "name": "stdout"
        },
        {
          "output_type": "stream",
          "text": [
            "[Parallel(n_jobs=2)]: Using backend LokyBackend with 2 concurrent workers.\n",
            "[Parallel(n_jobs=2)]: Done   5 out of   5 | elapsed:    0.1s finished\n",
            "[Parallel(n_jobs=2)]: Using backend LokyBackend with 2 concurrent workers.\n"
          ],
          "name": "stderr"
        },
        {
          "output_type": "stream",
          "text": [
            "it 2/10\n",
            "{'rep__n_clusters_': 2, 'rep__nn': 5}\n",
            "acc: 80.0\n",
            "ari: 34.384858044164034\n",
            "it 3/10\n",
            "Fitting 5 folds for each of 1 candidates, totalling 5 fits\n",
            "it 3/10\n",
            "{'rep__n_clusters_': 2, 'rep__nn': 5}\n",
            "acc: 80.0\n",
            "ari: 34.333070244672456\n",
            "it 4/10\n",
            "Fitting 5 folds for each of 1 candidates, totalling 5 fits\n"
          ],
          "name": "stdout"
        },
        {
          "output_type": "stream",
          "text": [
            "[Parallel(n_jobs=2)]: Done   5 out of   5 | elapsed:    0.1s finished\n",
            "[Parallel(n_jobs=2)]: Using backend LokyBackend with 2 concurrent workers.\n",
            "[Parallel(n_jobs=2)]: Done   5 out of   5 | elapsed:    0.1s finished\n",
            "[Parallel(n_jobs=2)]: Using backend LokyBackend with 2 concurrent workers.\n"
          ],
          "name": "stderr"
        },
        {
          "output_type": "stream",
          "text": [
            "it 4/10\n",
            "{'rep__n_clusters_': 2, 'rep__nn': 5}\n",
            "acc: 77.5\n",
            "ari: 28.53201970443349\n",
            "it 5/10\n",
            "Fitting 5 folds for each of 1 candidates, totalling 5 fits\n",
            "it 5/10\n",
            "{'rep__n_clusters_': 2, 'rep__nn': 5}\n",
            "acc: 77.5\n",
            "ari: 28.419182948490228\n",
            "it 6/10\n",
            "Fitting 5 folds for each of 1 candidates, totalling 5 fits\n"
          ],
          "name": "stdout"
        },
        {
          "output_type": "stream",
          "text": [
            "[Parallel(n_jobs=2)]: Done   5 out of   5 | elapsed:    0.1s finished\n",
            "[Parallel(n_jobs=2)]: Using backend LokyBackend with 2 concurrent workers.\n",
            "[Parallel(n_jobs=2)]: Done   5 out of   5 | elapsed:    0.1s finished\n",
            "[Parallel(n_jobs=2)]: Using backend LokyBackend with 2 concurrent workers.\n"
          ],
          "name": "stderr"
        },
        {
          "output_type": "stream",
          "text": [
            "it 6/10\n",
            "{'rep__n_clusters_': 2, 'rep__nn': 5}\n",
            "acc: 80.0\n",
            "ari: 34.384858044164034\n",
            "it 7/10\n",
            "Fitting 5 folds for each of 1 candidates, totalling 5 fits\n",
            "it 7/10\n",
            "{'rep__n_clusters_': 2, 'rep__nn': 5}\n",
            "acc: 75.0\n",
            "ari: 23.04656669297554\n",
            "it 8/10\n",
            "Fitting 5 folds for each of 1 candidates, totalling 5 fits\n"
          ],
          "name": "stdout"
        },
        {
          "output_type": "stream",
          "text": [
            "[Parallel(n_jobs=2)]: Done   5 out of   5 | elapsed:    0.1s finished\n",
            "[Parallel(n_jobs=2)]: Using backend LokyBackend with 2 concurrent workers.\n",
            "[Parallel(n_jobs=2)]: Done   5 out of   5 | elapsed:    0.1s finished\n",
            "[Parallel(n_jobs=2)]: Using backend LokyBackend with 2 concurrent workers.\n"
          ],
          "name": "stderr"
        },
        {
          "output_type": "stream",
          "text": [
            "it 8/10\n",
            "{'rep__n_clusters_': 2, 'rep__nn': 5}\n",
            "acc: 75.0\n",
            "ari: 23.107255520504726\n",
            "it 9/10\n",
            "Fitting 5 folds for each of 1 candidates, totalling 5 fits\n",
            "it 9/10\n",
            "{'rep__n_clusters_': 2, 'rep__nn': 5}\n",
            "acc: 77.5\n",
            "ari: 28.419182948490228\n",
            "it 10/10\n",
            "Fitting 5 folds for each of 1 candidates, totalling 5 fits\n"
          ],
          "name": "stdout"
        },
        {
          "output_type": "stream",
          "text": [
            "[Parallel(n_jobs=2)]: Done   5 out of   5 | elapsed:    0.1s finished\n",
            "[Parallel(n_jobs=2)]: Using backend LokyBackend with 2 concurrent workers.\n",
            "[Parallel(n_jobs=2)]: Done   5 out of   5 | elapsed:    0.1s finished\n",
            "[Parallel(n_jobs=2)]: Using backend LokyBackend with 2 concurrent workers.\n"
          ],
          "name": "stderr"
        },
        {
          "output_type": "stream",
          "text": [
            "it 10/10\n",
            "{'rep__n_clusters_': 2, 'rep__nn': 5}\n",
            "acc: 70.0\n",
            "ari: 13.8121546961326\n",
            "it 1/10\n",
            "Fitting 5 folds for each of 12 candidates, totalling 60 fits\n"
          ],
          "name": "stdout"
        },
        {
          "output_type": "stream",
          "text": [
            "[Parallel(n_jobs=2)]: Done  46 tasks      | elapsed:   29.4s\n",
            "[Parallel(n_jobs=2)]: Done  60 out of  60 | elapsed:   52.5s finished\n"
          ],
          "name": "stderr"
        },
        {
          "output_type": "stream",
          "text": [
            "it 1/10\n",
            "{'rep__batch_size': 64, 'rep__gamma_': 1, 'rep__lambda_': 3, 'rep__learning_rate': 0.03, 'rep__n_clusters': 2, 'rep__nn': 5, 'rep__optimization': 'Nadam', 'rep__reduction_': 'SC', 'rep__sigma_initial': 35}\n",
            "acc: 87.5\n",
            "ari: 55.10163805012828\n",
            "it 2/10\n",
            "Fitting 5 folds for each of 12 candidates, totalling 60 fits\n"
          ],
          "name": "stdout"
        },
        {
          "output_type": "stream",
          "text": [
            "[Parallel(n_jobs=2)]: Using backend LokyBackend with 2 concurrent workers.\n",
            "[Parallel(n_jobs=2)]: Done  46 tasks      | elapsed:   27.6s\n",
            "[Parallel(n_jobs=2)]: Done  60 out of  60 | elapsed:   48.5s finished\n"
          ],
          "name": "stderr"
        },
        {
          "output_type": "stream",
          "text": [
            "it 2/10\n",
            "{'rep__batch_size': 64, 'rep__gamma_': 1, 'rep__lambda_': 3, 'rep__learning_rate': 0.03, 'rep__n_clusters': 2, 'rep__nn': 5, 'rep__optimization': 'Nadam', 'rep__reduction_': 'SC', 'rep__sigma_initial': 35}\n",
            "acc: 82.5\n",
            "ari: 40.73416222616933\n",
            "it 3/10\n",
            "Fitting 5 folds for each of 12 candidates, totalling 60 fits\n"
          ],
          "name": "stdout"
        },
        {
          "output_type": "stream",
          "text": [
            "[Parallel(n_jobs=2)]: Using backend LokyBackend with 2 concurrent workers.\n",
            "[Parallel(n_jobs=2)]: Done  46 tasks      | elapsed:   29.4s\n",
            "[Parallel(n_jobs=2)]: Done  60 out of  60 | elapsed:   53.3s finished\n"
          ],
          "name": "stderr"
        },
        {
          "output_type": "stream",
          "text": [
            "it 3/10\n",
            "{'rep__batch_size': 64, 'rep__gamma_': 1, 'rep__lambda_': 2, 'rep__learning_rate': 0.03, 'rep__n_clusters': 2, 'rep__nn': 5, 'rep__optimization': 'Nadam', 'rep__reduction_': 'SC', 'rep__sigma_initial': 35}\n",
            "acc: 80.0\n",
            "ari: 34.333070244672456\n",
            "it 4/10\n",
            "Fitting 5 folds for each of 12 candidates, totalling 60 fits\n"
          ],
          "name": "stdout"
        },
        {
          "output_type": "stream",
          "text": [
            "[Parallel(n_jobs=2)]: Using backend LokyBackend with 2 concurrent workers.\n",
            "[Parallel(n_jobs=2)]: Done  46 tasks      | elapsed:   28.2s\n",
            "[Parallel(n_jobs=2)]: Done  60 out of  60 | elapsed:   48.4s finished\n"
          ],
          "name": "stderr"
        },
        {
          "output_type": "stream",
          "text": [
            "it 4/10\n",
            "{'rep__batch_size': 64, 'rep__gamma_': 100, 'rep__lambda_': 3, 'rep__learning_rate': 0.03, 'rep__n_clusters': 2, 'rep__nn': 5, 'rep__optimization': 'Nadam', 'rep__reduction_': 'SC', 'rep__sigma_initial': 35}\n",
            "acc: 85.0\n",
            "ari: 47.67166535122336\n",
            "it 5/10\n",
            "Fitting 5 folds for each of 12 candidates, totalling 60 fits\n"
          ],
          "name": "stdout"
        },
        {
          "output_type": "stream",
          "text": [
            "[Parallel(n_jobs=2)]: Using backend LokyBackend with 2 concurrent workers.\n",
            "[Parallel(n_jobs=2)]: Done  46 tasks      | elapsed:   30.0s\n",
            "[Parallel(n_jobs=2)]: Done  60 out of  60 | elapsed:   49.2s finished\n"
          ],
          "name": "stderr"
        },
        {
          "output_type": "stream",
          "text": [
            "it 5/10\n",
            "{'rep__batch_size': 64, 'rep__gamma_': 1, 'rep__lambda_': 3, 'rep__learning_rate': 0.03, 'rep__n_clusters': 2, 'rep__nn': 5, 'rep__optimization': 'Nadam', 'rep__reduction_': 'SC', 'rep__sigma_initial': 35}\n",
            "acc: 80.0\n",
            "ari: 34.315789473684205\n",
            "it 6/10\n",
            "Fitting 5 folds for each of 12 candidates, totalling 60 fits\n"
          ],
          "name": "stdout"
        },
        {
          "output_type": "stream",
          "text": [
            "[Parallel(n_jobs=2)]: Using backend LokyBackend with 2 concurrent workers.\n",
            "[Parallel(n_jobs=2)]: Done  46 tasks      | elapsed:   32.2s\n",
            "[Parallel(n_jobs=2)]: Done  60 out of  60 | elapsed:   54.9s finished\n"
          ],
          "name": "stderr"
        },
        {
          "output_type": "stream",
          "text": [
            "it 6/10\n",
            "{'rep__batch_size': 64, 'rep__gamma_': 1, 'rep__lambda_': 3, 'rep__learning_rate': 0.03, 'rep__n_clusters': 2, 'rep__nn': 5, 'rep__optimization': 'Nadam', 'rep__reduction_': 'SC', 'rep__sigma_initial': 35}\n",
            "acc: 77.5\n",
            "ari: 28.419182948490228\n",
            "it 7/10\n",
            "Fitting 5 folds for each of 12 candidates, totalling 60 fits\n"
          ],
          "name": "stdout"
        },
        {
          "output_type": "stream",
          "text": [
            "[Parallel(n_jobs=2)]: Using backend LokyBackend with 2 concurrent workers.\n",
            "[Parallel(n_jobs=2)]: Done  46 tasks      | elapsed:   29.4s\n",
            "[Parallel(n_jobs=2)]: Done  60 out of  60 | elapsed:   51.8s finished\n"
          ],
          "name": "stderr"
        },
        {
          "output_type": "stream",
          "text": [
            "it 7/10\n",
            "{'rep__batch_size': 64, 'rep__gamma_': 1, 'rep__lambda_': 2, 'rep__learning_rate': 0.03, 'rep__n_clusters': 2, 'rep__nn': 5, 'rep__optimization': 'Nadam', 'rep__reduction_': 'SC', 'rep__sigma_initial': 35}\n",
            "acc: 82.5\n",
            "ari: 40.76533631402459\n",
            "it 8/10\n",
            "Fitting 5 folds for each of 12 candidates, totalling 60 fits\n"
          ],
          "name": "stdout"
        },
        {
          "output_type": "stream",
          "text": [
            "[Parallel(n_jobs=2)]: Using backend LokyBackend with 2 concurrent workers.\n",
            "[Parallel(n_jobs=2)]: Done  46 tasks      | elapsed:   30.0s\n",
            "[Parallel(n_jobs=2)]: Done  60 out of  60 | elapsed:   51.0s finished\n"
          ],
          "name": "stderr"
        },
        {
          "output_type": "stream",
          "text": [
            "it 8/10\n",
            "{'rep__batch_size': 64, 'rep__gamma_': 1, 'rep__lambda_': 3, 'rep__learning_rate': 0.03, 'rep__n_clusters': 2, 'rep__nn': 5, 'rep__optimization': 'Nadam', 'rep__reduction_': 'SC', 'rep__sigma_initial': 35}\n",
            "acc: 80.0\n",
            "ari: 34.333070244672456\n",
            "it 9/10\n",
            "Fitting 5 folds for each of 12 candidates, totalling 60 fits\n"
          ],
          "name": "stdout"
        },
        {
          "output_type": "stream",
          "text": [
            "[Parallel(n_jobs=2)]: Using backend LokyBackend with 2 concurrent workers.\n",
            "[Parallel(n_jobs=2)]: Done  46 tasks      | elapsed:   34.5s\n",
            "[Parallel(n_jobs=2)]: Done  60 out of  60 | elapsed:   56.3s finished\n"
          ],
          "name": "stderr"
        },
        {
          "output_type": "stream",
          "text": [
            "it 9/10\n",
            "{'rep__batch_size': 64, 'rep__gamma_': 1, 'rep__lambda_': 2, 'rep__learning_rate': 0.03, 'rep__n_clusters': 2, 'rep__nn': 5, 'rep__optimization': 'Nadam', 'rep__reduction_': 'SC', 'rep__sigma_initial': 35}\n",
            "acc: 77.5\n",
            "ari: 28.419182948490228\n",
            "it 10/10\n",
            "Fitting 5 folds for each of 12 candidates, totalling 60 fits\n"
          ],
          "name": "stdout"
        },
        {
          "output_type": "stream",
          "text": [
            "[Parallel(n_jobs=2)]: Using backend LokyBackend with 2 concurrent workers.\n",
            "[Parallel(n_jobs=2)]: Done  46 tasks      | elapsed:   34.5s\n",
            "[Parallel(n_jobs=2)]: Done  60 out of  60 | elapsed:  1.0min finished\n"
          ],
          "name": "stderr"
        },
        {
          "output_type": "stream",
          "text": [
            "it 10/10\n",
            "{'rep__batch_size': 64, 'rep__gamma_': 1, 'rep__lambda_': 2, 'rep__learning_rate': 0.03, 'rep__n_clusters': 2, 'rep__nn': 5, 'rep__optimization': 'Nadam', 'rep__reduction_': 'SC', 'rep__sigma_initial': 35}\n",
            "acc: 65.0\n",
            "ari: 6.629834254143652\n",
            "it 1/10\n",
            "Fitting 5 folds for each of 3 candidates, totalling 15 fits\n"
          ],
          "name": "stdout"
        },
        {
          "output_type": "stream",
          "text": [
            "[Parallel(n_jobs=2)]: Using backend LokyBackend with 2 concurrent workers.\n",
            "[Parallel(n_jobs=2)]: Done  15 out of  15 | elapsed:   13.7s finished\n",
            "[Parallel(n_jobs=2)]: Using backend LokyBackend with 2 concurrent workers.\n"
          ],
          "name": "stderr"
        },
        {
          "output_type": "stream",
          "text": [
            "it 1/10\n",
            "{'rep__gamma_': 100, 'rep__n_clusters_': 2, 'rep__n_neighbors_': 5, 'rep__nn_': 5}\n",
            "acc: 65.0\n",
            "ari: 7.794232268121577\n",
            "it 2/10\n",
            "Fitting 5 folds for each of 3 candidates, totalling 15 fits\n"
          ],
          "name": "stdout"
        },
        {
          "output_type": "stream",
          "text": [
            "[Parallel(n_jobs=2)]: Done  15 out of  15 | elapsed:   14.3s finished\n",
            "[Parallel(n_jobs=2)]: Using backend LokyBackend with 2 concurrent workers.\n"
          ],
          "name": "stderr"
        },
        {
          "output_type": "stream",
          "text": [
            "it 2/10\n",
            "{'rep__gamma_': 100, 'rep__n_clusters_': 2, 'rep__n_neighbors_': 5, 'rep__nn_': 5}\n",
            "acc: 97.5\n",
            "ari: 89.99407933688573\n",
            "it 3/10\n",
            "Fitting 5 folds for each of 3 candidates, totalling 15 fits\n"
          ],
          "name": "stdout"
        },
        {
          "output_type": "stream",
          "text": [
            "[Parallel(n_jobs=2)]: Done  15 out of  15 | elapsed:   12.1s finished\n",
            "[Parallel(n_jobs=2)]: Using backend LokyBackend with 2 concurrent workers.\n"
          ],
          "name": "stderr"
        },
        {
          "output_type": "stream",
          "text": [
            "it 3/10\n",
            "{'rep__gamma_': 100, 'rep__n_clusters_': 2, 'rep__n_neighbors_': 5, 'rep__nn_': 5}\n",
            "acc: 100.0\n",
            "ari: 100.0\n",
            "it 4/10\n",
            "Fitting 5 folds for each of 3 candidates, totalling 15 fits\n"
          ],
          "name": "stdout"
        },
        {
          "output_type": "stream",
          "text": [
            "[Parallel(n_jobs=2)]: Done  15 out of  15 | elapsed:   15.9s finished\n",
            "[Parallel(n_jobs=2)]: Using backend LokyBackend with 2 concurrent workers.\n"
          ],
          "name": "stderr"
        },
        {
          "output_type": "stream",
          "text": [
            "it 4/10\n",
            "{'rep__gamma_': 100, 'rep__n_clusters_': 2, 'rep__n_neighbors_': 5, 'rep__nn_': 5}\n",
            "acc: 100.0\n",
            "ari: 100.0\n",
            "it 5/10\n",
            "Fitting 5 folds for each of 3 candidates, totalling 15 fits\n"
          ],
          "name": "stdout"
        },
        {
          "output_type": "stream",
          "text": [
            "[Parallel(n_jobs=2)]: Done  15 out of  15 | elapsed:   14.5s finished\n"
          ],
          "name": "stderr"
        },
        {
          "output_type": "stream",
          "text": [
            "it 5/10\n",
            "{'rep__gamma_': 100, 'rep__n_clusters_': 2, 'rep__n_neighbors_': 5, 'rep__nn_': 5}\n",
            "acc: 97.5\n",
            "ari: 89.99407933688573\n",
            "it 6/10\n",
            "Fitting 5 folds for each of 3 candidates, totalling 15 fits\n"
          ],
          "name": "stdout"
        },
        {
          "output_type": "stream",
          "text": [
            "[Parallel(n_jobs=2)]: Using backend LokyBackend with 2 concurrent workers.\n",
            "[Parallel(n_jobs=2)]: Done  15 out of  15 | elapsed:   14.7s finished\n"
          ],
          "name": "stderr"
        },
        {
          "output_type": "stream",
          "text": [
            "it 6/10\n",
            "{'rep__gamma_': 100, 'rep__n_clusters_': 2, 'rep__n_neighbors_': 5, 'rep__nn_': 5}\n",
            "acc: 100.0\n",
            "ari: 100.0\n",
            "it 7/10\n",
            "Fitting 5 folds for each of 3 candidates, totalling 15 fits\n"
          ],
          "name": "stdout"
        },
        {
          "output_type": "stream",
          "text": [
            "[Parallel(n_jobs=2)]: Using backend LokyBackend with 2 concurrent workers.\n",
            "[Parallel(n_jobs=2)]: Done  15 out of  15 | elapsed:   12.7s finished\n",
            "[Parallel(n_jobs=2)]: Using backend LokyBackend with 2 concurrent workers.\n"
          ],
          "name": "stderr"
        },
        {
          "output_type": "stream",
          "text": [
            "it 7/10\n",
            "{'rep__gamma_': 1, 'rep__n_clusters_': 2, 'rep__n_neighbors_': 5, 'rep__nn_': 5}\n",
            "acc: 87.5\n",
            "ari: 55.10163805012828\n",
            "it 8/10\n",
            "Fitting 5 folds for each of 3 candidates, totalling 15 fits\n"
          ],
          "name": "stdout"
        },
        {
          "output_type": "stream",
          "text": [
            "[Parallel(n_jobs=2)]: Done  15 out of  15 | elapsed:   12.5s finished\n",
            "[Parallel(n_jobs=2)]: Using backend LokyBackend with 2 concurrent workers.\n"
          ],
          "name": "stderr"
        },
        {
          "output_type": "stream",
          "text": [
            "it 8/10\n",
            "{'rep__gamma_': 100, 'rep__n_clusters_': 2, 'rep__n_neighbors_': 5, 'rep__nn_': 5}\n",
            "acc: 85.0\n",
            "ari: 47.781569965870304\n",
            "it 9/10\n",
            "Fitting 5 folds for each of 3 candidates, totalling 15 fits\n"
          ],
          "name": "stdout"
        },
        {
          "output_type": "stream",
          "text": [
            "[Parallel(n_jobs=2)]: Done  15 out of  15 | elapsed:   12.4s finished\n",
            "[Parallel(n_jobs=2)]: Using backend LokyBackend with 2 concurrent workers.\n"
          ],
          "name": "stderr"
        },
        {
          "output_type": "stream",
          "text": [
            "it 9/10\n",
            "{'rep__gamma_': 100, 'rep__n_clusters_': 2, 'rep__n_neighbors_': 5, 'rep__nn_': 5}\n",
            "acc: 100.0\n",
            "ari: 100.0\n",
            "it 10/10\n",
            "Fitting 5 folds for each of 3 candidates, totalling 15 fits\n"
          ],
          "name": "stdout"
        },
        {
          "output_type": "stream",
          "text": [
            "[Parallel(n_jobs=2)]: Done  15 out of  15 | elapsed:   11.9s finished\n",
            "[Parallel(n_jobs=2)]: Using backend LokyBackend with 2 concurrent workers.\n"
          ],
          "name": "stderr"
        },
        {
          "output_type": "stream",
          "text": [
            "it 10/10\n",
            "{'rep__gamma_': 100, 'rep__n_clusters_': 2, 'rep__n_neighbors_': 5, 'rep__nn_': 5}\n",
            "acc: 82.5\n",
            "ari: 40.92071611253197\n",
            "it 1/10\n",
            "Fitting 5 folds for each of 1 candidates, totalling 5 fits\n",
            "it 1/10\n",
            "{'rep__n_clusters_': 2, 'rep__nn': 5}\n",
            "acc: 67.5\n",
            "ari: 9.946714031971581\n",
            "it 2/10\n",
            "Fitting 5 folds for each of 1 candidates, totalling 5 fits\n"
          ],
          "name": "stdout"
        },
        {
          "output_type": "stream",
          "text": [
            "[Parallel(n_jobs=2)]: Done   5 out of   5 | elapsed:    0.1s finished\n",
            "[Parallel(n_jobs=2)]: Using backend LokyBackend with 2 concurrent workers.\n",
            "[Parallel(n_jobs=2)]: Done   5 out of   5 | elapsed:    0.1s finished\n"
          ],
          "name": "stderr"
        },
        {
          "output_type": "stream",
          "text": [
            "it 2/10\n",
            "{'rep__n_clusters_': 2, 'rep__nn': 5}\n",
            "acc: 75.0\n",
            "ari: 23.02631578947368\n",
            "it 3/10\n",
            "Fitting 5 folds for each of 1 candidates, totalling 5 fits\n",
            "it 3/10\n",
            "{'rep__n_clusters_': 2, 'rep__nn': 5}\n",
            "acc: 77.5\n",
            "ari: 28.53201970443349\n",
            "it 4/10\n",
            "Fitting 5 folds for each of 1 candidates, totalling 5 fits\n"
          ],
          "name": "stdout"
        },
        {
          "output_type": "stream",
          "text": [
            "[Parallel(n_jobs=2)]: Using backend LokyBackend with 2 concurrent workers.\n",
            "[Parallel(n_jobs=2)]: Done   5 out of   5 | elapsed:    0.1s finished\n",
            "[Parallel(n_jobs=2)]: Using backend LokyBackend with 2 concurrent workers.\n",
            "[Parallel(n_jobs=2)]: Done   5 out of   5 | elapsed:    0.1s finished\n",
            "[Parallel(n_jobs=2)]: Using backend LokyBackend with 2 concurrent workers.\n"
          ],
          "name": "stderr"
        },
        {
          "output_type": "stream",
          "text": [
            "it 4/10\n",
            "{'rep__n_clusters_': 2, 'rep__nn': 5}\n",
            "acc: 67.5\n",
            "ari: 10.08866995073891\n",
            "it 5/10\n",
            "Fitting 5 folds for each of 1 candidates, totalling 5 fits\n",
            "it 5/10\n",
            "{'rep__n_clusters_': 2, 'rep__nn': 5}\n",
            "acc: 65.0\n",
            "ari: 6.605263157894732\n",
            "it 6/10\n",
            "Fitting 5 folds for each of 1 candidates, totalling 5 fits\n"
          ],
          "name": "stdout"
        },
        {
          "output_type": "stream",
          "text": [
            "[Parallel(n_jobs=2)]: Done   5 out of   5 | elapsed:    0.1s finished\n",
            "[Parallel(n_jobs=2)]: Using backend LokyBackend with 2 concurrent workers.\n",
            "[Parallel(n_jobs=2)]: Done   5 out of   5 | elapsed:    0.1s finished\n",
            "[Parallel(n_jobs=2)]: Using backend LokyBackend with 2 concurrent workers.\n"
          ],
          "name": "stderr"
        },
        {
          "output_type": "stream",
          "text": [
            "it 6/10\n",
            "{'rep__n_clusters_': 2, 'rep__nn': 5}\n",
            "acc: 72.5\n",
            "ari: 18.156700217090982\n",
            "it 7/10\n",
            "Fitting 5 folds for each of 1 candidates, totalling 5 fits\n",
            "it 7/10\n",
            "{'rep__n_clusters_': 2, 'rep__nn': 5}\n",
            "acc: 72.5\n",
            "ari: 18.199750147938715\n",
            "it 8/10\n",
            "Fitting 5 folds for each of 1 candidates, totalling 5 fits\n"
          ],
          "name": "stdout"
        },
        {
          "output_type": "stream",
          "text": [
            "[Parallel(n_jobs=2)]: Done   5 out of   5 | elapsed:    0.1s finished\n",
            "[Parallel(n_jobs=2)]: Using backend LokyBackend with 2 concurrent workers.\n",
            "[Parallel(n_jobs=2)]: Done   5 out of   5 | elapsed:    0.1s finished\n",
            "[Parallel(n_jobs=2)]: Using backend LokyBackend with 2 concurrent workers.\n"
          ],
          "name": "stderr"
        },
        {
          "output_type": "stream",
          "text": [
            "it 8/10\n",
            "{'rep__n_clusters_': 2, 'rep__nn': 5}\n",
            "acc: 82.5\n",
            "ari: 40.73416222616933\n",
            "it 9/10\n",
            "Fitting 5 folds for each of 1 candidates, totalling 5 fits\n",
            "it 9/10\n",
            "{'rep__n_clusters_': 2, 'rep__nn': 5}\n",
            "acc: 67.5\n",
            "ari: 9.994082451180217\n",
            "it 10/10\n",
            "Fitting 5 folds for each of 1 candidates, totalling 5 fits\n"
          ],
          "name": "stdout"
        },
        {
          "output_type": "stream",
          "text": [
            "[Parallel(n_jobs=2)]: Done   5 out of   5 | elapsed:    0.1s finished\n",
            "[Parallel(n_jobs=2)]: Using backend LokyBackend with 2 concurrent workers.\n",
            "[Parallel(n_jobs=2)]: Done   5 out of   5 | elapsed:    0.1s finished\n",
            "[Parallel(n_jobs=2)]: Using backend LokyBackend with 2 concurrent workers.\n"
          ],
          "name": "stderr"
        },
        {
          "output_type": "stream",
          "text": [
            "it 10/10\n",
            "{'rep__n_clusters_': 2, 'rep__nn': 5}\n",
            "acc: 72.5\n",
            "ari: 18.156700217090982\n",
            "it 1/10\n",
            "Fitting 5 folds for each of 12 candidates, totalling 60 fits\n"
          ],
          "name": "stdout"
        },
        {
          "output_type": "stream",
          "text": [
            "[Parallel(n_jobs=2)]: Done  46 tasks      | elapsed:   17.1s\n",
            "[Parallel(n_jobs=2)]: Done  60 out of  60 | elapsed:   33.5s finished\n"
          ],
          "name": "stderr"
        },
        {
          "output_type": "stream",
          "text": [
            "it 1/10\n",
            "{'rep__batch_size': 64, 'rep__gamma_': 500, 'rep__lambda_': 2, 'rep__learning_rate': 0.03, 'rep__n_clusters': 2, 'rep__nn': 5, 'rep__optimization': 'Nadam', 'rep__reduction_': 'SC', 'rep__sigma_initial': 35}\n",
            "acc: 87.5\n",
            "ari: 55.10163805012828\n",
            "it 2/10\n",
            "Fitting 5 folds for each of 12 candidates, totalling 60 fits\n"
          ],
          "name": "stdout"
        },
        {
          "output_type": "stream",
          "text": [
            "[Parallel(n_jobs=2)]: Using backend LokyBackend with 2 concurrent workers.\n",
            "[Parallel(n_jobs=2)]: Done  46 tasks      | elapsed:   15.8s\n",
            "[Parallel(n_jobs=2)]: Done  60 out of  60 | elapsed:   30.5s finished\n"
          ],
          "name": "stderr"
        },
        {
          "output_type": "stream",
          "text": [
            "it 2/10\n",
            "{'rep__batch_size': 64, 'rep__gamma_': 1, 'rep__lambda_': 3, 'rep__learning_rate': 0.03, 'rep__n_clusters': 2, 'rep__nn': 5, 'rep__optimization': 'Nadam', 'rep__reduction_': 'SC', 'rep__sigma_initial': 35}\n",
            "acc: 75.0\n",
            "ari: 23.04656669297554\n",
            "it 3/10\n",
            "Fitting 5 folds for each of 12 candidates, totalling 60 fits\n"
          ],
          "name": "stdout"
        },
        {
          "output_type": "stream",
          "text": [
            "[Parallel(n_jobs=2)]: Using backend LokyBackend with 2 concurrent workers.\n",
            "[Parallel(n_jobs=2)]: Done  46 tasks      | elapsed:   17.7s\n",
            "[Parallel(n_jobs=2)]: Done  60 out of  60 | elapsed:   34.1s finished\n"
          ],
          "name": "stderr"
        },
        {
          "output_type": "stream",
          "text": [
            "it 3/10\n",
            "{'rep__batch_size': 64, 'rep__gamma_': 1, 'rep__lambda_': 3, 'rep__learning_rate': 0.03, 'rep__n_clusters': 2, 'rep__nn': 5, 'rep__optimization': 'Nadam', 'rep__reduction_': 'SC', 'rep__sigma_initial': 35}\n",
            "acc: 85.0\n",
            "ari: 47.67166535122336\n",
            "it 4/10\n",
            "Fitting 5 folds for each of 12 candidates, totalling 60 fits\n"
          ],
          "name": "stdout"
        },
        {
          "output_type": "stream",
          "text": [
            "[Parallel(n_jobs=2)]: Using backend LokyBackend with 2 concurrent workers.\n",
            "[Parallel(n_jobs=2)]: Done  46 tasks      | elapsed:   15.1s\n",
            "[Parallel(n_jobs=2)]: Done  60 out of  60 | elapsed:   29.3s finished\n"
          ],
          "name": "stderr"
        },
        {
          "output_type": "stream",
          "text": [
            "it 4/10\n",
            "{'rep__batch_size': 64, 'rep__gamma_': 500, 'rep__lambda_': 2, 'rep__learning_rate': 0.03, 'rep__n_clusters': 2, 'rep__nn': 5, 'rep__optimization': 'Nadam', 'rep__reduction_': 'SC', 'rep__sigma_initial': 35}\n",
            "acc: 82.5\n",
            "ari: 40.76533631402459\n",
            "it 5/10\n",
            "Fitting 5 folds for each of 12 candidates, totalling 60 fits\n"
          ],
          "name": "stdout"
        },
        {
          "output_type": "stream",
          "text": [
            "[Parallel(n_jobs=2)]: Using backend LokyBackend with 2 concurrent workers.\n",
            "[Parallel(n_jobs=2)]: Done  46 tasks      | elapsed:   15.3s\n",
            "[Parallel(n_jobs=2)]: Done  60 out of  60 | elapsed:   29.4s finished\n"
          ],
          "name": "stderr"
        },
        {
          "output_type": "stream",
          "text": [
            "it 5/10\n",
            "{'rep__batch_size': 64, 'rep__gamma_': 500, 'rep__lambda_': 2, 'rep__learning_rate': 0.03, 'rep__n_clusters': 2, 'rep__nn': 5, 'rep__optimization': 'Nadam', 'rep__reduction_': 'SC', 'rep__sigma_initial': 35}\n",
            "acc: 70.0\n",
            "ari: 13.78947368421052\n",
            "it 6/10\n",
            "Fitting 5 folds for each of 12 candidates, totalling 60 fits\n"
          ],
          "name": "stdout"
        },
        {
          "output_type": "stream",
          "text": [
            "[Parallel(n_jobs=2)]: Using backend LokyBackend with 2 concurrent workers.\n",
            "[Parallel(n_jobs=2)]: Done  46 tasks      | elapsed:   17.3s\n",
            "[Parallel(n_jobs=2)]: Done  60 out of  60 | elapsed:   31.8s finished\n"
          ],
          "name": "stderr"
        },
        {
          "output_type": "stream",
          "text": [
            "it 6/10\n",
            "{'rep__batch_size': 64, 'rep__gamma_': 100, 'rep__lambda_': 3, 'rep__learning_rate': 0.03, 'rep__n_clusters': 2, 'rep__nn': 5, 'rep__optimization': 'Nadam', 'rep__reduction_': 'SC', 'rep__sigma_initial': 35}\n",
            "acc: 72.5\n",
            "ari: 18.414322250639387\n",
            "it 7/10\n",
            "Fitting 5 folds for each of 12 candidates, totalling 60 fits\n"
          ],
          "name": "stdout"
        },
        {
          "output_type": "stream",
          "text": [
            "[Parallel(n_jobs=2)]: Using backend LokyBackend with 2 concurrent workers.\n",
            "[Parallel(n_jobs=2)]: Done  46 tasks      | elapsed:   15.4s\n",
            "[Parallel(n_jobs=2)]: Done  60 out of  60 | elapsed:   29.9s finished\n"
          ],
          "name": "stderr"
        },
        {
          "output_type": "stream",
          "text": [
            "it 7/10\n",
            "{'rep__batch_size': 64, 'rep__gamma_': 500, 'rep__lambda_': 2, 'rep__learning_rate': 0.03, 'rep__n_clusters': 2, 'rep__nn': 5, 'rep__optimization': 'Nadam', 'rep__reduction_': 'SC', 'rep__sigma_initial': 35}\n",
            "acc: 87.5\n",
            "ari: 55.10163805012828\n",
            "it 8/10\n",
            "Fitting 5 folds for each of 12 candidates, totalling 60 fits\n"
          ],
          "name": "stdout"
        },
        {
          "output_type": "stream",
          "text": [
            "[Parallel(n_jobs=2)]: Using backend LokyBackend with 2 concurrent workers.\n",
            "[Parallel(n_jobs=2)]: Done  46 tasks      | elapsed:   15.0s\n",
            "[Parallel(n_jobs=2)]: Done  60 out of  60 | elapsed:   31.4s finished\n"
          ],
          "name": "stderr"
        },
        {
          "output_type": "stream",
          "text": [
            "it 8/10\n",
            "{'rep__batch_size': 64, 'rep__gamma_': 1, 'rep__lambda_': 3, 'rep__learning_rate': 0.03, 'rep__n_clusters': 2, 'rep__nn': 5, 'rep__optimization': 'Nadam', 'rep__reduction_': 'SC', 'rep__sigma_initial': 35}\n",
            "acc: 77.5\n",
            "ari: 28.419182948490228\n",
            "it 9/10\n",
            "Fitting 5 folds for each of 12 candidates, totalling 60 fits\n"
          ],
          "name": "stdout"
        },
        {
          "output_type": "stream",
          "text": [
            "[Parallel(n_jobs=2)]: Using backend LokyBackend with 2 concurrent workers.\n",
            "[Parallel(n_jobs=2)]: Done  46 tasks      | elapsed:   15.0s\n",
            "[Parallel(n_jobs=2)]: Done  60 out of  60 | elapsed:   29.2s finished\n"
          ],
          "name": "stderr"
        },
        {
          "output_type": "stream",
          "text": [
            "it 9/10\n",
            "{'rep__batch_size': 64, 'rep__gamma_': 500, 'rep__lambda_': 3, 'rep__learning_rate': 0.03, 'rep__n_clusters': 2, 'rep__nn': 5, 'rep__optimization': 'Nadam', 'rep__reduction_': 'SC', 'rep__sigma_initial': 35}\n",
            "acc: 80.0\n",
            "ari: 34.333070244672456\n",
            "it 10/10\n",
            "Fitting 5 folds for each of 12 candidates, totalling 60 fits\n"
          ],
          "name": "stdout"
        },
        {
          "output_type": "stream",
          "text": [
            "[Parallel(n_jobs=2)]: Using backend LokyBackend with 2 concurrent workers.\n",
            "[Parallel(n_jobs=2)]: Done  46 tasks      | elapsed:   14.8s\n",
            "[Parallel(n_jobs=2)]: Done  60 out of  60 | elapsed:   30.0s finished\n"
          ],
          "name": "stderr"
        },
        {
          "output_type": "stream",
          "text": [
            "it 10/10\n",
            "{'rep__batch_size': 64, 'rep__gamma_': 1, 'rep__lambda_': 3, 'rep__learning_rate': 0.03, 'rep__n_clusters': 2, 'rep__nn': 5, 'rep__optimization': 'Nadam', 'rep__reduction_': 'SC', 'rep__sigma_initial': 35}\n",
            "acc: 67.5\n",
            "ari: 9.946714031971581\n",
            "it 1/10\n",
            "Fitting 5 folds for each of 3 candidates, totalling 15 fits\n"
          ],
          "name": "stdout"
        },
        {
          "output_type": "stream",
          "text": [
            "[Parallel(n_jobs=2)]: Using backend LokyBackend with 2 concurrent workers.\n",
            "[Parallel(n_jobs=2)]: Done  15 out of  15 | elapsed:    9.0s finished\n",
            "[Parallel(n_jobs=2)]: Using backend LokyBackend with 2 concurrent workers.\n"
          ],
          "name": "stderr"
        },
        {
          "output_type": "stream",
          "text": [
            "it 1/10\n",
            "{'rep__gamma_': 100, 'rep__n_clusters_': 2, 'rep__n_neighbors_': 5, 'rep__nn_': 5}\n",
            "acc: 100.0\n",
            "ari: 100.0\n",
            "it 2/10\n",
            "Fitting 5 folds for each of 3 candidates, totalling 15 fits\n"
          ],
          "name": "stdout"
        },
        {
          "output_type": "stream",
          "text": [
            "[Parallel(n_jobs=2)]: Done  15 out of  15 | elapsed:   12.2s finished\n",
            "[Parallel(n_jobs=2)]: Using backend LokyBackend with 2 concurrent workers.\n"
          ],
          "name": "stderr"
        },
        {
          "output_type": "stream",
          "text": [
            "it 2/10\n",
            "{'rep__gamma_': 100, 'rep__n_clusters_': 2, 'rep__n_neighbors_': 5, 'rep__nn_': 5}\n",
            "acc: 100.0\n",
            "ari: 100.0\n",
            "it 3/10\n",
            "Fitting 5 folds for each of 3 candidates, totalling 15 fits\n"
          ],
          "name": "stdout"
        },
        {
          "output_type": "stream",
          "text": [
            "[Parallel(n_jobs=2)]: Done  15 out of  15 | elapsed:   11.9s finished\n",
            "[Parallel(n_jobs=2)]: Using backend LokyBackend with 2 concurrent workers.\n"
          ],
          "name": "stderr"
        },
        {
          "output_type": "stream",
          "text": [
            "it 3/10\n",
            "{'rep__gamma_': 100, 'rep__n_clusters_': 2, 'rep__n_neighbors_': 5, 'rep__nn_': 5}\n",
            "acc: 100.0\n",
            "ari: 100.0\n",
            "it 4/10\n",
            "Fitting 5 folds for each of 3 candidates, totalling 15 fits\n"
          ],
          "name": "stdout"
        },
        {
          "output_type": "stream",
          "text": [
            "[Parallel(n_jobs=2)]: Done  15 out of  15 | elapsed:   13.7s finished\n"
          ],
          "name": "stderr"
        },
        {
          "output_type": "stream",
          "text": [
            "it 4/10\n",
            "{'rep__gamma_': 500, 'rep__n_clusters_': 2, 'rep__n_neighbors_': 5, 'rep__nn_': 5}\n",
            "acc: 100.0\n",
            "ari: 100.0\n",
            "it 5/10\n",
            "Fitting 5 folds for each of 3 candidates, totalling 15 fits\n"
          ],
          "name": "stdout"
        },
        {
          "output_type": "stream",
          "text": [
            "[Parallel(n_jobs=2)]: Using backend LokyBackend with 2 concurrent workers.\n",
            "[Parallel(n_jobs=2)]: Done  15 out of  15 | elapsed:   11.6s finished\n",
            "[Parallel(n_jobs=2)]: Using backend LokyBackend with 2 concurrent workers.\n"
          ],
          "name": "stderr"
        },
        {
          "output_type": "stream",
          "text": [
            "it 5/10\n",
            "{'rep__gamma_': 100, 'rep__n_clusters_': 2, 'rep__n_neighbors_': 5, 'rep__nn_': 5}\n",
            "acc: 100.0\n",
            "ari: 100.0\n",
            "it 6/10\n",
            "Fitting 5 folds for each of 3 candidates, totalling 15 fits\n"
          ],
          "name": "stdout"
        },
        {
          "output_type": "stream",
          "text": [
            "[Parallel(n_jobs=2)]: Done  15 out of  15 | elapsed:   12.9s finished\n",
            "[Parallel(n_jobs=2)]: Using backend LokyBackend with 2 concurrent workers.\n"
          ],
          "name": "stderr"
        },
        {
          "output_type": "stream",
          "text": [
            "it 6/10\n",
            "{'rep__gamma_': 100, 'rep__n_clusters_': 2, 'rep__n_neighbors_': 5, 'rep__nn_': 5}\n",
            "acc: 100.0\n",
            "ari: 100.0\n",
            "it 7/10\n",
            "Fitting 5 folds for each of 3 candidates, totalling 15 fits\n"
          ],
          "name": "stdout"
        },
        {
          "output_type": "stream",
          "text": [
            "[Parallel(n_jobs=2)]: Done  12 out of  15 | elapsed:    9.3s remaining:    2.3s\n",
            "[Parallel(n_jobs=2)]: Done  15 out of  15 | elapsed:   11.8s finished\n",
            "[Parallel(n_jobs=2)]: Using backend LokyBackend with 2 concurrent workers.\n"
          ],
          "name": "stderr"
        },
        {
          "output_type": "stream",
          "text": [
            "it 7/10\n",
            "{'rep__gamma_': 100, 'rep__n_clusters_': 2, 'rep__n_neighbors_': 5, 'rep__nn_': 5}\n",
            "acc: 100.0\n",
            "ari: 100.0\n",
            "it 8/10\n",
            "Fitting 5 folds for each of 3 candidates, totalling 15 fits\n"
          ],
          "name": "stdout"
        },
        {
          "output_type": "stream",
          "text": [
            "[Parallel(n_jobs=2)]: Done  15 out of  15 | elapsed:   16.1s finished\n",
            "[Parallel(n_jobs=2)]: Using backend LokyBackend with 2 concurrent workers.\n"
          ],
          "name": "stderr"
        },
        {
          "output_type": "stream",
          "text": [
            "it 8/10\n",
            "{'rep__gamma_': 100, 'rep__n_clusters_': 2, 'rep__n_neighbors_': 5, 'rep__nn_': 5}\n",
            "acc: 100.0\n",
            "ari: 100.0\n",
            "it 9/10\n",
            "Fitting 5 folds for each of 3 candidates, totalling 15 fits\n"
          ],
          "name": "stdout"
        },
        {
          "output_type": "stream",
          "text": [
            "[Parallel(n_jobs=2)]: Done  15 out of  15 | elapsed:   11.7s finished\n",
            "[Parallel(n_jobs=2)]: Using backend LokyBackend with 2 concurrent workers.\n"
          ],
          "name": "stderr"
        },
        {
          "output_type": "stream",
          "text": [
            "it 9/10\n",
            "{'rep__gamma_': 100, 'rep__n_clusters_': 2, 'rep__n_neighbors_': 5, 'rep__nn_': 5}\n",
            "acc: 100.0\n",
            "ari: 100.0\n",
            "it 10/10\n",
            "Fitting 5 folds for each of 3 candidates, totalling 15 fits\n"
          ],
          "name": "stdout"
        },
        {
          "output_type": "stream",
          "text": [
            "[Parallel(n_jobs=2)]: Done  15 out of  15 | elapsed:   11.9s finished\n",
            "[Parallel(n_jobs=2)]: Using backend LokyBackend with 2 concurrent workers.\n",
            "[Parallel(n_jobs=2)]: Done   5 out of   5 | elapsed:    0.1s finished\n"
          ],
          "name": "stderr"
        },
        {
          "output_type": "stream",
          "text": [
            "it 10/10\n",
            "{'rep__gamma_': 100, 'rep__n_clusters_': 2, 'rep__n_neighbors_': 5, 'rep__nn_': 5}\n",
            "acc: 100.0\n",
            "ari: 100.0\n",
            "it 1/10\n",
            "Fitting 5 folds for each of 1 candidates, totalling 5 fits\n",
            "it 1/10\n",
            "{'rep__n_clusters_': 2, 'rep__nn': 5}\n",
            "acc: 57.49999999999999\n",
            "ari: -0.3157686994276681\n",
            "it 2/10\n",
            "Fitting 5 folds for each of 1 candidates, totalling 5 fits\n"
          ],
          "name": "stdout"
        },
        {
          "output_type": "stream",
          "text": [
            "[Parallel(n_jobs=2)]: Using backend LokyBackend with 2 concurrent workers.\n",
            "[Parallel(n_jobs=2)]: Done   5 out of   5 | elapsed:    0.1s finished\n",
            "[Parallel(n_jobs=2)]: Using backend LokyBackend with 2 concurrent workers.\n"
          ],
          "name": "stderr"
        },
        {
          "output_type": "stream",
          "text": [
            "it 2/10\n",
            "{'rep__n_clusters_': 2, 'rep__nn': 5}\n",
            "acc: 82.5\n",
            "ari: 40.73416222616933\n",
            "it 3/10\n",
            "Fitting 5 folds for each of 1 candidates, totalling 5 fits\n",
            "it 3/10\n",
            "{'rep__n_clusters_': 2, 'rep__nn': 5}\n",
            "acc: 67.5\n",
            "ari: 9.994082451180217\n",
            "it 4/10\n",
            "Fitting 5 folds for each of 1 candidates, totalling 5 fits\n"
          ],
          "name": "stdout"
        },
        {
          "output_type": "stream",
          "text": [
            "[Parallel(n_jobs=2)]: Done   5 out of   5 | elapsed:    0.1s finished\n",
            "[Parallel(n_jobs=2)]: Using backend LokyBackend with 2 concurrent workers.\n",
            "[Parallel(n_jobs=2)]: Done   5 out of   5 | elapsed:    0.1s finished\n",
            "[Parallel(n_jobs=2)]: Using backend LokyBackend with 2 concurrent workers.\n"
          ],
          "name": "stderr"
        },
        {
          "output_type": "stream",
          "text": [
            "it 4/10\n",
            "{'rep__n_clusters_': 2, 'rep__nn': 5}\n",
            "acc: 87.5\n",
            "ari: 55.10163805012828\n",
            "it 5/10\n",
            "Fitting 5 folds for each of 1 candidates, totalling 5 fits\n",
            "it 5/10\n",
            "{'rep__n_clusters_': 2, 'rep__nn': 5}\n",
            "acc: 77.5\n",
            "ari: 28.419182948490228\n",
            "it 6/10\n",
            "Fitting 5 folds for each of 1 candidates, totalling 5 fits\n"
          ],
          "name": "stdout"
        },
        {
          "output_type": "stream",
          "text": [
            "[Parallel(n_jobs=2)]: Done   5 out of   5 | elapsed:    0.1s finished\n",
            "[Parallel(n_jobs=2)]: Using backend LokyBackend with 2 concurrent workers.\n",
            "[Parallel(n_jobs=2)]: Done   5 out of   5 | elapsed:    0.1s finished\n",
            "[Parallel(n_jobs=2)]: Using backend LokyBackend with 2 concurrent workers.\n"
          ],
          "name": "stderr"
        },
        {
          "output_type": "stream",
          "text": [
            "it 6/10\n",
            "{'rep__n_clusters_': 2, 'rep__nn': 5}\n",
            "acc: 80.0\n",
            "ari: 34.384858044164034\n",
            "it 7/10\n",
            "Fitting 5 folds for each of 1 candidates, totalling 5 fits\n",
            "it 7/10\n",
            "{'rep__n_clusters_': 2, 'rep__nn': 5}\n",
            "acc: 75.0\n",
            "ari: 23.04656669297554\n",
            "it 8/10\n",
            "Fitting 5 folds for each of 1 candidates, totalling 5 fits\n"
          ],
          "name": "stdout"
        },
        {
          "output_type": "stream",
          "text": [
            "[Parallel(n_jobs=2)]: Done   5 out of   5 | elapsed:    0.1s finished\n",
            "[Parallel(n_jobs=2)]: Using backend LokyBackend with 2 concurrent workers.\n",
            "[Parallel(n_jobs=2)]: Done   5 out of   5 | elapsed:    0.1s finished\n",
            "[Parallel(n_jobs=2)]: Using backend LokyBackend with 2 concurrent workers.\n"
          ],
          "name": "stderr"
        },
        {
          "output_type": "stream",
          "text": [
            "it 8/10\n",
            "{'rep__n_clusters_': 2, 'rep__nn': 5}\n",
            "acc: 77.5\n",
            "ari: 28.53201970443349\n",
            "it 9/10\n",
            "Fitting 5 folds for each of 1 candidates, totalling 5 fits\n",
            "it 9/10\n",
            "{'rep__n_clusters_': 2, 'rep__nn': 5}\n",
            "acc: 80.0\n",
            "ari: 34.333070244672456\n",
            "it 10/10\n",
            "Fitting 5 folds for each of 1 candidates, totalling 5 fits\n"
          ],
          "name": "stdout"
        },
        {
          "output_type": "stream",
          "text": [
            "[Parallel(n_jobs=2)]: Done   5 out of   5 | elapsed:    0.1s finished\n",
            "[Parallel(n_jobs=2)]: Using backend LokyBackend with 2 concurrent workers.\n",
            "[Parallel(n_jobs=2)]: Done   5 out of   5 | elapsed:    0.1s finished\n",
            "[Parallel(n_jobs=2)]: Using backend LokyBackend with 2 concurrent workers.\n"
          ],
          "name": "stderr"
        },
        {
          "output_type": "stream",
          "text": [
            "it 10/10\n",
            "{'rep__n_clusters_': 2, 'rep__nn': 5}\n",
            "acc: 75.0\n",
            "ari: 23.208191126279868\n",
            "it 1/10\n",
            "Fitting 5 folds for each of 12 candidates, totalling 60 fits\n"
          ],
          "name": "stdout"
        },
        {
          "output_type": "stream",
          "text": [
            "[Parallel(n_jobs=2)]: Done  46 tasks      | elapsed:   14.7s\n",
            "[Parallel(n_jobs=2)]: Done  60 out of  60 | elapsed:   28.9s finished\n"
          ],
          "name": "stderr"
        },
        {
          "output_type": "stream",
          "text": [
            "it 1/10\n",
            "{'rep__batch_size': 64, 'rep__gamma_': 1, 'rep__lambda_': 2, 'rep__learning_rate': 0.03, 'rep__n_clusters': 2, 'rep__nn': 5, 'rep__optimization': 'Nadam', 'rep__reduction_': 'SC', 'rep__sigma_initial': 35}\n",
            "acc: 72.5\n",
            "ari: 18.156700217090982\n",
            "it 2/10\n",
            "Fitting 5 folds for each of 12 candidates, totalling 60 fits\n"
          ],
          "name": "stdout"
        },
        {
          "output_type": "stream",
          "text": [
            "[Parallel(n_jobs=2)]: Using backend LokyBackend with 2 concurrent workers.\n",
            "[Parallel(n_jobs=2)]: Done  46 tasks      | elapsed:   13.2s\n",
            "[Parallel(n_jobs=2)]: Done  60 out of  60 | elapsed:   25.8s finished\n"
          ],
          "name": "stderr"
        },
        {
          "output_type": "stream",
          "text": [
            "it 2/10\n",
            "{'rep__batch_size': 64, 'rep__gamma_': 100, 'rep__lambda_': 2, 'rep__learning_rate': 0.03, 'rep__n_clusters': 2, 'rep__nn': 5, 'rep__optimization': 'Nadam', 'rep__reduction_': 'SC', 'rep__sigma_initial': 35}\n",
            "acc: 77.5\n",
            "ari: 28.419182948490228\n",
            "it 3/10\n",
            "Fitting 5 folds for each of 12 candidates, totalling 60 fits\n"
          ],
          "name": "stdout"
        },
        {
          "output_type": "stream",
          "text": [
            "[Parallel(n_jobs=2)]: Using backend LokyBackend with 2 concurrent workers.\n",
            "[Parallel(n_jobs=2)]: Done  46 tasks      | elapsed:   14.5s\n",
            "[Parallel(n_jobs=2)]: Done  60 out of  60 | elapsed:   28.9s finished\n"
          ],
          "name": "stderr"
        },
        {
          "output_type": "stream",
          "text": [
            "it 3/10\n",
            "{'rep__batch_size': 64, 'rep__gamma_': 500, 'rep__lambda_': 2, 'rep__learning_rate': 0.03, 'rep__n_clusters': 2, 'rep__nn': 5, 'rep__optimization': 'Nadam', 'rep__reduction_': 'SC', 'rep__sigma_initial': 35}\n",
            "acc: 75.0\n",
            "ari: 23.04656669297554\n",
            "it 4/10\n",
            "Fitting 5 folds for each of 12 candidates, totalling 60 fits\n"
          ],
          "name": "stdout"
        },
        {
          "output_type": "stream",
          "text": [
            "[Parallel(n_jobs=2)]: Using backend LokyBackend with 2 concurrent workers.\n",
            "[Parallel(n_jobs=2)]: Done  46 tasks      | elapsed:   14.7s\n",
            "[Parallel(n_jobs=2)]: Done  60 out of  60 | elapsed:   31.5s finished\n"
          ],
          "name": "stderr"
        },
        {
          "output_type": "stream",
          "text": [
            "it 4/10\n",
            "{'rep__batch_size': 64, 'rep__gamma_': 500, 'rep__lambda_': 2, 'rep__learning_rate': 0.03, 'rep__n_clusters': 2, 'rep__nn': 5, 'rep__optimization': 'Nadam', 'rep__reduction_': 'SC', 'rep__sigma_initial': 35}\n",
            "acc: 80.0\n",
            "ari: 34.59119496855346\n",
            "it 5/10\n",
            "Fitting 5 folds for each of 12 candidates, totalling 60 fits\n"
          ],
          "name": "stdout"
        },
        {
          "output_type": "stream",
          "text": [
            "[Parallel(n_jobs=2)]: Using backend LokyBackend with 2 concurrent workers.\n",
            "[Parallel(n_jobs=2)]: Done  46 tasks      | elapsed:   11.3s\n",
            "[Parallel(n_jobs=2)]: Done  60 out of  60 | elapsed:   24.3s finished\n"
          ],
          "name": "stderr"
        },
        {
          "output_type": "stream",
          "text": [
            "it 5/10\n",
            "{'rep__batch_size': 64, 'rep__gamma_': 500, 'rep__lambda_': 3, 'rep__learning_rate': 0.03, 'rep__n_clusters': 2, 'rep__nn': 5, 'rep__optimization': 'Nadam', 'rep__reduction_': 'SC', 'rep__sigma_initial': 35}\n",
            "acc: 90.0\n",
            "ari: 63.09148264984227\n",
            "it 6/10\n",
            "Fitting 5 folds for each of 12 candidates, totalling 60 fits\n"
          ],
          "name": "stdout"
        },
        {
          "output_type": "stream",
          "text": [
            "[Parallel(n_jobs=2)]: Using backend LokyBackend with 2 concurrent workers.\n",
            "[Parallel(n_jobs=2)]: Done  46 tasks      | elapsed:   14.8s\n",
            "[Parallel(n_jobs=2)]: Done  60 out of  60 | elapsed:   28.7s finished\n"
          ],
          "name": "stderr"
        },
        {
          "output_type": "stream",
          "text": [
            "it 6/10\n",
            "{'rep__batch_size': 64, 'rep__gamma_': 500, 'rep__lambda_': 3, 'rep__learning_rate': 0.03, 'rep__n_clusters': 2, 'rep__nn': 5, 'rep__optimization': 'Nadam', 'rep__reduction_': 'SC', 'rep__sigma_initial': 35}\n",
            "acc: 75.0\n",
            "ari: 23.529411764705884\n",
            "it 7/10\n",
            "Fitting 5 folds for each of 12 candidates, totalling 60 fits\n"
          ],
          "name": "stdout"
        },
        {
          "output_type": "stream",
          "text": [
            "[Parallel(n_jobs=2)]: Using backend LokyBackend with 2 concurrent workers.\n",
            "[Parallel(n_jobs=2)]: Done  46 tasks      | elapsed:   14.7s\n",
            "[Parallel(n_jobs=2)]: Done  60 out of  60 | elapsed:   29.3s finished\n"
          ],
          "name": "stderr"
        },
        {
          "output_type": "stream",
          "text": [
            "it 7/10\n",
            "{'rep__batch_size': 64, 'rep__gamma_': 1, 'rep__lambda_': 2, 'rep__learning_rate': 0.03, 'rep__n_clusters': 2, 'rep__nn': 5, 'rep__optimization': 'Nadam', 'rep__reduction_': 'SC', 'rep__sigma_initial': 35}\n",
            "acc: 80.0\n",
            "ari: 34.470989761092156\n",
            "it 8/10\n",
            "Fitting 5 folds for each of 12 candidates, totalling 60 fits\n"
          ],
          "name": "stdout"
        },
        {
          "output_type": "stream",
          "text": [
            "[Parallel(n_jobs=2)]: Using backend LokyBackend with 2 concurrent workers.\n",
            "[Parallel(n_jobs=2)]: Done  46 tasks      | elapsed:   12.2s\n",
            "[Parallel(n_jobs=2)]: Done  60 out of  60 | elapsed:   26.8s finished\n"
          ],
          "name": "stderr"
        },
        {
          "output_type": "stream",
          "text": [
            "it 8/10\n",
            "{'rep__batch_size': 64, 'rep__gamma_': 100, 'rep__lambda_': 3, 'rep__learning_rate': 0.03, 'rep__n_clusters': 2, 'rep__nn': 5, 'rep__optimization': 'Nadam', 'rep__reduction_': 'SC', 'rep__sigma_initial': 35}\n",
            "acc: 72.5\n",
            "ari: 18.156700217090982\n",
            "it 9/10\n",
            "Fitting 5 folds for each of 12 candidates, totalling 60 fits\n"
          ],
          "name": "stdout"
        },
        {
          "output_type": "stream",
          "text": [
            "[Parallel(n_jobs=2)]: Using backend LokyBackend with 2 concurrent workers.\n",
            "[Parallel(n_jobs=2)]: Done  46 tasks      | elapsed:   14.7s\n",
            "[Parallel(n_jobs=2)]: Done  60 out of  60 | elapsed:   30.6s finished\n"
          ],
          "name": "stderr"
        },
        {
          "output_type": "stream",
          "text": [
            "it 9/10\n",
            "{'rep__batch_size': 64, 'rep__gamma_': 100, 'rep__lambda_': 2, 'rep__learning_rate': 0.03, 'rep__n_clusters': 2, 'rep__nn': 5, 'rep__optimization': 'Nadam', 'rep__reduction_': 'SC', 'rep__sigma_initial': 35}\n",
            "acc: 75.0\n",
            "ari: 23.02631578947368\n",
            "it 10/10\n",
            "Fitting 5 folds for each of 12 candidates, totalling 60 fits\n"
          ],
          "name": "stdout"
        },
        {
          "output_type": "stream",
          "text": [
            "[Parallel(n_jobs=2)]: Using backend LokyBackend with 2 concurrent workers.\n",
            "[Parallel(n_jobs=2)]: Done  46 tasks      | elapsed:   14.7s\n",
            "[Parallel(n_jobs=2)]: Done  60 out of  60 | elapsed:   29.4s finished\n"
          ],
          "name": "stderr"
        },
        {
          "output_type": "stream",
          "text": [
            "it 10/10\n",
            "{'rep__batch_size': 64, 'rep__gamma_': 500, 'rep__lambda_': 2, 'rep__learning_rate': 0.03, 'rep__n_clusters': 2, 'rep__nn': 5, 'rep__optimization': 'Nadam', 'rep__reduction_': 'SC', 'rep__sigma_initial': 35}\n",
            "acc: 82.5\n",
            "ari: 40.82758620689655\n"
          ],
          "name": "stdout"
        }
      ]
    },
    {
      "cell_type": "code",
      "metadata": {
        "id": "UivX0t1WYwSN",
        "colab_type": "code",
        "colab": {}
      },
      "source": [
        "namefile = str(datetime.now().strftime(\"%Y_%m_%d_%H_%M_%d\"))+'__results'\n",
        "shutil.make_archive(namefile, 'zip', '/content/PRI')\n",
        "files.download(namefile+'.zip')"
      ],
      "execution_count": 0,
      "outputs": []
    },
    {
      "cell_type": "code",
      "metadata": {
        "id": "0NgmDjJZP93f",
        "colab_type": "code",
        "colab": {}
      },
      "source": [
        "y7"
      ],
      "execution_count": 0,
      "outputs": []
    },
    {
      "cell_type": "code",
      "metadata": {
        "id": "6qxmbeCV06lL",
        "colab_type": "code",
        "colab": {}
      },
      "source": [
        ""
      ],
      "execution_count": 0,
      "outputs": []
    }
  ]
}