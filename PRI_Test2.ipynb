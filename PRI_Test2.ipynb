{
  "nbformat": 4,
  "nbformat_minor": 0,
  "metadata": {
    "colab": {
      "name": "PRI_Test2.ipynb",
      "provenance": [],
      "toc_visible": true,
      "authorship_tag": "ABX9TyPwEItYEvcWyqtDHumdKyqZ",
      "include_colab_link": true
    },
    "kernelspec": {
      "name": "python3",
      "display_name": "Python 3"
    }
  },
  "cells": [
    {
      "cell_type": "markdown",
      "metadata": {
        "id": "view-in-github",
        "colab_type": "text"
      },
      "source": [
        "<a href=\"https://colab.research.google.com/github/Bryan0122/PRI/blob/master/PRI_Test2.ipynb\" target=\"_parent\"><img src=\"https://colab.research.google.com/assets/colab-badge.svg\" alt=\"Open In Colab\"/></a>"
      ]
    },
    {
      "cell_type": "markdown",
      "metadata": {
        "id": "aduslBknuJKV",
        "colab_type": "text"
      },
      "source": [
        "**Cargar Funciones y bases de datos**"
      ]
    },
    {
      "cell_type": "code",
      "metadata": {
        "id": "WyHPqKIOtMLI",
        "colab_type": "code",
        "outputId": "337673a4-fb2c-48ae-e2a8-44d8a0a4abff",
        "colab": {
          "base_uri": "https://localhost:8080/",
          "height": 728
        }
      },
      "source": [
        "#https://drive.google.com/file/d/1_7TT83TiGF1Dnr--2iAfJqNj_Q3se_AL/view?usp=sharing\n",
        "#https://drive.google.com/open?id=1Swni4KqUe9gu3enPqBQUH4aYl0PRxzDH\n",
        "#id del archivo: 1Swni4KqUe9gu3enPqBQUH4aYl0PRxzDH\n",
        "FILEID = \"1Swni4KqUe9gu3enPqBQUH4aYl0PRxzDH\"\n",
        "!wget --load-cookies /tmp/cookies.txt \"https://docs.google.com/uc?export=download&confirm=$(wget --quiet --save-cookies /tmp/cookies.txt --keep-session-cookies --no-check-certificate 'https://docs.google.com/uc?export=download&id='$FILEID -O- | sed -rn 's/.*confirm=([0-9A-Za-z_]+).*/\\1\\n/p')&id=\"$FILEID -O codigos.zip && rm -rf /tmp/cookies.txt\n",
        "!unzip codigos.zip\n",
        "!dir\n",
        "!pip install mne==0.19"
      ],
      "execution_count": 1,
      "outputs": [
        {
          "output_type": "stream",
          "text": [
            "--2020-05-08 22:24:22--  https://docs.google.com/uc?export=download&confirm=&id=1Swni4KqUe9gu3enPqBQUH4aYl0PRxzDH\n",
            "Resolving docs.google.com (docs.google.com)... 173.194.216.100, 173.194.216.139, 173.194.216.138, ...\n",
            "Connecting to docs.google.com (docs.google.com)|173.194.216.100|:443... connected.\n",
            "HTTP request sent, awaiting response... 302 Moved Temporarily\n",
            "Location: https://doc-00-1c-docs.googleusercontent.com/docs/securesc/r7bpeep51u4umtht69eiraikm1ucpctg/n3t0vecq9f47ms32bbu4qk7eafl191es/1588976625000/11146100322577758036/00728623139431254748Z/1Swni4KqUe9gu3enPqBQUH4aYl0PRxzDH?e=download [following]\n",
            "--2020-05-08 22:24:22--  https://doc-00-1c-docs.googleusercontent.com/docs/securesc/r7bpeep51u4umtht69eiraikm1ucpctg/n3t0vecq9f47ms32bbu4qk7eafl191es/1588976625000/11146100322577758036/00728623139431254748Z/1Swni4KqUe9gu3enPqBQUH4aYl0PRxzDH?e=download\n",
            "Resolving doc-00-1c-docs.googleusercontent.com (doc-00-1c-docs.googleusercontent.com)... 172.217.204.132, 2607:f8b0:400c:c15::84\n",
            "Connecting to doc-00-1c-docs.googleusercontent.com (doc-00-1c-docs.googleusercontent.com)|172.217.204.132|:443... connected.\n",
            "HTTP request sent, awaiting response... 302 Found\n",
            "Location: https://docs.google.com/nonceSigner?nonce=ududqnacsf5uo&continue=https://doc-00-1c-docs.googleusercontent.com/docs/securesc/r7bpeep51u4umtht69eiraikm1ucpctg/n3t0vecq9f47ms32bbu4qk7eafl191es/1588976625000/11146100322577758036/00728623139431254748Z/1Swni4KqUe9gu3enPqBQUH4aYl0PRxzDH?e%3Ddownload&hash=hg70i3akcgrsvr8f74ai4apd477nqon8 [following]\n",
            "--2020-05-08 22:24:22--  https://docs.google.com/nonceSigner?nonce=ududqnacsf5uo&continue=https://doc-00-1c-docs.googleusercontent.com/docs/securesc/r7bpeep51u4umtht69eiraikm1ucpctg/n3t0vecq9f47ms32bbu4qk7eafl191es/1588976625000/11146100322577758036/00728623139431254748Z/1Swni4KqUe9gu3enPqBQUH4aYl0PRxzDH?e%3Ddownload&hash=hg70i3akcgrsvr8f74ai4apd477nqon8\n",
            "Connecting to docs.google.com (docs.google.com)|173.194.216.100|:443... connected.\n",
            "HTTP request sent, awaiting response... 302 Found\n",
            "Location: https://doc-00-1c-docs.googleusercontent.com/docs/securesc/r7bpeep51u4umtht69eiraikm1ucpctg/n3t0vecq9f47ms32bbu4qk7eafl191es/1588976625000/11146100322577758036/00728623139431254748Z/1Swni4KqUe9gu3enPqBQUH4aYl0PRxzDH?e=download&nonce=ududqnacsf5uo&user=00728623139431254748Z&hash=9lkrtjkrb31vui8i8a40c8qttvap8etn [following]\n",
            "--2020-05-08 22:24:22--  https://doc-00-1c-docs.googleusercontent.com/docs/securesc/r7bpeep51u4umtht69eiraikm1ucpctg/n3t0vecq9f47ms32bbu4qk7eafl191es/1588976625000/11146100322577758036/00728623139431254748Z/1Swni4KqUe9gu3enPqBQUH4aYl0PRxzDH?e=download&nonce=ududqnacsf5uo&user=00728623139431254748Z&hash=9lkrtjkrb31vui8i8a40c8qttvap8etn\n",
            "Connecting to doc-00-1c-docs.googleusercontent.com (doc-00-1c-docs.googleusercontent.com)|172.217.204.132|:443... connected.\n",
            "HTTP request sent, awaiting response... 200 OK\n",
            "Length: 138328 (135K) [application/x-zip-compressed]\n",
            "Saving to: ‘codigos.zip’\n",
            "\n",
            "codigos.zip         100%[===================>] 135.09K  --.-KB/s    in 0.002s  \n",
            "\n",
            "2020-05-08 22:24:23 (85.7 MB/s) - ‘codigos.zip’ saved [138328/138328]\n",
            "\n",
            "Archive:  codigos.zip\n",
            "  inflating: PRI/algebra_validation.py  \n",
            "  inflating: PRI/DB.mat              \n",
            "  inflating: PRI/DB2.joblib          \n",
            " extracting: PRI/image.PNG           \n",
            "  inflating: PRI/main_functions.py   \n",
            "codigos.zip  PRI  sample_data\n",
            "Collecting mne==0.19\n",
            "\u001b[?25l  Downloading https://files.pythonhosted.org/packages/f5/44/b5b96426623c9dca0dfcdcfdf1f57058bb668f7c1a01bed0b0b867eb8b92/mne-0.19.0-py3-none-any.whl (6.4MB)\n",
            "\u001b[K     |████████████████████████████████| 6.4MB 2.5MB/s \n",
            "\u001b[?25hRequirement already satisfied: numpy>=1.11.3 in /usr/local/lib/python3.6/dist-packages (from mne==0.19) (1.18.4)\n",
            "Requirement already satisfied: scipy>=0.17.1 in /usr/local/lib/python3.6/dist-packages (from mne==0.19) (1.4.1)\n",
            "Installing collected packages: mne\n",
            "Successfully installed mne-0.19.0\n"
          ],
          "name": "stdout"
        }
      ]
    },
    {
      "cell_type": "markdown",
      "metadata": {
        "id": "lxmAGu1euMyB",
        "colab_type": "text"
      },
      "source": [
        "**Añadir Carpeta de funciones y bases de datos**"
      ]
    },
    {
      "cell_type": "code",
      "metadata": {
        "id": "VCGV0wDBtQF9",
        "colab_type": "code",
        "colab": {}
      },
      "source": [
        "import os\n",
        "import sys\n",
        "Path='/content/PRI'\n",
        "sys.path.append(Path)\n",
        "DB = os.path.join(Path, 'DB')"
      ],
      "execution_count": 0,
      "outputs": []
    },
    {
      "cell_type": "markdown",
      "metadata": {
        "id": "ZdmLk-ZCuYs8",
        "colab_type": "text"
      },
      "source": [
        "**Cargar librerias**"
      ]
    },
    {
      "cell_type": "code",
      "metadata": {
        "id": "bM8J7_D_tSMc",
        "colab_type": "code",
        "colab": {}
      },
      "source": [
        "import cv2\n",
        "import time\n",
        "import shutil\n",
        "import numpy as np\n",
        "import math as math\n",
        "import scipy.io as sio\n",
        "from sklearn import datasets\n",
        "from joblib import dump,load\n",
        "from main_functions import *\n",
        "from google.colab import files\n",
        "import matplotlib.pyplot as plt\n",
        "from scipy.spatial import distance\n",
        "from datetime import date, datetime\n",
        "from sklearn.pipeline import Pipeline\n",
        "from scipy.spatial.distance import cdist\n",
        "from sklearn.metrics import accuracy_score,confusion_matrix\n",
        "from sklearn.model_selection import GridSearchCV\n",
        "from sklearn.model_selection import train_test_split\n",
        "from sklearn.cluster import KMeans, SpectralClustering\n",
        "from sklearn.metrics.cluster import adjusted_rand_score\n",
        "from sklearn.base import BaseEstimator, TransformerMixin, ClusterMixin"
      ],
      "execution_count": 0,
      "outputs": []
    },
    {
      "cell_type": "markdown",
      "metadata": {
        "id": "LmnmmnK8wwp1",
        "colab_type": "text"
      },
      "source": [
        "## **Sin ruido**\n",
        "**Validacion de la metodologia**"
      ]
    },
    {
      "cell_type": "markdown",
      "metadata": {
        "id": "orv4JWAJucx7",
        "colab_type": "text"
      },
      "source": [
        "**Happy**"
      ]
    },
    {
      "cell_type": "code",
      "metadata": {
        "id": "6eqmgxIMtT50",
        "colab_type": "code",
        "outputId": "bd7931d9-4622-4359-a932-b9dd5378f17e",
        "colab": {
          "base_uri": "https://localhost:8080/",
          "height": 283
        }
      },
      "source": [
        "data = sio.loadmat(DB)['DB'][0, 0]\n",
        "happy = data['happy']\n",
        "sc = SpectralClustering(n_clusters=3, n_neighbors=5, gamma = 1000)\n",
        "sc.fit(happy)\n",
        "labels_happy = sc.labels_\n",
        "plt.scatter(happy[:,0],happy[:,1],c=labels_happy)"
      ],
      "execution_count": 4,
      "outputs": [
        {
          "output_type": "execute_result",
          "data": {
            "text/plain": [
              "<matplotlib.collections.PathCollection at 0x7f8d1d848d68>"
            ]
          },
          "metadata": {
            "tags": []
          },
          "execution_count": 4
        },
        {
          "output_type": "display_data",
          "data": {
            "image/png": "[encoded data removed]",
            "text/plain": [
              "<Figure size 432x288 with 1 Axes>"
            ]
          },
          "metadata": {
            "tags": [],
            "needs_background": "light"
          }
        }
      ]
    },
    {
      "cell_type": "markdown",
      "metadata": {
        "id": "hKWu7Iw0uewc",
        "colab_type": "text"
      },
      "source": [
        "**Crear conjunto de train y test**"
      ]
    },
    {
      "cell_type": "code",
      "metadata": {
        "id": "94LyejtvtXDk",
        "colab_type": "code",
        "colab": {}
      },
      "source": [
        "X_train, X_test, y_train, y_test = train_test_split(\n",
        "    happy, labels_happy, test_size=0.2, stratify=labels_happy)"
      ],
      "execution_count": 0,
      "outputs": []
    },
    {
      "cell_type": "markdown",
      "metadata": {
        "id": "ZJcE5AMQuiSM",
        "colab_type": "text"
      },
      "source": [
        "# **Punto Fijo**"
      ]
    },
    {
      "cell_type": "markdown",
      "metadata": {
        "id": "ADKSsCjkvolF",
        "colab_type": "text"
      },
      "source": [
        "**Reduccion con Kmeans**"
      ]
    },
    {
      "cell_type": "code",
      "metadata": {
        "id": "a60nQF0Xvosc",
        "colab_type": "code",
        "outputId": "785a43a6-f9b1-4158-8b7d-b4b127c1df21",
        "colab": {
          "base_uri": "https://localhost:8080/",
          "height": 301
        }
      },
      "source": [
        "t = time.time()\n",
        "p = PRI(lambda_=5, n_clusters=3, nn=5, sigma_initial=25,reduction_='Kmeans')\n",
        "p.fit(X_train, y_train)\n",
        "labels_pre_FP = p.predict(X_test)\n",
        "print('el tiempo requerido fue:'+ str(time.time() - t)+'sg')\n",
        "plt.scatter(X_train[:, 0], X_train[:, 1], c=y_train, marker='.')\n",
        "plt.scatter(X_test[:, 0], X_test[:, 1], c=labels_pre_FP, marker='D',s=68)\n",
        "Rari_FP=adjusted_rand_score(y_test,labels_pre_FP)\n",
        "Racc_FP=accuracy_score(y_test,labels_pre_FP)\n",
        "print('Ari: '+str(Rari_FP)+' y'+' accuracy: '+str(Racc_FP))"
      ],
      "execution_count": 50,
      "outputs": [
        {
          "output_type": "stream",
          "text": [
            "el tiempo requerido fue:1.5095760822296143sg\n",
            "Ari: 0.3866953538407862 y accuracy: 0.7407407407407407\n"
          ],
          "name": "stdout"
        },
        {
          "output_type": "display_data",
          "data": {
            "image/png": "[encoded data removed]",
            "text/plain": [
              "<Figure size 432x288 with 1 Axes>"
            ]
          },
          "metadata": {
            "tags": [],
            "needs_background": "light"
          }
        }
      ]
    },
    {
      "cell_type": "markdown",
      "metadata": {
        "id": "nhy1hgpovo1V",
        "colab_type": "text"
      },
      "source": [
        "****Reduccion con Spectral Clustering****"
      ]
    },
    {
      "cell_type": "code",
      "metadata": {
        "id": "fIGQX4F3tX_c",
        "colab_type": "code",
        "outputId": "1b3ea3d6-db5f-4241-9b26-c1c88d90274d",
        "colab": {
          "base_uri": "https://localhost:8080/",
          "height": 301
        }
      },
      "source": [
        "t = time.time()\n",
        "p = PRI(lambda_=5, n_clusters=3, nn=5, sigma_initial=25,reduction_='SC',gamma_=500)\n",
        "p.fit(X_train, y_train)\n",
        "labels_pre_FP = p.predict(X_test)\n",
        "print('el tiempo requerido fue:'+ str(time.time() - t)+'sg')\n",
        "plt.scatter(X_train[:, 0], X_train[:, 1], c=y_train, marker='.')\n",
        "plt.scatter(X_test[:, 0], X_test[:, 1], c=labels_pre_FP, marker='D',s=68)\n",
        "Rari_FP=adjusted_rand_score(y_test,labels_pre_FP)\n",
        "Racc_FP=accuracy_score(y_test,labels_pre_FP)\n",
        "print('Ari: '+str(Rari_FP)+' y'+' accuracy: '+str(Racc_FP))"
      ],
      "execution_count": 9,
      "outputs": [
        {
          "output_type": "stream",
          "text": [
            "el tiempo requerido fue:1.8694777488708496sg\n",
            "Ari: 1.0 y accuracy: 1.0\n"
          ],
          "name": "stdout"
        },
        {
          "output_type": "display_data",
          "data": {
            "image/png": "[encoded data removed]",
            "text/plain": [
              "<Figure size 432x288 with 1 Axes>"
            ]
          },
          "metadata": {
            "tags": [],
            "needs_background": "light"
          }
        }
      ]
    },
    {
      "cell_type": "markdown",
      "metadata": {
        "id": "kt3Ab_chvKJm",
        "colab_type": "text"
      },
      "source": [
        "**SGD**"
      ]
    },
    {
      "cell_type": "code",
      "metadata": {
        "id": "IO1tXF_gvEp9",
        "colab_type": "code",
        "outputId": "18f4d416-b688-4a57-8af6-72526aa6cb34",
        "colab": {
          "base_uri": "https://localhost:8080/",
          "height": 301
        }
      },
      "source": [
        "t = time.time()\n",
        "p = MiniBatchPRI(lambda_=3, sigma_initial=40,learning_rate=0.001,reduction_='SC',gamma_=500,n_clusters=3)\n",
        "p.fit(X_train, y_train)\n",
        "labels_pre_SGD = p.predict(X_test)\n",
        "print('el tiempo requerido fue:'+ str(time.time() - t)+'sg')\n",
        "plt.scatter(X_train[:, 0], X_train[:, 1], c=y_train, marker='.')\n",
        "plt.scatter(X_test[:, 0], X_test[:, 1], c=labels_pre_SGD, marker='D',s=68)\n",
        "Rari_SGD=adjusted_rand_score(y_test,labels_pre_SGD)\n",
        "Racc_SGD=accuracy_score(y_test,labels_pre_SGD)\n",
        "print('Ari: '+str(Rari_SGD)+' y'+' accuracy: '+str(Racc_SGD))"
      ],
      "execution_count": 28,
      "outputs": [
        {
          "output_type": "stream",
          "text": [
            "el tiempo requerido fue:1.0721418857574463sg\n",
            "Ari: 1.0 y accuracy: 1.0\n"
          ],
          "name": "stdout"
        },
        {
          "output_type": "display_data",
          "data": {
            "image/png": "[encoded data removed]",
            "text/plain": [
              "<Figure size 432x288 with 1 Axes>"
            ]
          },
          "metadata": {
            "tags": [],
            "needs_background": "light"
          }
        }
      ]
    },
    {
      "cell_type": "markdown",
      "metadata": {
        "id": "5KxAavDwvZH-",
        "colab_type": "text"
      },
      "source": [
        "**Adam**"
      ]
    },
    {
      "cell_type": "code",
      "metadata": {
        "id": "EnZrcKW4vPz7",
        "colab_type": "code",
        "outputId": "73fefc42-a0f7-41c1-f133-bd5a74efeaa3",
        "colab": {
          "base_uri": "https://localhost:8080/",
          "height": 301
        }
      },
      "source": [
        "t = time.time()\n",
        "p = MiniBatchPRI(lambda_=3, sigma_initial=40,learning_rate=0.003,optimization='Adam',reduction_='SC',gamma_=500)\n",
        "p.fit(X_train, y_train)\n",
        "labels_pre_SGDA = p.predict(X_test)\n",
        "print('el tiempo requerido fue:'+ str(time.time() - t)+'sg')\n",
        "plt.scatter(X_train[:, 0], X_train[:, 1], c=y_train, marker='.')\n",
        "plt.scatter(X_test[:, 0], X_test[:, 1], c=labels_pre_SGDA, marker='D',s=68)\n",
        "Rari_SGDA=adjusted_rand_score(y_test,labels_pre_SGDA)\n",
        "Racc_SGDA=accuracy_score(y_test,labels_pre_SGDA)\n",
        "print('Ari: '+str(Rari_SGDA)+' y'+' accuracy: '+str(Racc_SGDA))"
      ],
      "execution_count": 37,
      "outputs": [
        {
          "output_type": "stream",
          "text": [
            "el tiempo requerido fue:1.0941736698150635sg\n",
            "Ari: 1.0 y accuracy: 1.0\n"
          ],
          "name": "stdout"
        },
        {
          "output_type": "display_data",
          "data": {
            "image/png": "[encoded data removed]",
            "text/plain": [
              "<Figure size 432x288 with 1 Axes>"
            ]
          },
          "metadata": {
            "tags": [],
            "needs_background": "light"
          }
        }
      ]
    },
    {
      "cell_type": "markdown",
      "metadata": {
        "id": "LUnbiU6ZvgAE",
        "colab_type": "text"
      },
      "source": [
        "**Nadam**"
      ]
    },
    {
      "cell_type": "code",
      "metadata": {
        "id": "m0wze-WdveRy",
        "colab_type": "code",
        "outputId": "cdcebaf1-d2d1-4dea-c795-97dc040e91a3",
        "colab": {
          "base_uri": "https://localhost:8080/",
          "height": 301
        }
      },
      "source": [
        "t = time.time()\n",
        "p = MiniBatchPRI(lambda_=3, sigma_initial=40,learning_rate=0.002,optimization='Nadam',reduction_='SC',gamma_=500)\n",
        "p.fit(X_train, y_train)\n",
        "labels_pre_SGDA = p.predict(X_test)\n",
        "print('el tiempo requerido fue:'+ str(time.time() - t)+'sg')\n",
        "plt.scatter(X_train[:, 0], X_train[:, 1], c=y_train, marker='.')\n",
        "plt.scatter(X_test[:, 0], X_test[:, 1], c=labels_pre_SGDA, marker='D',s=68)\n",
        "Rari_SGDA=adjusted_rand_score(y_test,labels_pre_SGDA)\n",
        "Racc_SGDA=accuracy_score(y_test,labels_pre_SGDA)\n",
        "print('Ari: '+str(Rari_SGDA)+' y'+' accuracy: '+str(Racc_SGDA))"
      ],
      "execution_count": 43,
      "outputs": [
        {
          "output_type": "stream",
          "text": [
            "el tiempo requerido fue:1.091156005859375sg\n",
            "Ari: 1.0 y accuracy: 1.0\n"
          ],
          "name": "stdout"
        },
        {
          "output_type": "display_data",
          "data": {
            "image/png": "[encoded data removed]",
            "text/plain": [
              "<Figure size 432x288 with 1 Axes>"
            ]
          },
          "metadata": {
            "tags": [],
            "needs_background": "light"
          }
        }
      ]
    },
    {
      "cell_type": "markdown",
      "metadata": {
        "id": "Qz_ecYfBwmDe",
        "colab_type": "text"
      },
      "source": [
        "**Kmeans**"
      ]
    },
    {
      "cell_type": "code",
      "metadata": {
        "id": "nUUaaKavvjsL",
        "colab_type": "code",
        "outputId": "2d8c9b38-b3fa-4146-af4e-cbb05ed19def",
        "colab": {
          "base_uri": "https://localhost:8080/",
          "height": 301
        }
      },
      "source": [
        "t = time.time()\n",
        "p = Kmeans( n_clusters_=3)\n",
        "p.fit(X_train, y_train)\n",
        "labels_pre_Km= p.predict(X_test)\n",
        "print('el tiempo requerido fue:'+ str(time.time() - t)+'sg')\n",
        "plt.scatter(X_train[:, 0], X_train[:, 1], c=y_train, marker='.')\n",
        "plt.scatter(X_test[:, 0], X_test[:, 1], c=labels_pre_Km, marker='D',s=68)\n",
        "Rari_Km=adjusted_rand_score(y_test,labels_pre_Km)\n",
        "Racc_Km=accuracy_score(y_test,labels_pre_Km)\n",
        "print('Ari: '+str(Rari_Km)+' y'+' accuracy: '+str(Racc_Km))"
      ],
      "execution_count": 45,
      "outputs": [
        {
          "output_type": "stream",
          "text": [
            "el tiempo requerido fue:0.04242753982543945sg\n",
            "Ari: 0.3866953538407862 y accuracy: 0.7407407407407407\n"
          ],
          "name": "stdout"
        },
        {
          "output_type": "display_data",
          "data": {
            "image/png": "[encoded data removed]",
            "text/plain": [
              "<Figure size 432x288 with 1 Axes>"
            ]
          },
          "metadata": {
            "tags": [],
            "needs_background": "light"
          }
        }
      ]
    },
    {
      "cell_type": "markdown",
      "metadata": {
        "id": "YitdK-HWwqHF",
        "colab_type": "text"
      },
      "source": [
        "**Spectral Clustering**"
      ]
    },
    {
      "cell_type": "code",
      "metadata": {
        "id": "ROmo1q3_wn48",
        "colab_type": "code",
        "outputId": "f9650e63-a961-4f96-9146-b821e2f64357",
        "colab": {
          "base_uri": "https://localhost:8080/",
          "height": 301
        }
      },
      "source": [
        "t = time.time()\n",
        "p = SC(n_clusters_=3, gamma_=500, n_neighbors_=5, nn=3)\n",
        "p.fit(X_train, y_train)\n",
        "labels_pre_SC = p.predict(X_test)\n",
        "print('el tiempo requerido fue:'+ str(time.time() - t)+'sg')\n",
        "plt.scatter(X_train[:, 0], X_train[:, 1], c=y_train, marker='.')\n",
        "plt.scatter(X_test[:, 0], X_test[:, 1], c=labels_pre_SC, marker='D',s=68)\n",
        "Rari_SC=adjusted_rand_score(y_test,labels_pre_SC)\n",
        "Racc_SC=accuracy_score(y_test,labels_pre_SC)\n",
        "print('Ari: '+str(Rari_SC)+' y'+' accuracy: '+str(Racc_SC))"
      ],
      "execution_count": 51,
      "outputs": [
        {
          "output_type": "stream",
          "text": [
            "el tiempo requerido fue:0.059571266174316406sg\n",
            "Ari: 1.0 y accuracy: 1.0\n"
          ],
          "name": "stdout"
        },
        {
          "output_type": "display_data",
          "data": {
            "image/png": "[encoded data removed]",
            "text/plain": [
              "<Figure size 432x288 with 1 Axes>"
            ]
          },
          "metadata": {
            "tags": [],
            "needs_background": "light"
          }
        }
      ]
    },
    {
      "cell_type": "markdown",
      "metadata": {
        "id": "sNjyiByLxCCl",
        "colab_type": "text"
      },
      "source": [
        "## **Con ruido**\n"
      ]
    },
    {
      "cell_type": "markdown",
      "metadata": {
        "id": "bevnbO4SxJOW",
        "colab_type": "text"
      },
      "source": [
        "**happy**"
      ]
    },
    {
      "cell_type": "code",
      "metadata": {
        "id": "jfMLDKUv7NWB",
        "colab_type": "code",
        "colab": {
          "base_uri": "https://localhost:8080/",
          "height": 283
        },
        "outputId": "e17f658c-57bd-4647-f14f-62e2219cef5a"
      },
      "source": [
        "# Set a target SNR\n",
        "target_snr_db =30\n",
        "# Calculate signal power and convert to dB \n",
        "avg_happy = np.mean(happy)\n",
        "avg_db = 10 * np.log10(avg_happy)\n",
        "# Calculate noise according to [2] then convert to watts\n",
        "avg_db = avg_db - target_snr_db\n",
        "noise_avg_watts = 10 ** (avg_db / 10)\n",
        "# Generate an sample of white noise\n",
        "mean_noise = 0\n",
        "noise_volts = np.random.normal(mean_noise, np.sqrt(noise_avg_watts),happy.shape)\n",
        "noisy_happy=happy+noise_volts\n",
        "plt.scatter(noisy_happy[:,0],noisy_happy[:,1],c=labels_happy)"
      ],
      "execution_count": 113,
      "outputs": [
        {
          "output_type": "execute_result",
          "data": {
            "text/plain": [
              "<matplotlib.collections.PathCollection at 0x7f95c2b1d048>"
            ]
          },
          "metadata": {
            "tags": []
          },
          "execution_count": 113
        },
        {
          "output_type": "display_data",
          "data": {
            "image/png": "[encoded data removed]",
            "text/plain": [
              "<Figure size 432x288 with 1 Axes>"
            ]
          },
          "metadata": {
            "tags": [],
            "needs_background": "light"
          }
        }
      ]
    },
    {
      "cell_type": "markdown",
      "metadata": {
        "id": "BboJVPNo9hqH",
        "colab_type": "text"
      },
      "source": [
        "**Prueba**"
      ]
    },
    {
      "cell_type": "code",
      "metadata": {
        "id": "Ovfjigb18mu6",
        "colab_type": "code",
        "colab": {}
      },
      "source": [
        "X_train, X_test, y_train, y_test = train_test_split(\n",
        "    noisy_happy, labels_happy, test_size=0.2, stratify=labels_happy)"
      ],
      "execution_count": 0,
      "outputs": []
    },
    {
      "cell_type": "markdown",
      "metadata": {
        "id": "YlW1dtgAC_jx",
        "colab_type": "text"
      },
      "source": [
        "**FP**"
      ]
    },
    {
      "cell_type": "code",
      "metadata": {
        "id": "ckWQS6He8_UQ",
        "colab_type": "code",
        "colab": {
          "base_uri": "https://localhost:8080/",
          "height": 374
        },
        "outputId": "84f8b641-154f-485f-c702-b469310b17f0"
      },
      "source": [
        "t = time.time()\n",
        "p = PRI(lambda_=3, n_clusters=3, nn=5, sigma_initial=2,reduction_='SC',gamma_=500)\n",
        "p.fit(X_train, y_train)\n",
        "labels_pre_FP = p.predict(X_test)\n",
        "print('el tiempo requerido fue:'+ str(time.time() - t)+'sg')\n",
        "plt.scatter(X_train[:, 0], X_train[:, 1], c=y_train, marker='.')\n",
        "plt.scatter(X_test[:, 0], X_test[:, 1], c=labels_pre_FP, marker='D',s=68)\n",
        "Rari_FP=adjusted_rand_score(y_test,labels_pre_FP)\n",
        "Racc_FP=accuracy_score(y_test,labels_pre_FP)\n",
        "print('Ari: '+str(Rari_FP)+' y'+' accuracy: '+str(Racc_FP))"
      ],
      "execution_count": 126,
      "outputs": [
        {
          "output_type": "stream",
          "text": [
            "/content/PRI/main_functions.py:299: RuntimeWarning: divide by zero encountered in log\n",
            "  A = -np.log((1 / N * No) * K1)\n",
            "/content/PRI/main_functions.py:299: RuntimeWarning: divide by zero encountered in log\n",
            "  A = -np.log((1 / N * No) * K1)\n"
          ],
          "name": "stderr"
        },
        {
          "output_type": "stream",
          "text": [
            "el tiempo requerido fue:3.5322482585906982sg\n",
            "Ari: 0.6310246340592645 y accuracy: 0.8703703703703703\n"
          ],
          "name": "stdout"
        },
        {
          "output_type": "display_data",
          "data": {
            "image/png": "[encoded data removed]",
            "text/plain": [
              "<Figure size 432x288 with 1 Axes>"
            ]
          },
          "metadata": {
            "tags": [],
            "needs_background": "light"
          }
        }
      ]
    },
    {
      "cell_type": "markdown",
      "metadata": {
        "id": "3bx6SLKCDCCu",
        "colab_type": "text"
      },
      "source": [
        "**SGD**"
      ]
    },
    {
      "cell_type": "code",
      "metadata": {
        "id": "H8is6m2hC5yL",
        "colab_type": "code",
        "colab": {
          "base_uri": "https://localhost:8080/",
          "height": 301
        },
        "outputId": "928d6b06-732f-4eed-9729-6bc6dd2d91bb"
      },
      "source": [
        "t = time.time()\n",
        "p = MiniBatchPRI(lambda_=3, sigma_initial=40,learning_rate=0.001,reduction_='SC',n_clusters=3,gamma_=500,nn=5)\n",
        "p.fit(X_train, y_train)\n",
        "labels_pre_SGD = p.predict(X_test)\n",
        "print('el tiempo requerido fue:'+ str(time.time() - t)+'sg')\n",
        "plt.scatter(X_train[:, 0], X_train[:, 1], c=y_train, marker='.')\n",
        "plt.scatter(X_test[:, 0], X_test[:, 1], c=labels_pre_SGD, marker='D',s=68)\n",
        "Rari_SGD=adjusted_rand_score(y_test,labels_pre_SGD)\n",
        "Racc_SGD=accuracy_score(y_test,labels_pre_SGD)\n",
        "print('Ari: '+str(Rari_SGD)+' y'+' accuracy: '+str(Racc_SGD))"
      ],
      "execution_count": 128,
      "outputs": [
        {
          "output_type": "stream",
          "text": [
            "el tiempo requerido fue:1.0158705711364746sg\n",
            "Ari: 0.4867636947054779 y accuracy: 0.7592592592592593\n"
          ],
          "name": "stdout"
        },
        {
          "output_type": "display_data",
          "data": {
            "image/png": "[encoded data removed]",
            "text/plain": [
              "<Figure size 432x288 with 1 Axes>"
            ]
          },
          "metadata": {
            "tags": [],
            "needs_background": "light"
          }
        }
      ]
    },
    {
      "cell_type": "markdown",
      "metadata": {
        "id": "uWLDukkzDDwp",
        "colab_type": "text"
      },
      "source": [
        "**Spectral clustering**"
      ]
    },
    {
      "cell_type": "code",
      "metadata": {
        "id": "RPKKUPRZ9NfS",
        "colab_type": "code",
        "colab": {
          "base_uri": "https://localhost:8080/",
          "height": 301
        },
        "outputId": "b0a80380-7bd5-4c69-eba3-dfa884e156a7"
      },
      "source": [
        "t = time.time()\n",
        "p = SC(n_clusters_=3, gamma_=500, n_neighbors_=5, nn=3)\n",
        "p.fit(X_train, y_train)\n",
        "labels_pre_SC = p.predict(X_test)\n",
        "print('el tiempo requerido fue:'+ str(time.time() - t)+'sg')\n",
        "plt.scatter(X_train[:, 0], X_train[:, 1], c=y_train, marker='.')\n",
        "plt.scatter(X_test[:, 0], X_test[:, 1], c=labels_pre_SC, marker='D',s=68)\n",
        "Rari_SC=adjusted_rand_score(y_test,labels_pre_SC)\n",
        "Racc_SC=accuracy_score(y_test,labels_pre_SC)\n",
        "print('Ari: '+str(Rari_SC)+' y'+' accuracy: '+str(Racc_SC))"
      ],
      "execution_count": 122,
      "outputs": [
        {
          "output_type": "stream",
          "text": [
            "el tiempo requerido fue:0.061058998107910156sg\n",
            "Ari: 0.5793650793650794 y accuracy: 0.8333333333333334\n"
          ],
          "name": "stdout"
        },
        {
          "output_type": "display_data",
          "data": {
            "image/png": "[encoded data removed]",
            "text/plain": [
              "<Figure size 432x288 with 1 Axes>"
            ]
          },
          "metadata": {
            "tags": [],
            "needs_background": "light"
          }
        }
      ]
    },
    {
      "cell_type": "markdown",
      "metadata": {
        "id": "u7_exhhrxLVf",
        "colab_type": "text"
      },
      "source": [
        "**moons**"
      ]
    },
    {
      "cell_type": "code",
      "metadata": {
        "id": "GkViw5SIxGgM",
        "colab_type": "code",
        "outputId": "557d269b-7893-4107-a06b-eda9daa104a8",
        "colab": {
          "base_uri": "https://localhost:8080/",
          "height": 283
        }
      },
      "source": [
        "\n",
        "moons,labels_moons = datasets.make_moons(n_samples=200)\n",
        "# Set a target SNR\n",
        "target_snr_db =12\n",
        "# Calculate signal power and convert to dB \n",
        "avg_moons = np.mean(moons)\n",
        "avg_db = 10 * np.log10(avg_moons)\n",
        "# Calculate noise according to [2] then convert to watts\n",
        "avg_db = avg_db - target_snr_db\n",
        "noise_avg_watts = 10 ** (avg_db / 10)\n",
        "# Generate an sample of white noise\n",
        "mean_noise = 0\n",
        "noise_volts = np.random.normal(mean_noise, np.sqrt(noise_avg_watts),moons.shape)\n",
        "noisy_moons=moons+noise_volts\n",
        "plt.scatter(noisy_moons[:,0],noisy_moons[:,1],c=labels_moons)"
      ],
      "execution_count": 10,
      "outputs": [
        {
          "output_type": "execute_result",
          "data": {
            "text/plain": [
              "<matplotlib.collections.PathCollection at 0x7f0fc8daeb38>"
            ]
          },
          "metadata": {
            "tags": []
          },
          "execution_count": 10
        },
        {
          "output_type": "display_data",
          "data": {
            "image/png": "[encoded data removed]",
            "text/plain": [
              "<Figure size 432x288 with 1 Axes>"
            ]
          },
          "metadata": {
            "tags": [],
            "needs_background": "light"
          }
        }
      ]
    },
    {
      "cell_type": "markdown",
      "metadata": {
        "id": "izuhrJmo-oSM",
        "colab_type": "text"
      },
      "source": [
        "**Prueba**"
      ]
    },
    {
      "cell_type": "code",
      "metadata": {
        "id": "cDH4FkyexNc0",
        "colab_type": "code",
        "colab": {}
      },
      "source": [
        "X_train, X_test, y_train, y_test = train_test_split(\n",
        "    noisy_moons, labels_moons, test_size=0.2, stratify=labels_moons)"
      ],
      "execution_count": 0,
      "outputs": []
    },
    {
      "cell_type": "markdown",
      "metadata": {
        "id": "nKRMXtJ0DIT5",
        "colab_type": "text"
      },
      "source": [
        "**FP**"
      ]
    },
    {
      "cell_type": "code",
      "metadata": {
        "id": "yoBX8vX_-tLP",
        "colab_type": "code",
        "colab": {
          "base_uri": "https://localhost:8080/",
          "height": 301
        },
        "outputId": "273ec2da-b344-4dcb-c162-7cdfae460914"
      },
      "source": [
        "t = time.time()\n",
        "p = PRI(lambda_=2, n_clusters=2, nn=3, sigma_initial=15,reduction_='SC')\n",
        "p.fit(X_train, y_train)\n",
        "labels_pre_FP = p.predict(X_test)\n",
        "print('el tiempo requerido fue:'+ str(time.time() - t)+'sg')\n",
        "plt.scatter(X_train[:, 0], X_train[:, 1], c=y_train, marker='.')\n",
        "plt.scatter(X_test[:, 0], X_test[:, 1], c=labels_pre_FP, marker='D',s=68)\n",
        "Rari_FP=adjusted_rand_score(y_test,labels_pre_FP)\n",
        "Racc_FP=accuracy_score(y_test,labels_pre_FP)\n",
        "print('Ari: '+str(Rari_FP)+' y'+' accuracy: '+str(Racc_FP))"
      ],
      "execution_count": 13,
      "outputs": [
        {
          "output_type": "stream",
          "text": [
            "el tiempo requerido fue:0.8858356475830078sg\n",
            "Ari: 0.47712933753943215 y accuracy: 0.85\n"
          ],
          "name": "stdout"
        },
        {
          "output_type": "display_data",
          "data": {
            "image/png": "[encoded data removed]",
            "text/plain": [
              "<Figure size 432x288 with 1 Axes>"
            ]
          },
          "metadata": {
            "tags": [],
            "needs_background": "light"
          }
        }
      ]
    },
    {
      "cell_type": "markdown",
      "metadata": {
        "id": "g8R9EIVzDO3q",
        "colab_type": "text"
      },
      "source": [
        "**SGD**"
      ]
    },
    {
      "cell_type": "code",
      "metadata": {
        "id": "GUhUEMRuFJkp",
        "colab_type": "code",
        "colab": {
          "base_uri": "https://localhost:8080/",
          "height": 301
        },
        "outputId": "6cb69cd8-8cba-49a8-c389-614b2c428a41"
      },
      "source": [
        "t = time.time()\n",
        "p = MiniBatchPRI(lambda_=2, sigma_initial=40,learning_rate=0.03,reduction_='SC',n_clusters=2)\n",
        "p.fit(X_train, y_train)\n",
        "labels_pre_SGD = p.predict(X_test)\n",
        "print('el tiempo requerido fue:'+ str(time.time() - t)+'sg')\n",
        "plt.scatter(X_train[:, 0], X_train[:, 1], c=y_train, marker='.')\n",
        "plt.scatter(X_test[:, 0], X_test[:, 1], c=labels_pre_SGD, marker='D',s=68)\n",
        "Rari_SGD=adjusted_rand_score(y_test,labels_pre_SGD)\n",
        "Racc_SGD=accuracy_score(y_test,labels_pre_SGD)\n",
        "print('Ari: '+str(Rari_SGD)+' y'+' accuracy: '+str(Racc_SGD))"
      ],
      "execution_count": 14,
      "outputs": [
        {
          "output_type": "stream",
          "text": [
            "el tiempo requerido fue:0.6042680740356445sg\n",
            "Ari: 0.5517241379310345 y accuracy: 0.875\n"
          ],
          "name": "stdout"
        },
        {
          "output_type": "display_data",
          "data": {
            "image/png": "[encoded data removed]",
            "text/plain": [
              "<Figure size 432x288 with 1 Axes>"
            ]
          },
          "metadata": {
            "tags": [],
            "needs_background": "light"
          }
        }
      ]
    },
    {
      "cell_type": "markdown",
      "metadata": {
        "id": "eJDWQWXQDcti",
        "colab_type": "text"
      },
      "source": [
        "**Spectral clustering**"
      ]
    },
    {
      "cell_type": "code",
      "metadata": {
        "id": "czSwZAW6-yoG",
        "colab_type": "code",
        "colab": {
          "base_uri": "https://localhost:8080/",
          "height": 301
        },
        "outputId": "d8fdf3e2-00dc-48db-caec-d454176cbeb4"
      },
      "source": [
        "t = time.time()\n",
        "p = SC(n_clusters_=2, gamma_=100, n_neighbors_=1, nn=3)\n",
        "p.fit(X_train, y_train)\n",
        "labels_pre_SC = p.predict(X_test)\n",
        "print('el tiempo requerido fue:'+ str(time.time() - t)+'sg')\n",
        "plt.scatter(X_train[:, 0], X_train[:, 1], c=y_train, marker='.')\n",
        "plt.scatter(X_test[:, 0], X_test[:, 1], c=labels_pre_SC, marker='D',s=68)\n",
        "Rari_SC=adjusted_rand_score(y_test,labels_pre_SC)\n",
        "Racc_SC=accuracy_score(y_test,labels_pre_SC)\n",
        "print('Ari: '+str(Rari_SC)+' y'+' accuracy: '+str(Racc_SC))"
      ],
      "execution_count": 18,
      "outputs": [
        {
          "output_type": "stream",
          "text": [
            "el tiempo requerido fue:0.1457967758178711sg\n",
            "Ari: 0.10931095061487414 y accuracy: 0.675\n"
          ],
          "name": "stdout"
        },
        {
          "output_type": "display_data",
          "data": {
            "image/png": "[encoded data removed]",
            "text/plain": [
              "<Figure size 432x288 with 1 Axes>"
            ]
          },
          "metadata": {
            "tags": [],
            "needs_background": "light"
          }
        }
      ]
    },
    {
      "cell_type": "markdown",
      "metadata": {
        "id": "XHe_lOPr6Pp_",
        "colab_type": "text"
      },
      "source": [
        "**Happy**"
      ]
    },
    {
      "cell_type": "code",
      "metadata": {
        "id": "xlZhqjTG_JyC",
        "colab_type": "code",
        "colab": {}
      },
      "source": [
        "n_clusters=3\n",
        "steps =[[('rep',SC())],\n",
        "        [('rep',Kmeans())], \n",
        "        [('rep', PRI())], \n",
        "        [('rep', MiniBatchPRI())]] \n",
        "   \n",
        "parameters =[{'rep__gamma_':[100,200,500,1000],'rep__n_neighbors_':[5,10,15],'rep__nn_':[3,5,9],'rep__n_clusters_':[n_clusters]},\n",
        "             {'rep__nn':[3,5,9],'rep__n_clusters_':[n_clusters]},\n",
        "             {'rep__lambda_':[2,3],'rep__sigma_initial':[5,15,25,35],'rep__nn':[3,5],'rep__n_clusters':[n_clusters],'rep__reduction_':['SC'],'rep__gamma_':[100,500,1000]},\n",
        "             {'rep__lambda_':[2,3],'rep__sigma_initial':[30,35,40,45],'rep__learning_rate':[0.001,0.003],'rep__nn':[3,5],'rep__n_clusters':[n_clusters],'rep__reduction_':['SC'],'rep__gamma_':[100,500,1000],'rep__optimization':['Adam','Nadam',None]}]"
      ],
      "execution_count": 0,
      "outputs": []
    },
    {
      "cell_type": "code",
      "metadata": {
        "id": "ssglXzlUGlka",
        "colab_type": "code",
        "colab": {
          "base_uri": "https://localhost:8080/",
          "height": 1000
        },
        "outputId": "99aef806-0a32-481c-9e43-2b243b4902af"
      },
      "source": [
        "n=[28,29,30,31]\n",
        "for k in n:\n",
        "  # Set a target SNR\n",
        "  target_snr_db =k\n",
        "  # Calculate signal power and convert to dB \n",
        "  avg_happy = np.mean(happy)\n",
        "  avg_db = 10 * np.log10(avg_happy)\n",
        "  # Calculate noise according to [2] then convert to watts\n",
        "  avg_db = avg_db - target_snr_db\n",
        "  noise_avg = 10 ** (avg_db / 10)\n",
        "  # Generate an sample of white noise\n",
        "  noise_ = np.random.normal(0, np.sqrt(noise_avg),happy.shape)\n",
        "  noisy_happy=happy+noise_\n",
        "\n",
        "  for i in range(len(steps)):\n",
        "    meth_name = ['sc_'+str(k)+'db', 'Knn'+str(k)+'db', 'FP'+str(k)+'db','SGD'+str(k)+'db']\n",
        "    name='/content/PRI/happy' + str(meth_name[i]) + '.joblib'\n",
        "    Niter = 10 #numero particiones\n",
        "    acc =np.zeros(Niter)#arreglo para guardar acierto\n",
        "    ari=np.zeros(Niter)\n",
        "    Nc = len(np.unique(labels_happy))\n",
        "    best_estimators= []#mejor metodo por iteracion\n",
        "    best_parameters= []#mejor metodo por iteracion\n",
        "\n",
        "    for j in range(Niter):\n",
        "      print('it %d/%d'%(j+1,Niter))\n",
        "      ## Accuracy\n",
        "      X_train, X_test, y_train, y_test = train_test_split(noisy_happy,labels_happy,test_size=0.2, stratify=labels_happy)\n",
        "      grid_search = GridSearchCV(Pipeline(steps[i]) , parameters[i],cv=5,verbose=1,scoring='accuracy',n_jobs=-1)\n",
        "      #generar mejor modelo\n",
        "      grid_search.fit(X_train,y_train)\n",
        "      #estimar salida conjunto de test\n",
        "      y_pred = grid_search.best_estimator_.predict(X_test)\n",
        "      #guardar mejor modelo\n",
        "      best_estimators.append(grid_search.best_estimator_)\n",
        "      best_parameters.append(grid_search.best_params_)\n",
        "      #guardar acierto\n",
        "      acc[j] = 100*accuracy_score(y_test,y_pred)\n",
        "      ari[j]=100*adjusted_rand_score(y_test,y_pred)\n",
        "      #estimar matriz de confusion\n",
        "      print('it %d/%d'%(j+1,Niter))\n",
        "      print(grid_search.best_params_)\n",
        "      print('acc:',acc[j])\n",
        "      print('ari:',ari[j])\n",
        "      #print('confusionmatrix \\n',cmc[j])\n",
        "      savedata = {\n",
        "        'ari':ari,\n",
        "        'acc':acc,\n",
        "        'best_models':best_estimators,\n",
        "        'best_parameters':best_parameters,\n",
        "          } \n",
        "      dump(savedata,name)"
      ],
      "execution_count": 15,
      "outputs": [
        {
          "output_type": "stream",
          "text": [
            "it 1/10\n",
            "Fitting 5 folds for each of 36 candidates, totalling 180 fits\n"
          ],
          "name": "stdout"
        },
        {
          "output_type": "stream",
          "text": [
            "[Parallel(n_jobs=-1)]: Using backend LokyBackend with 2 concurrent workers.\n",
            "[Parallel(n_jobs=-1)]: Done 110 tasks      | elapsed:    4.9s\n",
            "[Parallel(n_jobs=-1)]: Done 180 out of 180 | elapsed:    7.5s finished\n",
            "[Parallel(n_jobs=-1)]: Using backend LokyBackend with 2 concurrent workers.\n"
          ],
          "name": "stderr"
        },
        {
          "output_type": "stream",
          "text": [
            "it 1/10\n",
            "{'rep__gamma_': 1000, 'rep__n_clusters_': 3, 'rep__n_neighbors_': 5, 'rep__nn_': 3}\n",
            "acc: 94.44444444444444\n",
            "ari: 83.02189001601708\n",
            "it 2/10\n",
            "Fitting 5 folds for each of 36 candidates, totalling 180 fits\n"
          ],
          "name": "stdout"
        },
        {
          "output_type": "stream",
          "text": [
            "[Parallel(n_jobs=-1)]: Done 164 tasks      | elapsed:    5.2s\n",
            "[Parallel(n_jobs=-1)]: Done 180 out of 180 | elapsed:    5.7s finished\n",
            "[Parallel(n_jobs=-1)]: Using backend LokyBackend with 2 concurrent workers.\n"
          ],
          "name": "stderr"
        },
        {
          "output_type": "stream",
          "text": [
            "it 2/10\n",
            "{'rep__gamma_': 500, 'rep__n_clusters_': 3, 'rep__n_neighbors_': 5, 'rep__nn_': 3}\n",
            "acc: 81.48148148148148\n",
            "ari: 55.04533489324365\n",
            "it 3/10\n",
            "Fitting 5 folds for each of 36 candidates, totalling 180 fits\n"
          ],
          "name": "stdout"
        },
        {
          "output_type": "stream",
          "text": [
            "[Parallel(n_jobs=-1)]: Done 164 tasks      | elapsed:    5.3s\n",
            "[Parallel(n_jobs=-1)]: Done 180 out of 180 | elapsed:    5.8s finished\n",
            "[Parallel(n_jobs=-1)]: Using backend LokyBackend with 2 concurrent workers.\n"
          ],
          "name": "stderr"
        },
        {
          "output_type": "stream",
          "text": [
            "it 3/10\n",
            "{'rep__gamma_': 1000, 'rep__n_clusters_': 3, 'rep__n_neighbors_': 5, 'rep__nn_': 3}\n",
            "acc: 81.48148148148148\n",
            "ari: 55.04533489324365\n",
            "it 4/10\n",
            "Fitting 5 folds for each of 36 candidates, totalling 180 fits\n"
          ],
          "name": "stdout"
        },
        {
          "output_type": "stream",
          "text": [
            "[Parallel(n_jobs=-1)]: Done 164 tasks      | elapsed:    5.3s\n",
            "[Parallel(n_jobs=-1)]: Done 180 out of 180 | elapsed:    5.8s finished\n",
            "[Parallel(n_jobs=-1)]: Using backend LokyBackend with 2 concurrent workers.\n"
          ],
          "name": "stderr"
        },
        {
          "output_type": "stream",
          "text": [
            "it 4/10\n",
            "{'rep__gamma_': 500, 'rep__n_clusters_': 3, 'rep__n_neighbors_': 5, 'rep__nn_': 3}\n",
            "acc: 90.74074074074075\n",
            "ari: 73.24821852731591\n",
            "it 5/10\n",
            "Fitting 5 folds for each of 36 candidates, totalling 180 fits\n"
          ],
          "name": "stdout"
        },
        {
          "output_type": "stream",
          "text": [
            "[Parallel(n_jobs=-1)]: Done 164 tasks      | elapsed:    5.3s\n",
            "[Parallel(n_jobs=-1)]: Done 180 out of 180 | elapsed:    5.9s finished\n",
            "[Parallel(n_jobs=-1)]: Using backend LokyBackend with 2 concurrent workers.\n"
          ],
          "name": "stderr"
        },
        {
          "output_type": "stream",
          "text": [
            "it 5/10\n",
            "{'rep__gamma_': 1000, 'rep__n_clusters_': 3, 'rep__n_neighbors_': 5, 'rep__nn_': 3}\n",
            "acc: 83.33333333333334\n",
            "ari: 57.936507936507944\n",
            "it 6/10\n",
            "Fitting 5 folds for each of 36 candidates, totalling 180 fits\n"
          ],
          "name": "stdout"
        },
        {
          "output_type": "stream",
          "text": [
            "[Parallel(n_jobs=-1)]: Done 164 tasks      | elapsed:    5.3s\n",
            "[Parallel(n_jobs=-1)]: Done 180 out of 180 | elapsed:    5.9s finished\n",
            "[Parallel(n_jobs=-1)]: Using backend LokyBackend with 2 concurrent workers.\n"
          ],
          "name": "stderr"
        },
        {
          "output_type": "stream",
          "text": [
            "it 6/10\n",
            "{'rep__gamma_': 500, 'rep__n_clusters_': 3, 'rep__n_neighbors_': 5, 'rep__nn_': 3}\n",
            "acc: 90.74074074074075\n",
            "ari: 73.24821852731591\n",
            "it 7/10\n",
            "Fitting 5 folds for each of 36 candidates, totalling 180 fits\n"
          ],
          "name": "stdout"
        },
        {
          "output_type": "stream",
          "text": [
            "[Parallel(n_jobs=-1)]: Done 164 tasks      | elapsed:    5.2s\n",
            "[Parallel(n_jobs=-1)]: Done 180 out of 180 | elapsed:    5.8s finished\n",
            "[Parallel(n_jobs=-1)]: Using backend LokyBackend with 2 concurrent workers.\n"
          ],
          "name": "stderr"
        },
        {
          "output_type": "stream",
          "text": [
            "it 7/10\n",
            "{'rep__gamma_': 1000, 'rep__n_clusters_': 3, 'rep__n_neighbors_': 5, 'rep__nn_': 3}\n",
            "acc: 83.33333333333334\n",
            "ari: 56.516349899657655\n",
            "it 8/10\n",
            "Fitting 5 folds for each of 36 candidates, totalling 180 fits\n"
          ],
          "name": "stdout"
        },
        {
          "output_type": "stream",
          "text": [
            "[Parallel(n_jobs=-1)]: Done 164 tasks      | elapsed:    5.4s\n",
            "[Parallel(n_jobs=-1)]: Done 180 out of 180 | elapsed:    5.9s finished\n",
            "[Parallel(n_jobs=-1)]: Using backend LokyBackend with 2 concurrent workers.\n"
          ],
          "name": "stderr"
        },
        {
          "output_type": "stream",
          "text": [
            "it 8/10\n",
            "{'rep__gamma_': 500, 'rep__n_clusters_': 3, 'rep__n_neighbors_': 5, 'rep__nn_': 3}\n",
            "acc: 85.18518518518519\n",
            "ari: 61.20883012631331\n",
            "it 9/10\n",
            "Fitting 5 folds for each of 36 candidates, totalling 180 fits\n"
          ],
          "name": "stdout"
        },
        {
          "output_type": "stream",
          "text": [
            "[Parallel(n_jobs=-1)]: Done 164 tasks      | elapsed:    5.3s\n",
            "[Parallel(n_jobs=-1)]: Done 180 out of 180 | elapsed:    5.8s finished\n",
            "[Parallel(n_jobs=-1)]: Using backend LokyBackend with 2 concurrent workers.\n"
          ],
          "name": "stderr"
        },
        {
          "output_type": "stream",
          "text": [
            "it 9/10\n",
            "{'rep__gamma_': 500, 'rep__n_clusters_': 3, 'rep__n_neighbors_': 5, 'rep__nn_': 3}\n",
            "acc: 92.5925925925926\n",
            "ari: 77.46290404115494\n",
            "it 10/10\n",
            "Fitting 5 folds for each of 36 candidates, totalling 180 fits\n"
          ],
          "name": "stdout"
        },
        {
          "output_type": "stream",
          "text": [
            "[Parallel(n_jobs=-1)]: Done 164 tasks      | elapsed:    5.1s\n",
            "[Parallel(n_jobs=-1)]: Done 180 out of 180 | elapsed:    5.7s finished\n",
            "[Parallel(n_jobs=-1)]: Using backend LokyBackend with 2 concurrent workers.\n"
          ],
          "name": "stderr"
        },
        {
          "output_type": "stream",
          "text": [
            "it 10/10\n",
            "{'rep__gamma_': 1000, 'rep__n_clusters_': 3, 'rep__n_neighbors_': 5, 'rep__nn_': 3}\n",
            "acc: 83.33333333333334\n",
            "ari: 56.516349899657655\n",
            "it 1/10\n",
            "Fitting 5 folds for each of 3 candidates, totalling 15 fits\n"
          ],
          "name": "stdout"
        },
        {
          "output_type": "stream",
          "text": [
            "[Parallel(n_jobs=-1)]: Done  15 out of  15 | elapsed:    0.5s finished\n",
            "[Parallel(n_jobs=-1)]: Using backend LokyBackend with 2 concurrent workers.\n"
          ],
          "name": "stderr"
        },
        {
          "output_type": "stream",
          "text": [
            "it 1/10\n",
            "{'rep__n_clusters_': 3, 'rep__nn': 3}\n",
            "acc: 66.66666666666666\n",
            "ari: 32.91139240506328\n",
            "it 2/10\n",
            "Fitting 5 folds for each of 3 candidates, totalling 15 fits\n"
          ],
          "name": "stdout"
        },
        {
          "output_type": "stream",
          "text": [
            "[Parallel(n_jobs=-1)]: Done  15 out of  15 | elapsed:    0.5s finished\n",
            "[Parallel(n_jobs=-1)]: Using backend LokyBackend with 2 concurrent workers.\n"
          ],
          "name": "stderr"
        },
        {
          "output_type": "stream",
          "text": [
            "it 2/10\n",
            "{'rep__n_clusters_': 3, 'rep__nn': 5}\n",
            "acc: 68.51851851851852\n",
            "ari: 32.670616383730206\n",
            "it 3/10\n",
            "Fitting 5 folds for each of 3 candidates, totalling 15 fits\n"
          ],
          "name": "stdout"
        },
        {
          "output_type": "stream",
          "text": [
            "[Parallel(n_jobs=-1)]: Done  15 out of  15 | elapsed:    0.5s finished\n",
            "[Parallel(n_jobs=-1)]: Using backend LokyBackend with 2 concurrent workers.\n"
          ],
          "name": "stderr"
        },
        {
          "output_type": "stream",
          "text": [
            "it 3/10\n",
            "{'rep__n_clusters_': 3, 'rep__nn': 9}\n",
            "acc: 74.07407407407408\n",
            "ari: 38.66953538407862\n",
            "it 4/10\n",
            "Fitting 5 folds for each of 3 candidates, totalling 15 fits\n"
          ],
          "name": "stdout"
        },
        {
          "output_type": "stream",
          "text": [
            "[Parallel(n_jobs=-1)]: Done  15 out of  15 | elapsed:    0.4s finished\n",
            "[Parallel(n_jobs=-1)]: Using backend LokyBackend with 2 concurrent workers.\n"
          ],
          "name": "stderr"
        },
        {
          "output_type": "stream",
          "text": [
            "it 4/10\n",
            "{'rep__n_clusters_': 3, 'rep__nn': 3}\n",
            "acc: 74.07407407407408\n",
            "ari: 39.22194803309624\n",
            "it 5/10\n",
            "Fitting 5 folds for each of 3 candidates, totalling 15 fits\n"
          ],
          "name": "stdout"
        },
        {
          "output_type": "stream",
          "text": [
            "[Parallel(n_jobs=-1)]: Done  15 out of  15 | elapsed:    0.5s finished\n",
            "[Parallel(n_jobs=-1)]: Using backend LokyBackend with 2 concurrent workers.\n"
          ],
          "name": "stderr"
        },
        {
          "output_type": "stream",
          "text": [
            "it 5/10\n",
            "{'rep__n_clusters_': 3, 'rep__nn': 3}\n",
            "acc: 62.96296296296296\n",
            "ari: 29.6310668847188\n",
            "it 6/10\n",
            "Fitting 5 folds for each of 3 candidates, totalling 15 fits\n"
          ],
          "name": "stdout"
        },
        {
          "output_type": "stream",
          "text": [
            "[Parallel(n_jobs=-1)]: Done  15 out of  15 | elapsed:    0.5s finished\n",
            "[Parallel(n_jobs=-1)]: Using backend LokyBackend with 2 concurrent workers.\n"
          ],
          "name": "stderr"
        },
        {
          "output_type": "stream",
          "text": [
            "it 6/10\n",
            "{'rep__n_clusters_': 3, 'rep__nn': 5}\n",
            "acc: 72.22222222222221\n",
            "ari: 36.273773050465344\n",
            "it 7/10\n",
            "Fitting 5 folds for each of 3 candidates, totalling 15 fits\n"
          ],
          "name": "stdout"
        },
        {
          "output_type": "stream",
          "text": [
            "[Parallel(n_jobs=-1)]: Done  15 out of  15 | elapsed:    0.5s finished\n",
            "[Parallel(n_jobs=-1)]: Using backend LokyBackend with 2 concurrent workers.\n"
          ],
          "name": "stderr"
        },
        {
          "output_type": "stream",
          "text": [
            "it 7/10\n",
            "{'rep__n_clusters_': 3, 'rep__nn': 3}\n",
            "acc: 77.77777777777779\n",
            "ari: 44.09906866057526\n",
            "it 8/10\n",
            "Fitting 5 folds for each of 3 candidates, totalling 15 fits\n"
          ],
          "name": "stdout"
        },
        {
          "output_type": "stream",
          "text": [
            "[Parallel(n_jobs=-1)]: Done  15 out of  15 | elapsed:    0.5s finished\n",
            "[Parallel(n_jobs=-1)]: Using backend LokyBackend with 2 concurrent workers.\n"
          ],
          "name": "stderr"
        },
        {
          "output_type": "stream",
          "text": [
            "it 8/10\n",
            "{'rep__n_clusters_': 3, 'rep__nn': 5}\n",
            "acc: 72.22222222222221\n",
            "ari: 36.273773050465344\n",
            "it 9/10\n",
            "Fitting 5 folds for each of 3 candidates, totalling 15 fits\n"
          ],
          "name": "stdout"
        },
        {
          "output_type": "stream",
          "text": [
            "[Parallel(n_jobs=-1)]: Done  15 out of  15 | elapsed:    0.5s finished\n",
            "[Parallel(n_jobs=-1)]: Using backend LokyBackend with 2 concurrent workers.\n"
          ],
          "name": "stderr"
        },
        {
          "output_type": "stream",
          "text": [
            "it 9/10\n",
            "{'rep__n_clusters_': 3, 'rep__nn': 9}\n",
            "acc: 70.37037037037037\n",
            "ari: 35.01031400412561\n",
            "it 10/10\n",
            "Fitting 5 folds for each of 3 candidates, totalling 15 fits\n"
          ],
          "name": "stdout"
        },
        {
          "output_type": "stream",
          "text": [
            "[Parallel(n_jobs=-1)]: Done  15 out of  15 | elapsed:    0.5s finished\n",
            "[Parallel(n_jobs=-1)]: Using backend LokyBackend with 2 concurrent workers.\n"
          ],
          "name": "stderr"
        },
        {
          "output_type": "stream",
          "text": [
            "it 10/10\n",
            "{'rep__n_clusters_': 3, 'rep__nn': 5}\n",
            "acc: 64.81481481481481\n",
            "ari: 30.263157894736842\n",
            "it 1/10\n",
            "Fitting 5 folds for each of 48 candidates, totalling 240 fits\n"
          ],
          "name": "stdout"
        },
        {
          "output_type": "stream",
          "text": [
            "[Parallel(n_jobs=-1)]: Done  46 tasks      | elapsed:   25.8s\n",
            "[Parallel(n_jobs=-1)]: Done 196 tasks      | elapsed:  1.9min\n",
            "[Parallel(n_jobs=-1)]: Done 240 out of 240 | elapsed:  2.4min finished\n",
            "/content/PRI/main_functions.py:299: RuntimeWarning: divide by zero encountered in log\n",
            "  A = -np.log((1 / N * No) * K1)\n",
            "/content/PRI/main_functions.py:299: RuntimeWarning: divide by zero encountered in log\n",
            "  A = -np.log((1 / N * No) * K1)\n",
            "[Parallel(n_jobs=-1)]: Using backend LokyBackend with 2 concurrent workers.\n"
          ],
          "name": "stderr"
        },
        {
          "output_type": "stream",
          "text": [
            "it 1/10\n",
            "{'rep__gamma_': 500, 'rep__lambda_': 3, 'rep__n_clusters': 3, 'rep__nn': 3, 'rep__reduction_': 'SC', 'rep__sigma_initial': 5}\n",
            "acc: 74.07407407407408\n",
            "ari: 47.31610337972167\n",
            "it 2/10\n",
            "Fitting 5 folds for each of 48 candidates, totalling 240 fits\n"
          ],
          "name": "stdout"
        },
        {
          "output_type": "stream",
          "text": [
            "[Parallel(n_jobs=-1)]: Done  46 tasks      | elapsed:   26.9s\n",
            "[Parallel(n_jobs=-1)]: Done 196 tasks      | elapsed:  2.0min\n",
            "[Parallel(n_jobs=-1)]: Done 240 out of 240 | elapsed:  2.5min finished\n",
            "/content/PRI/main_functions.py:299: RuntimeWarning: divide by zero encountered in log\n",
            "  A = -np.log((1 / N * No) * K1)\n",
            "/content/PRI/main_functions.py:299: RuntimeWarning: divide by zero encountered in log\n",
            "  A = -np.log((1 / N * No) * K1)\n",
            "[Parallel(n_jobs=-1)]: Using backend LokyBackend with 2 concurrent workers.\n"
          ],
          "name": "stderr"
        },
        {
          "output_type": "stream",
          "text": [
            "it 2/10\n",
            "{'rep__gamma_': 100, 'rep__lambda_': 3, 'rep__n_clusters': 3, 'rep__nn': 3, 'rep__reduction_': 'SC', 'rep__sigma_initial': 5}\n",
            "acc: 77.77777777777779\n",
            "ari: 48.454057192625925\n",
            "it 3/10\n",
            "Fitting 5 folds for each of 48 candidates, totalling 240 fits\n"
          ],
          "name": "stdout"
        },
        {
          "output_type": "stream",
          "text": [
            "[Parallel(n_jobs=-1)]: Done  46 tasks      | elapsed:   24.1s\n",
            "[Parallel(n_jobs=-1)]: Done 196 tasks      | elapsed:  1.9min\n",
            "[Parallel(n_jobs=-1)]: Done 240 out of 240 | elapsed:  2.3min finished\n",
            "/content/PRI/main_functions.py:299: RuntimeWarning: divide by zero encountered in log\n",
            "  A = -np.log((1 / N * No) * K1)\n",
            "/content/PRI/main_functions.py:299: RuntimeWarning: divide by zero encountered in log\n",
            "  A = -np.log((1 / N * No) * K1)\n",
            "[Parallel(n_jobs=-1)]: Using backend LokyBackend with 2 concurrent workers.\n"
          ],
          "name": "stderr"
        },
        {
          "output_type": "stream",
          "text": [
            "it 3/10\n",
            "{'rep__gamma_': 500, 'rep__lambda_': 3, 'rep__n_clusters': 3, 'rep__nn': 3, 'rep__reduction_': 'SC', 'rep__sigma_initial': 5}\n",
            "acc: 74.07407407407408\n",
            "ari: 40.139009556907034\n",
            "it 4/10\n",
            "Fitting 5 folds for each of 48 candidates, totalling 240 fits\n"
          ],
          "name": "stdout"
        },
        {
          "output_type": "stream",
          "text": [
            "[Parallel(n_jobs=-1)]: Done  46 tasks      | elapsed:   28.6s\n",
            "[Parallel(n_jobs=-1)]: Done 196 tasks      | elapsed:  1.9min\n",
            "[Parallel(n_jobs=-1)]: Done 240 out of 240 | elapsed:  2.5min finished\n",
            "/content/PRI/main_functions.py:299: RuntimeWarning: divide by zero encountered in log\n",
            "  A = -np.log((1 / N * No) * K1)\n",
            "/content/PRI/main_functions.py:299: RuntimeWarning: divide by zero encountered in log\n",
            "  A = -np.log((1 / N * No) * K1)\n",
            "[Parallel(n_jobs=-1)]: Using backend LokyBackend with 2 concurrent workers.\n"
          ],
          "name": "stderr"
        },
        {
          "output_type": "stream",
          "text": [
            "it 4/10\n",
            "{'rep__gamma_': 500, 'rep__lambda_': 3, 'rep__n_clusters': 3, 'rep__nn': 3, 'rep__reduction_': 'SC', 'rep__sigma_initial': 5}\n",
            "acc: 72.22222222222221\n",
            "ari: 41.728380995784434\n",
            "it 5/10\n",
            "Fitting 5 folds for each of 48 candidates, totalling 240 fits\n"
          ],
          "name": "stdout"
        },
        {
          "output_type": "stream",
          "text": [
            "[Parallel(n_jobs=-1)]: Done  46 tasks      | elapsed:   25.5s\n",
            "[Parallel(n_jobs=-1)]: Done 196 tasks      | elapsed:  1.9min\n",
            "[Parallel(n_jobs=-1)]: Done 240 out of 240 | elapsed:  2.4min finished\n",
            "/content/PRI/main_functions.py:299: RuntimeWarning: divide by zero encountered in log\n",
            "  A = -np.log((1 / N * No) * K1)\n",
            "/content/PRI/main_functions.py:299: RuntimeWarning: divide by zero encountered in log\n",
            "  A = -np.log((1 / N * No) * K1)\n",
            "[Parallel(n_jobs=-1)]: Using backend LokyBackend with 2 concurrent workers.\n"
          ],
          "name": "stderr"
        },
        {
          "output_type": "stream",
          "text": [
            "it 5/10\n",
            "{'rep__gamma_': 100, 'rep__lambda_': 3, 'rep__n_clusters': 3, 'rep__nn': 5, 'rep__reduction_': 'SC', 'rep__sigma_initial': 5}\n",
            "acc: 70.37037037037037\n",
            "ari: 45.707604943770185\n",
            "it 6/10\n",
            "Fitting 5 folds for each of 48 candidates, totalling 240 fits\n"
          ],
          "name": "stdout"
        },
        {
          "output_type": "stream",
          "text": [
            "[Parallel(n_jobs=-1)]: Done  46 tasks      | elapsed:   31.4s\n",
            "[Parallel(n_jobs=-1)]: Done 196 tasks      | elapsed:  2.0min\n",
            "[Parallel(n_jobs=-1)]: Done 240 out of 240 | elapsed:  2.5min finished\n",
            "/content/PRI/main_functions.py:299: RuntimeWarning: divide by zero encountered in log\n",
            "  A = -np.log((1 / N * No) * K1)\n",
            "/content/PRI/main_functions.py:299: RuntimeWarning: divide by zero encountered in log\n",
            "  A = -np.log((1 / N * No) * K1)\n",
            "[Parallel(n_jobs=-1)]: Using backend LokyBackend with 2 concurrent workers.\n"
          ],
          "name": "stderr"
        },
        {
          "output_type": "stream",
          "text": [
            "it 6/10\n",
            "{'rep__gamma_': 500, 'rep__lambda_': 3, 'rep__n_clusters': 3, 'rep__nn': 5, 'rep__reduction_': 'SC', 'rep__sigma_initial': 5}\n",
            "acc: 66.66666666666666\n",
            "ari: 34.17533432392273\n",
            "it 7/10\n",
            "Fitting 5 folds for each of 48 candidates, totalling 240 fits\n"
          ],
          "name": "stdout"
        },
        {
          "output_type": "stream",
          "text": [
            "[Parallel(n_jobs=-1)]: Done  46 tasks      | elapsed:   22.8s\n",
            "[Parallel(n_jobs=-1)]: Done 196 tasks      | elapsed:  1.9min\n",
            "[Parallel(n_jobs=-1)]: Done 240 out of 240 | elapsed:  2.4min finished\n",
            "/content/PRI/main_functions.py:299: RuntimeWarning: divide by zero encountered in log\n",
            "  A = -np.log((1 / N * No) * K1)\n",
            "/content/PRI/main_functions.py:299: RuntimeWarning: divide by zero encountered in log\n",
            "  A = -np.log((1 / N * No) * K1)\n",
            "[Parallel(n_jobs=-1)]: Using backend LokyBackend with 2 concurrent workers.\n"
          ],
          "name": "stderr"
        },
        {
          "output_type": "stream",
          "text": [
            "it 7/10\n",
            "{'rep__gamma_': 1000, 'rep__lambda_': 3, 'rep__n_clusters': 3, 'rep__nn': 3, 'rep__reduction_': 'SC', 'rep__sigma_initial': 5}\n",
            "acc: 72.22222222222221\n",
            "ari: 39.927872230808866\n",
            "it 8/10\n",
            "Fitting 5 folds for each of 48 candidates, totalling 240 fits\n"
          ],
          "name": "stdout"
        },
        {
          "output_type": "stream",
          "text": [
            "[Parallel(n_jobs=-1)]: Done  46 tasks      | elapsed:   24.0s\n",
            "[Parallel(n_jobs=-1)]: Done 196 tasks      | elapsed:  1.9min\n",
            "[Parallel(n_jobs=-1)]: Done 240 out of 240 | elapsed:  2.3min finished\n",
            "/content/PRI/main_functions.py:299: RuntimeWarning: divide by zero encountered in log\n",
            "  A = -np.log((1 / N * No) * K1)\n",
            "/content/PRI/main_functions.py:299: RuntimeWarning: divide by zero encountered in log\n",
            "  A = -np.log((1 / N * No) * K1)\n",
            "[Parallel(n_jobs=-1)]: Using backend LokyBackend with 2 concurrent workers.\n"
          ],
          "name": "stderr"
        },
        {
          "output_type": "stream",
          "text": [
            "it 8/10\n",
            "{'rep__gamma_': 1000, 'rep__lambda_': 3, 'rep__n_clusters': 3, 'rep__nn': 3, 'rep__reduction_': 'SC', 'rep__sigma_initial': 5}\n",
            "acc: 66.66666666666666\n",
            "ari: 32.0033836176512\n",
            "it 9/10\n",
            "Fitting 5 folds for each of 48 candidates, totalling 240 fits\n"
          ],
          "name": "stdout"
        },
        {
          "output_type": "stream",
          "text": [
            "[Parallel(n_jobs=-1)]: Done  46 tasks      | elapsed:   24.0s\n",
            "[Parallel(n_jobs=-1)]: Done 196 tasks      | elapsed:  1.8min\n",
            "[Parallel(n_jobs=-1)]: Done 240 out of 240 | elapsed:  2.3min finished\n"
          ],
          "name": "stderr"
        },
        {
          "output_type": "stream",
          "text": [
            "it 9/10\n",
            "{'rep__gamma_': 100, 'rep__lambda_': 3, 'rep__n_clusters': 3, 'rep__nn': 5, 'rep__reduction_': 'SC', 'rep__sigma_initial': 25}\n",
            "acc: 70.37037037037037\n",
            "ari: 35.925576609791655\n",
            "it 10/10\n",
            "Fitting 5 folds for each of 48 candidates, totalling 240 fits\n"
          ],
          "name": "stdout"
        },
        {
          "output_type": "stream",
          "text": [
            "[Parallel(n_jobs=-1)]: Using backend LokyBackend with 2 concurrent workers.\n",
            "[Parallel(n_jobs=-1)]: Done  46 tasks      | elapsed:   24.9s\n",
            "[Parallel(n_jobs=-1)]: Done 196 tasks      | elapsed:  1.9min\n",
            "[Parallel(n_jobs=-1)]: Done 240 out of 240 | elapsed:  2.4min finished\n",
            "/content/PRI/main_functions.py:299: RuntimeWarning: divide by zero encountered in log\n",
            "  A = -np.log((1 / N * No) * K1)\n",
            "/content/PRI/main_functions.py:299: RuntimeWarning: divide by zero encountered in log\n",
            "  A = -np.log((1 / N * No) * K1)\n",
            "[Parallel(n_jobs=-1)]: Using backend LokyBackend with 2 concurrent workers.\n"
          ],
          "name": "stderr"
        },
        {
          "output_type": "stream",
          "text": [
            "it 10/10\n",
            "{'rep__gamma_': 100, 'rep__lambda_': 3, 'rep__n_clusters': 3, 'rep__nn': 3, 'rep__reduction_': 'SC', 'rep__sigma_initial': 5}\n",
            "acc: 64.81481481481481\n",
            "ari: 37.739474117582475\n",
            "it 1/10\n",
            "Fitting 5 folds for each of 288 candidates, totalling 1440 fits\n"
          ],
          "name": "stdout"
        },
        {
          "output_type": "stream",
          "text": [
            "[Parallel(n_jobs=-1)]: Done  46 tasks      | elapsed:   14.2s\n",
            "[Parallel(n_jobs=-1)]: Done 196 tasks      | elapsed:  1.0min\n",
            "[Parallel(n_jobs=-1)]: Done 446 tasks      | elapsed:  2.3min\n",
            "[Parallel(n_jobs=-1)]: Done 796 tasks      | elapsed:  4.1min\n",
            "[Parallel(n_jobs=-1)]: Done 1246 tasks      | elapsed:  6.4min\n",
            "[Parallel(n_jobs=-1)]: Done 1440 out of 1440 | elapsed:  7.6min finished\n"
          ],
          "name": "stderr"
        },
        {
          "output_type": "stream",
          "text": [
            "it 1/10\n",
            "{'rep__gamma_': 500, 'rep__lambda_': 2, 'rep__learning_rate': 0.001, 'rep__n_clusters': 3, 'rep__nn': 3, 'rep__optimization': 'Adam', 'rep__reduction_': 'SC', 'rep__sigma_initial': 30}\n",
            "acc: 87.03703703703704\n",
            "ari: 64.857024450891\n",
            "it 2/10\n",
            "Fitting 5 folds for each of 288 candidates, totalling 1440 fits\n"
          ],
          "name": "stdout"
        },
        {
          "output_type": "stream",
          "text": [
            "[Parallel(n_jobs=-1)]: Using backend LokyBackend with 2 concurrent workers.\n",
            "[Parallel(n_jobs=-1)]: Done  46 tasks      | elapsed:   14.3s\n",
            "[Parallel(n_jobs=-1)]: Done 196 tasks      | elapsed:  1.0min\n",
            "[Parallel(n_jobs=-1)]: Done 446 tasks      | elapsed:  2.3min\n",
            "[Parallel(n_jobs=-1)]: Done 796 tasks      | elapsed:  4.0min\n",
            "[Parallel(n_jobs=-1)]: Done 1246 tasks      | elapsed:  6.4min\n",
            "[Parallel(n_jobs=-1)]: Done 1440 out of 1440 | elapsed:  7.5min finished\n"
          ],
          "name": "stderr"
        },
        {
          "output_type": "stream",
          "text": [
            "it 2/10\n",
            "{'rep__gamma_': 1000, 'rep__lambda_': 2, 'rep__learning_rate': 0.001, 'rep__n_clusters': 3, 'rep__nn': 5, 'rep__optimization': 'Adam', 'rep__reduction_': 'SC', 'rep__sigma_initial': 30}\n",
            "acc: 77.77777777777779\n",
            "ari: 50.415800415800405\n",
            "it 3/10\n",
            "Fitting 5 folds for each of 288 candidates, totalling 1440 fits\n"
          ],
          "name": "stdout"
        },
        {
          "output_type": "stream",
          "text": [
            "[Parallel(n_jobs=-1)]: Using backend LokyBackend with 2 concurrent workers.\n",
            "[Parallel(n_jobs=-1)]: Done  46 tasks      | elapsed:   14.0s\n",
            "[Parallel(n_jobs=-1)]: Done 196 tasks      | elapsed:   59.8s\n",
            "[Parallel(n_jobs=-1)]: Done 446 tasks      | elapsed:  2.3min\n",
            "[Parallel(n_jobs=-1)]: Done 796 tasks      | elapsed:  4.1min\n",
            "[Parallel(n_jobs=-1)]: Done 1246 tasks      | elapsed:  6.4min\n",
            "[Parallel(n_jobs=-1)]: Done 1440 out of 1440 | elapsed:  7.4min finished\n"
          ],
          "name": "stderr"
        },
        {
          "output_type": "stream",
          "text": [
            "it 3/10\n",
            "{'rep__gamma_': 500, 'rep__lambda_': 3, 'rep__learning_rate': 0.001, 'rep__n_clusters': 3, 'rep__nn': 5, 'rep__optimization': 'Nadam', 'rep__reduction_': 'SC', 'rep__sigma_initial': 30}\n",
            "acc: 85.18518518518519\n",
            "ari: 61.20883012631331\n",
            "it 4/10\n",
            "Fitting 5 folds for each of 288 candidates, totalling 1440 fits\n"
          ],
          "name": "stdout"
        },
        {
          "output_type": "stream",
          "text": [
            "[Parallel(n_jobs=-1)]: Using backend LokyBackend with 2 concurrent workers.\n",
            "[Parallel(n_jobs=-1)]: Done  46 tasks      | elapsed:   14.0s\n",
            "[Parallel(n_jobs=-1)]: Done 196 tasks      | elapsed:  1.0min\n",
            "[Parallel(n_jobs=-1)]: Done 446 tasks      | elapsed:  2.3min\n",
            "[Parallel(n_jobs=-1)]: Done 796 tasks      | elapsed:  4.1min\n",
            "[Parallel(n_jobs=-1)]: Done 1246 tasks      | elapsed:  6.4min\n",
            "[Parallel(n_jobs=-1)]: Done 1440 out of 1440 | elapsed:  7.5min finished\n"
          ],
          "name": "stderr"
        },
        {
          "output_type": "stream",
          "text": [
            "it 4/10\n",
            "{'rep__gamma_': 1000, 'rep__lambda_': 2, 'rep__learning_rate': 0.001, 'rep__n_clusters': 3, 'rep__nn': 3, 'rep__optimization': 'Adam', 'rep__reduction_': 'SC', 'rep__sigma_initial': 30}\n",
            "acc: 81.48148148148148\n",
            "ari: 55.04533489324365\n",
            "it 5/10\n",
            "Fitting 5 folds for each of 288 candidates, totalling 1440 fits\n"
          ],
          "name": "stdout"
        },
        {
          "output_type": "stream",
          "text": [
            "[Parallel(n_jobs=-1)]: Using backend LokyBackend with 2 concurrent workers.\n",
            "[Parallel(n_jobs=-1)]: Done  46 tasks      | elapsed:   14.2s\n",
            "[Parallel(n_jobs=-1)]: Done 196 tasks      | elapsed:   59.5s\n",
            "[Parallel(n_jobs=-1)]: Done 446 tasks      | elapsed:  2.3min\n",
            "[Parallel(n_jobs=-1)]: Done 796 tasks      | elapsed:  4.0min\n",
            "[Parallel(n_jobs=-1)]: Done 1246 tasks      | elapsed:  6.4min\n",
            "[Parallel(n_jobs=-1)]: Done 1440 out of 1440 | elapsed:  7.5min finished\n"
          ],
          "name": "stderr"
        },
        {
          "output_type": "stream",
          "text": [
            "it 5/10\n",
            "{'rep__gamma_': 500, 'rep__lambda_': 3, 'rep__learning_rate': 0.001, 'rep__n_clusters': 3, 'rep__nn': 5, 'rep__optimization': 'Nadam', 'rep__reduction_': 'SC', 'rep__sigma_initial': 30}\n",
            "acc: 90.74074074074075\n",
            "ari: 72.56337022491967\n",
            "it 6/10\n",
            "Fitting 5 folds for each of 288 candidates, totalling 1440 fits\n"
          ],
          "name": "stdout"
        },
        {
          "output_type": "stream",
          "text": [
            "[Parallel(n_jobs=-1)]: Using backend LokyBackend with 2 concurrent workers.\n",
            "[Parallel(n_jobs=-1)]: Done  46 tasks      | elapsed:   14.6s\n",
            "[Parallel(n_jobs=-1)]: Done 196 tasks      | elapsed:  1.0min\n",
            "[Parallel(n_jobs=-1)]: Done 446 tasks      | elapsed:  2.3min\n",
            "[Parallel(n_jobs=-1)]: Done 796 tasks      | elapsed:  4.3min\n",
            "[Parallel(n_jobs=-1)]: Done 1246 tasks      | elapsed:  6.7min\n",
            "[Parallel(n_jobs=-1)]: Done 1440 out of 1440 | elapsed:  7.8min finished\n"
          ],
          "name": "stderr"
        },
        {
          "output_type": "stream",
          "text": [
            "it 6/10\n",
            "{'rep__gamma_': 500, 'rep__lambda_': 3, 'rep__learning_rate': 0.001, 'rep__n_clusters': 3, 'rep__nn': 3, 'rep__optimization': 'Nadam', 'rep__reduction_': 'SC', 'rep__sigma_initial': 35}\n",
            "acc: 88.88888888888889\n",
            "ari: 68.87346502936464\n",
            "it 7/10\n",
            "Fitting 5 folds for each of 288 candidates, totalling 1440 fits\n"
          ],
          "name": "stdout"
        },
        {
          "output_type": "stream",
          "text": [
            "[Parallel(n_jobs=-1)]: Using backend LokyBackend with 2 concurrent workers.\n",
            "[Parallel(n_jobs=-1)]: Done  46 tasks      | elapsed:   14.7s\n",
            "[Parallel(n_jobs=-1)]: Done 196 tasks      | elapsed:  1.0min\n",
            "[Parallel(n_jobs=-1)]: Done 446 tasks      | elapsed:  2.3min\n",
            "[Parallel(n_jobs=-1)]: Done 796 tasks      | elapsed:  4.1min\n",
            "[Parallel(n_jobs=-1)]: Done 1246 tasks      | elapsed:  6.6min\n",
            "[Parallel(n_jobs=-1)]: Done 1440 out of 1440 | elapsed:  7.7min finished\n"
          ],
          "name": "stderr"
        },
        {
          "output_type": "stream",
          "text": [
            "it 7/10\n",
            "{'rep__gamma_': 500, 'rep__lambda_': 2, 'rep__learning_rate': 0.001, 'rep__n_clusters': 3, 'rep__nn': 5, 'rep__optimization': 'Adam', 'rep__reduction_': 'SC', 'rep__sigma_initial': 30}\n",
            "acc: 88.88888888888889\n",
            "ari: 68.87346502936464\n",
            "it 8/10\n",
            "Fitting 5 folds for each of 288 candidates, totalling 1440 fits\n"
          ],
          "name": "stdout"
        },
        {
          "output_type": "stream",
          "text": [
            "[Parallel(n_jobs=-1)]: Using backend LokyBackend with 2 concurrent workers.\n",
            "[Parallel(n_jobs=-1)]: Done  46 tasks      | elapsed:   14.3s\n",
            "[Parallel(n_jobs=-1)]: Done 196 tasks      | elapsed:  1.0min\n",
            "[Parallel(n_jobs=-1)]: Done 446 tasks      | elapsed:  2.3min\n",
            "[Parallel(n_jobs=-1)]: Done 796 tasks      | elapsed:  4.1min\n",
            "[Parallel(n_jobs=-1)]: Done 1246 tasks      | elapsed:  6.5min\n",
            "[Parallel(n_jobs=-1)]: Done 1440 out of 1440 | elapsed:  7.6min finished\n"
          ],
          "name": "stderr"
        },
        {
          "output_type": "stream",
          "text": [
            "it 8/10\n",
            "{'rep__gamma_': 1000, 'rep__lambda_': 3, 'rep__learning_rate': 0.001, 'rep__n_clusters': 3, 'rep__nn': 5, 'rep__optimization': 'Nadam', 'rep__reduction_': 'SC', 'rep__sigma_initial': 30}\n",
            "acc: 72.22222222222221\n",
            "ari: 52.46636771300448\n",
            "it 9/10\n",
            "Fitting 5 folds for each of 288 candidates, totalling 1440 fits\n"
          ],
          "name": "stdout"
        },
        {
          "output_type": "stream",
          "text": [
            "[Parallel(n_jobs=-1)]: Using backend LokyBackend with 2 concurrent workers.\n",
            "[Parallel(n_jobs=-1)]: Done  46 tasks      | elapsed:   14.4s\n",
            "[Parallel(n_jobs=-1)]: Done 196 tasks      | elapsed:  1.0min\n",
            "[Parallel(n_jobs=-1)]: Done 446 tasks      | elapsed:  2.3min\n",
            "[Parallel(n_jobs=-1)]: Done 796 tasks      | elapsed:  4.1min\n",
            "[Parallel(n_jobs=-1)]: Done 1246 tasks      | elapsed:  6.5min\n",
            "[Parallel(n_jobs=-1)]: Done 1440 out of 1440 | elapsed:  7.5min finished\n"
          ],
          "name": "stderr"
        },
        {
          "output_type": "stream",
          "text": [
            "it 9/10\n",
            "{'rep__gamma_': 1000, 'rep__lambda_': 2, 'rep__learning_rate': 0.001, 'rep__n_clusters': 3, 'rep__nn': 3, 'rep__optimization': 'Nadam', 'rep__reduction_': 'SC', 'rep__sigma_initial': 30}\n",
            "acc: 85.18518518518519\n",
            "ari: 61.20883012631331\n",
            "it 10/10\n",
            "Fitting 5 folds for each of 288 candidates, totalling 1440 fits\n"
          ],
          "name": "stdout"
        },
        {
          "output_type": "stream",
          "text": [
            "[Parallel(n_jobs=-1)]: Using backend LokyBackend with 2 concurrent workers.\n",
            "[Parallel(n_jobs=-1)]: Done  46 tasks      | elapsed:   14.0s\n",
            "[Parallel(n_jobs=-1)]: Done 196 tasks      | elapsed:   59.9s\n",
            "[Parallel(n_jobs=-1)]: Done 446 tasks      | elapsed:  2.3min\n",
            "[Parallel(n_jobs=-1)]: Done 796 tasks      | elapsed:  4.1min\n",
            "[Parallel(n_jobs=-1)]: Done 1246 tasks      | elapsed:  6.5min\n",
            "[Parallel(n_jobs=-1)]: Done 1440 out of 1440 | elapsed:  7.6min finished\n"
          ],
          "name": "stderr"
        },
        {
          "output_type": "stream",
          "text": [
            "it 10/10\n",
            "{'rep__gamma_': 1000, 'rep__lambda_': 3, 'rep__learning_rate': 0.001, 'rep__n_clusters': 3, 'rep__nn': 5, 'rep__optimization': 'Nadam', 'rep__reduction_': 'SC', 'rep__sigma_initial': 30}\n",
            "acc: 85.18518518518519\n",
            "ari: 59.97334517992003\n",
            "it 1/10\n",
            "Fitting 5 folds for each of 36 candidates, totalling 180 fits\n"
          ],
          "name": "stdout"
        },
        {
          "output_type": "stream",
          "text": [
            "[Parallel(n_jobs=-1)]: Using backend LokyBackend with 2 concurrent workers.\n",
            "[Parallel(n_jobs=-1)]: Done 164 tasks      | elapsed:    5.3s\n",
            "[Parallel(n_jobs=-1)]: Done 180 out of 180 | elapsed:    5.9s finished\n",
            "[Parallel(n_jobs=-1)]: Using backend LokyBackend with 2 concurrent workers.\n"
          ],
          "name": "stderr"
        },
        {
          "output_type": "stream",
          "text": [
            "it 1/10\n",
            "{'rep__gamma_': 500, 'rep__n_clusters_': 3, 'rep__n_neighbors_': 5, 'rep__nn_': 3}\n",
            "acc: 98.14814814814815\n",
            "ari: 94.05619171290284\n",
            "it 2/10\n",
            "Fitting 5 folds for each of 36 candidates, totalling 180 fits\n"
          ],
          "name": "stdout"
        },
        {
          "output_type": "stream",
          "text": [
            "[Parallel(n_jobs=-1)]: Done 164 tasks      | elapsed:    5.4s\n",
            "[Parallel(n_jobs=-1)]: Done 180 out of 180 | elapsed:    5.9s finished\n",
            "[Parallel(n_jobs=-1)]: Using backend LokyBackend with 2 concurrent workers.\n"
          ],
          "name": "stderr"
        },
        {
          "output_type": "stream",
          "text": [
            "it 2/10\n",
            "{'rep__gamma_': 500, 'rep__n_clusters_': 3, 'rep__n_neighbors_': 5, 'rep__nn_': 3}\n",
            "acc: 88.88888888888889\n",
            "ari: 68.87346502936464\n",
            "it 3/10\n",
            "Fitting 5 folds for each of 36 candidates, totalling 180 fits\n"
          ],
          "name": "stdout"
        },
        {
          "output_type": "stream",
          "text": [
            "[Parallel(n_jobs=-1)]: Done 164 tasks      | elapsed:    5.3s\n",
            "[Parallel(n_jobs=-1)]: Done 180 out of 180 | elapsed:    5.8s finished\n",
            "[Parallel(n_jobs=-1)]: Using backend LokyBackend with 2 concurrent workers.\n"
          ],
          "name": "stderr"
        },
        {
          "output_type": "stream",
          "text": [
            "it 3/10\n",
            "{'rep__gamma_': 1000, 'rep__n_clusters_': 3, 'rep__n_neighbors_': 5, 'rep__nn_': 3}\n",
            "acc: 94.44444444444444\n",
            "ari: 83.02189001601708\n",
            "it 4/10\n",
            "Fitting 5 folds for each of 36 candidates, totalling 180 fits\n"
          ],
          "name": "stdout"
        },
        {
          "output_type": "stream",
          "text": [
            "[Parallel(n_jobs=-1)]: Done 164 tasks      | elapsed:    5.2s\n",
            "[Parallel(n_jobs=-1)]: Done 180 out of 180 | elapsed:    5.8s finished\n",
            "[Parallel(n_jobs=-1)]: Using backend LokyBackend with 2 concurrent workers.\n"
          ],
          "name": "stderr"
        },
        {
          "output_type": "stream",
          "text": [
            "it 4/10\n",
            "{'rep__gamma_': 1000, 'rep__n_clusters_': 3, 'rep__n_neighbors_': 5, 'rep__nn_': 3}\n",
            "acc: 98.14814814814815\n",
            "ari: 94.05619171290284\n",
            "it 5/10\n",
            "Fitting 5 folds for each of 36 candidates, totalling 180 fits\n"
          ],
          "name": "stdout"
        },
        {
          "output_type": "stream",
          "text": [
            "[Parallel(n_jobs=-1)]: Done 164 tasks      | elapsed:    5.3s\n",
            "[Parallel(n_jobs=-1)]: Done 180 out of 180 | elapsed:    5.9s finished\n",
            "[Parallel(n_jobs=-1)]: Using backend LokyBackend with 2 concurrent workers.\n"
          ],
          "name": "stderr"
        },
        {
          "output_type": "stream",
          "text": [
            "it 5/10\n",
            "{'rep__gamma_': 500, 'rep__n_clusters_': 3, 'rep__n_neighbors_': 5, 'rep__nn_': 3}\n",
            "acc: 94.44444444444444\n",
            "ari: 83.02189001601708\n",
            "it 6/10\n",
            "Fitting 5 folds for each of 36 candidates, totalling 180 fits\n"
          ],
          "name": "stdout"
        },
        {
          "output_type": "stream",
          "text": [
            "[Parallel(n_jobs=-1)]: Done 164 tasks      | elapsed:    5.4s\n",
            "[Parallel(n_jobs=-1)]: Done 180 out of 180 | elapsed:    6.0s finished\n",
            "[Parallel(n_jobs=-1)]: Using backend LokyBackend with 2 concurrent workers.\n"
          ],
          "name": "stderr"
        },
        {
          "output_type": "stream",
          "text": [
            "it 6/10\n",
            "{'rep__gamma_': 500, 'rep__n_clusters_': 3, 'rep__n_neighbors_': 5, 'rep__nn_': 3}\n",
            "acc: 98.14814814814815\n",
            "ari: 94.05619171290284\n",
            "it 7/10\n",
            "Fitting 5 folds for each of 36 candidates, totalling 180 fits\n"
          ],
          "name": "stdout"
        },
        {
          "output_type": "stream",
          "text": [
            "[Parallel(n_jobs=-1)]: Done 164 tasks      | elapsed:    5.1s\n",
            "[Parallel(n_jobs=-1)]: Done 180 out of 180 | elapsed:    5.7s finished\n",
            "[Parallel(n_jobs=-1)]: Using backend LokyBackend with 2 concurrent workers.\n"
          ],
          "name": "stderr"
        },
        {
          "output_type": "stream",
          "text": [
            "it 7/10\n",
            "{'rep__gamma_': 500, 'rep__n_clusters_': 3, 'rep__n_neighbors_': 5, 'rep__nn_': 3}\n",
            "acc: 96.29629629629629\n",
            "ari: 88.39026700609793\n",
            "it 8/10\n",
            "Fitting 5 folds for each of 36 candidates, totalling 180 fits\n"
          ],
          "name": "stdout"
        },
        {
          "output_type": "stream",
          "text": [
            "[Parallel(n_jobs=-1)]: Done 164 tasks      | elapsed:    5.4s\n",
            "[Parallel(n_jobs=-1)]: Done 180 out of 180 | elapsed:    5.9s finished\n",
            "[Parallel(n_jobs=-1)]: Using backend LokyBackend with 2 concurrent workers.\n"
          ],
          "name": "stderr"
        },
        {
          "output_type": "stream",
          "text": [
            "it 8/10\n",
            "{'rep__gamma_': 500, 'rep__n_clusters_': 3, 'rep__n_neighbors_': 5, 'rep__nn_': 3}\n",
            "acc: 92.5925925925926\n",
            "ari: 77.29382363441627\n",
            "it 9/10\n",
            "Fitting 5 folds for each of 36 candidates, totalling 180 fits\n"
          ],
          "name": "stdout"
        },
        {
          "output_type": "stream",
          "text": [
            "[Parallel(n_jobs=-1)]: Done 164 tasks      | elapsed:    5.2s\n",
            "[Parallel(n_jobs=-1)]: Done 180 out of 180 | elapsed:    5.7s finished\n",
            "[Parallel(n_jobs=-1)]: Using backend LokyBackend with 2 concurrent workers.\n"
          ],
          "name": "stderr"
        },
        {
          "output_type": "stream",
          "text": [
            "it 9/10\n",
            "{'rep__gamma_': 1000, 'rep__n_clusters_': 3, 'rep__n_neighbors_': 5, 'rep__nn_': 3}\n",
            "acc: 96.29629629629629\n",
            "ari: 88.39026700609793\n",
            "it 10/10\n",
            "Fitting 5 folds for each of 36 candidates, totalling 180 fits\n"
          ],
          "name": "stdout"
        },
        {
          "output_type": "stream",
          "text": [
            "[Parallel(n_jobs=-1)]: Done 164 tasks      | elapsed:    5.1s\n",
            "[Parallel(n_jobs=-1)]: Done 180 out of 180 | elapsed:    5.7s finished\n",
            "[Parallel(n_jobs=-1)]: Using backend LokyBackend with 2 concurrent workers.\n"
          ],
          "name": "stderr"
        },
        {
          "output_type": "stream",
          "text": [
            "it 10/10\n",
            "{'rep__gamma_': 1000, 'rep__n_clusters_': 3, 'rep__n_neighbors_': 5, 'rep__nn_': 3}\n",
            "acc: 94.44444444444444\n",
            "ari: 83.02189001601708\n",
            "it 1/10\n",
            "Fitting 5 folds for each of 3 candidates, totalling 15 fits\n"
          ],
          "name": "stdout"
        },
        {
          "output_type": "stream",
          "text": [
            "[Parallel(n_jobs=-1)]: Done  15 out of  15 | elapsed:    0.5s finished\n",
            "[Parallel(n_jobs=-1)]: Using backend LokyBackend with 2 concurrent workers.\n"
          ],
          "name": "stderr"
        },
        {
          "output_type": "stream",
          "text": [
            "it 1/10\n",
            "{'rep__n_clusters_': 3, 'rep__nn': 9}\n",
            "acc: 68.51851851851852\n",
            "ari: 32.670616383730206\n",
            "it 2/10\n",
            "Fitting 5 folds for each of 3 candidates, totalling 15 fits\n"
          ],
          "name": "stdout"
        },
        {
          "output_type": "stream",
          "text": [
            "[Parallel(n_jobs=-1)]: Done  15 out of  15 | elapsed:    0.5s finished\n",
            "[Parallel(n_jobs=-1)]: Using backend LokyBackend with 2 concurrent workers.\n"
          ],
          "name": "stderr"
        },
        {
          "output_type": "stream",
          "text": [
            "it 2/10\n",
            "{'rep__n_clusters_': 3, 'rep__nn': 5}\n",
            "acc: 70.37037037037037\n",
            "ari: 34.27488804684808\n",
            "it 3/10\n",
            "Fitting 5 folds for each of 3 candidates, totalling 15 fits\n"
          ],
          "name": "stdout"
        },
        {
          "output_type": "stream",
          "text": [
            "[Parallel(n_jobs=-1)]: Done  15 out of  15 | elapsed:    0.5s finished\n",
            "[Parallel(n_jobs=-1)]: Using backend LokyBackend with 2 concurrent workers.\n"
          ],
          "name": "stderr"
        },
        {
          "output_type": "stream",
          "text": [
            "it 3/10\n",
            "{'rep__n_clusters_': 3, 'rep__nn': 9}\n",
            "acc: 68.51851851851852\n",
            "ari: 33.03739115588185\n",
            "it 4/10\n",
            "Fitting 5 folds for each of 3 candidates, totalling 15 fits\n"
          ],
          "name": "stdout"
        },
        {
          "output_type": "stream",
          "text": [
            "[Parallel(n_jobs=-1)]: Done  15 out of  15 | elapsed:    0.5s finished\n",
            "[Parallel(n_jobs=-1)]: Using backend LokyBackend with 2 concurrent workers.\n"
          ],
          "name": "stderr"
        },
        {
          "output_type": "stream",
          "text": [
            "it 4/10\n",
            "{'rep__n_clusters_': 3, 'rep__nn': 3}\n",
            "acc: 75.92592592592592\n",
            "ari: 41.09388710149167\n",
            "it 5/10\n",
            "Fitting 5 folds for each of 3 candidates, totalling 15 fits\n"
          ],
          "name": "stdout"
        },
        {
          "output_type": "stream",
          "text": [
            "[Parallel(n_jobs=-1)]: Done  15 out of  15 | elapsed:    0.5s finished\n",
            "[Parallel(n_jobs=-1)]: Using backend LokyBackend with 2 concurrent workers.\n"
          ],
          "name": "stderr"
        },
        {
          "output_type": "stream",
          "text": [
            "it 5/10\n",
            "{'rep__n_clusters_': 3, 'rep__nn': 3}\n",
            "acc: 75.92592592592592\n",
            "ari: 41.09388710149167\n",
            "it 6/10\n",
            "Fitting 5 folds for each of 3 candidates, totalling 15 fits\n"
          ],
          "name": "stdout"
        },
        {
          "output_type": "stream",
          "text": [
            "[Parallel(n_jobs=-1)]: Done  15 out of  15 | elapsed:    0.5s finished\n",
            "[Parallel(n_jobs=-1)]: Using backend LokyBackend with 2 concurrent workers.\n"
          ],
          "name": "stderr"
        },
        {
          "output_type": "stream",
          "text": [
            "it 6/10\n",
            "{'rep__n_clusters_': 3, 'rep__nn': 3}\n",
            "acc: 77.77777777777779\n",
            "ari: 43.91534391534392\n",
            "it 7/10\n",
            "Fitting 5 folds for each of 3 candidates, totalling 15 fits\n"
          ],
          "name": "stdout"
        },
        {
          "output_type": "stream",
          "text": [
            "[Parallel(n_jobs=-1)]: Done  15 out of  15 | elapsed:    0.5s finished\n",
            "[Parallel(n_jobs=-1)]: Using backend LokyBackend with 2 concurrent workers.\n"
          ],
          "name": "stderr"
        },
        {
          "output_type": "stream",
          "text": [
            "it 7/10\n",
            "{'rep__n_clusters_': 3, 'rep__nn': 3}\n",
            "acc: 72.22222222222221\n",
            "ari: 36.64241164241164\n",
            "it 8/10\n",
            "Fitting 5 folds for each of 3 candidates, totalling 15 fits\n"
          ],
          "name": "stdout"
        },
        {
          "output_type": "stream",
          "text": [
            "[Parallel(n_jobs=-1)]: Done  15 out of  15 | elapsed:    0.5s finished\n",
            "[Parallel(n_jobs=-1)]: Using backend LokyBackend with 2 concurrent workers.\n"
          ],
          "name": "stderr"
        },
        {
          "output_type": "stream",
          "text": [
            "it 8/10\n",
            "{'rep__n_clusters_': 3, 'rep__nn': 5}\n",
            "acc: 79.62962962962963\n",
            "ari: 47.131389446346354\n",
            "it 9/10\n",
            "Fitting 5 folds for each of 3 candidates, totalling 15 fits\n"
          ],
          "name": "stdout"
        },
        {
          "output_type": "stream",
          "text": [
            "[Parallel(n_jobs=-1)]: Done  15 out of  15 | elapsed:    0.5s finished\n",
            "[Parallel(n_jobs=-1)]: Using backend LokyBackend with 2 concurrent workers.\n"
          ],
          "name": "stderr"
        },
        {
          "output_type": "stream",
          "text": [
            "it 9/10\n",
            "{'rep__n_clusters_': 3, 'rep__nn': 3}\n",
            "acc: 75.92592592592592\n",
            "ari: 42.19643065438003\n",
            "it 10/10\n",
            "Fitting 5 folds for each of 3 candidates, totalling 15 fits\n"
          ],
          "name": "stdout"
        },
        {
          "output_type": "stream",
          "text": [
            "[Parallel(n_jobs=-1)]: Done  15 out of  15 | elapsed:    0.5s finished\n",
            "[Parallel(n_jobs=-1)]: Using backend LokyBackend with 2 concurrent workers.\n"
          ],
          "name": "stderr"
        },
        {
          "output_type": "stream",
          "text": [
            "it 10/10\n",
            "{'rep__n_clusters_': 3, 'rep__nn': 3}\n",
            "acc: 74.07407407407408\n",
            "ari: 40.139009556907034\n",
            "it 1/10\n",
            "Fitting 5 folds for each of 48 candidates, totalling 240 fits\n"
          ],
          "name": "stdout"
        },
        {
          "output_type": "stream",
          "text": [
            "[Parallel(n_jobs=-1)]: Done  46 tasks      | elapsed:   26.8s\n",
            "[Parallel(n_jobs=-1)]: Done 196 tasks      | elapsed:  1.8min\n",
            "[Parallel(n_jobs=-1)]: Done 240 out of 240 | elapsed:  2.1min finished\n"
          ],
          "name": "stderr"
        },
        {
          "output_type": "stream",
          "text": [
            "it 1/10\n",
            "{'rep__gamma_': 1000, 'rep__lambda_': 3, 'rep__n_clusters': 3, 'rep__nn': 3, 'rep__reduction_': 'SC', 'rep__sigma_initial': 25}\n",
            "acc: 72.22222222222221\n",
            "ari: 52.46636771300448\n",
            "it 2/10\n",
            "Fitting 5 folds for each of 48 candidates, totalling 240 fits\n"
          ],
          "name": "stdout"
        },
        {
          "output_type": "stream",
          "text": [
            "[Parallel(n_jobs=-1)]: Using backend LokyBackend with 2 concurrent workers.\n",
            "[Parallel(n_jobs=-1)]: Done  46 tasks      | elapsed:   26.9s\n",
            "[Parallel(n_jobs=-1)]: Done 196 tasks      | elapsed:  1.9min\n",
            "[Parallel(n_jobs=-1)]: Done 240 out of 240 | elapsed:  2.3min finished\n"
          ],
          "name": "stderr"
        },
        {
          "output_type": "stream",
          "text": [
            "it 2/10\n",
            "{'rep__gamma_': 1000, 'rep__lambda_': 3, 'rep__n_clusters': 3, 'rep__nn': 3, 'rep__reduction_': 'SC', 'rep__sigma_initial': 35}\n",
            "acc: 74.07407407407408\n",
            "ari: 45.01414730343823\n",
            "it 3/10\n",
            "Fitting 5 folds for each of 48 candidates, totalling 240 fits\n"
          ],
          "name": "stdout"
        },
        {
          "output_type": "stream",
          "text": [
            "[Parallel(n_jobs=-1)]: Using backend LokyBackend with 2 concurrent workers.\n",
            "[Parallel(n_jobs=-1)]: Done  46 tasks      | elapsed:   27.5s\n",
            "[Parallel(n_jobs=-1)]: Done 196 tasks      | elapsed:  1.9min\n",
            "[Parallel(n_jobs=-1)]: Done 240 out of 240 | elapsed:  2.3min finished\n"
          ],
          "name": "stderr"
        },
        {
          "output_type": "stream",
          "text": [
            "it 3/10\n",
            "{'rep__gamma_': 1000, 'rep__lambda_': 3, 'rep__n_clusters': 3, 'rep__nn': 3, 'rep__reduction_': 'SC', 'rep__sigma_initial': 25}\n",
            "acc: 70.37037037037037\n",
            "ari: 42.763287748484416\n",
            "it 4/10\n",
            "Fitting 5 folds for each of 48 candidates, totalling 240 fits\n"
          ],
          "name": "stdout"
        },
        {
          "output_type": "stream",
          "text": [
            "[Parallel(n_jobs=-1)]: Using backend LokyBackend with 2 concurrent workers.\n",
            "[Parallel(n_jobs=-1)]: Done  46 tasks      | elapsed:   28.6s\n",
            "[Parallel(n_jobs=-1)]: Done 196 tasks      | elapsed:  1.8min\n",
            "[Parallel(n_jobs=-1)]: Done 240 out of 240 | elapsed:  2.2min finished\n"
          ],
          "name": "stderr"
        },
        {
          "output_type": "stream",
          "text": [
            "it 4/10\n",
            "{'rep__gamma_': 1000, 'rep__lambda_': 3, 'rep__n_clusters': 3, 'rep__nn': 3, 'rep__reduction_': 'SC', 'rep__sigma_initial': 15}\n",
            "acc: 77.77777777777779\n",
            "ari: 48.454057192625925\n",
            "it 5/10\n",
            "Fitting 5 folds for each of 48 candidates, totalling 240 fits\n"
          ],
          "name": "stdout"
        },
        {
          "output_type": "stream",
          "text": [
            "[Parallel(n_jobs=-1)]: Using backend LokyBackend with 2 concurrent workers.\n",
            "[Parallel(n_jobs=-1)]: Done  46 tasks      | elapsed:   27.6s\n",
            "[Parallel(n_jobs=-1)]: Done 196 tasks      | elapsed:  1.9min\n",
            "[Parallel(n_jobs=-1)]: Done 240 out of 240 | elapsed:  2.2min finished\n"
          ],
          "name": "stderr"
        },
        {
          "output_type": "stream",
          "text": [
            "it 5/10\n",
            "{'rep__gamma_': 1000, 'rep__lambda_': 3, 'rep__n_clusters': 3, 'rep__nn': 3, 'rep__reduction_': 'SC', 'rep__sigma_initial': 25}\n",
            "acc: 77.77777777777779\n",
            "ari: 50.415800415800405\n",
            "it 6/10\n",
            "Fitting 5 folds for each of 48 candidates, totalling 240 fits\n"
          ],
          "name": "stdout"
        },
        {
          "output_type": "stream",
          "text": [
            "[Parallel(n_jobs=-1)]: Using backend LokyBackend with 2 concurrent workers.\n",
            "[Parallel(n_jobs=-1)]: Done  46 tasks      | elapsed:   28.0s\n",
            "[Parallel(n_jobs=-1)]: Done 196 tasks      | elapsed:  1.9min\n",
            "[Parallel(n_jobs=-1)]: Done 240 out of 240 | elapsed:  2.2min finished\n"
          ],
          "name": "stderr"
        },
        {
          "output_type": "stream",
          "text": [
            "it 6/10\n",
            "{'rep__gamma_': 1000, 'rep__lambda_': 3, 'rep__n_clusters': 3, 'rep__nn': 5, 'rep__reduction_': 'SC', 'rep__sigma_initial': 35}\n",
            "acc: 66.66666666666666\n",
            "ari: 32.91139240506328\n",
            "it 7/10\n",
            "Fitting 5 folds for each of 48 candidates, totalling 240 fits\n"
          ],
          "name": "stdout"
        },
        {
          "output_type": "stream",
          "text": [
            "[Parallel(n_jobs=-1)]: Using backend LokyBackend with 2 concurrent workers.\n",
            "[Parallel(n_jobs=-1)]: Done  46 tasks      | elapsed:   27.7s\n",
            "[Parallel(n_jobs=-1)]: Done 196 tasks      | elapsed:  1.8min\n",
            "[Parallel(n_jobs=-1)]: Done 240 out of 240 | elapsed:  2.2min finished\n"
          ],
          "name": "stderr"
        },
        {
          "output_type": "stream",
          "text": [
            "it 7/10\n",
            "{'rep__gamma_': 500, 'rep__lambda_': 3, 'rep__n_clusters': 3, 'rep__nn': 5, 'rep__reduction_': 'SC', 'rep__sigma_initial': 25}\n",
            "acc: 77.77777777777779\n",
            "ari: 50.415800415800405\n",
            "it 8/10\n",
            "Fitting 5 folds for each of 48 candidates, totalling 240 fits\n"
          ],
          "name": "stdout"
        },
        {
          "output_type": "stream",
          "text": [
            "[Parallel(n_jobs=-1)]: Using backend LokyBackend with 2 concurrent workers.\n",
            "[Parallel(n_jobs=-1)]: Done  46 tasks      | elapsed:   34.0s\n",
            "[Parallel(n_jobs=-1)]: Done 196 tasks      | elapsed:  1.9min\n",
            "[Parallel(n_jobs=-1)]: Done 240 out of 240 | elapsed:  2.2min finished\n"
          ],
          "name": "stderr"
        },
        {
          "output_type": "stream",
          "text": [
            "it 8/10\n",
            "{'rep__gamma_': 500, 'rep__lambda_': 3, 'rep__n_clusters': 3, 'rep__nn': 3, 'rep__reduction_': 'SC', 'rep__sigma_initial': 15}\n",
            "acc: 64.81481481481481\n",
            "ari: 31.349450058623198\n",
            "it 9/10\n",
            "Fitting 5 folds for each of 48 candidates, totalling 240 fits\n"
          ],
          "name": "stdout"
        },
        {
          "output_type": "stream",
          "text": [
            "[Parallel(n_jobs=-1)]: Using backend LokyBackend with 2 concurrent workers.\n",
            "[Parallel(n_jobs=-1)]: Done  46 tasks      | elapsed:   26.2s\n",
            "[Parallel(n_jobs=-1)]: Done 196 tasks      | elapsed:  1.8min\n",
            "[Parallel(n_jobs=-1)]: Done 240 out of 240 | elapsed:  2.2min finished\n"
          ],
          "name": "stderr"
        },
        {
          "output_type": "stream",
          "text": [
            "it 9/10\n",
            "{'rep__gamma_': 100, 'rep__lambda_': 3, 'rep__n_clusters': 3, 'rep__nn': 3, 'rep__reduction_': 'SC', 'rep__sigma_initial': 15}\n",
            "acc: 77.77777777777779\n",
            "ari: 50.415800415800405\n",
            "it 10/10\n",
            "Fitting 5 folds for each of 48 candidates, totalling 240 fits\n"
          ],
          "name": "stdout"
        },
        {
          "output_type": "stream",
          "text": [
            "[Parallel(n_jobs=-1)]: Using backend LokyBackend with 2 concurrent workers.\n",
            "[Parallel(n_jobs=-1)]: Done  46 tasks      | elapsed:   25.8s\n",
            "[Parallel(n_jobs=-1)]: Done 196 tasks      | elapsed:  1.7min\n",
            "[Parallel(n_jobs=-1)]: Done 240 out of 240 | elapsed:  2.0min finished\n",
            "/content/PRI/main_functions.py:299: RuntimeWarning: divide by zero encountered in log\n",
            "  A = -np.log((1 / N * No) * K1)\n",
            "/content/PRI/main_functions.py:299: RuntimeWarning: divide by zero encountered in log\n",
            "  A = -np.log((1 / N * No) * K1)\n",
            "[Parallel(n_jobs=-1)]: Using backend LokyBackend with 2 concurrent workers.\n"
          ],
          "name": "stderr"
        },
        {
          "output_type": "stream",
          "text": [
            "it 10/10\n",
            "{'rep__gamma_': 100, 'rep__lambda_': 3, 'rep__n_clusters': 3, 'rep__nn': 5, 'rep__reduction_': 'SC', 'rep__sigma_initial': 5}\n",
            "acc: 72.22222222222221\n",
            "ari: 46.329113924050624\n",
            "it 1/10\n",
            "Fitting 5 folds for each of 288 candidates, totalling 1440 fits\n"
          ],
          "name": "stdout"
        },
        {
          "output_type": "stream",
          "text": [
            "[Parallel(n_jobs=-1)]: Done  46 tasks      | elapsed:   14.4s\n",
            "[Parallel(n_jobs=-1)]: Done 196 tasks      | elapsed:  1.0min\n",
            "[Parallel(n_jobs=-1)]: Done 446 tasks      | elapsed:  2.3min\n",
            "[Parallel(n_jobs=-1)]: Done 796 tasks      | elapsed:  4.2min\n",
            "[Parallel(n_jobs=-1)]: Done 1246 tasks      | elapsed:  6.6min\n",
            "[Parallel(n_jobs=-1)]: Done 1440 out of 1440 | elapsed:  7.8min finished\n"
          ],
          "name": "stderr"
        },
        {
          "output_type": "stream",
          "text": [
            "it 1/10\n",
            "{'rep__gamma_': 500, 'rep__lambda_': 2, 'rep__learning_rate': 0.001, 'rep__n_clusters': 3, 'rep__nn': 3, 'rep__optimization': None, 'rep__reduction_': 'SC', 'rep__sigma_initial': 30}\n",
            "acc: 83.33333333333334\n",
            "ari: 54.72504004271222\n",
            "it 2/10\n",
            "Fitting 5 folds for each of 288 candidates, totalling 1440 fits\n"
          ],
          "name": "stdout"
        },
        {
          "output_type": "stream",
          "text": [
            "[Parallel(n_jobs=-1)]: Using backend LokyBackend with 2 concurrent workers.\n",
            "[Parallel(n_jobs=-1)]: Done  46 tasks      | elapsed:   14.3s\n",
            "[Parallel(n_jobs=-1)]: Done 196 tasks      | elapsed:  1.0min\n",
            "[Parallel(n_jobs=-1)]: Done 446 tasks      | elapsed:  2.3min\n",
            "[Parallel(n_jobs=-1)]: Done 796 tasks      | elapsed:  4.1min\n",
            "[Parallel(n_jobs=-1)]: Done 1246 tasks      | elapsed:  6.5min\n",
            "[Parallel(n_jobs=-1)]: Done 1440 out of 1440 | elapsed:  7.7min finished\n"
          ],
          "name": "stderr"
        },
        {
          "output_type": "stream",
          "text": [
            "it 2/10\n",
            "{'rep__gamma_': 500, 'rep__lambda_': 2, 'rep__learning_rate': 0.001, 'rep__n_clusters': 3, 'rep__nn': 3, 'rep__optimization': 'Nadam', 'rep__reduction_': 'SC', 'rep__sigma_initial': 30}\n",
            "acc: 100.0\n",
            "ari: 100.0\n",
            "it 3/10\n",
            "Fitting 5 folds for each of 288 candidates, totalling 1440 fits\n"
          ],
          "name": "stdout"
        },
        {
          "output_type": "stream",
          "text": [
            "[Parallel(n_jobs=-1)]: Using backend LokyBackend with 2 concurrent workers.\n",
            "[Parallel(n_jobs=-1)]: Done  46 tasks      | elapsed:   14.3s\n",
            "[Parallel(n_jobs=-1)]: Done 196 tasks      | elapsed:  1.0min\n",
            "[Parallel(n_jobs=-1)]: Done 446 tasks      | elapsed:  2.3min\n",
            "[Parallel(n_jobs=-1)]: Done 796 tasks      | elapsed:  4.1min\n",
            "[Parallel(n_jobs=-1)]: Done 1246 tasks      | elapsed:  6.4min\n",
            "[Parallel(n_jobs=-1)]: Done 1440 out of 1440 | elapsed:  7.8min finished\n"
          ],
          "name": "stderr"
        },
        {
          "output_type": "stream",
          "text": [
            "it 3/10\n",
            "{'rep__gamma_': 500, 'rep__lambda_': 3, 'rep__learning_rate': 0.001, 'rep__n_clusters': 3, 'rep__nn': 5, 'rep__optimization': 'Adam', 'rep__reduction_': 'SC', 'rep__sigma_initial': 30}\n",
            "acc: 100.0\n",
            "ari: 100.0\n",
            "it 4/10\n",
            "Fitting 5 folds for each of 288 candidates, totalling 1440 fits\n"
          ],
          "name": "stdout"
        },
        {
          "output_type": "stream",
          "text": [
            "[Parallel(n_jobs=-1)]: Using backend LokyBackend with 2 concurrent workers.\n",
            "[Parallel(n_jobs=-1)]: Done  46 tasks      | elapsed:   14.4s\n",
            "[Parallel(n_jobs=-1)]: Done 196 tasks      | elapsed:  1.0min\n",
            "[Parallel(n_jobs=-1)]: Done 446 tasks      | elapsed:  2.3min\n",
            "[Parallel(n_jobs=-1)]: Done 796 tasks      | elapsed:  4.1min\n",
            "[Parallel(n_jobs=-1)]: Done 1246 tasks      | elapsed:  6.5min\n",
            "[Parallel(n_jobs=-1)]: Done 1440 out of 1440 | elapsed:  7.7min finished\n"
          ],
          "name": "stderr"
        },
        {
          "output_type": "stream",
          "text": [
            "it 4/10\n",
            "{'rep__gamma_': 1000, 'rep__lambda_': 3, 'rep__learning_rate': 0.001, 'rep__n_clusters': 3, 'rep__nn': 5, 'rep__optimization': None, 'rep__reduction_': 'SC', 'rep__sigma_initial': 30}\n",
            "acc: 72.22222222222221\n",
            "ari: 52.46636771300448\n",
            "it 5/10\n",
            "Fitting 5 folds for each of 288 candidates, totalling 1440 fits\n"
          ],
          "name": "stdout"
        },
        {
          "output_type": "stream",
          "text": [
            "[Parallel(n_jobs=-1)]: Using backend LokyBackend with 2 concurrent workers.\n",
            "[Parallel(n_jobs=-1)]: Done  46 tasks      | elapsed:   14.3s\n",
            "[Parallel(n_jobs=-1)]: Done 196 tasks      | elapsed:  1.0min\n",
            "[Parallel(n_jobs=-1)]: Done 446 tasks      | elapsed:  2.3min\n",
            "[Parallel(n_jobs=-1)]: Done 796 tasks      | elapsed:  4.1min\n",
            "[Parallel(n_jobs=-1)]: Done 1246 tasks      | elapsed:  6.5min\n",
            "[Parallel(n_jobs=-1)]: Done 1440 out of 1440 | elapsed:  7.5min finished\n"
          ],
          "name": "stderr"
        },
        {
          "output_type": "stream",
          "text": [
            "it 5/10\n",
            "{'rep__gamma_': 500, 'rep__lambda_': 3, 'rep__learning_rate': 0.001, 'rep__n_clusters': 3, 'rep__nn': 5, 'rep__optimization': 'Nadam', 'rep__reduction_': 'SC', 'rep__sigma_initial': 30}\n",
            "acc: 98.14814814814815\n",
            "ari: 94.10938871014916\n",
            "it 6/10\n",
            "Fitting 5 folds for each of 288 candidates, totalling 1440 fits\n"
          ],
          "name": "stdout"
        },
        {
          "output_type": "stream",
          "text": [
            "[Parallel(n_jobs=-1)]: Using backend LokyBackend with 2 concurrent workers.\n",
            "[Parallel(n_jobs=-1)]: Done  46 tasks      | elapsed:   14.3s\n",
            "[Parallel(n_jobs=-1)]: Done 196 tasks      | elapsed:  1.0min\n",
            "[Parallel(n_jobs=-1)]: Done 446 tasks      | elapsed:  2.3min\n",
            "[Parallel(n_jobs=-1)]: Done 796 tasks      | elapsed:  4.1min\n",
            "[Parallel(n_jobs=-1)]: Done 1246 tasks      | elapsed:  6.4min\n",
            "[Parallel(n_jobs=-1)]: Done 1440 out of 1440 | elapsed:  7.5min finished\n"
          ],
          "name": "stderr"
        },
        {
          "output_type": "stream",
          "text": [
            "it 6/10\n",
            "{'rep__gamma_': 500, 'rep__lambda_': 3, 'rep__learning_rate': 0.001, 'rep__n_clusters': 3, 'rep__nn': 5, 'rep__optimization': 'Nadam', 'rep__reduction_': 'SC', 'rep__sigma_initial': 30}\n",
            "acc: 100.0\n",
            "ari: 100.0\n",
            "it 7/10\n",
            "Fitting 5 folds for each of 288 candidates, totalling 1440 fits\n"
          ],
          "name": "stdout"
        },
        {
          "output_type": "stream",
          "text": [
            "[Parallel(n_jobs=-1)]: Using backend LokyBackend with 2 concurrent workers.\n",
            "[Parallel(n_jobs=-1)]: Done  46 tasks      | elapsed:   14.5s\n",
            "[Parallel(n_jobs=-1)]: Done 196 tasks      | elapsed:  1.0min\n",
            "[Parallel(n_jobs=-1)]: Done 446 tasks      | elapsed:  2.4min\n",
            "[Parallel(n_jobs=-1)]: Done 796 tasks      | elapsed:  4.2min\n",
            "[Parallel(n_jobs=-1)]: Done 1246 tasks      | elapsed:  6.6min\n",
            "[Parallel(n_jobs=-1)]: Done 1440 out of 1440 | elapsed:  7.9min finished\n"
          ],
          "name": "stderr"
        },
        {
          "output_type": "stream",
          "text": [
            "it 7/10\n",
            "{'rep__gamma_': 500, 'rep__lambda_': 3, 'rep__learning_rate': 0.001, 'rep__n_clusters': 3, 'rep__nn': 3, 'rep__optimization': 'Adam', 'rep__reduction_': 'SC', 'rep__sigma_initial': 30}\n",
            "acc: 100.0\n",
            "ari: 100.0\n",
            "it 8/10\n",
            "Fitting 5 folds for each of 288 candidates, totalling 1440 fits\n"
          ],
          "name": "stdout"
        },
        {
          "output_type": "stream",
          "text": [
            "[Parallel(n_jobs=-1)]: Using backend LokyBackend with 2 concurrent workers.\n",
            "[Parallel(n_jobs=-1)]: Done  46 tasks      | elapsed:   14.4s\n",
            "[Parallel(n_jobs=-1)]: Done 196 tasks      | elapsed:  1.0min\n",
            "[Parallel(n_jobs=-1)]: Done 446 tasks      | elapsed:  2.3min\n",
            "[Parallel(n_jobs=-1)]: Done 796 tasks      | elapsed:  4.2min\n",
            "[Parallel(n_jobs=-1)]: Done 1246 tasks      | elapsed:  6.6min\n",
            "[Parallel(n_jobs=-1)]: Done 1440 out of 1440 | elapsed:  7.7min finished\n"
          ],
          "name": "stderr"
        },
        {
          "output_type": "stream",
          "text": [
            "it 8/10\n",
            "{'rep__gamma_': 500, 'rep__lambda_': 3, 'rep__learning_rate': 0.001, 'rep__n_clusters': 3, 'rep__nn': 5, 'rep__optimization': 'Nadam', 'rep__reduction_': 'SC', 'rep__sigma_initial': 30}\n",
            "acc: 100.0\n",
            "ari: 100.0\n",
            "it 9/10\n",
            "Fitting 5 folds for each of 288 candidates, totalling 1440 fits\n"
          ],
          "name": "stdout"
        },
        {
          "output_type": "stream",
          "text": [
            "[Parallel(n_jobs=-1)]: Using backend LokyBackend with 2 concurrent workers.\n",
            "[Parallel(n_jobs=-1)]: Done  46 tasks      | elapsed:   14.3s\n",
            "[Parallel(n_jobs=-1)]: Done 196 tasks      | elapsed:  1.0min\n",
            "[Parallel(n_jobs=-1)]: Done 446 tasks      | elapsed:  2.3min\n",
            "[Parallel(n_jobs=-1)]: Done 796 tasks      | elapsed:  4.1min\n",
            "[Parallel(n_jobs=-1)]: Done 1246 tasks      | elapsed:  6.4min\n",
            "[Parallel(n_jobs=-1)]: Done 1440 out of 1440 | elapsed:  7.6min finished\n"
          ],
          "name": "stderr"
        },
        {
          "output_type": "stream",
          "text": [
            "it 9/10\n",
            "{'rep__gamma_': 500, 'rep__lambda_': 2, 'rep__learning_rate': 0.001, 'rep__n_clusters': 3, 'rep__nn': 5, 'rep__optimization': 'Nadam', 'rep__reduction_': 'SC', 'rep__sigma_initial': 30}\n",
            "acc: 100.0\n",
            "ari: 100.0\n",
            "it 10/10\n",
            "Fitting 5 folds for each of 288 candidates, totalling 1440 fits\n"
          ],
          "name": "stdout"
        },
        {
          "output_type": "stream",
          "text": [
            "[Parallel(n_jobs=-1)]: Using backend LokyBackend with 2 concurrent workers.\n",
            "[Parallel(n_jobs=-1)]: Done  46 tasks      | elapsed:   14.3s\n",
            "[Parallel(n_jobs=-1)]: Done 196 tasks      | elapsed:  1.0min\n",
            "[Parallel(n_jobs=-1)]: Done 446 tasks      | elapsed:  2.3min\n",
            "[Parallel(n_jobs=-1)]: Done 796 tasks      | elapsed:  4.1min\n",
            "[Parallel(n_jobs=-1)]: Done 1246 tasks      | elapsed:  6.5min\n",
            "[Parallel(n_jobs=-1)]: Done 1440 out of 1440 | elapsed:  7.7min finished\n"
          ],
          "name": "stderr"
        },
        {
          "output_type": "stream",
          "text": [
            "it 10/10\n",
            "{'rep__gamma_': 500, 'rep__lambda_': 2, 'rep__learning_rate': 0.001, 'rep__n_clusters': 3, 'rep__nn': 5, 'rep__optimization': 'Adam', 'rep__reduction_': 'SC', 'rep__sigma_initial': 30}\n",
            "acc: 100.0\n",
            "ari: 100.0\n",
            "it 1/10\n",
            "Fitting 5 folds for each of 36 candidates, totalling 180 fits\n"
          ],
          "name": "stdout"
        },
        {
          "output_type": "stream",
          "text": [
            "[Parallel(n_jobs=-1)]: Using backend LokyBackend with 2 concurrent workers.\n",
            "[Parallel(n_jobs=-1)]: Done 164 tasks      | elapsed:    5.2s\n",
            "[Parallel(n_jobs=-1)]: Done 180 out of 180 | elapsed:    5.8s finished\n",
            "[Parallel(n_jobs=-1)]: Using backend LokyBackend with 2 concurrent workers.\n"
          ],
          "name": "stderr"
        },
        {
          "output_type": "stream",
          "text": [
            "it 1/10\n",
            "{'rep__gamma_': 1000, 'rep__n_clusters_': 3, 'rep__n_neighbors_': 5, 'rep__nn_': 3}\n",
            "acc: 100.0\n",
            "ari: 100.0\n",
            "it 2/10\n",
            "Fitting 5 folds for each of 36 candidates, totalling 180 fits\n"
          ],
          "name": "stdout"
        },
        {
          "output_type": "stream",
          "text": [
            "[Parallel(n_jobs=-1)]: Done 164 tasks      | elapsed:    5.4s\n",
            "[Parallel(n_jobs=-1)]: Done 180 out of 180 | elapsed:    6.0s finished\n",
            "[Parallel(n_jobs=-1)]: Using backend LokyBackend with 2 concurrent workers.\n"
          ],
          "name": "stderr"
        },
        {
          "output_type": "stream",
          "text": [
            "it 2/10\n",
            "{'rep__gamma_': 1000, 'rep__n_clusters_': 3, 'rep__n_neighbors_': 5, 'rep__nn_': 3}\n",
            "acc: 100.0\n",
            "ari: 100.0\n",
            "it 3/10\n",
            "Fitting 5 folds for each of 36 candidates, totalling 180 fits\n"
          ],
          "name": "stdout"
        },
        {
          "output_type": "stream",
          "text": [
            "[Parallel(n_jobs=-1)]: Done  88 tasks      | elapsed:    2.8s\n",
            "[Parallel(n_jobs=-1)]: Done 180 out of 180 | elapsed:    6.0s finished\n",
            "[Parallel(n_jobs=-1)]: Using backend LokyBackend with 2 concurrent workers.\n"
          ],
          "name": "stderr"
        },
        {
          "output_type": "stream",
          "text": [
            "it 3/10\n",
            "{'rep__gamma_': 1000, 'rep__n_clusters_': 3, 'rep__n_neighbors_': 5, 'rep__nn_': 3}\n",
            "acc: 92.5925925925926\n",
            "ari: 77.9691211401425\n",
            "it 4/10\n",
            "Fitting 5 folds for each of 36 candidates, totalling 180 fits\n"
          ],
          "name": "stdout"
        },
        {
          "output_type": "stream",
          "text": [
            "[Parallel(n_jobs=-1)]: Done 164 tasks      | elapsed:    5.2s\n",
            "[Parallel(n_jobs=-1)]: Done 180 out of 180 | elapsed:    5.7s finished\n",
            "[Parallel(n_jobs=-1)]: Using backend LokyBackend with 2 concurrent workers.\n"
          ],
          "name": "stderr"
        },
        {
          "output_type": "stream",
          "text": [
            "it 4/10\n",
            "{'rep__gamma_': 500, 'rep__n_clusters_': 3, 'rep__n_neighbors_': 5, 'rep__nn_': 3}\n",
            "acc: 88.88888888888889\n",
            "ari: 68.87346502936464\n",
            "it 5/10\n",
            "Fitting 5 folds for each of 36 candidates, totalling 180 fits\n"
          ],
          "name": "stdout"
        },
        {
          "output_type": "stream",
          "text": [
            "[Parallel(n_jobs=-1)]: Done 164 tasks      | elapsed:    5.4s\n",
            "[Parallel(n_jobs=-1)]: Done 180 out of 180 | elapsed:    5.9s finished\n",
            "[Parallel(n_jobs=-1)]: Using backend LokyBackend with 2 concurrent workers.\n"
          ],
          "name": "stderr"
        },
        {
          "output_type": "stream",
          "text": [
            "it 5/10\n",
            "{'rep__gamma_': 1000, 'rep__n_clusters_': 3, 'rep__n_neighbors_': 5, 'rep__nn_': 3}\n",
            "acc: 92.5925925925926\n",
            "ari: 77.9691211401425\n",
            "it 6/10\n",
            "Fitting 5 folds for each of 36 candidates, totalling 180 fits\n"
          ],
          "name": "stdout"
        },
        {
          "output_type": "stream",
          "text": [
            "[Parallel(n_jobs=-1)]: Done 164 tasks      | elapsed:    5.3s\n",
            "[Parallel(n_jobs=-1)]: Done 180 out of 180 | elapsed:    5.8s finished\n",
            "[Parallel(n_jobs=-1)]: Using backend LokyBackend with 2 concurrent workers.\n"
          ],
          "name": "stderr"
        },
        {
          "output_type": "stream",
          "text": [
            "it 6/10\n",
            "{'rep__gamma_': 1000, 'rep__n_clusters_': 3, 'rep__n_neighbors_': 5, 'rep__nn_': 3}\n",
            "acc: 90.74074074074075\n",
            "ari: 73.24821852731591\n",
            "it 7/10\n",
            "Fitting 5 folds for each of 36 candidates, totalling 180 fits\n"
          ],
          "name": "stdout"
        },
        {
          "output_type": "stream",
          "text": [
            "[Parallel(n_jobs=-1)]: Done 160 tasks      | elapsed:    5.2s\n",
            "[Parallel(n_jobs=-1)]: Done 180 out of 180 | elapsed:    5.9s finished\n",
            "[Parallel(n_jobs=-1)]: Using backend LokyBackend with 2 concurrent workers.\n"
          ],
          "name": "stderr"
        },
        {
          "output_type": "stream",
          "text": [
            "it 7/10\n",
            "{'rep__gamma_': 1000, 'rep__n_clusters_': 3, 'rep__n_neighbors_': 5, 'rep__nn_': 3}\n",
            "acc: 100.0\n",
            "ari: 100.0\n",
            "it 8/10\n",
            "Fitting 5 folds for each of 36 candidates, totalling 180 fits\n"
          ],
          "name": "stdout"
        },
        {
          "output_type": "stream",
          "text": [
            "[Parallel(n_jobs=-1)]: Done 164 tasks      | elapsed:    5.2s\n",
            "[Parallel(n_jobs=-1)]: Done 180 out of 180 | elapsed:    5.8s finished\n",
            "[Parallel(n_jobs=-1)]: Using backend LokyBackend with 2 concurrent workers.\n"
          ],
          "name": "stderr"
        },
        {
          "output_type": "stream",
          "text": [
            "it 8/10\n",
            "{'rep__gamma_': 1000, 'rep__n_clusters_': 3, 'rep__n_neighbors_': 5, 'rep__nn_': 3}\n",
            "acc: 100.0\n",
            "ari: 100.0\n",
            "it 9/10\n",
            "Fitting 5 folds for each of 36 candidates, totalling 180 fits\n"
          ],
          "name": "stdout"
        },
        {
          "output_type": "stream",
          "text": [
            "[Parallel(n_jobs=-1)]: Done 164 tasks      | elapsed:    5.1s\n",
            "[Parallel(n_jobs=-1)]: Done 180 out of 180 | elapsed:    5.6s finished\n",
            "[Parallel(n_jobs=-1)]: Using backend LokyBackend with 2 concurrent workers.\n"
          ],
          "name": "stderr"
        },
        {
          "output_type": "stream",
          "text": [
            "it 9/10\n",
            "{'rep__gamma_': 1000, 'rep__n_clusters_': 3, 'rep__n_neighbors_': 5, 'rep__nn_': 3}\n",
            "acc: 100.0\n",
            "ari: 100.0\n",
            "it 10/10\n",
            "Fitting 5 folds for each of 36 candidates, totalling 180 fits\n"
          ],
          "name": "stdout"
        },
        {
          "output_type": "stream",
          "text": [
            "[Parallel(n_jobs=-1)]: Done 164 tasks      | elapsed:    5.2s\n",
            "[Parallel(n_jobs=-1)]: Done 180 out of 180 | elapsed:    5.8s finished\n",
            "[Parallel(n_jobs=-1)]: Using backend LokyBackend with 2 concurrent workers.\n"
          ],
          "name": "stderr"
        },
        {
          "output_type": "stream",
          "text": [
            "it 10/10\n",
            "{'rep__gamma_': 500, 'rep__n_clusters_': 3, 'rep__n_neighbors_': 5, 'rep__nn_': 3}\n",
            "acc: 88.88888888888889\n",
            "ari: 68.87346502936464\n",
            "it 1/10\n",
            "Fitting 5 folds for each of 3 candidates, totalling 15 fits\n"
          ],
          "name": "stdout"
        },
        {
          "output_type": "stream",
          "text": [
            "[Parallel(n_jobs=-1)]: Done  15 out of  15 | elapsed:    0.5s finished\n",
            "[Parallel(n_jobs=-1)]: Using backend LokyBackend with 2 concurrent workers.\n"
          ],
          "name": "stderr"
        },
        {
          "output_type": "stream",
          "text": [
            "it 1/10\n",
            "{'rep__n_clusters_': 3, 'rep__nn': 5}\n",
            "acc: 81.48148148148148\n",
            "ari: 52.184680700513\n",
            "it 2/10\n",
            "Fitting 5 folds for each of 3 candidates, totalling 15 fits\n"
          ],
          "name": "stdout"
        },
        {
          "output_type": "stream",
          "text": [
            "[Parallel(n_jobs=-1)]: Done  15 out of  15 | elapsed:    0.5s finished\n",
            "[Parallel(n_jobs=-1)]: Using backend LokyBackend with 2 concurrent workers.\n"
          ],
          "name": "stderr"
        },
        {
          "output_type": "stream",
          "text": [
            "it 2/10\n",
            "{'rep__n_clusters_': 3, 'rep__nn': 3}\n",
            "acc: 81.48148148148148\n",
            "ari: 51.28129341175776\n",
            "it 3/10\n",
            "Fitting 5 folds for each of 3 candidates, totalling 15 fits\n"
          ],
          "name": "stdout"
        },
        {
          "output_type": "stream",
          "text": [
            "[Parallel(n_jobs=-1)]: Done  15 out of  15 | elapsed:    0.5s finished\n",
            "[Parallel(n_jobs=-1)]: Using backend LokyBackend with 2 concurrent workers.\n"
          ],
          "name": "stderr"
        },
        {
          "output_type": "stream",
          "text": [
            "it 3/10\n",
            "{'rep__n_clusters_': 3, 'rep__nn': 3}\n",
            "acc: 68.51851851851852\n",
            "ari: 33.03739115588185\n",
            "it 4/10\n",
            "Fitting 5 folds for each of 3 candidates, totalling 15 fits\n"
          ],
          "name": "stdout"
        },
        {
          "output_type": "stream",
          "text": [
            "[Parallel(n_jobs=-1)]: Done  15 out of  15 | elapsed:    0.5s finished\n",
            "[Parallel(n_jobs=-1)]: Using backend LokyBackend with 2 concurrent workers.\n"
          ],
          "name": "stderr"
        },
        {
          "output_type": "stream",
          "text": [
            "it 4/10\n",
            "{'rep__n_clusters_': 3, 'rep__nn': 3}\n",
            "acc: 75.92592592592592\n",
            "ari: 41.09388710149167\n",
            "it 5/10\n",
            "Fitting 5 folds for each of 3 candidates, totalling 15 fits\n"
          ],
          "name": "stdout"
        },
        {
          "output_type": "stream",
          "text": [
            "[Parallel(n_jobs=-1)]: Done  15 out of  15 | elapsed:    0.5s finished\n",
            "[Parallel(n_jobs=-1)]: Using backend LokyBackend with 2 concurrent workers.\n"
          ],
          "name": "stderr"
        },
        {
          "output_type": "stream",
          "text": [
            "it 5/10\n",
            "{'rep__n_clusters_': 3, 'rep__nn': 3}\n",
            "acc: 75.92592592592592\n",
            "ari: 44.743701129452646\n",
            "it 6/10\n",
            "Fitting 5 folds for each of 3 candidates, totalling 15 fits\n"
          ],
          "name": "stdout"
        },
        {
          "output_type": "stream",
          "text": [
            "[Parallel(n_jobs=-1)]: Done  15 out of  15 | elapsed:    0.5s finished\n",
            "[Parallel(n_jobs=-1)]: Using backend LokyBackend with 2 concurrent workers.\n"
          ],
          "name": "stderr"
        },
        {
          "output_type": "stream",
          "text": [
            "it 6/10\n",
            "{'rep__n_clusters_': 3, 'rep__nn': 3}\n",
            "acc: 72.22222222222221\n",
            "ari: 36.273773050465344\n",
            "it 7/10\n",
            "Fitting 5 folds for each of 3 candidates, totalling 15 fits\n"
          ],
          "name": "stdout"
        },
        {
          "output_type": "stream",
          "text": [
            "[Parallel(n_jobs=-1)]: Done  15 out of  15 | elapsed:    0.5s finished\n",
            "[Parallel(n_jobs=-1)]: Using backend LokyBackend with 2 concurrent workers.\n"
          ],
          "name": "stderr"
        },
        {
          "output_type": "stream",
          "text": [
            "it 7/10\n",
            "{'rep__n_clusters_': 3, 'rep__nn': 5}\n",
            "acc: 74.07407407407408\n",
            "ari: 39.22194803309624\n",
            "it 8/10\n",
            "Fitting 5 folds for each of 3 candidates, totalling 15 fits\n"
          ],
          "name": "stdout"
        },
        {
          "output_type": "stream",
          "text": [
            "[Parallel(n_jobs=-1)]: Done  15 out of  15 | elapsed:    0.5s finished\n",
            "[Parallel(n_jobs=-1)]: Using backend LokyBackend with 2 concurrent workers.\n"
          ],
          "name": "stderr"
        },
        {
          "output_type": "stream",
          "text": [
            "it 8/10\n",
            "{'rep__n_clusters_': 3, 'rep__nn': 3}\n",
            "acc: 62.96296296296296\n",
            "ari: 29.6310668847188\n",
            "it 9/10\n",
            "Fitting 5 folds for each of 3 candidates, totalling 15 fits\n"
          ],
          "name": "stdout"
        },
        {
          "output_type": "stream",
          "text": [
            "[Parallel(n_jobs=-1)]: Done  15 out of  15 | elapsed:    0.5s finished\n",
            "[Parallel(n_jobs=-1)]: Using backend LokyBackend with 2 concurrent workers.\n"
          ],
          "name": "stderr"
        },
        {
          "output_type": "stream",
          "text": [
            "it 9/10\n",
            "{'rep__n_clusters_': 3, 'rep__nn': 9}\n",
            "acc: 70.37037037037037\n",
            "ari: 34.459013571285105\n",
            "it 10/10\n",
            "Fitting 5 folds for each of 3 candidates, totalling 15 fits\n"
          ],
          "name": "stdout"
        },
        {
          "output_type": "stream",
          "text": [
            "[Parallel(n_jobs=-1)]: Done  15 out of  15 | elapsed:    0.5s finished\n",
            "[Parallel(n_jobs=-1)]: Using backend LokyBackend with 2 concurrent workers.\n"
          ],
          "name": "stderr"
        },
        {
          "output_type": "stream",
          "text": [
            "it 10/10\n",
            "{'rep__n_clusters_': 3, 'rep__nn': 9}\n",
            "acc: 72.22222222222221\n",
            "ari: 36.273773050465344\n",
            "it 1/10\n",
            "Fitting 5 folds for each of 48 candidates, totalling 240 fits\n"
          ],
          "name": "stdout"
        },
        {
          "output_type": "stream",
          "text": [
            "[Parallel(n_jobs=-1)]: Done  46 tasks      | elapsed:   23.8s\n",
            "[Parallel(n_jobs=-1)]: Done 196 tasks      | elapsed:  1.8min\n",
            "[Parallel(n_jobs=-1)]: Done 240 out of 240 | elapsed:  2.2min finished\n"
          ],
          "name": "stderr"
        },
        {
          "output_type": "stream",
          "text": [
            "it 1/10\n",
            "{'rep__gamma_': 1000, 'rep__lambda_': 3, 'rep__n_clusters': 3, 'rep__nn': 5, 'rep__reduction_': 'SC', 'rep__sigma_initial': 15}\n",
            "acc: 48.148148148148145\n",
            "ari: 25.76946970124809\n",
            "it 2/10\n",
            "Fitting 5 folds for each of 48 candidates, totalling 240 fits\n"
          ],
          "name": "stdout"
        },
        {
          "output_type": "stream",
          "text": [
            "[Parallel(n_jobs=-1)]: Using backend LokyBackend with 2 concurrent workers.\n",
            "[Parallel(n_jobs=-1)]: Done  46 tasks      | elapsed:   23.6s\n",
            "[Parallel(n_jobs=-1)]: Done 196 tasks      | elapsed:  1.8min\n",
            "[Parallel(n_jobs=-1)]: Done 240 out of 240 | elapsed:  2.2min finished\n"
          ],
          "name": "stderr"
        },
        {
          "output_type": "stream",
          "text": [
            "it 2/10\n",
            "{'rep__gamma_': 100, 'rep__lambda_': 3, 'rep__n_clusters': 3, 'rep__nn': 5, 'rep__reduction_': 'SC', 'rep__sigma_initial': 15}\n",
            "acc: 79.62962962962963\n",
            "ari: 52.53823341280456\n",
            "it 3/10\n",
            "Fitting 5 folds for each of 48 candidates, totalling 240 fits\n"
          ],
          "name": "stdout"
        },
        {
          "output_type": "stream",
          "text": [
            "[Parallel(n_jobs=-1)]: Using backend LokyBackend with 2 concurrent workers.\n",
            "[Parallel(n_jobs=-1)]: Done  46 tasks      | elapsed:   25.1s\n",
            "[Parallel(n_jobs=-1)]: Done 196 tasks      | elapsed:  1.8min\n",
            "[Parallel(n_jobs=-1)]: Done 240 out of 240 | elapsed:  2.3min finished\n"
          ],
          "name": "stderr"
        },
        {
          "output_type": "stream",
          "text": [
            "it 3/10\n",
            "{'rep__gamma_': 1000, 'rep__lambda_': 3, 'rep__n_clusters': 3, 'rep__nn': 5, 'rep__reduction_': 'SC', 'rep__sigma_initial': 25}\n",
            "acc: 64.81481481481481\n",
            "ari: 41.531473069435435\n",
            "it 4/10\n",
            "Fitting 5 folds for each of 48 candidates, totalling 240 fits\n"
          ],
          "name": "stdout"
        },
        {
          "output_type": "stream",
          "text": [
            "[Parallel(n_jobs=-1)]: Using backend LokyBackend with 2 concurrent workers.\n",
            "[Parallel(n_jobs=-1)]: Done  46 tasks      | elapsed:   24.4s\n",
            "[Parallel(n_jobs=-1)]: Done 196 tasks      | elapsed:  1.9min\n",
            "[Parallel(n_jobs=-1)]: Done 240 out of 240 | elapsed:  2.3min finished\n"
          ],
          "name": "stderr"
        },
        {
          "output_type": "stream",
          "text": [
            "it 4/10\n",
            "{'rep__gamma_': 500, 'rep__lambda_': 3, 'rep__n_clusters': 3, 'rep__nn': 5, 'rep__reduction_': 'SC', 'rep__sigma_initial': 25}\n",
            "acc: 64.81481481481481\n",
            "ari: 32.42957354414876\n",
            "it 5/10\n",
            "Fitting 5 folds for each of 48 candidates, totalling 240 fits\n"
          ],
          "name": "stdout"
        },
        {
          "output_type": "stream",
          "text": [
            "[Parallel(n_jobs=-1)]: Using backend LokyBackend with 2 concurrent workers.\n",
            "[Parallel(n_jobs=-1)]: Done  46 tasks      | elapsed:   28.5s\n",
            "[Parallel(n_jobs=-1)]: Done 196 tasks      | elapsed:  1.9min\n",
            "[Parallel(n_jobs=-1)]: Done 240 out of 240 | elapsed:  2.4min finished\n",
            "/content/PRI/main_functions.py:299: RuntimeWarning: divide by zero encountered in log\n",
            "  A = -np.log((1 / N * No) * K1)\n",
            "/content/PRI/main_functions.py:299: RuntimeWarning: divide by zero encountered in log\n",
            "  A = -np.log((1 / N * No) * K1)\n",
            "[Parallel(n_jobs=-1)]: Using backend LokyBackend with 2 concurrent workers.\n"
          ],
          "name": "stderr"
        },
        {
          "output_type": "stream",
          "text": [
            "it 5/10\n",
            "{'rep__gamma_': 500, 'rep__lambda_': 3, 'rep__n_clusters': 3, 'rep__nn': 3, 'rep__reduction_': 'SC', 'rep__sigma_initial': 5}\n",
            "acc: 81.48148148148148\n",
            "ari: 55.04533489324365\n",
            "it 6/10\n",
            "Fitting 5 folds for each of 48 candidates, totalling 240 fits\n"
          ],
          "name": "stdout"
        },
        {
          "output_type": "stream",
          "text": [
            "[Parallel(n_jobs=-1)]: Done  46 tasks      | elapsed:   23.4s\n",
            "[Parallel(n_jobs=-1)]: Done 196 tasks      | elapsed:  1.8min\n",
            "[Parallel(n_jobs=-1)]: Done 240 out of 240 | elapsed:  2.3min finished\n"
          ],
          "name": "stderr"
        },
        {
          "output_type": "stream",
          "text": [
            "it 6/10\n",
            "{'rep__gamma_': 500, 'rep__lambda_': 3, 'rep__n_clusters': 3, 'rep__nn': 3, 'rep__reduction_': 'SC', 'rep__sigma_initial': 35}\n",
            "acc: 83.33333333333334\n",
            "ari: 57.936507936507944\n",
            "it 7/10\n",
            "Fitting 5 folds for each of 48 candidates, totalling 240 fits\n"
          ],
          "name": "stdout"
        },
        {
          "output_type": "stream",
          "text": [
            "[Parallel(n_jobs=-1)]: Using backend LokyBackend with 2 concurrent workers.\n",
            "[Parallel(n_jobs=-1)]: Done  46 tasks      | elapsed:   24.2s\n",
            "[Parallel(n_jobs=-1)]: Done 196 tasks      | elapsed:  1.8min\n",
            "[Parallel(n_jobs=-1)]: Done 240 out of 240 | elapsed:  2.2min finished\n",
            "/content/PRI/main_functions.py:299: RuntimeWarning: divide by zero encountered in log\n",
            "  A = -np.log((1 / N * No) * K1)\n",
            "/content/PRI/main_functions.py:299: RuntimeWarning: divide by zero encountered in log\n",
            "  A = -np.log((1 / N * No) * K1)\n",
            "[Parallel(n_jobs=-1)]: Using backend LokyBackend with 2 concurrent workers.\n"
          ],
          "name": "stderr"
        },
        {
          "output_type": "stream",
          "text": [
            "it 7/10\n",
            "{'rep__gamma_': 1000, 'rep__lambda_': 3, 'rep__n_clusters': 3, 'rep__nn': 5, 'rep__reduction_': 'SC', 'rep__sigma_initial': 5}\n",
            "acc: 72.22222222222221\n",
            "ari: 52.46636771300448\n",
            "it 8/10\n",
            "Fitting 5 folds for each of 48 candidates, totalling 240 fits\n"
          ],
          "name": "stdout"
        },
        {
          "output_type": "stream",
          "text": [
            "[Parallel(n_jobs=-1)]: Done  46 tasks      | elapsed:   24.0s\n",
            "[Parallel(n_jobs=-1)]: Done 196 tasks      | elapsed:  1.8min\n",
            "[Parallel(n_jobs=-1)]: Done 240 out of 240 | elapsed:  2.3min finished\n"
          ],
          "name": "stderr"
        },
        {
          "output_type": "stream",
          "text": [
            "it 8/10\n",
            "{'rep__gamma_': 500, 'rep__lambda_': 3, 'rep__n_clusters': 3, 'rep__nn': 3, 'rep__reduction_': 'SC', 'rep__sigma_initial': 15}\n",
            "acc: 81.48148148148148\n",
            "ari: 55.04533489324365\n",
            "it 9/10\n",
            "Fitting 5 folds for each of 48 candidates, totalling 240 fits\n"
          ],
          "name": "stdout"
        },
        {
          "output_type": "stream",
          "text": [
            "[Parallel(n_jobs=-1)]: Using backend LokyBackend with 2 concurrent workers.\n",
            "[Parallel(n_jobs=-1)]: Done  46 tasks      | elapsed:   22.9s\n",
            "[Parallel(n_jobs=-1)]: Done 196 tasks      | elapsed:  1.8min\n",
            "[Parallel(n_jobs=-1)]: Done 240 out of 240 | elapsed:  2.4min finished\n",
            "/content/PRI/main_functions.py:299: RuntimeWarning: divide by zero encountered in log\n",
            "  A = -np.log((1 / N * No) * K1)\n",
            "/content/PRI/main_functions.py:299: RuntimeWarning: divide by zero encountered in log\n",
            "  A = -np.log((1 / N * No) * K1)\n",
            "[Parallel(n_jobs=-1)]: Using backend LokyBackend with 2 concurrent workers.\n"
          ],
          "name": "stderr"
        },
        {
          "output_type": "stream",
          "text": [
            "it 9/10\n",
            "{'rep__gamma_': 500, 'rep__lambda_': 3, 'rep__n_clusters': 3, 'rep__nn': 3, 'rep__reduction_': 'SC', 'rep__sigma_initial': 5}\n",
            "acc: 79.62962962962963\n",
            "ari: 52.53823341280456\n",
            "it 10/10\n",
            "Fitting 5 folds for each of 48 candidates, totalling 240 fits\n"
          ],
          "name": "stdout"
        },
        {
          "output_type": "stream",
          "text": [
            "[Parallel(n_jobs=-1)]: Done  46 tasks      | elapsed:   26.7s\n",
            "[Parallel(n_jobs=-1)]: Done 196 tasks      | elapsed:  1.9min\n",
            "[Parallel(n_jobs=-1)]: Done 240 out of 240 | elapsed:  2.4min finished\n",
            "/content/PRI/main_functions.py:299: RuntimeWarning: divide by zero encountered in log\n",
            "  A = -np.log((1 / N * No) * K1)\n",
            "/content/PRI/main_functions.py:299: RuntimeWarning: divide by zero encountered in log\n",
            "  A = -np.log((1 / N * No) * K1)\n",
            "[Parallel(n_jobs=-1)]: Using backend LokyBackend with 2 concurrent workers.\n"
          ],
          "name": "stderr"
        },
        {
          "output_type": "stream",
          "text": [
            "it 10/10\n",
            "{'rep__gamma_': 500, 'rep__lambda_': 3, 'rep__n_clusters': 3, 'rep__nn': 5, 'rep__reduction_': 'SC', 'rep__sigma_initial': 5}\n",
            "acc: 70.37037037037037\n",
            "ari: 37.19949868975732\n",
            "it 1/10\n",
            "Fitting 5 folds for each of 288 candidates, totalling 1440 fits\n"
          ],
          "name": "stdout"
        },
        {
          "output_type": "stream",
          "text": [
            "[Parallel(n_jobs=-1)]: Done  46 tasks      | elapsed:   14.3s\n",
            "[Parallel(n_jobs=-1)]: Done 196 tasks      | elapsed:   59.8s\n",
            "[Parallel(n_jobs=-1)]: Done 446 tasks      | elapsed:  2.3min\n",
            "[Parallel(n_jobs=-1)]: Done 796 tasks      | elapsed:  4.1min\n",
            "[Parallel(n_jobs=-1)]: Done 1246 tasks      | elapsed:  6.6min\n",
            "[Parallel(n_jobs=-1)]: Done 1440 out of 1440 | elapsed:  7.8min finished\n"
          ],
          "name": "stderr"
        },
        {
          "output_type": "stream",
          "text": [
            "it 1/10\n",
            "{'rep__gamma_': 500, 'rep__lambda_': 2, 'rep__learning_rate': 0.001, 'rep__n_clusters': 3, 'rep__nn': 5, 'rep__optimization': 'Nadam', 'rep__reduction_': 'SC', 'rep__sigma_initial': 30}\n",
            "acc: 100.0\n",
            "ari: 100.0\n",
            "it 2/10\n",
            "Fitting 5 folds for each of 288 candidates, totalling 1440 fits\n"
          ],
          "name": "stdout"
        },
        {
          "output_type": "stream",
          "text": [
            "[Parallel(n_jobs=-1)]: Using backend LokyBackend with 2 concurrent workers.\n",
            "[Parallel(n_jobs=-1)]: Done  46 tasks      | elapsed:   14.4s\n",
            "[Parallel(n_jobs=-1)]: Done 196 tasks      | elapsed:  1.0min\n",
            "[Parallel(n_jobs=-1)]: Done 446 tasks      | elapsed:  2.3min\n",
            "[Parallel(n_jobs=-1)]: Done 796 tasks      | elapsed:  4.2min\n",
            "[Parallel(n_jobs=-1)]: Done 1246 tasks      | elapsed:  6.5min\n",
            "[Parallel(n_jobs=-1)]: Done 1440 out of 1440 | elapsed:  7.6min finished\n"
          ],
          "name": "stderr"
        },
        {
          "output_type": "stream",
          "text": [
            "it 2/10\n",
            "{'rep__gamma_': 500, 'rep__lambda_': 2, 'rep__learning_rate': 0.001, 'rep__n_clusters': 3, 'rep__nn': 5, 'rep__optimization': 'Nadam', 'rep__reduction_': 'SC', 'rep__sigma_initial': 30}\n",
            "acc: 100.0\n",
            "ari: 100.0\n",
            "it 3/10\n",
            "Fitting 5 folds for each of 288 candidates, totalling 1440 fits\n"
          ],
          "name": "stdout"
        },
        {
          "output_type": "stream",
          "text": [
            "[Parallel(n_jobs=-1)]: Using backend LokyBackend with 2 concurrent workers.\n",
            "[Parallel(n_jobs=-1)]: Done  46 tasks      | elapsed:   17.6s\n",
            "[Parallel(n_jobs=-1)]: Done 196 tasks      | elapsed:  1.1min\n",
            "[Parallel(n_jobs=-1)]: Done 446 tasks      | elapsed:  2.4min\n",
            "[Parallel(n_jobs=-1)]: Done 796 tasks      | elapsed:  4.2min\n",
            "[Parallel(n_jobs=-1)]: Done 1246 tasks      | elapsed:  6.5min\n",
            "[Parallel(n_jobs=-1)]: Done 1440 out of 1440 | elapsed:  7.7min finished\n"
          ],
          "name": "stderr"
        },
        {
          "output_type": "stream",
          "text": [
            "it 3/10\n",
            "{'rep__gamma_': 500, 'rep__lambda_': 3, 'rep__learning_rate': 0.001, 'rep__n_clusters': 3, 'rep__nn': 3, 'rep__optimization': 'Nadam', 'rep__reduction_': 'SC', 'rep__sigma_initial': 30}\n",
            "acc: 100.0\n",
            "ari: 100.0\n",
            "it 4/10\n",
            "Fitting 5 folds for each of 288 candidates, totalling 1440 fits\n"
          ],
          "name": "stdout"
        },
        {
          "output_type": "stream",
          "text": [
            "[Parallel(n_jobs=-1)]: Using backend LokyBackend with 2 concurrent workers.\n",
            "[Parallel(n_jobs=-1)]: Done  46 tasks      | elapsed:   14.2s\n",
            "[Parallel(n_jobs=-1)]: Done 196 tasks      | elapsed:  1.0min\n",
            "[Parallel(n_jobs=-1)]: Done 446 tasks      | elapsed:  2.3min\n",
            "[Parallel(n_jobs=-1)]: Done 796 tasks      | elapsed:  4.1min\n",
            "[Parallel(n_jobs=-1)]: Done 1246 tasks      | elapsed:  6.4min\n",
            "[Parallel(n_jobs=-1)]: Done 1440 out of 1440 | elapsed:  7.5min finished\n"
          ],
          "name": "stderr"
        },
        {
          "output_type": "stream",
          "text": [
            "it 4/10\n",
            "{'rep__gamma_': 500, 'rep__lambda_': 2, 'rep__learning_rate': 0.001, 'rep__n_clusters': 3, 'rep__nn': 5, 'rep__optimization': None, 'rep__reduction_': 'SC', 'rep__sigma_initial': 30}\n",
            "acc: 50.0\n",
            "ari: 6.936917407327119\n",
            "it 5/10\n",
            "Fitting 5 folds for each of 288 candidates, totalling 1440 fits\n"
          ],
          "name": "stdout"
        },
        {
          "output_type": "stream",
          "text": [
            "[Parallel(n_jobs=-1)]: Using backend LokyBackend with 2 concurrent workers.\n",
            "[Parallel(n_jobs=-1)]: Done  46 tasks      | elapsed:   14.4s\n",
            "[Parallel(n_jobs=-1)]: Done 196 tasks      | elapsed:  1.0min\n",
            "[Parallel(n_jobs=-1)]: Done 446 tasks      | elapsed:  2.3min\n",
            "[Parallel(n_jobs=-1)]: Done 796 tasks      | elapsed:  4.1min\n",
            "[Parallel(n_jobs=-1)]: Done 1246 tasks      | elapsed:  6.4min\n",
            "[Parallel(n_jobs=-1)]: Done 1440 out of 1440 | elapsed:  7.6min finished\n"
          ],
          "name": "stderr"
        },
        {
          "output_type": "stream",
          "text": [
            "it 5/10\n",
            "{'rep__gamma_': 500, 'rep__lambda_': 3, 'rep__learning_rate': 0.001, 'rep__n_clusters': 3, 'rep__nn': 3, 'rep__optimization': 'Adam', 'rep__reduction_': 'SC', 'rep__sigma_initial': 30}\n",
            "acc: 100.0\n",
            "ari: 100.0\n",
            "it 6/10\n",
            "Fitting 5 folds for each of 288 candidates, totalling 1440 fits\n"
          ],
          "name": "stdout"
        },
        {
          "output_type": "stream",
          "text": [
            "[Parallel(n_jobs=-1)]: Using backend LokyBackend with 2 concurrent workers.\n",
            "[Parallel(n_jobs=-1)]: Done  46 tasks      | elapsed:   14.3s\n",
            "[Parallel(n_jobs=-1)]: Done 196 tasks      | elapsed:  1.0min\n",
            "[Parallel(n_jobs=-1)]: Done 446 tasks      | elapsed:  2.3min\n",
            "[Parallel(n_jobs=-1)]: Done 796 tasks      | elapsed:  4.1min\n",
            "[Parallel(n_jobs=-1)]: Done 1246 tasks      | elapsed:  6.4min\n",
            "[Parallel(n_jobs=-1)]: Done 1440 out of 1440 | elapsed:  7.5min finished\n"
          ],
          "name": "stderr"
        },
        {
          "output_type": "stream",
          "text": [
            "it 6/10\n",
            "{'rep__gamma_': 500, 'rep__lambda_': 2, 'rep__learning_rate': 0.001, 'rep__n_clusters': 3, 'rep__nn': 3, 'rep__optimization': 'Adam', 'rep__reduction_': 'SC', 'rep__sigma_initial': 30}\n",
            "acc: 98.14814814814815\n",
            "ari: 94.05619171290284\n",
            "it 7/10\n",
            "Fitting 5 folds for each of 288 candidates, totalling 1440 fits\n"
          ],
          "name": "stdout"
        },
        {
          "output_type": "stream",
          "text": [
            "[Parallel(n_jobs=-1)]: Using backend LokyBackend with 2 concurrent workers.\n",
            "[Parallel(n_jobs=-1)]: Done  46 tasks      | elapsed:   14.2s\n",
            "[Parallel(n_jobs=-1)]: Done 196 tasks      | elapsed:  1.0min\n",
            "[Parallel(n_jobs=-1)]: Done 446 tasks      | elapsed:  2.3min\n",
            "[Parallel(n_jobs=-1)]: Done 796 tasks      | elapsed:  4.1min\n",
            "[Parallel(n_jobs=-1)]: Done 1246 tasks      | elapsed:  6.4min\n",
            "[Parallel(n_jobs=-1)]: Done 1440 out of 1440 | elapsed:  7.7min finished\n"
          ],
          "name": "stderr"
        },
        {
          "output_type": "stream",
          "text": [
            "it 7/10\n",
            "{'rep__gamma_': 500, 'rep__lambda_': 3, 'rep__learning_rate': 0.001, 'rep__n_clusters': 3, 'rep__nn': 5, 'rep__optimization': 'Adam', 'rep__reduction_': 'SC', 'rep__sigma_initial': 30}\n",
            "acc: 100.0\n",
            "ari: 100.0\n",
            "it 8/10\n",
            "Fitting 5 folds for each of 288 candidates, totalling 1440 fits\n"
          ],
          "name": "stdout"
        },
        {
          "output_type": "stream",
          "text": [
            "[Parallel(n_jobs=-1)]: Using backend LokyBackend with 2 concurrent workers.\n",
            "[Parallel(n_jobs=-1)]: Done  46 tasks      | elapsed:   14.3s\n",
            "[Parallel(n_jobs=-1)]: Done 196 tasks      | elapsed:  1.0min\n",
            "[Parallel(n_jobs=-1)]: Done 446 tasks      | elapsed:  2.3min\n",
            "[Parallel(n_jobs=-1)]: Done 796 tasks      | elapsed:  4.1min\n",
            "[Parallel(n_jobs=-1)]: Done 1246 tasks      | elapsed:  6.4min\n",
            "[Parallel(n_jobs=-1)]: Done 1440 out of 1440 | elapsed:  7.7min finished\n"
          ],
          "name": "stderr"
        },
        {
          "output_type": "stream",
          "text": [
            "it 8/10\n",
            "{'rep__gamma_': 1000, 'rep__lambda_': 2, 'rep__learning_rate': 0.001, 'rep__n_clusters': 3, 'rep__nn': 3, 'rep__optimization': 'Adam', 'rep__reduction_': 'SC', 'rep__sigma_initial': 30}\n",
            "acc: 77.77777777777779\n",
            "ari: 50.415800415800405\n",
            "it 9/10\n",
            "Fitting 5 folds for each of 288 candidates, totalling 1440 fits\n"
          ],
          "name": "stdout"
        },
        {
          "output_type": "stream",
          "text": [
            "[Parallel(n_jobs=-1)]: Using backend LokyBackend with 2 concurrent workers.\n",
            "[Parallel(n_jobs=-1)]: Done  46 tasks      | elapsed:   14.1s\n",
            "[Parallel(n_jobs=-1)]: Done 196 tasks      | elapsed:  1.0min\n",
            "[Parallel(n_jobs=-1)]: Done 446 tasks      | elapsed:  2.3min\n",
            "[Parallel(n_jobs=-1)]: Done 796 tasks      | elapsed:  4.1min\n",
            "[Parallel(n_jobs=-1)]: Done 1246 tasks      | elapsed:  6.6min\n",
            "[Parallel(n_jobs=-1)]: Done 1440 out of 1440 | elapsed:  7.7min finished\n"
          ],
          "name": "stderr"
        },
        {
          "output_type": "stream",
          "text": [
            "it 9/10\n",
            "{'rep__gamma_': 500, 'rep__lambda_': 3, 'rep__learning_rate': 0.001, 'rep__n_clusters': 3, 'rep__nn': 5, 'rep__optimization': 'Nadam', 'rep__reduction_': 'SC', 'rep__sigma_initial': 30}\n",
            "acc: 88.88888888888889\n",
            "ari: 68.87346502936464\n",
            "it 10/10\n",
            "Fitting 5 folds for each of 288 candidates, totalling 1440 fits\n"
          ],
          "name": "stdout"
        },
        {
          "output_type": "stream",
          "text": [
            "[Parallel(n_jobs=-1)]: Using backend LokyBackend with 2 concurrent workers.\n",
            "[Parallel(n_jobs=-1)]: Done  46 tasks      | elapsed:   14.3s\n",
            "[Parallel(n_jobs=-1)]: Done 196 tasks      | elapsed:  1.0min\n",
            "[Parallel(n_jobs=-1)]: Done 446 tasks      | elapsed:  2.3min\n",
            "[Parallel(n_jobs=-1)]: Done 796 tasks      | elapsed:  4.1min\n",
            "[Parallel(n_jobs=-1)]: Done 1246 tasks      | elapsed:  6.5min\n",
            "[Parallel(n_jobs=-1)]: Done 1440 out of 1440 | elapsed:  7.8min finished\n"
          ],
          "name": "stderr"
        },
        {
          "output_type": "stream",
          "text": [
            "it 10/10\n",
            "{'rep__gamma_': 500, 'rep__lambda_': 2, 'rep__learning_rate': 0.001, 'rep__n_clusters': 3, 'rep__nn': 5, 'rep__optimization': None, 'rep__reduction_': 'SC', 'rep__sigma_initial': 30}\n",
            "acc: 90.74074074074075\n",
            "ari: 73.24821852731591\n",
            "it 1/10\n",
            "Fitting 5 folds for each of 36 candidates, totalling 180 fits\n"
          ],
          "name": "stdout"
        },
        {
          "output_type": "stream",
          "text": [
            "[Parallel(n_jobs=-1)]: Using backend LokyBackend with 2 concurrent workers.\n",
            "[Parallel(n_jobs=-1)]: Done 164 tasks      | elapsed:    5.3s\n",
            "[Parallel(n_jobs=-1)]: Done 180 out of 180 | elapsed:    5.8s finished\n",
            "[Parallel(n_jobs=-1)]: Using backend LokyBackend with 2 concurrent workers.\n"
          ],
          "name": "stderr"
        },
        {
          "output_type": "stream",
          "text": [
            "it 1/10\n",
            "{'rep__gamma_': 1000, 'rep__n_clusters_': 3, 'rep__n_neighbors_': 5, 'rep__nn_': 3}\n",
            "acc: 100.0\n",
            "ari: 100.0\n",
            "it 2/10\n",
            "Fitting 5 folds for each of 36 candidates, totalling 180 fits\n"
          ],
          "name": "stdout"
        },
        {
          "output_type": "stream",
          "text": [
            "[Parallel(n_jobs=-1)]: Done 164 tasks      | elapsed:    5.2s\n",
            "[Parallel(n_jobs=-1)]: Done 180 out of 180 | elapsed:    5.8s finished\n",
            "[Parallel(n_jobs=-1)]: Using backend LokyBackend with 2 concurrent workers.\n"
          ],
          "name": "stderr"
        },
        {
          "output_type": "stream",
          "text": [
            "it 2/10\n",
            "{'rep__gamma_': 200, 'rep__n_clusters_': 3, 'rep__n_neighbors_': 5, 'rep__nn_': 3}\n",
            "acc: 90.74074074074075\n",
            "ari: 73.24821852731591\n",
            "it 3/10\n",
            "Fitting 5 folds for each of 36 candidates, totalling 180 fits\n"
          ],
          "name": "stdout"
        },
        {
          "output_type": "stream",
          "text": [
            "[Parallel(n_jobs=-1)]: Done 164 tasks      | elapsed:    5.4s\n",
            "[Parallel(n_jobs=-1)]: Done 180 out of 180 | elapsed:    5.9s finished\n",
            "[Parallel(n_jobs=-1)]: Using backend LokyBackend with 2 concurrent workers.\n"
          ],
          "name": "stderr"
        },
        {
          "output_type": "stream",
          "text": [
            "it 3/10\n",
            "{'rep__gamma_': 1000, 'rep__n_clusters_': 3, 'rep__n_neighbors_': 5, 'rep__nn_': 3}\n",
            "acc: 100.0\n",
            "ari: 100.0\n",
            "it 4/10\n",
            "Fitting 5 folds for each of 36 candidates, totalling 180 fits\n"
          ],
          "name": "stdout"
        },
        {
          "output_type": "stream",
          "text": [
            "[Parallel(n_jobs=-1)]: Done 164 tasks      | elapsed:    5.2s\n",
            "[Parallel(n_jobs=-1)]: Done 180 out of 180 | elapsed:    5.8s finished\n",
            "[Parallel(n_jobs=-1)]: Using backend LokyBackend with 2 concurrent workers.\n"
          ],
          "name": "stderr"
        },
        {
          "output_type": "stream",
          "text": [
            "it 4/10\n",
            "{'rep__gamma_': 1000, 'rep__n_clusters_': 3, 'rep__n_neighbors_': 5, 'rep__nn_': 3}\n",
            "acc: 100.0\n",
            "ari: 100.0\n",
            "it 5/10\n",
            "Fitting 5 folds for each of 36 candidates, totalling 180 fits\n"
          ],
          "name": "stdout"
        },
        {
          "output_type": "stream",
          "text": [
            "[Parallel(n_jobs=-1)]: Done 164 tasks      | elapsed:    5.2s\n",
            "[Parallel(n_jobs=-1)]: Done 180 out of 180 | elapsed:    5.7s finished\n",
            "[Parallel(n_jobs=-1)]: Using backend LokyBackend with 2 concurrent workers.\n"
          ],
          "name": "stderr"
        },
        {
          "output_type": "stream",
          "text": [
            "it 5/10\n",
            "{'rep__gamma_': 1000, 'rep__n_clusters_': 3, 'rep__n_neighbors_': 5, 'rep__nn_': 3}\n",
            "acc: 85.18518518518519\n",
            "ari: 61.20883012631331\n",
            "it 6/10\n",
            "Fitting 5 folds for each of 36 candidates, totalling 180 fits\n"
          ],
          "name": "stdout"
        },
        {
          "output_type": "stream",
          "text": [
            "[Parallel(n_jobs=-1)]: Done 164 tasks      | elapsed:    5.3s\n",
            "[Parallel(n_jobs=-1)]: Done 180 out of 180 | elapsed:    5.8s finished\n",
            "[Parallel(n_jobs=-1)]: Using backend LokyBackend with 2 concurrent workers.\n"
          ],
          "name": "stderr"
        },
        {
          "output_type": "stream",
          "text": [
            "it 6/10\n",
            "{'rep__gamma_': 1000, 'rep__n_clusters_': 3, 'rep__n_neighbors_': 5, 'rep__nn_': 3}\n",
            "acc: 100.0\n",
            "ari: 100.0\n",
            "it 7/10\n",
            "Fitting 5 folds for each of 36 candidates, totalling 180 fits\n"
          ],
          "name": "stdout"
        },
        {
          "output_type": "stream",
          "text": [
            "[Parallel(n_jobs=-1)]: Done 164 tasks      | elapsed:    5.1s\n",
            "[Parallel(n_jobs=-1)]: Done 180 out of 180 | elapsed:    5.7s finished\n",
            "[Parallel(n_jobs=-1)]: Using backend LokyBackend with 2 concurrent workers.\n"
          ],
          "name": "stderr"
        },
        {
          "output_type": "stream",
          "text": [
            "it 7/10\n",
            "{'rep__gamma_': 1000, 'rep__n_clusters_': 3, 'rep__n_neighbors_': 5, 'rep__nn_': 3}\n",
            "acc: 100.0\n",
            "ari: 100.0\n",
            "it 8/10\n",
            "Fitting 5 folds for each of 36 candidates, totalling 180 fits\n"
          ],
          "name": "stdout"
        },
        {
          "output_type": "stream",
          "text": [
            "[Parallel(n_jobs=-1)]: Done 164 tasks      | elapsed:    5.2s\n",
            "[Parallel(n_jobs=-1)]: Done 180 out of 180 | elapsed:    5.7s finished\n",
            "[Parallel(n_jobs=-1)]: Using backend LokyBackend with 2 concurrent workers.\n"
          ],
          "name": "stderr"
        },
        {
          "output_type": "stream",
          "text": [
            "it 8/10\n",
            "{'rep__gamma_': 1000, 'rep__n_clusters_': 3, 'rep__n_neighbors_': 5, 'rep__nn_': 3}\n",
            "acc: 100.0\n",
            "ari: 100.0\n",
            "it 9/10\n",
            "Fitting 5 folds for each of 36 candidates, totalling 180 fits\n"
          ],
          "name": "stdout"
        },
        {
          "output_type": "stream",
          "text": [
            "[Parallel(n_jobs=-1)]: Done 164 tasks      | elapsed:    5.2s\n",
            "[Parallel(n_jobs=-1)]: Done 180 out of 180 | elapsed:    5.7s finished\n",
            "[Parallel(n_jobs=-1)]: Using backend LokyBackend with 2 concurrent workers.\n"
          ],
          "name": "stderr"
        },
        {
          "output_type": "stream",
          "text": [
            "it 9/10\n",
            "{'rep__gamma_': 1000, 'rep__n_clusters_': 3, 'rep__n_neighbors_': 5, 'rep__nn_': 3}\n",
            "acc: 88.88888888888889\n",
            "ari: 68.87346502936464\n",
            "it 10/10\n",
            "Fitting 5 folds for each of 36 candidates, totalling 180 fits\n"
          ],
          "name": "stdout"
        },
        {
          "output_type": "stream",
          "text": [
            "[Parallel(n_jobs=-1)]: Done 164 tasks      | elapsed:    5.2s\n",
            "[Parallel(n_jobs=-1)]: Done 180 out of 180 | elapsed:    5.7s finished\n",
            "[Parallel(n_jobs=-1)]: Using backend LokyBackend with 2 concurrent workers.\n"
          ],
          "name": "stderr"
        },
        {
          "output_type": "stream",
          "text": [
            "it 10/10\n",
            "{'rep__gamma_': 1000, 'rep__n_clusters_': 3, 'rep__n_neighbors_': 5, 'rep__nn_': 3}\n",
            "acc: 98.14814814814815\n",
            "ari: 94.05619171290284\n",
            "it 1/10\n",
            "Fitting 5 folds for each of 3 candidates, totalling 15 fits\n"
          ],
          "name": "stdout"
        },
        {
          "output_type": "stream",
          "text": [
            "[Parallel(n_jobs=-1)]: Done  15 out of  15 | elapsed:    0.5s finished\n",
            "[Parallel(n_jobs=-1)]: Using backend LokyBackend with 2 concurrent workers.\n"
          ],
          "name": "stderr"
        },
        {
          "output_type": "stream",
          "text": [
            "it 1/10\n",
            "{'rep__n_clusters_': 3, 'rep__nn': 5}\n",
            "acc: 75.92592592592592\n",
            "ari: 42.19643065438003\n",
            "it 2/10\n",
            "Fitting 5 folds for each of 3 candidates, totalling 15 fits\n"
          ],
          "name": "stdout"
        },
        {
          "output_type": "stream",
          "text": [
            "[Parallel(n_jobs=-1)]: Done  15 out of  15 | elapsed:    0.5s finished\n",
            "[Parallel(n_jobs=-1)]: Using backend LokyBackend with 2 concurrent workers.\n"
          ],
          "name": "stderr"
        },
        {
          "output_type": "stream",
          "text": [
            "it 2/10\n",
            "{'rep__n_clusters_': 3, 'rep__nn': 9}\n",
            "acc: 75.92592592592592\n",
            "ari: 42.19643065438003\n",
            "it 3/10\n",
            "Fitting 5 folds for each of 3 candidates, totalling 15 fits\n"
          ],
          "name": "stdout"
        },
        {
          "output_type": "stream",
          "text": [
            "[Parallel(n_jobs=-1)]: Done  15 out of  15 | elapsed:    0.5s finished\n",
            "[Parallel(n_jobs=-1)]: Using backend LokyBackend with 2 concurrent workers.\n"
          ],
          "name": "stderr"
        },
        {
          "output_type": "stream",
          "text": [
            "it 3/10\n",
            "{'rep__n_clusters_': 3, 'rep__nn': 3}\n",
            "acc: 75.92592592592592\n",
            "ari: 41.09388710149167\n",
            "it 4/10\n",
            "Fitting 5 folds for each of 3 candidates, totalling 15 fits\n"
          ],
          "name": "stdout"
        },
        {
          "output_type": "stream",
          "text": [
            "[Parallel(n_jobs=-1)]: Done  15 out of  15 | elapsed:    0.5s finished\n",
            "[Parallel(n_jobs=-1)]: Using backend LokyBackend with 2 concurrent workers.\n"
          ],
          "name": "stderr"
        },
        {
          "output_type": "stream",
          "text": [
            "it 4/10\n",
            "{'rep__n_clusters_': 3, 'rep__nn': 5}\n",
            "acc: 72.22222222222221\n",
            "ari: 36.273773050465344\n",
            "it 5/10\n",
            "Fitting 5 folds for each of 3 candidates, totalling 15 fits\n"
          ],
          "name": "stdout"
        },
        {
          "output_type": "stream",
          "text": [
            "[Parallel(n_jobs=-1)]: Done  15 out of  15 | elapsed:    0.4s finished\n",
            "[Parallel(n_jobs=-1)]: Using backend LokyBackend with 2 concurrent workers.\n"
          ],
          "name": "stderr"
        },
        {
          "output_type": "stream",
          "text": [
            "it 5/10\n",
            "{'rep__n_clusters_': 3, 'rep__nn': 3}\n",
            "acc: 75.92592592592592\n",
            "ari: 41.09388710149167\n",
            "it 6/10\n",
            "Fitting 5 folds for each of 3 candidates, totalling 15 fits\n"
          ],
          "name": "stdout"
        },
        {
          "output_type": "stream",
          "text": [
            "[Parallel(n_jobs=-1)]: Done  15 out of  15 | elapsed:    0.4s finished\n",
            "[Parallel(n_jobs=-1)]: Using backend LokyBackend with 2 concurrent workers.\n"
          ],
          "name": "stderr"
        },
        {
          "output_type": "stream",
          "text": [
            "it 6/10\n",
            "{'rep__n_clusters_': 3, 'rep__nn': 9}\n",
            "acc: 75.92592592592592\n",
            "ari: 44.743701129452646\n",
            "it 7/10\n",
            "Fitting 5 folds for each of 3 candidates, totalling 15 fits\n"
          ],
          "name": "stdout"
        },
        {
          "output_type": "stream",
          "text": [
            "[Parallel(n_jobs=-1)]: Done  15 out of  15 | elapsed:    0.4s finished\n",
            "[Parallel(n_jobs=-1)]: Using backend LokyBackend with 2 concurrent workers.\n"
          ],
          "name": "stderr"
        },
        {
          "output_type": "stream",
          "text": [
            "it 7/10\n",
            "{'rep__n_clusters_': 3, 'rep__nn': 5}\n",
            "acc: 74.07407407407408\n",
            "ari: 38.66953538407862\n",
            "it 8/10\n",
            "Fitting 5 folds for each of 3 candidates, totalling 15 fits\n"
          ],
          "name": "stdout"
        },
        {
          "output_type": "stream",
          "text": [
            "[Parallel(n_jobs=-1)]: Done  15 out of  15 | elapsed:    0.5s finished\n",
            "[Parallel(n_jobs=-1)]: Using backend LokyBackend with 2 concurrent workers.\n"
          ],
          "name": "stderr"
        },
        {
          "output_type": "stream",
          "text": [
            "it 8/10\n",
            "{'rep__n_clusters_': 3, 'rep__nn': 9}\n",
            "acc: 72.22222222222221\n",
            "ari: 37.377521613832855\n",
            "it 9/10\n",
            "Fitting 5 folds for each of 3 candidates, totalling 15 fits\n"
          ],
          "name": "stdout"
        },
        {
          "output_type": "stream",
          "text": [
            "[Parallel(n_jobs=-1)]: Done  15 out of  15 | elapsed:    0.5s finished\n",
            "[Parallel(n_jobs=-1)]: Using backend LokyBackend with 2 concurrent workers.\n"
          ],
          "name": "stderr"
        },
        {
          "output_type": "stream",
          "text": [
            "it 9/10\n",
            "{'rep__n_clusters_': 3, 'rep__nn': 3}\n",
            "acc: 75.92592592592592\n",
            "ari: 41.462131837307155\n",
            "it 10/10\n",
            "Fitting 5 folds for each of 3 candidates, totalling 15 fits\n"
          ],
          "name": "stdout"
        },
        {
          "output_type": "stream",
          "text": [
            "[Parallel(n_jobs=-1)]: Done  15 out of  15 | elapsed:    0.5s finished\n",
            "[Parallel(n_jobs=-1)]: Using backend LokyBackend with 2 concurrent workers.\n"
          ],
          "name": "stderr"
        },
        {
          "output_type": "stream",
          "text": [
            "it 10/10\n",
            "{'rep__n_clusters_': 3, 'rep__nn': 3}\n",
            "acc: 72.22222222222221\n",
            "ari: 38.4748002988334\n",
            "it 1/10\n",
            "Fitting 5 folds for each of 48 candidates, totalling 240 fits\n"
          ],
          "name": "stdout"
        },
        {
          "output_type": "stream",
          "text": [
            "[Parallel(n_jobs=-1)]: Done  46 tasks      | elapsed:   24.3s\n",
            "[Parallel(n_jobs=-1)]: Done 196 tasks      | elapsed:  1.8min\n",
            "[Parallel(n_jobs=-1)]: Done 240 out of 240 | elapsed:  2.2min finished\n"
          ],
          "name": "stderr"
        },
        {
          "output_type": "stream",
          "text": [
            "it 1/10\n",
            "{'rep__gamma_': 100, 'rep__lambda_': 3, 'rep__n_clusters': 3, 'rep__nn': 3, 'rep__reduction_': 'SC', 'rep__sigma_initial': 15}\n",
            "acc: 77.77777777777779\n",
            "ari: 48.454057192625925\n",
            "it 2/10\n",
            "Fitting 5 folds for each of 48 candidates, totalling 240 fits\n"
          ],
          "name": "stdout"
        },
        {
          "output_type": "stream",
          "text": [
            "[Parallel(n_jobs=-1)]: Using backend LokyBackend with 2 concurrent workers.\n",
            "[Parallel(n_jobs=-1)]: Done  46 tasks      | elapsed:   25.0s\n",
            "[Parallel(n_jobs=-1)]: Done 196 tasks      | elapsed:  1.8min\n",
            "[Parallel(n_jobs=-1)]: Done 240 out of 240 | elapsed:  2.2min finished\n"
          ],
          "name": "stderr"
        },
        {
          "output_type": "stream",
          "text": [
            "it 2/10\n",
            "{'rep__gamma_': 500, 'rep__lambda_': 3, 'rep__n_clusters': 3, 'rep__nn': 5, 'rep__reduction_': 'SC', 'rep__sigma_initial': 25}\n",
            "acc: 75.92592592592592\n",
            "ari: 48.67636947054779\n",
            "it 3/10\n",
            "Fitting 5 folds for each of 48 candidates, totalling 240 fits\n"
          ],
          "name": "stdout"
        },
        {
          "output_type": "stream",
          "text": [
            "[Parallel(n_jobs=-1)]: Using backend LokyBackend with 2 concurrent workers.\n",
            "[Parallel(n_jobs=-1)]: Done  46 tasks      | elapsed:   26.4s\n",
            "[Parallel(n_jobs=-1)]: Done 196 tasks      | elapsed:  1.7min\n",
            "[Parallel(n_jobs=-1)]: Done 240 out of 240 | elapsed:  2.1min finished\n"
          ],
          "name": "stderr"
        },
        {
          "output_type": "stream",
          "text": [
            "it 3/10\n",
            "{'rep__gamma_': 100, 'rep__lambda_': 3, 'rep__n_clusters': 3, 'rep__nn': 5, 'rep__reduction_': 'SC', 'rep__sigma_initial': 15}\n",
            "acc: 83.33333333333334\n",
            "ari: 56.516349899657655\n",
            "it 4/10\n",
            "Fitting 5 folds for each of 48 candidates, totalling 240 fits\n"
          ],
          "name": "stdout"
        },
        {
          "output_type": "stream",
          "text": [
            "[Parallel(n_jobs=-1)]: Using backend LokyBackend with 2 concurrent workers.\n",
            "[Parallel(n_jobs=-1)]: Done  46 tasks      | elapsed:   25.5s\n",
            "[Parallel(n_jobs=-1)]: Done 196 tasks      | elapsed:  1.8min\n",
            "[Parallel(n_jobs=-1)]: Done 240 out of 240 | elapsed:  2.2min finished\n"
          ],
          "name": "stderr"
        },
        {
          "output_type": "stream",
          "text": [
            "it 4/10\n",
            "{'rep__gamma_': 500, 'rep__lambda_': 3, 'rep__n_clusters': 3, 'rep__nn': 3, 'rep__reduction_': 'SC', 'rep__sigma_initial': 25}\n",
            "acc: 81.48148148148148\n",
            "ari: 55.04533489324365\n",
            "it 5/10\n",
            "Fitting 5 folds for each of 48 candidates, totalling 240 fits\n"
          ],
          "name": "stdout"
        },
        {
          "output_type": "stream",
          "text": [
            "[Parallel(n_jobs=-1)]: Using backend LokyBackend with 2 concurrent workers.\n",
            "[Parallel(n_jobs=-1)]: Done  46 tasks      | elapsed:   27.0s\n",
            "[Parallel(n_jobs=-1)]: Done 196 tasks      | elapsed:  1.8min\n",
            "[Parallel(n_jobs=-1)]: Done 240 out of 240 | elapsed:  2.2min finished\n"
          ],
          "name": "stderr"
        },
        {
          "output_type": "stream",
          "text": [
            "it 5/10\n",
            "{'rep__gamma_': 1000, 'rep__lambda_': 3, 'rep__n_clusters': 3, 'rep__nn': 5, 'rep__reduction_': 'SC', 'rep__sigma_initial': 35}\n",
            "acc: 68.51851851851852\n",
            "ari: 34.86067059356592\n",
            "it 6/10\n",
            "Fitting 5 folds for each of 48 candidates, totalling 240 fits\n"
          ],
          "name": "stdout"
        },
        {
          "output_type": "stream",
          "text": [
            "[Parallel(n_jobs=-1)]: Using backend LokyBackend with 2 concurrent workers.\n",
            "[Parallel(n_jobs=-1)]: Done  46 tasks      | elapsed:   25.6s\n",
            "[Parallel(n_jobs=-1)]: Done 196 tasks      | elapsed:  1.9min\n",
            "[Parallel(n_jobs=-1)]: Done 240 out of 240 | elapsed:  2.2min finished\n",
            "/content/PRI/main_functions.py:299: RuntimeWarning: divide by zero encountered in log\n",
            "  A = -np.log((1 / N * No) * K1)\n",
            "/content/PRI/main_functions.py:299: RuntimeWarning: divide by zero encountered in log\n",
            "  A = -np.log((1 / N * No) * K1)\n",
            "[Parallel(n_jobs=-1)]: Using backend LokyBackend with 2 concurrent workers.\n"
          ],
          "name": "stderr"
        },
        {
          "output_type": "stream",
          "text": [
            "it 6/10\n",
            "{'rep__gamma_': 500, 'rep__lambda_': 3, 'rep__n_clusters': 3, 'rep__nn': 5, 'rep__reduction_': 'SC', 'rep__sigma_initial': 5}\n",
            "acc: 75.92592592592592\n",
            "ari: 48.67636947054779\n",
            "it 7/10\n",
            "Fitting 5 folds for each of 48 candidates, totalling 240 fits\n"
          ],
          "name": "stdout"
        },
        {
          "output_type": "stream",
          "text": [
            "[Parallel(n_jobs=-1)]: Done  46 tasks      | elapsed:   24.1s\n",
            "[Parallel(n_jobs=-1)]: Done 196 tasks      | elapsed:  1.8min\n",
            "[Parallel(n_jobs=-1)]: Done 240 out of 240 | elapsed:  2.2min finished\n"
          ],
          "name": "stderr"
        },
        {
          "output_type": "stream",
          "text": [
            "it 7/10\n",
            "{'rep__gamma_': 1000, 'rep__lambda_': 3, 'rep__n_clusters': 3, 'rep__nn': 5, 'rep__reduction_': 'SC', 'rep__sigma_initial': 25}\n",
            "acc: 81.48148148148148\n",
            "ari: 55.04533489324365\n",
            "it 8/10\n",
            "Fitting 5 folds for each of 48 candidates, totalling 240 fits\n"
          ],
          "name": "stdout"
        },
        {
          "output_type": "stream",
          "text": [
            "[Parallel(n_jobs=-1)]: Using backend LokyBackend with 2 concurrent workers.\n",
            "[Parallel(n_jobs=-1)]: Done  46 tasks      | elapsed:   22.4s\n",
            "[Parallel(n_jobs=-1)]: Done 196 tasks      | elapsed:  1.8min\n",
            "[Parallel(n_jobs=-1)]: Done 240 out of 240 | elapsed:  2.2min finished\n"
          ],
          "name": "stderr"
        },
        {
          "output_type": "stream",
          "text": [
            "it 8/10\n",
            "{'rep__gamma_': 100, 'rep__lambda_': 3, 'rep__n_clusters': 3, 'rep__nn': 3, 'rep__reduction_': 'SC', 'rep__sigma_initial': 15}\n",
            "acc: 77.77777777777779\n",
            "ari: 50.415800415800405\n",
            "it 9/10\n",
            "Fitting 5 folds for each of 48 candidates, totalling 240 fits\n"
          ],
          "name": "stdout"
        },
        {
          "output_type": "stream",
          "text": [
            "[Parallel(n_jobs=-1)]: Using backend LokyBackend with 2 concurrent workers.\n",
            "[Parallel(n_jobs=-1)]: Done  46 tasks      | elapsed:   24.1s\n",
            "[Parallel(n_jobs=-1)]: Done 196 tasks      | elapsed:  1.7min\n",
            "[Parallel(n_jobs=-1)]: Done 240 out of 240 | elapsed:  2.1min finished\n"
          ],
          "name": "stderr"
        },
        {
          "output_type": "stream",
          "text": [
            "it 9/10\n",
            "{'rep__gamma_': 500, 'rep__lambda_': 3, 'rep__n_clusters': 3, 'rep__nn': 5, 'rep__reduction_': 'SC', 'rep__sigma_initial': 15}\n",
            "acc: 50.0\n",
            "ari: 6.936917407327119\n",
            "it 10/10\n",
            "Fitting 5 folds for each of 48 candidates, totalling 240 fits\n"
          ],
          "name": "stdout"
        },
        {
          "output_type": "stream",
          "text": [
            "[Parallel(n_jobs=-1)]: Using backend LokyBackend with 2 concurrent workers.\n",
            "[Parallel(n_jobs=-1)]: Done  46 tasks      | elapsed:   25.7s\n",
            "[Parallel(n_jobs=-1)]: Done 196 tasks      | elapsed:  1.8min\n",
            "[Parallel(n_jobs=-1)]: Done 240 out of 240 | elapsed:  2.2min finished\n"
          ],
          "name": "stderr"
        },
        {
          "output_type": "stream",
          "text": [
            "it 10/10\n",
            "{'rep__gamma_': 100, 'rep__lambda_': 3, 'rep__n_clusters': 3, 'rep__nn': 3, 'rep__reduction_': 'SC', 'rep__sigma_initial': 15}\n",
            "acc: 83.33333333333334\n",
            "ari: 57.936507936507944\n",
            "it 1/10\n",
            "Fitting 5 folds for each of 288 candidates, totalling 1440 fits\n"
          ],
          "name": "stdout"
        },
        {
          "output_type": "stream",
          "text": [
            "[Parallel(n_jobs=-1)]: Using backend LokyBackend with 2 concurrent workers.\n",
            "[Parallel(n_jobs=-1)]: Done  46 tasks      | elapsed:   14.3s\n",
            "[Parallel(n_jobs=-1)]: Done 196 tasks      | elapsed:  1.0min\n",
            "[Parallel(n_jobs=-1)]: Done 446 tasks      | elapsed:  2.3min\n",
            "[Parallel(n_jobs=-1)]: Done 796 tasks      | elapsed:  4.1min\n",
            "[Parallel(n_jobs=-1)]: Done 1246 tasks      | elapsed:  6.4min\n",
            "[Parallel(n_jobs=-1)]: Done 1440 out of 1440 | elapsed:  7.6min finished\n"
          ],
          "name": "stderr"
        },
        {
          "output_type": "stream",
          "text": [
            "it 1/10\n",
            "{'rep__gamma_': 500, 'rep__lambda_': 2, 'rep__learning_rate': 0.001, 'rep__n_clusters': 3, 'rep__nn': 5, 'rep__optimization': 'Nadam', 'rep__reduction_': 'SC', 'rep__sigma_initial': 30}\n",
            "acc: 100.0\n",
            "ari: 100.0\n",
            "it 2/10\n",
            "Fitting 5 folds for each of 288 candidates, totalling 1440 fits\n"
          ],
          "name": "stdout"
        },
        {
          "output_type": "stream",
          "text": [
            "[Parallel(n_jobs=-1)]: Using backend LokyBackend with 2 concurrent workers.\n",
            "[Parallel(n_jobs=-1)]: Done  46 tasks      | elapsed:   14.4s\n",
            "[Parallel(n_jobs=-1)]: Done 196 tasks      | elapsed:  1.0min\n",
            "[Parallel(n_jobs=-1)]: Done 446 tasks      | elapsed:  2.3min\n",
            "[Parallel(n_jobs=-1)]: Done 796 tasks      | elapsed:  4.1min\n",
            "[Parallel(n_jobs=-1)]: Done 1246 tasks      | elapsed:  6.5min\n",
            "[Parallel(n_jobs=-1)]: Done 1440 out of 1440 | elapsed:  7.6min finished\n"
          ],
          "name": "stderr"
        },
        {
          "output_type": "stream",
          "text": [
            "it 2/10\n",
            "{'rep__gamma_': 500, 'rep__lambda_': 2, 'rep__learning_rate': 0.001, 'rep__n_clusters': 3, 'rep__nn': 3, 'rep__optimization': 'Adam', 'rep__reduction_': 'SC', 'rep__sigma_initial': 30}\n",
            "acc: 100.0\n",
            "ari: 100.0\n",
            "it 3/10\n",
            "Fitting 5 folds for each of 288 candidates, totalling 1440 fits\n"
          ],
          "name": "stdout"
        },
        {
          "output_type": "stream",
          "text": [
            "[Parallel(n_jobs=-1)]: Using backend LokyBackend with 2 concurrent workers.\n",
            "[Parallel(n_jobs=-1)]: Done  46 tasks      | elapsed:   14.4s\n",
            "[Parallel(n_jobs=-1)]: Done 196 tasks      | elapsed:  1.0min\n",
            "[Parallel(n_jobs=-1)]: Done 446 tasks      | elapsed:  2.3min\n",
            "[Parallel(n_jobs=-1)]: Done 796 tasks      | elapsed:  4.1min\n",
            "[Parallel(n_jobs=-1)]: Done 1246 tasks      | elapsed:  6.5min\n",
            "[Parallel(n_jobs=-1)]: Done 1440 out of 1440 | elapsed:  7.7min finished\n"
          ],
          "name": "stderr"
        },
        {
          "output_type": "stream",
          "text": [
            "it 3/10\n",
            "{'rep__gamma_': 1000, 'rep__lambda_': 2, 'rep__learning_rate': 0.001, 'rep__n_clusters': 3, 'rep__nn': 5, 'rep__optimization': 'Nadam', 'rep__reduction_': 'SC', 'rep__sigma_initial': 30}\n",
            "acc: 72.22222222222221\n",
            "ari: 68.48989298454221\n",
            "it 4/10\n",
            "Fitting 5 folds for each of 288 candidates, totalling 1440 fits\n"
          ],
          "name": "stdout"
        },
        {
          "output_type": "stream",
          "text": [
            "[Parallel(n_jobs=-1)]: Using backend LokyBackend with 2 concurrent workers.\n",
            "[Parallel(n_jobs=-1)]: Done  46 tasks      | elapsed:   14.5s\n",
            "[Parallel(n_jobs=-1)]: Done 196 tasks      | elapsed:  1.0min\n",
            "[Parallel(n_jobs=-1)]: Done 446 tasks      | elapsed:  2.3min\n",
            "[Parallel(n_jobs=-1)]: Done 796 tasks      | elapsed:  4.2min\n",
            "[Parallel(n_jobs=-1)]: Done 1246 tasks      | elapsed:  6.6min\n",
            "[Parallel(n_jobs=-1)]: Done 1440 out of 1440 | elapsed:  7.7min finished\n"
          ],
          "name": "stderr"
        },
        {
          "output_type": "stream",
          "text": [
            "it 4/10\n",
            "{'rep__gamma_': 1000, 'rep__lambda_': 2, 'rep__learning_rate': 0.001, 'rep__n_clusters': 3, 'rep__nn': 3, 'rep__optimization': 'Adam', 'rep__reduction_': 'SC', 'rep__sigma_initial': 30}\n",
            "acc: 100.0\n",
            "ari: 100.0\n",
            "it 5/10\n",
            "Fitting 5 folds for each of 288 candidates, totalling 1440 fits\n"
          ],
          "name": "stdout"
        },
        {
          "output_type": "stream",
          "text": [
            "[Parallel(n_jobs=-1)]: Using backend LokyBackend with 2 concurrent workers.\n",
            "[Parallel(n_jobs=-1)]: Done  46 tasks      | elapsed:   14.5s\n",
            "[Parallel(n_jobs=-1)]: Done 196 tasks      | elapsed:  1.0min\n",
            "[Parallel(n_jobs=-1)]: Done 446 tasks      | elapsed:  2.3min\n",
            "[Parallel(n_jobs=-1)]: Done 796 tasks      | elapsed:  4.1min\n",
            "[Parallel(n_jobs=-1)]: Done 1246 tasks      | elapsed:  6.6min\n",
            "[Parallel(n_jobs=-1)]: Done 1440 out of 1440 | elapsed:  7.9min finished\n"
          ],
          "name": "stderr"
        },
        {
          "output_type": "stream",
          "text": [
            "it 5/10\n",
            "{'rep__gamma_': 500, 'rep__lambda_': 2, 'rep__learning_rate': 0.001, 'rep__n_clusters': 3, 'rep__nn': 5, 'rep__optimization': 'Nadam', 'rep__reduction_': 'SC', 'rep__sigma_initial': 30}\n",
            "acc: 83.33333333333334\n",
            "ari: 57.936507936507944\n",
            "it 6/10\n",
            "Fitting 5 folds for each of 288 candidates, totalling 1440 fits\n"
          ],
          "name": "stdout"
        },
        {
          "output_type": "stream",
          "text": [
            "[Parallel(n_jobs=-1)]: Using backend LokyBackend with 2 concurrent workers.\n",
            "[Parallel(n_jobs=-1)]: Done  46 tasks      | elapsed:   14.3s\n",
            "[Parallel(n_jobs=-1)]: Done 196 tasks      | elapsed:   59.9s\n",
            "[Parallel(n_jobs=-1)]: Done 446 tasks      | elapsed:  2.3min\n",
            "[Parallel(n_jobs=-1)]: Done 796 tasks      | elapsed:  4.1min\n",
            "[Parallel(n_jobs=-1)]: Done 1246 tasks      | elapsed:  6.4min\n",
            "[Parallel(n_jobs=-1)]: Done 1440 out of 1440 | elapsed:  7.5min finished\n"
          ],
          "name": "stderr"
        },
        {
          "output_type": "stream",
          "text": [
            "it 6/10\n",
            "{'rep__gamma_': 1000, 'rep__lambda_': 2, 'rep__learning_rate': 0.001, 'rep__n_clusters': 3, 'rep__nn': 5, 'rep__optimization': 'Nadam', 'rep__reduction_': 'SC', 'rep__sigma_initial': 30}\n",
            "acc: 98.14814814814815\n",
            "ari: 94.05619171290284\n",
            "it 7/10\n",
            "Fitting 5 folds for each of 288 candidates, totalling 1440 fits\n"
          ],
          "name": "stdout"
        },
        {
          "output_type": "stream",
          "text": [
            "[Parallel(n_jobs=-1)]: Using backend LokyBackend with 2 concurrent workers.\n",
            "[Parallel(n_jobs=-1)]: Done  46 tasks      | elapsed:   14.3s\n",
            "[Parallel(n_jobs=-1)]: Done 196 tasks      | elapsed:  1.0min\n",
            "[Parallel(n_jobs=-1)]: Done 446 tasks      | elapsed:  2.3min\n",
            "[Parallel(n_jobs=-1)]: Done 796 tasks      | elapsed:  4.1min\n",
            "[Parallel(n_jobs=-1)]: Done 1246 tasks      | elapsed:  6.5min\n",
            "[Parallel(n_jobs=-1)]: Done 1440 out of 1440 | elapsed:  7.7min finished\n"
          ],
          "name": "stderr"
        },
        {
          "output_type": "stream",
          "text": [
            "it 7/10\n",
            "{'rep__gamma_': 1000, 'rep__lambda_': 3, 'rep__learning_rate': 0.001, 'rep__n_clusters': 3, 'rep__nn': 3, 'rep__optimization': 'Adam', 'rep__reduction_': 'SC', 'rep__sigma_initial': 30}\n",
            "acc: 100.0\n",
            "ari: 100.0\n",
            "it 8/10\n",
            "Fitting 5 folds for each of 288 candidates, totalling 1440 fits\n"
          ],
          "name": "stdout"
        },
        {
          "output_type": "stream",
          "text": [
            "[Parallel(n_jobs=-1)]: Using backend LokyBackend with 2 concurrent workers.\n",
            "[Parallel(n_jobs=-1)]: Done  46 tasks      | elapsed:   14.3s\n",
            "[Parallel(n_jobs=-1)]: Done 196 tasks      | elapsed:  1.0min\n",
            "[Parallel(n_jobs=-1)]: Done 446 tasks      | elapsed:  2.3min\n",
            "[Parallel(n_jobs=-1)]: Done 796 tasks      | elapsed:  4.1min\n",
            "[Parallel(n_jobs=-1)]: Done 1246 tasks      | elapsed:  6.5min\n",
            "[Parallel(n_jobs=-1)]: Done 1440 out of 1440 | elapsed:  7.7min finished\n"
          ],
          "name": "stderr"
        },
        {
          "output_type": "stream",
          "text": [
            "it 8/10\n",
            "{'rep__gamma_': 1000, 'rep__lambda_': 3, 'rep__learning_rate': 0.001, 'rep__n_clusters': 3, 'rep__nn': 5, 'rep__optimization': 'Adam', 'rep__reduction_': 'SC', 'rep__sigma_initial': 30}\n",
            "acc: 98.14814814814815\n",
            "ari: 94.05619171290284\n",
            "it 9/10\n",
            "Fitting 5 folds for each of 288 candidates, totalling 1440 fits\n"
          ],
          "name": "stdout"
        },
        {
          "output_type": "stream",
          "text": [
            "[Parallel(n_jobs=-1)]: Using backend LokyBackend with 2 concurrent workers.\n",
            "[Parallel(n_jobs=-1)]: Done  46 tasks      | elapsed:   14.3s\n",
            "[Parallel(n_jobs=-1)]: Done 196 tasks      | elapsed:  1.0min\n",
            "[Parallel(n_jobs=-1)]: Done 446 tasks      | elapsed:  2.3min\n",
            "[Parallel(n_jobs=-1)]: Done 796 tasks      | elapsed:  4.1min\n",
            "[Parallel(n_jobs=-1)]: Done 1246 tasks      | elapsed:  6.5min\n",
            "[Parallel(n_jobs=-1)]: Done 1440 out of 1440 | elapsed:  7.7min finished\n"
          ],
          "name": "stderr"
        },
        {
          "output_type": "stream",
          "text": [
            "it 9/10\n",
            "{'rep__gamma_': 500, 'rep__lambda_': 3, 'rep__learning_rate': 0.001, 'rep__n_clusters': 3, 'rep__nn': 5, 'rep__optimization': 'Nadam', 'rep__reduction_': 'SC', 'rep__sigma_initial': 35}\n",
            "acc: 85.18518518518519\n",
            "ari: 61.20883012631331\n",
            "it 10/10\n",
            "Fitting 5 folds for each of 288 candidates, totalling 1440 fits\n"
          ],
          "name": "stdout"
        },
        {
          "output_type": "stream",
          "text": [
            "[Parallel(n_jobs=-1)]: Using backend LokyBackend with 2 concurrent workers.\n",
            "[Parallel(n_jobs=-1)]: Done  46 tasks      | elapsed:   14.4s\n",
            "[Parallel(n_jobs=-1)]: Done 196 tasks      | elapsed:  1.0min\n",
            "[Parallel(n_jobs=-1)]: Done 446 tasks      | elapsed:  2.3min\n",
            "[Parallel(n_jobs=-1)]: Done 796 tasks      | elapsed:  4.1min\n",
            "[Parallel(n_jobs=-1)]: Done 1246 tasks      | elapsed:  6.6min\n",
            "[Parallel(n_jobs=-1)]: Done 1440 out of 1440 | elapsed:  7.8min finished\n"
          ],
          "name": "stderr"
        },
        {
          "output_type": "stream",
          "text": [
            "it 10/10\n",
            "{'rep__gamma_': 500, 'rep__lambda_': 2, 'rep__learning_rate': 0.001, 'rep__n_clusters': 3, 'rep__nn': 5, 'rep__optimization': 'Nadam', 'rep__reduction_': 'SC', 'rep__sigma_initial': 30}\n",
            "acc: 92.5925925925926\n",
            "ari: 77.9691211401425\n"
          ],
          "name": "stdout"
        }
      ]
    },
    {
      "cell_type": "code",
      "metadata": {
        "id": "UivX0t1WYwSN",
        "colab_type": "code",
        "colab": {}
      },
      "source": [
        "namefile = str(datetime.now().strftime(\"%Y_%m_%d_%H_%M_%d\"))+'__results'\n",
        "shutil.make_archive(namefile, 'zip', '/content/PRI')\n",
        "files.download(namefile+'.zip')"
      ],
      "execution_count": 0,
      "outputs": []
    },
    {
      "cell_type": "code",
      "metadata": {
        "id": "6qxmbeCV06lL",
        "colab_type": "code",
        "colab": {}
      },
      "source": [
        ""
      ],
      "execution_count": 0,
      "outputs": []
    }
  ]
}