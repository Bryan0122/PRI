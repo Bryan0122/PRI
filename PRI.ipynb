{
  "nbformat": 4,
  "nbformat_minor": 0,
  "metadata": {
    "colab": {
      "name": "PRI.ipynb",
      "provenance": [],
      "authorship_tag": "ABX9TyP/v6zBiAFR21tC2mWkQ4sS",
      "include_colab_link": true
    },
    "kernelspec": {
      "name": "python3",
      "display_name": "Python 3"
    }
  },
  "cells": [
    {
      "cell_type": "markdown",
      "metadata": {
        "id": "view-in-github",
        "colab_type": "text"
      },
      "source": [
        "<a href=\"https://colab.research.google.com/github/Bryan0122/PRI/blob/master/PRI.ipynb\" target=\"_parent\"><img src=\"https://colab.research.google.com/assets/colab-badge.svg\" alt=\"Open In Colab\"/></a>"
      ]
    },
    {
      "cell_type": "markdown",
      "metadata": {
        "id": "Du_TqxsvmZFP",
        "colab_type": "text"
      },
      "source": [
        "# **PRI  (Principio de relevancia de informacion)**\n",
        "###  **Parte 1**\n",
        "En esta seccion se derrolla el metodo del PRI con las siguientes metodologias, teniendo en cuenta la formula del PRI que está determinada por:\n",
        "\\\n",
        "$$ L[p(X/X_{o})]= H_{2}(X)+\\lambda D_{cs}(X,X_{o}) $$\n",
        "\\\n",
        "minimizando $L$ respecto $X$ se tiene:\\\n",
        "\\\n",
        "$$ J(X)=min_{x}[H_{2}(X)+ \\lambda (2H_{2}(X,X_{o})-H_{2}(X)-H(X_{o}))]$$\n",
        "\\\n",
        "dado que $H_{2}(X_{o})$ es constante se tiene  \n",
        "\\\n",
        "$$ J(X)=min_{x}[(1-\\lambda)H_{2}(X)+2\\lambda H_{2}(X,X_{o})]$$ \n",
        "\\\n",
        "Antes de realizar la minimizacion se analizan los posibles valores de $\\lambda$ siendo de interes el rango comprendido para $1<\\lambda<\\infty$ , por tanto, se procede con la minimizacion dependiendo de los siguientes casos\n",
        "\\\n",
        "$$J(X)=-(1-\\lambda)log(V(X))-2\\lambda log(V(X,X_{o}))$$\n",
        "\\\n",
        "$$ J(X)= min_{x}[-(1-\\lambda)\\log(\\frac{1}{N^{2}}\\sum_{i=1}^{N}\\sum_{j=1}^{N}G_{\\sigma}(x_{i}-x_{j} ))-2\\lambda\\log(\\frac{1}{NN_{o}}\\sum_{i=1}^{N}\\sum_{j=1}^{N_{o}}G_{\\sigma}(x_{i}-x_{oj})]$$\n",
        "\\\n",
        "$$\\frac{d J(x)}{dx_{k}}=\\frac{2(1-\\lambda)}{V(X)}F(x_{k})+\\frac{2}{V(X,X_{o})}F(x,X_{o})=0$$\n",
        "\\\n",
        "Donde $F(x_{k})$ y $F(x,X_{o})$ estan definidos como:\n",
        "\\\n",
        "$$F(x_{k})=\\frac{-1}{N \\sigma^{2}}\\sum_{j=1}^{N}G_{\\sigma}(x_{k}-x_{j})(x_{k}-x_{j})$$ \n",
        "$$F(x;X_{o})=\\frac{-1}{N_{o} \\sigma^{2}}\\sum_{j=1}^{N_{o}}G_{\\sigma}(x_{k}-x_{oj})(x_{k}-x_{oj})$$ \n",
        "\n",
        "1.   FP (punto Fijo)\n",
        "\\\n",
        "Para esta metodologia se despeja la derivada en terminos de $x_{k}$, dando como resultado:\n",
        "$$\\frac{(1-\\lambda)}{NV(X)}\\sum_{j=1}^{N}G_{\\sigma}(x_{k}-x_{j})(x_{j}-x_{k})=\\frac{\\lambda}{N_{o}V(X,X_{o})}\\sum_{j=1}^{N_{o}}G_{\\sigma}(x_{k}-x_{oj})(x_{k}-x_{oj})$$\n",
        "\\\n",
        "$$x_{k}(n+1)=c\\frac{(1-\\lambda)}{\\lambda}\\frac{\\sum_{j=1}^{N}G_{\\sigma}(x_{k}-x_{j})x_{j}}{\\sum_{j=1}^{N_{o}}G_{\\sigma}(x_{k}-x_{oj})}+\\frac{\\sum_{j=1}^{N_{o}}G_{\\sigma}(x_{k}-x_{oj})x_{oj}}{\\sum_{j=1}^{N_{o}}G_{\\sigma}(x_{k}-x_{oj})}-c\\frac{(1-\\lambda)}{\\lambda}\\frac{\\sum_{j=1}^{N}G_{\\sigma}(x_{k}-x_{j})x_{k}}{\\sum_{j=1}^{N_{o}}G_{\\sigma}(x_{k}-x_{oj})}$$\n",
        "\\\n",
        "Donde el parametro $c$ corresponde a:\n",
        "\\\n",
        "\\\n",
        "$c=\\frac{N_{o}V(X,X_{o})}{NV(X)}$ \n",
        "\n",
        "2.   SGD (Gradiente descendiente estocastico)\n",
        "\\\n",
        "3.   SGD por mini lotes\n",
        "\n",
        "\n",
        "\n"
      ]
    },
    {
      "cell_type": "code",
      "metadata": {
        "id": "6UJHd8BOlI-m",
        "colab_type": "code",
        "colab": {}
      },
      "source": [
        "import sys\n",
        "import numpy as np\n",
        "import math as math\n",
        "import scipy.io as sio\n",
        "import matplotlib.pyplot as plt\n",
        "from scipy.spatial import distance\n",
        "from sklearn.cluster import KMeans, SpectralClustering\n",
        "from scipy.spatial.distance import cdist\n",
        "from sklearn.base import BaseEstimator, TransformerMixin, ClusterMixin\n"
      ],
      "execution_count": 0,
      "outputs": []
    },
    {
      "cell_type": "code",
      "metadata": {
        "id": "r4z9TfcAlHHC",
        "colab_type": "code",
        "colab": {}
      },
      "source": [
        "data = sio.loadmat('DB.mat')['DB'][0, 0]\n",
        "happy = data['happy']\n",
        "sc = SpectralClustering(n_clusters=3, n_neighbors=5, gamma = 1000)\n",
        "sc.fit(happy)\n",
        "labels_happy = sc.labels_\n",
        "# p = PRI(n_groups=3, lambda_=15, sigma_initial=30,\n",
        "#        method = \"SGD\", reduction_ = False, optimization ='Nadam')\n",
        "p = MiniBatchPRI(n_groups = 3, lambda_ = 15,\n",
        "                 sigma_initial = 70, reduction_ = True)\n",
        "data = sio.loadmat('DB.mat')['DB'][0, 0]\n",
        "be_2 = data['happy']\n",
        "p.fit(be_2)\n",
        "p.results()"
      ],
      "execution_count": 0,
      "outputs": []
    }
  ]
}