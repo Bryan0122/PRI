{
  "nbformat": 4,
  "nbformat_minor": 0,
  "metadata": {
    "colab": {
      "name": "Copy of pritil2_.ipynb",
      "provenance": [],
      "include_colab_link": true
    },
    "kernelspec": {
      "name": "python3",
      "display_name": "Python 3"
    }
  },
  "cells": [
    {
      "cell_type": "markdown",
      "metadata": {
        "id": "view-in-github",
        "colab_type": "text"
      },
      "source": [
        "<a href=\"https://colab.research.google.com/github/Bryan0122/PRI/blob/master/Copy_of_pritil2_.ipynb\" target=\"_parent\"><img src=\"https://colab.research.google.com/assets/colab-badge.svg\" alt=\"Open In Colab\"/></a>"
      ]
    },
    {
      "cell_type": "markdown",
      "metadata": {
        "id": "sYipE0hzw7Z5",
        "colab_type": "text"
      },
      "source": [
        "1. Funcion de costo 1(cka-itl)\n",
        "Capa RBF fourier \n",
        "$$L_{1}(S_{est},S_{true})=R^{+}$$\n",
        "$$S_{est}\\in R^{N\\times D}$$\n",
        "$$S_{true}\\in R^{N\\times F}$$\n",
        "\n",
        "$d^{2}(x,x')=(x_{n}−x_{n'})S^{-1}(x_{n}−x_{n'})^{⊤}:\\forall n,n' \\in N$\\\n",
        "$S^{-1}=E[(x-E[x])(x'-E[x'])]$\\\n",
        " $K_{x}=A^{2}e^{\\frac{-d^{2}(S_{pred},S_{pred})}{2\\sigma_{x}^{2}}}\\in R^{N\\times N}$\\\n",
        " $K_{y}=A^{2}e^{\\frac{-d^{2}(S_{true},S_{true})}{2\\sigma_{y}^{2}}}\\in R^{N\\times N}$\\\n",
        " $h=I-\\frac{\\textbf{1}\\textbf{1}^{T}}{N};I \\in R^{N\\times N};\\textbf{1} \\in R^{N}$\\\n",
        "$<K_{c(x)},K_{c(y)}>_{F}=Tr(K_{x}hK_{y}h)\\in R$\\\n",
        "$<K_{c(x)},K_{c(x)}>_{F}=Tr(K_{x}hK_{x}h)\\in R$\\\n",
        "$L_{1}=\\lambda\\log \\left(\\frac{<K_{c(x)},K_{c(y)}>_{F}}{\\sqrt{<K_{c(x)},K_{c(x)}>_{F}}}\\right)$\\\n",
        "$L_{1}=\\lambda\\log (<K_{c(x)},K_{c(y)}>_{F})-0.5*\\lambda\\log(<K_{c(x)},K_{c(x)}>_{F})$\n",
        "\n",
        "\n",
        "2. Funcion de costo 2- Supervisado(cka itl,crossentropy, mse,kl)\n",
        "Capa Out\n",
        "$$L_{2}(S_{est},S_{true})=$$\n",
        "$$S_{est}\\in [0,1]^{N\\times C}$$\n",
        "$$S_{true}\\in [0,1]^{N\\times C}$$\n",
        "- cka itl\\\n",
        " $K_{x}=A^{2}e^{\\frac{-d^{2}(S_{pred},S_{pred})}{2\\sigma_{x}^{2}}}\\in R^{N\\times N}$\\\n",
        " $K_{y}=A^{2}e^{\\frac{-d^{2}(S_{true},S_{true})}{2\\sigma_{y}^{2}}}\\in R^{N\\times N}$\\\n",
        " $h=I-\\frac{\\textbf{1}\\textbf{1}^{T}}{N};I \\in R^{N\\times N};\\textbf{1} \\in R^{N}$\\\n",
        "$<K_{c(x)},K_{c(y)}>_{F}=Tr(K_{x}hK_{y}h)\\in R$\\\n",
        "$<K_{c(x)},K_{c(x)}>_{F}=Tr(K_{x}hK_{x}h)\\in R$\\\n",
        "$L_{2}=\\lambda\\log \\left(\\frac{<K_{c(x)},K_{c(y)}>_{F}}{\\sqrt{<K_{c(x)},K_{c(x)}>_{F}}}\\right)$\\\n",
        "$L_{2}=\\lambda\\log (<K_{c(x)},K_{c(y)}>_{F})-0.5*\\lambda\\log(<K_{c(x)},K_{c(x)}>_{F})$\n",
        "- MSE\n",
        "\n",
        " $d(x,x')=\\sqrt{(x_{n}−x_{n'})S^{-1}(x_{n}−x_{n'})^{⊤}}:\\forall n,n' \\in N$\\\n",
        " $S^{-1}=E[(x-E[x])(x'-E[x'])]$\\\n",
        " $L_{2}=E\\left [d(S_{pred},S_{true})\\right]$\n",
        "- Cross entropy\\\n",
        " $L_{2}=E[-E_{S_{true}}[\\log(S_{pred})]]$\n",
        "- KL\\\n",
        "$L_{2}=E[E_{S_{true}}\\left[\\log\\left(\\frac{S_{true}}{S_{est}}\\right)\\right]]$\n",
        "3. Funcion de costo 2- No Supervisado(cka-itl)\n",
        "Capa Out\n",
        "$$L_{3}(S_{est},S_{true})=R^{+}$$\n",
        "$$S_{est}\\in [0,1]^{N\\times C}$$\n",
        "$$S_{true}\\in R^{N\\times F}$$\n",
        "$K_{x}=S_{pred}S_{pred}^{T}$\\\n",
        "$K_{x}=\\frac{K_{x}-\\min(K_{x})}{K_{x}}$\\\n",
        " $K_{y}=A^{2}e^{\\frac{-d^{2}(S_{true},S_{true})}{2\\sigma_{y}^{2}}}\\in R^{N\\times N}$\\\n",
        "$h=I-\\frac{\\textbf{1}\\textbf{1}^{T}}{N};I \\in R^{N\\times N};\\textbf{1} \\in R^{N}$\\\n",
        "$<K_{c(x)},K_{c(y)}>_{F}=Tr(K_{x}hK_{y}h)\\in R$\\\n",
        "$<K_{c(x)},K_{c(x)}>_{F}=Tr(K_{x}hK_{x}h)\\in R$\\\n",
        "$L_{3}=\\lambda\\log \\left(\\frac{<K_{c(x)},K_{c(y)}>_{F}}{\\sqrt{<K_{c(x)},K_{c(x)}>_{F}}}\\right)$\\\n",
        "$L_{3}=\\lambda\\log (<K_{c(x)},K_{c(y)}>_{F})-0.5*\\lambda\\log(<K_{c(x)},K_{c(x)}>_{F})$\n",
        "- Prueba 1\n",
        "Funcion fcosto1 y fcosto2 no supervisado\n",
        "-Prueba2\n",
        "Funcion fcosto1 y fcosto2 supervisado con ckaitl\n",
        "- Prueba3\n",
        "Funcion fcosto1 y fcosto2 supervisado con sparse categorical crossentropy\n",
        "- Prueba4\n",
        "Funcion fcosto1 y fcosto2 supervisado con mean square error\n",
        "- Prueba5\n",
        "  Funcion fcosto1 y fcosto2 supervisado con mean Kl divergence\n",
        "DB= Carita, Luna y Mnist\n"
      ]
    },
    {
      "cell_type": "code",
      "metadata": {
        "id": "h5wOheyNiZO7",
        "colab_type": "code",
        "colab": {
          "base_uri": "https://localhost:8080/"
        },
        "outputId": "5806e486-a9f6-49b0-a307-8419a286b3ad"
      },
      "source": [
        "# Cargar base de datos sinteticas\n",
        "#https://drive.google.com/file/d/17lVU6fkPARDwRSThDR4LCIw5AvdkoIRB/view?usp=sharing\n",
        "#id del archivo: 17lVU6fkPARDwRSThDR4LCIw5AvdkoIRB\n",
        "\n",
        "FILEID = \"17lVU6fkPARDwRSThDR4LCIw5AvdkoIRB\"\n",
        "!wget --load-cookies /tmp/cookies.txt \"https://docs.google.com/uc?export=download&confirm=$(wget --quiet --save-cookies /tmp/cookies.txt --keep-session-cookies --no-check-certificate 'https://docs.google.com/uc?export=download&id='$FILEID -O- | sed -rn 's/.*confirm=([0-9A-Za-z_]+).*/\\1\\n/p')&id=\"$FILEID -O codigos.zip && rm -rf /tmp/cookies.txt\n",
        "!unzip codigos.zip\n",
        "!dir\n",
        "!pip install mne==0.19"
      ],
      "execution_count": null,
      "outputs": [
        {
          "output_type": "stream",
          "text": [
            "--2020-08-17 18:40:26--  https://docs.google.com/uc?export=download&confirm=&id=17lVU6fkPARDwRSThDR4LCIw5AvdkoIRB\n",
            "Resolving docs.google.com (docs.google.com)... 142.250.98.138, 142.250.98.102, 142.250.98.101, ...\n",
            "Connecting to docs.google.com (docs.google.com)|142.250.98.138|:443... connected.\n",
            "HTTP request sent, awaiting response... 302 Moved Temporarily\n",
            "Location: https://doc-0s-a8-docs.googleusercontent.com/docs/securesc/iumsjiovrjbk9cs6vd55mes6k7dt46uh/vm4t5esk8uqp4f4c34kda2q7l9drak5s/1597689600000/11146100322577758036/18060926397199579447Z/17lVU6fkPARDwRSThDR4LCIw5AvdkoIRB?e=download [following]\n",
            "--2020-08-17 18:40:26--  https://doc-0s-a8-docs.googleusercontent.com/docs/securesc/iumsjiovrjbk9cs6vd55mes6k7dt46uh/vm4t5esk8uqp4f4c34kda2q7l9drak5s/1597689600000/11146100322577758036/18060926397199579447Z/17lVU6fkPARDwRSThDR4LCIw5AvdkoIRB?e=download\n",
            "Resolving doc-0s-a8-docs.googleusercontent.com (doc-0s-a8-docs.googleusercontent.com)... 64.233.170.132, 2607:f8b0:400c:c0d::84\n",
            "Connecting to doc-0s-a8-docs.googleusercontent.com (doc-0s-a8-docs.googleusercontent.com)|64.233.170.132|:443... connected.\n",
            "HTTP request sent, awaiting response... 302 Found\n",
            "Location: https://docs.google.com/nonceSigner?nonce=3f1srmnlpah8c&continue=https://doc-0s-a8-docs.googleusercontent.com/docs/securesc/iumsjiovrjbk9cs6vd55mes6k7dt46uh/vm4t5esk8uqp4f4c34kda2q7l9drak5s/1597689600000/11146100322577758036/18060926397199579447Z/17lVU6fkPARDwRSThDR4LCIw5AvdkoIRB?e%3Ddownload&hash=gdls9fjps5m0jcs816t883ilun55fn38 [following]\n",
            "--2020-08-17 18:40:26--  https://docs.google.com/nonceSigner?nonce=3f1srmnlpah8c&continue=https://doc-0s-a8-docs.googleusercontent.com/docs/securesc/iumsjiovrjbk9cs6vd55mes6k7dt46uh/vm4t5esk8uqp4f4c34kda2q7l9drak5s/1597689600000/11146100322577758036/18060926397199579447Z/17lVU6fkPARDwRSThDR4LCIw5AvdkoIRB?e%3Ddownload&hash=gdls9fjps5m0jcs816t883ilun55fn38\n",
            "Connecting to docs.google.com (docs.google.com)|142.250.98.138|:443... connected.\n",
            "HTTP request sent, awaiting response... 302 Found\n",
            "Location: https://doc-0s-a8-docs.googleusercontent.com/docs/securesc/iumsjiovrjbk9cs6vd55mes6k7dt46uh/vm4t5esk8uqp4f4c34kda2q7l9drak5s/1597689600000/11146100322577758036/18060926397199579447Z/17lVU6fkPARDwRSThDR4LCIw5AvdkoIRB?e=download&nonce=3f1srmnlpah8c&user=18060926397199579447Z&hash=2jj0nbmop9m2jv8ubjjg84jduuc3r4ia [following]\n",
            "--2020-08-17 18:40:26--  https://doc-0s-a8-docs.googleusercontent.com/docs/securesc/iumsjiovrjbk9cs6vd55mes6k7dt46uh/vm4t5esk8uqp4f4c34kda2q7l9drak5s/1597689600000/11146100322577758036/18060926397199579447Z/17lVU6fkPARDwRSThDR4LCIw5AvdkoIRB?e=download&nonce=3f1srmnlpah8c&user=18060926397199579447Z&hash=2jj0nbmop9m2jv8ubjjg84jduuc3r4ia\n",
            "Connecting to doc-0s-a8-docs.googleusercontent.com (doc-0s-a8-docs.googleusercontent.com)|64.233.170.132|:443... connected.\n",
            "HTTP request sent, awaiting response... 200 OK\n",
            "Length: 121016 (118K) [application/x-zip-compressed]\n",
            "Saving to: ‘codigos.zip’\n",
            "\n",
            "\rcodigos.zip           0%[                    ]       0  --.-KB/s               \rcodigos.zip         100%[===================>] 118.18K  --.-KB/s    in 0.001s  \n",
            "\n",
            "2020-08-17 18:40:26 (86.8 MB/s) - ‘codigos.zip’ saved [121016/121016]\n",
            "\n",
            "Archive:  codigos.zip\n",
            "  inflating: CKAPRI/CKA_PRI.py       \n",
            "  inflating: CKAPRI/DB.mat           \n",
            "CKAPRI\tcodigos.zip  sample_data\n"
          ],
          "name": "stdout"
        }
      ]
    },
    {
      "cell_type": "code",
      "metadata": {
        "id": "KEDaulN-ifbb",
        "colab_type": "code",
        "colab": {}
      },
      "source": [
        "import os\n",
        "import sys\n",
        "Path='/content/CKAPRI'\n",
        "sys.path.append(Path)\n",
        "DB = os.path.join(Path, 'DB')"
      ],
      "execution_count": null,
      "outputs": []
    },
    {
      "cell_type": "code",
      "metadata": {
        "id": "TC9HspfVhYEM",
        "colab_type": "code",
        "colab": {}
      },
      "source": [
        "!pip install tf-nightly\n",
        "import numpy as np\n",
        "import scipy.io as sio\n",
        "from CKA_PRI import *\n",
        "import tensorflow as tf\n",
        "from joblib import dump,load\n",
        "from sklearn import  datasets\n",
        "import matplotlib.pyplot as plt\n",
        "import tensorflow_probability as tfp\n",
        "from sklearn.decomposition import PCA\n",
        "from sklearn.pipeline import Pipeline\n",
        "from sklearn.model_selection import GridSearchCV\n",
        "from sklearn.model_selection import train_test_split\n",
        "from sklearn.cluster import KMeans, SpectralClustering\n",
        "from sklearn.metrics.cluster import adjusted_rand_score\n",
        "from sklearn.metrics import accuracy_score,jaccard_score"
      ],
      "execution_count": null,
      "outputs": []
    },
    {
      "cell_type": "markdown",
      "metadata": {
        "id": "3MgbWageYNXr",
        "colab_type": "text"
      },
      "source": [
        "**Pre proceso Happy**"
      ]
    },
    {
      "cell_type": "code",
      "metadata": {
        "id": "2kq4XPNmix7L",
        "colab_type": "code",
        "colab": {}
      },
      "source": [
        "data = sio.loadmat(DB)['DB'][0, 0]\n",
        "#happy = data['happy']\n",
        "happy = data['happy']\n",
        "Ck = 3\n",
        "sc = SpectralClustering(n_clusters=Ck, n_neighbors=5, gamma = 500)\n",
        "sc.fit(happy)\n",
        "labels_happy = sc.labels_\n",
        "labels_happyo=labels_happy\n",
        "u=np.unique(labels_happy)\n",
        "labels=np.zeros((labels_happy.shape[0],len(np.unique(labels_happy))))\n",
        "for i in u:\n",
        "  labels[np.where(labels_happy==i),i]=1\n",
        "labels_happy=labels\n",
        "\n",
        "plt.scatter(happy[:,0],happy[:,1],c=labels_happy)"
      ],
      "execution_count": null,
      "outputs": []
    },
    {
      "cell_type": "code",
      "metadata": {
        "id": "PghbCuR1kmIm",
        "colab_type": "code",
        "colab": {}
      },
      "source": [
        "plt.imshow(sc.affinity_matrix_)\n",
        "plt.show()"
      ],
      "execution_count": null,
      "outputs": []
    },
    {
      "cell_type": "markdown",
      "metadata": {
        "id": "LPVAzSabYSho",
        "colab_type": "text"
      },
      "source": [
        "**Pre proceso Moons**"
      ]
    },
    {
      "cell_type": "code",
      "metadata": {
        "id": "PaN1hhycYXYQ",
        "colab_type": "code",
        "colab": {}
      },
      "source": [
        "data = sio.loadmat(DB)['DB'][0, 0]\n",
        "\n",
        "moons = data['hm']\n",
        "Ck = 2\n",
        "sc = SpectralClustering(n_clusters=Ck, n_neighbors=5, gamma = 500)\n",
        "sc.fit(moons)\n",
        "labels_moons = sc.labels_\n",
        "labels_moonso=labels_moons\n",
        "u=np.unique(labels_moons)\n",
        "plt.scatter(moons[:,0],moons[:,1],c=labels_moons)\n",
        "labels=np.zeros((labels_moons.shape[0],len(np.unique(labels_moons))))\n",
        "for i in u:\n",
        "  labels[np.where(labels_moons==i),i]=1\n",
        "labels_moons=labels\n"
      ],
      "execution_count": null,
      "outputs": []
    },
    {
      "cell_type": "code",
      "metadata": {
        "id": "CapG8uHfl1AJ",
        "colab_type": "code",
        "colab": {}
      },
      "source": [
        "plt.imshow(sc.affinity_matrix_)\n",
        "plt.show()"
      ],
      "execution_count": null,
      "outputs": []
    },
    {
      "cell_type": "markdown",
      "metadata": {
        "id": "CgD-lq02m4Jv",
        "colab_type": "text"
      },
      "source": [
        "**Pre proceso Mnist**"
      ]
    },
    {
      "cell_type": "code",
      "metadata": {
        "id": "3DOwZP-gm7zl",
        "colab_type": "code",
        "colab": {}
      },
      "source": [
        "(Xtrain, ytrain),_ = tf.keras.datasets.mnist.load_data()\n",
        "Xtrain = Xtrain/255.0 #obligar a flotante normalizado 0 a 1\n",
        "ytrain = ytrain/1.0\n",
        "ytraino=ytrain\n",
        "plt.imshow(Xtrain[0],cmap='binary')\n",
        "u=np.unique(ytrain)\n",
        "labels=np.zeros((ytrain.shape[0],len(np.unique(ytrain))))\n",
        "for i in u:\n",
        "  labels[np.where(ytrain==i),int(i)]=1\n",
        "ytrain=labels"
      ],
      "execution_count": null,
      "outputs": []
    },
    {
      "cell_type": "markdown",
      "metadata": {
        "id": "Wa_SnbEYohDO",
        "colab_type": "text"
      },
      "source": [
        "**Funcion de costo1**"
      ]
    },
    {
      "cell_type": "code",
      "metadata": {
        "id": "_LULopbbhbkJ",
        "colab_type": "code",
        "colab": {}
      },
      "source": [
        "def custom_loss_itlh( scalex=1, lanbda=0.5, scaley=1):\n",
        "    # @tf.function()  #decorador para operar sobre python, mas lento y poco efectivo en muchos casos\n",
        "    # Create a loss function that adds the MSE loss to the mean of all squared activations of a specific layer\n",
        "    def custom_kitl(y_true, y_pred):  # ytrue labels, ypred  = Xw\n",
        "        #kernels###############################################\n",
        "        scalar_kernel = tfp.math.psd_kernels.ExponentiatedQuadratic(\n",
        "            amplitude=1, length_scale=scalex)\n",
        "        scalar_kernely = tfp.math.psd_kernels.ExponentiatedQuadratic(\n",
        "            amplitude=1, length_scale=scaley)\n",
        "        k = scalar_kernel.matrix(y_pred, y_pred)\n",
        "        l = scalar_kernely.matrix(y_true, y_true)\n",
        "        #centralizar#####################################################\n",
        "        N = tf.cast(tf.shape(l)[0], dtype=tf.float32)\n",
        "        # matrix for centered kernel\n",
        "        h = tf.eye(N) - (1.0 / N) * tf.ones([N, 1]) * tf.ones([1, N])\n",
        "        # F inicial ####################################################\n",
        "        trkl = (1.0 / N**2) * \\\n",
        "            tf.linalg.trace(tf.matmul(tf.matmul(k, h), tf.matmul(l, h)))\n",
        "        trkk = (1.0 / N**2) * \\\n",
        "            tf.linalg.trace(tf.matmul(tf.matmul(k, h), tf.matmul(k, h)))\n",
        "        f = -(1 - lanbda) * tf.math.log(trkl+1E-10) + 0.5 * \\\n",
        "            lanbda * tf.math.log(trkk+1E-10)  # funcion de costo\n",
        "        return f\n",
        "    # Return a function\n",
        "    return custom_kitl"
      ],
      "execution_count": null,
      "outputs": []
    },
    {
      "cell_type": "markdown",
      "metadata": {
        "id": "AJ10n6C9olL0",
        "colab_type": "text"
      },
      "source": [
        "**Funcion de costo2**"
      ]
    },
    {
      "cell_type": "code",
      "metadata": {
        "id": "bQM1EqOA5ynA",
        "colab_type": "code",
        "colab": {}
      },
      "source": [
        "def custom_loss_itl( lanbda=0.5, scaley=1):\n",
        "    def norckai(K):\n",
        "        Ke=tf.matmul(K,K,transpose_b=True)\n",
        "        Ke=Ke-tf.math.reduce_min(Ke)\n",
        "        Ke=Ke/tf.math.reduce_max(Ke)\n",
        "        return Ke # tensores\n",
        "\n",
        "    # @tf.function()  #decorador para operar sobre python, mas lento y poco efectivo en muchos casos\n",
        "    # Create a loss function that adds the MSE loss to the mean of all squared activations of a specific layer\n",
        "    def custom_kitl(y_true, y_pred):  # ytrue labels, ypred  = Xw\n",
        "        #kernels###############################################\n",
        "        #scalar_kernel = tfp.math.psd_kernels.ExponentiatedQuadratic(\n",
        "        #    amplitude=1, length_scale=scalex)\n",
        "        scalar_kernely = tfp.math.psd_kernels.ExponentiatedQuadratic(\n",
        "            amplitude=1, length_scale=scaley)\n",
        "        k=norckai(y_pred)\n",
        "        ####\n",
        "        l = scalar_kernely.matrix(y_true, y_true)\n",
        "        #centralizar#####################################################\n",
        "        N = tf.cast(tf.shape(l)[0], dtype=tf.float32)\n",
        "        # matrix for centered kernel\n",
        "        h = tf.eye(N) - (1.0 / N) * tf.ones([N, 1]) * tf.ones([1, N])\n",
        "        # F inicial ####################################################\n",
        "        trkl = (1.0 / N**2) * \\\n",
        "            tf.linalg.trace(tf.matmul(tf.matmul(k, h), tf.matmul(l, h)))\n",
        "        trkk = (1.0 / N**2) * \\\n",
        "            tf.linalg.trace(tf.matmul(tf.matmul(k, h), tf.matmul(k, h)))\n",
        "        f = -(1 - lanbda) * tf.math.log(trkl+1E-10) + 0.5 * \\\n",
        "            lanbda * tf.math.log(trkk+1E-10)  # funcion de costo\n",
        "\n",
        "        return f\n",
        "    # Return a function\n",
        "    return custom_kitl"
      ],
      "execution_count": null,
      "outputs": []
    },
    {
      "cell_type": "markdown",
      "metadata": {
        "id": "_8W872h_orB4",
        "colab_type": "text"
      },
      "source": [
        "**Modelo**"
      ]
    },
    {
      "cell_type": "code",
      "metadata": {
        "id": "GW3Fz147hg5X",
        "colab_type": "code",
        "colab": {}
      },
      "source": [
        "D=150\n",
        "seed=100\n",
        "sigmay=0.05\n",
        "lr  = 0.01\n",
        "sigmax=1\n",
        "lambda_=0.5\n",
        "lk = 0.5\n",
        "bs=64\n",
        "initializer = tf.keras.initializers.RandomNormal(mean=0., stddev=1, seed=seed)\n",
        "input_l = tf.keras.layers.Input(shape=(Xtrain.shape[1]), name='entrada')\n",
        "h1 = tf.keras.layers.experimental.RandomFourierFeatures(output_dim=D,scale=sigmay, kernel_initializer='gaussian', trainable= False, name='rbf_fourier')(input_l)\n",
        "output = tf.keras.layers.Dense(Ck, activation='softmax', name='out', kernel_initializer=initializer)(h1)\n",
        "model = tf.keras.Model(inputs=input_l, outputs=[output,h1])\n",
        "tf.keras.utils.plot_model(model)\n",
        "#https://www.tensorflow.org/api_docs/python/tf/keras/layers/experimental/RandomFourierFeatures              "
      ],
      "execution_count": null,
      "outputs": []
    },
    {
      "cell_type": "code",
      "metadata": {
        "id": "RsKoSV6iPfxm",
        "colab_type": "code",
        "colab": {}
      },
      "source": [
        "model.summary()"
      ],
      "execution_count": null,
      "outputs": []
    },
    {
      "cell_type": "markdown",
      "metadata": {
        "id": "3Fa2sRlGo5V8",
        "colab_type": "text"
      },
      "source": [
        "**Prueba 1 (fcosto1 y fcosto2 supervisado con ckaitl)**"
      ]
    },
    {
      "cell_type": "markdown",
      "metadata": {
        "id": "s2SPKWnppWtw",
        "colab_type": "text"
      },
      "source": [
        "**Happy**"
      ]
    },
    {
      "cell_type": "code",
      "metadata": {
        "id": "efYYo1_mpYzU",
        "colab_type": "code",
        "colab": {}
      },
      "source": [
        "n_clusters=3\n",
        "D=150\n",
        "seed=100\n",
        "lr  = 0.01\n",
        "sigmax=1\n",
        "lk = 0.5\n",
        "bs=64\n",
        "parameters =[ {'rep__lambda_':[0.2,0.5,0.7],'rep__sigmay':[0.05,0.2,0.3,1.5],'rep__K':[n_clusters]}]"
      ],
      "execution_count": null,
      "outputs": []
    },
    {
      "cell_type": "code",
      "metadata": {
        "id": "MumWX_o_kgUX",
        "colab_type": "code",
        "colab": {}
      },
      "source": [
        "meth_name = 'CKAPRI'\n",
        "name='/content/CKAPRI/happyp1' + meth_name + '.joblib'\n",
        "Niter = 10 #numero particiones\n",
        "sl=len(parameters[0]['rep__lambda_'])\n",
        "ss=len(parameters[0]['rep__sigmay'])\n",
        "acc =np.zeros((Niter,sl,ss))#arreglo para guardar acierto\n",
        "ari=np.zeros((Niter,sl,ss))\n",
        "jacc=np.zeros((Niter,sl,ss))\n",
        "puri=np.zeros((Niter,sl,ss))\n",
        "Nc = len(np.unique(labels_happy))\n",
        "\n",
        "for j in range(Niter):\n",
        "  for l in range(sl):\n",
        "    for s in range(ss):\n",
        "      print('it %d/%d'%(j+1,Niter))\n",
        "      initializer = tf.keras.initializers.RandomNormal(mean=0., stddev=1, seed=seed)\n",
        "      input_l = tf.keras.layers.Input(shape=(happy.shape[1]), name='entrada')\n",
        "      h1 = tf.keras.layers.experimental.RandomFourierFeatures(output_dim=D,scale=parameters[0]['rep__sigmay'][s], kernel_initializer='gaussian', trainable= False, name='rbf_fourier')(input_l)\n",
        "      output = tf.keras.layers.Dense(n_clusters, activation='softmax', name='out', kernel_initializer=initializer)(h1)\n",
        "      model = tf.keras.Model(inputs=input_l, outputs=[output,h1])\n",
        "      model_loss=[custom_loss_itlh(scalex=sigmax, lanbda=parameters[0]['rep__lambda_'][l], scaley=parameters[0]['rep__sigmay'][s]),custom_loss_itl(lanbda=parameters[0]['rep__lambda_'][l], scaley=parameters[0]['rep__sigmay'][s])]\n",
        "      model.compile(loss=model_loss,loss_weights = [1-lk,lk],optimizer=tf.keras.optimizers.RMSprop(learning_rate=lr),)  # f1, precision, re\n",
        "\n",
        "      tf.keras.utils.plot_model(model)\n",
        "      history = model.fit(happy, [labels_happy,happy], epochs=100, batch_size=bs,  # 32, 64, 128, 256\n",
        "                    validation_split=0)\n",
        "      pd.DataFrame(history.history).plot(figsize=(8, 5))\n",
        "      plt.grid(True)\n",
        "      [y_pred,_] = model.predict(happy)\n",
        "      y_pred=np.argmax(y_pred,axis=1)\n",
        "      y_pred=PRICKA().Lconvert(y_ored,labels_happyo)\n",
        "      print(y_pred)\n",
        "      #guardar acierto\n",
        "      acc[j,l,s] = 100*accuracy_score(labels_happyo,y_pred)\n",
        "      ari[j,l,s]=100*adjusted_rand_score(labels_happyo,y_pred)\n",
        "      jacc[j,l,s]=100*jaccard_score(labels_happyo,y_pred,average='weighted')\n",
        "      puri[j,l,s]=100*purity_score(labels_happyo,y_pred)\n",
        "      #estimar matriz de confusion\n",
        "      print('it %d/%d'%(j+1,Niter))\n",
        "      print('acc:',acc[j,l,s])\n",
        "      print('ari:',ari[j,l,s])\n",
        "      #print('confusionmatrix \\n',cmc[j])\n",
        "      savedata = {\n",
        "        'ari':ari,\n",
        "        'acc':acc,\n",
        "        'jacc':jacc,\n",
        "        'puri':puri,\n",
        "          } \n",
        "      dump(savedata,name)\n",
        "\n",
        "              \n",
        "\n"
      ],
      "execution_count": null,
      "outputs": []
    },
    {
      "cell_type": "markdown",
      "metadata": {
        "id": "m9C2XTxDuUj0",
        "colab_type": "text"
      },
      "source": [
        "**bold text**"
      ]
    },
    {
      "cell_type": "code",
      "metadata": {
        "id": "XVXFY8DPqr7h",
        "colab_type": "code",
        "colab": {}
      },
      "source": [
        "[out,h1]=model.predict(Xtrain)\n",
        "lab_e=np.argmax(out,axis=1)\n"
      ],
      "execution_count": null,
      "outputs": []
    },
    {
      "cell_type": "code",
      "metadata": {
        "id": "zEF9tJ5UTDdm",
        "colab_type": "code",
        "colab": {
          "base_uri": "https://localhost:8080/",
          "height": 409
        },
        "outputId": "804ed4e4-18a2-4b74-e5a0-3295423131e9"
      },
      "source": [
        "\n",
        "def norcka(K):\n",
        "  #K = tf.expand_dims(K,axis=2)\n",
        "  Ke=tf.matmul(K,K,transpose_b=True)\n",
        "  Ke=Ke-tf.math.reduce_min(Ke)\n",
        "  Ke=Ke/tf.math.reduce_max(Ke)\n",
        "  #Ke = tf.expand_dims(K,axis=0)\n",
        "  return Ke\n",
        "\n",
        "plt.subplot(321)\n",
        "Kx = norcka(tf.convert_to_tensor(h1,dtype=tf.float32))\n",
        "plt.imshow(Kx.numpy())\n",
        "plt.title('K estimado')\n",
        "plt.colorbar()\n",
        "\n",
        "plt.subplot(322)\n",
        "scalar_kernel = tfp.math.psd_kernels.ExponentiatedQuadratic(\n",
        "            amplitude=1, length_scale=sigmay)\n",
        "Ky = scalar_kernel.matrix(tf.convert_to_tensor(Xtrain,dtype=tf.float32), tf.convert_to_tensor(Xtrain,dtype=tf.float32))\n",
        "plt.imshow(Ky.numpy())\n",
        "plt.title('K original')\n",
        "plt.colorbar()\n",
        "\n",
        "\n",
        "plt.subplot(323)\n",
        "red = PCA(n_components=2)\n",
        "zr = red.fit_transform(h1)\n",
        "plt.scatter(zr[:,0],zr[:,1],c=lab_e)\n",
        "plt.title('etiquetas est')\n",
        "\n",
        "plt.subplot(324)\n",
        "red = PCA(n_components=2)\n",
        "zr = red.fit_transform(h1)\n",
        "plt.scatter(zr[:,0],zr[:,1],c=ytrain)\n",
        "plt.title('etiquetas ori')\n",
        "\n",
        "plt.subplot(325)\n",
        "plt.scatter(Xtrain[:,0],Xtrain[:,1],c=lab_e)\n",
        "plt.title('etiquetas est')\n",
        "\n",
        "plt.subplot(326)\n",
        "plt.scatter(Xtrain[:,0],Xtrain[:,1],c=ytrain)\n",
        "plt.title('etiquetas ori')\n",
        "\n",
        "\n",
        "plt.subplots_adjust(hspace=0.5,wspace=0.5,bottom=0,top=1.2)\n",
        "plt.show()"
      ],
      "execution_count": null,
      "outputs": [
        {
          "output_type": "display_data",
          "data": {
            "image/png": "[encoded data removed]",
            "text/plain": [
              "<Figure size 432x288 with 8 Axes>"
            ]
          },
          "metadata": {
            "tags": [],
            "needs_background": "light"
          }
        }
      ]
    },
    {
      "cell_type": "code",
      "metadata": {
        "id": "gBHGZq8M2tWL",
        "colab_type": "code",
        "colab": {}
      },
      "source": [
        ""
      ],
      "execution_count": null,
      "outputs": []
    }
  ]
}