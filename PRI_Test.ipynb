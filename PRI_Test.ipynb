{
  "nbformat": 4,
  "nbformat_minor": 0,
  "metadata": {
    "colab": {
      "name": "PRI_Test",
      "provenance": [],
      "include_colab_link": true
    },
    "kernelspec": {
      "name": "python3",
      "display_name": "Python 3"
    }
  },
  "cells": [
    {
      "cell_type": "markdown",
      "metadata": {
        "id": "view-in-github",
        "colab_type": "text"
      },
      "source": [
        "<a href=\"https://colab.research.google.com/github/Bryan0122/PRI/blob/master/PRI_Test.ipynb\" target=\"_parent\"><img src=\"https://colab.research.google.com/assets/colab-badge.svg\" alt=\"Open In Colab\"/></a>"
      ]
    },
    {
      "cell_type": "code",
      "metadata": {
        "id": "DlElKF7j0Tbc",
        "colab_type": "code",
        "outputId": "d4537ebe-9934-40d7-a4fa-d615c863669b",
        "colab": {
          "base_uri": "https://localhost:8080/",
          "height": 649
        }
      },
      "source": [
        "#https://drive.google.com/file/d/1_7TT83TiGF1Dnr--2iAfJqNj_Q3se_AL/view?usp=sharing\n",
        "#https://drive.google.com/open?id=1Swni4KqUe9gu3enPqBQUH4aYl0PRxzDH\n",
        "#id del archivo: 1Swni4KqUe9gu3enPqBQUH4aYl0PRxzDH\n",
        "FILEID = \"1Swni4KqUe9gu3enPqBQUH4aYl0PRxzDH\"\n",
        "!wget --load-cookies /tmp/cookies.txt \"https://docs.google.com/uc?export=download&confirm=$(wget --quiet --save-cookies /tmp/cookies.txt --keep-session-cookies --no-check-certificate 'https://docs.google.com/uc?export=download&id='$FILEID -O- | sed -rn 's/.*confirm=([0-9A-Za-z_]+).*/\\1\\n/p')&id=\"$FILEID -O codigos.zip && rm -rf /tmp/cookies.txt\n",
        "!unzip codigos.zip\n",
        "!dir\n",
        "!pip install mne==0.19"
      ],
      "execution_count": 1,
      "outputs": [
        {
          "output_type": "stream",
          "text": [
            "--2020-04-30 01:54:08--  https://docs.google.com/uc?export=download&confirm=&id=1Swni4KqUe9gu3enPqBQUH4aYl0PRxzDH\n",
            "Resolving docs.google.com (docs.google.com)... 173.194.216.113, 173.194.216.100, 173.194.216.102, ...\n",
            "Connecting to docs.google.com (docs.google.com)|173.194.216.113|:443... connected.\n",
            "HTTP request sent, awaiting response... 302 Moved Temporarily\n",
            "Location: https://doc-04-6k-docs.googleusercontent.com/docs/securesc/ic8lc895nepjeph5njnfi1l56io0uk3a/a55m1klf16ltl990smk2qfcldjnsmshf/1588211625000/11146100322577758036/10793489726569277179Z/1Swni4KqUe9gu3enPqBQUH4aYl0PRxzDH?e=download [following]\n",
            "--2020-04-30 01:54:08--  https://doc-04-6k-docs.googleusercontent.com/docs/securesc/ic8lc895nepjeph5njnfi1l56io0uk3a/a55m1klf16ltl990smk2qfcldjnsmshf/1588211625000/11146100322577758036/10793489726569277179Z/1Swni4KqUe9gu3enPqBQUH4aYl0PRxzDH?e=download\n",
            "Resolving doc-04-6k-docs.googleusercontent.com (doc-04-6k-docs.googleusercontent.com)... 172.217.204.132, 2607:f8b0:400c:c15::84\n",
            "Connecting to doc-04-6k-docs.googleusercontent.com (doc-04-6k-docs.googleusercontent.com)|172.217.204.132|:443... connected.\n",
            "HTTP request sent, awaiting response... 302 Found\n",
            "Location: https://docs.google.com/nonceSigner?nonce=eb8btvgvgsrt4&continue=https://doc-04-6k-docs.googleusercontent.com/docs/securesc/ic8lc895nepjeph5njnfi1l56io0uk3a/a55m1klf16ltl990smk2qfcldjnsmshf/1588211625000/11146100322577758036/10793489726569277179Z/1Swni4KqUe9gu3enPqBQUH4aYl0PRxzDH?e%3Ddownload&hash=da9l1m9pi6apedua29n0cba637bmct1v [following]\n",
            "--2020-04-30 01:54:08--  https://docs.google.com/nonceSigner?nonce=eb8btvgvgsrt4&continue=https://doc-04-6k-docs.googleusercontent.com/docs/securesc/ic8lc895nepjeph5njnfi1l56io0uk3a/a55m1klf16ltl990smk2qfcldjnsmshf/1588211625000/11146100322577758036/10793489726569277179Z/1Swni4KqUe9gu3enPqBQUH4aYl0PRxzDH?e%3Ddownload&hash=da9l1m9pi6apedua29n0cba637bmct1v\n",
            "Connecting to docs.google.com (docs.google.com)|173.194.216.113|:443... connected.\n",
            "HTTP request sent, awaiting response... 302 Found\n",
            "Location: https://doc-04-6k-docs.googleusercontent.com/docs/securesc/ic8lc895nepjeph5njnfi1l56io0uk3a/a55m1klf16ltl990smk2qfcldjnsmshf/1588211625000/11146100322577758036/10793489726569277179Z/1Swni4KqUe9gu3enPqBQUH4aYl0PRxzDH?e=download&nonce=eb8btvgvgsrt4&user=10793489726569277179Z&hash=2o2jrus92o7h27dei44g5oacte8su0qk [following]\n",
            "--2020-04-30 01:54:08--  https://doc-04-6k-docs.googleusercontent.com/docs/securesc/ic8lc895nepjeph5njnfi1l56io0uk3a/a55m1klf16ltl990smk2qfcldjnsmshf/1588211625000/11146100322577758036/10793489726569277179Z/1Swni4KqUe9gu3enPqBQUH4aYl0PRxzDH?e=download&nonce=eb8btvgvgsrt4&user=10793489726569277179Z&hash=2o2jrus92o7h27dei44g5oacte8su0qk\n",
            "Connecting to doc-04-6k-docs.googleusercontent.com (doc-04-6k-docs.googleusercontent.com)|172.217.204.132|:443... connected.\n",
            "HTTP request sent, awaiting response... 200 OK\n",
            "Length: 134893 (132K) [application/x-zip-compressed]\n",
            "Saving to: ‘codigos.zip’\n",
            "\n",
            "codigos.zip         100%[===================>] 131.73K  --.-KB/s    in 0.001s  \n",
            "\n",
            "2020-04-30 01:54:08 (120 MB/s) - ‘codigos.zip’ saved [134893/134893]\n",
            "\n",
            "Archive:  codigos.zip\n",
            "  inflating: PRI/DB.mat              \n",
            " extracting: PRI/image.PNG           \n",
            "  inflating: PRI/main_functions.py   \n",
            "codigos.zip  PRI  sample_data\n",
            "Collecting mne==0.19\n",
            "\u001b[?25l  Downloading https://files.pythonhosted.org/packages/f5/44/b5b96426623c9dca0dfcdcfdf1f57058bb668f7c1a01bed0b0b867eb8b92/mne-0.19.0-py3-none-any.whl (6.4MB)\n",
            "\u001b[K     |████████████████████████████████| 6.4MB 2.8MB/s \n",
            "\u001b[?25hRequirement already satisfied: scipy>=0.17.1 in /usr/local/lib/python3.6/dist-packages (from mne==0.19) (1.4.1)\n",
            "Requirement already satisfied: numpy>=1.11.3 in /usr/local/lib/python3.6/dist-packages (from mne==0.19) (1.18.3)\n",
            "Installing collected packages: mne\n",
            "Successfully installed mne-0.19.0\n"
          ],
          "name": "stdout"
        }
      ]
    },
    {
      "cell_type": "markdown",
      "metadata": {
        "id": "A6GICMd_9Uj1",
        "colab_type": "text"
      },
      "source": [
        "**Añadir carpeta**"
      ]
    },
    {
      "cell_type": "code",
      "metadata": {
        "id": "h0lN5E6R6QSS",
        "colab_type": "code",
        "colab": {}
      },
      "source": [
        "import os\n",
        "import sys\n",
        "Path='/content/PRI'\n",
        "sys.path.append(Path)\n",
        "DB = os.path.join(Path, 'DB')"
      ],
      "execution_count": 0,
      "outputs": []
    },
    {
      "cell_type": "markdown",
      "metadata": {
        "id": "uX30N7FP9NhF",
        "colab_type": "text"
      },
      "source": [
        "**Cargar librerias**"
      ]
    },
    {
      "cell_type": "code",
      "metadata": {
        "id": "Z_66DGVe05bT",
        "colab_type": "code",
        "colab": {}
      },
      "source": [
        "import cv2\n",
        "import time\n",
        "import shutil\n",
        "import numpy as np\n",
        "import math as math\n",
        "import scipy.io as sio\n",
        "from sklearn import datasets\n",
        "from joblib import dump,load\n",
        "from main_functions import *\n",
        "from google.colab import files\n",
        "import matplotlib.pyplot as plt\n",
        "from scipy.spatial import distance\n",
        "from datetime import date, datetime\n",
        "from sklearn.pipeline import Pipeline\n",
        "from scipy.spatial.distance import cdist\n",
        "from sklearn.metrics import accuracy_score,confusion_matrix\n",
        "from sklearn.model_selection import GridSearchCV\n",
        "from sklearn.model_selection import train_test_split\n",
        "from sklearn.cluster import KMeans, SpectralClustering\n",
        "from sklearn.metrics.cluster import adjusted_rand_score\n",
        "from sklearn.base import BaseEstimator, TransformerMixin, ClusterMixin"
      ],
      "execution_count": 0,
      "outputs": []
    },
    {
      "cell_type": "markdown",
      "metadata": {
        "id": "Cqh-xa4n-DcC",
        "colab_type": "text"
      },
      "source": [
        "**Cargar Bases de datos**"
      ]
    },
    {
      "cell_type": "code",
      "metadata": {
        "id": "TmzV6Oro-Cy_",
        "colab_type": "code",
        "outputId": "69651a6c-dd63-4ed2-8c1a-78c393a59498",
        "colab": {
          "base_uri": "https://localhost:8080/",
          "height": 282
        }
      },
      "source": [
        "data = sio.loadmat(DB)['DB'][0, 0]\n",
        "happy = data['happy']\n",
        "sc = SpectralClustering(n_clusters=3, n_neighbors=5, gamma = 1000)\n",
        "sc.fit(happy)\n",
        "labels_happy = sc.labels_\n",
        "plt.scatter(happy[:,0],happy[:,1],c=labels_happy)"
      ],
      "execution_count": 4,
      "outputs": [
        {
          "output_type": "execute_result",
          "data": {
            "text/plain": [
              "<matplotlib.collections.PathCollection at 0x7f2985ee5b38>"
            ]
          },
          "metadata": {
            "tags": []
          },
          "execution_count": 4
        },
        {
          "output_type": "display_data",
          "data": {
            "image/png": "[encoded data removed]",
            "text/plain": [
              "<Figure size 432x288 with 1 Axes>"
            ]
          },
          "metadata": {
            "tags": [],
            "needs_background": "light"
          }
        }
      ]
    },
    {
      "cell_type": "markdown",
      "metadata": {
        "id": "2sWMxZlr9KzB",
        "colab_type": "text"
      },
      "source": [
        "**Parte 1**"
      ]
    },
    {
      "cell_type": "markdown",
      "metadata": {
        "id": "YWR9QGWz7xvX",
        "colab_type": "text"
      },
      "source": [
        "**Punto Fijo**"
      ]
    },
    {
      "cell_type": "code",
      "metadata": {
        "id": "It6eiXqczLY_",
        "colab_type": "code",
        "colab": {}
      },
      "source": [
        "X_train, X_test, y_train, y_test = train_test_split(\n",
        "    happy, labels_happy, test_size=0.2, stratify=labels_happy)\n",
        "Rari_Fp=adjusted_rand_score(y_test,labels_pre_FP)\n"
      ],
      "execution_count": 0,
      "outputs": []
    },
    {
      "cell_type": "code",
      "metadata": {
        "id": "7vxCPqhP4rL4",
        "colab_type": "code",
        "outputId": "e1006651-91d8-401d-b14f-5c73cc717728",
        "colab": {
          "base_uri": "https://localhost:8080/",
          "height": 333
        }
      },
      "source": [
        "t = time.time()\n",
        "p = PRI(lambda_=3, n_clusters=3, nn=3, sigma_initial=4)\n",
        "p.fit(X_train, y_train)\n",
        "labels_pre_FP = p.predict(X_test)\n",
        "print('el tiempo requerido fue:'+ str(time.time() - t)+'sg')\n",
        "plt.scatter(X_train[:, 0], X_train[:, 1], c=y_train, marker='.')\n",
        "plt.scatter(X_test[:, 0], X_test[:, 1], c=labels_pre_FP, marker='D',s=68)\n",
        "Rari_FP=adjusted_rand_score(y_test,labels_pre_FP)\n",
        "Racc_FP=accuracy_score(y_test,labels_pre_FP)\n",
        "print('Ari: '+str(Rari_FP)+' y'+' accuracy: '+str(Racc_FP))\n"
      ],
      "execution_count": 24,
      "outputs": [
        {
          "output_type": "stream",
          "text": [
            "/content/PRI/main_functions.py:201: RuntimeWarning: divide by zero encountered in log\n",
            "  A = -np.log((1 / N * No) * K1)\n"
          ],
          "name": "stderr"
        },
        {
          "output_type": "stream",
          "text": [
            "el tiempo requerido fue:1.6071743965148926sg\n",
            "Ari: 1.0 y accuracy: 1.0\n"
          ],
          "name": "stdout"
        },
        {
          "output_type": "display_data",
          "data": {
            "image/png": "[encoded data removed]",
            "text/plain": [
              "<Figure size 432x288 with 1 Axes>"
            ]
          },
          "metadata": {
            "tags": [],
            "needs_background": "light"
          }
        }
      ]
    },
    {
      "cell_type": "markdown",
      "metadata": {
        "id": "HT40LPXv8Axw",
        "colab_type": "text"
      },
      "source": [
        "**SGD**"
      ]
    },
    {
      "cell_type": "code",
      "metadata": {
        "id": "6KiP2Dfr6-yX",
        "colab_type": "code",
        "outputId": "0c71c027-4f3e-4bf0-da9b-7a872a943085",
        "colab": {
          "base_uri": "https://localhost:8080/",
          "height": 299
        }
      },
      "source": [
        "t = time.time()\n",
        "p = MiniBatchPRI(lambda_=3, n_clusters=3, nn=3, sigma_initial=4)\n",
        "p.fit(X_train, y_train)\n",
        "labels_pre_SGD = p.predict(X_test)\n",
        "print('el tiempo requerido fue:'+ str(time.time() - t)+'sg')\n",
        "plt.scatter(X_train[:, 0], X_train[:, 1], c=y_train, marker='.')\n",
        "plt.scatter(X_test[:, 0], X_test[:, 1], c=labels_pre_SGD, marker='D',s=68)\n",
        "Rari_SGD=adjusted_rand_score(y_test,labels_pre_SGD)\n",
        "Racc_SGD=accuracy_score(y_test,labels_pre_SGD)\n",
        "print('Ari: '+str(Rari_SGD)+' y'+' accuracy: '+str(Racc_SGD))"
      ],
      "execution_count": 23,
      "outputs": [
        {
          "output_type": "stream",
          "text": [
            "el tiempo requerido fue:1.0082659721374512sg\n",
            "Ari: 0.9405619171290285 y accuracy: 0.9814814814814815\n"
          ],
          "name": "stdout"
        },
        {
          "output_type": "display_data",
          "data": {
            "image/png": "[encoded data removed]",
            "text/plain": [
              "<Figure size 432x288 with 1 Axes>"
            ]
          },
          "metadata": {
            "tags": [],
            "needs_background": "light"
          }
        }
      ]
    },
    {
      "cell_type": "markdown",
      "metadata": {
        "id": "as08a-Lg8JJt",
        "colab_type": "text"
      },
      "source": [
        "**Adam**"
      ]
    },
    {
      "cell_type": "code",
      "metadata": {
        "id": "wx9Z4deG8De1",
        "colab_type": "code",
        "outputId": "1978ca2a-80cb-46ec-df78-82482d77f5a9",
        "colab": {
          "base_uri": "https://localhost:8080/",
          "height": 299
        }
      },
      "source": [
        "t = time.time()\n",
        "p = MiniBatchPRI(lambda_=3, n_clusters=3, nn=3, sigma_initial=4,optimization='Adam')\n",
        "p.fit(X_train, y_train)\n",
        "labels_pre_SGDA = p.predict(X_test)\n",
        "print('el tiempo requerido fue:'+ str(time.time() - t)+'sg')\n",
        "plt.scatter(X_train[:, 0], X_train[:, 1], c=y_train, marker='.')\n",
        "plt.scatter(X_test[:, 0], X_test[:, 1], c=labels_pre_SGDA, marker='D',s=68)\n",
        "Rari_SGDA=adjusted_rand_score(y_test,labels_pre_SGDA)\n",
        "Racc_SGDA=accuracy_score(y_test,labels_pre_SGDA)\n",
        "print('Ari: '+str(Rari_SGDA)+' y'+' accuracy: '+str(Racc_SGDA))"
      ],
      "execution_count": 25,
      "outputs": [
        {
          "output_type": "stream",
          "text": [
            "el tiempo requerido fue:1.208676815032959sg\n",
            "Ari: 0.9405619171290285 y accuracy: 0.9814814814814815\n"
          ],
          "name": "stdout"
        },
        {
          "output_type": "display_data",
          "data": {
            "image/png": "[encoded data removed]",
            "text/plain": [
              "<Figure size 432x288 with 1 Axes>"
            ]
          },
          "metadata": {
            "tags": [],
            "needs_background": "light"
          }
        }
      ]
    },
    {
      "cell_type": "markdown",
      "metadata": {
        "id": "SeylA1z78UWW",
        "colab_type": "text"
      },
      "source": [
        "**Nadam**"
      ]
    },
    {
      "cell_type": "code",
      "metadata": {
        "id": "D199aDR68Oo-",
        "colab_type": "code",
        "outputId": "6fb597ab-cb2a-4152-ac94-56bda7584534",
        "colab": {
          "base_uri": "https://localhost:8080/",
          "height": 299
        }
      },
      "source": [
        "t = time.time()\n",
        "p = MiniBatchPRI(lambda_=3, n_clusters=3, nn=3, sigma_initial=4,optimization='Nadam')\n",
        "p.fit(X_train, y_train)\n",
        "labels_pre_SGDN = p.predict(X_test)\n",
        "print('el tiempo requerido fue:'+ str(time.time() - t)+'sg')\n",
        "plt.scatter(X_train[:, 0], X_train[:, 1], c=y_train, marker='.')\n",
        "plt.scatter(X_test[:, 0], X_test[:, 1], c=labels_pre_SGDN, marker='D',s=68)\n",
        "Rari_SGDN=adjusted_rand_score(y_test,labels_pre_SGDN)\n",
        "Racc_SGDN=accuracy_score(y_test,labels_pre_SGDN)\n",
        "print('Ari: '+str(Rari_SGDN)+' y'+' accuracy: '+str(Racc_SGDN))"
      ],
      "execution_count": 26,
      "outputs": [
        {
          "output_type": "stream",
          "text": [
            "el tiempo requerido fue:1.5518600940704346sg\n",
            "Ari: 0.779691211401425 y accuracy: 0.9259259259259259\n"
          ],
          "name": "stdout"
        },
        {
          "output_type": "display_data",
          "data": {
            "image/png": "[encoded data removed]",
            "text/plain": [
              "<Figure size 432x288 with 1 Axes>"
            ]
          },
          "metadata": {
            "tags": [],
            "needs_background": "light"
          }
        }
      ]
    },
    {
      "cell_type": "markdown",
      "metadata": {
        "id": "IedU198GAfIy",
        "colab_type": "text"
      },
      "source": [
        "**KNN**"
      ]
    },
    {
      "cell_type": "code",
      "metadata": {
        "id": "b9ZfdXii8YgM",
        "colab_type": "code",
        "outputId": "9e2e5966-9650-468c-83f1-09f757a277d4",
        "colab": {
          "base_uri": "https://localhost:8080/",
          "height": 299
        }
      },
      "source": [
        "t = time.time()\n",
        "p = Kmeans( n_clusters_=3)\n",
        "p.fit(X_train, y_train)\n",
        "labels_pre_Km= p.predict(X_test)\n",
        "print('el tiempo requerido fue:'+ str(time.time() - t)+'sg')\n",
        "plt.scatter(X_train[:, 0], X_train[:, 1], c=y_train, marker='.')\n",
        "plt.scatter(X_test[:, 0], X_test[:, 1], c=labels_pre_Km, marker='D',s=68)\n",
        "Rari_Km=adjusted_rand_score(y_test,labels_pre_Km)\n",
        "Racc_Km=accuracy_score(y_test,labels_pre_Km)\n",
        "print('Ari: '+str(Rari_Km)+' y'+' accuracy: '+str(Racc_Km))\n"
      ],
      "execution_count": 28,
      "outputs": [
        {
          "output_type": "stream",
          "text": [
            "el tiempo requerido fue:0.06328225135803223sg\n",
            "Ari: 0.3627377305046534 y accuracy: 0.7222222222222222\n"
          ],
          "name": "stdout"
        },
        {
          "output_type": "display_data",
          "data": {
            "image/png": "[encoded data removed]",
            "text/plain": [
              "<Figure size 432x288 with 1 Axes>"
            ]
          },
          "metadata": {
            "tags": [],
            "needs_background": "light"
          }
        }
      ]
    },
    {
      "cell_type": "markdown",
      "metadata": {
        "id": "1IwlR52QBMYM",
        "colab_type": "text"
      },
      "source": [
        "**Spectral CLustering**"
      ]
    },
    {
      "cell_type": "code",
      "metadata": {
        "id": "Zf_UoVzNBK7y",
        "colab_type": "code",
        "outputId": "40568930-210b-43d5-82d4-9d67664dc91a",
        "colab": {
          "base_uri": "https://localhost:8080/",
          "height": 299
        }
      },
      "source": [
        "t = time.time()\n",
        "p = SC(n_clusters_=3, gamma_=500, n_neighbors_=5, nn=3)\n",
        "p.fit(X_train, y_train)\n",
        "labels_pre_SC = p.predict(X_test)\n",
        "print('el tiempo requerido fue:'+ str(time.time() - t)+'sg')\n",
        "plt.scatter(X_train[:, 0], X_train[:, 1], c=y_train, marker='.')\n",
        "plt.scatter(X_test[:, 0], X_test[:, 1], c=labels_pre_SC, marker='D',s=68)\n",
        "Rari_SC=adjusted_rand_score(y_test,labels_pre_SC)\n",
        "Racc_SC=accuracy_score(y_test,labels_pre_SC)\n",
        "print('Ari: '+str(Rari_SC)+' y'+' accuracy: '+str(Racc_SC))\n"
      ],
      "execution_count": 30,
      "outputs": [
        {
          "output_type": "stream",
          "text": [
            "el tiempo requerido fue:0.06723451614379883sg\n",
            "Ari: 1.0 y accuracy: 1.0\n"
          ],
          "name": "stdout"
        },
        {
          "output_type": "display_data",
          "data": {
            "image/png": "[encoded data removed]",
            "text/plain": [
              "<Figure size 432x288 with 1 Axes>"
            ]
          },
          "metadata": {
            "tags": [],
            "needs_background": "light"
          }
        }
      ]
    },
    {
      "cell_type": "markdown",
      "metadata": {
        "id": "wcjdC__1ZY8N",
        "colab_type": "text"
      },
      "source": [
        "**Con ruido**"
      ]
    },
    {
      "cell_type": "markdown",
      "metadata": {
        "id": "liE5DVVcgpAs",
        "colab_type": "text"
      },
      "source": [
        "**Happy**"
      ]
    },
    {
      "cell_type": "code",
      "metadata": {
        "id": "mZN-_kOXgrIC",
        "colab_type": "code",
        "outputId": "d790c5e3-2f31-437b-af1b-0cc77f458d35",
        "colab": {
          "base_uri": "https://localhost:8080/",
          "height": 282
        }
      },
      "source": [
        "noise = np.random.normal(0,1,happy.shape)\n",
        "noisy_happy=happy+noise*0.02\n",
        "plt.scatter(noisy_happy[:,0],noisy_happy[:,1],c=labels_happy)"
      ],
      "execution_count": 0,
      "outputs": [
        {
          "output_type": "execute_result",
          "data": {
            "text/plain": [
              "<matplotlib.collections.PathCollection at 0x7f5d3bf4ef98>"
            ]
          },
          "metadata": {
            "tags": []
          },
          "execution_count": 13
        },
        {
          "output_type": "display_data",
          "data": {
            "image/png": "[encoded data removed]",
            "text/plain": [
              "<Figure size 432x288 with 1 Axes>"
            ]
          },
          "metadata": {
            "tags": [],
            "needs_background": "light"
          }
        }
      ]
    },
    {
      "cell_type": "markdown",
      "metadata": {
        "id": "fFsQFUmFgmxH",
        "colab_type": "text"
      },
      "source": [
        "**Moons**"
      ]
    },
    {
      "cell_type": "code",
      "metadata": {
        "id": "LDNw4QFYZYZZ",
        "colab_type": "code",
        "outputId": "fd694a75-9494-4864-b9db-f76f27ff7fe5",
        "colab": {
          "base_uri": "https://localhost:8080/",
          "height": 282
        }
      },
      "source": [
        "from sklearn import  datasets\n",
        "noisy_moons,labels_moons = datasets.make_moons(n_samples=200, noise=.085)\n",
        "plt.scatter(noisy_moons[:,0],noisy_moons[:,1],c=labels_moons)"
      ],
      "execution_count": 31,
      "outputs": [
        {
          "output_type": "execute_result",
          "data": {
            "text/plain": [
              "<matplotlib.collections.PathCollection at 0x7f298579f978>"
            ]
          },
          "metadata": {
            "tags": []
          },
          "execution_count": 31
        },
        {
          "output_type": "display_data",
          "data": {
            "image/png": "[encoded data removed]",
            "text/plain": [
              "<Figure size 432x288 with 1 Axes>"
            ]
          },
          "metadata": {
            "tags": [],
            "needs_background": "light"
          }
        }
      ]
    },
    {
      "cell_type": "markdown",
      "metadata": {
        "id": "8Sn0G21Z5t6P",
        "colab_type": "text"
      },
      "source": [
        "**Resultados**"
      ]
    },
    {
      "cell_type": "markdown",
      "metadata": {
        "id": "4Ul5tySRD8jd",
        "colab_type": "text"
      },
      "source": [
        "**Happy**"
      ]
    },
    {
      "cell_type": "code",
      "metadata": {
        "id": "Vu8g3QD0uO9y",
        "colab_type": "code",
        "colab": {}
      },
      "source": [
        "n_clusters=3\n",
        "steps =[[('rep',SC())],\n",
        "        [('rep',Kmeans())], \n",
        "        [('rep', PRI( reduction_ = True,method='FP'))], \n",
        "         [('rep', MiniBatchPRI( reduction_ = True))], \n",
        "         [('rep', MiniBatchPRI( reduction_ = True,optimization='Adam'))], \n",
        "          [('rep',  MiniBatchPRI( reduction_ = True,optimization='Nadam'))]] \n",
        "   \n",
        "parameters =[{'rep__gamma_':[10,100,200,500,1000],'rep__n_neighbors_':[5,10,15],'rep__nn_':[3,5,9],'rep__n_clusters_':[n_clusters]},\n",
        "             {'rep__nn':[3,5,9],'rep__n_clusters_':[n_clusters]},\n",
        "             {'rep__lambda_':[5, 10, 15, 30, 50],\n",
        "             'rep__sigma_initial':[4,10,15,25,40],\n",
        "             'rep__nn':[3,5,9],'rep__n_clusters':[n_clusters]},\n",
        "             {'rep__lambda_':[5, 10, 15, 30, 50],\n",
        "             'rep__sigma_initial':[4,10,15,25,40],\n",
        "             'rep__nn':[3,5,9],'rep__n_clusters':[n_clusters]},\n",
        "             {'rep__lambda_':[5, 10, 15, 30, 50],\n",
        "             'rep__sigma_initial':[4,10,15,25,40],\n",
        "             'rep__nn':[3,5,9],'rep__n_clusters':[n_clusters]},\n",
        "             {'rep__lambda_':[5, 10, 15, 30, 50],\n",
        "             'rep__sigma_initial':[4,10,15,25,40],\n",
        "             'rep__nn':[3,5,9],'rep__n_clusters':[n_clusters]}]"
      ],
      "execution_count": 0,
      "outputs": []
    },
    {
      "cell_type": "code",
      "metadata": {
        "id": "OqXgcXQ-zRCP",
        "colab_type": "code",
        "outputId": "687d7b54-1537-4691-f6aa-3c8f9c5531c1",
        "colab": {
          "base_uri": "https://localhost:8080/",
          "height": 1000
        }
      },
      "source": [
        "#valildacion cruzada anidada\n",
        "for i in range(len(steps)):\n",
        "  meth_name = ['sc', 'Knn', 'FP','SGD','SGDA','SGDN']\n",
        "  name='/content/PRI/happy' + str(meth_name[i]) + '.joblib'\n",
        "  Niter = 10 #numero particiones\n",
        "  acc =np.zeros(Niter)#arreglo para guardar acierto\n",
        "  ari=acc\n",
        "  Nc = len(np.unique(labels_happy))\n",
        "  cmc = np.zeros((Niter,Nc,Nc))#arreglo para guarda matrices de confusion\n",
        "  best_estimators= []#mejor metodo por iteracion\n",
        "  best_parameters= []#mejor metodo por iteracion\n",
        "\n",
        "  for j in range(Niter):\n",
        "          print('it %d/%d'%(j+1,Niter))\n",
        "          ## Accuracy\n",
        "          X_train, X_test, y_train, y_test = train_test_split(happy,labels_happy,test_size=0.2, stratify=labels_happy)\n",
        "          grid_search = GridSearchCV(Pipeline(steps[i]) , parameters[i],cv=5,verbose=1,scoring='accuracy',n_jobs=-1)\n",
        "          #generar mejor modelo\n",
        "          grid_search.fit(X_train,y_train)\n",
        "          #estimar salida conjunto de test\n",
        "          y_pred = grid_search.best_estimator_.predict(X_test)\n",
        "          #guardar mejor modelo\n",
        "          best_estimators.append(grid_search.best_estimator_)\n",
        "          best_parameters.append(grid_search.best_params_)\n",
        "          \n",
        "          #guardar acierto\n",
        "          acc[j] = 100*accuracy_score(y_test,y_pred)\n",
        "          ari[j]=100*adjusted_rand_score(y_test,y_pred)\n",
        "          #estimar matriz de confusion\n",
        "          cm = confusion_matrix(y_test, y_pred)\n",
        "          cm = 100*cm.astype('float') / cm.sum(axis=1)[:, np.newaxis]\n",
        "          cmc[j] = cm\n",
        "          print('it %d/%d'%(j+1,Niter))\n",
        "          print(grid_search.best_params_)\n",
        "          print('acc:',acc[j])\n",
        "          print('confusionmatrix \\n',cmc[j])\n",
        "          savedata = {\n",
        "              'ari':ari,\n",
        "              'acc':acc,\n",
        "              'confusionmatrix':cmc,\n",
        "              'best_models':best_estimators,\n",
        "              'best_parameters':best_parameters,\n",
        "                } \n",
        "          dump(savedata,name)"
      ],
      "execution_count": 0,
      "outputs": [
        {
          "output_type": "stream",
          "text": [
            "it 1/10\n",
            "Fitting 5 folds for each of 45 candidates, totalling 225 fits\n"
          ],
          "name": "stdout"
        },
        {
          "output_type": "stream",
          "text": [
            "[Parallel(n_jobs=-1)]: Using backend LokyBackend with 2 concurrent workers.\n",
            "[Parallel(n_jobs=-1)]: Done 110 tasks      | elapsed:    4.9s\n",
            "[Parallel(n_jobs=-1)]: Done 225 out of 225 | elapsed:    8.5s finished\n",
            "[Parallel(n_jobs=-1)]: Using backend LokyBackend with 2 concurrent workers.\n"
          ],
          "name": "stderr"
        },
        {
          "output_type": "stream",
          "text": [
            "it 1/10\n",
            "{'rep__gamma_': 500, 'rep__n_clusters_': 3, 'rep__n_neighbors_': 5, 'rep__nn_': 3}\n",
            "acc: 100.0\n",
            "confusionmatrix \n",
            " [[100.   0.   0.]\n",
            " [  0. 100.   0.]\n",
            " [  0.   0. 100.]]\n",
            "it 2/10\n",
            "Fitting 5 folds for each of 45 candidates, totalling 225 fits\n"
          ],
          "name": "stdout"
        },
        {
          "output_type": "stream",
          "text": [
            "[Parallel(n_jobs=-1)]: Done  88 tasks      | elapsed:    2.7s\n",
            "[Parallel(n_jobs=-1)]: Done 222 out of 225 | elapsed:    7.1s remaining:    0.1s\n",
            "[Parallel(n_jobs=-1)]: Done 225 out of 225 | elapsed:    7.1s finished\n",
            "[Parallel(n_jobs=-1)]: Using backend LokyBackend with 2 concurrent workers.\n"
          ],
          "name": "stderr"
        },
        {
          "output_type": "stream",
          "text": [
            "it 2/10\n",
            "{'rep__gamma_': 500, 'rep__n_clusters_': 3, 'rep__n_neighbors_': 5, 'rep__nn_': 3}\n",
            "acc: 100.0\n",
            "confusionmatrix \n",
            " [[100.   0.   0.]\n",
            " [  0. 100.   0.]\n",
            " [  0.   0. 100.]]\n",
            "it 3/10\n",
            "Fitting 5 folds for each of 45 candidates, totalling 225 fits\n"
          ],
          "name": "stdout"
        },
        {
          "output_type": "stream",
          "text": [
            "[Parallel(n_jobs=-1)]: Done 164 tasks      | elapsed:    4.9s\n",
            "[Parallel(n_jobs=-1)]: Done 225 out of 225 | elapsed:    6.9s finished\n",
            "[Parallel(n_jobs=-1)]: Using backend LokyBackend with 2 concurrent workers.\n"
          ],
          "name": "stderr"
        },
        {
          "output_type": "stream",
          "text": [
            "it 3/10\n",
            "{'rep__gamma_': 500, 'rep__n_clusters_': 3, 'rep__n_neighbors_': 5, 'rep__nn_': 3}\n",
            "acc: 100.0\n",
            "confusionmatrix \n",
            " [[100.   0.   0.]\n",
            " [  0. 100.   0.]\n",
            " [  0.   0. 100.]]\n",
            "it 4/10\n",
            "Fitting 5 folds for each of 45 candidates, totalling 225 fits\n"
          ],
          "name": "stdout"
        },
        {
          "output_type": "stream",
          "text": [
            "[Parallel(n_jobs=-1)]: Done 164 tasks      | elapsed:    4.8s\n",
            "[Parallel(n_jobs=-1)]: Done 225 out of 225 | elapsed:    6.9s finished\n",
            "[Parallel(n_jobs=-1)]: Using backend LokyBackend with 2 concurrent workers.\n"
          ],
          "name": "stderr"
        },
        {
          "output_type": "stream",
          "text": [
            "it 4/10\n",
            "{'rep__gamma_': 500, 'rep__n_clusters_': 3, 'rep__n_neighbors_': 5, 'rep__nn_': 3}\n",
            "acc: 100.0\n",
            "confusionmatrix \n",
            " [[100.   0.   0.]\n",
            " [  0. 100.   0.]\n",
            " [  0.   0. 100.]]\n",
            "it 5/10\n",
            "Fitting 5 folds for each of 45 candidates, totalling 225 fits\n"
          ],
          "name": "stdout"
        },
        {
          "output_type": "stream",
          "text": [
            "[Parallel(n_jobs=-1)]: Done 164 tasks      | elapsed:    4.9s\n",
            "[Parallel(n_jobs=-1)]: Done 225 out of 225 | elapsed:    6.9s finished\n",
            "[Parallel(n_jobs=-1)]: Using backend LokyBackend with 2 concurrent workers.\n"
          ],
          "name": "stderr"
        },
        {
          "output_type": "stream",
          "text": [
            "it 5/10\n",
            "{'rep__gamma_': 500, 'rep__n_clusters_': 3, 'rep__n_neighbors_': 5, 'rep__nn_': 3}\n",
            "acc: 100.0\n",
            "confusionmatrix \n",
            " [[100.   0.   0.]\n",
            " [  0. 100.   0.]\n",
            " [  0.   0. 100.]]\n",
            "it 6/10\n",
            "Fitting 5 folds for each of 45 candidates, totalling 225 fits\n"
          ],
          "name": "stdout"
        },
        {
          "output_type": "stream",
          "text": [
            "[Parallel(n_jobs=-1)]: Done 164 tasks      | elapsed:    4.9s\n",
            "[Parallel(n_jobs=-1)]: Done 225 out of 225 | elapsed:    6.9s finished\n",
            "[Parallel(n_jobs=-1)]: Using backend LokyBackend with 2 concurrent workers.\n"
          ],
          "name": "stderr"
        },
        {
          "output_type": "stream",
          "text": [
            "it 6/10\n",
            "{'rep__gamma_': 500, 'rep__n_clusters_': 3, 'rep__n_neighbors_': 5, 'rep__nn_': 3}\n",
            "acc: 100.0\n",
            "confusionmatrix \n",
            " [[100.   0.   0.]\n",
            " [  0. 100.   0.]\n",
            " [  0.   0. 100.]]\n",
            "it 7/10\n",
            "Fitting 5 folds for each of 45 candidates, totalling 225 fits\n"
          ],
          "name": "stdout"
        },
        {
          "output_type": "stream",
          "text": [
            "[Parallel(n_jobs=-1)]: Done 160 tasks      | elapsed:    4.7s\n",
            "[Parallel(n_jobs=-1)]: Done 225 out of 225 | elapsed:    6.8s finished\n",
            "[Parallel(n_jobs=-1)]: Using backend LokyBackend with 2 concurrent workers.\n"
          ],
          "name": "stderr"
        },
        {
          "output_type": "stream",
          "text": [
            "it 7/10\n",
            "{'rep__gamma_': 500, 'rep__n_clusters_': 3, 'rep__n_neighbors_': 5, 'rep__nn_': 3}\n",
            "acc: 100.0\n",
            "confusionmatrix \n",
            " [[100.   0.   0.]\n",
            " [  0. 100.   0.]\n",
            " [  0.   0. 100.]]\n",
            "it 8/10\n",
            "Fitting 5 folds for each of 45 candidates, totalling 225 fits\n"
          ],
          "name": "stdout"
        },
        {
          "output_type": "stream",
          "text": [
            "[Parallel(n_jobs=-1)]: Done  88 tasks      | elapsed:    2.8s\n"
          ],
          "name": "stderr"
        }
      ]
    },
    {
      "cell_type": "markdown",
      "metadata": {
        "id": "Zg0jgls_EDJz",
        "colab_type": "text"
      },
      "source": [
        "**Moons**"
      ]
    },
    {
      "cell_type": "code",
      "metadata": {
        "id": "9jCifxb1EFgE",
        "colab_type": "code",
        "colab": {
          "base_uri": "https://localhost:8080/",
          "height": 231
        },
        "outputId": "c10cfc4b-a168-4dae-8db6-93353c2c0a36"
      },
      "source": [
        "usters=2\n",
        "steps =[[('rep',SC())],\n",
        "        [('rep',Kmeans())], \n",
        "        [('rep', PRI( reduction_ = True,method='FP'))], \n",
        "         [('rep', MiniBatchPRI( reduction_ = True))], \n",
        "         [('rep', MiniBatchPRI( reduction_ = True,optimization='Adam'))], \n",
        "          [('rep',  MiniBatchPRI( reduction_ = True,optimization='Nadam'))]] \n",
        "   \n",
        "parameters =[{'rep__gamma_':[10,100,200,500,1000],'rep__n_neighbors_':[5,10,15],'rep__nn_':[3,5,9],'rep__n_clusters_':[n_clusters]},\n",
        "             {'rep__nn':[3,5,9],'rep__n_clusters_':[n_clusters]},\n",
        "             {'rep__lambda_':[5, 10, 15, 30, 50],\n",
        "             'rep__sigma_initial':[4,10,15,25,40],\n",
        "             'rep__nn':[3,5,9],'rep__n_clusters':[n_clusters]},\n",
        "             {'rep__lambda_':[5, 10, 15, 30, 50],\n",
        "             'rep__sigma_initial':[4,10,15,25,40],\n",
        "             'rep__nn':[3,5,9],'rep__n_clusters':[n_clusters]},\n",
        "             {'rep__lambda_':[5, 10, 15, 30, 50],\n",
        "             'rep__sigma_initial':[4,10,15,25,40],\n",
        "             'rep__nn':[3,5,9],'rep__n_clusters':[n_clusters]},\n",
        "             {'rep__lambda_':[5, 10, 15, 30, 50],\n",
        "             'rep__sigma_initial':[4,10,15,25,40],\n",
        "             'rep__nn':[3,5,9],'rep__n_clusters':[n_clusters]}]"
      ],
      "execution_count": 54,
      "outputs": [
        {
          "output_type": "error",
          "ename": "TypeError",
          "evalue": "ignored",
          "traceback": [
            "\u001b[0;31m---------------------------------------------------------------------------\u001b[0m",
            "\u001b[0;31mTypeError\u001b[0m                                 Traceback (most recent call last)",
            "\u001b[0;32m<ipython-input-54-0f61fdeeb94f>\u001b[0m in \u001b[0;36m<module>\u001b[0;34m()\u001b[0m\n\u001b[1;32m      1\u001b[0m \u001b[0mn_clusters\u001b[0m\u001b[0;34m=\u001b[0m\u001b[0;36m2\u001b[0m\u001b[0;34m\u001b[0m\u001b[0;34m\u001b[0m\u001b[0m\n\u001b[1;32m      2\u001b[0m steps =[[('rep',spectralClustering())],\n\u001b[0;32m----> 3\u001b[0;31m         \u001b[0;34m[\u001b[0m\u001b[0;34m(\u001b[0m\u001b[0;34m'rep'\u001b[0m\u001b[0;34m,\u001b[0m\u001b[0mKnn\u001b[0m\u001b[0;34m(\u001b[0m\u001b[0;34m)\u001b[0m\u001b[0;34m)\u001b[0m\u001b[0;34m]\u001b[0m\u001b[0;34m,\u001b[0m\u001b[0;34m\u001b[0m\u001b[0;34m\u001b[0m\u001b[0m\n\u001b[0m\u001b[1;32m      4\u001b[0m         \u001b[0;34m[\u001b[0m\u001b[0;34m(\u001b[0m\u001b[0;34m'rep'\u001b[0m\u001b[0;34m,\u001b[0m \u001b[0mPRI\u001b[0m\u001b[0;34m(\u001b[0m \u001b[0mreduction_\u001b[0m \u001b[0;34m=\u001b[0m \u001b[0;32mTrue\u001b[0m\u001b[0;34m,\u001b[0m\u001b[0mmethod\u001b[0m\u001b[0;34m=\u001b[0m\u001b[0;34m'FP'\u001b[0m\u001b[0;34m,\u001b[0m\u001b[0mn_groups\u001b[0m\u001b[0;34m=\u001b[0m\u001b[0mn_clusters\u001b[0m\u001b[0;34m)\u001b[0m\u001b[0;34m)\u001b[0m\u001b[0;34m]\u001b[0m\u001b[0;34m,\u001b[0m\u001b[0;34m\u001b[0m\u001b[0;34m\u001b[0m\u001b[0m\n\u001b[1;32m      5\u001b[0m          \u001b[0;34m[\u001b[0m\u001b[0;34m(\u001b[0m\u001b[0;34m'rep'\u001b[0m\u001b[0;34m,\u001b[0m \u001b[0mMiniBatchPRI\u001b[0m\u001b[0;34m(\u001b[0m \u001b[0mreduction_\u001b[0m \u001b[0;34m=\u001b[0m \u001b[0;32mTrue\u001b[0m\u001b[0;34m,\u001b[0m\u001b[0mn_groups\u001b[0m\u001b[0;34m=\u001b[0m\u001b[0mn_clusters\u001b[0m\u001b[0;34m)\u001b[0m\u001b[0;34m)\u001b[0m\u001b[0;34m]\u001b[0m\u001b[0;34m,\u001b[0m\u001b[0;34m\u001b[0m\u001b[0;34m\u001b[0m\u001b[0m\n",
            "\u001b[0;31mTypeError\u001b[0m: 'dict' object is not callable"
          ]
        }
      ]
    },
    {
      "cell_type": "code",
      "metadata": {
        "id": "Etzrql3GEPNj",
        "colab_type": "code",
        "outputId": "f7d7c398-aaa8-448a-8645-6179cbeaffed",
        "colab": {
          "base_uri": "https://localhost:8080/",
          "height": 1000
        }
      },
      "source": [
        "#valildacion cruzada anidada\n",
        "for i in range(len(steps)):\n",
        "  meth_name = ['sc', 'Knn', 'FP','SGD','SGDA','SGDN']\n",
        "  name='/content/PRI/happy' + str(meth_name[i]) + '.joblib'\n",
        "  Niter = 10 #numero particiones\n",
        "  acc =np.zeros(Niter)#arreglo para guardar acierto\n",
        "  ari=acc\n",
        "  Nc = len(np.unique(labels_happy))\n",
        "  cmc = np.zeros((Niter,Nc,Nc))#arreglo para guarda matrices de confusion\n",
        "  best_estimators= []#mejor metodo por iteracion\n",
        "  best_parameters= []#mejor metodo por iteracion\n",
        "\n",
        "  for j in range(Niter):\n",
        "          print('it %d/%d'%(j+1,Niter))\n",
        "          ## Accuracy\n",
        "          X_train, X_test, y_train, y_test = train_test_split(happy,labels_happy,test_size=0.2, stratify=labels_happy)\n",
        "          grid_search = GridSearchCV(Pipeline(steps[i]) , parameters[i],cv=5,verbose=1,scoring='accuracy',n_jobs=-1)\n",
        "          #generar mejor modelo\n",
        "          grid_search.fit(X_train,y_train)\n",
        "          #estimar salida conjunto de test\n",
        "          y_pred = grid_search.best_estimator_.predict(X_test)\n",
        "          #guardar mejor modelo\n",
        "          best_estimators.append(grid_search.best_estimator_)\n",
        "          best_parameters.append(grid_search.best_params_)\n",
        "          \n",
        "          #guardar acierto\n",
        "          acc[j] = 100*accuracy_score(y_test,y_pred)\n",
        "          ari[j]=100*adjusted_rand_score(y_test,y_pred)\n",
        "          #estimar matriz de confusion\n",
        "          cm = confusion_matrix(y_test, y_pred)\n",
        "          cm = 100*cm.astype('float') / cm.sum(axis=1)[:, np.newaxis]\n",
        "          cmc[j] = cm\n",
        "          print('it %d/%d'%(j+1,Niter))\n",
        "          print(grid_search.best_params_)\n",
        "          print('acc:',acc[j])\n",
        "          print('confusionmatrix \\n',cmc[j])\n",
        "          savedata = {\n",
        "              'ari':ari,\n",
        "              'acc':acc,\n",
        "              'confusionmatrix':cmc,\n",
        "              'best_models':best_estimators,\n",
        "              'best_parameters':best_parameters,\n",
        "                } \n",
        "          dump(savedata,name)"
      ],
      "execution_count": 0,
      "outputs": [
        {
          "output_type": "stream",
          "text": [
            "it 1/10\n",
            "Fitting 5 folds for each of 15 candidates, totalling 75 fits\n"
          ],
          "name": "stdout"
        },
        {
          "output_type": "stream",
          "text": [
            "[Parallel(n_jobs=5)]: Using backend LokyBackend with 5 concurrent workers.\n",
            "[Parallel(n_jobs=5)]: Done  60 tasks      | elapsed:  1.0min\n",
            "[Parallel(n_jobs=5)]: Done  75 out of  75 | elapsed:  1.6min finished\n",
            "[Parallel(n_jobs=5)]: Using backend LokyBackend with 5 concurrent workers.\n"
          ],
          "name": "stderr"
        },
        {
          "output_type": "stream",
          "text": [
            "it 1/10\n",
            "{'rep__gamma': 100, 'rep__n_clusters': 2, 'rep__n_neighbors': 5}\n",
            "acc_ars: 100.0\n",
            "confusionmatrix_ars \n",
            " [[100.   0.]\n",
            " [  0. 100.]]\n",
            "Fitting 5 folds for each of 15 candidates, totalling 75 fits\n"
          ],
          "name": "stdout"
        },
        {
          "output_type": "stream",
          "text": [
            "[Parallel(n_jobs=5)]: Done  60 tasks      | elapsed:  1.2min\n",
            "[Parallel(n_jobs=5)]: Done  75 out of  75 | elapsed:  1.8min finished\n",
            "[Parallel(n_jobs=5)]: Using backend LokyBackend with 5 concurrent workers.\n"
          ],
          "name": "stderr"
        },
        {
          "output_type": "stream",
          "text": [
            "it 1/10\n",
            "{'rep__gamma': 100, 'rep__n_clusters': 2, 'rep__n_neighbors': 5}\n",
            "acc: 100.0\n",
            "confusionmatrix \n",
            " [[100.   0.]\n",
            " [  0. 100.]]\n",
            "it 2/10\n",
            "Fitting 5 folds for each of 15 candidates, totalling 75 fits\n"
          ],
          "name": "stdout"
        },
        {
          "output_type": "stream",
          "text": [
            "[Parallel(n_jobs=5)]: Done  60 tasks      | elapsed:  1.2min\n",
            "[Parallel(n_jobs=5)]: Done  75 out of  75 | elapsed:  1.7min finished\n",
            "[Parallel(n_jobs=5)]: Using backend LokyBackend with 5 concurrent workers.\n"
          ],
          "name": "stderr"
        },
        {
          "output_type": "stream",
          "text": [
            "it 2/10\n",
            "{'rep__gamma': 100, 'rep__n_clusters': 2, 'rep__n_neighbors': 5}\n",
            "acc_ars: 100.0\n",
            "confusionmatrix_ars \n",
            " [[100.   0.]\n",
            " [  0. 100.]]\n",
            "Fitting 5 folds for each of 15 candidates, totalling 75 fits\n"
          ],
          "name": "stdout"
        },
        {
          "output_type": "stream",
          "text": [
            "[Parallel(n_jobs=5)]: Done  60 tasks      | elapsed:  1.2min\n",
            "[Parallel(n_jobs=5)]: Done  75 out of  75 | elapsed:  1.8min finished\n",
            "[Parallel(n_jobs=5)]: Using backend LokyBackend with 5 concurrent workers.\n"
          ],
          "name": "stderr"
        },
        {
          "output_type": "stream",
          "text": [
            "it 2/10\n",
            "{'rep__gamma': 100, 'rep__n_clusters': 2, 'rep__n_neighbors': 5}\n",
            "acc: 100.0\n",
            "confusionmatrix \n",
            " [[100.   0.]\n",
            " [  0. 100.]]\n",
            "it 3/10\n",
            "Fitting 5 folds for each of 15 candidates, totalling 75 fits\n"
          ],
          "name": "stdout"
        },
        {
          "output_type": "stream",
          "text": [
            "[Parallel(n_jobs=5)]: Done  60 tasks      | elapsed:  1.2min\n",
            "[Parallel(n_jobs=5)]: Done  75 out of  75 | elapsed:  1.9min finished\n",
            "[Parallel(n_jobs=5)]: Using backend LokyBackend with 5 concurrent workers.\n"
          ],
          "name": "stderr"
        },
        {
          "output_type": "stream",
          "text": [
            "it 3/10\n",
            "{'rep__gamma': 100, 'rep__n_clusters': 2, 'rep__n_neighbors': 5}\n",
            "acc_ars: 100.0\n",
            "confusionmatrix_ars \n",
            " [[100.   0.]\n",
            " [  0. 100.]]\n",
            "Fitting 5 folds for each of 15 candidates, totalling 75 fits\n"
          ],
          "name": "stdout"
        },
        {
          "output_type": "stream",
          "text": [
            "[Parallel(n_jobs=5)]: Done  60 tasks      | elapsed:  1.3min\n",
            "[Parallel(n_jobs=5)]: Done  75 out of  75 | elapsed:  1.9min finished\n"
          ],
          "name": "stderr"
        },
        {
          "output_type": "stream",
          "text": [
            "it 3/10\n",
            "{'rep__gamma': 100, 'rep__n_clusters': 2, 'rep__n_neighbors': 5}\n",
            "acc: 100.0\n",
            "confusionmatrix \n",
            " [[100.   0.]\n",
            " [  0. 100.]]\n",
            "it 4/10\n",
            "Fitting 5 folds for each of 15 candidates, totalling 75 fits\n"
          ],
          "name": "stdout"
        },
        {
          "output_type": "stream",
          "text": [
            "[Parallel(n_jobs=5)]: Using backend LokyBackend with 5 concurrent workers.\n",
            "[Parallel(n_jobs=5)]: Done  60 tasks      | elapsed:  1.1min\n",
            "[Parallel(n_jobs=5)]: Done  75 out of  75 | elapsed:  1.7min finished\n",
            "[Parallel(n_jobs=5)]: Using backend LokyBackend with 5 concurrent workers.\n"
          ],
          "name": "stderr"
        },
        {
          "output_type": "stream",
          "text": [
            "it 4/10\n",
            "{'rep__gamma': 100, 'rep__n_clusters': 2, 'rep__n_neighbors': 5}\n",
            "acc_ars: 100.0\n",
            "confusionmatrix_ars \n",
            " [[100.   0.]\n",
            " [  0. 100.]]\n",
            "Fitting 5 folds for each of 15 candidates, totalling 75 fits\n"
          ],
          "name": "stdout"
        },
        {
          "output_type": "stream",
          "text": [
            "[Parallel(n_jobs=5)]: Done  60 tasks      | elapsed:  1.2min\n",
            "[Parallel(n_jobs=5)]: Done  75 out of  75 | elapsed:  1.8min finished\n",
            "[Parallel(n_jobs=5)]: Using backend LokyBackend with 5 concurrent workers.\n"
          ],
          "name": "stderr"
        },
        {
          "output_type": "stream",
          "text": [
            "it 4/10\n",
            "{'rep__gamma': 100, 'rep__n_clusters': 2, 'rep__n_neighbors': 5}\n",
            "acc: 100.0\n",
            "confusionmatrix \n",
            " [[100.   0.]\n",
            " [  0. 100.]]\n",
            "it 5/10\n",
            "Fitting 5 folds for each of 15 candidates, totalling 75 fits\n"
          ],
          "name": "stdout"
        },
        {
          "output_type": "stream",
          "text": [
            "[Parallel(n_jobs=5)]: Done  60 tasks      | elapsed:  1.1min\n",
            "[Parallel(n_jobs=5)]: Done  75 out of  75 | elapsed:  1.7min finished\n",
            "[Parallel(n_jobs=5)]: Using backend LokyBackend with 5 concurrent workers.\n"
          ],
          "name": "stderr"
        },
        {
          "output_type": "stream",
          "text": [
            "it 5/10\n",
            "{'rep__gamma': 100, 'rep__n_clusters': 2, 'rep__n_neighbors': 5}\n",
            "acc_ars: 100.0\n",
            "confusionmatrix_ars \n",
            " [[100.   0.]\n",
            " [  0. 100.]]\n",
            "Fitting 5 folds for each of 15 candidates, totalling 75 fits\n"
          ],
          "name": "stdout"
        },
        {
          "output_type": "stream",
          "text": [
            "[Parallel(n_jobs=5)]: Done  60 tasks      | elapsed:  1.3min\n",
            "[Parallel(n_jobs=5)]: Done  75 out of  75 | elapsed:  1.8min finished\n",
            "[Parallel(n_jobs=5)]: Using backend LokyBackend with 5 concurrent workers.\n"
          ],
          "name": "stderr"
        },
        {
          "output_type": "stream",
          "text": [
            "it 5/10\n",
            "{'rep__gamma': 100, 'rep__n_clusters': 2, 'rep__n_neighbors': 5}\n",
            "acc: 100.0\n",
            "confusionmatrix \n",
            " [[100.   0.]\n",
            " [  0. 100.]]\n",
            "it 6/10\n",
            "Fitting 5 folds for each of 15 candidates, totalling 75 fits\n"
          ],
          "name": "stdout"
        },
        {
          "output_type": "stream",
          "text": [
            "[Parallel(n_jobs=5)]: Done  60 tasks      | elapsed:  1.5min\n",
            "[Parallel(n_jobs=5)]: Done  75 out of  75 | elapsed:  2.1min finished\n",
            "[Parallel(n_jobs=5)]: Using backend LokyBackend with 5 concurrent workers.\n"
          ],
          "name": "stderr"
        },
        {
          "output_type": "stream",
          "text": [
            "it 6/10\n",
            "{'rep__gamma': 100, 'rep__n_clusters': 2, 'rep__n_neighbors': 10}\n",
            "acc_ars: 100.0\n",
            "confusionmatrix_ars \n",
            " [[100.   0.]\n",
            " [  0. 100.]]\n",
            "Fitting 5 folds for each of 15 candidates, totalling 75 fits\n"
          ],
          "name": "stdout"
        },
        {
          "output_type": "stream",
          "text": [
            "[Parallel(n_jobs=5)]: Done  60 tasks      | elapsed:   59.5s\n",
            "[Parallel(n_jobs=5)]: Done  75 out of  75 | elapsed:  1.5min finished\n",
            "[Parallel(n_jobs=5)]: Using backend LokyBackend with 5 concurrent workers.\n"
          ],
          "name": "stderr"
        },
        {
          "output_type": "stream",
          "text": [
            "it 6/10\n",
            "{'rep__gamma': 100, 'rep__n_clusters': 2, 'rep__n_neighbors': 5}\n",
            "acc: 100.0\n",
            "confusionmatrix \n",
            " [[100.   0.]\n",
            " [  0. 100.]]\n",
            "it 7/10\n",
            "Fitting 5 folds for each of 15 candidates, totalling 75 fits\n"
          ],
          "name": "stdout"
        },
        {
          "output_type": "stream",
          "text": [
            "[Parallel(n_jobs=5)]: Done  60 tasks      | elapsed:  1.3min\n",
            "[Parallel(n_jobs=5)]: Done  75 out of  75 | elapsed:  1.8min finished\n",
            "[Parallel(n_jobs=5)]: Using backend LokyBackend with 5 concurrent workers.\n"
          ],
          "name": "stderr"
        },
        {
          "output_type": "stream",
          "text": [
            "it 7/10\n",
            "{'rep__gamma': 100, 'rep__n_clusters': 2, 'rep__n_neighbors': 5}\n",
            "acc_ars: 100.0\n",
            "confusionmatrix_ars \n",
            " [[100.   0.]\n",
            " [  0. 100.]]\n",
            "Fitting 5 folds for each of 15 candidates, totalling 75 fits\n"
          ],
          "name": "stdout"
        },
        {
          "output_type": "stream",
          "text": [
            "[Parallel(n_jobs=5)]: Done  55 tasks      | elapsed:  1.2min\n",
            "[Parallel(n_jobs=5)]: Done  75 out of  75 | elapsed:  2.0min finished\n"
          ],
          "name": "stderr"
        },
        {
          "output_type": "stream",
          "text": [
            "it 7/10\n",
            "{'rep__gamma': 100, 'rep__n_clusters': 2, 'rep__n_neighbors': 5}\n",
            "acc: 100.0\n",
            "confusionmatrix \n",
            " [[100.   0.]\n",
            " [  0. 100.]]\n",
            "it 8/10\n",
            "Fitting 5 folds for each of 15 candidates, totalling 75 fits\n"
          ],
          "name": "stdout"
        },
        {
          "output_type": "stream",
          "text": [
            "[Parallel(n_jobs=5)]: Using backend LokyBackend with 5 concurrent workers.\n",
            "[Parallel(n_jobs=5)]: Done  60 tasks      | elapsed:  1.1min\n",
            "[Parallel(n_jobs=5)]: Done  75 out of  75 | elapsed:  1.7min finished\n",
            "[Parallel(n_jobs=5)]: Using backend LokyBackend with 5 concurrent workers.\n"
          ],
          "name": "stderr"
        },
        {
          "output_type": "stream",
          "text": [
            "it 8/10\n",
            "{'rep__gamma': 100, 'rep__n_clusters': 2, 'rep__n_neighbors': 5}\n",
            "acc_ars: 100.0\n",
            "confusionmatrix_ars \n",
            " [[100.   0.]\n",
            " [  0. 100.]]\n",
            "Fitting 5 folds for each of 15 candidates, totalling 75 fits\n"
          ],
          "name": "stdout"
        },
        {
          "output_type": "stream",
          "text": [
            "[Parallel(n_jobs=5)]: Done  60 tasks      | elapsed:  1.3min\n",
            "[Parallel(n_jobs=5)]: Done  75 out of  75 | elapsed:  2.0min finished\n",
            "[Parallel(n_jobs=5)]: Using backend LokyBackend with 5 concurrent workers.\n"
          ],
          "name": "stderr"
        },
        {
          "output_type": "stream",
          "text": [
            "it 8/10\n",
            "{'rep__gamma': 100, 'rep__n_clusters': 2, 'rep__n_neighbors': 5}\n",
            "acc: 100.0\n",
            "confusionmatrix \n",
            " [[100.   0.]\n",
            " [  0. 100.]]\n",
            "it 9/10\n",
            "Fitting 5 folds for each of 15 candidates, totalling 75 fits\n"
          ],
          "name": "stdout"
        },
        {
          "output_type": "stream",
          "text": [
            "[Parallel(n_jobs=5)]: Done  60 tasks      | elapsed:  1.3min\n",
            "[Parallel(n_jobs=5)]: Done  75 out of  75 | elapsed:  1.9min finished\n",
            "[Parallel(n_jobs=5)]: Using backend LokyBackend with 5 concurrent workers.\n"
          ],
          "name": "stderr"
        },
        {
          "output_type": "stream",
          "text": [
            "it 9/10\n",
            "{'rep__gamma': 100, 'rep__n_clusters': 2, 'rep__n_neighbors': 5}\n",
            "acc_ars: 100.0\n",
            "confusionmatrix_ars \n",
            " [[100.   0.]\n",
            " [  0. 100.]]\n",
            "Fitting 5 folds for each of 15 candidates, totalling 75 fits\n"
          ],
          "name": "stdout"
        },
        {
          "output_type": "stream",
          "text": [
            "[Parallel(n_jobs=5)]: Done  60 tasks      | elapsed:  1.1min\n",
            "[Parallel(n_jobs=5)]: Done  75 out of  75 | elapsed:  1.6min finished\n",
            "[Parallel(n_jobs=5)]: Using backend LokyBackend with 5 concurrent workers.\n"
          ],
          "name": "stderr"
        },
        {
          "output_type": "stream",
          "text": [
            "it 9/10\n",
            "{'rep__gamma': 100, 'rep__n_clusters': 2, 'rep__n_neighbors': 5}\n",
            "acc: 100.0\n",
            "confusionmatrix \n",
            " [[100.   0.]\n",
            " [  0. 100.]]\n",
            "it 10/10\n",
            "Fitting 5 folds for each of 15 candidates, totalling 75 fits\n"
          ],
          "name": "stdout"
        },
        {
          "output_type": "stream",
          "text": [
            "[Parallel(n_jobs=5)]: Done  60 tasks      | elapsed:  1.3min\n",
            "[Parallel(n_jobs=5)]: Done  75 out of  75 | elapsed:  2.0min finished\n",
            "[Parallel(n_jobs=5)]: Using backend LokyBackend with 5 concurrent workers.\n"
          ],
          "name": "stderr"
        },
        {
          "output_type": "stream",
          "text": [
            "it 10/10\n",
            "{'rep__gamma': 100, 'rep__n_clusters': 2, 'rep__n_neighbors': 5}\n",
            "acc_ars: 100.0\n",
            "confusionmatrix_ars \n",
            " [[100.   0.]\n",
            " [  0. 100.]]\n",
            "Fitting 5 folds for each of 15 candidates, totalling 75 fits\n"
          ],
          "name": "stdout"
        },
        {
          "output_type": "stream",
          "text": [
            "[Parallel(n_jobs=5)]: Done  60 tasks      | elapsed:  1.3min\n",
            "[Parallel(n_jobs=5)]: Done  75 out of  75 | elapsed:  1.9min finished\n",
            "[Parallel(n_jobs=5)]: Using backend LokyBackend with 5 concurrent workers.\n"
          ],
          "name": "stderr"
        },
        {
          "output_type": "stream",
          "text": [
            "it 10/10\n",
            "{'rep__gamma': 100, 'rep__n_clusters': 2, 'rep__n_neighbors': 5}\n",
            "acc: 100.0\n",
            "confusionmatrix \n",
            " [[100.   0.]\n",
            " [  0. 100.]]\n",
            "it 1/10\n",
            "Fitting 5 folds for each of 1 candidates, totalling 5 fits\n",
            "it 1/10\n",
            "{'rep__n_clusters': 2}\n",
            "acc_ars: 23.107255520504726\n",
            "confusionmatrix_ars \n",
            " [[85. 15.]\n",
            " [35. 65.]]\n",
            "Fitting 5 folds for each of 1 candidates, totalling 5 fits\n"
          ],
          "name": "stdout"
        },
        {
          "output_type": "stream",
          "text": [
            "[Parallel(n_jobs=5)]: Done   2 out of   5 | elapsed:    0.1s remaining:    0.2s\n",
            "[Parallel(n_jobs=5)]: Done   5 out of   5 | elapsed:    0.1s finished\n",
            "[Parallel(n_jobs=5)]: Using backend LokyBackend with 5 concurrent workers.\n",
            "[Parallel(n_jobs=5)]: Done   2 out of   5 | elapsed:    0.1s remaining:    0.1s\n",
            "[Parallel(n_jobs=5)]: Done   5 out of   5 | elapsed:    0.1s finished\n",
            "[Parallel(n_jobs=5)]: Using backend LokyBackend with 5 concurrent workers.\n"
          ],
          "name": "stderr"
        },
        {
          "output_type": "stream",
          "text": [
            "it 1/10\n",
            "{'rep__n_clusters': 2}\n",
            "acc: 82.5\n",
            "confusionmatrix \n",
            " [[90. 10.]\n",
            " [25. 75.]]\n",
            "it 2/10\n",
            "Fitting 5 folds for each of 1 candidates, totalling 5 fits\n",
            "it 2/10\n",
            "{'rep__n_clusters': 2}\n",
            "acc_ars: 40.73416222616933\n",
            "confusionmatrix_ars \n",
            " [[80. 20.]\n",
            " [15. 85.]]\n",
            "Fitting 5 folds for each of 1 candidates, totalling 5 fits\n"
          ],
          "name": "stdout"
        },
        {
          "output_type": "stream",
          "text": [
            "[Parallel(n_jobs=5)]: Done   2 out of   5 | elapsed:    0.1s remaining:    0.1s\n",
            "[Parallel(n_jobs=5)]: Done   5 out of   5 | elapsed:    0.1s finished\n",
            "[Parallel(n_jobs=5)]: Using backend LokyBackend with 5 concurrent workers.\n",
            "[Parallel(n_jobs=5)]: Done   2 out of   5 | elapsed:    0.1s remaining:    0.1s\n",
            "[Parallel(n_jobs=5)]: Done   5 out of   5 | elapsed:    0.1s finished\n"
          ],
          "name": "stderr"
        },
        {
          "output_type": "stream",
          "text": [
            "it 2/10\n",
            "{'rep__n_clusters': 2}\n",
            "acc: 80.0\n",
            "confusionmatrix \n",
            " [[75. 25.]\n",
            " [15. 85.]]\n",
            "it 3/10\n",
            "Fitting 5 folds for each of 1 candidates, totalling 5 fits\n",
            "it 3/10\n",
            "{'rep__n_clusters': 2}\n",
            "acc_ars: 34.384858044164034\n",
            "confusionmatrix_ars \n",
            " [[90. 10.]\n",
            " [30. 70.]]\n",
            "Fitting 5 folds for each of 1 candidates, totalling 5 fits\n"
          ],
          "name": "stdout"
        },
        {
          "output_type": "stream",
          "text": [
            "[Parallel(n_jobs=5)]: Using backend LokyBackend with 5 concurrent workers.\n",
            "[Parallel(n_jobs=5)]: Done   2 out of   5 | elapsed:    0.1s remaining:    0.1s\n",
            "[Parallel(n_jobs=5)]: Done   5 out of   5 | elapsed:    0.1s finished\n",
            "[Parallel(n_jobs=5)]: Using backend LokyBackend with 5 concurrent workers.\n",
            "[Parallel(n_jobs=5)]: Done   2 out of   5 | elapsed:    0.1s remaining:    0.1s\n",
            "[Parallel(n_jobs=5)]: Done   5 out of   5 | elapsed:    0.1s finished\n",
            "[Parallel(n_jobs=5)]: Using backend LokyBackend with 5 concurrent workers.\n",
            "[Parallel(n_jobs=5)]: Done   2 out of   5 | elapsed:    0.1s remaining:    0.2s\n",
            "[Parallel(n_jobs=5)]: Done   5 out of   5 | elapsed:    0.1s finished\n"
          ],
          "name": "stderr"
        },
        {
          "output_type": "stream",
          "text": [
            "it 3/10\n",
            "{'rep__n_clusters': 2}\n",
            "acc: 70.0\n",
            "confusionmatrix \n",
            " [[70. 30.]\n",
            " [30. 70.]]\n",
            "it 4/10\n",
            "Fitting 5 folds for each of 1 candidates, totalling 5 fits\n",
            "it 4/10\n",
            "{'rep__n_clusters': 2}\n",
            "acc_ars: 23.04656669297554\n",
            "confusionmatrix_ars \n",
            " [[70. 30.]\n",
            " [20. 80.]]\n",
            "Fitting 5 folds for each of 1 candidates, totalling 5 fits\n"
          ],
          "name": "stdout"
        },
        {
          "output_type": "stream",
          "text": [
            "[Parallel(n_jobs=5)]: Using backend LokyBackend with 5 concurrent workers.\n",
            "[Parallel(n_jobs=5)]: Done   2 out of   5 | elapsed:    0.1s remaining:    0.2s\n",
            "[Parallel(n_jobs=5)]: Done   5 out of   5 | elapsed:    0.1s finished\n",
            "[Parallel(n_jobs=5)]: Using backend LokyBackend with 5 concurrent workers.\n"
          ],
          "name": "stderr"
        },
        {
          "output_type": "stream",
          "text": [
            "it 4/10\n",
            "{'rep__n_clusters': 2}\n",
            "acc: 77.5\n",
            "confusionmatrix \n",
            " [[80. 20.]\n",
            " [25. 75.]]\n",
            "it 5/10\n",
            "Fitting 5 folds for each of 1 candidates, totalling 5 fits\n",
            "it 5/10\n",
            "{'rep__n_clusters': 2}\n",
            "acc_ars: 40.73416222616933\n",
            "confusionmatrix_ars \n",
            " [[80. 20.]\n",
            " [15. 85.]]\n",
            "Fitting 5 folds for each of 1 candidates, totalling 5 fits\n"
          ],
          "name": "stdout"
        },
        {
          "output_type": "stream",
          "text": [
            "[Parallel(n_jobs=5)]: Done   2 out of   5 | elapsed:    0.1s remaining:    0.1s\n",
            "[Parallel(n_jobs=5)]: Done   5 out of   5 | elapsed:    0.1s finished\n",
            "[Parallel(n_jobs=5)]: Using backend LokyBackend with 5 concurrent workers.\n",
            "[Parallel(n_jobs=5)]: Done   2 out of   5 | elapsed:    0.1s remaining:    0.1s\n",
            "[Parallel(n_jobs=5)]: Done   5 out of   5 | elapsed:    0.1s finished\n",
            "[Parallel(n_jobs=5)]: Using backend LokyBackend with 5 concurrent workers.\n"
          ],
          "name": "stderr"
        },
        {
          "output_type": "stream",
          "text": [
            "it 5/10\n",
            "{'rep__n_clusters': 2}\n",
            "acc: 70.0\n",
            "confusionmatrix \n",
            " [[80. 20.]\n",
            " [40. 60.]]\n",
            "it 6/10\n",
            "Fitting 5 folds for each of 1 candidates, totalling 5 fits\n",
            "it 6/10\n",
            "{'rep__n_clusters': 2}\n",
            "acc_ars: 18.156700217090982\n",
            "confusionmatrix_ars \n",
            " [[70. 30.]\n",
            " [25. 75.]]\n",
            "Fitting 5 folds for each of 1 candidates, totalling 5 fits\n"
          ],
          "name": "stdout"
        },
        {
          "output_type": "stream",
          "text": [
            "[Parallel(n_jobs=5)]: Done   2 out of   5 | elapsed:    0.1s remaining:    0.1s\n",
            "[Parallel(n_jobs=5)]: Done   5 out of   5 | elapsed:    0.1s finished\n",
            "[Parallel(n_jobs=5)]: Using backend LokyBackend with 5 concurrent workers.\n",
            "[Parallel(n_jobs=5)]: Done   2 out of   5 | elapsed:    0.1s remaining:    0.2s\n",
            "[Parallel(n_jobs=5)]: Done   5 out of   5 | elapsed:    0.1s finished\n"
          ],
          "name": "stderr"
        },
        {
          "output_type": "stream",
          "text": [
            "it 6/10\n",
            "{'rep__n_clusters': 2}\n",
            "acc: 80.0\n",
            "confusionmatrix \n",
            " [[75. 25.]\n",
            " [15. 85.]]\n",
            "it 7/10\n",
            "Fitting 5 folds for each of 1 candidates, totalling 5 fits\n",
            "it 7/10\n",
            "{'rep__n_clusters': 2}\n",
            "acc_ars: 28.419182948490228\n",
            "confusionmatrix_ars \n",
            " [[75. 25.]\n",
            " [20. 80.]]\n",
            "Fitting 5 folds for each of 1 candidates, totalling 5 fits\n"
          ],
          "name": "stdout"
        },
        {
          "output_type": "stream",
          "text": [
            "[Parallel(n_jobs=5)]: Using backend LokyBackend with 5 concurrent workers.\n",
            "[Parallel(n_jobs=5)]: Done   2 out of   5 | elapsed:    0.1s remaining:    0.2s\n",
            "[Parallel(n_jobs=5)]: Done   5 out of   5 | elapsed:    0.1s finished\n",
            "[Parallel(n_jobs=5)]: Using backend LokyBackend with 5 concurrent workers.\n",
            "[Parallel(n_jobs=5)]: Done   2 out of   5 | elapsed:    0.1s remaining:    0.1s\n",
            "[Parallel(n_jobs=5)]: Done   5 out of   5 | elapsed:    0.1s finished\n",
            "[Parallel(n_jobs=5)]: Using backend LokyBackend with 5 concurrent workers.\n",
            "[Parallel(n_jobs=5)]: Done   2 out of   5 | elapsed:    0.1s remaining:    0.2s\n",
            "[Parallel(n_jobs=5)]: Done   5 out of   5 | elapsed:    0.1s finished\n"
          ],
          "name": "stderr"
        },
        {
          "output_type": "stream",
          "text": [
            "it 7/10\n",
            "{'rep__n_clusters': 2}\n",
            "acc: 67.5\n",
            "confusionmatrix \n",
            " [[65. 35.]\n",
            " [30. 70.]]\n",
            "it 8/10\n",
            "Fitting 5 folds for each of 1 candidates, totalling 5 fits\n",
            "it 8/10\n",
            "{'rep__n_clusters': 2}\n",
            "acc_ars: 28.53201970443349\n",
            "confusionmatrix_ars \n",
            " [[90. 10.]\n",
            " [35. 65.]]\n",
            "Fitting 5 folds for each of 1 candidates, totalling 5 fits\n"
          ],
          "name": "stdout"
        },
        {
          "output_type": "stream",
          "text": [
            "[Parallel(n_jobs=5)]: Using backend LokyBackend with 5 concurrent workers.\n",
            "[Parallel(n_jobs=5)]: Done   2 out of   5 | elapsed:    0.1s remaining:    0.2s\n",
            "[Parallel(n_jobs=5)]: Done   5 out of   5 | elapsed:    0.1s finished\n",
            "[Parallel(n_jobs=5)]: Using backend LokyBackend with 5 concurrent workers.\n"
          ],
          "name": "stderr"
        },
        {
          "output_type": "stream",
          "text": [
            "it 8/10\n",
            "{'rep__n_clusters': 2}\n",
            "acc: 77.5\n",
            "confusionmatrix \n",
            " [[75. 25.]\n",
            " [20. 80.]]\n",
            "it 9/10\n",
            "Fitting 5 folds for each of 1 candidates, totalling 5 fits\n",
            "it 9/10\n",
            "{'rep__n_clusters': 2}\n",
            "acc_ars: 28.419182948490228\n",
            "confusionmatrix_ars \n",
            " [[75. 25.]\n",
            " [20. 80.]]\n",
            "Fitting 5 folds for each of 1 candidates, totalling 5 fits\n"
          ],
          "name": "stdout"
        },
        {
          "output_type": "stream",
          "text": [
            "[Parallel(n_jobs=5)]: Done   2 out of   5 | elapsed:    0.1s remaining:    0.1s\n",
            "[Parallel(n_jobs=5)]: Done   5 out of   5 | elapsed:    0.1s finished\n",
            "[Parallel(n_jobs=5)]: Using backend LokyBackend with 5 concurrent workers.\n",
            "[Parallel(n_jobs=5)]: Done   2 out of   5 | elapsed:    0.1s remaining:    0.2s\n",
            "[Parallel(n_jobs=5)]: Done   5 out of   5 | elapsed:    0.1s finished\n"
          ],
          "name": "stderr"
        },
        {
          "output_type": "stream",
          "text": [
            "it 9/10\n",
            "{'rep__n_clusters': 2}\n",
            "acc: 70.0\n",
            "confusionmatrix \n",
            " [[70. 30.]\n",
            " [30. 70.]]\n",
            "it 10/10\n",
            "Fitting 5 folds for each of 1 candidates, totalling 5 fits\n",
            "it 10/10\n",
            "{'rep__n_clusters': 2}\n",
            "acc_ars: 40.73416222616933\n",
            "confusionmatrix_ars \n",
            " [[80. 20.]\n",
            " [15. 85.]]\n",
            "Fitting 5 folds for each of 1 candidates, totalling 5 fits\n"
          ],
          "name": "stdout"
        },
        {
          "output_type": "stream",
          "text": [
            "[Parallel(n_jobs=5)]: Using backend LokyBackend with 5 concurrent workers.\n",
            "[Parallel(n_jobs=5)]: Done   2 out of   5 | elapsed:    0.1s remaining:    0.1s\n",
            "[Parallel(n_jobs=5)]: Done   5 out of   5 | elapsed:    0.1s finished\n",
            "[Parallel(n_jobs=5)]: Using backend LokyBackend with 5 concurrent workers.\n",
            "[Parallel(n_jobs=5)]: Done   2 out of   5 | elapsed:    0.1s remaining:    0.2s\n",
            "[Parallel(n_jobs=5)]: Done   5 out of   5 | elapsed:    0.1s finished\n",
            "[Parallel(n_jobs=5)]: Using backend LokyBackend with 5 concurrent workers.\n"
          ],
          "name": "stderr"
        },
        {
          "output_type": "stream",
          "text": [
            "it 10/10\n",
            "{'rep__n_clusters': 2}\n",
            "acc: 80.0\n",
            "confusionmatrix \n",
            " [[75. 25.]\n",
            " [15. 85.]]\n",
            "it 1/10\n",
            "Fitting 5 folds for each of 75 candidates, totalling 375 fits\n"
          ],
          "name": "stdout"
        },
        {
          "output_type": "stream",
          "text": [
            "[Parallel(n_jobs=5)]: Done  40 tasks      | elapsed:   22.2s\n",
            "[Parallel(n_jobs=5)]: Done 190 tasks      | elapsed:  1.7min\n",
            "[Parallel(n_jobs=5)]: Done 375 out of 375 | elapsed:  3.3min finished\n"
          ],
          "name": "stderr"
        },
        {
          "output_type": "stream",
          "text": [
            "it 1/10\n",
            "{'rep__lambda_': 5, 'rep__nn': 5, 'rep__sigma_initial': 25}\n",
            "acc_ars: 71.53659017686896\n",
            "confusionmatrix_ars \n",
            " [[100.   0.]\n",
            " [ 15.  85.]]\n",
            "Fitting 5 folds for each of 75 candidates, totalling 375 fits\n"
          ],
          "name": "stdout"
        },
        {
          "output_type": "stream",
          "text": [
            "[Parallel(n_jobs=5)]: Using backend LokyBackend with 5 concurrent workers.\n",
            "[Parallel(n_jobs=5)]: Done  40 tasks      | elapsed:   18.3s\n",
            "[Parallel(n_jobs=5)]: Done 190 tasks      | elapsed:  1.4min\n",
            "[Parallel(n_jobs=5)]: Done 375 out of 375 | elapsed:  2.7min finished\n"
          ],
          "name": "stderr"
        },
        {
          "output_type": "stream",
          "text": [
            "it 1/10\n",
            "{'rep__lambda_': 10, 'rep__nn': 9, 'rep__sigma_initial': 15}\n",
            "acc: 100.0\n",
            "confusionmatrix \n",
            " [[100.   0.]\n",
            " [  0. 100.]]\n",
            "it 2/10\n",
            "Fitting 5 folds for each of 75 candidates, totalling 375 fits\n"
          ],
          "name": "stdout"
        },
        {
          "output_type": "stream",
          "text": [
            "[Parallel(n_jobs=5)]: Using backend LokyBackend with 5 concurrent workers.\n",
            "[Parallel(n_jobs=5)]: Done  40 tasks      | elapsed:   30.4s\n",
            "[Parallel(n_jobs=5)]: Done 190 tasks      | elapsed:  1.9min\n",
            "[Parallel(n_jobs=5)]: Done 375 out of 375 | elapsed:  3.7min finished\n",
            "/content/PRI/main_functions.py:199: RuntimeWarning: divide by zero encountered in log\n",
            "  A = -np.log((1 / N * No) * K1)\n",
            "[Parallel(n_jobs=5)]: Using backend LokyBackend with 5 concurrent workers.\n"
          ],
          "name": "stderr"
        },
        {
          "output_type": "stream",
          "text": [
            "it 2/10\n",
            "{'rep__lambda_': 5, 'rep__nn': 5, 'rep__sigma_initial': 10}\n",
            "acc_ars: 100.0\n",
            "confusionmatrix_ars \n",
            " [[100.   0.]\n",
            " [  0. 100.]]\n",
            "Fitting 5 folds for each of 75 candidates, totalling 375 fits\n"
          ],
          "name": "stdout"
        },
        {
          "output_type": "stream",
          "text": [
            "[Parallel(n_jobs=5)]: Done  40 tasks      | elapsed:   17.9s\n",
            "[Parallel(n_jobs=5)]: Done 190 tasks      | elapsed:  1.3min\n",
            "[Parallel(n_jobs=5)]: Done 375 out of 375 | elapsed:  2.6min finished\n"
          ],
          "name": "stderr"
        },
        {
          "output_type": "stream",
          "text": [
            "it 2/10\n",
            "{'rep__lambda_': 5, 'rep__nn': 3, 'rep__sigma_initial': 40}\n",
            "acc: 92.5\n",
            "confusionmatrix \n",
            " [[100.   0.]\n",
            " [ 15.  85.]]\n",
            "it 3/10\n",
            "Fitting 5 folds for each of 75 candidates, totalling 375 fits\n"
          ],
          "name": "stdout"
        },
        {
          "output_type": "stream",
          "text": [
            "[Parallel(n_jobs=5)]: Using backend LokyBackend with 5 concurrent workers.\n",
            "[Parallel(n_jobs=5)]: Done  40 tasks      | elapsed:   20.7s\n",
            "[Parallel(n_jobs=5)]: Done 190 tasks      | elapsed:  1.5min\n",
            "[Parallel(n_jobs=5)]: Done 375 out of 375 | elapsed:  3.0min finished\n"
          ],
          "name": "stderr"
        },
        {
          "output_type": "stream",
          "text": [
            "it 3/10\n",
            "{'rep__lambda_': 5, 'rep__nn': 5, 'rep__sigma_initial': 15}\n",
            "acc_ars: 100.0\n",
            "confusionmatrix_ars \n",
            " [[100.   0.]\n",
            " [  0. 100.]]\n",
            "Fitting 5 folds for each of 75 candidates, totalling 375 fits\n"
          ],
          "name": "stdout"
        },
        {
          "output_type": "stream",
          "text": [
            "[Parallel(n_jobs=5)]: Using backend LokyBackend with 5 concurrent workers.\n",
            "[Parallel(n_jobs=5)]: Done  40 tasks      | elapsed:   19.3s\n",
            "[Parallel(n_jobs=5)]: Done 190 tasks      | elapsed:  1.6min\n",
            "[Parallel(n_jobs=5)]: Done 375 out of 375 | elapsed:  3.0min finished\n"
          ],
          "name": "stderr"
        },
        {
          "output_type": "stream",
          "text": [
            "it 3/10\n",
            "{'rep__lambda_': 5, 'rep__nn': 5, 'rep__sigma_initial': 10}\n",
            "acc: 97.5\n",
            "confusionmatrix \n",
            " [[100.   0.]\n",
            " [  5.  95.]]\n",
            "it 4/10\n",
            "Fitting 5 folds for each of 75 candidates, totalling 375 fits\n"
          ],
          "name": "stdout"
        },
        {
          "output_type": "stream",
          "text": [
            "[Parallel(n_jobs=5)]: Using backend LokyBackend with 5 concurrent workers.\n",
            "[Parallel(n_jobs=5)]: Done  40 tasks      | elapsed:   23.5s\n",
            "[Parallel(n_jobs=5)]: Done 190 tasks      | elapsed:  1.8min\n",
            "[Parallel(n_jobs=5)]: Done 375 out of 375 | elapsed:  3.5min finished\n"
          ],
          "name": "stderr"
        },
        {
          "output_type": "stream",
          "text": [
            "it 4/10\n",
            "{'rep__lambda_': 5, 'rep__nn': 3, 'rep__sigma_initial': 10}\n",
            "acc_ars: 89.99407933688573\n",
            "confusionmatrix_ars \n",
            " [[100.   0.]\n",
            " [  5.  95.]]\n",
            "Fitting 5 folds for each of 75 candidates, totalling 375 fits\n"
          ],
          "name": "stdout"
        },
        {
          "output_type": "stream",
          "text": [
            "[Parallel(n_jobs=5)]: Using backend LokyBackend with 5 concurrent workers.\n",
            "[Parallel(n_jobs=5)]: Done  40 tasks      | elapsed:   19.6s\n",
            "[Parallel(n_jobs=5)]: Done 190 tasks      | elapsed:  1.5min\n",
            "[Parallel(n_jobs=5)]: Done 375 out of 375 | elapsed:  2.9min finished\n"
          ],
          "name": "stderr"
        },
        {
          "output_type": "stream",
          "text": [
            "it 4/10\n",
            "{'rep__lambda_': 5, 'rep__nn': 5, 'rep__sigma_initial': 4}\n",
            "acc: 100.0\n",
            "confusionmatrix \n",
            " [[100.   0.]\n",
            " [  0. 100.]]\n",
            "it 5/10\n",
            "Fitting 5 folds for each of 75 candidates, totalling 375 fits\n"
          ],
          "name": "stdout"
        },
        {
          "output_type": "stream",
          "text": [
            "[Parallel(n_jobs=5)]: Using backend LokyBackend with 5 concurrent workers.\n",
            "[Parallel(n_jobs=5)]: Done  40 tasks      | elapsed:   19.6s\n",
            "[Parallel(n_jobs=5)]: Done 190 tasks      | elapsed:  1.5min\n",
            "[Parallel(n_jobs=5)]: Done 375 out of 375 | elapsed:  3.0min finished\n"
          ],
          "name": "stderr"
        },
        {
          "output_type": "stream",
          "text": [
            "it 5/10\n",
            "{'rep__lambda_': 5, 'rep__nn': 3, 'rep__sigma_initial': 4}\n",
            "acc_ars: 100.0\n",
            "confusionmatrix_ars \n",
            " [[100.   0.]\n",
            " [  0. 100.]]\n",
            "Fitting 5 folds for each of 75 candidates, totalling 375 fits\n"
          ],
          "name": "stdout"
        },
        {
          "output_type": "stream",
          "text": [
            "[Parallel(n_jobs=5)]: Using backend LokyBackend with 5 concurrent workers.\n",
            "[Parallel(n_jobs=5)]: Done  40 tasks      | elapsed:   21.8s\n",
            "[Parallel(n_jobs=5)]: Done 190 tasks      | elapsed:  1.6min\n",
            "[Parallel(n_jobs=5)]: Done 375 out of 375 | elapsed:  3.0min finished\n"
          ],
          "name": "stderr"
        },
        {
          "output_type": "stream",
          "text": [
            "it 5/10\n",
            "{'rep__lambda_': 10, 'rep__nn': 9, 'rep__sigma_initial': 4}\n",
            "acc: 100.0\n",
            "confusionmatrix \n",
            " [[100.   0.]\n",
            " [  0. 100.]]\n",
            "it 6/10\n",
            "Fitting 5 folds for each of 75 candidates, totalling 375 fits\n"
          ],
          "name": "stdout"
        },
        {
          "output_type": "stream",
          "text": [
            "[Parallel(n_jobs=5)]: Using backend LokyBackend with 5 concurrent workers.\n",
            "[Parallel(n_jobs=5)]: Done  40 tasks      | elapsed:   22.6s\n",
            "[Parallel(n_jobs=5)]: Done 190 tasks      | elapsed:  1.5min\n",
            "[Parallel(n_jobs=5)]: Done 375 out of 375 | elapsed:  3.0min finished\n"
          ],
          "name": "stderr"
        },
        {
          "output_type": "stream",
          "text": [
            "it 6/10\n",
            "{'rep__lambda_': 5, 'rep__nn': 9, 'rep__sigma_initial': 15}\n",
            "acc_ars: 100.0\n",
            "confusionmatrix_ars \n",
            " [[100.   0.]\n",
            " [  0. 100.]]\n",
            "Fitting 5 folds for each of 75 candidates, totalling 375 fits\n"
          ],
          "name": "stdout"
        },
        {
          "output_type": "stream",
          "text": [
            "[Parallel(n_jobs=5)]: Using backend LokyBackend with 5 concurrent workers.\n",
            "[Parallel(n_jobs=5)]: Done  40 tasks      | elapsed:   18.9s\n",
            "[Parallel(n_jobs=5)]: Done 190 tasks      | elapsed:  1.5min\n",
            "[Parallel(n_jobs=5)]: Done 375 out of 375 | elapsed:  2.9min finished\n"
          ],
          "name": "stderr"
        },
        {
          "output_type": "stream",
          "text": [
            "it 6/10\n",
            "{'rep__lambda_': 5, 'rep__nn': 5, 'rep__sigma_initial': 10}\n",
            "acc: 100.0\n",
            "confusionmatrix \n",
            " [[100.   0.]\n",
            " [  0. 100.]]\n",
            "it 7/10\n",
            "Fitting 5 folds for each of 75 candidates, totalling 375 fits\n"
          ],
          "name": "stdout"
        },
        {
          "output_type": "stream",
          "text": [
            "[Parallel(n_jobs=5)]: Using backend LokyBackend with 5 concurrent workers.\n",
            "[Parallel(n_jobs=5)]: Done  40 tasks      | elapsed:   20.5s\n",
            "[Parallel(n_jobs=5)]: Done 190 tasks      | elapsed:  1.7min\n",
            "[Parallel(n_jobs=5)]: Done 375 out of 375 | elapsed:  3.1min finished\n"
          ],
          "name": "stderr"
        },
        {
          "output_type": "stream",
          "text": [
            "it 7/10\n",
            "{'rep__lambda_': 5, 'rep__nn': 9, 'rep__sigma_initial': 4}\n",
            "acc_ars: 100.0\n",
            "confusionmatrix_ars \n",
            " [[100.   0.]\n",
            " [  0. 100.]]\n",
            "Fitting 5 folds for each of 75 candidates, totalling 375 fits\n"
          ],
          "name": "stdout"
        },
        {
          "output_type": "stream",
          "text": [
            "[Parallel(n_jobs=5)]: Using backend LokyBackend with 5 concurrent workers.\n",
            "[Parallel(n_jobs=5)]: Done  40 tasks      | elapsed:   25.8s\n",
            "[Parallel(n_jobs=5)]: Done 190 tasks      | elapsed:  1.8min\n",
            "[Parallel(n_jobs=5)]: Done 375 out of 375 | elapsed:  3.5min finished\n"
          ],
          "name": "stderr"
        },
        {
          "output_type": "stream",
          "text": [
            "it 7/10\n",
            "{'rep__lambda_': 5, 'rep__nn': 3, 'rep__sigma_initial': 10}\n",
            "acc: 97.5\n",
            "confusionmatrix \n",
            " [[100.   0.]\n",
            " [  5.  95.]]\n",
            "it 8/10\n",
            "Fitting 5 folds for each of 75 candidates, totalling 375 fits\n"
          ],
          "name": "stdout"
        },
        {
          "output_type": "stream",
          "text": [
            "[Parallel(n_jobs=5)]: Using backend LokyBackend with 5 concurrent workers.\n",
            "[Parallel(n_jobs=5)]: Done  40 tasks      | elapsed:   23.0s\n",
            "[Parallel(n_jobs=5)]: Done 190 tasks      | elapsed:  1.8min\n",
            "[Parallel(n_jobs=5)]: Done 375 out of 375 | elapsed:  3.5min finished\n"
          ],
          "name": "stderr"
        },
        {
          "output_type": "stream",
          "text": [
            "it 8/10\n",
            "{'rep__lambda_': 5, 'rep__nn': 9, 'rep__sigma_initial': 40}\n",
            "acc_ars: 63.09148264984227\n",
            "confusionmatrix_ars \n",
            " [[100.   0.]\n",
            " [ 20.  80.]]\n",
            "Fitting 5 folds for each of 75 candidates, totalling 375 fits\n"
          ],
          "name": "stdout"
        },
        {
          "output_type": "stream",
          "text": [
            "[Parallel(n_jobs=5)]: Using backend LokyBackend with 5 concurrent workers.\n",
            "[Parallel(n_jobs=5)]: Done  40 tasks      | elapsed:   26.1s\n",
            "[Parallel(n_jobs=5)]: Done 190 tasks      | elapsed:  2.0min\n",
            "[Parallel(n_jobs=5)]: Done 375 out of 375 | elapsed:  3.8min finished\n",
            "/content/PRI/main_functions.py:199: RuntimeWarning: divide by zero encountered in log\n",
            "  A = -np.log((1 / N * No) * K1)\n",
            "[Parallel(n_jobs=5)]: Using backend LokyBackend with 5 concurrent workers.\n"
          ],
          "name": "stderr"
        },
        {
          "output_type": "stream",
          "text": [
            "it 8/10\n",
            "{'rep__lambda_': 5, 'rep__nn': 5, 'rep__sigma_initial': 25}\n",
            "acc: 100.0\n",
            "confusionmatrix \n",
            " [[100.   0.]\n",
            " [  0. 100.]]\n",
            "it 9/10\n",
            "Fitting 5 folds for each of 75 candidates, totalling 375 fits\n"
          ],
          "name": "stdout"
        },
        {
          "output_type": "stream",
          "text": [
            "[Parallel(n_jobs=5)]: Done  40 tasks      | elapsed:   18.8s\n",
            "[Parallel(n_jobs=5)]: Done 190 tasks      | elapsed:  1.5min\n",
            "[Parallel(n_jobs=5)]: Done 375 out of 375 | elapsed:  3.1min finished\n"
          ],
          "name": "stderr"
        },
        {
          "output_type": "stream",
          "text": [
            "it 9/10\n",
            "{'rep__lambda_': 10, 'rep__nn': 5, 'rep__sigma_initial': 40}\n",
            "acc_ars: 100.0\n",
            "confusionmatrix_ars \n",
            " [[100.   0.]\n",
            " [  0. 100.]]\n",
            "Fitting 5 folds for each of 75 candidates, totalling 375 fits\n"
          ],
          "name": "stdout"
        },
        {
          "output_type": "stream",
          "text": [
            "[Parallel(n_jobs=5)]: Using backend LokyBackend with 5 concurrent workers.\n",
            "[Parallel(n_jobs=5)]: Done  40 tasks      | elapsed:   21.9s\n",
            "[Parallel(n_jobs=5)]: Done 190 tasks      | elapsed:  1.8min\n",
            "[Parallel(n_jobs=5)]: Done 375 out of 375 | elapsed:  3.5min finished\n",
            "/content/PRI/main_functions.py:199: RuntimeWarning: divide by zero encountered in log\n",
            "  A = -np.log((1 / N * No) * K1)\n"
          ],
          "name": "stderr"
        },
        {
          "output_type": "stream",
          "text": [
            "it 9/10\n",
            "{'rep__lambda_': 10, 'rep__nn': 9, 'rep__sigma_initial': 25}\n",
            "acc: 100.0\n",
            "confusionmatrix \n",
            " [[100.   0.]\n",
            " [  0. 100.]]\n",
            "it 10/10\n",
            "Fitting 5 folds for each of 75 candidates, totalling 375 fits\n"
          ],
          "name": "stdout"
        },
        {
          "output_type": "stream",
          "text": [
            "[Parallel(n_jobs=5)]: Using backend LokyBackend with 5 concurrent workers.\n",
            "[Parallel(n_jobs=5)]: Done  40 tasks      | elapsed:   21.7s\n",
            "[Parallel(n_jobs=5)]: Done 190 tasks      | elapsed:  1.7min\n",
            "[Parallel(n_jobs=5)]: Done 375 out of 375 | elapsed:  3.3min finished\n"
          ],
          "name": "stderr"
        },
        {
          "output_type": "stream",
          "text": [
            "it 10/10\n",
            "{'rep__lambda_': 5, 'rep__nn': 5, 'rep__sigma_initial': 25}\n",
            "acc_ars: 100.0\n",
            "confusionmatrix_ars \n",
            " [[100.   0.]\n",
            " [  0. 100.]]\n",
            "Fitting 5 folds for each of 75 candidates, totalling 375 fits\n"
          ],
          "name": "stdout"
        },
        {
          "output_type": "stream",
          "text": [
            "[Parallel(n_jobs=5)]: Using backend LokyBackend with 5 concurrent workers.\n",
            "[Parallel(n_jobs=5)]: Done  40 tasks      | elapsed:   19.9s\n",
            "[Parallel(n_jobs=5)]: Done 190 tasks      | elapsed:  1.4min\n",
            "[Parallel(n_jobs=5)]: Done 375 out of 375 | elapsed:  2.8min finished\n"
          ],
          "name": "stderr"
        },
        {
          "output_type": "stream",
          "text": [
            "it 10/10\n",
            "{'rep__lambda_': 5, 'rep__nn': 9, 'rep__sigma_initial': 4}\n",
            "acc: 100.0\n",
            "confusionmatrix \n",
            " [[100.   0.]\n",
            " [  0. 100.]]\n",
            "it 1/10\n",
            "Fitting 5 folds for each of 75 candidates, totalling 375 fits\n"
          ],
          "name": "stdout"
        },
        {
          "output_type": "stream",
          "text": [
            "[Parallel(n_jobs=5)]: Using backend LokyBackend with 5 concurrent workers.\n",
            "[Parallel(n_jobs=5)]: Done  40 tasks      | elapsed:   20.0s\n",
            "[Parallel(n_jobs=5)]: Done 190 tasks      | elapsed:  1.1min\n",
            "[Parallel(n_jobs=5)]: Done 375 out of 375 | elapsed:  2.1min finished\n"
          ],
          "name": "stderr"
        },
        {
          "output_type": "stream",
          "text": [
            "it 1/10\n",
            "{'rep__lambda_': 10, 'rep__nn': 9, 'rep__sigma_initial': 10}\n",
            "acc_ars: 71.52161042036708\n",
            "confusionmatrix_ars \n",
            " [[95.  5.]\n",
            " [10. 90.]]\n",
            "Fitting 5 folds for each of 75 candidates, totalling 375 fits\n"
          ],
          "name": "stdout"
        },
        {
          "output_type": "stream",
          "text": [
            "[Parallel(n_jobs=5)]: Using backend LokyBackend with 5 concurrent workers.\n",
            "[Parallel(n_jobs=5)]: Done  40 tasks      | elapsed:   13.1s\n",
            "[Parallel(n_jobs=5)]: Done 190 tasks      | elapsed:  1.0min\n",
            "[Parallel(n_jobs=5)]: Done 375 out of 375 | elapsed:  2.0min finished\n"
          ],
          "name": "stderr"
        },
        {
          "output_type": "stream",
          "text": [
            "it 1/10\n",
            "{'rep__lambda_': 15, 'rep__nn': 9, 'rep__sigma_initial': 15}\n",
            "acc: 92.5\n",
            "confusionmatrix \n",
            " [[100.   0.]\n",
            " [ 15.  85.]]\n",
            "it 2/10\n",
            "Fitting 5 folds for each of 75 candidates, totalling 375 fits\n"
          ],
          "name": "stdout"
        },
        {
          "output_type": "stream",
          "text": [
            "[Parallel(n_jobs=5)]: Using backend LokyBackend with 5 concurrent workers.\n",
            "[Parallel(n_jobs=5)]: Done  40 tasks      | elapsed:   13.4s\n",
            "[Parallel(n_jobs=5)]: Done 190 tasks      | elapsed:  1.0min\n",
            "[Parallel(n_jobs=5)]: Done 375 out of 375 | elapsed:  2.0min finished\n"
          ],
          "name": "stderr"
        },
        {
          "output_type": "stream",
          "text": [
            "it 2/10\n",
            "{'rep__lambda_': 30, 'rep__nn': 9, 'rep__sigma_initial': 40}\n",
            "acc_ars: 100.0\n",
            "confusionmatrix_ars \n",
            " [[100.   0.]\n",
            " [  0. 100.]]\n",
            "Fitting 5 folds for each of 75 candidates, totalling 375 fits\n"
          ],
          "name": "stdout"
        },
        {
          "output_type": "stream",
          "text": [
            "[Parallel(n_jobs=5)]: Using backend LokyBackend with 5 concurrent workers.\n",
            "[Parallel(n_jobs=5)]: Done  40 tasks      | elapsed:   13.3s\n",
            "[Parallel(n_jobs=5)]: Done 190 tasks      | elapsed:  1.0min\n",
            "[Parallel(n_jobs=5)]: Done 375 out of 375 | elapsed:  2.0min finished\n"
          ],
          "name": "stderr"
        },
        {
          "output_type": "stream",
          "text": [
            "it 2/10\n",
            "{'rep__lambda_': 5, 'rep__nn': 9, 'rep__sigma_initial': 4}\n",
            "acc: 90.0\n",
            "confusionmatrix \n",
            " [[ 80.  20.]\n",
            " [  0. 100.]]\n",
            "it 3/10\n",
            "Fitting 5 folds for each of 75 candidates, totalling 375 fits\n"
          ],
          "name": "stdout"
        },
        {
          "output_type": "stream",
          "text": [
            "[Parallel(n_jobs=5)]: Using backend LokyBackend with 5 concurrent workers.\n",
            "[Parallel(n_jobs=5)]: Done  40 tasks      | elapsed:   13.1s\n",
            "[Parallel(n_jobs=5)]: Done 190 tasks      | elapsed:  1.0min\n",
            "[Parallel(n_jobs=5)]: Done 375 out of 375 | elapsed:  2.0min finished\n"
          ],
          "name": "stderr"
        },
        {
          "output_type": "stream",
          "text": [
            "it 3/10\n",
            "{'rep__lambda_': 5, 'rep__nn': 9, 'rep__sigma_initial': 4}\n",
            "acc_ars: 100.0\n",
            "confusionmatrix_ars \n",
            " [[100.   0.]\n",
            " [  0. 100.]]\n",
            "Fitting 5 folds for each of 75 candidates, totalling 375 fits\n"
          ],
          "name": "stdout"
        },
        {
          "output_type": "stream",
          "text": [
            "[Parallel(n_jobs=5)]: Using backend LokyBackend with 5 concurrent workers.\n",
            "[Parallel(n_jobs=5)]: Done  40 tasks      | elapsed:   12.6s\n",
            "[Parallel(n_jobs=5)]: Done 190 tasks      | elapsed:  1.0min\n",
            "[Parallel(n_jobs=5)]: Done 375 out of 375 | elapsed:  1.9min finished\n"
          ],
          "name": "stderr"
        },
        {
          "output_type": "stream",
          "text": [
            "it 3/10\n",
            "{'rep__lambda_': 10, 'rep__nn': 9, 'rep__sigma_initial': 25}\n",
            "acc: 92.5\n",
            "confusionmatrix \n",
            " [[ 85.  15.]\n",
            " [  0. 100.]]\n",
            "it 4/10\n",
            "Fitting 5 folds for each of 75 candidates, totalling 375 fits\n"
          ],
          "name": "stdout"
        },
        {
          "output_type": "stream",
          "text": [
            "[Parallel(n_jobs=5)]: Using backend LokyBackend with 5 concurrent workers.\n",
            "[Parallel(n_jobs=5)]: Done  40 tasks      | elapsed:   13.3s\n",
            "[Parallel(n_jobs=5)]: Done 190 tasks      | elapsed:  1.0min\n",
            "[Parallel(n_jobs=5)]: Done 375 out of 375 | elapsed:  2.0min finished\n"
          ],
          "name": "stderr"
        },
        {
          "output_type": "stream",
          "text": [
            "it 4/10\n",
            "{'rep__lambda_': 10, 'rep__nn': 9, 'rep__sigma_initial': 10}\n",
            "acc_ars: 100.0\n",
            "confusionmatrix_ars \n",
            " [[100.   0.]\n",
            " [  0. 100.]]\n",
            "Fitting 5 folds for each of 75 candidates, totalling 375 fits\n"
          ],
          "name": "stdout"
        },
        {
          "output_type": "stream",
          "text": [
            "[Parallel(n_jobs=5)]: Using backend LokyBackend with 5 concurrent workers.\n",
            "[Parallel(n_jobs=5)]: Done  40 tasks      | elapsed:   13.6s\n",
            "[Parallel(n_jobs=5)]: Done 190 tasks      | elapsed:  1.0min\n",
            "[Parallel(n_jobs=5)]: Done 375 out of 375 | elapsed:  1.9min finished\n"
          ],
          "name": "stderr"
        },
        {
          "output_type": "stream",
          "text": [
            "it 4/10\n",
            "{'rep__lambda_': 15, 'rep__nn': 9, 'rep__sigma_initial': 40}\n",
            "acc: 90.0\n",
            "confusionmatrix \n",
            " [[90. 10.]\n",
            " [10. 90.]]\n",
            "it 5/10\n",
            "Fitting 5 folds for each of 75 candidates, totalling 375 fits\n"
          ],
          "name": "stdout"
        },
        {
          "output_type": "stream",
          "text": [
            "[Parallel(n_jobs=5)]: Using backend LokyBackend with 5 concurrent workers.\n",
            "[Parallel(n_jobs=5)]: Done  40 tasks      | elapsed:   12.8s\n",
            "[Parallel(n_jobs=5)]: Done 190 tasks      | elapsed:  1.0min\n",
            "[Parallel(n_jobs=5)]: Done 375 out of 375 | elapsed:  2.0min finished\n"
          ],
          "name": "stderr"
        },
        {
          "output_type": "stream",
          "text": [
            "it 5/10\n",
            "{'rep__lambda_': 5, 'rep__nn': 9, 'rep__sigma_initial': 40}\n",
            "acc_ars: 63.09148264984227\n",
            "confusionmatrix_ars \n",
            " [[ 80.  20.]\n",
            " [  0. 100.]]\n",
            "Fitting 5 folds for each of 75 candidates, totalling 375 fits\n"
          ],
          "name": "stdout"
        },
        {
          "output_type": "stream",
          "text": [
            "[Parallel(n_jobs=5)]: Using backend LokyBackend with 5 concurrent workers.\n",
            "[Parallel(n_jobs=5)]: Done  40 tasks      | elapsed:   12.9s\n",
            "[Parallel(n_jobs=5)]: Done 190 tasks      | elapsed:   59.1s\n",
            "[Parallel(n_jobs=5)]: Done 375 out of 375 | elapsed:  1.9min finished\n"
          ],
          "name": "stderr"
        },
        {
          "output_type": "stream",
          "text": [
            "it 5/10\n",
            "{'rep__lambda_': 10, 'rep__nn': 9, 'rep__sigma_initial': 40}\n",
            "acc: 100.0\n",
            "confusionmatrix \n",
            " [[100.   0.]\n",
            " [  0. 100.]]\n",
            "it 6/10\n",
            "Fitting 5 folds for each of 75 candidates, totalling 375 fits\n"
          ],
          "name": "stdout"
        },
        {
          "output_type": "stream",
          "text": [
            "[Parallel(n_jobs=5)]: Using backend LokyBackend with 5 concurrent workers.\n",
            "[Parallel(n_jobs=5)]: Done  40 tasks      | elapsed:   13.0s\n",
            "[Parallel(n_jobs=5)]: Done 190 tasks      | elapsed:   59.3s\n",
            "[Parallel(n_jobs=5)]: Done 375 out of 375 | elapsed:  1.9min finished\n"
          ],
          "name": "stderr"
        },
        {
          "output_type": "stream",
          "text": [
            "it 6/10\n",
            "{'rep__lambda_': 10, 'rep__nn': 3, 'rep__sigma_initial': 10}\n",
            "acc_ars: 71.52161042036708\n",
            "confusionmatrix_ars \n",
            " [[90. 10.]\n",
            " [ 5. 95.]]\n",
            "Fitting 5 folds for each of 75 candidates, totalling 375 fits\n"
          ],
          "name": "stdout"
        },
        {
          "output_type": "stream",
          "text": [
            "[Parallel(n_jobs=5)]: Using backend LokyBackend with 5 concurrent workers.\n",
            "[Parallel(n_jobs=5)]: Done  40 tasks      | elapsed:   12.8s\n",
            "[Parallel(n_jobs=5)]: Done 190 tasks      | elapsed:  1.0min\n",
            "[Parallel(n_jobs=5)]: Done 375 out of 375 | elapsed:  2.0min finished\n"
          ],
          "name": "stderr"
        },
        {
          "output_type": "stream",
          "text": [
            "it 6/10\n",
            "{'rep__lambda_': 5, 'rep__nn': 9, 'rep__sigma_initial': 15}\n",
            "acc: 97.5\n",
            "confusionmatrix \n",
            " [[ 95.   5.]\n",
            " [  0. 100.]]\n",
            "it 7/10\n",
            "Fitting 5 folds for each of 75 candidates, totalling 375 fits\n"
          ],
          "name": "stdout"
        },
        {
          "output_type": "stream",
          "text": [
            "[Parallel(n_jobs=5)]: Using backend LokyBackend with 5 concurrent workers.\n",
            "[Parallel(n_jobs=5)]: Done  40 tasks      | elapsed:   13.4s\n",
            "[Parallel(n_jobs=5)]: Done 190 tasks      | elapsed:  1.0min\n",
            "[Parallel(n_jobs=5)]: Done 375 out of 375 | elapsed:  2.0min finished\n"
          ],
          "name": "stderr"
        },
        {
          "output_type": "stream",
          "text": [
            "it 7/10\n",
            "{'rep__lambda_': 10, 'rep__nn': 9, 'rep__sigma_initial': 25}\n",
            "acc_ars: 55.172413793103445\n",
            "confusionmatrix_ars \n",
            " [[ 75.  25.]\n",
            " [  0. 100.]]\n",
            "Fitting 5 folds for each of 75 candidates, totalling 375 fits\n"
          ],
          "name": "stdout"
        },
        {
          "output_type": "stream",
          "text": [
            "[Parallel(n_jobs=5)]: Using backend LokyBackend with 5 concurrent workers.\n",
            "[Parallel(n_jobs=5)]: Done  40 tasks      | elapsed:   13.7s\n",
            "[Parallel(n_jobs=5)]: Done 190 tasks      | elapsed:  1.0min\n",
            "[Parallel(n_jobs=5)]: Done 375 out of 375 | elapsed:  2.0min finished\n"
          ],
          "name": "stderr"
        },
        {
          "output_type": "stream",
          "text": [
            "it 7/10\n",
            "{'rep__lambda_': 10, 'rep__nn': 9, 'rep__sigma_initial': 15}\n",
            "acc: 100.0\n",
            "confusionmatrix \n",
            " [[100.   0.]\n",
            " [  0. 100.]]\n",
            "it 8/10\n",
            "Fitting 5 folds for each of 75 candidates, totalling 375 fits\n"
          ],
          "name": "stdout"
        },
        {
          "output_type": "stream",
          "text": [
            "[Parallel(n_jobs=5)]: Using backend LokyBackend with 5 concurrent workers.\n",
            "[Parallel(n_jobs=5)]: Done  40 tasks      | elapsed:   14.1s\n",
            "[Parallel(n_jobs=5)]: Done 190 tasks      | elapsed:  1.0min\n",
            "[Parallel(n_jobs=5)]: Done 375 out of 375 | elapsed:  2.1min finished\n"
          ],
          "name": "stderr"
        },
        {
          "output_type": "stream",
          "text": [
            "it 8/10\n",
            "{'rep__lambda_': 30, 'rep__nn': 9, 'rep__sigma_initial': 4}\n",
            "acc_ars: 55.172413793103445\n",
            "confusionmatrix_ars \n",
            " [[100.   0.]\n",
            " [ 25.  75.]]\n",
            "Fitting 5 folds for each of 75 candidates, totalling 375 fits\n"
          ],
          "name": "stdout"
        },
        {
          "output_type": "stream",
          "text": [
            "[Parallel(n_jobs=5)]: Using backend LokyBackend with 5 concurrent workers.\n",
            "[Parallel(n_jobs=5)]: Done  40 tasks      | elapsed:   13.1s\n",
            "[Parallel(n_jobs=5)]: Done 190 tasks      | elapsed:  1.0min\n",
            "[Parallel(n_jobs=5)]: Done 375 out of 375 | elapsed:  2.0min finished\n"
          ],
          "name": "stderr"
        },
        {
          "output_type": "stream",
          "text": [
            "it 8/10\n",
            "{'rep__lambda_': 10, 'rep__nn': 9, 'rep__sigma_initial': 25}\n",
            "acc: 97.5\n",
            "confusionmatrix \n",
            " [[ 95.   5.]\n",
            " [  0. 100.]]\n",
            "it 9/10\n",
            "Fitting 5 folds for each of 75 candidates, totalling 375 fits\n"
          ],
          "name": "stdout"
        },
        {
          "output_type": "stream",
          "text": [
            "[Parallel(n_jobs=5)]: Using backend LokyBackend with 5 concurrent workers.\n",
            "[Parallel(n_jobs=5)]: Done  40 tasks      | elapsed:   13.2s\n",
            "[Parallel(n_jobs=5)]: Done 190 tasks      | elapsed:   59.6s\n",
            "[Parallel(n_jobs=5)]: Done 375 out of 375 | elapsed:  1.9min finished\n"
          ],
          "name": "stderr"
        },
        {
          "output_type": "stream",
          "text": [
            "it 9/10\n",
            "{'rep__lambda_': 10, 'rep__nn': 9, 'rep__sigma_initial': 40}\n",
            "acc_ars: 71.52161042036708\n",
            "confusionmatrix_ars \n",
            " [[90. 10.]\n",
            " [ 5. 95.]]\n",
            "Fitting 5 folds for each of 75 candidates, totalling 375 fits\n"
          ],
          "name": "stdout"
        },
        {
          "output_type": "stream",
          "text": [
            "[Parallel(n_jobs=5)]: Using backend LokyBackend with 5 concurrent workers.\n",
            "[Parallel(n_jobs=5)]: Done  40 tasks      | elapsed:   13.8s\n",
            "[Parallel(n_jobs=5)]: Done 190 tasks      | elapsed:  1.0min\n",
            "[Parallel(n_jobs=5)]: Done 375 out of 375 | elapsed:  2.0min finished\n"
          ],
          "name": "stderr"
        },
        {
          "output_type": "stream",
          "text": [
            "it 9/10\n",
            "{'rep__lambda_': 5, 'rep__nn': 9, 'rep__sigma_initial': 40}\n",
            "acc: 95.0\n",
            "confusionmatrix \n",
            " [[ 90.  10.]\n",
            " [  0. 100.]]\n",
            "it 10/10\n",
            "Fitting 5 folds for each of 75 candidates, totalling 375 fits\n"
          ],
          "name": "stdout"
        },
        {
          "output_type": "stream",
          "text": [
            "[Parallel(n_jobs=5)]: Using backend LokyBackend with 5 concurrent workers.\n",
            "[Parallel(n_jobs=5)]: Done  40 tasks      | elapsed:   13.5s\n",
            "[Parallel(n_jobs=5)]: Done 190 tasks      | elapsed:  1.0min\n",
            "[Parallel(n_jobs=5)]: Done 375 out of 375 | elapsed:  2.0min finished\n"
          ],
          "name": "stderr"
        },
        {
          "output_type": "stream",
          "text": [
            "it 10/10\n",
            "{'rep__lambda_': 5, 'rep__nn': 9, 'rep__sigma_initial': 4}\n",
            "acc_ars: 100.0\n",
            "confusionmatrix_ars \n",
            " [[100.   0.]\n",
            " [  0. 100.]]\n",
            "Fitting 5 folds for each of 75 candidates, totalling 375 fits\n"
          ],
          "name": "stdout"
        },
        {
          "output_type": "stream",
          "text": [
            "[Parallel(n_jobs=5)]: Using backend LokyBackend with 5 concurrent workers.\n",
            "[Parallel(n_jobs=5)]: Done  40 tasks      | elapsed:   13.0s\n",
            "[Parallel(n_jobs=5)]: Done 190 tasks      | elapsed:  1.0min\n",
            "[Parallel(n_jobs=5)]: Done 375 out of 375 | elapsed:  2.1min finished\n"
          ],
          "name": "stderr"
        },
        {
          "output_type": "stream",
          "text": [
            "it 10/10\n",
            "{'rep__lambda_': 5, 'rep__nn': 9, 'rep__sigma_initial': 40}\n",
            "acc: 95.0\n",
            "confusionmatrix \n",
            " [[ 90.  10.]\n",
            " [  0. 100.]]\n",
            "it 1/10\n",
            "Fitting 5 folds for each of 75 candidates, totalling 375 fits\n"
          ],
          "name": "stdout"
        },
        {
          "output_type": "stream",
          "text": [
            "[Parallel(n_jobs=5)]: Using backend LokyBackend with 5 concurrent workers.\n",
            "[Parallel(n_jobs=5)]: Done  40 tasks      | elapsed:   15.1s\n",
            "[Parallel(n_jobs=5)]: Done 190 tasks      | elapsed:  1.1min\n",
            "[Parallel(n_jobs=5)]: Done 375 out of 375 | elapsed:  2.1min finished\n"
          ],
          "name": "stderr"
        },
        {
          "output_type": "stream",
          "text": [
            "it 1/10\n",
            "{'rep__lambda_': 5, 'rep__nn': 9, 'rep__sigma_initial': 4}\n",
            "acc_ars: 100.0\n",
            "confusionmatrix_ars \n",
            " [[100.   0.]\n",
            " [  0. 100.]]\n",
            "Fitting 5 folds for each of 75 candidates, totalling 375 fits\n"
          ],
          "name": "stdout"
        },
        {
          "output_type": "stream",
          "text": [
            "[Parallel(n_jobs=5)]: Using backend LokyBackend with 5 concurrent workers.\n",
            "[Parallel(n_jobs=5)]: Done  40 tasks      | elapsed:   13.7s\n",
            "[Parallel(n_jobs=5)]: Done 190 tasks      | elapsed:  1.1min\n",
            "[Parallel(n_jobs=5)]: Done 375 out of 375 | elapsed:  2.1min finished\n"
          ],
          "name": "stderr"
        },
        {
          "output_type": "stream",
          "text": [
            "it 1/10\n",
            "{'rep__lambda_': 5, 'rep__nn': 9, 'rep__sigma_initial': 15}\n",
            "acc: 95.0\n",
            "confusionmatrix \n",
            " [[ 90.  10.]\n",
            " [  0. 100.]]\n",
            "it 2/10\n",
            "Fitting 5 folds for each of 75 candidates, totalling 375 fits\n"
          ],
          "name": "stdout"
        },
        {
          "output_type": "stream",
          "text": [
            "[Parallel(n_jobs=5)]: Using backend LokyBackend with 5 concurrent workers.\n",
            "[Parallel(n_jobs=5)]: Done  40 tasks      | elapsed:   14.9s\n",
            "[Parallel(n_jobs=5)]: Done 190 tasks      | elapsed:  1.1min\n",
            "[Parallel(n_jobs=5)]: Done 375 out of 375 | elapsed:  2.1min finished\n"
          ],
          "name": "stderr"
        },
        {
          "output_type": "stream",
          "text": [
            "it 2/10\n",
            "{'rep__lambda_': 10, 'rep__nn': 9, 'rep__sigma_initial': 25}\n",
            "acc_ars: 89.99407933688573\n",
            "confusionmatrix_ars \n",
            " [[ 95.   5.]\n",
            " [  0. 100.]]\n",
            "Fitting 5 folds for each of 75 candidates, totalling 375 fits\n"
          ],
          "name": "stdout"
        },
        {
          "output_type": "stream",
          "text": [
            "[Parallel(n_jobs=5)]: Using backend LokyBackend with 5 concurrent workers.\n",
            "[Parallel(n_jobs=5)]: Done  40 tasks      | elapsed:   14.4s\n",
            "[Parallel(n_jobs=5)]: Done 190 tasks      | elapsed:  1.1min\n",
            "[Parallel(n_jobs=5)]: Done 375 out of 375 | elapsed:  2.1min finished\n"
          ],
          "name": "stderr"
        },
        {
          "output_type": "stream",
          "text": [
            "it 2/10\n",
            "{'rep__lambda_': 10, 'rep__nn': 9, 'rep__sigma_initial': 4}\n",
            "acc: 100.0\n",
            "confusionmatrix \n",
            " [[100.   0.]\n",
            " [  0. 100.]]\n",
            "it 3/10\n",
            "Fitting 5 folds for each of 75 candidates, totalling 375 fits\n"
          ],
          "name": "stdout"
        },
        {
          "output_type": "stream",
          "text": [
            "[Parallel(n_jobs=5)]: Using backend LokyBackend with 5 concurrent workers.\n",
            "[Parallel(n_jobs=5)]: Done  40 tasks      | elapsed:   13.8s\n",
            "[Parallel(n_jobs=5)]: Done 190 tasks      | elapsed:  1.1min\n",
            "[Parallel(n_jobs=5)]: Done 375 out of 375 | elapsed:  2.1min finished\n"
          ],
          "name": "stderr"
        },
        {
          "output_type": "stream",
          "text": [
            "it 3/10\n",
            "{'rep__lambda_': 30, 'rep__nn': 9, 'rep__sigma_initial': 4}\n",
            "acc_ars: 80.50513022888714\n",
            "confusionmatrix_ars \n",
            " [[ 90.  10.]\n",
            " [  0. 100.]]\n",
            "Fitting 5 folds for each of 75 candidates, totalling 375 fits\n"
          ],
          "name": "stdout"
        },
        {
          "output_type": "stream",
          "text": [
            "[Parallel(n_jobs=5)]: Using backend LokyBackend with 5 concurrent workers.\n",
            "[Parallel(n_jobs=5)]: Done  40 tasks      | elapsed:   14.5s\n",
            "[Parallel(n_jobs=5)]: Done 190 tasks      | elapsed:  1.1min\n",
            "[Parallel(n_jobs=5)]: Done 375 out of 375 | elapsed:  2.1min finished\n"
          ],
          "name": "stderr"
        },
        {
          "output_type": "stream",
          "text": [
            "it 3/10\n",
            "{'rep__lambda_': 50, 'rep__nn': 9, 'rep__sigma_initial': 15}\n",
            "acc: 97.5\n",
            "confusionmatrix \n",
            " [[ 95.   5.]\n",
            " [  0. 100.]]\n",
            "it 4/10\n",
            "Fitting 5 folds for each of 75 candidates, totalling 375 fits\n"
          ],
          "name": "stdout"
        },
        {
          "output_type": "stream",
          "text": [
            "[Parallel(n_jobs=5)]: Using backend LokyBackend with 5 concurrent workers.\n",
            "[Parallel(n_jobs=5)]: Done  40 tasks      | elapsed:   14.0s\n",
            "[Parallel(n_jobs=5)]: Done 190 tasks      | elapsed:  1.0min\n",
            "[Parallel(n_jobs=5)]: Done 375 out of 375 | elapsed:  2.0min finished\n"
          ],
          "name": "stderr"
        },
        {
          "output_type": "stream",
          "text": [
            "it 4/10\n",
            "{'rep__lambda_': 5, 'rep__nn': 9, 'rep__sigma_initial': 10}\n",
            "acc_ars: 80.50513022888714\n",
            "confusionmatrix_ars \n",
            " [[100.   0.]\n",
            " [ 10.  90.]]\n",
            "Fitting 5 folds for each of 75 candidates, totalling 375 fits\n"
          ],
          "name": "stdout"
        },
        {
          "output_type": "stream",
          "text": [
            "[Parallel(n_jobs=5)]: Using backend LokyBackend with 5 concurrent workers.\n",
            "[Parallel(n_jobs=5)]: Done  40 tasks      | elapsed:   14.2s\n",
            "[Parallel(n_jobs=5)]: Done 190 tasks      | elapsed:  1.1min\n",
            "[Parallel(n_jobs=5)]: Done 375 out of 375 | elapsed:  2.1min finished\n"
          ],
          "name": "stderr"
        },
        {
          "output_type": "stream",
          "text": [
            "it 4/10\n",
            "{'rep__lambda_': 50, 'rep__nn': 9, 'rep__sigma_initial': 4}\n",
            "acc: 87.5\n",
            "confusionmatrix \n",
            " [[ 75.  25.]\n",
            " [  0. 100.]]\n",
            "it 5/10\n",
            "Fitting 5 folds for each of 75 candidates, totalling 375 fits\n"
          ],
          "name": "stdout"
        },
        {
          "output_type": "stream",
          "text": [
            "[Parallel(n_jobs=5)]: Using backend LokyBackend with 5 concurrent workers.\n",
            "[Parallel(n_jobs=5)]: Done  40 tasks      | elapsed:   13.4s\n",
            "[Parallel(n_jobs=5)]: Done 190 tasks      | elapsed:  1.0min\n",
            "[Parallel(n_jobs=5)]: Done 375 out of 375 | elapsed:  2.0min finished\n"
          ],
          "name": "stderr"
        },
        {
          "output_type": "stream",
          "text": [
            "it 5/10\n",
            "{'rep__lambda_': 50, 'rep__nn': 5, 'rep__sigma_initial': 25}\n",
            "acc_ars: 71.53659017686896\n",
            "confusionmatrix_ars \n",
            " [[ 85.  15.]\n",
            " [  0. 100.]]\n",
            "Fitting 5 folds for each of 75 candidates, totalling 375 fits\n"
          ],
          "name": "stdout"
        },
        {
          "output_type": "stream",
          "text": [
            "[Parallel(n_jobs=5)]: Using backend LokyBackend with 5 concurrent workers.\n",
            "[Parallel(n_jobs=5)]: Done  40 tasks      | elapsed:   13.5s\n",
            "[Parallel(n_jobs=5)]: Done 190 tasks      | elapsed:  1.0min\n",
            "[Parallel(n_jobs=5)]: Done 375 out of 375 | elapsed:  2.0min finished\n"
          ],
          "name": "stderr"
        },
        {
          "output_type": "stream",
          "text": [
            "it 5/10\n",
            "{'rep__lambda_': 5, 'rep__nn': 9, 'rep__sigma_initial': 10}\n",
            "acc: 92.5\n",
            "confusionmatrix \n",
            " [[ 85.  15.]\n",
            " [  0. 100.]]\n",
            "it 6/10\n",
            "Fitting 5 folds for each of 75 candidates, totalling 375 fits\n"
          ],
          "name": "stdout"
        },
        {
          "output_type": "stream",
          "text": [
            "[Parallel(n_jobs=5)]: Using backend LokyBackend with 5 concurrent workers.\n",
            "[Parallel(n_jobs=5)]: Done  40 tasks      | elapsed:   14.5s\n",
            "[Parallel(n_jobs=5)]: Done 190 tasks      | elapsed:  1.1min\n",
            "[Parallel(n_jobs=5)]: Done 375 out of 375 | elapsed:  2.1min finished\n"
          ],
          "name": "stderr"
        },
        {
          "output_type": "stream",
          "text": [
            "it 6/10\n",
            "{'rep__lambda_': 5, 'rep__nn': 9, 'rep__sigma_initial': 25}\n",
            "acc_ars: 71.53659017686896\n",
            "confusionmatrix_ars \n",
            " [[ 85.  15.]\n",
            " [  0. 100.]]\n",
            "Fitting 5 folds for each of 75 candidates, totalling 375 fits\n"
          ],
          "name": "stdout"
        },
        {
          "output_type": "stream",
          "text": [
            "[Parallel(n_jobs=5)]: Using backend LokyBackend with 5 concurrent workers.\n",
            "[Parallel(n_jobs=5)]: Done  40 tasks      | elapsed:   13.9s\n",
            "[Parallel(n_jobs=5)]: Done 190 tasks      | elapsed:  1.0min\n",
            "[Parallel(n_jobs=5)]: Done 375 out of 375 | elapsed:  2.0min finished\n"
          ],
          "name": "stderr"
        },
        {
          "output_type": "stream",
          "text": [
            "it 6/10\n",
            "{'rep__lambda_': 30, 'rep__nn': 9, 'rep__sigma_initial': 10}\n",
            "acc: 100.0\n",
            "confusionmatrix \n",
            " [[100.   0.]\n",
            " [  0. 100.]]\n",
            "it 7/10\n",
            "Fitting 5 folds for each of 75 candidates, totalling 375 fits\n"
          ],
          "name": "stdout"
        },
        {
          "output_type": "stream",
          "text": [
            "[Parallel(n_jobs=5)]: Using backend LokyBackend with 5 concurrent workers.\n",
            "[Parallel(n_jobs=5)]: Done  40 tasks      | elapsed:   14.2s\n",
            "[Parallel(n_jobs=5)]: Done 190 tasks      | elapsed:  1.0min\n",
            "[Parallel(n_jobs=5)]: Done 375 out of 375 | elapsed:  2.0min finished\n"
          ],
          "name": "stderr"
        },
        {
          "output_type": "stream",
          "text": [
            "it 7/10\n",
            "{'rep__lambda_': 30, 'rep__nn': 5, 'rep__sigma_initial': 4}\n",
            "acc_ars: 80.50513022888714\n",
            "confusionmatrix_ars \n",
            " [[ 90.  10.]\n",
            " [  0. 100.]]\n",
            "Fitting 5 folds for each of 75 candidates, totalling 375 fits\n"
          ],
          "name": "stdout"
        },
        {
          "output_type": "stream",
          "text": [
            "[Parallel(n_jobs=5)]: Using backend LokyBackend with 5 concurrent workers.\n",
            "[Parallel(n_jobs=5)]: Done  40 tasks      | elapsed:   13.6s\n",
            "[Parallel(n_jobs=5)]: Done 190 tasks      | elapsed:  1.0min\n",
            "[Parallel(n_jobs=5)]: Done 375 out of 375 | elapsed:  2.1min finished\n"
          ],
          "name": "stderr"
        },
        {
          "output_type": "stream",
          "text": [
            "it 7/10\n",
            "{'rep__lambda_': 5, 'rep__nn': 9, 'rep__sigma_initial': 25}\n",
            "acc: 97.5\n",
            "confusionmatrix \n",
            " [[ 95.   5.]\n",
            " [  0. 100.]]\n",
            "it 8/10\n",
            "Fitting 5 folds for each of 75 candidates, totalling 375 fits\n"
          ],
          "name": "stdout"
        },
        {
          "output_type": "stream",
          "text": [
            "[Parallel(n_jobs=5)]: Using backend LokyBackend with 5 concurrent workers.\n",
            "[Parallel(n_jobs=5)]: Done  40 tasks      | elapsed:   13.8s\n",
            "[Parallel(n_jobs=5)]: Done 190 tasks      | elapsed:  1.0min\n",
            "[Parallel(n_jobs=5)]: Done 375 out of 375 | elapsed:  2.1min finished\n"
          ],
          "name": "stderr"
        },
        {
          "output_type": "stream",
          "text": [
            "it 8/10\n",
            "{'rep__lambda_': 10, 'rep__nn': 5, 'rep__sigma_initial': 40}\n",
            "acc_ars: 63.09148264984227\n",
            "confusionmatrix_ars \n",
            " [[100.   0.]\n",
            " [ 20.  80.]]\n",
            "Fitting 5 folds for each of 75 candidates, totalling 375 fits\n"
          ],
          "name": "stdout"
        },
        {
          "output_type": "stream",
          "text": [
            "[Parallel(n_jobs=5)]: Using backend LokyBackend with 5 concurrent workers.\n",
            "[Parallel(n_jobs=5)]: Done  40 tasks      | elapsed:   14.0s\n",
            "[Parallel(n_jobs=5)]: Done 190 tasks      | elapsed:  1.0min\n",
            "[Parallel(n_jobs=5)]: Done 375 out of 375 | elapsed:  2.0min finished\n"
          ],
          "name": "stderr"
        },
        {
          "output_type": "stream",
          "text": [
            "it 8/10\n",
            "{'rep__lambda_': 5, 'rep__nn': 9, 'rep__sigma_initial': 10}\n",
            "acc: 90.0\n",
            "confusionmatrix \n",
            " [[100.   0.]\n",
            " [ 20.  80.]]\n",
            "it 9/10\n",
            "Fitting 5 folds for each of 75 candidates, totalling 375 fits\n"
          ],
          "name": "stdout"
        },
        {
          "output_type": "stream",
          "text": [
            "[Parallel(n_jobs=5)]: Using backend LokyBackend with 5 concurrent workers.\n",
            "[Parallel(n_jobs=5)]: Done  40 tasks      | elapsed:   14.0s\n",
            "[Parallel(n_jobs=5)]: Done 190 tasks      | elapsed:  1.1min\n",
            "[Parallel(n_jobs=5)]: Done 375 out of 375 | elapsed:  2.1min finished\n"
          ],
          "name": "stderr"
        },
        {
          "output_type": "stream",
          "text": [
            "it 9/10\n",
            "{'rep__lambda_': 50, 'rep__nn': 9, 'rep__sigma_initial': 15}\n",
            "acc_ars: 89.99407933688573\n",
            "confusionmatrix_ars \n",
            " [[ 95.   5.]\n",
            " [  0. 100.]]\n",
            "Fitting 5 folds for each of 75 candidates, totalling 375 fits\n"
          ],
          "name": "stdout"
        },
        {
          "output_type": "stream",
          "text": [
            "[Parallel(n_jobs=5)]: Using backend LokyBackend with 5 concurrent workers.\n",
            "[Parallel(n_jobs=5)]: Done  40 tasks      | elapsed:   13.0s\n",
            "[Parallel(n_jobs=5)]: Done 190 tasks      | elapsed:  1.0min\n",
            "[Parallel(n_jobs=5)]: Done 375 out of 375 | elapsed:  2.0min finished\n"
          ],
          "name": "stderr"
        },
        {
          "output_type": "stream",
          "text": [
            "it 9/10\n",
            "{'rep__lambda_': 30, 'rep__nn': 9, 'rep__sigma_initial': 25}\n",
            "acc: 85.0\n",
            "confusionmatrix \n",
            " [[ 70.  30.]\n",
            " [  0. 100.]]\n",
            "it 10/10\n",
            "Fitting 5 folds for each of 75 candidates, totalling 375 fits\n"
          ],
          "name": "stdout"
        },
        {
          "output_type": "stream",
          "text": [
            "[Parallel(n_jobs=5)]: Using backend LokyBackend with 5 concurrent workers.\n",
            "[Parallel(n_jobs=5)]: Done  40 tasks      | elapsed:   13.7s\n",
            "[Parallel(n_jobs=5)]: Done 190 tasks      | elapsed:  1.1min\n",
            "[Parallel(n_jobs=5)]: Done 375 out of 375 | elapsed:  2.1min finished\n"
          ],
          "name": "stderr"
        },
        {
          "output_type": "stream",
          "text": [
            "it 10/10\n",
            "{'rep__lambda_': 50, 'rep__nn': 9, 'rep__sigma_initial': 10}\n",
            "acc_ars: 100.0\n",
            "confusionmatrix_ars \n",
            " [[100.   0.]\n",
            " [  0. 100.]]\n",
            "Fitting 5 folds for each of 75 candidates, totalling 375 fits\n"
          ],
          "name": "stdout"
        },
        {
          "output_type": "stream",
          "text": [
            "[Parallel(n_jobs=5)]: Using backend LokyBackend with 5 concurrent workers.\n",
            "[Parallel(n_jobs=5)]: Done  40 tasks      | elapsed:   13.7s\n",
            "[Parallel(n_jobs=5)]: Done 190 tasks      | elapsed:  1.1min\n",
            "[Parallel(n_jobs=5)]: Done 375 out of 375 | elapsed:  2.1min finished\n"
          ],
          "name": "stderr"
        },
        {
          "output_type": "stream",
          "text": [
            "it 10/10\n",
            "{'rep__lambda_': 15, 'rep__nn': 9, 'rep__sigma_initial': 15}\n",
            "acc: 97.5\n",
            "confusionmatrix \n",
            " [[ 95.   5.]\n",
            " [  0. 100.]]\n",
            "it 1/10\n",
            "Fitting 5 folds for each of 75 candidates, totalling 375 fits\n"
          ],
          "name": "stdout"
        },
        {
          "output_type": "stream",
          "text": [
            "[Parallel(n_jobs=5)]: Using backend LokyBackend with 5 concurrent workers.\n",
            "[Parallel(n_jobs=5)]: Done  40 tasks      | elapsed:   13.7s\n",
            "[Parallel(n_jobs=5)]: Done 190 tasks      | elapsed:  1.1min\n",
            "[Parallel(n_jobs=5)]: Done 375 out of 375 | elapsed:  2.1min finished\n"
          ],
          "name": "stderr"
        },
        {
          "output_type": "stream",
          "text": [
            "it 1/10\n",
            "{'rep__lambda_': 10, 'rep__nn': 9, 'rep__sigma_initial': 10}\n",
            "acc_ars: 47.781569965870304\n",
            "confusionmatrix_ars \n",
            " [[ 70.  30.]\n",
            " [  0. 100.]]\n",
            "Fitting 5 folds for each of 75 candidates, totalling 375 fits\n"
          ],
          "name": "stdout"
        },
        {
          "output_type": "stream",
          "text": [
            "[Parallel(n_jobs=5)]: Using backend LokyBackend with 5 concurrent workers.\n",
            "[Parallel(n_jobs=5)]: Done  40 tasks      | elapsed:   13.8s\n",
            "[Parallel(n_jobs=5)]: Done 190 tasks      | elapsed:  1.1min\n",
            "[Parallel(n_jobs=5)]: Done 375 out of 375 | elapsed:  2.1min finished\n"
          ],
          "name": "stderr"
        },
        {
          "output_type": "stream",
          "text": [
            "it 1/10\n",
            "{'rep__lambda_': 30, 'rep__nn': 9, 'rep__sigma_initial': 25}\n",
            "acc: 97.5\n",
            "confusionmatrix \n",
            " [[ 95.   5.]\n",
            " [  0. 100.]]\n",
            "it 2/10\n",
            "Fitting 5 folds for each of 75 candidates, totalling 375 fits\n"
          ],
          "name": "stdout"
        },
        {
          "output_type": "stream",
          "text": [
            "[Parallel(n_jobs=5)]: Using backend LokyBackend with 5 concurrent workers.\n",
            "[Parallel(n_jobs=5)]: Done  40 tasks      | elapsed:   13.7s\n",
            "[Parallel(n_jobs=5)]: Done 190 tasks      | elapsed:  1.1min\n"
          ],
          "name": "stderr"
        }
      ]
    },
    {
      "cell_type": "markdown",
      "metadata": {
        "id": "WQPjXm2hTwg-",
        "colab_type": "text"
      },
      "source": [
        "**Guardar resultados**"
      ]
    },
    {
      "cell_type": "code",
      "metadata": {
        "id": "t57IuQspDFZm",
        "colab_type": "code",
        "colab": {}
      },
      "source": [
        "namefile = str(datetime.now().strftime(\"%Y_%m_%d_%H_%M_%d\"))+'__results'\n",
        "shutil.make_archive(namefile, 'zip', '/content/PRI')\n",
        "files.download(namefile+'.zip')"
      ],
      "execution_count": 0,
      "outputs": []
    },
    {
      "cell_type": "markdown",
      "metadata": {
        "id": "Bi1TOnAUUGwv",
        "colab_type": "text"
      },
      "source": [
        "**Mostrar resultados**"
      ]
    },
    {
      "cell_type": "markdown",
      "metadata": {
        "id": "eFBgFjOouLZc",
        "colab_type": "text"
      },
      "source": [
        "**Happy**"
      ]
    },
    {
      "cell_type": "markdown",
      "metadata": {
        "id": "jyG8vY4DuOVZ",
        "colab_type": "text"
      },
      "source": [
        "**Accuracy**"
      ]
    },
    {
      "cell_type": "code",
      "metadata": {
        "id": "ElpO4OvqUOj0",
        "colab_type": "code",
        "colab": {}
      },
      "source": [
        "#cargar resultados y graficar promedios por iteraciones\n",
        "## SC\n",
        "SC = load('/content/PRI/happysc.joblib')\n",
        "acc_sc = SC['acc']\n",
        "cmc_sc = SC['confusionmatrix']\n",
        "best_estimators_sc = SC['best_models']\n",
        "best_parameters_sc = SC['best_parameters']\n",
        "## Kmean\n",
        "Knn = load('/content/PRI/happyKnn.joblib')\n",
        "acc_knn = Knn['acc']\n",
        "cmc_knn = Knn['confusionmatrix']\n",
        "best_estimators_knn = Knn['best_models']\n",
        "best_parameters_knn = Knn['best_parameters']\n",
        "## FP\n",
        "FP = load('/content/PRI/happyFP.joblib')\n",
        "acc_fp = FP['acc']\n",
        "cmc_fp = FP['confusionmatrix']\n",
        "best_estimators_fp = FP['best_models']\n",
        "best_parameters_fp = FP['best_parameters']\n",
        "## Mini lotes\n",
        "SGD = load('/content/PRI/happySGD.joblib')\n",
        "acc_sgd = SGD['acc']\n",
        "cmc_sgd = SGD['confusionmatrix']\n",
        "best_estimators_sgd = SGD['best_models']\n",
        "best_parameters_sgd = SGD['best_parameters']\n",
        "## Adam\n",
        "SGDA = load('/content/PRI/happySGDA.joblib')\n",
        "acc_sgda = SGDA['acc']\n",
        "cmc_sgda = SGDA['confusionmatrix']\n",
        "best_estimators_sgda = SGDA['best_models']\n",
        "best_parameters_sgda = SGDA['best_parameters']\n",
        "## Nadam\n",
        "SGDN = load('/content/PRI/happySGDN.joblib')\n",
        "acc_sgdn = SGDN['acc']\n",
        "cmc_sgdn = SGDN['confusionmatrix']\n",
        "best_estimators_sgdn = SGDN['best_models']\n",
        "best_parameters_sgdn = SGDN['best_parameters']"
      ],
      "execution_count": 0,
      "outputs": []
    },
    {
      "cell_type": "markdown",
      "metadata": {
        "id": "rx06OJiAuaY6",
        "colab_type": "text"
      },
      "source": [
        "**Accuracy**"
      ]
    },
    {
      "cell_type": "code",
      "metadata": {
        "id": "08u_rKo_HImI",
        "colab_type": "code",
        "colab": {
          "base_uri": "https://localhost:8080/",
          "height": 68
        },
        "outputId": "188cd64b-b4e1-4c2c-a688-7231bae2a7ed"
      },
      "source": [
        "np.mean(cmc_sc,axis=0)"
      ],
      "execution_count": 35,
      "outputs": [
        {
          "output_type": "execute_result",
          "data": {
            "text/plain": [
              "array([[  0., 100.,   0.],\n",
              "       [  0., 100.,   0.],\n",
              "       [  0.,   0., 100.]])"
            ]
          },
          "metadata": {
            "tags": []
          },
          "execution_count": 35
        }
      ]
    },
    {
      "cell_type": "code",
      "metadata": {
        "id": "BUXZT4p7GbeP",
        "colab_type": "code",
        "colab": {
          "base_uri": "https://localhost:8080/",
          "height": 326
        },
        "outputId": "b0fec947-7d34-4bfb-c0c8-2ce54a0cd887"
      },
      "source": [
        "plot_confusion_matrix_MS(np.mean(cmc_knn,axis=0), np.std(cmc_knn,axis=0), np.unique(labels_happy))\n",
        "plt.title('${Acc}$='+ format(np.mean(acc_knn),'.1f') +'$\\pm$'+ format(np.std(acc_knn),'.1f'))\n",
        "print(best_parameters_knn[0])"
      ],
      "execution_count": 37,
      "outputs": [
        {
          "output_type": "stream",
          "text": [
            "{'rep__n_clusters': 3}\n"
          ],
          "name": "stdout"
        },
        {
          "output_type": "display_data",
          "data": {
            "image/png": "[encoded data removed]",
            "text/plain": [
              "<Figure size 432x288 with 2 Axes>"
            ]
          },
          "metadata": {
            "tags": [],
            "needs_background": "light"
          }
        }
      ]
    },
    {
      "cell_type": "code",
      "metadata": {
        "id": "LWnIQgREGiRV",
        "colab_type": "code",
        "colab": {
          "base_uri": "https://localhost:8080/",
          "height": 330
        },
        "outputId": "12267e5f-bc19-4afb-f69f-37247200e0c7"
      },
      "source": [
        "\n",
        "plot_confusion_matrix_MS(np.mean(cmc_fp,axis=0), np.std(cmc_fp,axis=0), np.unique(labels_happy))\n",
        "plt.title('${Acc}$='+ format(np.mean(acc_fp),'.1f') +'$\\pm$'+ format(np.std(acc_fp),'.1f'))\n",
        "print(best_parameters_fp[0])"
      ],
      "execution_count": 38,
      "outputs": [
        {
          "output_type": "stream",
          "text": [
            "{'rep__lambda_': 50, 'rep__nn': 9, 'rep__sigma_initial': 15}\n"
          ],
          "name": "stdout"
        },
        {
          "output_type": "display_data",
          "data": {
            "image/png": "[encoded data removed]",
            "text/plain": [
              "<Figure size 432x288 with 2 Axes>"
            ]
          },
          "metadata": {
            "tags": [],
            "needs_background": "light"
          }
        }
      ]
    },
    {
      "cell_type": "code",
      "metadata": {
        "id": "7MIpVd0YGkLO",
        "colab_type": "code",
        "colab": {
          "base_uri": "https://localhost:8080/",
          "height": 326
        },
        "outputId": "f060b73d-7145-4a14-fecd-809f325c7a9b"
      },
      "source": [
        "plot_confusion_matrix_MS(np.mean(cmc_sgd,axis=0), np.std(cmc_sgd,axis=0), np.unique(labels_happy))\n",
        "plt.title('${Acc}$='+ format(np.mean(acc_sgd),'.1f') +'$\\pm$'+ format(np.std(acc_sgd),'.1f'))\n",
        "print(best_parameters_sgd[0])"
      ],
      "execution_count": 40,
      "outputs": [
        {
          "output_type": "stream",
          "text": [
            "{'rep__lambda_': 30, 'rep__nn': 9, 'rep__sigma_initial': 10}\n"
          ],
          "name": "stdout"
        },
        {
          "output_type": "display_data",
          "data": {
            "image/png": "[encoded data removed]",
            "text/plain": [
              "<Figure size 432x288 with 2 Axes>"
            ]
          },
          "metadata": {
            "tags": [],
            "needs_background": "light"
          }
        }
      ]
    },
    {
      "cell_type": "code",
      "metadata": {
        "id": "DNO3AhWOGkw8",
        "colab_type": "code",
        "colab": {
          "base_uri": "https://localhost:8080/",
          "height": 330
        },
        "outputId": "4ec3d272-dafc-46cf-e9ac-fdf16f357eca"
      },
      "source": [
        "plot_confusion_matrix_MS(np.mean(cmc_sgda,axis=0), np.std(cmc_sgda,axis=0), np.unique(labels_happy))\n",
        "plt.title('${Acc}$='+ format(np.mean(acc_sgda),'.1f') +'$\\pm$'+ format(np.std(acc_sgda),'.1f'))\n",
        "print(best_parameters_sgda[0])"
      ],
      "execution_count": 42,
      "outputs": [
        {
          "output_type": "stream",
          "text": [
            "{'rep__lambda_': 10, 'rep__nn': 9, 'rep__sigma_initial': 4}\n"
          ],
          "name": "stdout"
        },
        {
          "output_type": "display_data",
          "data": {
            "image/png": "[encoded data removed]",
            "text/plain": [
              "<Figure size 432x288 with 2 Axes>"
            ]
          },
          "metadata": {
            "tags": [],
            "needs_background": "light"
          }
        }
      ]
    },
    {
      "cell_type": "code",
      "metadata": {
        "id": "s-8YBmjXGnQ2",
        "colab_type": "code",
        "colab": {
          "base_uri": "https://localhost:8080/",
          "height": 330
        },
        "outputId": "25e1681f-c427-4b25-e06b-bbf069f223d4"
      },
      "source": [
        "plot_confusion_matrix_MS(np.mean(cmc_sgdn,axis=0), np.std(cmc_sgdn,axis=0), np.unique(labels_happy))\n",
        "plt.title('${Acc}$='+ format(np.mean(acc_sgdn),'.1f') +'$\\pm$'+ format(np.std(acc_sgdn),'.1f'))\n",
        "print(best_parameters_sgdn[0])"
      ],
      "execution_count": 43,
      "outputs": [
        {
          "output_type": "stream",
          "text": [
            "{'rep__lambda_': 5, 'rep__nn': 9, 'rep__sigma_initial': 40}\n"
          ],
          "name": "stdout"
        },
        {
          "output_type": "display_data",
          "data": {
            "image/png": "[encoded data removed]",
            "text/plain": [
              "<Figure size 432x288 with 2 Axes>"
            ]
          },
          "metadata": {
            "tags": [],
            "needs_background": "light"
          }
        }
      ]
    },
    {
      "cell_type": "markdown",
      "metadata": {
        "id": "R1ZJWYg1IAyD",
        "colab_type": "text"
      },
      "source": [
        "**Moons**"
      ]
    },
    {
      "cell_type": "markdown",
      "metadata": {
        "id": "5CHMjDxcIHpm",
        "colab_type": "text"
      },
      "source": [
        "**Accuracy**"
      ]
    },
    {
      "cell_type": "code",
      "metadata": {
        "id": "ze8S-32UIKOP",
        "colab_type": "code",
        "colab": {}
      },
      "source": [
        "#cargar resultados y graficar promedios por iteraciones\n",
        "## SC\n",
        "SC = load('/content/PRI/moonssc.joblib')\n",
        "acc_sc = SC['acc']\n",
        "cmc_sc = SC['confusionmatrix']\n",
        "best_estimators_sc = SC['best_models']\n",
        "best_parameters_sc = SC['best_parameters']\n",
        "## Kmean\n",
        "Knn = load('/content/PRI/moonsKnn.joblib')\n",
        "acc_knn = Knn['acc']\n",
        "cmc_knn = Knn['confusionmatrix']\n",
        "best_estimators_knn = Knn['best_models']\n",
        "best_parameters_knn = Knn['best_parameters']\n",
        "## FP\n",
        "FP = load('/content/PRI/moonsFP.joblib')\n",
        "acc_fp = FP['acc']\n",
        "cmc_fp = FP['confusionmatrix']\n",
        "best_estimators_fp = FP['best_models']\n",
        "best_parameters_fp = FP['best_parameters']\n",
        "## Mini lotes\n",
        "SGD = load('/content/PRI/moonsSGD.joblib')\n",
        "acc_sgd = SGD['acc']\n",
        "cmc_sgd = SGD['confusionmatrix']\n",
        "best_estimators_sgd = SGD['best_models']\n",
        "best_parameters_sgd = SGD['best_parameters']\n",
        "## Adam\n",
        "SGDA = load('/content/PRI/moonsSGDA.joblib')\n",
        "acc_sgda = SGDA['acc']\n",
        "cmc_sgda = SGDA['confusionmatrix']\n",
        "best_estimators_sgda = SGDA['best_models']\n",
        "best_parameters_sgda = SGDA['best_parameters']\n",
        "## Nadam\n",
        "SGDN = load('/content/PRI/moonsSGDN.joblib')\n",
        "acc_sgdn = SGDN['acc']\n",
        "cmc_sgdn = SGDN['confusionmatrix']\n",
        "best_estimators_sgdn = SGDN['best_models']\n",
        "best_parameters_sgdn = SGDN['best_parameters']"
      ],
      "execution_count": 0,
      "outputs": []
    },
    {
      "cell_type": "code",
      "metadata": {
        "id": "RZK05p7JJ9fh",
        "colab_type": "code",
        "colab": {
          "base_uri": "https://localhost:8080/",
          "height": 51
        },
        "outputId": "e2b2e319-d6a7-4149-f30e-56bc4a3bbfb6"
      },
      "source": [
        "np.mean(cmc_sc,axis=0)"
      ],
      "execution_count": 50,
      "outputs": [
        {
          "output_type": "execute_result",
          "data": {
            "text/plain": [
              "array([[100.,   0.],\n",
              "       [  0., 100.]])"
            ]
          },
          "metadata": {
            "tags": []
          },
          "execution_count": 50
        }
      ]
    },
    {
      "cell_type": "code",
      "metadata": {
        "id": "lVexe2uUIaZB",
        "colab_type": "code",
        "colab": {
          "base_uri": "https://localhost:8080/",
          "height": 330
        },
        "outputId": "9562d44c-90a2-4764-8f57-bdfccbe92123"
      },
      "source": [
        "plot_confusion_matrix_MS(np.mean(cmc_knn,axis=0), np.std(cmc_knn,axis=0), np.unique(labels_happy))\n",
        "plt.title('${Acc}$='+ format(np.mean(acc_knn),'.1f') +'$\\pm$'+ format(np.std(acc_knn),'.1f'))\n",
        "print(best_parameters_knn[0])"
      ],
      "execution_count": 45,
      "outputs": [
        {
          "output_type": "stream",
          "text": [
            "{'rep__n_clusters': 2}\n"
          ],
          "name": "stdout"
        },
        {
          "output_type": "display_data",
          "data": {
            "image/png": "[encoded data removed]",
            "text/plain": [
              "<Figure size 432x288 with 2 Axes>"
            ]
          },
          "metadata": {
            "tags": [],
            "needs_background": "light"
          }
        }
      ]
    },
    {
      "cell_type": "code",
      "metadata": {
        "id": "uDuyWs76In6P",
        "colab_type": "code",
        "colab": {
          "base_uri": "https://localhost:8080/",
          "height": 326
        },
        "outputId": "0d7ffef0-a3fd-418c-9e5b-cd7996e7b123"
      },
      "source": [
        "plot_confusion_matrix_MS(np.mean(cmc_fp,axis=0), np.std(cmc_fp,axis=0), np.unique(labels_happy))\n",
        "plt.title('${Acc}$='+ format(np.mean(acc_fp),'.1f') +'$\\pm$'+ format(np.std(acc_fp),'.1f'))\n",
        "print(best_parameters_fp[0])"
      ],
      "execution_count": 46,
      "outputs": [
        {
          "output_type": "stream",
          "text": [
            "{'rep__lambda_': 5, 'rep__nn': 5, 'rep__sigma_initial': 25}\n"
          ],
          "name": "stdout"
        },
        {
          "output_type": "display_data",
          "data": {
            "image/png": "[encoded data removed]",
            "text/plain": [
              "<Figure size 432x288 with 2 Axes>"
            ]
          },
          "metadata": {
            "tags": [],
            "needs_background": "light"
          }
        }
      ]
    },
    {
      "cell_type": "code",
      "metadata": {
        "id": "qO5whm_LIqWj",
        "colab_type": "code",
        "colab": {
          "base_uri": "https://localhost:8080/",
          "height": 330
        },
        "outputId": "b34ddeaa-f0e3-4ec5-af30-f3f9991af778"
      },
      "source": [
        "plot_confusion_matrix_MS(np.mean(cmc_sgd,axis=0), np.std(cmc_sgd,axis=0), np.unique(labels_happy))\n",
        "plt.title('${Acc}$='+ format(np.mean(acc_sgd),'.1f') +'$\\pm$'+ format(np.std(acc_sgd),'.1f'))\n",
        "print(best_parameters_sgd[0])"
      ],
      "execution_count": 47,
      "outputs": [
        {
          "output_type": "stream",
          "text": [
            "{'rep__lambda_': 10, 'rep__nn': 9, 'rep__sigma_initial': 10}\n"
          ],
          "name": "stdout"
        },
        {
          "output_type": "display_data",
          "data": {
            "image/png": "[encoded data removed]",
            "text/plain": [
              "<Figure size 432x288 with 2 Axes>"
            ]
          },
          "metadata": {
            "tags": [],
            "needs_background": "light"
          }
        }
      ]
    },
    {
      "cell_type": "code",
      "metadata": {
        "id": "L5IYkeU8Iu5L",
        "colab_type": "code",
        "colab": {
          "base_uri": "https://localhost:8080/",
          "height": 330
        },
        "outputId": "819d01d0-f1a5-401f-9c58-89cbd41320d5"
      },
      "source": [
        "plot_confusion_matrix_MS(np.mean(cmc_sgda,axis=0), np.std(cmc_sgda,axis=0), np.unique(labels_happy))\n",
        "plt.title('${Acc}$='+ format(np.mean(acc_sgda),'.1f') +'$\\pm$'+ format(np.std(acc_sgda),'.1f'))\n",
        "print(best_parameters_sgda[0])"
      ],
      "execution_count": 48,
      "outputs": [
        {
          "output_type": "stream",
          "text": [
            "{'rep__lambda_': 5, 'rep__nn': 9, 'rep__sigma_initial': 4}\n"
          ],
          "name": "stdout"
        },
        {
          "output_type": "display_data",
          "data": {
            "image/png": "[encoded data removed]",
            "text/plain": [
              "<Figure size 432x288 with 2 Axes>"
            ]
          },
          "metadata": {
            "tags": [],
            "needs_background": "light"
          }
        }
      ]
    },
    {
      "cell_type": "code",
      "metadata": {
        "id": "1-5sakzMIx7v",
        "colab_type": "code",
        "colab": {
          "base_uri": "https://localhost:8080/",
          "height": 326
        },
        "outputId": "207b11fd-dca6-4e46-8a69-d1dd6de209ed"
      },
      "source": [
        "plot_confusion_matrix_MS(np.mean(cmc_sgdn,axis=0), np.std(cmc_sgdn,axis=0), np.unique(labels_happy))\n",
        "plt.title('${Acc}$='+ format(np.mean(acc_sgdn),'.1f') +'$\\pm$'+ format(np.std(acc_sgdn),'.1f'))\n",
        "print(best_parameters_sgdn[0])"
      ],
      "execution_count": 49,
      "outputs": [
        {
          "output_type": "stream",
          "text": [
            "{'rep__lambda_': 10, 'rep__nn': 9, 'rep__sigma_initial': 10}\n"
          ],
          "name": "stdout"
        },
        {
          "output_type": "display_data",
          "data": {
            "image/png": "[encoded data removed]",
            "text/plain": [
              "<Figure size 432x288 with 2 Axes>"
            ]
          },
          "metadata": {
            "tags": [],
            "needs_background": "light"
          }
        }
      ]
    },
    {
      "cell_type": "markdown",
      "metadata": {
        "id": "Yhz3s8X08uA5",
        "colab_type": "text"
      },
      "source": [
        "**Parte 2**"
      ]
    },
    {
      "cell_type": "code",
      "metadata": {
        "id": "j2Gvq1rhRhHE",
        "colab_type": "code",
        "outputId": "62736181-0e79-47a7-e184-1d1f0e16f816",
        "colab": {
          "base_uri": "https://localhost:8080/",
          "height": 288
        }
      },
      "source": [
        "img = cv2.imread('/content/PRI/image.PNG', 0)\n",
        "edges = cv2.Canny(img, 100, 255)\n",
        "indices = np.where(edges != [0])\n",
        "coordinates = zip(indices[0], indices[1])\n",
        "indices=np.asarray(indices).T\n",
        "indices=np.flip(indices)\n",
        "indices[:,1]=abs(indices[:,1]-np.amax(indices))\n",
        "plt.figure(figsize=(10,10))\n",
        "plt.subplot(121)\n",
        "plt.imshow(img, cmap = 'gray')\n",
        "plt.xticks([]), plt.yticks([])  # to hide tick values on X and Y axis\n",
        "plt.subplot(122)\n",
        "plt.imshow(edges, cmap = 'gray')\n",
        "plt.xticks([]), plt.yticks([])  # to hide tick values on X and Y axis\n",
        "plt.show()"
      ],
      "execution_count": 0,
      "outputs": [
        {
          "output_type": "display_data",
          "data": {
            "image/png": "[encoded data removed]",
            "text/plain": [
              "<Figure size 720x720 with 2 Axes>"
            ]
          },
          "metadata": {
            "tags": []
          }
        }
      ]
    },
    {
      "cell_type": "markdown",
      "metadata": {
        "id": "SrVqOs0u_8pf",
        "colab_type": "text"
      },
      "source": [
        "**Punto Fijo**"
      ]
    },
    {
      "cell_type": "code",
      "metadata": {
        "id": "G6wU-CvN_NUo",
        "colab_type": "code",
        "outputId": "d32a78d2-b9bf-4554-e7b6-e0d2a6e3be6f",
        "colab": {
          "base_uri": "https://localhost:8080/",
          "height": 333
        }
      },
      "source": [
        "# ss= reducir el tamaño de muestras originales N veces \n",
        "# PC= criterio de paciencia\n",
        "t = time.time()\n",
        "p = PRI(n_groups=3, lambda_=15, sigma_initial=2, method='FP',\n",
        "        reduction_ = False, max_iter=600,PC=400,ss=8)\n",
        "p.fit(indices)\n",
        "print('el tiempo requerido fue:' + str(time.time() - t) + 'sg')\n",
        "plt.plot(indices[:,0],indices[:,1],'b.')\n",
        "plt.plot(p.cluster_centers_[:,0],p.cluster_centers_[:,1],'r.')"
      ],
      "execution_count": 0,
      "outputs": [
        {
          "output_type": "stream",
          "text": [
            "el tiempo requerido fue:69.46774697303772sg\n"
          ],
          "name": "stdout"
        },
        {
          "output_type": "stream",
          "text": [
            "/content/PRI/main_functions.py:198: RuntimeWarning: divide by zero encountered in log\n",
            "  A = -np.log((1 / N * No) * K1)\n"
          ],
          "name": "stderr"
        },
        {
          "output_type": "execute_result",
          "data": {
            "text/plain": [
              "[<matplotlib.lines.Line2D at 0x7f6afaf29ac8>]"
            ]
          },
          "metadata": {
            "tags": []
          },
          "execution_count": 17
        },
        {
          "output_type": "display_data",
          "data": {
            "image/png": "[encoded data removed]",
            "text/plain": [
              "<Figure size 432x288 with 1 Axes>"
            ]
          },
          "metadata": {
            "tags": [],
            "needs_background": "light"
          }
        }
      ]
    },
    {
      "cell_type": "markdown",
      "metadata": {
        "id": "a4rVPK-wnq2k",
        "colab_type": "text"
      },
      "source": [
        "**SGD por mini lotes**"
      ]
    },
    {
      "cell_type": "code",
      "metadata": {
        "id": "w3IQou4NMxBn",
        "colab_type": "code",
        "outputId": "4dceb6f4-21bc-470d-c37f-9fc0169780be",
        "colab": {
          "base_uri": "https://localhost:8080/",
          "height": 333
        }
      },
      "source": [
        "\n",
        "# PC= criterio de paciencia\n",
        "t = time.time()\n",
        "p = MiniBatchPRI(n_groups=3, lambda_=18, sigma_initial=40, method='SGD',\n",
        "                 reduction_ = False,PC=500,lr=1.1,decay=0.00001,ss=8)\n",
        "p.fit(indices)\n",
        "print('el tiempo requerido fue:' + str(time.time() - t) + 'sg')\n",
        "plt.plot(indices[:,0],indices[:,1],'b.')\n",
        "plt.plot(p.cluster_centers_[:,0],p.cluster_centers_[:,1],'r.')"
      ],
      "execution_count": 0,
      "outputs": [
        {
          "output_type": "stream",
          "text": [
            "el tiempo requerido fue:1.475994348526001sg\n"
          ],
          "name": "stdout"
        },
        {
          "output_type": "stream",
          "text": [
            "/content/PRI/main_functions.py:479: RuntimeWarning: divide by zero encountered in log\n",
            "  A = -np.log((1 / N * No) * K1)\n"
          ],
          "name": "stderr"
        },
        {
          "output_type": "execute_result",
          "data": {
            "text/plain": [
              "[<matplotlib.lines.Line2D at 0x7f6af84a6dd8>]"
            ]
          },
          "metadata": {
            "tags": []
          },
          "execution_count": 57
        },
        {
          "output_type": "display_data",
          "data": {
            "image/png": "[encoded data removed]",
            "text/plain": [
              "<Figure size 432x288 with 1 Axes>"
            ]
          },
          "metadata": {
            "tags": [],
            "needs_background": "light"
          }
        }
      ]
    },
    {
      "cell_type": "markdown",
      "metadata": {
        "id": "RlcODiUYIEP6",
        "colab_type": "text"
      },
      "source": [
        "**Adam**"
      ]
    },
    {
      "cell_type": "code",
      "metadata": {
        "id": "AWTc1HbrIDnN",
        "colab_type": "code",
        "outputId": "ce193f4d-fcef-4ce2-9718-52bcca09b00c",
        "colab": {
          "base_uri": "https://localhost:8080/",
          "height": 333
        }
      },
      "source": [
        "t = time.time()\n",
        "p = MiniBatchPRI(n_groups=3, lambda_=18, sigma_initial=40, method='SGD', optimization='Adam',\n",
        "                 reduction_ = False, PC=500,lr=0.2, decay=0.00001,ss=8)\n",
        "p.fit(indices)\n",
        "\n",
        "print('el tiempo requerido fue:' + str(time.time() - t) + 'sg')\n",
        "plt.plot(indices[:,0],indices[:,1],'b.')\n",
        "plt.plot(p.cluster_centers_[:,0],p.cluster_centers_[:,1],'r.')\n"
      ],
      "execution_count": 0,
      "outputs": [
        {
          "output_type": "stream",
          "text": [
            "/content/PRI/main_functions.py:479: RuntimeWarning: divide by zero encountered in log\n",
            "  A = -np.log((1 / N * No) * K1)\n"
          ],
          "name": "stderr"
        },
        {
          "output_type": "stream",
          "text": [
            "el tiempo requerido fue:1.4350457191467285sg\n"
          ],
          "name": "stdout"
        },
        {
          "output_type": "execute_result",
          "data": {
            "text/plain": [
              "[<matplotlib.lines.Line2D at 0x7f6af73e3048>]"
            ]
          },
          "metadata": {
            "tags": []
          },
          "execution_count": 86
        },
        {
          "output_type": "display_data",
          "data": {
            "image/png": "[encoded data removed]",
            "text/plain": [
              "<Figure size 432x288 with 1 Axes>"
            ]
          },
          "metadata": {
            "tags": [],
            "needs_background": "light"
          }
        }
      ]
    },
    {
      "cell_type": "markdown",
      "metadata": {
        "id": "JBZLDeXvM2Fp",
        "colab_type": "text"
      },
      "source": [
        "**NAdam**"
      ]
    },
    {
      "cell_type": "code",
      "metadata": {
        "id": "TWFvGa-XM1js",
        "colab_type": "code",
        "outputId": "eb956ee4-f5e0-438c-fe22-92019a481628",
        "colab": {
          "base_uri": "https://localhost:8080/",
          "height": 299
        }
      },
      "source": [
        "t = time.time()\n",
        "p = MiniBatchPRI(n_groups=3, lambda_=18, sigma_initial=50, method='SGD', optimization='Nadam',\n",
        "                 reduction_ = False, PC=500,lr=0.1, decay=0.00001,ss=8)\n",
        "p.fit(indices)\n",
        "print('el tiempo requerido fue:' + str(time.time() - t) + 'sg')\n",
        "plt.plot(indices[:,0],indices[:,1],'b.')\n",
        "plt.plot(p.cluster_centers_[:,0],p.cluster_centers_[:,1],'r.')"
      ],
      "execution_count": 0,
      "outputs": [
        {
          "output_type": "stream",
          "text": [
            "el tiempo requerido fue:1.4678702354431152sg\n"
          ],
          "name": "stdout"
        },
        {
          "output_type": "execute_result",
          "data": {
            "text/plain": [
              "[<matplotlib.lines.Line2D at 0x7f6af7c8c208>]"
            ]
          },
          "metadata": {
            "tags": []
          },
          "execution_count": 104
        },
        {
          "output_type": "display_data",
          "data": {
            "image/png": "[encoded data removed]",
            "text/plain": [
              "<Figure size 432x288 with 1 Axes>"
            ]
          },
          "metadata": {
            "tags": [],
            "needs_background": "light"
          }
        }
      ]
    },
    {
      "cell_type": "markdown",
      "metadata": {
        "id": "2TgF1XDz8rFf",
        "colab_type": "text"
      },
      "source": [
        "**Guardar resultados**"
      ]
    },
    {
      "cell_type": "code",
      "metadata": {
        "id": "9_rKgu3kA9Jh",
        "colab_type": "code",
        "colab": {}
      },
      "source": [
        "\n",
        "import shutil\n",
        "from joblib import dump, load\n",
        "from datetime import date, datetime\n",
        "save={'i':indices}\n",
        "dump(save,'/content/PRI/DB2.joblib')\n",
        "namefile = str(datetime.now().strftime(\"%Y_%m_%d_%H_%M_%d\"))+'indices'\n",
        "shutil.make_archive(namefile, 'zip', '/content/PRI')\n",
        "files.download(namefile+'.zip')"
      ],
      "execution_count": 0,
      "outputs": []
    },
    {
      "cell_type": "code",
      "metadata": {
        "id": "N7wtkVJzDQXR",
        "colab_type": "code",
        "colab": {}
      },
      "source": [
        ""
      ],
      "execution_count": 0,
      "outputs": []
    }
  ]
}