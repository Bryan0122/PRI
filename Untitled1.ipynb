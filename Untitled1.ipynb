{
  "nbformat": 4,
  "nbformat_minor": 0,
  "metadata": {
    "colab": {
      "name": "Untitled1.ipynb",
      "provenance": [],
      "authorship_tag": "ABX9TyOc4WKYz/igQf9kG+I33Y7O",
      "include_colab_link": true
    },
    "kernelspec": {
      "name": "python3",
      "display_name": "Python 3"
    }
  },
  "cells": [
    {
      "cell_type": "markdown",
      "metadata": {
        "id": "view-in-github",
        "colab_type": "text"
      },
      "source": [
        "<a href=\"https://colab.research.google.com/github/Bryan0122/PRI/blob/master/Untitled1.ipynb\" target=\"_parent\"><img src=\"https://colab.research.google.com/assets/colab-badge.svg\" alt=\"Open In Colab\"/></a>"
      ]
    },
    {
      "cell_type": "code",
      "metadata": {
        "id": "92ix8RAdcmAd",
        "colab_type": "code",
        "colab": {}
      },
      "source": [
        "import sympy as sp\n",
        "import numpy as np\n"
      ],
      "execution_count": null,
      "outputs": []
    },
    {
      "cell_type": "markdown",
      "metadata": {
        "id": "29Hu8IvnslKv",
        "colab_type": "text"
      },
      "source": [
        "**Señales de energia y potencia**\n",
        "\n",
        "Con el fin de entender la teoria de las señales de energia y potencia es necesario analizar la figura que se muestra a continuacion, en especial el concepto de potencia en presente en el resistor."
      ]
    },
    {
      "cell_type": "markdown",
      "metadata": {
        "id": "wCKGPJ-JQORr",
        "colab_type": "text"
      },
      "source": [
        "![alt text](https://www.electronics-tutorials.ws/wp-content/uploads/2018/05/accircuits-acp77.gif)"
      ]
    },
    {
      "cell_type": "markdown",
      "metadata": {
        "id": "-ymwQRN8SfCf",
        "colab_type": "text"
      },
      "source": [
        "Recordemos que la potencia en el resisitor se describe como:\n",
        "\\\n",
        "$$P(t)=V_{R(t)}*I_{R}$$\n",
        "\\\n",
        "Dando como resultado estas dos posibles opciones\n",
        "\\\n",
        "$$P(t)=\\frac{V(t)^{2}}{R}$$\n",
        "\\\n",
        "ó\n",
        "\\\n",
        "$$P(t)=I(t)^{2}R$$\n",
        "\\\n",
        "Para este caso se tomara como referencia la ultima ecuacion $P(t)=I(t)^{2}R$, adicionalmente por cuestiones de facilidad se asume una resitencia $R=1\\Omega$. Por utlimo se estima la energia total y la potencia promedi, dando como resultado\n",
        "\\\n",
        "$$E=\\int_{- \\infty}^{\\infty}I(t)^{2}dt$$\n",
        "\n",
        "$$P=\\lim_{T->\\infty}\\frac{1}{T}\\int_{- \\frac{T}{2}}^{\\frac{T}{2}}I(t)^{2}dt$$\n",
        "\\\n",
        "Extendiendo el concepto a una señal $x(t)$, las funciones de energia y potencia se establecen como\n",
        "\\\n",
        "$$E=\\int_{- \\infty}^{\\infty}|x(t)|^{2}dt$$\n",
        "\n",
        "$$P=\\lim_{T->\\infty}\\frac{1}{T}\\int_{- \\frac{T}{2}}^{\\frac{T}{2}}|x(t)|^{2}dt$$\n",
        "\\\n",
        "De la anterior generalizacion se puede extraer que \n",
        "\n",
        "\n",
        "1.  $x(t)$ es llamada señal de energia si y solo si $0<E<\\infty$, y la $P=0$\n",
        "2.  $x(t)$ es llamada señal de potencia si y solo si $0<P<\\infty$, lo que implica que $E=\\infty$\n",
        "3.  Las señales que no cumplan con los items anteriores no se conocen ni como señales de energia ni potencia\n",
        "\n"
      ]
    },
    {
      "cell_type": "markdown",
      "metadata": {
        "id": "ZIHCdyD9a_Pz",
        "colab_type": "text"
      },
      "source": [
        "**Ejercicio**"
      ]
    },
    {
      "cell_type": "code",
      "metadata": {
        "id": "sMvSzFvhq1Xo",
        "colab_type": "code",
        "colab": {}
      },
      "source": [
        "# Definir simbolo\n",
        "x=sp.Symbol('x')\n",
        "# generar la funcion\n",
        "f=sin(x)\n",
        "#definir los intervalos de evaluacion, de ser igual a None se asumira Infinito\n",
        "a=None\n",
        "b=None"
      ],
      "execution_count": null,
      "outputs": []
    },
    {
      "cell_type": "markdown",
      "metadata": {
        "id": "aH-ZJ0y9jZyD",
        "colab_type": "text"
      },
      "source": [
        "**Graficar la funcion**"
      ]
    },
    {
      "cell_type": "code",
      "metadata": {
        "id": "1WEzwEv_jmap",
        "colab_type": "code",
        "colab": {
          "base_uri": "https://localhost:8080/",
          "height": 370
        },
        "outputId": "1621e771-b478-42a9-9a82-6ed2e804de75"
      },
      "source": [
        "# En caso de ser None los intervalos se grafica la funcion tendiendo al infinito,recuerde en caso de cambiar la funcion definir los limites en el eje vertical\n",
        "if a==None or b==None:\n",
        "  sp.plot(f,ylim=(-1,1))\n",
        "\n",
        "else:\n",
        "  sp.plot(f,(x,a,b),ylim=(-1,1))\n",
        " "
      ],
      "execution_count": null,
      "outputs": [
        {
          "output_type": "stream",
          "text": [
            "/usr/local/lib/python3.6/dist-packages/sympy/plotting/plot.py:890: MatplotlibDeprecationWarning: \n",
            "The set_smart_bounds function was deprecated in Matplotlib 3.2 and will be removed two minor releases later.\n",
            "  self.ax.spines['left'].set_smart_bounds(True)\n",
            "/usr/local/lib/python3.6/dist-packages/sympy/plotting/plot.py:891: MatplotlibDeprecationWarning: \n",
            "The set_smart_bounds function was deprecated in Matplotlib 3.2 and will be removed two minor releases later.\n",
            "  self.ax.spines['bottom'].set_smart_bounds(False)\n"
          ],
          "name": "stderr"
        },
        {
          "output_type": "display_data",
          "data": {
            "image/png": "[encoded data removed]",
            "text/plain": [
              "<Figure size 432x288 with 1 Axes>"
            ]
          },
          "metadata": {
            "tags": [],
            "needs_background": "light"
          }
        }
      ]
    },
    {
      "cell_type": "markdown",
      "metadata": {
        "id": "d5_vKvx5mxcC",
        "colab_type": "text"
      },
      "source": [
        "**Estimar si la funcion es de energia o potencia**"
      ]
    },
    {
      "cell_type": "code",
      "metadata": {
        "id": "j_gTch6neHvz",
        "colab_type": "code",
        "colab": {}
      },
      "source": [
        "E=integrate(f,(x,-oo,oo))\n",
        "P=\n"
      ],
      "execution_count": null,
      "outputs": []
    }
  ]
}