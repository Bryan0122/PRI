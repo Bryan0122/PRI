{
  "nbformat": 4,
  "nbformat_minor": 0,
  "metadata": {
    "colab": {
      "name": "Untitled1.ipynb",
      "provenance": [],
      "authorship_tag": "ABX9TyNIuZGvvG+XIDMkTXgWX4nM",
      "include_colab_link": true
    },
    "kernelspec": {
      "name": "python3",
      "display_name": "Python 3"
    }
  },
  "cells": [
    {
      "cell_type": "markdown",
      "metadata": {
        "id": "view-in-github",
        "colab_type": "text"
      },
      "source": [
        "<a href=\"https://colab.research.google.com/github/Bryan0122/PRI/blob/master/Untitled1.ipynb\" target=\"_parent\"><img src=\"https://colab.research.google.com/assets/colab-badge.svg\" alt=\"Open In Colab\"/></a>"
      ]
    },
    {
      "cell_type": "markdown",
      "metadata": {
        "id": "Jpn46RFLnJPj",
        "colab_type": "text"
      },
      "source": [
        "**Cargar ibrerias**"
      ]
    },
    {
      "cell_type": "code",
      "metadata": {
        "id": "92ix8RAdcmAd",
        "colab_type": "code",
        "colab": {}
      },
      "source": [
        "import sympy as sp\n",
        "import numpy as np\n"
      ],
      "execution_count": 5,
      "outputs": []
    },
    {
      "cell_type": "markdown",
      "metadata": {
        "id": "29Hu8IvnslKv",
        "colab_type": "text"
      },
      "source": [
        "# **Señales de energia y potencia**\n",
        "\n",
        "Con el fin de entender la teoria de las señales de energia y potencia es necesario analizar la figura que se muestra a continuacion, en especial el concepto de potencia en presente en el resistor."
      ]
    },
    {
      "cell_type": "markdown",
      "metadata": {
        "id": "wCKGPJ-JQORr",
        "colab_type": "text"
      },
      "source": [
        "![alt text](https://www.electronics-tutorials.ws/wp-content/uploads/2018/05/accircuits-acp77.gif)"
      ]
    },
    {
      "cell_type": "markdown",
      "metadata": {
        "id": "-ymwQRN8SfCf",
        "colab_type": "text"
      },
      "source": [
        "Recordemos que la potencia en el resisitor se describe como:\n",
        "\\\n",
        "$$P(t)=V_{R(t)}*I_{R}$$\n",
        "\\\n",
        "Dando como resultado estas dos posibles opciones\n",
        "\\\n",
        "$$P(t)=\\frac{V(t)^{2}}{R}$$\n",
        "\\\n",
        "ó\n",
        "\\\n",
        "$$P(t)=I(t)^{2}R$$\n",
        "\\\n",
        "Para este caso se tomara como referencia la ultima ecuacion $P(t)=I(t)^{2}R$, adicionalmente por cuestiones de facilidad se asume una resitencia $R=1\\Omega$. Por utlimo se estima la energia total y la potencia promedi, dando como resultado\n",
        "\\\n",
        "$$E=\\int_{- \\infty}^{\\infty}I(t)^{2}dt$$\n",
        "\n",
        "$$P=\\lim_{T->\\infty}\\frac{1}{T}\\int_{- \\frac{T}{2}}^{\\frac{T}{2}}I(t)^{2}dt$$\n",
        "\\\n",
        "Extendiendo el concepto a una señal $x(t)$, las funciones de energia y potencia se establecen como\n",
        "\\\n",
        "$$E=\\int_{- \\infty}^{\\infty}|x(t)|^{2}dt$$\n",
        "\n",
        "$$P=\\lim_{T->\\infty}\\frac{1}{T}\\int_{- \\frac{T}{2}}^{\\frac{T}{2}}|x(t)|^{2}dt$$\n",
        "\\\n",
        "De la anterior generalizacion se puede extraer que \n",
        "\n",
        "\n",
        "1.  $x(t)$ es llamada señal de energia si y solo si $0<E<\\infty$, y la $P=0$\n",
        "2.  $x(t)$ es llamada señal de potencia si y solo si $0<P<\\infty$, lo que implica que $E=\\infty$\n",
        "3.  Las señales que no cumplan con los items anteriores no se conocen ni como señales de energia ni potencia\n",
        "\n"
      ]
    },
    {
      "cell_type": "markdown",
      "metadata": {
        "id": "ZIHCdyD9a_Pz",
        "colab_type": "text"
      },
      "source": [
        "**Ejercicio**"
      ]
    },
    {
      "cell_type": "code",
      "metadata": {
        "id": "sMvSzFvhq1Xo",
        "colab_type": "code",
        "colab": {}
      },
      "source": [
        "# Definir simbolo\n",
        "x=sp.Symbol('x')\n",
        "T=sp.Symbol('T')\n",
        "# generar la funcion\n",
        "f=sp.cos(x)\n",
        "#definir los intervalos de evaluacion, de ser igual a None se asumira Infinito\n",
        "a=None\n",
        "b=None"
      ],
      "execution_count": 53,
      "outputs": []
    },
    {
      "cell_type": "markdown",
      "metadata": {
        "id": "aH-ZJ0y9jZyD",
        "colab_type": "text"
      },
      "source": [
        "**Graficar la funcion**"
      ]
    },
    {
      "cell_type": "code",
      "metadata": {
        "id": "1WEzwEv_jmap",
        "colab_type": "code",
        "colab": {
          "base_uri": "https://localhost:8080/",
          "height": 370
        },
        "outputId": "4cfd496b-0084-4658-bcfe-e8c2a45a83a7"
      },
      "source": [
        "# En caso de ser None los intervalos se grafica la funcion tendiendo al infinito,recuerde en caso de cambiar la funcion definir los limites en el eje vertical\n",
        "if a==None or b==None:\n",
        "  sp.plot(f,ylim=(-1,1))\n",
        "\n",
        "else:\n",
        "  sp.plot(f,(x,a,b),ylim=(-1,1))\n",
        " "
      ],
      "execution_count": 54,
      "outputs": [
        {
          "output_type": "stream",
          "text": [
            "/usr/local/lib/python3.6/dist-packages/sympy/plotting/plot.py:890: MatplotlibDeprecationWarning: \n",
            "The set_smart_bounds function was deprecated in Matplotlib 3.2 and will be removed two minor releases later.\n",
            "  self.ax.spines['left'].set_smart_bounds(True)\n",
            "/usr/local/lib/python3.6/dist-packages/sympy/plotting/plot.py:891: MatplotlibDeprecationWarning: \n",
            "The set_smart_bounds function was deprecated in Matplotlib 3.2 and will be removed two minor releases later.\n",
            "  self.ax.spines['bottom'].set_smart_bounds(False)\n"
          ],
          "name": "stderr"
        },
        {
          "output_type": "display_data",
          "data": {
            "image/png": "[encoded data removed]",
            "text/plain": [
              "<Figure size 432x288 with 1 Axes>"
            ]
          },
          "metadata": {
            "tags": [],
            "needs_background": "light"
          }
        }
      ]
    },
    {
      "cell_type": "markdown",
      "metadata": {
        "id": "d5_vKvx5mxcC",
        "colab_type": "text"
      },
      "source": [
        "**Estimar si la funcion es de energia o potencia**"
      ]
    },
    {
      "cell_type": "code",
      "metadata": {
        "id": "j_gTch6neHvz",
        "colab_type": "code",
        "colab": {
          "base_uri": "https://localhost:8080/",
          "height": 70
        },
        "outputId": "c343d455-316f-4b87-9e72-e955653c0f78"
      },
      "source": [
        "# Calculo integral señal de energia \n",
        "E=sp.integrate(f*f,(x,-sp.oo,sp.oo))\n",
        "print('La energia de la señal es:'+str(E))\n",
        "# Calculo integral señal de potencia\n",
        "if a==None or b==None:  \n",
        "  P=sp.limit(1/T*sp.integrate(f*f,(x,-T/2,T/2)),T,sp.oo)\n",
        "else:\n",
        "  P=1/(b-a)*sp.integrate(f*f,(x,-(b-a)/2,(b-a)/2))\n",
        "print('La potencia de la señal es:'+str(P))\n",
        "if 0<E and E<sp.oo and P==0:\n",
        "  print('la funcion es por tanto una señal o secuencia de una señal de energia')\n",
        "elif 0<P and P<sp.oo and E==sp.oo:\n",
        "  print('la funcion es por tanto una señal o secuencia de una señal de potencia')\n",
        "else:\n",
        "  print('la funcion no corresponde a una señal ni de energia ni de potencia')"
      ],
      "execution_count": 59,
      "outputs": [
        {
          "output_type": "stream",
          "text": [
            "La energia de la señal es:oo\n",
            "La potencia de la señal es:1/2\n",
            "la funcion es por tanto una señal o secuencia de una señal de potencia\n"
          ],
          "name": "stdout"
        }
      ]
    },
    {
      "cell_type": "markdown",
      "metadata": {
        "id": "ilJMgX8dxpOD",
        "colab_type": "text"
      },
      "source": [
        "# **Caso especial de analisis**"
      ]
    },
    {
      "cell_type": "markdown",
      "metadata": {
        "id": "hIEE_jhu3Gyc",
        "colab_type": "text"
      },
      "source": [
        "Con el objetivo de darle un rumbo a la tematica propuesta es necesario analizar un caso particular que sucede en estas señales, el cual se refiere a las señales periodicas y su clasificacion dentro de este tipo. Por tal motivo se procede a analizar una señal periodica $x(t)$ con periodo fundamental $T_{o}$, por tanto, recordemos la ecuacion de la potencia promedio dada por:\n",
        "\n",
        "$$P=\\lim_{T->\\infty}\\frac{1}{T}\\int_{- \\frac{T}{2}}^{\\frac{T}{2}}|x(t)|^{2}dt$$\n",
        "\\\n",
        "Al ser una señal periodica la ecuacion anterior puede ser reemplazada por\n",
        "$$P=\\lim_{k->\\infty}\\frac{1}{kT_{o}}k\\int_{0}^{T_{o}}|x(t)|^{2}dt$$\n",
        "\\\n",
        "la anterior ecuacion esta fundamentada en la repeticion de la señal $x(t)$ sobre su periodo fundamental, con la cual se puede hacer una analogia de la formula incial de la potencia llevando esas repeticiones al infinito. Finalmente, al simplificar la ecuacion anterior la potencia promedio da como resultado:  \n",
        "$$P= \\frac{1}{T_{o}}\\int_{0}^{T_{o}}|x(t)|^{2}dt$$\n",
        "\\\n",
        "Por tanto, se puede concluir que la potencia promedio para una señal periodica esta definida sobre el analisis de la potencia en el intervalo del periodo fundamental o en otras paralabras, para las funciones periodicas la potencia promedio es igual\n",
        "$$P=\\lim_{T->\\infty}\\frac{1}{T}\\int_{- \\frac{T}{2}}^{\\frac{T}{2}}|x(t)|^{2}dt=\\frac{1}{T_{o}}\\int_{0}^{T_{o}}|x(t)|^{2}dt$$\n",
        "\\\n",
        "Como conclucion se tiene que una señal periodica es de potencia si la energia contenida en el periodo fundamental es finita. "
      ]
    },
    {
      "cell_type": "markdown",
      "metadata": {
        "id": "BTsH9TubAllS",
        "colab_type": "text"
      },
      "source": [
        "**Ejemplo**\n",
        "\n",
        "Se analizara la señal $x(t)=sin(t)$ con periodo fundamental $T_{o}=2\\pi$. Como se evidencia en el incio del cuaderno (en la parte de programacion), la señal $x(t)=sin(t)$ es identiicada como una señal de potencia. A continuacion, se hara la verificacion matematica de dicha señal, adicionalmente se validara la teoria anterior.\n",
        "1. Energia de la señal\n",
        "$$E=\\int_{\\infty}^{\\infty}sin^{2}(t)dt$$\n",
        "$$E=\\int_{\\infty}^{\\infty}\\frac{1-cos(2t)}{2}dt$$\n",
        "$$E=\\int_{\\infty}^{\\infty}\\frac{1}{2}dt-\\int_{\\infty}^{\\infty}\\frac{cos(2t)}{2}dt$$\n",
        "$$E=\\left |\\frac{t}{2}-\\frac{sin(2t)}{4} \\right |_{-\\infty}^{\\infty}$$\n",
        "$$E=\\infty$$\n",
        "2. Potencia de la señal\n",
        " $$P=\\lim_{T->\\infty}\\frac{1}{T}\\int_{- \\frac{T}{2}}^{\\frac{T}{2}}sin^{2}(t)dt$$\n",
        " $$P=\\lim_{T->\\infty}\\frac{1}{T}\\int_{- \\frac{T}{2}}^{\\frac{T}{2}}\\frac{1-cos(2t)}{2}dt$$\n",
        "$$P=\\lim_{T->\\infty}\\frac{1}{T}\\left (\\int_{- \\frac{T}{2}}^{\\frac{T}{2}}\\frac{1}{2}dt-\\int_{- \\frac{T}{2}}^{\\frac{T}{2}}\\frac{cos(2t)}{2}dt\\right)$$\n",
        "$$P=\\lim_{T->\\infty}\\frac{1}{T}\\left ( \\left | \\frac{t}{2}-\\frac{sin(2t)}{4} \\right |_{-\\frac{T}{2}}^{\\frac{T}{2}} \\right)$$\n",
        "$$P=\\lim_{T->\\infty}\\frac{1}{T}\\left (\\left ( \\frac{T}{4}-\\frac{sin(T)}{4}  \\right)-\\left ( \\frac{-T}{4}-\\frac{sin(-T)}{4}  \\right)\\right)$$\n",
        "$$P=\\lim_{T->\\infty}\\frac{1}{T}\\left ( \\frac{T}{2}-\\frac{sin(T)}{2} \\right)$$\n",
        "$$P=\\lim_{T->\\infty}\\left ( \\frac{1}{2}-\\frac{sin(T)}{2T} \\right)=\\frac{1}{2}-\\lim_{T->\\infty}\\frac{sin(T)}{2T}=\\frac{1}{2}$$\n",
        "\\\n",
        "3. Potencia de la señal con el analisis de periodo fundamental\n",
        "$$P= \\frac{1}{2\\pi}\\int_{0}^{2\\pi}sin^{2}(t)dt$$\n",
        "$$P= \\frac{1}{2\\pi}\\int_{0}^{2\\pi}\\frac{1-cos(2t)}{2}dt$$\n",
        "$$P=\\frac{1}{2\\pi}\\left (\\int_{0}^{2\\pi}\\frac{1}{2}dt-\\int_{0}^{2\\pi}\\frac{cos(2t)}{2}dt\\right)$$\n",
        "$$P=\\frac{1}{2\\pi}\\left |\\frac{t}{2}-\\frac{sin(2t)}{4}\\right|_{0}^{2\\pi}$$\n",
        "$$P=\\frac{1}{2\\pi}\\left (\\frac{2\\pi}{2}-\\frac{sin(4\\pi)}{4}-(0-0)\\right)=\\frac{1}{2}$$\n",
        "\n",
        "Por tal motivo en el ejercicio de progracion la señal $x(t)=sin(t)$ se cataloga como una señal o **secuencia** de una señal de potencia, puesto que su periodo fundamental $T_{o}=2\\pi$ cumple con las caracteristicas establecidas."
      ]
    }
  ]
}