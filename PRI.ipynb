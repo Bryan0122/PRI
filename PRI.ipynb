{
  "nbformat": 4,
  "nbformat_minor": 0,
  "metadata": {
    "colab": {
      "name": "PRI.ipynb",
      "provenance": [],
      "authorship_tag": "ABX9TyMcgeQvPnlJ5x5T0rpe3ep5",
      "include_colab_link": true
    },
    "kernelspec": {
      "name": "python3",
      "display_name": "Python 3"
    }
  },
  "cells": [
    {
      "cell_type": "markdown",
      "metadata": {
        "id": "view-in-github",
        "colab_type": "text"
      },
      "source": [
        "<a href=\"https://colab.research.google.com/github/Bryan0122/PRI/blob/master/PRI.ipynb\" target=\"_parent\"><img src=\"https://colab.research.google.com/assets/colab-badge.svg\" alt=\"Open In Colab\"/></a>"
      ]
    },
    {
      "cell_type": "code",
      "metadata": {
        "id": "6UJHd8BOlI-m",
        "colab_type": "code",
        "colab": {}
      },
      "source": [
        "import sys\n",
        "import numpy as np\n",
        "import math as math\n",
        "import scipy.io as sio\n",
        "import matplotlib.pyplot as plt\n",
        "from scipy.spatial import distance\n",
        "from sklearn.cluster import KMeans, SpectralClustering\n",
        "from scipy.spatial.distance import cdist\n",
        "from sklearn.base import BaseEstimator, TransformerMixin, ClusterMixin\n"
      ],
      "execution_count": 0,
      "outputs": []
    },
    {
      "cell_type": "code",
      "metadata": {
        "id": "r4z9TfcAlHHC",
        "colab_type": "code",
        "colab": {}
      },
      "source": [
        "data = sio.loadmat('DB.mat')['DB'][0, 0]\n",
        "happy = data['happy']\n",
        "sc = SpectralClustering(n_clusters=3, n_neighbors=5, gamma = 1000)\n",
        "sc.fit(happy)\n",
        "labels_happy = sc.labels_\n",
        "# p = PRI(n_groups=3, lambda_=15, sigma_initial=30,\n",
        "#        method = \"SGD\", reduction_ = False, optimization ='Nadam')\n",
        "p = MiniBatchPRI(n_groups = 3, lambda_ = 15,\n",
        "                 sigma_initial = 70, reduction_ = True)\n",
        "data = sio.loadmat('DB.mat')['DB'][0, 0]\n",
        "be_2 = data['happy']\n",
        "p.fit(be_2)\n",
        "p.results()"
      ],
      "execution_count": 0,
      "outputs": []
    }
  ]
}