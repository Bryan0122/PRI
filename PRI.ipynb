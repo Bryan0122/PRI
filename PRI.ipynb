{
  "nbformat": 4,
  "nbformat_minor": 0,
  "metadata": {
    "colab": {
      "name": "PRI.ipynb",
      "provenance": [],
      "toc_visible": true,
      "mount_file_id": "1i7S0n3m5G3YvWmFgx2351dFeiuPKEM1l",
      "authorship_tag": "ABX9TyP/NWxefBO6RuOBd43ndket",
      "include_colab_link": true
    },
    "kernelspec": {
      "name": "python3",
      "display_name": "Python 3"
    }
  },
  "cells": [
    {
      "cell_type": "markdown",
      "metadata": {
        "id": "view-in-github",
        "colab_type": "text"
      },
      "source": [
        "<a href=\"https://colab.research.google.com/github/Bryan0122/PRI/blob/master/PRI.ipynb\" target=\"_parent\"><img src=\"https://colab.research.google.com/assets/colab-badge.svg\" alt=\"Open In Colab\"/></a>"
      ]
    },
    {
      "cell_type": "markdown",
      "metadata": {
        "id": "Du_TqxsvmZFP",
        "colab_type": "text"
      },
      "source": [
        "# **PRI  (Principio de relevancia de informacion)**\n",
        "###  **Parte 1**\n",
        "En esta seccion se derrolla el metodo del PRI con las siguientes metodologias, teniendo en cuenta la formula del PRI que está determinada por:\n",
        "\\\n",
        "$$ L[p(X/X_{o})]= H_{2}(X)+\\lambda D_{cs}(X,X_{o}) $$\n",
        "\\\n",
        "minimizando $L$ respecto $X$ se tiene:\\\n",
        "\\\n",
        "$$ J(X)=min_{x}[H_{2}(X)+ \\lambda (2H_{2}(X,X_{o})-H_{2}(X)-H(X_{o}))]$$\n",
        "\\\n",
        "dado que $H_{2}(X_{o})$ es constante se tiene  \n",
        "\\\n",
        "$$ J(X)=min_{x}[(1-\\lambda)H_{2}(X)+2\\lambda H_{2}(X,X_{o})]$$ \n",
        "\\\n",
        "Antes de realizar la minimizacion se analizan los posibles valores de $\\lambda$ siendo de interes el rango comprendido para $1<\\lambda<\\infty$ , por tanto, se procede con la minimizacion dependiendo de los siguientes casos\n",
        "\\\n",
        "$$J(X)=-(1-\\lambda)log(V(X))-2\\lambda log(V(X,X_{o}))$$\n",
        "\\\n",
        "$$ J(X)= min_{x}[-(1-\\lambda)\\log(\\frac{1}{N^{2}}\\sum_{i=1}^{N}\\sum_{j=1}^{N}G_{\\sigma}(x_{i}-x_{j} ))-2\\lambda\\log(\\frac{1}{NN_{o}}\\sum_{i=1}^{N}\\sum_{j=1}^{N_{o}}G_{\\sigma}(x_{i}-x_{oj})]$$\n",
        "\\\n",
        "$$\\frac{d J(X)}{dx_{k}}=\\frac{2(1-\\lambda)}{V(X)}F(x_{k})+\\frac{2}{V(X,X_{o})}F(x,X_{o})=0$$\n",
        "\\\n",
        "Donde $F(x_{k})$ y $F(x,X_{o})$ estan definidos como:\n",
        "\\\n",
        "$$F(x_{k})=\\frac{-1}{N \\sigma^{2}}\\sum_{j=1}^{N}G_{\\sigma}(x_{k}-x_{j})(x_{k}-x_{j})$$ \n",
        "$$F(x;X_{o})=\\frac{-1}{N_{o} \\sigma^{2}}\\sum_{j=1}^{N_{o}}G_{\\sigma}(x_{k}-x_{oj})(x_{k}-x_{oj})$$ \n",
        "\n",
        "1.   FP (punto Fijo)\n",
        "\\\n",
        "Para esta metodologia se despeja la derivada en terminos de $x_{k}$, dando como resultado:\n",
        "$$\\frac{(1-\\lambda)}{NV(X)}\\sum_{j=1}^{N}G_{\\sigma}(x_{k}-x_{j})(x_{j}-x_{k})=\\frac{\\lambda}{N_{o}V(X,X_{o})}\\sum_{j=1}^{N_{o}}G_{\\sigma}(x_{k}-x_{oj})(x_{k}-x_{oj})$$\n",
        "\\\n",
        "$$x_{k}(n+1)=c\\frac{(1-\\lambda)}{\\lambda}\\frac{\\sum_{j=1}^{N}G_{\\sigma}(x_{k}-x_{j})x_{j}}{\\sum_{j=1}^{N_{o}}G_{\\sigma}(x_{k}-x_{oj})}+\\frac{\\sum_{j=1}^{N_{o}}G_{\\sigma}(x_{k}-x_{oj})x_{oj}}{\\sum_{j=1}^{N_{o}}G_{\\sigma}(x_{k}-x_{oj})}-c\\frac{(1-\\lambda)}{\\lambda}\\frac{\\sum_{j=1}^{N}G_{\\sigma}(x_{k}-x_{j})x_{k}}{\\sum_{j=1}^{N_{o}}G_{\\sigma}(x_{k}-x_{oj})}$$\n",
        "\\\n",
        "Donde el parametro $c$ corresponde a:\n",
        "\\\n",
        "\\\n",
        "$c=\\frac{N_{o}V(X,X_{o})}{NV(X)}$ \n",
        "\n",
        "2.   SGD (Gradiente descendiente estocastico)\n",
        "\\\n",
        "Para esta metogologia el calculo de $x_{k+1}$ esta dado por:\n",
        "\\\n",
        "$$x_{k+1}=x_{k}-\\gamma \\frac{d J(X)}{dx_{k}}$$\n",
        "\\\n",
        "$$x_{k+1}=x_{k}-\\gamma( \\frac{2(1-\\lambda)}{V(X)}F(x_{k})+\\frac{2}{V(X,X_{o})}F(x,X_{o}))$$\n",
        "3.   SGD por mini lotes\n",
        "\n",
        "\n",
        "\n"
      ]
    },
    {
      "cell_type": "markdown",
      "metadata": {
        "id": "5pqieDBx0NUz",
        "colab_type": "text"
      },
      "source": [
        "**Sincronizar el cuaderno de python con el github**"
      ]
    },
    {
      "cell_type": "code",
      "metadata": {
        "id": "vQa0hp9abhFS",
        "colab_type": "code",
        "outputId": "1c009a31-230a-497e-8e98-bfeff0b8926a",
        "colab": {
          "base_uri": "https://localhost:8080/",
          "height": 119
        }
      },
      "source": [
        "!rm -r PRI\n",
        "!git clone https://github.com/Bryan0122/PRI.git"
      ],
      "execution_count": 1,
      "outputs": [
        {
          "output_type": "stream",
          "text": [
            "Cloning into 'PRI'...\n",
            "remote: Enumerating objects: 84, done.\u001b[K\n",
            "remote: Counting objects: 100% (84/84), done.\u001b[K\n",
            "remote: Compressing objects: 100% (81/81), done.\u001b[K\n",
            "remote: Total 84 (delta 32), reused 0 (delta 0), pack-reused 0\u001b[K\n",
            "Unpacking objects: 100% (84/84), done.\n"
          ],
          "name": "stdout"
        }
      ]
    },
    {
      "cell_type": "markdown",
      "metadata": {
        "id": "KBubnvv40XL8",
        "colab_type": "text"
      },
      "source": [
        "**Importar el directorio de el repositorio sincronizado**"
      ]
    },
    {
      "cell_type": "code",
      "metadata": {
        "id": "K261W0x4xWBm",
        "colab_type": "code",
        "colab": {}
      },
      "source": [
        "import os\n",
        "import sys\n",
        "Path='/content/PRI'\n",
        "sys.path.append(Path)\n",
        "DB = os.path.join(Path, 'DB')"
      ],
      "execution_count": 0,
      "outputs": []
    },
    {
      "cell_type": "markdown",
      "metadata": {
        "id": "sr0A8B760joY",
        "colab_type": "text"
      },
      "source": [
        "**Importar las librerias necesarias**"
      ]
    },
    {
      "cell_type": "code",
      "metadata": {
        "id": "6UJHd8BOlI-m",
        "colab_type": "code",
        "colab": {}
      },
      "source": [
        "import numpy as np\n",
        "import math as math\n",
        "import scipy.io as sio\n",
        "from sklearn import datasets\n",
        "import matplotlib.pyplot as plt\n",
        "from scipy.spatial import distance\n",
        "from scipy.spatial.distance import cdist\n",
        "from sklearn.model_selection import GridSearchCV\n",
        "from sklearn.cluster import KMeans, SpectralClustering\n",
        "from main_functions import PRI,MiniBatchPRI,spectralClustering\n",
        "from sklearn.base import BaseEstimator, TransformerMixin, ClusterMixin\n"
      ],
      "execution_count": 0,
      "outputs": []
    },
    {
      "cell_type": "markdown",
      "metadata": {
        "id": "GeqZbRt10o6F",
        "colab_type": "text"
      },
      "source": [
        "**Cargar las bases de datos**"
      ]
    },
    {
      "cell_type": "code",
      "metadata": {
        "id": "S_oeHyFB1CYU",
        "colab_type": "code",
        "colab": {}
      },
      "source": [
        "data=sio.loadmat(DB)['DB'][0,0]\n",
        "be_2=data['be2']\n",
        "sc=SpectralClustering(n_clusters=2,n_neighbors=5,gamma = 1000)\n",
        "sc.fit(be_2)\n",
        "labels_be2=sc.labels_\n",
        "be_3=data['be3']\n",
        "sc=SpectralClustering(n_clusters=3,n_neighbors=5,gamma = 1000)\n",
        "sc.fit(be_3)\n",
        "labels_be3=sc.labels_\n",
        "happy=data['happy']\n",
        "sc=SpectralClustering(n_clusters=3,n_neighbors=5,gamma = 1000)\n",
        "sc.fit(happy)\n",
        "labels_happy=sc.labels_\n",
        "moons,labels_moons = datasets.make_moons(n_samples=300, noise=.05)"
      ],
      "execution_count": 0,
      "outputs": []
    },
    {
      "cell_type": "markdown",
      "metadata": {
        "id": "eet7HqCW1Z_t",
        "colab_type": "text"
      },
      "source": [
        "**Graficar las bases de datos**"
      ]
    },
    {
      "cell_type": "code",
      "metadata": {
        "id": "Nh9S5p7d1eOz",
        "colab_type": "code",
        "outputId": "3e97308e-dcfd-4a3a-c6df-ea1d8e18444f",
        "colab": {
          "base_uri": "https://localhost:8080/",
          "height": 590
        }
      },
      "source": [
        "plt.figure(figsize=(10,10))\n",
        "# BE2\n",
        "ax1=plt.subplot(221)\n",
        "ax1=plt.scatter(be_2[:,0],be_2[:,1],c=labels_be2)\n",
        "ax1=plt.title('Be2')\n",
        "ax1=plt.axis('off')\n",
        "# BE3\n",
        "ax1=plt.subplot(222)\n",
        "ax1=plt.scatter(be_3[:,0],be_3[:,1],c=labels_be3)\n",
        "ax1=plt.title('Be3')\n",
        "ax1=plt.axis('off')\n",
        "# Happy\n",
        "ax2=plt.subplot(223)\n",
        "ax2=plt.scatter(happy[:,0],happy[:,1],c=labels_happy)\n",
        "ax2=plt.title('Happy')\n",
        "ax2=plt.axis('off')\n",
        "# Moons\n",
        "ax3=plt.subplot(224)\n",
        "ax3=plt.scatter(moons[:,0],moons[:,1],c=labels_moons)\n",
        "ax3=plt.title('Moons')\n",
        "ax3=plt.axis('off')\n",
        "plt.show()"
      ],
      "execution_count": 5,
      "outputs": [
        {
          "output_type": "display_data",
          "data": {
            "image/png": "[encoded data removed]",
            "text/plain": [
              "<Figure size 720x720 with 4 Axes>"
            ]
          },
          "metadata": {
            "tags": []
          }
        }
      ]
    },
    {
      "cell_type": "markdown",
      "metadata": {
        "id": "Vup9EGvdiRrt",
        "colab_type": "text"
      },
      "source": [
        "**Seleccion de mejores parametros PRI**"
      ]
    },
    {
      "cell_type": "code",
      "metadata": {
        "id": "d8JQvV_BiXGy",
        "colab_type": "code",
        "colab": {
          "base_uri": "https://localhost:8080/",
          "height": 289
        },
        "outputId": "6691260e-d257-452a-c871-ff37ff0d8a35"
      },
      "source": [
        "# Variables para guardar parametros y puntajes\n",
        "\n",
        "params_fp_ars=[]\n",
        "scores_fp_ars=[]\n",
        "Bscores_fp_ars=[]\n",
        "\n",
        "for X,labels,n_clusters in [[be_2,labels_be2,2],[be_3,labels_be3,3],[happy,labels_happy,3],[moons,labels_moons,2]]:\n",
        "\n",
        "  # Configurar parametros\n",
        "  grid={'lambda_' :[ 15, 30,35,40, 50],'sigma_initial':[10,15,25,35,40,70],'n_groups':[n_clusters],'method':['FP']}\n",
        "\n",
        "  # Primer score\n",
        "  grid_pri_ars=GridSearchCV(PRI(reduction_=True),param_grid=grid, cv=5, scoring='adjusted_rand_score',verbose=1,n_jobs=-1)\n",
        "  grid_pri_ars.fit(X,labels)\n",
        "\n",
        "  params_fp_ars.append(grid_pri_ars.best_params_)\n",
        "  scores_fp_ars.append(grid_pri_ars.cv_results_)\n",
        "  Bscores_fp_ars.append(grid_pri_ars.best_score_)"
      ],
      "execution_count": 6,
      "outputs": [
        {
          "output_type": "stream",
          "text": [
            "Fitting 5 folds for each of 30 candidates, totalling 150 fits\n"
          ],
          "name": "stdout"
        },
        {
          "output_type": "stream",
          "text": [
            "[Parallel(n_jobs=-1)]: Using backend LokyBackend with 2 concurrent workers.\n",
            "[Parallel(n_jobs=-1)]: Done  46 tasks      | elapsed:  3.4min\n",
            "[Parallel(n_jobs=-1)]: Done 150 out of 150 | elapsed: 10.9min finished\n"
          ],
          "name": "stderr"
        },
        {
          "output_type": "stream",
          "text": [
            "Fitting 5 folds for each of 30 candidates, totalling 150 fits\n"
          ],
          "name": "stdout"
        },
        {
          "output_type": "stream",
          "text": [
            "[Parallel(n_jobs=-1)]: Using backend LokyBackend with 2 concurrent workers.\n",
            "[Parallel(n_jobs=-1)]: Done  46 tasks      | elapsed:  2.5min\n",
            "[Parallel(n_jobs=-1)]: Done 150 out of 150 | elapsed:  8.4min finished\n"
          ],
          "name": "stderr"
        },
        {
          "output_type": "stream",
          "text": [
            "Fitting 5 folds for each of 30 candidates, totalling 150 fits\n"
          ],
          "name": "stdout"
        },
        {
          "output_type": "stream",
          "text": [
            "[Parallel(n_jobs=-1)]: Using backend LokyBackend with 2 concurrent workers.\n",
            "[Parallel(n_jobs=-1)]: Done  46 tasks      | elapsed:  1.6min\n",
            "[Parallel(n_jobs=-1)]: Done 150 out of 150 | elapsed:  5.3min finished\n"
          ],
          "name": "stderr"
        },
        {
          "output_type": "stream",
          "text": [
            "Fitting 5 folds for each of 30 candidates, totalling 150 fits\n"
          ],
          "name": "stdout"
        },
        {
          "output_type": "stream",
          "text": [
            "[Parallel(n_jobs=-1)]: Using backend LokyBackend with 2 concurrent workers.\n",
            "[Parallel(n_jobs=-1)]: Done  46 tasks      | elapsed:  1.5min\n",
            "[Parallel(n_jobs=-1)]: Done 150 out of 150 | elapsed:  4.8min finished\n"
          ],
          "name": "stderr"
        }
      ]
    },
    {
      "cell_type": "markdown",
      "metadata": {
        "id": "BRw7VWf55Wdg",
        "colab_type": "text"
      },
      "source": [
        "**Seleccion de mejores parametros SGD**"
      ]
    },
    {
      "cell_type": "code",
      "metadata": {
        "id": "54-SN3lLlFHn",
        "colab_type": "code",
        "colab": {
          "base_uri": "https://localhost:8080/",
          "height": 323
        },
        "outputId": "de7f0d57-4d4d-4e14-f8de-87d3b27504b8"
      },
      "source": [
        "# Variables para guardar parametros y puntajes\n",
        "\n",
        "params_sgd_ars=[]\n",
        "scores_sgd_ars=[]\n",
        "Bscores_sgd_ars=[]\n",
        "\n",
        "for X,labels,n_clusters in [[be_2,labels_be2,2],[be_3,labels_be3,3],[happy,labels_happy,3],[moons,labels_moons,2]]:\n",
        "\n",
        "  # Configurar parametros\n",
        "  grid={'lambda_' :[ 15, 30,35,40, 50],'sigma_initial':[10,15,25,35,40,70],'n_groups':[n_clusters],'method':['SGD'],'t0':[1],'t1':[10000]}\n",
        "\n",
        "  # Primer score\n",
        "  grid_pri_ars=GridSearchCV(PRI(reduction_=True),param_grid=grid, cv=5, scoring='adjusted_rand_score',verbose=1,n_jobs=-1)\n",
        "  grid_pri_ars.fit(X,labels)\n",
        "\n",
        "  params_sgd_ars.append(grid_pri_ars.best_params_)\n",
        "  scores_sgd_ars.append(grid_pri_ars.cv_results_)\n",
        "  Bscores_sgd_ars.append(grid_pri_ars.best_score_)"
      ],
      "execution_count": 7,
      "outputs": [
        {
          "output_type": "stream",
          "text": [
            "Fitting 5 folds for each of 30 candidates, totalling 150 fits\n"
          ],
          "name": "stdout"
        },
        {
          "output_type": "stream",
          "text": [
            "[Parallel(n_jobs=-1)]: Using backend LokyBackend with 2 concurrent workers.\n",
            "[Parallel(n_jobs=-1)]: Done  46 tasks      | elapsed:  4.3min\n",
            "[Parallel(n_jobs=-1)]: Done 150 out of 150 | elapsed: 13.8min finished\n"
          ],
          "name": "stderr"
        },
        {
          "output_type": "stream",
          "text": [
            "Fitting 5 folds for each of 30 candidates, totalling 150 fits\n"
          ],
          "name": "stdout"
        },
        {
          "output_type": "stream",
          "text": [
            "[Parallel(n_jobs=-1)]: Using backend LokyBackend with 2 concurrent workers.\n",
            "[Parallel(n_jobs=-1)]: Done  46 tasks      | elapsed:  2.9min\n",
            "[Parallel(n_jobs=-1)]: Done 150 out of 150 | elapsed:  9.4min finished\n",
            "/content/PRI/main_functions.py:213: RuntimeWarning: divide by zero encountered in log\n",
            "  A = -np.log((1 / N * No) * K1)\n",
            "[Parallel(n_jobs=-1)]: Using backend LokyBackend with 2 concurrent workers.\n"
          ],
          "name": "stderr"
        },
        {
          "output_type": "stream",
          "text": [
            "Fitting 5 folds for each of 30 candidates, totalling 150 fits\n"
          ],
          "name": "stdout"
        },
        {
          "output_type": "stream",
          "text": [
            "[Parallel(n_jobs=-1)]: Done  46 tasks      | elapsed:  1.6min\n",
            "[Parallel(n_jobs=-1)]: Done 150 out of 150 | elapsed:  5.3min finished\n"
          ],
          "name": "stderr"
        },
        {
          "output_type": "stream",
          "text": [
            "Fitting 5 folds for each of 30 candidates, totalling 150 fits\n"
          ],
          "name": "stdout"
        },
        {
          "output_type": "stream",
          "text": [
            "[Parallel(n_jobs=-1)]: Using backend LokyBackend with 2 concurrent workers.\n",
            "[Parallel(n_jobs=-1)]: Done  46 tasks      | elapsed:  1.6min\n",
            "[Parallel(n_jobs=-1)]: Done 150 out of 150 | elapsed:  5.4min finished\n"
          ],
          "name": "stderr"
        }
      ]
    },
    {
      "cell_type": "markdown",
      "metadata": {
        "id": "StjACZIo53UF",
        "colab_type": "text"
      },
      "source": [
        "**Seleccion de mejores parametros SGD+Adam**"
      ]
    },
    {
      "cell_type": "code",
      "metadata": {
        "id": "PErWm-vy5hGh",
        "colab_type": "code",
        "colab": {
          "base_uri": "https://localhost:8080/",
          "height": 323
        },
        "outputId": "6862e7c3-b345-4fd1-a32c-32688f93b11c"
      },
      "source": [
        "# Variables para guardar parametros y puntajes\n",
        "\n",
        "params_sgdA_ars=[]\n",
        "scores_sgdA_ars=[]\n",
        "Bscores_sgdA_ars=[]\n",
        "\n",
        "for X,labels,n_clusters in [[be_2,labels_be2,2],[be_3,labels_be3,3],[happy,labels_happy,3],[moons,labels_moons,2]]:\n",
        "\n",
        "  # Configurar parametros\n",
        "  grid={'lambda_' :[ 15, 30,35,40, 50],'sigma_initial':[10,15,25,35,40,70],'n_groups':[n_clusters],'method':['SGD']}\n",
        "\n",
        "  # Primer score\n",
        "  grid_pri_ars=GridSearchCV(PRI(reduction_=True,optimization='Adam'),param_grid=grid, cv=5, scoring='adjusted_rand_score',verbose=1,n_jobs=-1)\n",
        "  grid_pri_ars.fit(X,labels)\n",
        "\n",
        "  params_sgdA_ars.append(grid_pri_ars.best_params_)\n",
        "  scores_sgdA_ars.append(grid_pri_ars.cv_results_)\n",
        "  Bscores_sgdA_ars.append(grid_pri_ars.best_score_)"
      ],
      "execution_count": 8,
      "outputs": [
        {
          "output_type": "stream",
          "text": [
            "Fitting 5 folds for each of 30 candidates, totalling 150 fits\n"
          ],
          "name": "stdout"
        },
        {
          "output_type": "stream",
          "text": [
            "[Parallel(n_jobs=-1)]: Using backend LokyBackend with 2 concurrent workers.\n",
            "[Parallel(n_jobs=-1)]: Done  46 tasks      | elapsed:  4.0min\n",
            "[Parallel(n_jobs=-1)]: Done 150 out of 150 | elapsed: 13.1min finished\n"
          ],
          "name": "stderr"
        },
        {
          "output_type": "stream",
          "text": [
            "Fitting 5 folds for each of 30 candidates, totalling 150 fits\n"
          ],
          "name": "stdout"
        },
        {
          "output_type": "stream",
          "text": [
            "[Parallel(n_jobs=-1)]: Using backend LokyBackend with 2 concurrent workers.\n",
            "[Parallel(n_jobs=-1)]: Done  46 tasks      | elapsed:  2.8min\n",
            "[Parallel(n_jobs=-1)]: Done 150 out of 150 | elapsed:  9.2min finished\n",
            "/content/PRI/main_functions.py:213: RuntimeWarning: divide by zero encountered in log\n",
            "  A = -np.log((1 / N * No) * K1)\n",
            "[Parallel(n_jobs=-1)]: Using backend LokyBackend with 2 concurrent workers.\n"
          ],
          "name": "stderr"
        },
        {
          "output_type": "stream",
          "text": [
            "Fitting 5 folds for each of 30 candidates, totalling 150 fits\n"
          ],
          "name": "stdout"
        },
        {
          "output_type": "stream",
          "text": [
            "[Parallel(n_jobs=-1)]: Done  46 tasks      | elapsed:  1.7min\n",
            "[Parallel(n_jobs=-1)]: Done 150 out of 150 | elapsed:  5.5min finished\n"
          ],
          "name": "stderr"
        },
        {
          "output_type": "stream",
          "text": [
            "Fitting 5 folds for each of 30 candidates, totalling 150 fits\n"
          ],
          "name": "stdout"
        },
        {
          "output_type": "stream",
          "text": [
            "[Parallel(n_jobs=-1)]: Using backend LokyBackend with 2 concurrent workers.\n",
            "[Parallel(n_jobs=-1)]: Done  46 tasks      | elapsed:  1.7min\n",
            "[Parallel(n_jobs=-1)]: Done 150 out of 150 | elapsed:  5.3min finished\n"
          ],
          "name": "stderr"
        }
      ]
    },
    {
      "cell_type": "markdown",
      "metadata": {
        "id": "lSXCTo4ZRbDV",
        "colab_type": "text"
      },
      "source": [
        "**Seleccion de mejores parametros SGD+Nadam**"
      ]
    },
    {
      "cell_type": "code",
      "metadata": {
        "id": "bjgUGRvgQUjr",
        "colab_type": "code",
        "colab": {
          "base_uri": "https://localhost:8080/",
          "height": 289
        },
        "outputId": "7485e6f1-215c-417c-e563-5aea1a503f37"
      },
      "source": [
        "# Variables para guardar parametros y puntajes\n",
        "\n",
        "params_sgdN_ars=[]\n",
        "scores_sgdN_ars=[]\n",
        "Bscores_sgdN_ars=[]\n",
        "\n",
        "for X,labels,n_clusters in [[be_2,labels_be2,2],[be_3,labels_be3,3],[happy,labels_happy,3],[moons,labels_moons,2]]:\n",
        "\n",
        "  # Configurar parametros\n",
        "  grid={'lambda_' :[ 15, 30,35,40, 50],'sigma_initial':[10,15,25,35,40,70],'n_groups':[n_clusters],'method':['SGD']}\n",
        "\n",
        "  # Primer score\n",
        "  grid_pri_ars=GridSearchCV(PRI(reduction_=True,optimization='Nadam'),param_grid=grid, cv=5, scoring='adjusted_rand_score',verbose=1,n_jobs=-1)\n",
        "  grid_pri_ars.fit(X,labels)\n",
        "\n",
        "  params_sgdN_ars.append(grid_pri_ars.best_params_)\n",
        "  scores_sgdN_ars.append(grid_pri_ars.cv_results_)\n",
        "  Bscores_sgdN_ars.append(grid_pri_ars.best_score_)"
      ],
      "execution_count": 0,
      "outputs": [
        {
          "output_type": "stream",
          "text": [
            "Fitting 5 folds for each of 30 candidates, totalling 150 fits\n"
          ],
          "name": "stdout"
        },
        {
          "output_type": "stream",
          "text": [
            "[Parallel(n_jobs=-1)]: Using backend LokyBackend with 2 concurrent workers.\n",
            "[Parallel(n_jobs=-1)]: Done  46 tasks      | elapsed:  4.0min\n",
            "[Parallel(n_jobs=-1)]: Done 150 out of 150 | elapsed: 13.1min finished\n"
          ],
          "name": "stderr"
        },
        {
          "output_type": "stream",
          "text": [
            "Fitting 5 folds for each of 30 candidates, totalling 150 fits\n"
          ],
          "name": "stdout"
        },
        {
          "output_type": "stream",
          "text": [
            "[Parallel(n_jobs=-1)]: Using backend LokyBackend with 2 concurrent workers.\n",
            "[Parallel(n_jobs=-1)]: Done  46 tasks      | elapsed:  2.9min\n",
            "[Parallel(n_jobs=-1)]: Done 150 out of 150 | elapsed:  9.3min finished\n",
            "/content/PRI/main_functions.py:213: RuntimeWarning: divide by zero encountered in log\n",
            "  A = -np.log((1 / N * No) * K1)\n",
            "[Parallel(n_jobs=-1)]: Using backend LokyBackend with 2 concurrent workers.\n"
          ],
          "name": "stderr"
        },
        {
          "output_type": "stream",
          "text": [
            "Fitting 5 folds for each of 30 candidates, totalling 150 fits\n"
          ],
          "name": "stdout"
        },
        {
          "output_type": "stream",
          "text": [
            "[Parallel(n_jobs=-1)]: Done  46 tasks      | elapsed:  1.7min\n",
            "[Parallel(n_jobs=-1)]: Done 150 out of 150 | elapsed:  5.6min finished\n"
          ],
          "name": "stderr"
        },
        {
          "output_type": "stream",
          "text": [
            "Fitting 5 folds for each of 30 candidates, totalling 150 fits\n"
          ],
          "name": "stdout"
        },
        {
          "output_type": "stream",
          "text": [
            "[Parallel(n_jobs=-1)]: Using backend LokyBackend with 2 concurrent workers.\n"
          ],
          "name": "stderr"
        }
      ]
    },
    {
      "cell_type": "markdown",
      "metadata": {
        "id": "qEckQtMUSUTC",
        "colab_type": "text"
      },
      "source": [
        "**Seleccion de mejores parametros MiniBatch**"
      ]
    },
    {
      "cell_type": "code",
      "metadata": {
        "id": "aJp36r7NRqR4",
        "colab_type": "code",
        "colab": {}
      },
      "source": [
        "params_MB_ars=[]\n",
        "scores_MB_ars=[]\n",
        "Bscores_MB_ars=[]\n",
        "\n",
        "for X,labels,n_clusters in [[be_2,labels_be2,2],[be_3,labels_be3,3],[happy,labels_happy,3],[moons,labels_moons,2]]:\n",
        "\n",
        "  # Configurar parametros\n",
        "  grid={'lambda_' :[ 15, 30,35,40, 50],'sigma_initial':[10,15,25,35,40,70],'n_groups':[n_clusters],'method':['SGD'],'minibatch_size':[8,16,32,64,128]}\n",
        "\n",
        "  # Primer score\n",
        "  grid_pri_ars=GridSearchCV(MiniBatchPRI(reduction_=True),param_grid=grid, cv=5, scoring='adjusted_rand_score',verbose=1,n_jobs=-1)\n",
        "  grid_pri_ars.fit(X,labels)\n",
        "\n",
        "  params_MB_ars.append(grid_pri_ars.best_params_)\n",
        "  scores_MB_ars.append(grid_pri_ars.cv_results_)\n",
        "  Bscores_MB_ars.append(grid_pri_ars.best_score_)"
      ],
      "execution_count": 0,
      "outputs": []
    },
    {
      "cell_type": "markdown",
      "metadata": {
        "id": "-eJV6_6WSbma",
        "colab_type": "text"
      },
      "source": [
        "**Seleccion de mejores parametros MiniBatch+Adam**"
      ]
    },
    {
      "cell_type": "code",
      "metadata": {
        "id": "grcI2o0ESRCe",
        "colab_type": "code",
        "colab": {}
      },
      "source": [
        "params_MBA_ars=[]\n",
        "scores_MBA_ars=[]\n",
        "Bscores_MBA_ars=[]\n",
        "\n",
        "for X,labels,n_clusters in [[be_2,labels_be2,2],[be_3,labels_be3,3],[happy,labels_happy,3],[moons,labels_moons,2]]:\n",
        "\n",
        "  # Configurar parametros\n",
        "  grid={'lambda_' :[ 15, 30,35,40, 50],'sigma_initial':[10,15,25,35,40,70],'n_groups':[n_clusters],'method':['SGD'],'minibatch_size':[8,16,32,64,128]}\n",
        "\n",
        "  # Primer score\n",
        "  grid_pri_ars=GridSearchCV(MiniBatchPRI(reduction_=True,optimization='Adam'),param_grid=grid, cv=5, scoring='adjusted_rand_score',verbose=1,n_jobs=-1)\n",
        "  grid_pri_ars.fit(X,labels)\n",
        "\n",
        "  params_MBA_ars.append(grid_pri_ars.best_params_)\n",
        "  scores_MBA_ars.append(grid_pri_ars.cv_results_)\n",
        "  Bscores_MBA_ars.append(grid_pri_ars.best_score_)"
      ],
      "execution_count": 0,
      "outputs": []
    },
    {
      "cell_type": "markdown",
      "metadata": {
        "id": "2hAfOniYSjyq",
        "colab_type": "text"
      },
      "source": [
        "**Seleccion de mejores parametros MiniBatch+Nadam**"
      ]
    },
    {
      "cell_type": "code",
      "metadata": {
        "id": "ttaos7jQSi8G",
        "colab_type": "code",
        "colab": {}
      },
      "source": [
        "params_MBN_ars=[]\n",
        "scores_MBN_ars=[]\n",
        "Bscores_MBN_ars=[]\n",
        "\n",
        "for X,labels,n_clusters in [[be_2,labels_be2,2],[be_3,labels_be3,3],[happy,labels_happy,3],[moons,labels_moons,2]]:\n",
        "\n",
        "  # Configurar parametros\n",
        "  grid={'lambda_' :[ 15, 30,35,40, 50],'sigma_initial':[10,15,25,35,40,70],'n_groups':[n_clusters],'method':['SGD'],'minibatch_size':[8,16,32,64,128]}\n",
        "\n",
        "  # Primer score\n",
        "  grid_pri_ars=GridSearchCV(MiniBatchPRI(reduction_=True,optimization='Nadam'),param_grid=grid, cv=5, scoring='adjusted_rand_score',verbose=1,n_jobs=-1)\n",
        "  grid_pri_ars.fit(X,labels)\n",
        "\n",
        "  params_MBN_ars.append(grid_pri_ars.best_params_)\n",
        "  scores_MBN_ars.append(grid_pri_ars.cv_results_)\n",
        "  Bscores_MBN_ars.append(grid_pri_ars.best_score_)"
      ],
      "execution_count": 0,
      "outputs": []
    },
    {
      "cell_type": "markdown",
      "metadata": {
        "id": "U5UqzHSwfrWJ",
        "colab_type": "text"
      },
      "source": [
        "**Resultados obtenidos**"
      ]
    },
    {
      "cell_type": "code",
      "metadata": {
        "id": "-bzC2WVISr6p",
        "colab_type": "code",
        "colab": {
          "base_uri": "https://localhost:8080/",
          "height": 513
        },
        "outputId": "ee9c0d36-607c-49c1-8d12-eb857722a88a"
      },
      "source": [
        "R=[['fp',params_fp_ars,Bscores_fp_ars],['sgd',params_sgd_ars,Bscores_sgd_ars],['sgd+Adam',params_sgdA_ars,Bscores_sgdA_ars],['sgd+Nadam',params_sgdN_ars,Bscores_sgdN_ars],['MiniBatch',params_MB_ars,Bscores_sgd_ars],['MiniBatch+Adam',params_MBA_ars,Bscores_sgdA_ars],['MiniBatch+adam',params_MBN_ars,Bscores_sgdN_ars]]\n",
        "for meth,bp,bs in R :\n",
        "  print('los parametros recomendados para '+meth+' son:')\n",
        "  print(bp)\n",
        "  print('con puntaje:')\n",
        "  print(bs)"
      ],
      "execution_count": 15,
      "outputs": [
        {
          "output_type": "stream",
          "text": [
            "los parametros recomendados para fp son:\n",
            "[{'lambda_': 15, 'method': 'FP', 'n_groups': 2, 'sigma_initial': 10}, {'lambda_': 40, 'method': 'FP', 'n_groups': 3, 'sigma_initial': 40}, {'lambda_': 40, 'method': 'FP', 'n_groups': 3, 'sigma_initial': 25}, {'lambda_': 30, 'method': 'FP', 'n_groups': 2, 'sigma_initial': 35}]\n",
            "con puntaje:\n",
            "[0.0, 0.2856807138993992, 0.18697270580185568, 0.17237695719611182]\n",
            "los parametros recomendados para sgd son:\n",
            "[{'lambda_': 15, 'method': 'SGD', 'n_groups': 2, 'sigma_initial': 10, 't0': 1, 't1': 10000}, {'lambda_': 50, 'method': 'SGD', 'n_groups': 3, 'sigma_initial': 15, 't0': 1, 't1': 10000}, {'lambda_': 35, 'method': 'SGD', 'n_groups': 3, 'sigma_initial': 40, 't0': 1, 't1': 10000}, {'lambda_': 40, 'method': 'SGD', 'n_groups': 2, 'sigma_initial': 35, 't0': 1, 't1': 10000}]\n",
            "con puntaje:\n",
            "[0.0, 0.02382930614385508, 0.19773015174908637, 0.12739286780073084]\n",
            "los parametros recomendados para sgd+Adam son:\n",
            "[{'lambda_': 15, 'method': 'SGD', 'n_groups': 2, 'sigma_initial': 10}, {'lambda_': 40, 'method': 'SGD', 'n_groups': 3, 'sigma_initial': 35}, {'lambda_': 35, 'method': 'SGD', 'n_groups': 3, 'sigma_initial': 25}, {'lambda_': 50, 'method': 'SGD', 'n_groups': 2, 'sigma_initial': 25}]\n",
            "con puntaje:\n",
            "[0.0, 0.015126041984380964, 0.18918667323392785, 0.11771544919749588]\n",
            "los parametros recomendados para sgd+Nadam son:\n",
            "[{'lambda_': 15, 'method': 'SGD', 'n_groups': 2, 'sigma_initial': 10}, {'lambda_': 50, 'method': 'SGD', 'n_groups': 3, 'sigma_initial': 15}, {'lambda_': 35, 'method': 'SGD', 'n_groups': 3, 'sigma_initial': 10}, {'lambda_': 40, 'method': 'SGD', 'n_groups': 2, 'sigma_initial': 15}]\n",
            "con puntaje:\n",
            "[0.0, 0.015794612450288806, 0.1919740787168369, 0.12305343289976138]\n",
            "los parametros recomendados para MiniBatch son:\n",
            "[]\n",
            "con puntaje:\n",
            "[0.0, 0.02382930614385508, 0.19773015174908637, 0.12739286780073084]\n",
            "los parametros recomendados para MiniBatch+Adam son:\n",
            "[]\n",
            "con puntaje:\n",
            "[0.0, 0.015126041984380964, 0.18918667323392785, 0.11771544919749588]\n",
            "los parametros recomendados para MiniBatch+adam son:\n",
            "[]\n",
            "con puntaje:\n",
            "[0.0, 0.015794612450288806, 0.1919740787168369, 0.12305343289976138]\n"
          ],
          "name": "stdout"
        }
      ]
    },
    {
      "cell_type": "code",
      "metadata": {
        "id": "SqiYPI6AhhLi",
        "colab_type": "code",
        "colab": {}
      },
      "source": [
        ""
      ],
      "execution_count": 0,
      "outputs": []
    }
  ]
}